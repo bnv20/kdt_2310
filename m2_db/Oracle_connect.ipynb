{
 "cells": [
  {
   "cell_type": "markdown",
   "metadata": {},
   "source": [
    "https://jinisbonusbook.tistory.com/68"
   ]
  },
  {
   "cell_type": "code",
   "execution_count": 1,
   "metadata": {},
   "outputs": [
    {
     "data": {
      "text/plain": [
       "True"
      ]
     },
     "execution_count": 1,
     "metadata": {},
     "output_type": "execute_result"
    }
   ],
   "source": [
    "import webbrowser\n",
    "webbrowser.open('https://truman.tistory.com/102')"
   ]
  },
  {
   "cell_type": "code",
   "execution_count": 3,
   "metadata": {},
   "outputs": [
    {
     "name": "stdout",
     "output_type": "stream",
     "text": [
      "Requirement already satisfied: cx_oracle in c:\\anaconda3\\envs\\cakd5\\lib\\site-packages (8.3.0)\n"
     ]
    }
   ],
   "source": [
    "!pip install cx_oracle"
   ]
  },
  {
   "cell_type": "code",
   "execution_count": 1,
   "metadata": {},
   "outputs": [
    {
     "data": {
      "text/plain": [
       "'(DESCRIPTION=(ADDRESS=(PROTOCOL=TCP)(HOST=localhost)(PORT=1521))(CONNECT_DATA=(SID=xe)))'"
      ]
     },
     "execution_count": 1,
     "metadata": {},
     "output_type": "execute_result"
    }
   ],
   "source": [
    "import cx_Oracle\n",
    "# dsn = cx_Oracle.makedsn('localhost',1521,'xe')\n",
    "dsn = cx_Oracle.makedsn('localhost',1521,'xe')\n",
    "dsn"
   ]
  },
  {
   "cell_type": "code",
   "execution_count": 4,
   "metadata": {},
   "outputs": [
    {
     "data": {
      "text/plain": [
       "<cx_Oracle.Connection to c##CABA@(DESCRIPTION=(ADDRESS=(PROTOCOL=TCP)(HOST=localhost)(PORT=1521))(CONNECT_DATA=(SID=xe)))>"
      ]
     },
     "execution_count": 4,
     "metadata": {},
     "output_type": "execute_result"
    }
   ],
   "source": [
    "db = cx_Oracle.connect(\"c##CABA\",\"CABA\",dsn)\n",
    "db"
   ]
  },
  {
   "cell_type": "code",
   "execution_count": 5,
   "metadata": {},
   "outputs": [],
   "source": [
    "# pdb 연결\n",
    "# connect = cx_Oracle.connect(\"사용자이름\", \"비밀번호\", \"호스트이름:포트/서비스이름\")\n",
    "# cursor = connect.cursor()\n",
    "import cx_Oracle\n",
    "db = cx_Oracle.connect(\"c##CABA\",\"CABA\",\"localhost:1521/xe\")"
   ]
  },
  {
   "cell_type": "code",
   "execution_count": 7,
   "metadata": {},
   "outputs": [
    {
     "data": {
      "text/html": [
       "<div>\n",
       "<style scoped>\n",
       "    .dataframe tbody tr th:only-of-type {\n",
       "        vertical-align: middle;\n",
       "    }\n",
       "\n",
       "    .dataframe tbody tr th {\n",
       "        vertical-align: top;\n",
       "    }\n",
       "\n",
       "    .dataframe thead th {\n",
       "        text-align: right;\n",
       "    }\n",
       "</style>\n",
       "<table border=\"1\" class=\"dataframe\">\n",
       "  <thead>\n",
       "    <tr style=\"text-align: right;\">\n",
       "      <th></th>\n",
       "      <th>0</th>\n",
       "      <th>1</th>\n",
       "      <th>2</th>\n",
       "      <th>3</th>\n",
       "    </tr>\n",
       "  </thead>\n",
       "  <tbody>\n",
       "    <tr>\n",
       "      <th>0</th>\n",
       "      <td>1</td>\n",
       "      <td>박지성</td>\n",
       "      <td>영국 맨체스타</td>\n",
       "      <td>000-5000-0001</td>\n",
       "    </tr>\n",
       "    <tr>\n",
       "      <th>1</th>\n",
       "      <td>2</td>\n",
       "      <td>김연아</td>\n",
       "      <td>대한민국 서울</td>\n",
       "      <td>000-6000-0001</td>\n",
       "    </tr>\n",
       "    <tr>\n",
       "      <th>2</th>\n",
       "      <td>3</td>\n",
       "      <td>장미란</td>\n",
       "      <td>대한민국 강원도</td>\n",
       "      <td>000-7000-0001</td>\n",
       "    </tr>\n",
       "    <tr>\n",
       "      <th>3</th>\n",
       "      <td>4</td>\n",
       "      <td>추신수</td>\n",
       "      <td>미국 클리블랜드</td>\n",
       "      <td>000-8000-0001</td>\n",
       "    </tr>\n",
       "    <tr>\n",
       "      <th>4</th>\n",
       "      <td>5</td>\n",
       "      <td>박세리</td>\n",
       "      <td>대한민국 대전</td>\n",
       "      <td>None</td>\n",
       "    </tr>\n",
       "  </tbody>\n",
       "</table>\n",
       "</div>"
      ],
      "text/plain": [
       "   0    1         2              3\n",
       "0  1  박지성   영국 맨체스타  000-5000-0001\n",
       "1  2  김연아   대한민국 서울  000-6000-0001\n",
       "2  3  장미란  대한민국 강원도  000-7000-0001\n",
       "3  4  추신수  미국 클리블랜드  000-8000-0001\n",
       "4  5  박세리   대한민국 대전           None"
      ]
     },
     "execution_count": 7,
     "metadata": {},
     "output_type": "execute_result"
    }
   ],
   "source": [
    "import pandas as pd\n",
    "cursor = db.cursor()\n",
    "cursor.execute(\"select * from CUSTOMER\")\n",
    "x = cursor.fetchall()\n",
    "df = pd.DataFrame(x)\n",
    "df.head()"
   ]
  },
  {
   "cell_type": "code",
   "execution_count": 15,
   "metadata": {},
   "outputs": [
    {
     "data": {
      "text/html": [
       "<div>\n",
       "<style scoped>\n",
       "    .dataframe tbody tr th:only-of-type {\n",
       "        vertical-align: middle;\n",
       "    }\n",
       "\n",
       "    .dataframe tbody tr th {\n",
       "        vertical-align: top;\n",
       "    }\n",
       "\n",
       "    .dataframe thead th {\n",
       "        text-align: right;\n",
       "    }\n",
       "</style>\n",
       "<table border=\"1\" class=\"dataframe\">\n",
       "  <thead>\n",
       "    <tr style=\"text-align: right;\">\n",
       "      <th></th>\n",
       "      <th>CUSTID</th>\n",
       "      <th>NAME</th>\n",
       "      <th>ADDRESS</th>\n",
       "      <th>PHONE</th>\n",
       "    </tr>\n",
       "  </thead>\n",
       "  <tbody>\n",
       "    <tr>\n",
       "      <th>0</th>\n",
       "      <td>1</td>\n",
       "      <td>박지성</td>\n",
       "      <td>영국 맨체스타</td>\n",
       "      <td>000-5000-0001</td>\n",
       "    </tr>\n",
       "    <tr>\n",
       "      <th>1</th>\n",
       "      <td>2</td>\n",
       "      <td>김연아</td>\n",
       "      <td>대한민국 서울</td>\n",
       "      <td>000-6000-0001</td>\n",
       "    </tr>\n",
       "    <tr>\n",
       "      <th>2</th>\n",
       "      <td>3</td>\n",
       "      <td>장미란</td>\n",
       "      <td>대한민국 강원도</td>\n",
       "      <td>000-7000-0001</td>\n",
       "    </tr>\n",
       "    <tr>\n",
       "      <th>3</th>\n",
       "      <td>4</td>\n",
       "      <td>추신수</td>\n",
       "      <td>미국 클리블랜드</td>\n",
       "      <td>000-8000-0001</td>\n",
       "    </tr>\n",
       "    <tr>\n",
       "      <th>4</th>\n",
       "      <td>5</td>\n",
       "      <td>박세리</td>\n",
       "      <td>대한민국 대전</td>\n",
       "      <td>None</td>\n",
       "    </tr>\n",
       "  </tbody>\n",
       "</table>\n",
       "</div>"
      ],
      "text/plain": [
       "   CUSTID NAME   ADDRESS          PHONE\n",
       "0       1  박지성   영국 맨체스타  000-5000-0001\n",
       "1       2  김연아   대한민국 서울  000-6000-0001\n",
       "2       3  장미란  대한민국 강원도  000-7000-0001\n",
       "3       4  추신수  미국 클리블랜드  000-8000-0001\n",
       "4       5  박세리   대한민국 대전           None"
      ]
     },
     "execution_count": 15,
     "metadata": {},
     "output_type": "execute_result"
    }
   ],
   "source": [
    "# user_tab_columns : 오라클에서 유저(hr)가 가지고 있는 테이블의 컬럼 정보만 가지고 있는 테이블\n",
    "import pandas as pd\n",
    "cursor = db.cursor()\n",
    "cursor.execute(\"select * from CUSTOMER\")\n",
    "x = cursor.fetchall()\n",
    "df = pd.DataFrame(x)\n",
    "cursor.execute(\"\"\"select column_name from user_tab_columns where table_name = 'CUSTOMER'\"\"\")\n",
    "col = cursor.fetchall()\n",
    "col_new = [j for i in col for j in i]\n",
    "df.columns = col_new\n",
    "df.head()"
   ]
  },
  {
   "cell_type": "code",
   "execution_count": 14,
   "metadata": {},
   "outputs": [
    {
     "data": {
      "text/html": [
       "<div>\n",
       "<style scoped>\n",
       "    .dataframe tbody tr th:only-of-type {\n",
       "        vertical-align: middle;\n",
       "    }\n",
       "\n",
       "    .dataframe tbody tr th {\n",
       "        vertical-align: top;\n",
       "    }\n",
       "\n",
       "    .dataframe thead th {\n",
       "        text-align: right;\n",
       "    }\n",
       "</style>\n",
       "<table border=\"1\" class=\"dataframe\">\n",
       "  <thead>\n",
       "    <tr style=\"text-align: right;\">\n",
       "      <th></th>\n",
       "      <th>BOOKID</th>\n",
       "      <th>BOOKNAME</th>\n",
       "      <th>PUBLISHER</th>\n",
       "      <th>PRICE</th>\n",
       "    </tr>\n",
       "  </thead>\n",
       "  <tbody>\n",
       "    <tr>\n",
       "      <th>2</th>\n",
       "      <td>1</td>\n",
       "      <td>축구의 역사</td>\n",
       "      <td>굿스포츠</td>\n",
       "      <td>7000</td>\n",
       "    </tr>\n",
       "    <tr>\n",
       "      <th>3</th>\n",
       "      <td>2</td>\n",
       "      <td>축구아는 여자</td>\n",
       "      <td>나무수</td>\n",
       "      <td>13000</td>\n",
       "    </tr>\n",
       "    <tr>\n",
       "      <th>4</th>\n",
       "      <td>3</td>\n",
       "      <td>축구의 이해</td>\n",
       "      <td>대한미디어</td>\n",
       "      <td>22000</td>\n",
       "    </tr>\n",
       "    <tr>\n",
       "      <th>5</th>\n",
       "      <td>4</td>\n",
       "      <td>골프 바이블</td>\n",
       "      <td>대한미디어</td>\n",
       "      <td>35000</td>\n",
       "    </tr>\n",
       "    <tr>\n",
       "      <th>6</th>\n",
       "      <td>5</td>\n",
       "      <td>피겨 교본</td>\n",
       "      <td>굿스포츠</td>\n",
       "      <td>8000</td>\n",
       "    </tr>\n",
       "  </tbody>\n",
       "</table>\n",
       "</div>"
      ],
      "text/plain": [
       "   BOOKID BOOKNAME PUBLISHER  PRICE\n",
       "2       1   축구의 역사      굿스포츠   7000\n",
       "3       2  축구아는 여자       나무수  13000\n",
       "4       3   축구의 이해     대한미디어  22000\n",
       "5       4   골프 바이블     대한미디어  35000\n",
       "6       5    피겨 교본      굿스포츠   8000"
      ]
     },
     "execution_count": 14,
     "metadata": {},
     "output_type": "execute_result"
    }
   ],
   "source": [
    "cursor.execute('select * from BOOK')\n",
    "x = cursor.fetchall()\n",
    "\n",
    "columns = ['BOOKID','BOOKNAME','PUBLISHER','PRICE']\n",
    "df = pd.DataFrame(x,columns=columns)\n",
    "df1 = df.sort_values('BOOKID')\n",
    "df1.head()"
   ]
  },
  {
   "cell_type": "code",
   "execution_count": 8,
   "metadata": {},
   "outputs": [
    {
     "data": {
      "text/plain": [
       "0                1\n",
       "1              박지성\n",
       "2          영국 맨체스타\n",
       "3    000-5000-0001\n",
       "Name: 0, dtype: object"
      ]
     },
     "execution_count": 8,
     "metadata": {},
     "output_type": "execute_result"
    }
   ],
   "source": [
    "df.iloc[0]"
   ]
  },
  {
   "cell_type": "code",
   "execution_count": 7,
   "metadata": {},
   "outputs": [],
   "source": [
    "cursor.close()\n",
    "db.close()"
   ]
  },
  {
   "cell_type": "code",
   "execution_count": 11,
   "metadata": {},
   "outputs": [],
   "source": [
    "# 오라클에서 사용한것과 같이 create table을 사용하여 테이블을 생성하고 insert into로 값을 넣어준다.\n",
    "\n",
    "cursor.execute(\"create table python(id number)\")\n",
    "cursor.execute(\"insert into python(id) values(1)\")\n",
    "db.commit()"
   ]
  },
  {
   "cell_type": "code",
   "execution_count": 22,
   "metadata": {},
   "outputs": [
    {
     "data": {
      "text/html": [
       "<div>\n",
       "<style scoped>\n",
       "    .dataframe tbody tr th:only-of-type {\n",
       "        vertical-align: middle;\n",
       "    }\n",
       "\n",
       "    .dataframe tbody tr th {\n",
       "        vertical-align: top;\n",
       "    }\n",
       "\n",
       "    .dataframe thead th {\n",
       "        text-align: right;\n",
       "    }\n",
       "</style>\n",
       "<table border=\"1\" class=\"dataframe\">\n",
       "  <thead>\n",
       "    <tr style=\"text-align: right;\">\n",
       "      <th></th>\n",
       "      <th>0</th>\n",
       "      <th>1</th>\n",
       "      <th>2</th>\n",
       "      <th>3</th>\n",
       "      <th>4</th>\n",
       "      <th>5</th>\n",
       "      <th>6</th>\n",
       "      <th>7</th>\n",
       "      <th>8</th>\n",
       "      <th>9</th>\n",
       "      <th>10</th>\n",
       "    </tr>\n",
       "  </thead>\n",
       "  <tbody>\n",
       "    <tr>\n",
       "      <th>0</th>\n",
       "      <td>100</td>\n",
       "      <td>Steven</td>\n",
       "      <td>King</td>\n",
       "      <td>SKING</td>\n",
       "      <td>515.123.4567</td>\n",
       "      <td>2003-06-17</td>\n",
       "      <td>AD_PRES</td>\n",
       "      <td>24000.0</td>\n",
       "      <td>NaN</td>\n",
       "      <td>NaN</td>\n",
       "      <td>90.0</td>\n",
       "    </tr>\n",
       "    <tr>\n",
       "      <th>1</th>\n",
       "      <td>101</td>\n",
       "      <td>Neena</td>\n",
       "      <td>Kochhar</td>\n",
       "      <td>NKOCHHAR</td>\n",
       "      <td>515.123.4568</td>\n",
       "      <td>2005-09-21</td>\n",
       "      <td>AD_VP</td>\n",
       "      <td>17000.0</td>\n",
       "      <td>NaN</td>\n",
       "      <td>100.0</td>\n",
       "      <td>90.0</td>\n",
       "    </tr>\n",
       "    <tr>\n",
       "      <th>2</th>\n",
       "      <td>102</td>\n",
       "      <td>Lex</td>\n",
       "      <td>De Haan</td>\n",
       "      <td>LDEHAAN</td>\n",
       "      <td>515.123.4569</td>\n",
       "      <td>2001-01-13</td>\n",
       "      <td>AD_VP</td>\n",
       "      <td>17000.0</td>\n",
       "      <td>NaN</td>\n",
       "      <td>100.0</td>\n",
       "      <td>90.0</td>\n",
       "    </tr>\n",
       "    <tr>\n",
       "      <th>3</th>\n",
       "      <td>103</td>\n",
       "      <td>Alexander</td>\n",
       "      <td>Hunold</td>\n",
       "      <td>AHUNOLD</td>\n",
       "      <td>590.423.4567</td>\n",
       "      <td>2006-01-03</td>\n",
       "      <td>IT_PROG</td>\n",
       "      <td>9000.0</td>\n",
       "      <td>NaN</td>\n",
       "      <td>102.0</td>\n",
       "      <td>60.0</td>\n",
       "    </tr>\n",
       "    <tr>\n",
       "      <th>4</th>\n",
       "      <td>104</td>\n",
       "      <td>Bruce</td>\n",
       "      <td>Ernst</td>\n",
       "      <td>BERNST</td>\n",
       "      <td>590.423.4568</td>\n",
       "      <td>2007-05-21</td>\n",
       "      <td>IT_PROG</td>\n",
       "      <td>6000.0</td>\n",
       "      <td>NaN</td>\n",
       "      <td>103.0</td>\n",
       "      <td>60.0</td>\n",
       "    </tr>\n",
       "  </tbody>\n",
       "</table>\n",
       "</div>"
      ],
      "text/plain": [
       "    0          1        2         3             4          5        6   \\\n",
       "0  100     Steven     King     SKING  515.123.4567 2003-06-17  AD_PRES   \n",
       "1  101      Neena  Kochhar  NKOCHHAR  515.123.4568 2005-09-21    AD_VP   \n",
       "2  102        Lex  De Haan   LDEHAAN  515.123.4569 2001-01-13    AD_VP   \n",
       "3  103  Alexander   Hunold   AHUNOLD  590.423.4567 2006-01-03  IT_PROG   \n",
       "4  104      Bruce    Ernst    BERNST  590.423.4568 2007-05-21  IT_PROG   \n",
       "\n",
       "        7   8      9     10  \n",
       "0  24000.0 NaN    NaN  90.0  \n",
       "1  17000.0 NaN  100.0  90.0  \n",
       "2  17000.0 NaN  100.0  90.0  \n",
       "3   9000.0 NaN  102.0  60.0  \n",
       "4   6000.0 NaN  103.0  60.0  "
      ]
     },
     "execution_count": 22,
     "metadata": {},
     "output_type": "execute_result"
    }
   ],
   "source": [
    "# 오라클 DB에서 불러온 테이블을 데이터 프레임 형식으로 확인해보면 컬럼이 없는것을 확인할 수 있다.\n",
    "import pandas as pd\n",
    "\n",
    "db = cx_Oracle.connect(\"HR\",\"HR\",\"localhost:1521/xe\")\n",
    "cursor = db.cursor()\n",
    "cursor.execute(\"select * from employees\")\n",
    "x = cursor.fetchall()\n",
    "df = pd.DataFrame(x)\n",
    "df.head()"
   ]
  },
  {
   "cell_type": "code",
   "execution_count": 23,
   "metadata": {},
   "outputs": [
    {
     "data": {
      "text/plain": [
       "Index([   ('EMPLOYEE_ID',),     ('FIRST_NAME',),      ('LAST_NAME',),\n",
       "                ('EMAIL',),   ('PHONE_NUMBER',),      ('HIRE_DATE',),\n",
       "               ('JOB_ID',),         ('SALARY',), ('COMMISSION_PCT',),\n",
       "           ('MANAGER_ID',),  ('DEPARTMENT_ID',)],\n",
       "      dtype='object')"
      ]
     },
     "execution_count": 23,
     "metadata": {},
     "output_type": "execute_result"
    }
   ],
   "source": [
    "# user_tab_columns : 오라클에서 유저(hr)가 가지고 있는 테이블의 컬럼 정보만 가지고 있는 테이블\n",
    "\n",
    "cursor.execute(\"\"\"select column_name from user_tab_columns where table_name = 'EMPLOYEES'\"\"\")\n",
    "\n",
    "col = cursor.fetchall()\n",
    "df.columns = col\n",
    "df.columns"
   ]
  },
  {
   "cell_type": "code",
   "execution_count": 24,
   "metadata": {},
   "outputs": [
    {
     "data": {
      "text/html": [
       "<div>\n",
       "<style scoped>\n",
       "    .dataframe tbody tr th:only-of-type {\n",
       "        vertical-align: middle;\n",
       "    }\n",
       "\n",
       "    .dataframe tbody tr th {\n",
       "        vertical-align: top;\n",
       "    }\n",
       "\n",
       "    .dataframe thead th {\n",
       "        text-align: right;\n",
       "    }\n",
       "</style>\n",
       "<table border=\"1\" class=\"dataframe\">\n",
       "  <thead>\n",
       "    <tr style=\"text-align: right;\">\n",
       "      <th></th>\n",
       "      <th>EMPLOYEE_ID</th>\n",
       "      <th>FIRST_NAME</th>\n",
       "      <th>LAST_NAME</th>\n",
       "      <th>EMAIL</th>\n",
       "      <th>PHONE_NUMBER</th>\n",
       "      <th>HIRE_DATE</th>\n",
       "      <th>JOB_ID</th>\n",
       "      <th>SALARY</th>\n",
       "      <th>COMMISSION_PCT</th>\n",
       "      <th>MANAGER_ID</th>\n",
       "      <th>DEPARTMENT_ID</th>\n",
       "    </tr>\n",
       "  </thead>\n",
       "  <tbody>\n",
       "    <tr>\n",
       "      <th>0</th>\n",
       "      <td>100</td>\n",
       "      <td>Steven</td>\n",
       "      <td>King</td>\n",
       "      <td>SKING</td>\n",
       "      <td>515.123.4567</td>\n",
       "      <td>2003-06-17</td>\n",
       "      <td>AD_PRES</td>\n",
       "      <td>24000.0</td>\n",
       "      <td>NaN</td>\n",
       "      <td>NaN</td>\n",
       "      <td>90.0</td>\n",
       "    </tr>\n",
       "    <tr>\n",
       "      <th>1</th>\n",
       "      <td>101</td>\n",
       "      <td>Neena</td>\n",
       "      <td>Kochhar</td>\n",
       "      <td>NKOCHHAR</td>\n",
       "      <td>515.123.4568</td>\n",
       "      <td>2005-09-21</td>\n",
       "      <td>AD_VP</td>\n",
       "      <td>17000.0</td>\n",
       "      <td>NaN</td>\n",
       "      <td>100.0</td>\n",
       "      <td>90.0</td>\n",
       "    </tr>\n",
       "    <tr>\n",
       "      <th>2</th>\n",
       "      <td>102</td>\n",
       "      <td>Lex</td>\n",
       "      <td>De Haan</td>\n",
       "      <td>LDEHAAN</td>\n",
       "      <td>515.123.4569</td>\n",
       "      <td>2001-01-13</td>\n",
       "      <td>AD_VP</td>\n",
       "      <td>17000.0</td>\n",
       "      <td>NaN</td>\n",
       "      <td>100.0</td>\n",
       "      <td>90.0</td>\n",
       "    </tr>\n",
       "    <tr>\n",
       "      <th>3</th>\n",
       "      <td>103</td>\n",
       "      <td>Alexander</td>\n",
       "      <td>Hunold</td>\n",
       "      <td>AHUNOLD</td>\n",
       "      <td>590.423.4567</td>\n",
       "      <td>2006-01-03</td>\n",
       "      <td>IT_PROG</td>\n",
       "      <td>9000.0</td>\n",
       "      <td>NaN</td>\n",
       "      <td>102.0</td>\n",
       "      <td>60.0</td>\n",
       "    </tr>\n",
       "    <tr>\n",
       "      <th>4</th>\n",
       "      <td>104</td>\n",
       "      <td>Bruce</td>\n",
       "      <td>Ernst</td>\n",
       "      <td>BERNST</td>\n",
       "      <td>590.423.4568</td>\n",
       "      <td>2007-05-21</td>\n",
       "      <td>IT_PROG</td>\n",
       "      <td>6000.0</td>\n",
       "      <td>NaN</td>\n",
       "      <td>103.0</td>\n",
       "      <td>60.0</td>\n",
       "    </tr>\n",
       "  </tbody>\n",
       "</table>\n",
       "</div>"
      ],
      "text/plain": [
       "   EMPLOYEE_ID FIRST_NAME LAST_NAME     EMAIL  PHONE_NUMBER  HIRE_DATE  \\\n",
       "0          100     Steven      King     SKING  515.123.4567 2003-06-17   \n",
       "1          101      Neena   Kochhar  NKOCHHAR  515.123.4568 2005-09-21   \n",
       "2          102        Lex   De Haan   LDEHAAN  515.123.4569 2001-01-13   \n",
       "3          103  Alexander    Hunold   AHUNOLD  590.423.4567 2006-01-03   \n",
       "4          104      Bruce     Ernst    BERNST  590.423.4568 2007-05-21   \n",
       "\n",
       "    JOB_ID   SALARY  COMMISSION_PCT  MANAGER_ID  DEPARTMENT_ID  \n",
       "0  AD_PRES  24000.0             NaN         NaN           90.0  \n",
       "1    AD_VP  17000.0             NaN       100.0           90.0  \n",
       "2    AD_VP  17000.0             NaN       100.0           90.0  \n",
       "3  IT_PROG   9000.0             NaN       102.0           60.0  \n",
       "4  IT_PROG   6000.0             NaN       103.0           60.0  "
      ]
     },
     "execution_count": 24,
     "metadata": {},
     "output_type": "execute_result"
    }
   ],
   "source": [
    "# 튜플이 내장된 리스트 형식에서 값만 뽑아내기 \n",
    "\n",
    "col_new = [j for i in col for j in i]\n",
    "df.columns = col_new\n",
    "df.head()"
   ]
  }
 ],
 "metadata": {
  "kernelspec": {
   "display_name": "Python 3 (ipykernel)",
   "language": "python",
   "name": "python3"
  },
  "language_info": {
   "codemirror_mode": {
    "name": "ipython",
    "version": 3
   },
   "file_extension": ".py",
   "mimetype": "text/x-python",
   "name": "python",
   "nbconvert_exporter": "python",
   "pygments_lexer": "ipython3",
   "version": "3.8.13"
  }
 },
 "nbformat": 4,
 "nbformat_minor": 4
}
