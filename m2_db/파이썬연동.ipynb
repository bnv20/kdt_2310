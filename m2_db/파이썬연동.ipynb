{
 "cells": [
  {
   "cell_type": "code",
   "execution_count": 2,
   "id": "12b34ed6",
   "metadata": {},
   "outputs": [
    {
     "name": "stdout",
     "output_type": "stream",
     "text": [
      "Collecting cx_Oracle\n",
      "  Downloading cx_Oracle-8.3.0-cp310-cp310-win_amd64.whl (213 kB)\n",
      "     ---------------------------------------- 0.0/213.1 kB ? eta -:--:--\n",
      "     - -------------------------------------- 10.2/213.1 kB ? eta -:--:--\n",
      "     ------------------------------------ - 204.8/213.1 kB 3.1 MB/s eta 0:00:01\n",
      "     -------------------------------------- 213.1/213.1 kB 2.6 MB/s eta 0:00:00\n",
      "Installing collected packages: cx_Oracle\n",
      "Successfully installed cx_Oracle-8.3.0\n",
      "Note: you may need to restart the kernel to use updated packages.\n"
     ]
    }
   ],
   "source": [
    "pip install cx_Oracle"
   ]
  },
  {
   "cell_type": "code",
   "execution_count": 1,
   "id": "b8dd5105",
   "metadata": {
    "id": "b8dd5105"
   },
   "outputs": [
    {
     "name": "stdout",
     "output_type": "stream",
     "text": [
      "   EMPLOYEE_ID FIRST_NAME  LAST_NAME     EMAIL  PHONE_NUMBER  HIRE_DATE  \\\n",
      "0          198     Donald   OConnell  DOCONNEL  650.507.9833 2007-06-21   \n",
      "1          199    Douglas      Grant    DGRANT  650.507.9844 2008-01-13   \n",
      "2          200   Jennifer     Whalen   JWHALEN  515.123.4444 2003-09-17   \n",
      "3          201    Michael  Hartstein  MHARTSTE  515.123.5555 2004-02-17   \n",
      "4          202        Pat        Fay      PFAY  603.123.6666 2005-08-17   \n",
      "\n",
      "     JOB_ID   SALARY  COMMISSION_PCT  MANAGER_ID  DEPARTMENT_ID  \n",
      "0  SH_CLERK   2600.0             NaN       124.0           50.0  \n",
      "1  SH_CLERK   2600.0             NaN       124.0           50.0  \n",
      "2   AD_ASST   4400.0             NaN       101.0           10.0  \n",
      "3    MK_MAN  13000.0             NaN       100.0           20.0  \n",
      "4    MK_REP   6000.0             NaN       201.0           20.0  \n"
     ]
    }
   ],
   "source": [
    "# 데이터프레임으로 불러오기\n",
    "import cx_Oracle\n",
    "import pandas as pd\n",
    "con = cx_Oracle.connect(\"c##KITA\",\"KITA\",\"localhost:1521/xe\")\n",
    "cur = con.cursor()\n",
    "cur.execute('select * from EMPLOYEES')\n",
    "res = cur.fetchall()\n",
    "df = pd.DataFrame(res)\n",
    "cur.execute(\"select column_name from user_tab_columns where table_name='EMPLOYEES'\")\n",
    "col = cur.fetchall()\n",
    "li = []\n",
    "for i in col:\n",
    "    for j in i:\n",
    "        li.append(j)\n",
    "df.columns = li\n",
    "print(df.head())\n",
    "cur.close()\n",
    "con.close()"
   ]
  },
  {
   "cell_type": "code",
   "execution_count": 3,
   "id": "ad75fdb8",
   "metadata": {
    "id": "ad75fdb8"
   },
   "outputs": [],
   "source": [
    "# create\n",
    "import cx_Oracle\n",
    "conn = cx_Oracle.connect(\"c##KITA\",\"KITA\",\"localhost:1521/xe\")\n",
    "cs = conn.cursor()\n",
    "sql = \"create table sample3(id varchar2(10), score number)\"\n",
    "cs.execute(sql)\n",
    "cs.close()\n",
    "conn.commit()\n",
    "conn.close()"
   ]
  },
  {
   "cell_type": "code",
   "execution_count": 4,
   "id": "aff72ccb",
   "metadata": {
    "id": "aff72ccb"
   },
   "outputs": [],
   "source": [
    "# insert\n",
    "conn = cx_Oracle.connect(\"c##KITA\",\"KITA\",\"localhost:1521/xe\")\n",
    "cs = conn.cursor()\n",
    "sql = \"insert into sample3 (id, score) values (1, 100)\"\n",
    "cs.execute(sql)\n",
    "cs.close()\n",
    "conn.commit()\n",
    "conn.close()\n"
   ]
  },
  {
   "cell_type": "code",
   "execution_count": 5,
   "id": "be126fc0",
   "metadata": {
    "id": "be126fc0"
   },
   "outputs": [],
   "source": [
    "# update\n",
    "\n",
    "con = cx_Oracle.connect(\"c##KITA\",\"KITA\",\"localhost:1521/xe\")\n",
    "cs = con.cursor()\n",
    "sql = \"update SAMPLE3 set id='1' where score=200\"\n",
    "cs.execute(sql)\n",
    "cs.close()\n",
    "con.commit()\n",
    "con.close()\n"
   ]
  },
  {
   "cell_type": "code",
   "execution_count": 6,
   "id": "34b3eb30",
   "metadata": {
    "id": "34b3eb30"
   },
   "outputs": [],
   "source": [
    "# delete\n",
    "\n",
    "con = cx_Oracle.connect(\"c##KITA\",\"KITA\",\"localhost:1521/xe\")\n",
    "cs = con.cursor()\n",
    "sql = \" delete from sample3 where score=1\"\n",
    "cs.execute(sql)\n",
    "cs.close()\n",
    "con.commit()\n",
    "con.close()\n"
   ]
  },
  {
   "cell_type": "code",
   "execution_count": 7,
   "id": "29e07a8d",
   "metadata": {
    "id": "29e07a8d"
   },
   "outputs": [
    {
     "name": "stdout",
     "output_type": "stream",
     "text": [
      "  ID  SCORE\n",
      "0  1    100\n"
     ]
    }
   ],
   "source": [
    "con = cx_Oracle.connect(\"c##KITA\",\"KITA\",\"localhost:1521/xe\")\n",
    "cur = con.cursor()\n",
    "cur.execute('select * from SAMPLE3')\n",
    "res = cur.fetchall()\n",
    "df = pd.DataFrame(res)\n",
    "cur.execute(\"select column_name from user_tab_columns where table_name='SAMPLE3'\")\n",
    "col = cur.fetchall()\n",
    "\n",
    "li = []\n",
    "for i in col:\n",
    "    for j in i:\n",
    "        li.append(j)\n",
    "df.columns = li\n",
    "print(df.head())\n",
    "cur.close()\n",
    "con.close()"
   ]
  },
  {
   "cell_type": "code",
   "execution_count": 8,
   "id": "45004c00",
   "metadata": {},
   "outputs": [],
   "source": [
    "# create\n",
    "import cx_Oracle\n",
    "conn = cx_Oracle.connect(\"c##KITA\",\"KITA\",\"localhost:1521/xe\")\n",
    "cs = conn.cursor()\n",
    "sql = \"create table sample4(id varchar2(10), score varchar2(10), quantity varchar2(10))\"\n",
    "cs.execute(sql)\n",
    "cs.close()\n",
    "conn.commit()\n",
    "conn.close()"
   ]
  },
  {
   "cell_type": "code",
   "execution_count": 9,
   "id": "cda520fb",
   "metadata": {
    "id": "cda520fb"
   },
   "outputs": [
    {
     "name": "stdout",
     "output_type": "stream",
     "text": [
      "7\n"
     ]
    }
   ],
   "source": [
    "# executemany\n",
    "import cx_Oracle\n",
    "import pandas as pd\n",
    "con = cx_Oracle.connect(\"c##KITA\",\"KITA\",\"localhost:1521/xe\")\n",
    "cur = con.cursor()\n",
    "\n",
    "rows = [ ('1','3','3' ), ('9','3','3'),\n",
    "         ('2','3','3' ), ('7','3','3' ),\n",
    "         ('4','3','3' ), ('8','3','3' ),\n",
    "         ('5','3','3' ) ]\n",
    "\n",
    "cur.executemany(\"insert into sample4(id,score,quantity) values (:1,:2,:3)\", rows)\n",
    "print(cur.rowcount)\n",
    "\n",
    "cur.close()\n",
    "con.commit()\n",
    "con.close()"
   ]
  },
  {
   "cell_type": "code",
   "execution_count": 12,
   "id": "24c9a11f",
   "metadata": {
    "id": "24c9a11f"
   },
   "outputs": [
    {
     "data": {
      "text/html": [
       "<div>\n",
       "<style scoped>\n",
       "    .dataframe tbody tr th:only-of-type {\n",
       "        vertical-align: middle;\n",
       "    }\n",
       "\n",
       "    .dataframe tbody tr th {\n",
       "        vertical-align: top;\n",
       "    }\n",
       "\n",
       "    .dataframe thead th {\n",
       "        text-align: right;\n",
       "    }\n",
       "</style>\n",
       "<table border=\"1\" class=\"dataframe\">\n",
       "  <thead>\n",
       "    <tr style=\"text-align: right;\">\n",
       "      <th></th>\n",
       "      <th>ID</th>\n",
       "      <th>SCORE</th>\n",
       "      <th>QUANTITY</th>\n",
       "    </tr>\n",
       "  </thead>\n",
       "  <tbody>\n",
       "    <tr>\n",
       "      <th>0</th>\n",
       "      <td>1</td>\n",
       "      <td>3</td>\n",
       "      <td>3</td>\n",
       "    </tr>\n",
       "    <tr>\n",
       "      <th>1</th>\n",
       "      <td>9</td>\n",
       "      <td>3</td>\n",
       "      <td>3</td>\n",
       "    </tr>\n",
       "    <tr>\n",
       "      <th>2</th>\n",
       "      <td>2</td>\n",
       "      <td>3</td>\n",
       "      <td>3</td>\n",
       "    </tr>\n",
       "    <tr>\n",
       "      <th>3</th>\n",
       "      <td>7</td>\n",
       "      <td>3</td>\n",
       "      <td>3</td>\n",
       "    </tr>\n",
       "    <tr>\n",
       "      <th>4</th>\n",
       "      <td>4</td>\n",
       "      <td>3</td>\n",
       "      <td>3</td>\n",
       "    </tr>\n",
       "  </tbody>\n",
       "</table>\n",
       "</div>"
      ],
      "text/plain": [
       "  ID SCORE QUANTITY\n",
       "0  1     3        3\n",
       "1  9     3        3\n",
       "2  2     3        3\n",
       "3  7     3        3\n",
       "4  4     3        3"
      ]
     },
     "execution_count": 12,
     "metadata": {},
     "output_type": "execute_result"
    }
   ],
   "source": [
    "# 컬럼 가져오기\n",
    "import cx_Oracle\n",
    "import pandas as pd\n",
    "con = cx_Oracle.connect(\"c##KITA\",\"KITA\",\"localhost:1521/xe\")\n",
    "cursor = con.cursor()\n",
    "cursor.execute(\"select * from sample4\")\n",
    "x = cursor.fetchall()\n",
    "df = pd.DataFrame(x)\n",
    "cursor.execute(\"select column_name from user_tab_columns where table_name='SAMPLE4'\")\n",
    "col = cursor.fetchall()\n",
    "list_py = []\n",
    "for i in col:\n",
    "    for j in i:\n",
    "        list_py.append(j)\n",
    "df.columns = list_py\n",
    "df.head()"
   ]
  },
  {
   "cell_type": "code",
   "execution_count": 20,
   "id": "ec78890b",
   "metadata": {},
   "outputs": [],
   "source": [
    "!mkdir dataset"
   ]
  },
  {
   "cell_type": "code",
   "execution_count": 13,
   "id": "1714135e",
   "metadata": {
    "id": "1714135e"
   },
   "outputs": [],
   "source": [
    "# csv 데이터 처리\n",
    "df.to_csv('./dataset/c4.csv')"
   ]
  },
  {
   "cell_type": "code",
   "execution_count": 14,
   "id": "cf6654be",
   "metadata": {},
   "outputs": [
    {
     "data": {
      "text/html": [
       "<div>\n",
       "<style scoped>\n",
       "    .dataframe tbody tr th:only-of-type {\n",
       "        vertical-align: middle;\n",
       "    }\n",
       "\n",
       "    .dataframe tbody tr th {\n",
       "        vertical-align: top;\n",
       "    }\n",
       "\n",
       "    .dataframe thead th {\n",
       "        text-align: right;\n",
       "    }\n",
       "</style>\n",
       "<table border=\"1\" class=\"dataframe\">\n",
       "  <thead>\n",
       "    <tr style=\"text-align: right;\">\n",
       "      <th></th>\n",
       "      <th>ID</th>\n",
       "      <th>SCORE</th>\n",
       "      <th>QUANTITY</th>\n",
       "    </tr>\n",
       "  </thead>\n",
       "  <tbody>\n",
       "    <tr>\n",
       "      <th>0</th>\n",
       "      <td>1</td>\n",
       "      <td>3</td>\n",
       "      <td>3</td>\n",
       "    </tr>\n",
       "    <tr>\n",
       "      <th>1</th>\n",
       "      <td>9</td>\n",
       "      <td>3</td>\n",
       "      <td>3</td>\n",
       "    </tr>\n",
       "    <tr>\n",
       "      <th>2</th>\n",
       "      <td>2</td>\n",
       "      <td>3</td>\n",
       "      <td>3</td>\n",
       "    </tr>\n",
       "    <tr>\n",
       "      <th>3</th>\n",
       "      <td>7</td>\n",
       "      <td>3</td>\n",
       "      <td>3</td>\n",
       "    </tr>\n",
       "    <tr>\n",
       "      <th>4</th>\n",
       "      <td>4</td>\n",
       "      <td>3</td>\n",
       "      <td>3</td>\n",
       "    </tr>\n",
       "    <tr>\n",
       "      <th>5</th>\n",
       "      <td>8</td>\n",
       "      <td>3</td>\n",
       "      <td>3</td>\n",
       "    </tr>\n",
       "    <tr>\n",
       "      <th>6</th>\n",
       "      <td>5</td>\n",
       "      <td>3</td>\n",
       "      <td>3</td>\n",
       "    </tr>\n",
       "  </tbody>\n",
       "</table>\n",
       "</div>"
      ],
      "text/plain": [
       "   ID  SCORE  QUANTITY\n",
       "0   1      3         3\n",
       "1   9      3         3\n",
       "2   2      3         3\n",
       "3   7      3         3\n",
       "4   4      3         3\n",
       "5   8      3         3\n",
       "6   5      3         3"
      ]
     },
     "execution_count": 14,
     "metadata": {},
     "output_type": "execute_result"
    }
   ],
   "source": [
    "df = pd.read_csv('./dataset/c4.csv',index_col=0)\n",
    "df"
   ]
  },
  {
   "cell_type": "code",
   "execution_count": 18,
   "id": "5c30a374",
   "metadata": {
    "id": "5c30a374"
   },
   "outputs": [
    {
     "ename": "NameError",
     "evalue": "name 'teil' is not defined",
     "output_type": "error",
     "traceback": [
      "\u001b[1;31m---------------------------------------------------------------------------\u001b[0m",
      "\u001b[1;31mNameError\u001b[0m                                 Traceback (most recent call last)",
      "Cell \u001b[1;32mIn[18], line 8\u001b[0m\n\u001b[0;32m      6\u001b[0m df[\u001b[38;5;124m'\u001b[39m\u001b[38;5;124mid\u001b[39m\u001b[38;5;124m'\u001b[39m] \u001b[38;5;241m=\u001b[39m np\u001b[38;5;241m.\u001b[39marange(\u001b[38;5;241m10000\u001b[39m)\n\u001b[0;32m      7\u001b[0m df[\u001b[38;5;124m'\u001b[39m\u001b[38;5;124msales\u001b[39m\u001b[38;5;124m'\u001b[39m] \u001b[38;5;241m=\u001b[39m np\u001b[38;5;241m.\u001b[39mrandom\u001b[38;5;241m.\u001b[39mrandint(\u001b[38;5;241m1\u001b[39m,\u001b[38;5;241m100\u001b[39m,size\u001b[38;5;241m=\u001b[39m\u001b[38;5;241m10000\u001b[39m)\n\u001b[1;32m----> 8\u001b[0m df\u001b[38;5;241m.\u001b[39mhead(\u001b[43mteil\u001b[49m)\n",
      "\u001b[1;31mNameError\u001b[0m: name 'teil' is not defined"
     ]
    }
   ],
   "source": [
    "# 대량 데이터 입력\n",
    "import numpy as np\n",
    "import pandas as pd\n",
    "\n",
    "df = pd.DataFrame()\n",
    "df['id'] = np.arange(10000)\n",
    "df['sales'] = np.random.randint(1,100,size=10000)\n",
    "df.head()"
   ]
  },
  {
   "cell_type": "code",
   "execution_count": 28,
   "id": "aae2255a",
   "metadata": {
    "id": "aae2255a"
   },
   "outputs": [
    {
     "name": "stdout",
     "output_type": "stream",
     "text": [
      "<class 'pandas.core.frame.DataFrame'>\n",
      "RangeIndex: 10000 entries, 0 to 9999\n",
      "Data columns (total 2 columns):\n",
      " #   Column  Non-Null Count  Dtype\n",
      "---  ------  --------------  -----\n",
      " 0   id      10000 non-null  int32\n",
      " 1   sales   10000 non-null  int32\n",
      "dtypes: int32(2)\n",
      "memory usage: 78.2 KB\n"
     ]
    }
   ],
   "source": [
    "df.info()"
   ]
  },
  {
   "cell_type": "code",
   "execution_count": 29,
   "id": "2b364f3b",
   "metadata": {
    "id": "2b364f3b"
   },
   "outputs": [],
   "source": [
    "df['id'] = df.id.astype('str')"
   ]
  },
  {
   "cell_type": "code",
   "execution_count": 30,
   "id": "abe71803",
   "metadata": {
    "id": "abe71803"
   },
   "outputs": [
    {
     "data": {
      "text/plain": [
       "[('0', 37),\n",
       " ('1', 95),\n",
       " ('2', 84),\n",
       " ('3', 34),\n",
       " ('4', 50),\n",
       " ('5', 34),\n",
       " ('6', 33),\n",
       " ('7', 50),\n",
       " ('8', 29),\n",
       " ('9', 7)]"
      ]
     },
     "execution_count": 30,
     "metadata": {},
     "output_type": "execute_result"
    }
   ],
   "source": [
    "ar = df.values\n",
    "# tu = tuple(map(tuple,ar))\n",
    "results = list([tuple(e) for e in ar])\n",
    "results[:10]"
   ]
  },
  {
   "cell_type": "code",
   "execution_count": 32,
   "id": "711fd129",
   "metadata": {},
   "outputs": [],
   "source": [
    "# create\n",
    "import cx_Oracle\n",
    "conn = cx_Oracle.connect(\"c##KITA\",\"KITA\",\"localhost:1521/xe\")\n",
    "cs = conn.cursor()\n",
    "sql = \"create table sample2(id varchar2(10), sales number)\"\n",
    "cs.execute(sql)\n",
    "cs.close()\n",
    "conn.commit()\n",
    "conn.close()"
   ]
  },
  {
   "cell_type": "code",
   "execution_count": 34,
   "id": "cf25e7e2",
   "metadata": {
    "id": "cf25e7e2"
   },
   "outputs": [],
   "source": [
    "con = cx_Oracle.connect(\"c##KITA\",\"KITA\",\"localhost:1521/xe\")\n",
    "cursor = con.cursor()\n",
    "sql = \"insert into sample2 (id,sales) values (:1, :2)\"\n",
    "data = []\n",
    "for r in results:\n",
    "    data.append((r[0], r[1]))\n",
    "cursor.executemany(sql, data)\n",
    "cursor.close()\n",
    "con.commit()\n",
    "con.close()"
   ]
  },
  {
   "cell_type": "code",
   "execution_count": null,
   "id": "a2c0a331",
   "metadata": {},
   "outputs": [],
   "source": []
  }
 ],
 "metadata": {
  "colab": {
   "provenance": []
  },
  "kernelspec": {
   "display_name": "Python 3 (ipykernel)",
   "language": "python",
   "name": "python3"
  },
  "language_info": {
   "codemirror_mode": {
    "name": "ipython",
    "version": 3
   },
   "file_extension": ".py",
   "mimetype": "text/x-python",
   "name": "python",
   "nbconvert_exporter": "python",
   "pygments_lexer": "ipython3",
   "version": "3.10.13"
  }
 },
 "nbformat": 4,
 "nbformat_minor": 5
}
