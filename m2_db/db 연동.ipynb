{
 "cells": [
  {
   "cell_type": "code",
   "execution_count": 1,
   "id": "94c05da1",
   "metadata": {},
   "outputs": [
    {
     "name": "stdout",
     "output_type": "stream",
     "text": [
      "Requirement already satisfied: cx_Oracle in c:\\programdata\\anaconda3\\envs\\kita\\lib\\site-packages (8.3.0)\n",
      "Note: you may need to restart the kernel to use updated packages.\n"
     ]
    }
   ],
   "source": [
    "pip install cx_Oracle"
   ]
  },
  {
   "cell_type": "code",
   "execution_count": 13,
   "id": "e46cddae",
   "metadata": {},
   "outputs": [
    {
     "name": "stdout",
     "output_type": "stream",
     "text": [
      "   EMPLOYEE_ID FIRST_NAME  LAST_NAME     EMAIL  PHONE_NUMBER  HIRE_DATE  \\\n",
      "0          198     Donald   OConnell  DOCONNEL  650.507.9833 2007-06-21   \n",
      "1          199    Douglas      Grant    DGRANT  650.507.9844 2008-01-13   \n",
      "2          200   Jennifer     Whalen   JWHALEN  515.123.4444 2003-09-17   \n",
      "3          201    Michael  Hartstein  MHARTSTE  515.123.5555 2004-02-17   \n",
      "4          202        Pat        Fay      PFAY  603.123.6666 2005-08-17   \n",
      "\n",
      "     JOB_ID   SALARY  COMMISSION_PCT  MANAGER_ID  DEPARTMENT_ID  \n",
      "0  SH_CLERK   2600.0             NaN       124.0             50  \n",
      "1  SH_CLERK   2600.0             NaN       124.0             50  \n",
      "2   AD_ASST   4400.0             NaN       101.0             10  \n",
      "3    MK_MAN  13000.0             NaN       100.0             20  \n",
      "4    MK_REP   6000.0             NaN       201.0             20  \n"
     ]
    }
   ],
   "source": [
    "import cx_Oracle\n",
    "import pandas as pd\n",
    "con = cx_Oracle.connect(\"c##hr\", \"hr\", \"localhost:1521/xe\")\n",
    "cur = con.cursor()\n",
    "cur.execute('select * from employees')\n",
    "res = cur.fetchall()\n",
    "df = pd.DataFrame(res)\n",
    "cur.execute(\"select column_name from user_tab_columns where table_name='EMPLOYEES'\")\n",
    "col = cur.fetchall()\n",
    "col\n",
    "li = []\n",
    "for i in col:\n",
    "    for j in i:\n",
    "        li.append(j)\n",
    "df.columns = li\n",
    "print(df.head())\n",
    "cur.close()\n",
    "con.close()"
   ]
  },
  {
   "cell_type": "markdown",
   "id": "8a2cfc53",
   "metadata": {},
   "source": [
    "과제1_1127. employee 테이블에서 탐색적 분석을 통하여 3가지 인사이트를 찾아서 설명하세요."
   ]
  },
  {
   "cell_type": "code",
   "execution_count": 11,
   "id": "7b58fbf3",
   "metadata": {},
   "outputs": [
    {
     "data": {
      "text/html": [
       "<div>\n",
       "<style scoped>\n",
       "    .dataframe tbody tr th:only-of-type {\n",
       "        vertical-align: middle;\n",
       "    }\n",
       "\n",
       "    .dataframe tbody tr th {\n",
       "        vertical-align: top;\n",
       "    }\n",
       "\n",
       "    .dataframe thead th {\n",
       "        text-align: right;\n",
       "    }\n",
       "</style>\n",
       "<table border=\"1\" class=\"dataframe\">\n",
       "  <thead>\n",
       "    <tr style=\"text-align: right;\">\n",
       "      <th></th>\n",
       "      <th>EMPLOYEE_ID</th>\n",
       "      <th>FIRST_NAME</th>\n",
       "      <th>LAST_NAME</th>\n",
       "      <th>EMAIL</th>\n",
       "      <th>PHONE_NUMBER</th>\n",
       "      <th>HIRE_DATE</th>\n",
       "      <th>JOB_ID</th>\n",
       "      <th>SALARY</th>\n",
       "      <th>COMMISSION_PCT</th>\n",
       "      <th>MANAGER_ID</th>\n",
       "      <th>DEPARTMENT_ID</th>\n",
       "    </tr>\n",
       "  </thead>\n",
       "  <tbody>\n",
       "    <tr>\n",
       "      <th>0</th>\n",
       "      <td>198</td>\n",
       "      <td>Donald</td>\n",
       "      <td>OConnell</td>\n",
       "      <td>DOCONNEL</td>\n",
       "      <td>650.507.9833</td>\n",
       "      <td>2007-06-21</td>\n",
       "      <td>SH_CLERK</td>\n",
       "      <td>2600.0</td>\n",
       "      <td>NaN</td>\n",
       "      <td>124.0</td>\n",
       "      <td>50</td>\n",
       "    </tr>\n",
       "    <tr>\n",
       "      <th>1</th>\n",
       "      <td>199</td>\n",
       "      <td>Douglas</td>\n",
       "      <td>Grant</td>\n",
       "      <td>DGRANT</td>\n",
       "      <td>650.507.9844</td>\n",
       "      <td>2008-01-13</td>\n",
       "      <td>SH_CLERK</td>\n",
       "      <td>2600.0</td>\n",
       "      <td>NaN</td>\n",
       "      <td>124.0</td>\n",
       "      <td>50</td>\n",
       "    </tr>\n",
       "    <tr>\n",
       "      <th>2</th>\n",
       "      <td>200</td>\n",
       "      <td>Jennifer</td>\n",
       "      <td>Whalen</td>\n",
       "      <td>JWHALEN</td>\n",
       "      <td>515.123.4444</td>\n",
       "      <td>2003-09-17</td>\n",
       "      <td>AD_ASST</td>\n",
       "      <td>4400.0</td>\n",
       "      <td>NaN</td>\n",
       "      <td>101.0</td>\n",
       "      <td>10</td>\n",
       "    </tr>\n",
       "    <tr>\n",
       "      <th>3</th>\n",
       "      <td>201</td>\n",
       "      <td>Michael</td>\n",
       "      <td>Hartstein</td>\n",
       "      <td>MHARTSTE</td>\n",
       "      <td>515.123.5555</td>\n",
       "      <td>2004-02-17</td>\n",
       "      <td>MK_MAN</td>\n",
       "      <td>13000.0</td>\n",
       "      <td>NaN</td>\n",
       "      <td>100.0</td>\n",
       "      <td>20</td>\n",
       "    </tr>\n",
       "    <tr>\n",
       "      <th>4</th>\n",
       "      <td>202</td>\n",
       "      <td>Pat</td>\n",
       "      <td>Fay</td>\n",
       "      <td>PFAY</td>\n",
       "      <td>603.123.6666</td>\n",
       "      <td>2005-08-17</td>\n",
       "      <td>MK_REP</td>\n",
       "      <td>6000.0</td>\n",
       "      <td>NaN</td>\n",
       "      <td>201.0</td>\n",
       "      <td>20</td>\n",
       "    </tr>\n",
       "  </tbody>\n",
       "</table>\n",
       "</div>"
      ],
      "text/plain": [
       "   EMPLOYEE_ID FIRST_NAME  LAST_NAME     EMAIL  PHONE_NUMBER  HIRE_DATE  \\\n",
       "0          198     Donald   OConnell  DOCONNEL  650.507.9833 2007-06-21   \n",
       "1          199    Douglas      Grant    DGRANT  650.507.9844 2008-01-13   \n",
       "2          200   Jennifer     Whalen   JWHALEN  515.123.4444 2003-09-17   \n",
       "3          201    Michael  Hartstein  MHARTSTE  515.123.5555 2004-02-17   \n",
       "4          202        Pat        Fay      PFAY  603.123.6666 2005-08-17   \n",
       "\n",
       "     JOB_ID   SALARY  COMMISSION_PCT  MANAGER_ID  DEPARTMENT_ID  \n",
       "0  SH_CLERK   2600.0             NaN       124.0             50  \n",
       "1  SH_CLERK   2600.0             NaN       124.0             50  \n",
       "2   AD_ASST   4400.0             NaN       101.0             10  \n",
       "3    MK_MAN  13000.0             NaN       100.0             20  \n",
       "4    MK_REP   6000.0             NaN       201.0             20  "
      ]
     },
     "execution_count": 11,
     "metadata": {},
     "output_type": "execute_result"
    }
   ],
   "source": [
    "df.head()"
   ]
  }
 ],
 "metadata": {
  "kernelspec": {
   "display_name": "Python 3 (ipykernel)",
   "language": "python",
   "name": "python3"
  },
  "language_info": {
   "codemirror_mode": {
    "name": "ipython",
    "version": 3
   },
   "file_extension": ".py",
   "mimetype": "text/x-python",
   "name": "python",
   "nbconvert_exporter": "python",
   "pygments_lexer": "ipython3",
   "version": "3.10.13"
  }
 },
 "nbformat": 4,
 "nbformat_minor": 5
}
