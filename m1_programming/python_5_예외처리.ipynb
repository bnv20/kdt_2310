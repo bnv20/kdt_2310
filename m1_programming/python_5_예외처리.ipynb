{
 "cells": [
  {
   "cell_type": "markdown",
   "id": "Oaqwe8VHiG8U",
   "metadata": {
    "id": "Oaqwe8VHiG8U"
   },
   "source": [
    "#### 에러(Error) vs. 예외(Exception).\n",
    "\n",
    "에러(Error):\n",
    "- 에러는 주로 프로그램 실행 전에 발생하는, 프로그램의 잘못된 구문이나 절차 등에 의해 발생하는 문제를 말한다.\n",
    "- 대표적인 에러로는 구문 에러(SyntaxError)가 있다. 예를 들어, 올바르지 않은 들여쓰기나 잘못된 코드 구조로 인해 파이썬 인터프리터가 코드를 실행하기 전에 에러를 발생시킨다.\n",
    "- 에러는 대체로 프로그램의 수정 없이는 복구될 수 없는 심각한 문제들이다.\n",
    "\n",
    "예외(Exception):\n",
    "- 예외는 실행 중인 프로그램에 영향을 주는 이벤트로, 일반적인 프로그램 흐름을 방해한다.\n",
    "- 예외는 프로그램의 정상적인 흐름을 방해하지만, 적절한 예외 처리를 통해 프로그램의 중단 없이 예외를 '잡아내고(catch)' 처리할 수 있다. 예를 들어, 파일을 열 때 파일이 존재하지 않는 경우 FileNotFoundError 예외가 발생할 수 있다. 이 경우 적절한 except 블록으로 예외를 처리하여 사용자에게 메시지를 표시하고 대안적인 행동을 취할 수 있다.\n",
    "- 예외는 try-except 블록을 통해 프로그램에서 처리할 수 있으며, 이를 통해 프로그램이 예외 상황에서도 안정적으로 동작하도록 만들 수 있다.\n",
    "\n",
    "요약하자면, 에러는 대개 코드 수정이 필요한 문제들을 가리키며, 예외는 프로그램 실행 중에 발생하지만 적절히 처리할 수 있는 예상 가능한 '예외적' 상황들을 말한다.\n",
    "\n",
    "#### 파이썬에서 발생할 수 있는 에러와 예외의 유형:\n",
    "에러 : 프로그램이 실행되기 전에 발생하는 문제\n",
    "- SyntaxError: 코드의 구문이 잘못되었을 때 생긴다.<br>\n",
    "\n",
    "예외 : 실행 시간(runtime) 중에 발생하고 처리 가능\n",
    "- NameError: 정의되지 않은 변수를 호출할 때 생긴다.\n",
    "- TypeError: 연산이나 함수가 부적절한 유형의 객체에 적용될 때 발생한다.\n",
    "- ValueError: 연산이나 함수가 적절하지 않은 값을 객체에 적용할 때 발생한다.\n",
    "- IndexError: 리스트 등의 시퀀스에서 존재하지 않는 인덱스를 사용할 때 생긴다.\n",
    "- KeyError: 딕셔너리에서 존재하지 않는 키를 사용할 때 발생한다.\n",
    "- AttributeError: 존재하지 않는 속성이나 메서드를 호출할 때 생긴다.\n",
    "- IOError 또는 OSError: 파일 입출력 과정에서 에러가 생길 때 발생한다.\n",
    "- ZeroDivisionError: 0으로 나눌 때 생긴다.\n",
    "- ImportError: 모듈을 임포트할 수 없을 때 발생한다.\n",
    "- StopIteration: 이터레이터에 더 이상의 아이템이 없을 때 next()를 호출하면 발생한다.\n",
    "- MemoryError: 메모리 할당이 실패할 때 생긴다.\n",
    "- RecursionError: 재귀 호출이 너무 깊어질 때 발생한다."
   ]
  },
  {
   "cell_type": "code",
   "execution_count": null,
   "id": "h-OBk2fdgJFs",
   "metadata": {
    "id": "h-OBk2fdgJFs",
    "outputId": "55d024ac-f8ce-4563-eae7-acced96342f0"
   },
   "outputs": [
    {
     "ename": "SyntaxError",
     "evalue": "EOL while scanning string literal (<ipython-input-1-97e69b1f8d4a>, line 4)",
     "output_type": "error",
     "traceback": [
      "\u001b[1;36m  File \u001b[1;32m\"<ipython-input-1-97e69b1f8d4a>\"\u001b[1;36m, line \u001b[1;32m4\u001b[0m\n\u001b[1;33m    print('예외를 강제로 발생!)\u001b[0m\n\u001b[1;37m                       ^\u001b[0m\n\u001b[1;31mSyntaxError\u001b[0m\u001b[1;31m:\u001b[0m EOL while scanning string literal\n"
     ]
    }
   ],
   "source": [
    "# 구문 오류 : 프로그램 실행전에 발생하는 오류\n",
    "# 예외 또는 런타임 오류 : 프로그램 실행중에 발생하는 오류\n",
    "\n",
    "print('예외를 강제로 발생!)"
   ]
  },
  {
   "cell_type": "code",
   "execution_count": null,
   "id": "zKqJ01dhk_Jn",
   "metadata": {
    "id": "zKqJ01dhk_Jn"
   },
   "outputs": [],
   "source": [
    "# SyntaxError: 잘못된 구문\n",
    "for i in range(10)\n",
    "    print(i)\n"
   ]
  },
  {
   "cell_type": "code",
   "execution_count": 1,
   "id": "Uj1uTbMelGSa",
   "metadata": {
    "colab": {
     "base_uri": "https://localhost:8080/",
     "height": 200
    },
    "executionInfo": {
     "elapsed": 349,
     "status": "error",
     "timestamp": 1699189404445,
     "user": {
      "displayName": "kevin park",
      "userId": "02703084888761299921"
     },
     "user_tz": -540
    },
    "id": "Uj1uTbMelGSa",
    "outputId": "58984709-9d4c-4e31-b45c-2739cb8d3db1"
   },
   "outputs": [
    {
     "ename": "NameError",
     "evalue": "ignored",
     "output_type": "error",
     "traceback": [
      "\u001b[0;31m---------------------------------------------------------------------------\u001b[0m",
      "\u001b[0;31mNameError\u001b[0m                                 Traceback (most recent call last)",
      "\u001b[0;32m<ipython-input-1-68598b85e6d0>\u001b[0m in \u001b[0;36m<cell line: 2>\u001b[0;34m()\u001b[0m\n\u001b[1;32m      1\u001b[0m \u001b[0;31m# NameError: 정의되지 않은 변수 사용\u001b[0m\u001b[0;34m\u001b[0m\u001b[0;34m\u001b[0m\u001b[0m\n\u001b[0;32m----> 2\u001b[0;31m \u001b[0mprint\u001b[0m\u001b[0;34m(\u001b[0m\u001b[0munknown_var\u001b[0m\u001b[0;34m)\u001b[0m\u001b[0;34m\u001b[0m\u001b[0;34m\u001b[0m\u001b[0m\n\u001b[0m",
      "\u001b[0;31mNameError\u001b[0m: name 'unknown_var' is not defined"
     ]
    }
   ],
   "source": [
    "# NameError: 정의되지 않은 변수 사용\n",
    "print(unknown_var)\n"
   ]
  },
  {
   "cell_type": "code",
   "execution_count": null,
   "id": "w9Yu4HcfgJFx",
   "metadata": {
    "id": "w9Yu4HcfgJFx",
    "outputId": "2c80a38c-f527-4d9f-f518-d1f4065f2056"
   },
   "outputs": [
    {
     "name": "stdout",
     "output_type": "stream",
     "text": [
      "정수 입력> r\n"
     ]
    },
    {
     "ename": "ValueError",
     "evalue": "invalid literal for int() with base 10: 'r'",
     "output_type": "error",
     "traceback": [
      "\u001b[1;31m---------------------------------------------------------------------------\u001b[0m",
      "\u001b[1;31mValueError\u001b[0m                                Traceback (most recent call last)",
      "\u001b[1;32m<ipython-input-6-32f68352830e>\u001b[0m in \u001b[0;36m<module>\u001b[1;34m\u001b[0m\n\u001b[0;32m      1\u001b[0m \u001b[1;31m# 정수를 입력하지 않은 경우 예외 발생\u001b[0m\u001b[1;33m\u001b[0m\u001b[1;33m\u001b[0m\u001b[1;33m\u001b[0m\u001b[0m\n\u001b[1;32m----> 2\u001b[1;33m \u001b[0mnum_input\u001b[0m \u001b[1;33m=\u001b[0m \u001b[0mint\u001b[0m\u001b[1;33m(\u001b[0m\u001b[0minput\u001b[0m\u001b[1;33m(\u001b[0m\u001b[1;34m'정수 입력> '\u001b[0m\u001b[1;33m)\u001b[0m\u001b[1;33m)\u001b[0m\u001b[1;33m\u001b[0m\u001b[1;33m\u001b[0m\u001b[0m\n\u001b[0m\u001b[0;32m      3\u001b[0m \u001b[0mprint\u001b[0m\u001b[1;33m(\u001b[0m\u001b[1;34m'원의 반지름: '\u001b[0m\u001b[1;33m,\u001b[0m \u001b[0mnum_input\u001b[0m\u001b[1;33m)\u001b[0m\u001b[1;33m\u001b[0m\u001b[1;33m\u001b[0m\u001b[0m\n",
      "\u001b[1;31mValueError\u001b[0m: invalid literal for int() with base 10: 'r'"
     ]
    }
   ],
   "source": [
    "# 정수를 입력하지 않은 경우 예외 발생\n",
    "num_input = int(input('정수 입력> '))\n",
    "print('원의 반지름: ', num_input)"
   ]
  },
  {
   "cell_type": "code",
   "execution_count": 2,
   "id": "xXRsTzKylSZn",
   "metadata": {
    "colab": {
     "base_uri": "https://localhost:8080/",
     "height": 200
    },
    "executionInfo": {
     "elapsed": 350,
     "status": "error",
     "timestamp": 1699189451116,
     "user": {
      "displayName": "kevin park",
      "userId": "02703084888761299921"
     },
     "user_tz": -540
    },
    "id": "xXRsTzKylSZn",
    "outputId": "29491709-48b0-4cc7-dd77-8e954332d25d"
   },
   "outputs": [
    {
     "ename": "TypeError",
     "evalue": "ignored",
     "output_type": "error",
     "traceback": [
      "\u001b[0;31m---------------------------------------------------------------------------\u001b[0m",
      "\u001b[0;31mTypeError\u001b[0m                                 Traceback (most recent call last)",
      "\u001b[0;32m<ipython-input-2-aa34c5b2dcf4>\u001b[0m in \u001b[0;36m<cell line: 2>\u001b[0;34m()\u001b[0m\n\u001b[1;32m      1\u001b[0m \u001b[0;31m# TypeError: 부적절한 유형의 객체 연산\u001b[0m\u001b[0;34m\u001b[0m\u001b[0;34m\u001b[0m\u001b[0m\n\u001b[0;32m----> 2\u001b[0;31m \u001b[0;34m'2'\u001b[0m \u001b[0;34m+\u001b[0m \u001b[0;36m2\u001b[0m\u001b[0;34m\u001b[0m\u001b[0;34m\u001b[0m\u001b[0m\n\u001b[0m",
      "\u001b[0;31mTypeError\u001b[0m: can only concatenate str (not \"int\") to str"
     ]
    }
   ],
   "source": [
    "# TypeError: 부적절한 유형의 객체 연산\n",
    "'2' + 2\n"
   ]
  },
  {
   "cell_type": "code",
   "execution_count": null,
   "id": "Q73gQXSelZce",
   "metadata": {
    "id": "Q73gQXSelZce"
   },
   "outputs": [],
   "source": [
    "# ValueError: 적절하지 않은 값 사용\n",
    "int('abc')\n"
   ]
  },
  {
   "cell_type": "code",
   "execution_count": null,
   "id": "wboOb-xLlf38",
   "metadata": {
    "id": "wboOb-xLlf38"
   },
   "outputs": [],
   "source": [
    "# IndexError: 존재하지 않는 인덱스 사용\n",
    "my_list = [1, 2, 3]\n",
    "print(my_list[3])\n"
   ]
  },
  {
   "cell_type": "code",
   "execution_count": null,
   "id": "ObRGb4lGlk0y",
   "metadata": {
    "id": "ObRGb4lGlk0y"
   },
   "outputs": [],
   "source": [
    "# KeyError: 딕셔너리에서 존재하지 않는 키 사용\n",
    "my_dict = {'a': 1, 'b': 2}\n",
    "print(my_dict['c'])\n"
   ]
  },
  {
   "cell_type": "code",
   "execution_count": null,
   "id": "j4x-Gb_UlpyA",
   "metadata": {
    "id": "j4x-Gb_UlpyA"
   },
   "outputs": [],
   "source": [
    "# AttributeError: 존재하지 않는 속성이나 메서드 호출. 리스트에는 push라는 메서드가 없어 AttributeError가 발생합니다.\n",
    "my_list = [1, 2, 3]\n",
    "my_list.push(4)\n"
   ]
  },
  {
   "cell_type": "code",
   "execution_count": 4,
   "id": "Nn6R6j8ilwun",
   "metadata": {
    "colab": {
     "base_uri": "https://localhost:8080/",
     "height": 219
    },
    "executionInfo": {
     "elapsed": 624,
     "status": "error",
     "timestamp": 1699190062577,
     "user": {
      "displayName": "kevin park",
      "userId": "02703084888761299921"
     },
     "user_tz": -540
    },
    "id": "Nn6R6j8ilwun",
    "outputId": "0cbafe48-8ad9-4c7c-849d-9e47d6deb1ff"
   },
   "outputs": [
    {
     "ename": "FileNotFoundError",
     "evalue": "ignored",
     "output_type": "error",
     "traceback": [
      "\u001b[0;31m---------------------------------------------------------------------------\u001b[0m",
      "\u001b[0;31mFileNotFoundError\u001b[0m                         Traceback (most recent call last)",
      "\u001b[0;32m<ipython-input-4-c0c4f341e056>\u001b[0m in \u001b[0;36m<cell line: 2>\u001b[0;34m()\u001b[0m\n\u001b[1;32m      1\u001b[0m \u001b[0;31m# IOError/OSError: 존재하지 않는 파일 열기 시도\u001b[0m\u001b[0;34m\u001b[0m\u001b[0;34m\u001b[0m\u001b[0m\n\u001b[0;32m----> 2\u001b[0;31m \u001b[0;32mwith\u001b[0m \u001b[0mopen\u001b[0m\u001b[0;34m(\u001b[0m\u001b[0;34m'non_existent_file.txt'\u001b[0m\u001b[0;34m)\u001b[0m \u001b[0;32mas\u001b[0m \u001b[0mf\u001b[0m\u001b[0;34m:\u001b[0m\u001b[0;34m\u001b[0m\u001b[0;34m\u001b[0m\u001b[0m\n\u001b[0m\u001b[1;32m      3\u001b[0m     \u001b[0mread_data\u001b[0m \u001b[0;34m=\u001b[0m \u001b[0mf\u001b[0m\u001b[0;34m.\u001b[0m\u001b[0mread\u001b[0m\u001b[0;34m(\u001b[0m\u001b[0;34m)\u001b[0m\u001b[0;34m\u001b[0m\u001b[0;34m\u001b[0m\u001b[0m\n",
      "\u001b[0;31mFileNotFoundError\u001b[0m: [Errno 2] No such file or directory: 'non_existent_file.txt'"
     ]
    }
   ],
   "source": [
    "# IOError/OSError: 존재하지 않는 파일 열기 시도. 파일이 존재하지 않아 IOError 또는 OSError가 발생\n",
    "with open('non_existent_file.txt') as f:\n",
    "    read_data = f.read()\n"
   ]
  },
  {
   "cell_type": "code",
   "execution_count": null,
   "id": "UtTdtBRKl25o",
   "metadata": {
    "id": "UtTdtBRKl25o"
   },
   "outputs": [],
   "source": [
    "# ZeroDivisionError: 0으로 나누기\n",
    "division = 10 / 0\n"
   ]
  },
  {
   "cell_type": "code",
   "execution_count": null,
   "id": "WHIKMIl2l7EH",
   "metadata": {
    "id": "WHIKMIl2l7EH"
   },
   "outputs": [],
   "source": [
    "# ImportError: 존재하지 않는 모듈 임포트 시도\n",
    "import non_existent_module\n"
   ]
  },
  {
   "cell_type": "code",
   "execution_count": 3,
   "id": "LKrDsBxzmACz",
   "metadata": {
    "colab": {
     "base_uri": "https://localhost:8080/",
     "height": 219
    },
    "executionInfo": {
     "elapsed": 415,
     "status": "error",
     "timestamp": 1699189664573,
     "user": {
      "displayName": "kevin park",
      "userId": "02703084888761299921"
     },
     "user_tz": -540
    },
    "id": "LKrDsBxzmACz",
    "outputId": "af4d0b91-3bec-446e-82b3-978f12696b06"
   },
   "outputs": [
    {
     "ename": "StopIteration",
     "evalue": "ignored",
     "output_type": "error",
     "traceback": [
      "\u001b[0;31m---------------------------------------------------------------------------\u001b[0m",
      "\u001b[0;31mStopIteration\u001b[0m                             Traceback (most recent call last)",
      "\u001b[0;32m<ipython-input-3-8f2855d8d17f>\u001b[0m in \u001b[0;36m<cell line: 6>\u001b[0;34m()\u001b[0m\n\u001b[1;32m      4\u001b[0m \u001b[0mnext\u001b[0m\u001b[0;34m(\u001b[0m\u001b[0mmy_iterator\u001b[0m\u001b[0;34m)\u001b[0m\u001b[0;34m\u001b[0m\u001b[0;34m\u001b[0m\u001b[0m\n\u001b[1;32m      5\u001b[0m \u001b[0mnext\u001b[0m\u001b[0;34m(\u001b[0m\u001b[0mmy_iterator\u001b[0m\u001b[0;34m)\u001b[0m\u001b[0;34m\u001b[0m\u001b[0;34m\u001b[0m\u001b[0m\n\u001b[0;32m----> 6\u001b[0;31m \u001b[0mnext\u001b[0m\u001b[0;34m(\u001b[0m\u001b[0mmy_iterator\u001b[0m\u001b[0;34m)\u001b[0m  \u001b[0;31m# 여기서 StopIteration 발생\u001b[0m\u001b[0;34m\u001b[0m\u001b[0;34m\u001b[0m\u001b[0m\n\u001b[0m",
      "\u001b[0;31mStopIteration\u001b[0m: "
     ]
    }
   ],
   "source": [
    "# StopIteration: 이터레이터가 더 이상 값을 제공하지 않음. 모든 값을 이미 소진한 이터레이터에 대해 next()를 호출하면 StopIteration이 발생\n",
    "my_iterator = iter([1, 2, 3])\n",
    "next(my_iterator)\n",
    "next(my_iterator)\n",
    "next(my_iterator)\n",
    "next(my_iterator)  # 여기서 StopIteration 발생\n"
   ]
  },
  {
   "cell_type": "code",
   "execution_count": null,
   "id": "TT2WiTl1mNix",
   "metadata": {
    "id": "TT2WiTl1mNix"
   },
   "outputs": [],
   "source": [
    "# MemoryError: 매우 큰 메모리 할당 시도. 시스템에서 제공하는 메모리 용량을 초과하려고 하면 MemoryError가 발생\n",
    "very_large_list = [0] * (10**10)\n"
   ]
  },
  {
   "cell_type": "code",
   "execution_count": null,
   "id": "efBvDEOwmVzO",
   "metadata": {
    "id": "efBvDEOwmVzO"
   },
   "outputs": [],
   "source": [
    "# RecursionError: 너무 깊은 재귀 호출\n",
    "# 아무런 종료 조건 없이 자기 자신을 계속해서 호출하므로, 파이썬의 최대 재귀 깊이에 도달할 때까지 실행. 이 한계에 도달하면 RecursionError 예외가 발생\n",
    "def recursive_function():\n",
    "    recursive_function()\n",
    "recursive_function()\n"
   ]
  },
  {
   "cell_type": "code",
   "execution_count": null,
   "id": "yNImQFh3gJFy",
   "metadata": {
    "id": "yNImQFh3gJFy",
    "outputId": "8557784f-7aa2-40f1-f7f3-f032e5b3f665"
   },
   "outputs": [
    {
     "name": "stdout",
     "output_type": "stream",
     "text": [
      "정수 입력> ㄱ\n",
      "정수를 입력해 주세요!!!\n"
     ]
    }
   ],
   "source": [
    "# 조건문으로 예외 처리\n",
    "user_input = input('정수 입력> ')\n",
    "if user_input.isdigit():\n",
    "    num_input = int(user_input)\n",
    "    print('원의 반지름: ',num_input)\n",
    "else:\n",
    "    print('정수를 입력해 주세요!!!')"
   ]
  },
  {
   "cell_type": "code",
   "execution_count": null,
   "id": "s9JLrOL5gJFz",
   "metadata": {
    "id": "s9JLrOL5gJFz",
    "outputId": "c2f28871-dfd9-4fbd-c3af-83559ade60af"
   },
   "outputs": [
    {
     "name": "stdout",
     "output_type": "stream",
     "text": [
      "안녕하세요\n"
     ]
    },
    {
     "ename": "NameError",
     "evalue": "name 'param' is not defined",
     "output_type": "error",
     "traceback": [
      "\u001b[1;31m---------------------------------------------------------------------------\u001b[0m",
      "\u001b[1;31mNameError\u001b[0m                                 Traceback (most recent call last)",
      "\u001b[1;32m<ipython-input-1-6892d0d440b1>\u001b[0m in \u001b[0;36m<module>\u001b[1;34m\u001b[0m\n\u001b[0;32m      1\u001b[0m \u001b[1;31m# param = 1\u001b[0m\u001b[1;33m\u001b[0m\u001b[1;33m\u001b[0m\u001b[1;33m\u001b[0m\u001b[0m\n\u001b[0;32m      2\u001b[0m \u001b[0mprint\u001b[0m\u001b[1;33m(\u001b[0m\u001b[1;34m'안녕하세요'\u001b[0m\u001b[1;33m)\u001b[0m\u001b[1;33m\u001b[0m\u001b[1;33m\u001b[0m\u001b[0m\n\u001b[1;32m----> 3\u001b[1;33m \u001b[0mprint\u001b[0m\u001b[1;33m(\u001b[0m\u001b[0mparam\u001b[0m\u001b[1;33m)\u001b[0m\u001b[1;33m\u001b[0m\u001b[1;33m\u001b[0m\u001b[0m\n\u001b[0m",
      "\u001b[1;31mNameError\u001b[0m: name 'param' is not defined"
     ]
    }
   ],
   "source": [
    "# param = 1\n",
    "print('안녕하세요')\n",
    "print(param)"
   ]
  },
  {
   "cell_type": "markdown",
   "id": "huRuMFSNgJFz",
   "metadata": {
    "id": "huRuMFSNgJFz"
   },
   "source": [
    "- 프로그램이 실행되는 동안 오류가 발생하면 프로그램이 더 이상 진행될 수 없는 상태가 되는데 이를 예외라고 함\n",
    "- 예외가 발생해도 프로그램을 중단하지 않고 예외에 대한 적절한 처리를 하여 프로그램을 계속 진행하도록 하는 구문이 try ~ except"
   ]
  },
  {
   "cell_type": "markdown",
   "id": "9143e647",
   "metadata": {
    "id": "SUE-iJHqgJF1"
   },
   "source": [
    "#### 파이썬에서 예외 처리\n",
    "프로그램 실행 중 발생할 수 있는 오류를 예상하고 관리할 수 있게 하는 강력한 기능이다. 이는 try, except, else, finally 블록을 사용해 수행된다. 각 구성 요소에 대해 간략히 설명하자면:\n",
    "\n",
    "- try: 이 코드 블록은 예외를 발생시킬 수 있는 연산을 포함한다. 코드가 오류를 일으킬 수 있다는 것을 \"시도\"하는 곳이다.\n",
    "\n",
    "- except: try 블록 내에서 오류가 발생하면, 파이썬은 그 블록의 실행을 멈추고 except 블록으로 점프한다. except 블록에서는 예외를 처리한다, 즉 오류에 대응하는 코드가 들어간다. 특정 예외를 이름으로 잡거나 모든 예외를 잡을 수 있다.\n",
    "\n",
    "- else: 이 블록은 선택적이며 try-except 블록 뒤에 올 수 있다. else 블록의 코드는 try 블록에서 예외가 발생하지 않았을 때만 실행된다. try 블록이 성공적으로 실행됐을 때만 실행되어야 하는 코드를 넣기에 적합하다.\n",
    "\n",
    "- finally: 이 블록은 선택적이지만, 존재한다면 예외 발생 여부와 관계없이 실행된다. 파일을 닫거나 리소스를 해제하는 등의 정리 작업을 위해 자주 사용된다. 이 작업들은 오류 발생 여부와 관계없이 수행되어야 한다.\n",
    "#### 예외 처리 방법\n",
    "- try + except<br>\n",
    "  try : 에러가 발생할 것 같은, 예외처리를 하고 싶은 곳을 찾아서 try 구문에 코드를 작성합니다.<br>\n",
    "  except : 에러가 발생했을 때 처리할 코드를 작성합니다.\n",
    "- try + except + else<br>\n",
    "  else 는 에러가 발생하지 않았을때 거치는 구문입니다. else만 단독으로 try + else 는 불가능합니다. except 가 있어야 합니다.\n",
    "- try + finally<br>\n",
    "  finally 는 에러가 발생해도, 발생하지 않아도 무조건 거치는 구문입니다.except. 없이 try + finally 만 사용한다면 에러가 발생한 후에 finally 구문까지만 실행이 되고 프로그램이 중간에 죽게 됩니다.\n",
    "- try + except + finally\n",
    "  <br> except 구문을 추가하고 finally 구문도 있음\n",
    "- try + except + else + finally\n",
    "  <br> try (해당 구문 안에서 에러 발생 시 처리 가능 - 필수)\n",
    "  <br> except (에러 발생시 수행 - 선택이지만 에러를 처리하려면 필수)\n",
    "  <br> else (에러 없을 때 수행 - 선택이지만 except 없이는 올 수 없음)\n",
    "  <br> finally (에러가 있거나 없거나 상관없이 항상 수행 - 선택)"
   ]
  },
  {
   "cell_type": "markdown",
   "id": "6gpIjVmonYou",
   "metadata": {
    "id": "6gpIjVmonYou"
   },
   "source": [
    "과제 : 위의 예외에 대한 예외 처리를 수행하세요."
   ]
  },
  {
   "cell_type": "code",
   "execution_count": 1,
   "id": "N5YMUBZXmrwW",
   "metadata": {
    "id": "N5YMUBZXmrwW"
   },
   "outputs": [
    {
     "name": "stdout",
     "output_type": "stream",
     "text": [
      "An error occurred: name 'unknown_var' is not defined\n"
     ]
    }
   ],
   "source": [
    "try:\n",
    "    print(unknown_var)\n",
    "except NameError as e:\n",
    "    print(f\"An error occurred: {e}\")\n"
   ]
  },
  {
   "cell_type": "code",
   "execution_count": 2,
   "id": "JYFzgTIjm7ge",
   "metadata": {
    "id": "JYFzgTIjm7ge"
   },
   "outputs": [
    {
     "name": "stdout",
     "output_type": "stream",
     "text": [
      "An error occurred: can only concatenate str (not \"int\") to str\n"
     ]
    }
   ],
   "source": [
    "try:\n",
    "    '2' + 2\n",
    "except TypeError as e:\n",
    "    print(f\"An error occurred: {e}\")\n"
   ]
  },
  {
   "cell_type": "code",
   "execution_count": 3,
   "id": "dgKalYA-m9wW",
   "metadata": {
    "id": "dgKalYA-m9wW"
   },
   "outputs": [
    {
     "name": "stdout",
     "output_type": "stream",
     "text": [
      "An error occurred: invalid literal for int() with base 10: 'abc'\n"
     ]
    }
   ],
   "source": [
    "try:\n",
    "    int('abc')\n",
    "except ValueError as e:\n",
    "    print(f\"An error occurred: {e}\")\n"
   ]
  },
  {
   "cell_type": "code",
   "execution_count": 4,
   "id": "IvDaKc5Dm_bG",
   "metadata": {
    "id": "IvDaKc5Dm_bG"
   },
   "outputs": [
    {
     "name": "stdout",
     "output_type": "stream",
     "text": [
      "An error occurred: list index out of range\n"
     ]
    }
   ],
   "source": [
    "my_list = [1, 2, 3]\n",
    "try:\n",
    "    print(my_list[3])\n",
    "except IndexError as e:\n",
    "    print(f\"An error occurred: {e}\")\n"
   ]
  },
  {
   "cell_type": "code",
   "execution_count": 5,
   "id": "dk5a9nKynA8d",
   "metadata": {
    "id": "dk5a9nKynA8d"
   },
   "outputs": [
    {
     "name": "stdout",
     "output_type": "stream",
     "text": [
      "The key wasn't found: 'c'\n"
     ]
    }
   ],
   "source": [
    "my_dict = {'a': 1, 'b': 2}\n",
    "try:\n",
    "    print(my_dict['c'])\n",
    "except KeyError as e:\n",
    "    print(f\"The key wasn't found: {e}\")\n"
   ]
  },
  {
   "cell_type": "code",
   "execution_count": 6,
   "id": "413j5mUtnC8X",
   "metadata": {
    "id": "413j5mUtnC8X"
   },
   "outputs": [
    {
     "name": "stdout",
     "output_type": "stream",
     "text": [
      "An error occurred: 'list' object has no attribute 'push'\n"
     ]
    }
   ],
   "source": [
    "my_list = [1, 2, 3]\n",
    "try:\n",
    "    my_list.push(4)\n",
    "except AttributeError as e:\n",
    "    print(f\"An error occurred: {e}\")\n"
   ]
  },
  {
   "cell_type": "code",
   "execution_count": 7,
   "id": "93LL1uOXnE39",
   "metadata": {
    "id": "93LL1uOXnE39"
   },
   "outputs": [
    {
     "name": "stdout",
     "output_type": "stream",
     "text": [
      "File error: [Errno 2] No such file or directory: 'non_existent_file.txt'\n"
     ]
    }
   ],
   "source": [
    "try:\n",
    "    with open('non_existent_file.txt') as f:\n",
    "        read_data = f.read()\n",
    "except OSError as e:\n",
    "    print(f\"File error: {e}\")\n"
   ]
  },
  {
   "cell_type": "code",
   "execution_count": 8,
   "id": "IRRDJiL5nHKE",
   "metadata": {
    "id": "IRRDJiL5nHKE"
   },
   "outputs": [
    {
     "name": "stdout",
     "output_type": "stream",
     "text": [
      "Math error: division by zero\n"
     ]
    }
   ],
   "source": [
    "try:\n",
    "    division = 10 / 0\n",
    "except ZeroDivisionError as e:\n",
    "    print(f\"Math error: {e}\")\n"
   ]
  },
  {
   "cell_type": "code",
   "execution_count": 9,
   "id": "XlOXzQvhnJBO",
   "metadata": {
    "id": "XlOXzQvhnJBO"
   },
   "outputs": [
    {
     "name": "stdout",
     "output_type": "stream",
     "text": [
      "Import error: No module named 'non_existent_module'\n"
     ]
    }
   ],
   "source": [
    "try:\n",
    "    import non_existent_module\n",
    "except ImportError as e:\n",
    "    print(f\"Import error: {e}\")\n"
   ]
  },
  {
   "cell_type": "code",
   "execution_count": 10,
   "id": "AVf_6qnnnKrY",
   "metadata": {
    "id": "AVf_6qnnnKrY"
   },
   "outputs": [
    {
     "name": "stdout",
     "output_type": "stream",
     "text": [
      "1\n",
      "2\n",
      "3\n",
      "Reached the end of the iterator.\n"
     ]
    }
   ],
   "source": [
    "my_iterator = iter([1, 2, 3])\n",
    "try:\n",
    "    while True:\n",
    "        item = next(my_iterator)\n",
    "        print(item)\n",
    "except StopIteration:\n",
    "    print(\"Reached the end of the iterator.\")\n"
   ]
  },
  {
   "cell_type": "code",
   "execution_count": null,
   "id": "sLvVySHBnNsX",
   "metadata": {
    "id": "sLvVySHBnNsX"
   },
   "outputs": [],
   "source": [
    "try:\n",
    "    very_large_list = [0] * (10**10)\n",
    "except MemoryError as e:\n",
    "    print(f\"Not enough memory: {e}\")\n"
   ]
  },
  {
   "cell_type": "code",
   "execution_count": null,
   "id": "UL7QP3QGnPp5",
   "metadata": {
    "id": "UL7QP3QGnPp5"
   },
   "outputs": [],
   "source": [
    "def recursive_function():\n",
    "    recursive_function()\n",
    "try:\n",
    "    recursive_function()\n",
    "except RecursionError as e:\n",
    "    print(f\"Recursion limit reached: {e}\")\n"
   ]
  },
  {
   "cell_type": "code",
   "execution_count": 11,
   "id": "uBNwvlPmgJF2",
   "metadata": {
    "id": "uBNwvlPmgJF2",
    "outputId": "438e2b89-c641-455c-f420-a4a40cd8a230"
   },
   "outputs": [
    {
     "name": "stdout",
     "output_type": "stream",
     "text": [
      "안녕하세요\n",
      "예외가 발생했습니다\n"
     ]
    }
   ],
   "source": [
    "try:\n",
    "    print('안녕하세요')\n",
    "    print(param)\n",
    "except:\n",
    "    print('예외가 발생했습니다')"
   ]
  },
  {
   "cell_type": "code",
   "execution_count": 12,
   "id": "16s30kBigJF3",
   "metadata": {
    "id": "16s30kBigJF3",
    "outputId": "574ce32e-692e-4c3e-9556-27001c158030"
   },
   "outputs": [
    {
     "ename": "IndexError",
     "evalue": "list index out of range",
     "output_type": "error",
     "traceback": [
      "\u001b[1;31m---------------------------------------------------------------------------\u001b[0m",
      "\u001b[1;31mIndexError\u001b[0m                                Traceback (most recent call last)",
      "Cell \u001b[1;32mIn[12], line 3\u001b[0m\n\u001b[0;32m      1\u001b[0m \u001b[38;5;66;03m# Q. 예외처리를 수행하세요.\u001b[39;00m\n\u001b[0;32m      2\u001b[0m arr \u001b[38;5;241m=\u001b[39m [\u001b[38;5;124m'\u001b[39m\u001b[38;5;124mb\u001b[39m\u001b[38;5;124m'\u001b[39m, \u001b[38;5;124m'\u001b[39m\u001b[38;5;124ml\u001b[39m\u001b[38;5;124m'\u001b[39m, \u001b[38;5;124m'\u001b[39m\u001b[38;5;124mo\u001b[39m\u001b[38;5;124m'\u001b[39m, \u001b[38;5;124m'\u001b[39m\u001b[38;5;124mg\u001b[39m\u001b[38;5;124m'\u001b[39m]\n\u001b[1;32m----> 3\u001b[0m \u001b[38;5;28mprint\u001b[39m(\u001b[43marr\u001b[49m\u001b[43m[\u001b[49m\u001b[38;5;241;43m8\u001b[39;49m\u001b[43m]\u001b[49m) \u001b[38;5;66;03m# error\u001b[39;00m\n\u001b[0;32m      4\u001b[0m \u001b[38;5;28mprint\u001b[39m(\u001b[38;5;124m\"\u001b[39m\u001b[38;5;124m== Mid\u001b[39m\u001b[38;5;124m\"\u001b[39m)\n",
      "\u001b[1;31mIndexError\u001b[0m: list index out of range"
     ]
    }
   ],
   "source": [
    "# Q. 예외처리를 수행하세요.\n",
    "arr = ['b', 'l', 'o', 'g']\n",
    "print(arr[8]) # error\n",
    "print(\"== Mid\")"
   ]
  },
  {
   "cell_type": "code",
   "execution_count": 13,
   "id": "Qvtkc2SGgJF4",
   "metadata": {
    "id": "Qvtkc2SGgJF4",
    "outputId": "0f798d92-5d94-4a08-c4b5-14bd9370c7ab"
   },
   "outputs": [
    {
     "name": "stdout",
     "output_type": "stream",
     "text": [
      "list index out of range: list index out of range\n"
     ]
    }
   ],
   "source": [
    "arr=['b','l','o','g']\n",
    "try:\n",
    "    print(arr[8])\n",
    "except IndexError as e:\n",
    "    print(f'list index out of range: {e}')"
   ]
  },
  {
   "cell_type": "code",
   "execution_count": 14,
   "id": "MavpegKugJF4",
   "metadata": {
    "id": "MavpegKugJF4",
    "outputId": "f2f3314c-da07-46ac-b61a-0dda4e6c86e0"
   },
   "outputs": [
    {
     "name": "stdout",
     "output_type": "stream",
     "text": [
      "g\n",
      "예외가 발생하지 않았습니다.\n"
     ]
    }
   ],
   "source": [
    "try:\n",
    "    arr = ['b', 'l', 'o', 'g']\n",
    "    print(arr[3]) # error\n",
    "except:\n",
    "    print('예외가 발생했습니다')\n",
    "else:\n",
    "    print('예외가 발생하지 않았습니다.')"
   ]
  },
  {
   "cell_type": "code",
   "execution_count": 15,
   "id": "-eLWzKfKgJF5",
   "metadata": {
    "id": "-eLWzKfKgJF5",
    "outputId": "b19b606e-49e9-4eaf-ea10-fe5d0293e6da"
   },
   "outputs": [
    {
     "name": "stdout",
     "output_type": "stream",
     "text": [
      "== Program Start\n",
      "== finally\n"
     ]
    },
    {
     "ename": "IndexError",
     "evalue": "list index out of range",
     "output_type": "error",
     "traceback": [
      "\u001b[1;31m---------------------------------------------------------------------------\u001b[0m",
      "\u001b[1;31mIndexError\u001b[0m                                Traceback (most recent call last)",
      "Cell \u001b[1;32mIn[15], line 5\u001b[0m\n\u001b[0;32m      3\u001b[0m \u001b[38;5;28;01mtry\u001b[39;00m:\n\u001b[0;32m      4\u001b[0m     arr \u001b[38;5;241m=\u001b[39m [\u001b[38;5;124m'\u001b[39m\u001b[38;5;124mb\u001b[39m\u001b[38;5;124m'\u001b[39m, \u001b[38;5;124m'\u001b[39m\u001b[38;5;124ml\u001b[39m\u001b[38;5;124m'\u001b[39m, \u001b[38;5;124m'\u001b[39m\u001b[38;5;124mo\u001b[39m\u001b[38;5;124m'\u001b[39m, \u001b[38;5;124m'\u001b[39m\u001b[38;5;124mg\u001b[39m\u001b[38;5;124m'\u001b[39m]\n\u001b[1;32m----> 5\u001b[0m     \u001b[38;5;28mprint\u001b[39m(\u001b[43marr\u001b[49m\u001b[43m[\u001b[49m\u001b[38;5;241;43m8\u001b[39;49m\u001b[43m]\u001b[49m)  \u001b[38;5;66;03m# error\u001b[39;00m\n\u001b[0;32m      6\u001b[0m     \u001b[38;5;28mprint\u001b[39m(\u001b[38;5;124m\"\u001b[39m\u001b[38;5;124m== Mid\u001b[39m\u001b[38;5;124m\"\u001b[39m)\n\u001b[0;32m      7\u001b[0m \u001b[38;5;28;01mfinally\u001b[39;00m:\n",
      "\u001b[1;31mIndexError\u001b[0m: list index out of range"
     ]
    }
   ],
   "source": [
    "print(\"== Program Start\")\n",
    "\n",
    "try:\n",
    "    arr = ['b', 'l', 'o', 'g']\n",
    "    print(arr[8])  # error\n",
    "    print(\"== Mid\")\n",
    "finally:\n",
    "    print(\"== finally\")\n",
    "\n",
    "print(\"== Program End\")"
   ]
  },
  {
   "cell_type": "code",
   "execution_count": 16,
   "id": "usdvvYDxgJF5",
   "metadata": {
    "id": "usdvvYDxgJF5",
    "outputId": "7c67a959-f460-48c7-8f32-250fd2861536"
   },
   "outputs": [
    {
     "name": "stdout",
     "output_type": "stream",
     "text": [
      "예외가 발생했습니다\n",
      "무조건 실행하는 코드\n"
     ]
    }
   ],
   "source": [
    "try:\n",
    "    arr = ['b', 'l', 'o', 'g']\n",
    "    print(arr[8])  # error\n",
    "    print(\"== Mid\")\n",
    "except:\n",
    "    print('예외가 발생했습니다')\n",
    "finally:\n",
    "    print('무조건 실행하는 코드')"
   ]
  },
  {
   "cell_type": "code",
   "execution_count": 18,
   "id": "48BHV0RogJF6",
   "metadata": {
    "id": "48BHV0RogJF6",
    "outputId": "2791a93c-1bce-4e83-ea47-a50295c09693"
   },
   "outputs": [
    {
     "name": "stdout",
     "output_type": "stream",
     "text": [
      "== Program Start\n",
      "== except\n",
      "== finally\n",
      "== Program End\n"
     ]
    }
   ],
   "source": [
    "print(\"== Program Start\")\n",
    "\n",
    "try:\n",
    "    arr = ['b', 'l', 'o', 'g']\n",
    "#     print(arr[0]) # not error\n",
    "    print(arr[8]) # error\n",
    "    print(\"== Mid\")\n",
    "except:\n",
    "    print(\"== except\")\n",
    "else:\n",
    "    print(\"== else\")\n",
    "finally:\n",
    "    print(\"== finally\")\n",
    "\n",
    "print(\"== Program End\")"
   ]
  },
  {
   "cell_type": "markdown",
   "id": "938e0aa3",
   "metadata": {},
   "source": [
    "과제1_1107 : try ~ except, try ~ except ~ finally, try ~ except ~else, try ~ except ~else ~finally 4가지 예외 처리가 필요한 경우에 대해서 코딩을 수행하세요."
   ]
  },
  {
   "cell_type": "code",
   "execution_count": null,
   "id": "981f214f",
   "metadata": {},
   "outputs": [],
   "source": [
    "# 1-1\n",
    "try:\n",
    "    ans = int(input('정수값을 입력하세요: '))\n",
    "except:\n",
    "    print('잘못 입력하셨습니다. 다음에 다시 이용해주세요.')\n",
    "    \n",
    "# 1-2\n",
    "try:\n",
    "    ans = int(input('정수값을 입력하세요: '))\n",
    "except:\n",
    "    print('잘못 입력하셨습니다. 다음에 다시 이용해주세요.')\n",
    "finally:\n",
    "    print('프로그램을 종료합니다.')\n",
    "\n",
    "# 1-3\n",
    "try:\n",
    "    ans = int(input('정수값을 입력하세요: '))\n",
    "except:\n",
    "    print('잘못 입력하셨습니다. 다음에 다시 이용해주세요.')\n",
    "else:\n",
    "    print(f'오늘의 행운의 숫자는 {ans}입니다.')\n",
    "    \n",
    "# 1-4\n",
    "try:\n",
    "    ans = int(input('정수값을 입력하세요: '))\n",
    "except:\n",
    "    print('잘못 입력하셨습니다. 다음에 다시 이용해주세요.')\n",
    "else:\n",
    "    print(f'오늘의 행운의 숫자는 {ans}입니다.')\n",
    "finally:\n",
    "    print('프로그램을 종료합니다.')"
   ]
  },
  {
   "cell_type": "code",
   "execution_count": null,
   "id": "8aI5o08YgJF6",
   "metadata": {
    "id": "8aI5o08YgJF6",
    "outputId": "c9264a2f-0bc3-4d5f-dbb6-75b7fb558721"
   },
   "outputs": [
    {
     "name": "stdout",
     "output_type": "stream",
     "text": [
      "정수 숫자를 입력해 주세요5\n",
      "6\n"
     ]
    }
   ],
   "source": [
    "try:\n",
    "    i = int(input('정수 숫자를 입력해 주세요'))\n",
    "    print(i + 1)\n",
    "\n",
    "except:\n",
    "    print(\"input 값은 정수가 아닙니다. 다시 입력해주세요!\")"
   ]
  },
  {
   "cell_type": "code",
   "execution_count": null,
   "id": "Qzdhy4uRgJF6",
   "metadata": {
    "id": "Qzdhy4uRgJF6",
    "outputId": "d3eefbd4-b3c2-4826-c1d3-4dce203fa202"
   },
   "outputs": [
    {
     "name": "stdout",
     "output_type": "stream",
     "text": [
      "예외가 발생했습니다.\n",
      "종료합니다.\n"
     ]
    }
   ],
   "source": [
    "list=[1,2,'a','b']\n",
    "\n",
    "try:\n",
    "    print(list[4])\n",
    "except:\n",
    "    print('예외가 발생했습니다.')\n",
    "else:\n",
    "    print('예외가 발생하지않았습니다.')\n",
    "finally:\n",
    "    print('종료합니다.')"
   ]
  },
  {
   "cell_type": "code",
   "execution_count": null,
   "id": "PfxQ69AKgJF6",
   "metadata": {
    "id": "PfxQ69AKgJF6",
    "outputId": "abea19be-c469-4e7c-9e17-477db48a49fe"
   },
   "outputs": [
    {
     "name": "stdout",
     "output_type": "stream",
     "text": [
      "d\n",
      "정상 작동중\n",
      "실행 완료되었습니다.\n"
     ]
    }
   ],
   "source": [
    "list = ['a','b','c','d']\n",
    "\n",
    "try:\n",
    "    print(list[3])\n",
    "except:\n",
    "    print('예외가 발생했습니다.')\n",
    "else:\n",
    "    print('정상 작동중')\n",
    "finally:\n",
    "    print('실행 완료되었습니다.')"
   ]
  },
  {
   "cell_type": "code",
   "execution_count": null,
   "id": "P_HgKvvmgJF7",
   "metadata": {
    "id": "P_HgKvvmgJF7",
    "outputId": "79c8d244-503a-464a-e051-244c2d861f46"
   },
   "outputs": [
    {
     "name": "stdout",
     "output_type": "stream",
     "text": [
      "가\n",
      "정수를 입력해 주세요\n",
      "==================\n",
      "5\n",
      "잘 입력하셨습니다\n",
      "==================\n"
     ]
    }
   ],
   "source": [
    "while True:\n",
    "    try :\n",
    "        x = int(input(''))\n",
    "\n",
    "    except :\n",
    "        print('정수를 입력해 주세요')\n",
    "\n",
    "    else :\n",
    "        print('잘 입력하셨습니다')\n",
    "        break\n",
    "\n",
    "    finally :\n",
    "        print('==================')"
   ]
  },
  {
   "cell_type": "code",
   "execution_count": 19,
   "id": "XsBOrMrrgJF7",
   "metadata": {
    "id": "XsBOrMrrgJF7",
    "outputId": "be82d2c2-810a-451a-8ce8-5ab8acbb8343"
   },
   "outputs": [
    {
     "name": "stdout",
     "output_type": "stream",
     "text": [
      "name 'param' is not defined\n"
     ]
    }
   ],
   "source": [
    "# 코드에서 예외 발생 내용을 확인하고자 하는 경우 처리 방법\n",
    "\n",
    "try:\n",
    "    print(param)\n",
    "except Exception as e:\n",
    "    print(e)"
   ]
  },
  {
   "cell_type": "code",
   "execution_count": null,
   "id": "w2WHASdIgJF7",
   "metadata": {
    "id": "w2WHASdIgJF7",
    "outputId": "1b2f8f05-3dc2-4943-fb36-f9d5c542a8ab"
   },
   "outputs": [
    {
     "name": "stdout",
     "output_type": "stream",
     "text": [
      "1\n",
      "2\n",
      "3\n",
      "4\n",
      "5\n"
     ]
    },
    {
     "ename": "KeyboardInterrupt",
     "evalue": "",
     "output_type": "error",
     "traceback": [
      "\u001b[1;31m---------------------------------------------------------------------------\u001b[0m",
      "\u001b[1;31mKeyboardInterrupt\u001b[0m                         Traceback (most recent call last)",
      "\u001b[1;32m<ipython-input-31-957a8614fa3a>\u001b[0m in \u001b[0;36m<module>\u001b[1;34m\u001b[0m\n\u001b[0;32m      4\u001b[0m         \u001b[0mprint\u001b[0m\u001b[1;33m(\u001b[0m\u001b[0mcount\u001b[0m\u001b[1;33m)\u001b[0m\u001b[1;33m\u001b[0m\u001b[1;33m\u001b[0m\u001b[0m\n\u001b[0;32m      5\u001b[0m         \u001b[0mcount\u001b[0m \u001b[1;33m+=\u001b[0m \u001b[1;36m1\u001b[0m\u001b[1;33m\u001b[0m\u001b[1;33m\u001b[0m\u001b[0m\n\u001b[1;32m----> 6\u001b[1;33m         \u001b[0mtime\u001b[0m\u001b[1;33m.\u001b[0m\u001b[0msleep\u001b[0m\u001b[1;33m(\u001b[0m\u001b[1;36m0.5\u001b[0m\u001b[1;33m)\u001b[0m\u001b[1;33m\u001b[0m\u001b[1;33m\u001b[0m\u001b[0m\n\u001b[0m",
      "\u001b[1;31mKeyboardInterrupt\u001b[0m: "
     ]
    }
   ],
   "source": [
    "import time\n",
    "count = 1\n",
    "while True:\n",
    "        print(count)\n",
    "        count += 1\n",
    "        time.sleep(0.5)"
   ]
  },
  {
   "cell_type": "code",
   "execution_count": null,
   "id": "mqMuHCbkgJF8",
   "metadata": {
    "id": "mqMuHCbkgJF8",
    "outputId": "5c896a53-26c9-41e6-c462-e2538d9a9079"
   },
   "outputs": [
    {
     "name": "stdout",
     "output_type": "stream",
     "text": [
      "1\n",
      "2\n",
      "3\n",
      "4\n",
      "사용자에 의해 프로그램이 중단되었습니다.\n"
     ]
    }
   ],
   "source": [
    "import time\n",
    "count = 1\n",
    "try:\n",
    "\n",
    "    while True:\n",
    "        print(count)\n",
    "        count += 1\n",
    "        time.sleep(1)\n",
    "except KeyboardInterrupt:\n",
    "    print('사용자에 의해 프로그램이 중단되었습니다.')\n"
   ]
  },
  {
   "cell_type": "code",
   "execution_count": null,
   "id": "Wa6Uwfo-gJF8",
   "metadata": {
    "id": "Wa6Uwfo-gJF8",
    "outputId": "4b5a3920-fed7-4c7d-9237-98b98b39bbf6"
   },
   "outputs": [
    {
     "ename": "ValueError",
     "evalue": "invalid literal for int() with base 10: '문자'",
     "output_type": "error",
     "traceback": [
      "\u001b[1;31m---------------------------------------------------------------------------\u001b[0m",
      "\u001b[1;31mValueError\u001b[0m                                Traceback (most recent call last)",
      "\u001b[1;32m<ipython-input-33-960d1024bf9f>\u001b[0m in \u001b[0;36m<module>\u001b[1;34m\u001b[0m\n\u001b[0;32m      2\u001b[0m \u001b[0mlist_num\u001b[0m \u001b[1;33m=\u001b[0m \u001b[1;33m[\u001b[0m\u001b[1;33m]\u001b[0m\u001b[1;33m\u001b[0m\u001b[1;33m\u001b[0m\u001b[0m\n\u001b[0;32m      3\u001b[0m \u001b[1;32mfor\u001b[0m \u001b[0mi\u001b[0m \u001b[1;32min\u001b[0m \u001b[0mlist_input\u001b[0m\u001b[1;33m:\u001b[0m\u001b[1;33m\u001b[0m\u001b[1;33m\u001b[0m\u001b[0m\n\u001b[1;32m----> 4\u001b[1;33m     \u001b[0mint\u001b[0m\u001b[1;33m(\u001b[0m\u001b[0mi\u001b[0m\u001b[1;33m)\u001b[0m\u001b[1;33m\u001b[0m\u001b[1;33m\u001b[0m\u001b[0m\n\u001b[0m\u001b[0;32m      5\u001b[0m     \u001b[0mlist_num\u001b[0m\u001b[1;33m.\u001b[0m\u001b[0mappend\u001b[0m\u001b[1;33m(\u001b[0m\u001b[0mi\u001b[0m\u001b[1;33m)\u001b[0m\u001b[1;33m\u001b[0m\u001b[1;33m\u001b[0m\u001b[0m\n\u001b[0;32m      6\u001b[0m \u001b[0mprint\u001b[0m\u001b[1;33m(\u001b[0m\u001b[0mlist_num\u001b[0m\u001b[1;33m)\u001b[0m\u001b[1;33m\u001b[0m\u001b[1;33m\u001b[0m\u001b[0m\n",
      "\u001b[1;31mValueError\u001b[0m: invalid literal for int() with base 10: '문자'"
     ]
    }
   ],
   "source": [
    "list_input = ['52','273','32','문자','103']\n",
    "list_num = []\n",
    "for i in list_input:\n",
    "    int(i)\n",
    "    list_num.append(i)\n",
    "print(list_num)"
   ]
  },
  {
   "cell_type": "code",
   "execution_count": 21,
   "id": "1c7761ba",
   "metadata": {},
   "outputs": [
    {
     "name": "stdout",
     "output_type": "stream",
     "text": [
      "[52, 273, 32, 103]\n"
     ]
    }
   ],
   "source": [
    "# Q. 리스트 ['52','273','32','문자','103']에서 숫자 부분만 출력하세요(예외 처리 수행)\n",
    "\n",
    "list1 = ['52', '273', '32', '문자', '103']\n",
    "result = []\n",
    "for i in list1:\n",
    "    try:\n",
    "        result.append(int(i))\n",
    "    except:\n",
    "        pass    \n",
    "print(result)"
   ]
  },
  {
   "cell_type": "code",
   "execution_count": 24,
   "id": "86367b85",
   "metadata": {},
   "outputs": [
    {
     "name": "stdout",
     "output_type": "stream",
     "text": [
      "정수를 입력하세요: 5\n",
      "정수\n",
      "예외 발생하지 않음\n"
     ]
    }
   ],
   "source": [
    "# Q. 정수를 입력하면 '정수', 정수가 아니면 '정수 아님'을 출력하세요.\n",
    "\n",
    "try:\n",
    "    int(input('정수를 입력하세요: '))\n",
    "    print('정수')\n",
    "\n",
    "except:\n",
    "    print('정수 아님')\n",
    "# else:\n",
    "#     print('예외 발생하지 않음')"
   ]
  },
  {
   "cell_type": "markdown",
   "id": "2f56a2eb",
   "metadata": {},
   "source": [
    "과제2_1107: 두가지 시나리오를 예외처리를 하여 코드 작업을 수행하세요\n",
    "- 정수를 입력하면 > '예외 발생하지 않음' > '프로그램 종료'\n",
    "- 정수를 입력하지 않으면 > '정수 아님' > '프로그램 종료' "
   ]
  },
  {
   "cell_type": "code",
   "execution_count": 4,
   "id": "0dbd9c0a",
   "metadata": {},
   "outputs": [
    {
     "name": "stdout",
     "output_type": "stream",
     "text": [
      "정수 입력 : 가\n",
      "정수 아님\n",
      "프로그램 종료\n"
     ]
    }
   ],
   "source": [
    "try :\n",
    "    int(input(\"정수 입력 : \"))    \n",
    "except :\n",
    "    print(\"정수 아님\")\n",
    "else :\n",
    "    print(\"예외 발생하지 않음\")\n",
    "finally : \n",
    "    print(\"프로그램 종료\")"
   ]
  },
  {
   "cell_type": "code",
   "execution_count": 1,
   "id": "RbKR0WbPgJF8",
   "metadata": {
    "id": "RbKR0WbPgJF8",
    "outputId": "7fbd3415-60e3-4d58-d4e9-b4ee83a35c62"
   },
   "outputs": [
    {
     "name": "stdout",
     "output_type": "stream",
     "text": [
      "정수 입력> 5\n",
      "정수를 잘입력해 주셨습니다.\n"
     ]
    }
   ],
   "source": [
    "# Q. 정수를 입력하면 '정수', 정수가 아니면 '정수 아님'을 출력하세요.\n",
    "\n",
    "try:\n",
    "    num_input = int(input('정수 입력> '))\n",
    "except:\n",
    "    print('정수 아닙니다. 정수를 입력해 주세요!!!')\n",
    "else:\n",
    "    print('정수를 잘입력해 주셨습니다.')\n"
   ]
  },
  {
   "cell_type": "code",
   "execution_count": null,
   "id": "3g5vbVBlgJF8",
   "metadata": {
    "id": "3g5vbVBlgJF8",
    "outputId": "42b72f16-692b-4976-8aa4-26ee2fd2c796"
   },
   "outputs": [
    {
     "name": "stdout",
     "output_type": "stream",
     "text": [
      "정수 입력> 5\n",
      "5\n",
      "예외 발생하지 않음\n",
      "프로그램 종료\n"
     ]
    }
   ],
   "source": [
    "# Q. 정수를 입력하면 '입력 정수' > '예외 발생하지 않음' > '프로그램 종료'\n",
    "# 정수가 아니면 '입력 값' > '정수 아님' > '프로그램 종료' 순서대로 출력하세요\n",
    "\n",
    "try:\n",
    "    n=int(input('정수 입력> '))\n",
    "except:\n",
    "    print('정수 아님')\n",
    "else:\n",
    "    print(n)\n",
    "    print('예외 발생하지 않음')\n",
    "finally:\n",
    "    print('프로그램 종료')\n"
   ]
  },
  {
   "cell_type": "markdown",
   "id": "58822fe8",
   "metadata": {
    "id": "xKU-EYzSpGeb"
   },
   "source": [
    "문제3_1107 : 파일 이름을 사용자로부터 입력받아 파일의 내용을 읽고 출력하는 프로그램을 작성하되, 파일이 존재하지 않을 경우 사용자에게 적절한 오류 메시지를 출력하고, 다시 파일 이름을 입력받도록 처리하세요."
   ]
  },
  {
   "cell_type": "code",
   "execution_count": 5,
   "id": "1e9b3449",
   "metadata": {},
   "outputs": [
    {
     "name": "stdout",
     "output_type": "stream",
     "text": [
      "읽고 싶은 파일의 이름을 입력하세요 (예: text.txt): test.txt\n",
      "입력하신 이름의 파일이 존재하지 않습니다. 다시 확인해주세요.\n",
      "읽고 싶은 파일의 이름을 입력하세요 (예: text.txt): test.txt\n",
      "입력하신 이름의 파일이 존재하지 않습니다. 다시 확인해주세요.\n",
      "읽고 싶은 파일의 이름을 입력하세요 (예: text.txt): text.txt\n",
      "입력하신 이름의 파일이 존재하지 않습니다. 다시 확인해주세요.\n",
      "읽고 싶은 파일의 이름을 입력하세요 (예: text.txt): test1.txt\n",
      "1번째 줄입니다.\n",
      "2번째 줄입니다.\n",
      "3번째 줄입니다.\n",
      "4번째 줄입니다.\n",
      "5번째 줄입니다.\n",
      "6번째 줄입니다.\n",
      "7번째 줄입니다.\n",
      "8번째 줄입니다.\n",
      "9번째 줄입니다.\n",
      "10번째 줄입니다.\n",
      "11번째 줄입니다.\n",
      "12번째 줄입니다.\n",
      "13번째 줄입니다.\n",
      "14번째 줄입니다.\n",
      "15번째 줄입니다.\n",
      "\n"
     ]
    }
   ],
   "source": [
    "while 1:\n",
    "    try:\n",
    "        file_name = input(\"읽고 싶은 파일의 이름을 입력하세요 (예: text.txt): \")\n",
    "        with open(file_name) as f:\n",
    "            data = f.read()\n",
    "            print(data)\n",
    "        break\n",
    "    except:\n",
    "        print(\"입력하신 이름의 파일이 존재하지 않습니다. 다시 확인해주세요.\")"
   ]
  },
  {
   "cell_type": "code",
   "execution_count": null,
   "id": "EiTtENUjp7iQ",
   "metadata": {
    "id": "EiTtENUjp7iQ"
   },
   "outputs": [],
   "source": [
    "def read_file():\n",
    "    while True:\n",
    "        filename = input(\"파일 이름을 입력해주세요: \")\n",
    "        try:\n",
    "            with open(filename, 'r') as f:\n",
    "                print(f.read())\n",
    "            break  # 파일이 성공적으로 읽혔으므로 반복문을 종료한다.\n",
    "        except FileNotFoundError:\n",
    "            print(\"파일을 찾을 수 없습니다. 다시 시도해주세요.\")\n",
    "\n",
    "read_file()\n"
   ]
  },
  {
   "cell_type": "markdown",
   "id": "bbf91f33",
   "metadata": {
    "id": "5iAclVI4qHdZ"
   },
   "source": [
    "문제4_1107 : 사용자로부터 문자열을 입력받아 정수로 변환하고 출력하는 프로그램을 작성하세요. 입력된 문자열이 정수로 변환될 수 없는 경우, 사용자에게 ValueError가 발생했다는 메시지를 출력하고, 다시 입력을 받도록 처리하세요."
   ]
  },
  {
   "cell_type": "code",
   "execution_count": 7,
   "id": "efe8a97d",
   "metadata": {},
   "outputs": [
    {
     "name": "stdout",
     "output_type": "stream",
     "text": [
      "정수입력R\n",
      "ValueError: 정수로 변환할 수 없습니다. 다시 시도하세요.\n",
      "정수입력5\n",
      "입력한 정수: 5\n"
     ]
    }
   ],
   "source": [
    "while True:\n",
    "    try:\n",
    "        x = input('정수입력')\n",
    "        number = int(x)\n",
    "        print(f\"입력한 정수: {number}\")\n",
    "        break\n",
    "    except:\n",
    "        print(\"ValueError: 정수로 변환할 수 없습니다. 다시 시도하세요.\")"
   ]
  },
  {
   "cell_type": "code",
   "execution_count": null,
   "id": "uZjeAkvtoyP3",
   "metadata": {
    "id": "uZjeAkvtoyP3"
   },
   "outputs": [],
   "source": [
    "def convert_to_integer():\n",
    "    while True:\n",
    "        user_input = input(\"정수로 변환할 문자열을 입력해주세요: \")\n",
    "        try:\n",
    "            user_input_as_int = int(user_input)\n",
    "            print(f\"변환된 정수: {user_input_as_int}\")\n",
    "            break\n",
    "        except ValueError:\n",
    "            print(\"유효한 정수가 아닙니다. 다시 시도해주세요.\")\n",
    "\n",
    "convert_to_integer()\n"
   ]
  },
  {
   "cell_type": "markdown",
   "id": "cbac636e",
   "metadata": {
    "id": "s9PL0VXTppoT"
   },
   "source": [
    "문제 5_1107: 리스트 인덱스 예외 처리\n",
    "사용자로부터 인덱스를 입력받아, 사전에 정의된 리스트의 해당 인덱스의 값을 출력하는 프로그램을 작성하세요. 사용자가 유효하지 않은 인덱스를 입력할 경우 IndexError를 처리하여, 오류 메시지를 출력하고 다시 인덱스를 입력받도록 하세요."
   ]
  },
  {
   "cell_type": "code",
   "execution_count": 8,
   "id": "9161af02",
   "metadata": {},
   "outputs": [
    {
     "name": "stdout",
     "output_type": "stream",
     "text": [
      "인덱스값(0~2)3\n",
      "list index out of range 0~2만 입력하세요\n",
      "인덱스값(0~2)2\n",
      "자바스크립트\n"
     ]
    }
   ],
   "source": [
    "while True:\n",
    "    try:\n",
    "        my_list=['파이썬','자바','자바스크립트']\n",
    "        print(my_list[int(input('인덱스값(0~2)'))])\n",
    "        break\n",
    "    except IndexError as e:\n",
    "        print(f'{e} 0~2만 입력하세요')"
   ]
  },
  {
   "cell_type": "code",
   "execution_count": null,
   "id": "0dZojQOJqSZv",
   "metadata": {
    "id": "0dZojQOJqSZv"
   },
   "outputs": [],
   "source": [
    "def get_list_element():\n",
    "    my_list = [1, 2, 3, 4, 5]\n",
    "    while True:\n",
    "        try:\n",
    "            index = int(input(\"인덱스를 입력해주세요(0부터 시작): \"))\n",
    "            print(f\"선택된 요소: {my_list[index]}\")\n",
    "            break\n",
    "        except IndexError:\n",
    "            print(\"잘못된 인덱스입니다. 리스트의 범위 내에서 입력해주세요.\")\n",
    "        except ValueError:\n",
    "            print(\"정수 값을 입력해주세요.\")\n",
    "\n",
    "get_list_element()\n"
   ]
  },
  {
   "cell_type": "markdown",
   "id": "4b5596ed",
   "metadata": {
    "id": "78rQaSUQpiV4"
   },
   "source": [
    "문제6_1107: 딕셔너리 키 예외 처리\n",
    "사용자로부터 키를 입력받아, 사전에 정의된 딕셔너리에서 해당 키의 값을 출력하는 프로그램을 작성하세요. 입력된 키가 딕셔너리에 존재하지 않을 경우 KeyError를 처리하여 사용자에게 알려주고, 다른 키를 입력받도록 하세요."
   ]
  },
  {
   "cell_type": "code",
   "execution_count": 9,
   "id": "d1b1b76e",
   "metadata": {},
   "outputs": [
    {
     "name": "stdout",
     "output_type": "stream",
     "text": [
      "당신이 좋아하는 분식류는 무엇인가요?: 만두\n",
      "예시로 들었던 분식은 '김밥, 떡볶이, 튀김, 순대, 우동, 국수'입니다. 이 중 하나를 골라주세요.\n",
      "\n",
      "당신이 좋아하는 분식류는 무엇인가요?: 김밥\n",
      "선택하신 분식을 좋아하는 사람은 '3'명이 더 있습니다.\n"
     ]
    }
   ],
   "source": [
    "dict = {'김밥':3, '떡볶이':2, '튀김':7, '순대':4, '우동':1, '국수':10}\n",
    "result = ''\n",
    "\n",
    "while 1:\n",
    "    try:\n",
    "        key = input(\"당신이 좋아하는 분식류는 무엇인가요?: \")\n",
    "        result = dict[key]\n",
    "    except Exception as e:\n",
    "        print(\"예시로 들었던 분식은 '김밥, 떡볶이, 튀김, 순대, 우동, 국수'입니다. 이 중 하나를 골라주세요.\\n\")\n",
    "    else:\n",
    "        print(f\"선택하신 분식을 좋아하는 사람은 '{result}'명이 더 있습니다.\")\n",
    "        break"
   ]
  },
  {
   "cell_type": "code",
   "execution_count": null,
   "id": "0LSrYfjvpxC5",
   "metadata": {
    "id": "0LSrYfjvpxC5"
   },
   "outputs": [],
   "source": [
    "def get_dictionary_value():\n",
    "    my_dict = {'apple': '사과', 'banana': '바나나', 'cherry': '체리'}\n",
    "    while True:\n",
    "        key = input(\"값을 얻고 싶은 키를 입력해주세요: \")\n",
    "        try:\n",
    "            print(f\"선택된 키의 값: {my_dict[key]}\")\n",
    "            break\n",
    "        except KeyError:\n",
    "            print(\"해당 키는 딕셔너리에 없습니다. 다시 시도해주세요.\")\n",
    "\n",
    "get_dictionary_value()\n"
   ]
  },
  {
   "cell_type": "markdown",
   "id": "f258874a",
   "metadata": {
    "id": "fPSrZ74CpNM6"
   },
   "source": [
    "문제7_1107: 재귀 깊이 예외 처리\n",
    "사용자로부터 정수 n을 입력받아 n번 자기 자신을 호출하는 재귀 함수를 실행하는 프로그램을 작성하세요. RecursionError가 발생하면 오류 메시지를 출력하고, 프로그램을 안전하게 종료하세요."
   ]
  },
  {
   "cell_type": "code",
   "execution_count": 5,
   "id": "XlB0oJuSp3uR",
   "metadata": {
    "colab": {
     "base_uri": "https://localhost:8080/"
    },
    "executionInfo": {
     "elapsed": 9138,
     "status": "ok",
     "timestamp": 1699190811166,
     "user": {
      "displayName": "kevin park",
      "userId": "02703084888761299921"
     },
     "user_tz": -540
    },
    "id": "XlB0oJuSp3uR",
    "outputId": "ac523bf5-5ff6-442e-cb31-c0b78ff55206"
   },
   "outputs": [
    {
     "name": "stdout",
     "output_type": "stream",
     "text": [
      "얼마나 깊은 재귀를 원하십니까? 1200\n",
      "재귀 호출이 너무 깊습니다. 더 낮은 수를 입력해주세요.\n",
      "얼마나 깊은 재귀를 원하십니까? 50\n"
     ]
    }
   ],
   "source": [
    "def recursive_call(n):\n",
    "    if n == 0:\n",
    "        return\n",
    "    recursive_call(n-1)\n",
    "\n",
    "def start_recursive_call():\n",
    "    while True:\n",
    "        try:\n",
    "            n = int(input(\"얼마나 깊은 재귀를 원하십니까? \"))\n",
    "            recursive_call(n)\n",
    "            break\n",
    "        except RecursionError:\n",
    "            print(\"재귀 호출이 너무 깊습니다. 더 낮은 수를 입력해주세요.\")\n",
    "        except ValueError:\n",
    "            print(\"정수 값을 입력해주세요.\")\n",
    "\n",
    "start_recursive_call()\n"
   ]
  }
 ],
 "metadata": {
  "colab": {
   "provenance": []
  },
  "kernelspec": {
   "display_name": "Python 3 (ipykernel)",
   "language": "python",
   "name": "python3"
  },
  "language_info": {
   "codemirror_mode": {
    "name": "ipython",
    "version": 3
   },
   "file_extension": ".py",
   "mimetype": "text/x-python",
   "name": "python",
   "nbconvert_exporter": "python",
   "pygments_lexer": "ipython3",
   "version": "3.10.13"
  }
 },
 "nbformat": 4,
 "nbformat_minor": 5
}
