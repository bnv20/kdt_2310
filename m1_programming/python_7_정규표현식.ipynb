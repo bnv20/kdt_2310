{
 "cells": [
  {
   "cell_type": "markdown",
   "id": "2d8100c7",
   "metadata": {
    "id": "dfbaa7c4"
   },
   "source": [
    "파이썬에서 정규 표현식(Regular Expressions)은 문자열을 처리할 때 매우 강력하고 유연한 도구\n",
    "\n",
    "기본 개념:\n",
    "- 패턴 매칭 (Pattern Matching): 특정 패턴이 문자열에 존재하는지 확인. 예를 들어, 이메일 주소나 전화번호와 같은 특정 형식을 갖는 문자열을 찾을 때 사용\n",
    "\n",
    "- 메타 문자 (Meta Characters): 정규 표현식의 핵심 요소로, 특별한 의미를 가진 문자들. 예를 들어, ^, $, *, +, ?, {}, [], \\, |, () 등이 있습니다.\n",
    "\n",
    "- 리터럴 (Literal): 일반 텍스트 문자. 특별한 의미 없이 문자 그대로를 의미\n",
    "\n",
    "re 모듈 : 파이썬은 정규표현식을 지원하기 위해 기본으로 제공\n",
    "- re.compile의 결과로 리턴되는 객체를 이용하여 그 이후 작업 수행\n",
    "\n",
    "주요 기능:\n",
    "- re.match(pattern, string): 문자열 내에서 시작 부분부터 정규표현식과 일치하는지 확인\n",
    "- re.search(pattern, string): 문자열 전체를 검색하여 주어진 정규표현식과 일치하는 첫번째 위치를 확인\n",
    "- re.findall(pattern, string): 문자열 내에서 주어진 패턴과 일치하는 모든 부분을 찾아 리스트로 반환\n",
    "- re.finditer(): 정규식과 매치되는 모든 문자열을 반복 가능한 객체로 리턴\n",
    "- re.sub(pattern, repl, string): 문자열 내에서 주어진 패턴과 일치하는 부분을 다른 문자열로 대체\n",
    "- re.compile(pattern): 주어진 패턴을 컴파일하여 재사용 가능한 정규 표현식 객체를 생성"
   ]
  },
  {
   "cell_type": "markdown",
   "id": "f779c8d6",
   "metadata": {},
   "source": [
    "re.match에서 반환되는 match 객체는 클래스의 인스턴스\n",
    "- Python의 re 모듈에서 match 객체는 re.Match 클래스의 인스턴스로, 정규 표현식과의 일치에 대한 정보를 담고 있다.\n",
    "\n",
    "- re.Match 클래스의 인스턴스는 다음과 같은 중요한 메소드와 속성을 가지고 있다:\n",
    "  - group(): 일치하는 문자열을 반환. group(0) 또는 group()은 전체 일치를 반환\n",
    "  - start() 및 end(): 일치하는 부분의 시작과 끝 인덱스를 반환.\n",
    "  - span(): 일치하는 부분의 시작과 끝 인덱스를 포함하는 튜플을 반환.\n",
    "  \n",
    "re.match() 함수의 작동원리\n",
    "- 입력: re.match() 함수는 두 가지 주요 인자를 받는다:\n",
    "    - pattern: 검사할 정규 표현식 패턴. 이 패턴은 문자열에서 찾고자 하는 문자의 시퀀스를 정의.\n",
    "    - string: 검사할 전체 문자열입니다.\n",
    "- 패턴 일치 검사: 함수는 주어진 string의 시작 부분부터 pattern에 정의된 정규 표현식과 일치하는지 확인. 여기서 \"시작 부분\"이 중요한데, 이는 함수가 문자열의 처음부터 패턴과 일치하는 부분을 찾는다는 것을 의미.\n",
    "\n",
    "- 결과 반환:\n",
    "    - 일치하는 경우: 패턴이 문자열의 시작 부분과 일치하는 경우, 함수는 re.Match 객체를 반환. 이 객체는 일치에 대한 상세한 정보(예: 일치하는 문자열, 시작 및 끝 인덱스, 캡처된 그룹 등)를 포함.\n",
    "    - 일치하지 않는 경우: 패턴이 문자열의 시작 부분과 일치하지 않으면, 함수는 None을 반환. "
   ]
  },
  {
   "cell_type": "code",
   "execution_count": 4,
   "id": "d1c3c4c3",
   "metadata": {},
   "outputs": [
    {
     "name": "stdout",
     "output_type": "stream",
     "text": [
      "apple\n",
      "apple\n",
      "0\n",
      "5\n",
      "(0, 5)\n"
     ]
    }
   ],
   "source": [
    "import re\n",
    "\n",
    "match = re.match('apple','apple pie')\n",
    "print(match.group())\n",
    "print(match.group(0))\n",
    "print(match.start())\n",
    "print(match.end())\n",
    "print(match.span())"
   ]
  },
  {
   "cell_type": "code",
   "execution_count": 6,
   "id": "d199c98c",
   "metadata": {},
   "outputs": [
    {
     "name": "stdout",
     "output_type": "stream",
     "text": [
      "apple\n"
     ]
    }
   ],
   "source": [
    "# 그룹 선택\n",
    "p = r'(apple) pie'\n",
    "t = 'apple pie'\n",
    "\n",
    "match = re.match(p,t)\n",
    "print(match.group(1))"
   ]
  },
  {
   "cell_type": "code",
   "execution_count": 9,
   "id": "cd8c6025",
   "metadata": {},
   "outputs": [
    {
     "name": "stdout",
     "output_type": "stream",
     "text": [
      "pie\n"
     ]
    }
   ],
   "source": [
    "# Q. 위의 예제를 수정해서 group(2)를 출력해 보세요\n",
    "\n",
    "p = r'(apple) (pie)'\n",
    "t = 'apple pie'\n",
    "\n",
    "match = re.match(p,t)\n",
    "print(match.group(2))"
   ]
  },
  {
   "cell_type": "code",
   "execution_count": 5,
   "id": "e7881e36",
   "metadata": {},
   "outputs": [
    {
     "name": "stdout",
     "output_type": "stream",
     "text": [
      "apple\n",
      "apple\n",
      "6\n",
      "11\n",
      "(6, 11)\n"
     ]
    }
   ],
   "source": [
    "search = re.search('apple','sweet apple pie')\n",
    "print(search.group())\n",
    "print(search.group(0))\n",
    "print(search.start())\n",
    "print(search.end())\n",
    "print(search.span())"
   ]
  },
  {
   "cell_type": "code",
   "execution_count": 1,
   "id": "fc432393",
   "metadata": {
    "id": "fc432393",
    "outputId": "ae6f70d9-8fe0-4899-80f0-46d1029e3fbf"
   },
   "outputs": [
    {
     "name": "stdout",
     "output_type": "stream",
     "text": [
      "Found an apple!\n",
      "['ab', 'ac', 'ad']\n",
      "red sky and red ocean\n",
      "['e', 'd']\n"
     ]
    }
   ],
   "source": [
    "import re\n",
    "\n",
    "# 검색하기\n",
    "if re.search('apple', 'apple pie'):\n",
    "    print(\"Found an apple!\")\n",
    "\n",
    "# 모든 일치 항목 찾기\n",
    "print(re.findall('a.', 'ab ac ad')) # 어떤 한 문자와 일치\n",
    "\n",
    "# 문자열 대체하기\n",
    "print(re.sub('blue', 'red', 'blue sky and blue ocean'))\n",
    "\n",
    "# 패턴 컴파일하기\n",
    "pattern = re.compile('[a-e]')\n",
    "print(pattern.findall('hello world'))\n"
   ]
  },
  {
   "cell_type": "markdown",
   "id": "67ce7d84",
   "metadata": {
    "id": "7334f763"
   },
   "source": [
    "#### 정규 표현식의 기본 구성 요소\n",
    "1. 리터럴(Literals): 일반 텍스트 문자(예: a, b, 1, 2)\n",
    "\n",
    "2. 메타 문자(Meta Characters): 특별한 의미를 지닌 문자들\n",
    "- `.`: 어떤 한 문자와 일치 (\\n 제외)\n",
    "- ^: 문자열의 시작과 일치\n",
    "- $: 문자열의 끝과 일치\n",
    "- *: 0번 이상 반복되는 경우와 일치\n",
    "- +: 1번 이상 반복되는 경우와 일치\n",
    "- ?: 0번 또는 1번 등장하는 경우와 일치\n",
    "- {m,n}: 최소 m번, 최대 n번 반복\n",
    "- []: 문자 집합 중 하나와 일치 (예: [abc]는 a, b, c 중 하나와 일치)\n",
    "- |: OR 조건 (예: a|b는 a 또는 b)\n",
    "- (...): 그룹화\n",
    "\n",
    "3. 특수 시퀀스(Special Sequences):\n",
    "- \\d: 숫자와 일치\n",
    "- \\D: 숫자가 아닌 문자와 일치\n",
    "- \\s: 공백 문자와 일치\n",
    "- \\S: 공백이 아닌 문자와 일치\n",
    "- \\w: 단어 문자(문자, 숫자, 밑줄)와 일치\n",
    "- \\W: 단어 문자가 아닌 것과 일치\n",
    "\n",
    "\n"
   ]
  },
  {
   "cell_type": "markdown",
   "id": "01fd8737",
   "metadata": {
    "id": "kpa5DNzAdssQ"
   },
   "source": [
    "1. `.` (마침표)\n",
    "- 의미: 어떤 한 문자와 일치(줄바꿈 문자 제외)\n",
    "- 예시:\n",
    "  - 패턴: a.b\n",
    "  - 매칭 예시: \"acb\", \"a*b\", \"a3b\"\n",
    "  - 불일치 예시: \"ab\", \"a\\nb\"\n",
    "2. ^ (캐럿)\n",
    "- 의미: 문자열의 시작과 일치\n",
    "- 예시:\n",
    "  - 패턴: ^Hello\n",
    "  - 매칭 예시: \"Hello world\"\n",
    "  - 불일치 예시: \"world, Hello\"\n",
    "3. \\$ (달러 기호)\n",
    "- 의미: 문자열의 끝과 일치\n",
    "- 예시:\n",
    "  - 패턴: end$\n",
    "  - 매칭 예시: \"It's the end\"\n",
    "  - 불일치 예시: \"end of the story\"\n",
    "4. \\* (별표)\n",
    "- 의미: 앞의 문자가 0번 이상 반복\n",
    "- 예시:\n",
    "  - 패턴: a*b\n",
    "  - 매칭 예시: \"b\", \"ab\", \"aaab\"\n",
    "  - 불일치 예시: \"a\"\n",
    "5. \\+ (플러스)\n",
    "- 의미: 앞의 문자가 1번 이상 반복\n",
    "- 예시:\n",
    "  - 패턴: a+b\n",
    "  - 매칭 예시: \"ab\", \"aaab\"\n",
    "  - 불일치 예시: \"b\", \"a\"\n",
    "6. ? (물음표)\n",
    "- 의미: 앞의 문자가 0번 또는 1번 등장\n",
    "- 예시:\n",
    "  - 패턴: a?b\n",
    "  - 매칭 예시: \"ab\", \"b\"\n",
    "  - 불일치 예시: \"aab\"\n",
    "7. {m,n} (중괄호)\n",
    "- 의미: 앞의 문자가 최소 m번, 최대 n번 반복\n",
    "- 예시:\n",
    "  - 패턴: a{2,3}\n",
    "  - 매칭 예시: \"aa\", \"aaa\"\n",
    "  - 불일치 예시: \"a\", \"aaaa\"\n",
    "8. `[]` (대괄호)\n",
    "- 의미: 대괄호 안의 문자 중 하나와 일치\n",
    "- 예시:\n",
    "  - 패턴: [abc]\n",
    "  - 매칭 예시: \"a\", \"b\", \"c\"\n",
    "  - 불일치 예시: \"d\"\n",
    "9. | (파이프)\n",
    "- 의미: OR 조건\n",
    "- 예시:\n",
    "  - 패턴: a|b\n",
    "  - 매칭 예시: \"a\", \"b\"\n",
    "  - 불일치 예시: \"c\"\n",
    "10. (...) (괄호)\n",
    "- 의미: 그룹화, 캡처 그룹\n",
    "- 예시:\n",
    "  - 패턴: (a|b)c\n",
    "  - 매칭 예시: \"ac\", \"bc\""
   ]
  },
  {
   "cell_type": "markdown",
   "id": "Q55cVdf0g8KA",
   "metadata": {
    "id": "Q55cVdf0g8KA"
   },
   "source": [
    "m.group()\n",
    "- Python의 re 모듈에서 정규 표현식에 대한 매치(match) 객체의 메서드\n",
    "- 매치 객체는 re.search(), re.match(), re.finditer()와 같은 함수가 정규 표현식 패턴과 문자열에서 일치를 찾았을 때 반환\n",
    "- m.group() 메서드는 특정 매치에 접근하는 데 사용. 여기서 m은 매치 객체. 이 메서드를 사용하면 정규 표현식에 의해 식별된 특정 그룹의 일치 부분을 추출\n",
    "\n",
    "사용 방법\n",
    "- m.group(): 괄호 없이 사용하면 전체 매치된 문자열을 반환.\n",
    "- m.group(n): 여기서 n은 그룹의 인덱스 번호입니다. 이 메서드는 정규 표현식 내의 특정 그룹에 해당하는 문자열을 반환. 그룹은 괄호 ()로 정의."
   ]
  },
  {
   "cell_type": "markdown",
   "id": "pyX5qlDziVkw",
   "metadata": {
    "id": "pyX5qlDziVkw"
   },
   "source": [
    "- 아래 코드는 주어진 텍스트에서 YYYY-MM-DD 형식의 날짜를 찾는다.\n",
    "- 정규 표현식에서 괄호 ()로 묶인 부분은 그룹으로 정의되며, match.group(n) 메서드를 사용하여 각 그룹의 내용(여기서는 연도, 월, 일)을 추출.\n",
    "- match.group()는 전체 패턴에 일치하는 문자열을 반환.\n",
    "- match.group(1), match.group(2), match.group(3)는 각각 첫 번째, 두 번째, 세 번째 그룹에 해당하는 부분을 반환"
   ]
  },
  {
   "cell_type": "markdown",
   "id": "0a38d290",
   "metadata": {},
   "source": [
    "Python에서 로우 스트링\n",
    "- 문자열 앞에 r이나 R을 붙여 정의\n",
    "- 주요 목적은 문자열 내의 백슬래시(\\)를 이스케이프 시퀀스로 처리하지 않도록 하는 것이다.\n",
    "- 예를 들어:\n",
    "    - 일반 문자열: \"\\\\\\d\" (정규 표현식에서 숫자를 의미하는 \\d를 나타내려면 두 개의 백슬래시가 필요)\n",
    "    - 로우 스트링: r\"\\d\" (한 개의 백슬래시만으로도 정규 표현식에서 \\d를 나타낼 수 있음)"
   ]
  },
  {
   "cell_type": "code",
   "execution_count": 8,
   "id": "SZOeRcKEh0CQ",
   "metadata": {
    "colab": {
     "base_uri": "https://localhost:8080/"
    },
    "executionInfo": {
     "elapsed": 437,
     "status": "ok",
     "timestamp": 1699540930418,
     "user": {
      "displayName": "kevin park",
      "userId": "02703084888761299921"
     },
     "user_tz": -540
    },
    "id": "SZOeRcKEh0CQ",
    "outputId": "46575390-9999-4a46-c843-4094da7b7285"
   },
   "outputs": [
    {
     "name": "stdout",
     "output_type": "stream",
     "text": [
      "전체 날짜:  2023-04-30\n",
      "연도:  2023\n",
      "월:  04\n",
      "일:  30\n"
     ]
    }
   ],
   "source": [
    "import re\n",
    "\n",
    "# 정규 표현식 패턴: YYYY-MM-DD 형식의 날짜 (예: 2023-04-30)\n",
    "pattern = r'(\\d{4})-(\\d{2})-(\\d{2})'\n",
    "\n",
    "# 검색할 문자열\n",
    "text = \"오늘의 날짜는 2023-04-30입니다.\"\n",
    "\n",
    "# 패턴 검색\n",
    "match = re.search(pattern, text)\n",
    "\n",
    "# 매치 결과 확인\n",
    "if match:\n",
    "    print(\"전체 날짜: \", match.group())   # 전체 매치 ('2023-04-30')\n",
    "    print(\"연도: \", match.group(1))      # 첫 번째 그룹 ('2023')\n",
    "    print(\"월: \", match.group(2))        # 두 번째 그룹 ('04')\n",
    "    print(\"일: \", match.group(3))        # 세 번째 그룹 ('30')\n",
    "else:\n",
    "    print(\"매치되는 날짜가 없습니다.\")\n",
    "\n"
   ]
  },
  {
   "cell_type": "markdown",
   "id": "6e1f0f24",
   "metadata": {},
   "source": [
    "문제1_1113: 문자열 \"The cat in the hat.\"에서 \"cat\"과 \"hat\"을 찾으세요."
   ]
  },
  {
   "cell_type": "code",
   "execution_count": 15,
   "id": "40285c05",
   "metadata": {},
   "outputs": [
    {
     "name": "stdout",
     "output_type": "stream",
     "text": [
      "['chat', 'hat']\n"
     ]
    }
   ],
   "source": [
    "import re\n",
    "\n",
    "print(re.findall(\"[ch]*at\",\"The cat in the hat.\"))"
   ]
  },
  {
   "cell_type": "code",
   "execution_count": 16,
   "id": "8417e5ef",
   "metadata": {},
   "outputs": [
    {
     "name": "stdout",
     "output_type": "stream",
     "text": [
      "['cat', 'hat']\n"
     ]
    }
   ],
   "source": [
    "import re\n",
    "\n",
    "text = \"The cat in the hat.\"\n",
    "pattern = r\"(cat|hat)\"\n",
    "matches = re.findall(pattern, text)\n",
    "print(matches)  # ['cat', 'hat']\n"
   ]
  },
  {
   "cell_type": "markdown",
   "id": "0c4ed3bf",
   "metadata": {},
   "source": [
    "문제2_1113: 문자열 \"bat, cat, rat, fat\"에서 \"bat\", \"cat\", \"rat\"을 찾되, \"fat\"은 제외하세요."
   ]
  },
  {
   "cell_type": "code",
   "execution_count": 17,
   "id": "93878705",
   "metadata": {},
   "outputs": [
    {
     "name": "stdout",
     "output_type": "stream",
     "text": [
      "['bat', 'cat', 'rat']\n"
     ]
    }
   ],
   "source": [
    "import re\n",
    "\n",
    "p2 = r\"[^f]at\"\n",
    "t2 = \"bat, cat, rat, fat\"\n",
    "s2 = re.findall(p2, t2)\n",
    "\n",
    "print(s2)"
   ]
  },
  {
   "cell_type": "code",
   "execution_count": 18,
   "id": "c930b300",
   "metadata": {},
   "outputs": [
    {
     "name": "stdout",
     "output_type": "stream",
     "text": [
      "['bat', 'cat', 'rat']\n"
     ]
    }
   ],
   "source": [
    "print(re.findall(\"[bcr]+at\",\"bat, cat, rat, fat\"))"
   ]
  },
  {
   "cell_type": "code",
   "execution_count": 11,
   "id": "a0f40410",
   "metadata": {},
   "outputs": [
    {
     "name": "stdout",
     "output_type": "stream",
     "text": [
      "['bat', 'cat', 'rat']\n"
     ]
    }
   ],
   "source": [
    "import re\n",
    "\n",
    "text = \"bat, cat, rat, fat\"\n",
    "pattern = r\"[bcr]at\"\n",
    "matches = re.findall(pattern, text)\n",
    "print(matches)  # ['bat', 'cat', 'rat']\n"
   ]
  },
  {
   "cell_type": "markdown",
   "id": "8759d47e",
   "metadata": {},
   "source": [
    "문제3_1113: 문자열 \"123 abc 456\"에서 모든 숫자를 찾으세요."
   ]
  },
  {
   "cell_type": "code",
   "execution_count": 22,
   "id": "21809a3a",
   "metadata": {},
   "outputs": [
    {
     "name": "stdout",
     "output_type": "stream",
     "text": [
      "['123', '456']\n"
     ]
    }
   ],
   "source": [
    "import re\n",
    "\n",
    "text = \"123 abc 456\"\n",
    "\n",
    "pattern = r'\\d+'\n",
    "\n",
    "matches = re.findall(pattern, text)\n",
    "\n",
    "print(matches)"
   ]
  },
  {
   "cell_type": "code",
   "execution_count": 12,
   "id": "5a854c91",
   "metadata": {},
   "outputs": [
    {
     "name": "stdout",
     "output_type": "stream",
     "text": [
      "['123', '456']\n"
     ]
    }
   ],
   "source": [
    "import re\n",
    "\n",
    "text = \"123 abc 456\"\n",
    "pattern = r\"\\d+\"\n",
    "matches = re.findall(pattern, text)\n",
    "print(matches)  # ['123', '456']\n"
   ]
  },
  {
   "cell_type": "markdown",
   "id": "42cd51ec",
   "metadata": {},
   "source": [
    "문제4_1113: 문자열 \"Hello, my name is John.\"에서 첫 단어 \"Hello\"를 찾으세요."
   ]
  },
  {
   "cell_type": "code",
   "execution_count": 23,
   "id": "4e295325",
   "metadata": {},
   "outputs": [
    {
     "name": "stdout",
     "output_type": "stream",
     "text": [
      "Hello\n"
     ]
    }
   ],
   "source": [
    "import re\n",
    "\n",
    "text = \"Hello, my name is John.\"\n",
    "pattern = r\"^Hello\"\n",
    "matches = re.match(pattern, text)\n",
    "if matches:\n",
    "    print(matches.group())  # 'Hello'\n"
   ]
  },
  {
   "cell_type": "markdown",
   "id": "1101377e",
   "metadata": {},
   "source": [
    "문제5_1113: 문자열 \"The car parked in the garage #42.\"에서 문장의 마지막 단어 \"garage\"를 찾으세요."
   ]
  },
  {
   "cell_type": "code",
   "execution_count": 24,
   "id": "cceba9e5",
   "metadata": {},
   "outputs": [
    {
     "name": "stdout",
     "output_type": "stream",
     "text": [
      "garage\n"
     ]
    }
   ],
   "source": [
    "print(re.search('garage','The car parked in the garage #42.').group())"
   ]
  },
  {
   "cell_type": "code",
   "execution_count": 14,
   "id": "d3a8bf47",
   "metadata": {},
   "outputs": [
    {
     "name": "stdout",
     "output_type": "stream",
     "text": [
      "garage\n"
     ]
    }
   ],
   "source": [
    "import re\n",
    "\n",
    "text = \"The car parked in the garage #42.\"\n",
    "pattern = r\"garage\\b\"\n",
    "matches = re.search(pattern, text)\n",
    "if matches:\n",
    "    print(matches.group())  # 'garage'\n"
   ]
  },
  {
   "cell_type": "code",
   "execution_count": 27,
   "id": "a7383d43",
   "metadata": {
    "id": "a7383d43",
    "outputId": "0ee3170a-2da3-42ec-e9ac-c37487e11130"
   },
   "outputs": [
    {
     "data": {
      "text/plain": [
       "'python '"
      ]
     },
     "execution_count": 27,
     "metadata": {},
     "output_type": "execute_result"
    }
   ],
   "source": [
    "import re\n",
    "p = re.compile('[a-z]+\\s')\n",
    "m = p.match('python python')\n",
    "m.group()"
   ]
  },
  {
   "cell_type": "code",
   "execution_count": 28,
   "id": "a2024e56",
   "metadata": {
    "id": "a2024e56",
    "outputId": "a9875ff6-e017-4a36-ca9d-5838de715a48"
   },
   "outputs": [
    {
     "data": {
      "text/plain": [
       "'python '"
      ]
     },
     "execution_count": 28,
     "metadata": {},
     "output_type": "execute_result"
    }
   ],
   "source": [
    "re.match('[a-z]+\\s', 'python python').group()"
   ]
  },
  {
   "cell_type": "code",
   "execution_count": null,
   "id": "6417b8da",
   "metadata": {
    "id": "6417b8da",
    "outputId": "6b95e9f5-de3d-4f4f-aa08-addfa3f0bad0"
   },
   "outputs": [
    {
     "data": {
      "text/plain": [
       "['python ', 'python ']"
      ]
     },
     "execution_count": 6,
     "metadata": {},
     "output_type": "execute_result"
    }
   ],
   "source": [
    "p.findall('python python ')"
   ]
  },
  {
   "cell_type": "code",
   "execution_count": null,
   "id": "aa12803e",
   "metadata": {
    "id": "aa12803e",
    "outputId": "3164fc08-da67-4d32-9c80-7d68403885c3"
   },
   "outputs": [
    {
     "data": {
      "text/plain": [
       "['python ']"
      ]
     },
     "execution_count": 7,
     "metadata": {},
     "output_type": "execute_result"
    }
   ],
   "source": [
    "p.findall('python python')"
   ]
  },
  {
   "cell_type": "code",
   "execution_count": null,
   "id": "d50419e2",
   "metadata": {
    "id": "d50419e2",
    "outputId": "d814251d-2436-4b91-e335-d47c61e0f365"
   },
   "outputs": [
    {
     "name": "stdout",
     "output_type": "stream",
     "text": [
      "None\n"
     ]
    }
   ],
   "source": [
    "m = p.match('3python ')\n",
    "print(m)"
   ]
  },
  {
   "cell_type": "code",
   "execution_count": null,
   "id": "cfc58151",
   "metadata": {
    "id": "cfc58151",
    "outputId": "bceae1e3-2679-44cc-f814-86a5ac0743fe"
   },
   "outputs": [
    {
     "name": "stdout",
     "output_type": "stream",
     "text": [
      "<re.Match object; span=(1, 8), match='python '>\n"
     ]
    }
   ],
   "source": [
    "m = p.search('3python ')\n",
    "print(m)"
   ]
  },
  {
   "cell_type": "code",
   "execution_count": 29,
   "id": "f1a45f01",
   "metadata": {
    "id": "f1a45f01",
    "outputId": "3661362f-2310-46c6-b58f-a0c29ba32227"
   },
   "outputs": [
    {
     "name": "stdout",
     "output_type": "stream",
     "text": [
      "<re.Match object; span=(1, 6), match='anker'>\n",
      "<re.Match object; span=(0, 6), match='banker'>\n"
     ]
    }
   ],
   "source": [
    "# 문자 클래스 : []\n",
    "pattern = re.compile('[a-z]+')\n",
    "p1 = pattern.search('Banker')\n",
    "p2 = pattern.search('banker')\n",
    "print(p1)\n",
    "print(p2)"
   ]
  },
  {
   "cell_type": "code",
   "execution_count": 30,
   "id": "57c44d61",
   "metadata": {
    "id": "57c44d61",
    "outputId": "ce557ccf-0a85-40e2-9152-472b016394d1"
   },
   "outputs": [
    {
     "data": {
      "text/plain": [
       "'a'"
      ]
     },
     "execution_count": 30,
     "metadata": {},
     "output_type": "execute_result"
    }
   ],
   "source": [
    "# group() 매치된 문자열을 리턴\n",
    "# Q. '12345abc'에서 'a'만 출력하세요.\n",
    "import re\n",
    "regex = re.compile('[a]')\n",
    "text = '12345abc'\n",
    "m = regex.search(text)\n",
    "m.group()"
   ]
  },
  {
   "cell_type": "code",
   "execution_count": 31,
   "id": "8a4e7245",
   "metadata": {
    "id": "8a4e7245",
    "outputId": "ad558a01-6991-48c4-927d-efe41101de92"
   },
   "outputs": [
    {
     "data": {
      "text/plain": [
       "'A'"
      ]
     },
     "execution_count": 31,
     "metadata": {},
     "output_type": "execute_result"
    }
   ],
   "source": [
    "# Q. 'abc12345Abc'에서 'A'만 출력하세요.\n",
    "import re\n",
    "regex = re.compile('[A-Z]')\n",
    "text = 'abc12345Abc'\n",
    "m = regex.search(text)\n",
    "m.group()"
   ]
  },
  {
   "cell_type": "code",
   "execution_count": 32,
   "id": "03eb82be",
   "metadata": {
    "id": "03eb82be",
    "outputId": "4cbbdb6c-a0b0-43da-8fc0-24631de92fd4"
   },
   "outputs": [
    {
     "data": {
      "text/plain": [
       "'아'"
      ]
     },
     "execution_count": 32,
     "metadata": {},
     "output_type": "execute_result"
    }
   ],
   "source": [
    "# Q. 'KOREA 대한민국'에서 '대'만 출력하세요.\n",
    "import re\n",
    "regex = re.compile('[가-힣]')\n",
    "text = 'KOREA 아대한민국'\n",
    "m = regex.search(text)\n",
    "m.group()"
   ]
  },
  {
   "cell_type": "code",
   "execution_count": 33,
   "id": "e70c0e16",
   "metadata": {
    "id": "e70c0e16",
    "outputId": "710d71ba-cc3d-44a3-abf6-d23c71d548a2"
   },
   "outputs": [
    {
     "data": {
      "text/plain": [
       "'122333c'"
      ]
     },
     "execution_count": 33,
     "metadata": {},
     "output_type": "execute_result"
    }
   ],
   "source": [
    "# search는 문자열 전체를 검색하여 정규식과 매칭되는 패턴을 찾는다.\n",
    "# a{2}는 a를 2회 반복하여 사용\n",
    "# Q. '122333c'를 모두 출력하세요.\n",
    "import re\n",
    "regex = re.compile('12{2}3{3}c')\n",
    "text = '122333c'\n",
    "m = regex.search(text)\n",
    "m.group()"
   ]
  },
  {
   "cell_type": "code",
   "execution_count": null,
   "id": "a02c2d49",
   "metadata": {},
   "outputs": [],
   "source": [
    "# Q. 'aaaaBBBcccDDDeee'을 모두 출력하세요."
   ]
  },
  {
   "cell_type": "code",
   "execution_count": 34,
   "id": "ebc77c55",
   "metadata": {
    "id": "ebc77c55",
    "outputId": "a12b9f7a-50fe-427e-eecd-51866254c5c6"
   },
   "outputs": [
    {
     "data": {
      "text/plain": [
       "'aaaaBBBcccDDDeee'"
      ]
     },
     "execution_count": 34,
     "metadata": {},
     "output_type": "execute_result"
    }
   ],
   "source": [
    "import re\n",
    "regex = re.compile('a{4}B{3}c{3}D{3}e{3}')\n",
    "text = 'aaaaBBBcccDDDeee'\n",
    "\n",
    "li = regex.search(text)\n",
    "li.group()"
   ]
  },
  {
   "cell_type": "code",
   "execution_count": 35,
   "id": "8bead53c",
   "metadata": {
    "id": "8bead53c"
   },
   "outputs": [
    {
     "name": "stdout",
     "output_type": "stream",
     "text": [
      "<re.Match object; span=(1, 2), match='C'>\n",
      "<re.Match object; span=(0, 1), match='C'>\n",
      "<re.Match object; span=(2, 3), match='C'>\n"
     ]
    }
   ],
   "source": [
    "# Q. BC, CC, ABC 모두 C가 출력되는 정규 표현식을 ( )에 작성하세요.\n",
    "pattern = re.compile( )\n",
    "text1 = 'BC'\n",
    "text2 = 'CC'\n",
    "text3 = 'ABC'\n",
    "p1 = pattern.search(text1)\n",
    "p2 = pattern.search(text2)\n",
    "p3 = pattern.search(text3)\n",
    "print(p1)\n",
    "print(p2)\n",
    "print(p3)"
   ]
  },
  {
   "cell_type": "code",
   "execution_count": null,
   "id": "84d188d4",
   "metadata": {},
   "outputs": [],
   "source": [
    "pattern = re.compile(   )\n",
    "text1 = 'BC'\n",
    "text2 = 'CC'\n",
    "text3 = 'ABC'\n",
    "p1 = pattern.search(text1)\n",
    "p2 = pattern.search(text2)\n",
    "p3 = pattern.search(text3)\n",
    "print(p1)\n",
    "print(p2)\n",
    "print(p3)"
   ]
  },
  {
   "cell_type": "code",
   "execution_count": 38,
   "id": "252b92b9",
   "metadata": {
    "id": "252b92b9",
    "outputId": "d21f672a-4752-4e9b-b1be-590572d3db54"
   },
   "outputs": [
    {
     "name": "stdout",
     "output_type": "stream",
     "text": [
      "<re.Match object; span=(1, 2), match='C'>\n",
      "<re.Match object; span=(0, 1), match='C'>\n",
      "<re.Match object; span=(2, 3), match='C'>\n"
     ]
    }
   ],
   "source": [
    "# A\n",
    "import re\n",
    "pattern = re.compile('A?C')\n",
    "text1 = 'BC'\n",
    "text2 = 'CC'\n",
    "text3 = 'ABC'\n",
    "p1 = pattern.search(text1)\n",
    "p2 = pattern.search(text2)\n",
    "p3 = pattern.search(text3)\n",
    "print(p1)\n",
    "print(p2)\n",
    "print(p3)"
   ]
  },
  {
   "cell_type": "code",
   "execution_count": null,
   "id": "7837fdc9",
   "metadata": {
    "id": "7837fdc9",
    "outputId": "bec77f9c-a5cc-4ce2-f7be-2b61abd4b2a0"
   },
   "outputs": [
    {
     "name": "stdout",
     "output_type": "stream",
     "text": [
      "<re.Match object; span=(1, 5), match='life'>\n"
     ]
    }
   ],
   "source": [
    "p = re.compile('[a-z]+')\n",
    "# result = p.findall('life is too short')\n",
    "result = p.search('life is too short')\n",
    "print(result)"
   ]
  },
  {
   "cell_type": "code",
   "execution_count": 39,
   "id": "d643abd4",
   "metadata": {
    "id": "d643abd4",
    "outputId": "c5c81ae0-9892-4296-8847-50911f004bd1"
   },
   "outputs": [
    {
     "name": "stdout",
     "output_type": "stream",
     "text": [
      "life\n",
      "is\n",
      "too\n",
      "short\n"
     ]
    }
   ],
   "source": [
    "# finditer는 findall과 동일하지만 그 결과로 반복 가능한 객체(iterator object)를 돌려준다.\n",
    "# 반복 가능한 객체가 포함하는 각각의 요소는 match 객체이다.\n",
    "p = re.compile('[a-z]+')\n",
    "result = p.finditer('life is too short')\n",
    "# print(list(result))\n",
    "for r in result:print(r.group())"
   ]
  },
  {
   "cell_type": "code",
   "execution_count": 40,
   "id": "650c4d51",
   "metadata": {
    "id": "650c4d51",
    "outputId": "ff153ca6-86f1-4d6a-8e5e-e75bf415c333"
   },
   "outputs": [
    {
     "data": {
      "text/plain": [
       "['1', '2', '3', '4', '1', '2', '3', '4']"
      ]
     },
     "execution_count": 40,
     "metadata": {},
     "output_type": "execute_result"
    }
   ],
   "source": [
    "# Q. '1234a1234'에서  '1', '2', '3', '4'를 모두 출력하세요.\n",
    "import re\n",
    "regex = re.compile('[1234]')\n",
    "text = '1234a1234'\n",
    "\n",
    "regex.findall(text)"
   ]
  },
  {
   "cell_type": "code",
   "execution_count": 41,
   "id": "96a4f922",
   "metadata": {
    "id": "96a4f922",
    "outputId": "1535909c-243c-491a-c8d7-6eab6546b13d"
   },
   "outputs": [
    {
     "data": {
      "text/plain": [
       "['Python', 'is', 'very', 'good', 'programming', 'language']"
      ]
     },
     "execution_count": 41,
     "metadata": {},
     "output_type": "execute_result"
    }
   ],
   "source": [
    "# Q. ' Python3 is very good programming language!'에서  ['Python', 'is', 'very', 'good', 'programming', 'language']를\n",
    "# 모두 출력하세요.\n",
    "pattern = re.compile('[a-zA-Z]+')\n",
    "pattern.findall(' Python3 is very good programming language!')"
   ]
  },
  {
   "cell_type": "code",
   "execution_count": 42,
   "id": "8a91dcec",
   "metadata": {
    "id": "8a91dcec",
    "outputId": "758fa93a-40f1-453c-ad8c-d17e48f483ab"
   },
   "outputs": [
    {
     "name": "stdout",
     "output_type": "stream",
     "text": [
      "None\n",
      "<re.Match object; span=(0, 3), match='acb'>\n",
      "<re.Match object; span=(0, 6), match='a12?Ab'>\n"
     ]
    }
   ],
   "source": [
    "# Dot(.) 메타 문자는 줄바꿈 문자(\\n)을 제외한 모든 문자와 매치\n",
    "import re\n",
    "p = re.compile('a.+b')\n",
    "m1 = p.match('a\\nb')\n",
    "m2 = p.match('acb')\n",
    "m3 = p.match('a12?Ab')\n",
    "print(m1)\n",
    "print(m2)\n",
    "print(m3)"
   ]
  },
  {
   "cell_type": "code",
   "execution_count": 43,
   "id": "7f576e5e",
   "metadata": {
    "id": "7f576e5e",
    "outputId": "0cac4693-774f-4f8c-f227-9ea7fc3159ae"
   },
   "outputs": [
    {
     "name": "stdout",
     "output_type": "stream",
     "text": [
      "<re.Match object; span=(0, 3), match='a\\nb'>\n"
     ]
    }
   ],
   "source": [
    "# re.DOTALL 옵션은 여러 줄로 이루어진 문자열에서 \\n에 상관없이 검색시 사용\n",
    "p = re.compile('a.b', re.DOTALL)\n",
    "m = p.match('a\\nb')\n",
    "print(m)"
   ]
  },
  {
   "cell_type": "code",
   "execution_count": 51,
   "id": "39c4dc2a",
   "metadata": {},
   "outputs": [
    {
     "name": "stdout",
     "output_type": "stream",
     "text": [
      "what are you doing?\n"
     ]
    }
   ],
   "source": [
    "# Q. text에서 what are you doing?만 출력하세요\n",
    "# text = 'what are you doing?\\nit is going to be late for school'\n",
    "# '\\nwe need to hurry up'\n",
    "\n",
    "text = 'what are you doing?\\nit is going to be late for school'\n",
    "'\\nwe need to hurry up'\n",
    "p = re.compile('.*')\n",
    "\n",
    "print(p.search(text).group())"
   ]
  },
  {
   "cell_type": "code",
   "execution_count": 53,
   "id": "10b19beb",
   "metadata": {},
   "outputs": [
    {
     "name": "stdout",
     "output_type": "stream",
     "text": [
      "what are you doing?\n",
      "it is going to be late for school\n",
      "we need to hurry up\n"
     ]
    }
   ],
   "source": [
    "# Q. text에서 전체문장 모두 출력하세요\n",
    "text = ('what are you doing?\\nit is going to be late for school'\n",
    "'\\nwe need to hurry up')\n",
    "p = re.compile('.*',re.DOTALL)\n",
    "\n",
    "print(p.search(text).group())"
   ]
  },
  {
   "cell_type": "code",
   "execution_count": 5,
   "id": "19c08fb3",
   "metadata": {
    "colab": {
     "base_uri": "https://localhost:8080/"
    },
    "executionInfo": {
     "elapsed": 540,
     "status": "ok",
     "timestamp": 1699541163235,
     "user": {
      "displayName": "kevin park",
      "userId": "02703084888761299921"
     },
     "user_tz": -540
    },
    "id": "19c08fb3",
    "outputId": "e494bb20-90f9-4347-93a8-c9c3f91361ef"
   },
   "outputs": [
    {
     "name": "stdout",
     "output_type": "stream",
     "text": [
      "what are you doing?\n"
     ]
    }
   ],
   "source": [
    "# 줄바꿈 문자가 있는 파일의 모든 범위를 매치하려면 compile 메소드에 두번째 매개변수를 re.DOTALL 로 지정한다.\n",
    "\n",
    "regex = re.compile('.*')\n",
    "mo = regex.search(text)\n",
    "print(mo.group())"
   ]
  },
  {
   "cell_type": "code",
   "execution_count": null,
   "id": "b865a6b3",
   "metadata": {
    "id": "b865a6b3",
    "outputId": "fe842a5c-f568-42c8-cccf-37567ab32719"
   },
   "outputs": [
    {
     "name": "stdout",
     "output_type": "stream",
     "text": [
      "what are you doing?\n",
      "it is going to be late for school\n",
      "we need to hurry up\n"
     ]
    }
   ],
   "source": [
    "# Q. text에서 전체문장 모두 출력하세요\n",
    "regex = re.compile('.*',re.DOTALL)\n",
    "mo = regex.search('what are you doing?\\nit is going to be late for school'\n",
    "             '\\nwe need to hurry up')\n",
    "print(mo.group())"
   ]
  },
  {
   "cell_type": "code",
   "execution_count": 54,
   "id": "ac39c4e6",
   "metadata": {
    "id": "ac39c4e6",
    "outputId": "9c9f24a3-ef2b-46e4-ef89-82696fda2dfd"
   },
   "outputs": [
    {
     "name": "stdout",
     "output_type": "stream",
     "text": [
      "<re.Match object; span=(0, 6), match='python'>\n",
      "<re.Match object; span=(0, 6), match='Python'>\n",
      "<re.Match object; span=(0, 6), match='PYTHON'>\n"
     ]
    }
   ],
   "source": [
    "# re.IGNORECASE 또는 re.I 옵션은 대소문자 구분 없이 매치를 수행시 사용\n",
    "p = re.compile('[a-z]+',re.I)\n",
    "print(p.match('python'))\n",
    "print(p.match('Python'))\n",
    "print(p.match('PYTHON'))"
   ]
  },
  {
   "cell_type": "code",
   "execution_count": null,
   "id": "e78bfc2f",
   "metadata": {},
   "outputs": [],
   "source": [
    "# Q. text에서 대소문자 구분없이 전체문장 모두 출력하세요\n",
    "text = 'Friend fRiend friEnd FRIEND'"
   ]
  },
  {
   "cell_type": "code",
   "execution_count": 59,
   "id": "84df5259",
   "metadata": {},
   "outputs": [
    {
     "name": "stdout",
     "output_type": "stream",
     "text": [
      "['Friend', 'fRiend', 'friEnd', 'FRIEND']\n"
     ]
    }
   ],
   "source": [
    "text = \"Friend fRiend friEnd FRIEND\"\n",
    "p = re.compile(r'friend',re.I)\n",
    "print(p.findall(text))"
   ]
  },
  {
   "cell_type": "code",
   "execution_count": null,
   "id": "afbc982f",
   "metadata": {
    "id": "afbc982f",
    "outputId": "1ac6f85c-861b-47d6-8c33-277579b75771"
   },
   "outputs": [
    {
     "name": "stdout",
     "output_type": "stream",
     "text": [
      "Friend\n",
      "fRiend\n",
      "friEnd\n",
      "FRIEND\n"
     ]
    }
   ],
   "source": [
    "# 대소문자를 구분하지 않고 매치시키려면 compile 메소드의 두번째 매개변수를 re.I로 넘겨준다. (re 모듈의 상수다)\n",
    "# Q. text에서 대소문자 구분없이 전체문장 모두 출력하세요\n",
    "\n",
    "text = 'Friend fRiend friEnd FRIEND'\n",
    "regex = re.compile(r'friend',re.I)\n",
    "list = regex.findall(text)\n",
    "for i in list:\n",
    "    print(i)"
   ]
  },
  {
   "cell_type": "code",
   "execution_count": 60,
   "id": "0cf099e8",
   "metadata": {
    "id": "0cf099e8",
    "outputId": "c818f066-ea66-4022-d851-a0854ba8e646"
   },
   "outputs": [
    {
     "name": "stdout",
     "output_type": "stream",
     "text": [
      "['python one']\n"
     ]
    }
   ],
   "source": [
    "# python이라는 문자열로 시작하고 그 뒤에 whitespace, 그뒤에 단어가 오는 경우\n",
    "import re\n",
    "p = re.compile('^python\\s\\w+')\n",
    "\n",
    "data = \"\"\"python one\n",
    "life is too short\n",
    "python  two\n",
    "you need python\n",
    "python three\"\"\"\n",
    "print(p.findall(data))"
   ]
  },
  {
   "cell_type": "code",
   "execution_count": 61,
   "id": "f24e3e34",
   "metadata": {
    "id": "f24e3e34",
    "outputId": "60a7925b-5fc8-456b-a7f3-12e40207ebcf"
   },
   "outputs": [
    {
     "name": "stdout",
     "output_type": "stream",
     "text": [
      "['python one', 'python two', 'python three']\n"
     ]
    }
   ],
   "source": [
    "# re.MULTILINE 또는 re.M옵션으로 ^메타 문자를 각 라인의 처음으로 인식시킴\n",
    "import re\n",
    "p = re.compile(\"^python\\s\\w+\",re.M)\n",
    "\n",
    "data = \"\"\"python one\n",
    "life is too short\n",
    "python two\n",
    "you need python\n",
    "python three\"\"\"\n",
    "print(p.findall(data))"
   ]
  },
  {
   "cell_type": "code",
   "execution_count": null,
   "id": "463ac7ca",
   "metadata": {
    "id": "463ac7ca"
   },
   "outputs": [],
   "source": [
    "# re.VERBOSE 또는 re.X : 이해하기 어려운 정규식을 주석 또는 라인 단위로 구분\n",
    "# charref = re.compile(r'&[#](0[0-7]+|[0-9]+|x[0-9a-fA-F]+);')\n",
    "\n",
    "charref = re.compile(r\"\"\"\n",
    "&[#]               # Start of a numeric entity reference\n",
    "(\n",
    "    0[0-7]+        # Octal form\n",
    "  | [0-9]+         # Decimal form\n",
    "  | x[0-9a-fA-F]+  # Hexadecimal form\n",
    ")\n",
    ";                  # Trailing semicolon\n",
    "\"\"\",re.VERBOSE)"
   ]
  },
  {
   "cell_type": "code",
   "execution_count": null,
   "id": "326b0830",
   "metadata": {
    "id": "326b0830",
    "outputId": "50ffd8ee-0e6b-4afd-9760-7f652317bb54"
   },
   "outputs": [
    {
     "name": "stdout",
     "output_type": "stream",
     "text": [
      "<re.Match object; span=(0, 8), match='\\\\section'>\n"
     ]
    },
    {
     "data": {
      "text/plain": [
       "['\\\\section', '\\\\section']"
      ]
     },
     "execution_count": 40,
     "metadata": {},
     "output_type": "execute_result"
    }
   ],
   "source": [
    "# 정규식 문자열 앞에 r문자를 삽입하면 Raw String 규칙에 의하여 백슬래시 2개 대신 1개 사용\n",
    "# 파이썬 문자열 리터럴 규칙에 의하여 \\\\이 \\으로 변경되어 \\section이 전달\n",
    "p = re.compile(r'\\\\section')\n",
    "\n",
    "print(p.match('\\section'))\n",
    "p.findall('\\section\\section')"
   ]
  },
  {
   "cell_type": "code",
   "execution_count": null,
   "id": "797ddaf4",
   "metadata": {
    "id": "797ddaf4",
    "outputId": "12a6879d-418a-4fd8-98f2-de9b595f2559"
   },
   "outputs": [
    {
     "name": "stdout",
     "output_type": "stream",
     "text": [
      "<re.Match object; span=(0, 4), match='Crow'>\n",
      "\n",
      "<re.Match object; span=(0, 4), match='Life'>\n",
      "None\n",
      "\n",
      "None\n",
      "<re.Match object; span=(3, 7), match='Life'>\n"
     ]
    }
   ],
   "source": [
    "# 메타 문자\n",
    "# |(or와 동일한 의미), ^(문자열의 맨처음), $(문자열의 끝과 매치)\n",
    "import re\n",
    "p = re.compile('Crow|Servo')\n",
    "m = p.match('CrowHello')\n",
    "print(m)\n",
    "print()\n",
    "print(re.search('^Life', 'Life is too short'))\n",
    "print(re.search('^Life', 'My Life'))\n",
    "print()\n",
    "print(re.search('Life$', 'Life is too short'))\n",
    "print(re.search('Life$', 'My Life'))"
   ]
  },
  {
   "cell_type": "code",
   "execution_count": null,
   "id": "e8c65c0f",
   "metadata": {
    "id": "e8c65c0f",
    "outputId": "c27d3b90-3a9c-4bd9-85a5-bc9dd396d660"
   },
   "outputs": [
    {
     "name": "stdout",
     "output_type": "stream",
     "text": [
      "['Life']\n",
      "\n",
      "['Life', 'Life', 'Life']\n",
      "\n",
      "['good']\n",
      "\n",
      "['good', 'good']\n"
     ]
    }
   ],
   "source": [
    "# \\A(문자열의 처음과 매치. 단, re.MULTILINE 옵션 사용시 ^와은 달리 전체 문자열의 처음하고만 매치)\n",
    "# \\Z(문자열의 끝과 매치. 단, re.MULTILINE 옵션 사용시 ^와은 달리 전체 문자열의 끝하고만 매치)\n",
    "import re\n",
    "p = re.compile('\\ALife', re.MULTILINE)\n",
    "data = \"\"\"Life is too short\n",
    "Life is good\n",
    "Life is valuable\"\"\"\n",
    "print(p.findall(data))\n",
    "print()\n",
    "q = re.compile('^Life', re.MULTILINE)\n",
    "data = \"\"\"Life is too short\n",
    "Life is good\n",
    "Life is valuable\"\"\"\n",
    "print(q.findall(data))\n",
    "print()\n",
    "p1 = re.compile('good\\Z', re.MULTILINE)\n",
    "data1 = \"\"\"Life is too short\n",
    "Life is good\n",
    "Life is very good\"\"\"\n",
    "print(p1.findall(data1))\n",
    "print()\n",
    "q1 = re.compile('good$', re.MULTILINE)\n",
    "data1 = \"\"\"Life is too short\n",
    "Life is good\n",
    "Life is very good\"\"\"\n",
    "print(q1.findall(data1))"
   ]
  },
  {
   "cell_type": "code",
   "execution_count": null,
   "id": "c3484409",
   "metadata": {},
   "outputs": [],
   "source": [
    "# Q. 'we are going home'에서 home만 출력하세요."
   ]
  },
  {
   "cell_type": "code",
   "execution_count": 85,
   "id": "787b5dd3",
   "metadata": {
    "id": "787b5dd3",
    "outputId": "8c7f73fe-1a28-42dc-9ad4-ac2a853094d1"
   },
   "outputs": [
    {
     "data": {
      "text/plain": [
       "'home'"
      ]
     },
     "execution_count": 85,
     "metadata": {},
     "output_type": "execute_result"
    }
   ],
   "source": [
    "\n",
    "regex = re.compile(r'home$')\n",
    "mo1 = regex.search('we are going home')\n",
    "mo1.group()"
   ]
  },
  {
   "cell_type": "code",
   "execution_count": null,
   "id": "34f1c6e4",
   "metadata": {},
   "outputs": [],
   "source": [
    "# Q. 'home sweet'에서 home만 출력하세요."
   ]
  },
  {
   "cell_type": "code",
   "execution_count": null,
   "id": "c6957362",
   "metadata": {
    "id": "c6957362",
    "outputId": "571d7a02-103a-471c-96b2-cc9c94b88d62"
   },
   "outputs": [
    {
     "data": {
      "text/plain": [
       "'home'"
      ]
     },
     "execution_count": 14,
     "metadata": {},
     "output_type": "execute_result"
    }
   ],
   "source": [
    "\n",
    "regex = re.compile(r'^home')\n",
    "mo2 = regex.search('home sweet')\n",
    "mo2.group()"
   ]
  },
  {
   "cell_type": "code",
   "execution_count": null,
   "id": "747b0d90",
   "metadata": {},
   "outputs": [],
   "source": [
    "# Q. '199305, 1923A, a93247'에서 '199305'만 출력하세요."
   ]
  },
  {
   "cell_type": "code",
   "execution_count": 89,
   "id": "6091d5eb",
   "metadata": {
    "id": "6091d5eb",
    "outputId": "37644999-8fb1-4968-a5ab-5317884ad0a9"
   },
   "outputs": [
    {
     "data": {
      "text/plain": [
       "['199305']"
      ]
     },
     "execution_count": 89,
     "metadata": {},
     "output_type": "execute_result"
    }
   ],
   "source": [
    "\n",
    "regex = re.compile(r'^\\d+')\n",
    "mo = regex.findall('199305, 1923A, a93247')\n",
    "mo"
   ]
  },
  {
   "cell_type": "code",
   "execution_count": null,
   "id": "21ef6748",
   "metadata": {},
   "outputs": [],
   "source": [
    "# Q. '99food234, a93456\\n, a9356ba '에서 '99food234'만 출력하세요."
   ]
  },
  {
   "cell_type": "code",
   "execution_count": 90,
   "id": "ff1998eb",
   "metadata": {
    "id": "ff1998eb",
    "outputId": "6afcb733-0610-4106-d4ea-5be85212fada"
   },
   "outputs": [
    {
     "data": {
      "text/plain": [
       "['99food234']"
      ]
     },
     "execution_count": 90,
     "metadata": {},
     "output_type": "execute_result"
    }
   ],
   "source": [
    "regex = re.compile(r'^\\w+\\d')\n",
    "\n",
    "regex.findall('99food234, a93456\\n, a9356ba ')"
   ]
  },
  {
   "cell_type": "code",
   "execution_count": 62,
   "id": "1c541640",
   "metadata": {
    "id": "1c541640",
    "outputId": "4ae59dbe-023c-4abb-9c31-f5a063f7f5d5"
   },
   "outputs": [
    {
     "name": "stdout",
     "output_type": "stream",
     "text": [
      "<re.Match object; span=(3, 8), match='class'>\n",
      "None\n",
      "\n",
      "None\n",
      "<re.Match object; span=(6, 11), match='class'>\n"
     ]
    }
   ],
   "source": [
    "# \\b whitespace에 의해 구분\n",
    "# \\B whitespace로 구분된 단어가 아닌 경우에만 매치\n",
    "p = re.compile(r'\\bclass\\b')\n",
    "print(p.search('no class at all'))\n",
    "print(p.search('the declassified algorithim'))\n",
    "print()\n",
    "q = re.compile(r'\\Bclass\\B')\n",
    "print(q.search('no class at all'))\n",
    "print(q.search('the declassified algorithim'))"
   ]
  },
  {
   "cell_type": "code",
   "execution_count": null,
   "id": "d27ec02f",
   "metadata": {},
   "outputs": [],
   "source": [
    "# Q. 정규표현식을 사용하여 test에서 전화번호만  출력하세요\n",
    "# text = \"문의사항이 있으면 032-232-3245 으로 연락주시기 바랍니다.\""
   ]
  },
  {
   "cell_type": "code",
   "execution_count": null,
   "id": "032082d9",
   "metadata": {
    "id": "032082d9",
    "outputId": "c978fbf5-337a-47ad-98e5-8f829f5f8dac"
   },
   "outputs": [
    {
     "name": "stdout",
     "output_type": "stream",
     "text": [
      "032-232-3245\n"
     ]
    }
   ],
   "source": [
    "\n",
    "import re\n",
    "\n",
    "text = \"문의사항이 있으면 032-232-3245 으로 연락주시기 바랍니다.\"\n",
    "\n",
    "# regex = re.compile(r'\\d+-\\d+-\\d+')\n",
    "regex = re.compile(r'(\\d+)-(\\d+)-(\\d+)')\n",
    "matchobj = regex.search(text)\n",
    "phonenumber = matchobj.group()\n",
    "print(phonenumber)"
   ]
  },
  {
   "cell_type": "code",
   "execution_count": null,
   "id": "5677ed31",
   "metadata": {},
   "outputs": [],
   "source": [
    "# Q. 정규표현식을 사용하여 text에서 에러가 들어간 부분만 포함하는 리스트를 출력하세요.\n",
    "# text = \"에러 1122, 레퍼런스 오류, 에러 1033, 아규먼트 오류, 에러 xxx\""
   ]
  },
  {
   "cell_type": "code",
   "execution_count": null,
   "id": "2fc2ec48",
   "metadata": {
    "id": "2fc2ec48",
    "outputId": "b4c92717-30c0-4ab9-ad0e-63456afc2243"
   },
   "outputs": [
    {
     "name": "stdout",
     "output_type": "stream",
     "text": [
      "['에러 1122', '에러 1033', '에러 xxx']\n"
     ]
    }
   ],
   "source": [
    "import re\n",
    "text = \"에러 1122, 레퍼런스 오류, 에러 1033, 아규먼트 오류, 에러 xxx\"\n",
    "regex = re.compile(\"에러\\s\\w+\")\n",
    "mc = regex.findall(text)\n",
    "print(mc)"
   ]
  },
  {
   "cell_type": "code",
   "execution_count": null,
   "id": "97fa1a8d",
   "metadata": {
    "id": "97fa1a8d"
   },
   "outputs": [],
   "source": [
    "# Q. (     )에 정규표현식을 작성하여 아래와 같이 출력하세요.\n",
    "# ['1 apple', '5 oranges', '3 boys', '4 girls', '10 army', '11 mr']\n",
    "\n",
    "import re\n",
    "li = '1 apple, 5 oranges, 3 boys, 4 girls; 10 army| 11 mr'\n",
    "regex = re.compile(      )\n",
    "list = regex.findall(li)\n",
    "print(list)"
   ]
  },
  {
   "cell_type": "code",
   "execution_count": null,
   "id": "dd156825",
   "metadata": {
    "id": "dd156825",
    "outputId": "30928f15-2b8f-4c1e-e5c0-58f977a61293"
   },
   "outputs": [
    {
     "name": "stdout",
     "output_type": "stream",
     "text": [
      "['1 apple', '5 oranges', '3 boys', '4 girls', '10 army', '11 mr']\n"
     ]
    }
   ],
   "source": [
    "# A.\n",
    "import re\n",
    "li = '1 apple, 5 oranges, 3 boys, 4 girls; 10 army| 11 mr'\n",
    "regex = re.compile(r'\\d+\\s\\w+')\n",
    "list = regex.findall(li)\n",
    "print(list)"
   ]
  },
  {
   "cell_type": "code",
   "execution_count": null,
   "id": "90648e23",
   "metadata": {},
   "outputs": [],
   "source": [
    "# Q. text에서 'H,h'만 출력하세요.\n",
    "text = 'Hello my friend! Life is short you need Python!'"
   ]
  },
  {
   "cell_type": "code",
   "execution_count": null,
   "id": "ef360ca7",
   "metadata": {
    "id": "ef360ca7",
    "outputId": "b7c61bec-250f-47aa-b1d6-1b9d98c1b910"
   },
   "outputs": [
    {
     "name": "stdout",
     "output_type": "stream",
     "text": [
      "['H', 'h', 'h']\n"
     ]
    }
   ],
   "source": [
    "\n",
    "customRegex = re.compile(r'[Hh]')\n",
    "list = customRegex.findall(text)\n",
    "print(list)"
   ]
  },
  {
   "cell_type": "code",
   "execution_count": null,
   "id": "0f09f6ef",
   "metadata": {},
   "outputs": [],
   "source": [
    "# Q. text에서 'H,h'가 아닌 것 모두를 출력하세요.\n",
    "text = 'Hello my friend! Life is short you need Python!'"
   ]
  },
  {
   "cell_type": "code",
   "execution_count": null,
   "id": "d59b0d6e",
   "metadata": {
    "id": "d59b0d6e",
    "outputId": "b33e8a72-2084-4bf5-fafe-208afdfe4734"
   },
   "outputs": [
    {
     "name": "stdout",
     "output_type": "stream",
     "text": [
      "['e', 'l', 'l', 'o', ' ', 'm', 'y', ' ', 'f', 'r', 'i', 'e', 'n', 'd', '!', ' ', 'L', 'i', 'f', 'e', ' ', 'i', 's', ' ', 's', 'o', 'r', 't', ' ', 'y', 'o', 'u', ' ', 'n', 'e', 'e', 'd', ' ', 'P', 'y', 't', 'o', 'n', '!']\n"
     ]
    }
   ],
   "source": [
    "\n",
    "customRegex = re.compile(r'[^Hh]')\n",
    "list = customRegex.findall(text)\n",
    "print(list)"
   ]
  },
  {
   "cell_type": "markdown",
   "id": "86a6174b",
   "metadata": {
    "id": "RzvgZniyj0Q2"
   },
   "source": [
    "괄호 ()는 '그룹화'를 위해 사용 : 주로 여러 문자열 패턴을 하나의 단위로 묶거나, 특정 부분의 문자열을 추출하는 데 사용\n",
    "\n",
    "그룹화의 주요 용도:\n",
    "- 패턴의 일부를 하나의 단위로 묶기 : 괄호는 여러 문자 또는 문자 집합을 하나의 단위로 묶어서, 그 전체에 대해 수량자 (예: *, +, ?, {m,n} 등)를 적용할 수 있게 한다.\n",
    "\n",
    "- 텍스트 캡처 : 괄호로 묶인 부분은 '캡처 그룹'이 되어, 매칭된 텍스트를 나중에 사용하기 위해 저장. 예를 들어, re.search()나 re.match() 등의 함수로 매치 객체를 얻은 후, group() 메서드를 사용하여 이 텍스트를 추출할 수 있다.\n",
    "\n",
    "- 백레퍼런스(backreferences): 정규 표현식 내에서 앞서 정의된 그룹을 다시 참조할 수 있다. 이는 패턴이 이전에 매치된 동일한 텍스트와 일치해야 할 때 유용.\n",
    "\n",
    "- 비캡처 그룹(non-capturing groups): 때로는 괄호를 사용하여 그룹을 만들지만, 매치된 내용을 나중에 사용하고 싶지 않을 때가 있다. 이 경우 (?:...) 형태를 사용하여 그룹을 만든다. 이 그룹은 매칭에는 영향을 주지만, 결과를 저장하지는 않는다."
   ]
  },
  {
   "cell_type": "code",
   "execution_count": 64,
   "id": "iX3-S_TolRbh",
   "metadata": {
    "id": "iX3-S_TolRbh"
   },
   "outputs": [
    {
     "name": "stdout",
     "output_type": "stream",
     "text": [
      "hahaha\n"
     ]
    }
   ],
   "source": [
    "# '(ha)+' 패턴은 'ha' 문자열이 하나 이상 반복되는 부분을 찾는다.\n",
    "import re\n",
    "\n",
    "pattern = r'(ha)+'\n",
    "text = \"hahaha, that's funny!\"\n",
    "\n",
    "match = re.search(pattern, text)\n",
    "\n",
    "if match:\n",
    "    print(match.group()) # 'hahaha'\n"
   ]
  },
  {
   "cell_type": "code",
   "execution_count": 65,
   "id": "hwCNINCFlg9B",
   "metadata": {
    "id": "hwCNINCFlg9B"
   },
   "outputs": [
    {
     "name": "stdout",
     "output_type": "stream",
     "text": [
      "연도:  2023\n",
      "월:  04\n",
      "일:  30\n"
     ]
    }
   ],
   "source": [
    "# 각 날짜 구성요소 (연도, 월, 일)는 별도의 그룹으로 캡처되어, 나중에 추출할 수 있다.\n",
    "import re\n",
    "\n",
    "pattern = r'(\\d{4})-(\\d{2})-(\\d{2})'\n",
    "text = \"오늘의 날짜는 2023-04-30입니다.\"\n",
    "\n",
    "match = re.search(pattern, text)\n",
    "\n",
    "if match:\n",
    "    print(\"연도: \", match.group(1)) # '2023'\n",
    "    print(\"월: \", match.group(2))   # '04'\n",
    "    print(\"일: \", match.group(3))   # '30'\n"
   ]
  },
  {
   "cell_type": "code",
   "execution_count": 91,
   "id": "Hh9yZJatlvlZ",
   "metadata": {
    "id": "Hh9yZJatlvlZ"
   },
   "outputs": [
    {
     "name": "stdout",
     "output_type": "stream",
     "text": [
      "중복 중복\n"
     ]
    }
   ],
   "source": [
    "# \\1은 첫 번째 캡처 그룹 ((\\b\\w+))이 매치한 텍스트와 동일한 텍스트를 다시 찾는다.\n",
    "# Capturing Group ((\\b\\w+)): 괄호는 캡처 그룹을 만듭니다.이 경우 \\b\\w+는 단어 경계로 시작하는 하나 이상의 단어 문자로 이루어진 \n",
    "# 시퀀스를 캡처\n",
    "import re\n",
    "\n",
    "pattern = r'(\\b\\w+)\\s+\\1'\n",
    "text = \"이것은 중복 중복 단어입니다.\"\n",
    "\n",
    "match = re.search(pattern, text)\n",
    "\n",
    "if match:\n",
    "    print(match.group()) # '중복 중복'\n"
   ]
  },
  {
   "cell_type": "code",
   "execution_count": 92,
   "id": "V7U_VK9Xl9rM",
   "metadata": {
    "colab": {
     "base_uri": "https://localhost:8080/"
    },
    "executionInfo": {
     "elapsed": 14,
     "status": "ok",
     "timestamp": 1699542120819,
     "user": {
      "displayName": "kevin park",
      "userId": "02703084888761299921"
     },
     "user_tz": -540
    },
    "id": "V7U_VK9Xl9rM",
    "outputId": "77fd5112-acec-4626-fe32-4bf1dc41c6f5"
   },
   "outputs": [
    {
     "name": "stdout",
     "output_type": "stream",
     "text": [
      "월:  04\n",
      "일:  30\n",
      "2023-04-30\n"
     ]
    }
   ],
   "source": [
    "# 첫 번째 숫자 그룹은 비캡처 그룹 (?:\\d{4})로 설정되어 있어, 매치 결과는 저장되지 않고 '월'과 '일'만 캡처된다.\n",
    "import re\n",
    "\n",
    "pattern = r'(?:\\d{4})-(\\d{2})-(\\d{2})'\n",
    "text = \"오늘의 날짜는 2023-04-30입니다.\"\n",
    "\n",
    "match = re.search(pattern, text)\n",
    "\n",
    "if match:\n",
    "    print(\"월: \", match.group(1)) # '04'\n",
    "    print(\"일: \", match.group(2)) # '30'\n",
    "    print(match.group(0))"
   ]
  },
  {
   "cell_type": "code",
   "execution_count": null,
   "id": "ab638b72",
   "metadata": {
    "id": "ab638b72",
    "outputId": "e6fb7f3a-958e-4191-ff77-0af6bee74ddd"
   },
   "outputs": [
    {
     "name": "stdout",
     "output_type": "stream",
     "text": [
      "<re.Match object; span=(0, 9), match='ABCABCABC'>\n",
      "ABCABCABC\n",
      "ABC\n"
     ]
    }
   ],
   "source": [
    "# 그룹핑 : 매치된 문자열 중에서 특정 부분의 문자열만 뽑아내는 경우 ()으로 만들어 준다.\n",
    "# group(0) 매치된 전체 문자열, 1 첫번째 그룹, 2 두번째 그룹, n n번째 그룹\n",
    "p = re.compile('(ABC)+')\n",
    "m = p.search('ABCABCABC OK?')\n",
    "print(m)\n",
    "print(m.group(0))\n",
    "print(m.group(1))"
   ]
  },
  {
   "cell_type": "code",
   "execution_count": 93,
   "id": "3af4cac3",
   "metadata": {
    "id": "3af4cac3",
    "outputId": "18547414-be91-44a4-cbe7-28e4e171cd11"
   },
   "outputs": [
    {
     "name": "stdout",
     "output_type": "stream",
     "text": [
      "<re.Match object; span=(3, 9), match='ABCDEF'>\n",
      "ABCDEF\n",
      "ABCDEF\n",
      "AB\n",
      "CD\n",
      "EF\n"
     ]
    }
   ],
   "source": [
    "p = re.compile('((AB)(CD)(EF))+')\n",
    "m = p.search('DEFABCDEFDEF OK?')\n",
    "print(m)\n",
    "print(m.group(0))\n",
    "print(m.group(1))\n",
    "print(m.group(2))\n",
    "print(m.group(3))\n",
    "print(m.group(4))"
   ]
  },
  {
   "cell_type": "code",
   "execution_count": null,
   "id": "61cb9b8f",
   "metadata": {
    "id": "61cb9b8f",
    "outputId": "32104368-b50f-4ac1-a185-c4c2a86d43c8"
   },
   "outputs": [
    {
     "name": "stdout",
     "output_type": "stream",
     "text": [
      "<re.Match object; span=(0, 6), match='ABCDEF'>\n",
      "ABCDEF\n",
      "ABCDEF\n",
      "AB\n",
      "CD\n",
      "EF\n"
     ]
    }
   ],
   "source": [
    "p = re.compile('((AB)(CD)(EF))+')\n",
    "m = p.match('ABCDEFDEF OK?')\n",
    "print(m)\n",
    "print(m.group(0))\n",
    "print(m.group(1))\n",
    "print(m.group(2))\n",
    "print(m.group(3))\n",
    "print(m.group(4))"
   ]
  },
  {
   "cell_type": "code",
   "execution_count": null,
   "id": "ffac2e4f",
   "metadata": {},
   "outputs": [],
   "source": [
    "# Q. 정규표현식을 사용하여 text에서 지역코드만 출력하세요.\n",
    "text = \"문의사항이 있으면 032-232-3245 으로 연락주시기 바랍니다.\""
   ]
  },
  {
   "cell_type": "code",
   "execution_count": null,
   "id": "d2ca8f7b",
   "metadata": {
    "id": "d2ca8f7b",
    "outputId": "81c30cb4-43aa-409b-af11-40b2374b3069"
   },
   "outputs": [
    {
     "name": "stdout",
     "output_type": "stream",
     "text": [
      "032\n"
     ]
    }
   ],
   "source": [
    "\n",
    "import re\n",
    "regex = re.compile(r'(\\d{3})-(\\d{3}-\\d{4})')\n",
    "matchobj = regex.search(text)\n",
    "areaCode = matchobj.group(1)\n",
    "# num = matchobj.group(2)\n",
    "# fullNum = matchobj.group()\n",
    "print(areaCode) # 032 232-3245"
   ]
  },
  {
   "cell_type": "code",
   "execution_count": null,
   "id": "61442a6e",
   "metadata": {
    "id": "61442a6e",
    "outputId": "c2d39e6b-fe95-435e-cbab-b3e71418a05e"
   },
   "outputs": [
    {
     "name": "stdout",
     "output_type": "stream",
     "text": [
      "032\n"
     ]
    }
   ],
   "source": [
    "text = \"문의사항이 있으면 032-232-3245 으로 연락주시기 바랍니다.\"\n",
    "p = re.compile('(\\d{3})-(\\d{3})-(\\d{4})')\n",
    "obj = p.search(text)\n",
    "print(obj.group(1))"
   ]
  },
  {
   "cell_type": "code",
   "execution_count": null,
   "id": "8444d4e6",
   "metadata": {},
   "outputs": [],
   "source": [
    "# Q. 정규표현식을 사용하여 text에서 지역코드 제외한 번호만 출력하세요."
   ]
  },
  {
   "cell_type": "code",
   "execution_count": 96,
   "id": "3c42f5c8",
   "metadata": {
    "id": "3c42f5c8",
    "outputId": "3904e6cd-5036-4805-a4c1-01a3e92ca0db"
   },
   "outputs": [
    {
     "name": "stdout",
     "output_type": "stream",
     "text": [
      "232-3245\n"
     ]
    }
   ],
   "source": [
    "import re\n",
    "\n",
    "text = \"문의사항이 있으면 032-232-3245 으로 연락주시기 바랍니다.\"\n",
    "\n",
    "regex = re.compile(r'(\\d{3})-(\\d{3}-\\d{4})')\n",
    "matchobj = regex.search(text)\n",
    "# areaCode = matchobj.group(1)\n",
    "num = matchobj.group(2)\n",
    "# fullNum = matchobj.group()\n",
    "print(num) # 032 232-3245"
   ]
  },
  {
   "cell_type": "code",
   "execution_count": 98,
   "id": "ce8959e8",
   "metadata": {
    "id": "ce8959e8",
    "outputId": "ec7f162c-117c-4e36-d81a-f0040325cfdb"
   },
   "outputs": [
    {
     "name": "stdout",
     "output_type": "stream",
     "text": [
      "<re.Match object; span=(0, 18), match='park 010-1234-1234'>\n",
      "park\n",
      "010-1234-1234\n",
      "010\n",
      "('park', '010-1234-1234', '010')\n"
     ]
    }
   ],
   "source": [
    "# 그룹이 중첩되어 있는 경우는 바깥쪽부터 시작하여 안쪽으로 들어갈수록 인덱스 증가\n",
    "# Q. 정규표현식을 사용하여 'park 010-1234-1234'에서 지역코드만 출력하세요.\n",
    "\n",
    "p = re.compile(r'(\\w+)\\s+((\\d+)[-]\\d+[-]\\d+)')\n",
    "m = p.search('park 010-1234-1234')\n",
    "print(m)\n",
    "print(m.group(1))\n",
    "print(m.group(2))\n",
    "print(m.group(3))\n",
    "print(m.groups())"
   ]
  },
  {
   "cell_type": "code",
   "execution_count": null,
   "id": "52370eb5",
   "metadata": {
    "id": "52370eb5",
    "outputId": "a02b3690-e26c-4c49-f186-8c255d22aa3a"
   },
   "outputs": [
    {
     "data": {
      "text/plain": [
       "'the the the '"
      ]
     },
     "execution_count": 54,
     "metadata": {},
     "output_type": "execute_result"
    }
   ],
   "source": [
    "# 그룹핑된 문자열 재참조\n",
    "# \\1은 재참조 메타 문자로서 정규식의 첫번째 그룹을 지칭 - 2개의 동일한 단어가 연속적으로 사용되어야 매치\n",
    "p = re.compile(r'(\\w+)\\s+\\1+\\s+\\1+\\s')\n",
    "p.search('Paris in the the the spring').group()"
   ]
  },
  {
   "cell_type": "code",
   "execution_count": null,
   "id": "8ddc4eb3",
   "metadata": {
    "id": "8ddc4eb3",
    "outputId": "523a0708-5dce-4cd5-c972-083f2a94ad43"
   },
   "outputs": [
    {
     "data": {
      "text/plain": [
       "'very very'"
      ]
     },
     "execution_count": 16,
     "metadata": {},
     "output_type": "execute_result"
    }
   ],
   "source": [
    "# Q. 'Paris is very very beautiful.'에서 'very very'를 출력하세요.\n",
    "\n",
    "p = re.compile(r'\\b(\\w+)\\s+\\1')\n",
    "p.search('Paris is very very beautiful.').group()"
   ]
  },
  {
   "cell_type": "code",
   "execution_count": null,
   "id": "bfb06bef",
   "metadata": {
    "id": "bfb06bef",
    "outputId": "40f3bebf-d929-43be-ca0e-9601660095f1"
   },
   "outputs": [
    {
     "data": {
      "text/plain": [
       "' very very'"
      ]
     },
     "execution_count": 21,
     "metadata": {},
     "output_type": "execute_result"
    }
   ],
   "source": [
    "text = 'Paris is very very beautiful.'\n",
    "p = re.compile(r'\\s(\\w+)\\s+\\1')\n",
    "p.search(text).group()"
   ]
  },
  {
   "cell_type": "code",
   "execution_count": null,
   "id": "28803573",
   "metadata": {
    "id": "28803573",
    "outputId": "683621cd-bef1-4e00-e30b-735867a39c4b"
   },
   "outputs": [
    {
     "name": "stdout",
     "output_type": "stream",
     "text": [
      "abcdefghi\n"
     ]
    },
    {
     "data": {
      "text/plain": [
       "'e'"
      ]
     },
     "execution_count": 22,
     "metadata": {},
     "output_type": "execute_result"
    }
   ],
   "source": [
    "# Q.'abcdefghij' 에 대하여 중첩을 적용한 서브그룹 5개로 컴파일하여 group()함수를 이용하여\n",
    "# 'abcdefghi'와 e'를 출력하세요\n",
    "\n",
    "p = re.compile('(a(b(c(d(e)f)g)h)i)j')\n",
    "m = p.match('abcdefghij')\n",
    "# print(m.group(0))\n",
    "print(m.group(1))\n",
    "m.group(5)"
   ]
  },
  {
   "cell_type": "code",
   "execution_count": null,
   "id": "5d929315",
   "metadata": {
    "id": "5d929315",
    "outputId": "b408da28-ea5b-4f72-e582-ea9b6fb6b8e7"
   },
   "outputs": [
    {
     "data": {
      "text/plain": [
       "('abcdefghi', 'bcdefgh', 'cdefg', 'def', 'e')"
      ]
     },
     "execution_count": 23,
     "metadata": {},
     "output_type": "execute_result"
    }
   ],
   "source": [
    "# Q. 위 문제에서 모든 서브 그룹에 대한 문자열을 포함하는 튜플을 출력하세요.\n",
    "m.groups()"
   ]
  },
  {
   "cell_type": "markdown",
   "id": "5699c3dd",
   "metadata": {},
   "source": [
    "그룹화 이름\n",
    "- (?P<name>\\w+)는 하나 이상의 단어 문자(\\w+)에 일치하며, 이 부분을 'name'이라는 이름으로 그룹화\n",
    "- \\s+는 하나 이상의 공백 문자에 일치합니다.\n",
    "- (?P<phone>(\\d+)[-]\\d+[-]\\d+)는 전화번호 형식에 일치하는 부분을 찾으며, 이 부분을 'phone'이라는 이름으로 그룹화. 여기서 \\d+는 하나 이상의 숫자에 일치하고, [-]는 리터럴 대시 문자에 일치."
   ]
  },
  {
   "cell_type": "code",
   "execution_count": 37,
   "id": "f991c986",
   "metadata": {
    "id": "f991c986",
    "outputId": "3a47ca1d-276b-40a1-b3e2-e5d44d30246a"
   },
   "outputs": [
    {
     "name": "stdout",
     "output_type": "stream",
     "text": [
      "park\n",
      "park\n",
      "010-1234-1234\n",
      "010\n"
     ]
    }
   ],
   "source": [
    "# 그룹핑된 문자열에 이름 붙이기 : 확장 구문 (?P<name>\\w+)\n",
    "p = re.compile(r'(?P<name>\\w+)\\s+((\\d+)[-]\\d+[-]\\d+)')\n",
    "m = p.search('park 010-1234-1234')\n",
    "print(m.group('name'))\n",
    "print(m.group(1))\n",
    "print(m.group(2))\n",
    "print(m.group(3))"
   ]
  },
  {
   "cell_type": "code",
   "execution_count": 38,
   "id": "502786b3",
   "metadata": {
    "id": "502786b3",
    "outputId": "4c7d2b8b-cb6e-42e4-f4ae-e91e7dc15edd"
   },
   "outputs": [
    {
     "data": {
      "text/plain": [
       "'the the'"
      ]
     },
     "execution_count": 38,
     "metadata": {},
     "output_type": "execute_result"
    }
   ],
   "source": [
    "# 그룹명을 이용하여 정규식 내에서 재참조\n",
    "p = re.compile(r'(?P<word>\\w+)\\s+(?P=word)')\n",
    "p.search('Paris in the the spring').group()"
   ]
  },
  {
   "cell_type": "code",
   "execution_count": null,
   "id": "7cfe8d60",
   "metadata": {},
   "outputs": [],
   "source": [
    "# Q. 이름으로 그룹을 참조하여 'Lots of punctuation 에서 Lots를 출력하세요."
   ]
  },
  {
   "cell_type": "code",
   "execution_count": 40,
   "id": "1111d66e",
   "metadata": {
    "id": "1111d66e",
    "outputId": "fa874473-d9d0-40ea-e620-4ac9ba278367"
   },
   "outputs": [
    {
     "data": {
      "text/plain": [
       "'Lots'"
      ]
     },
     "execution_count": 40,
     "metadata": {},
     "output_type": "execute_result"
    }
   ],
   "source": [
    "p = re.compile(r'(\\b\\w+\\b)')\n",
    "m = p.search( '(((( Lots of punctuation )))' )\n",
    "m.group()"
   ]
  },
  {
   "cell_type": "code",
   "execution_count": 39,
   "id": "a2c1f545",
   "metadata": {
    "id": "a2c1f545",
    "outputId": "4d5e9ec7-c598-4bb9-9893-831f8697e860"
   },
   "outputs": [
    {
     "name": "stdout",
     "output_type": "stream",
     "text": [
      "Lots\n"
     ]
    }
   ],
   "source": [
    "p = re.compile(r'(?P<word>\\b\\w+\\b)')\n",
    "m = p.search( '(((( Lots of punctuation Lots of punctuation)))' )\n",
    "print(m.group('word'))"
   ]
  },
  {
   "cell_type": "code",
   "execution_count": null,
   "id": "b9e8381e",
   "metadata": {
    "id": "b9e8381e",
    "outputId": "fa8b72c4-347c-48b9-b884-7c72d17d4a92"
   },
   "outputs": [
    {
     "data": {
      "text/plain": [
       "['Lots', 'of', 'punctuation']"
      ]
     },
     "execution_count": 34,
     "metadata": {},
     "output_type": "execute_result"
    }
   ],
   "source": [
    "p = re.compile(r'(\\b\\w+\\b)')\n",
    "m = p.findall( '(((( Lots of punctuation )))' )\n",
    "m"
   ]
  },
  {
   "cell_type": "markdown",
   "id": "2f00d52d",
   "metadata": {},
   "source": [
    "정규 표현식에서 전방탐색(Lookahead)\n",
    "- 특정 패턴 뒤에 오는 문자열을 확인하는 방법으로, 긍정 전방탐색과 부정 전방탐색 두 가지 형태가 있다. \n",
    "- 이들은 매칭을 결정하는 조건을 설정하지만, 실제로 해당 문자열을 결과에 포함시키지는 않는다. 즉, 문자열을 '소모(consume)'하지 않는다..\n",
    "\n",
    "- 긍정 전방탐색 (Positive Lookahead)\n",
    "    - 형식: (?=...)\n",
    "    - 설명: 긍정 전방탐색은 ...에 해당하는 정규식 패턴이 일치해야 하지만, 해당 부분은 결과에 포함되지 않는다.\n",
    "    - 예시: X(?=Y)는 'Y'가 뒤따르는 'X'에 일치합니다. 'X'는 결과에 포함되지만, 'Y'는 포함되지 않는다.\n",
    "- 부정 전방탐색 (Negative Lookahead)\n",
    "    - 형식: (?!...)\n",
    "    - 설명: 부정 전방탐색은 ...에 해당하는 정규식 패턴이 일치하지 않아야 합니다. 여기서도 일치하는 부분은 결과에 포함되지 않는다.\n",
    "    - 예시: X(?!Y)는 'Y'가 뒤따르지 않는 'X'에 일치합니다. 'X'는 결과에 포함되지만, 'Y'는 검사 대상이지 결과에 포함되지 않는다."
   ]
  },
  {
   "cell_type": "code",
   "execution_count": null,
   "id": "cc5558ab",
   "metadata": {
    "id": "cc5558ab",
    "outputId": "bcdca606-3d2e-4322-9d86-9889ea4bd89f"
   },
   "outputs": [
    {
     "name": "stdout",
     "output_type": "stream",
     "text": [
      "http:\n",
      "\n",
      "http\n",
      "\n"
     ]
    }
   ],
   "source": [
    "# 전방 탐색\n",
    "# 긍정(?=...) ...에 해당되는 정규식과 매치되어야 하며 조건이 통과되어도 문자열이 소모되지 않음\n",
    "# 부정(?!...) ...에 해당되는 정규식과 매치되지 않아야 하며 조건이 통과되어도 문자열이 소모되지 않음\n",
    "\n",
    "p = re.compile(r'.+:')\n",
    "m = p.search('http://google.com')\n",
    "print(m.group())\n",
    "print()\n",
    "p = re.compile(r'.+(?=:)')  # :에 해당되는 문자열이 정규식 엔진에 의해 소모되지 않음(검색에는 포함되지만 결과에는 제외)\n",
    "m = p.search('http://google.com')\n",
    "print(m.group())\n",
    "print()"
   ]
  },
  {
   "cell_type": "markdown",
   "id": "772adf26",
   "metadata": {},
   "source": [
    "긍정 전방탐색 사용\n",
    "\n",
    "문제1_1114: 문자열 \"I love cats but I hate catching colds\"에서 'cat' 다음에 's'가 오는 단어만 찾으세요."
   ]
  },
  {
   "cell_type": "code",
   "execution_count": 42,
   "id": "06721e92",
   "metadata": {},
   "outputs": [
    {
     "data": {
      "text/plain": [
       "'cat'"
      ]
     },
     "execution_count": 42,
     "metadata": {},
     "output_type": "execute_result"
    }
   ],
   "source": [
    "import re\n",
    "text = \"I love cats but I hate catching colds\"\n",
    "pattern = re.compile(r'cat(?=s)')\n",
    "pattern.search(text).group()"
   ]
  },
  {
   "cell_type": "code",
   "execution_count": 67,
   "id": "50d62b70",
   "metadata": {},
   "outputs": [
    {
     "name": "stdout",
     "output_type": "stream",
     "text": [
      "['cat']\n"
     ]
    }
   ],
   "source": [
    "\n",
    "import re\n",
    "\n",
    "text = \"I love cats but I hate catching colds\"\n",
    "pattern = r\"cat(?=s)\"\n",
    "matches = re.findall(pattern, text)\n",
    "print(matches)  # ['cat']\n"
   ]
  },
  {
   "cell_type": "markdown",
   "id": "0b5f1a74",
   "metadata": {},
   "source": [
    "부정 전방탐색 사용\n",
    "\n",
    "문제2_1114: 문자열 \"7UP, Cherry7UP, 7Down\"에서 '7' 뒤에 'UP'이 오지 않는 숫자 7을 찾으세요."
   ]
  },
  {
   "cell_type": "code",
   "execution_count": 43,
   "id": "9905e0cc",
   "metadata": {},
   "outputs": [
    {
     "name": "stdout",
     "output_type": "stream",
     "text": [
      "7\n"
     ]
    }
   ],
   "source": [
    "p = re.compile(r'7(?!UP)')\n",
    "m = p.search('7UP, Cherry7UP, 7Down')\n",
    "print(m.group())"
   ]
  },
  {
   "cell_type": "code",
   "execution_count": 68,
   "id": "ed17f811",
   "metadata": {},
   "outputs": [
    {
     "name": "stdout",
     "output_type": "stream",
     "text": [
      "['7']\n"
     ]
    }
   ],
   "source": [
    "import re\n",
    "\n",
    "text = \"7UP, Cherry7UP, 7Down\"\n",
    "pattern = r\"7(?!UP)\"\n",
    "matches = re.findall(pattern, text)\n",
    "print(matches)  # ['7', '7']\n"
   ]
  },
  {
   "cell_type": "markdown",
   "id": "d1c2a2f3",
   "metadata": {},
   "source": [
    "문제3_1114: 다음 텍스트에서 화폐 단위('€')가 붙어 있는 숫자만 찾으세요.\n",
    "\n",
    "\"Prices are 30€ for adults, 20 for children and 25€ for seniors.\""
   ]
  },
  {
   "cell_type": "code",
   "execution_count": 10,
   "id": "5171f054",
   "metadata": {},
   "outputs": [
    {
     "name": "stdout",
     "output_type": "stream",
     "text": [
      "['30', '25']\n"
     ]
    }
   ],
   "source": [
    "import re\n",
    "p = r'\\d+(?=€)'\n",
    "print(re.findall(p,\"Prices are 30€ for adults, 20 for children and 25€ for seniors.\"))"
   ]
  },
  {
   "cell_type": "code",
   "execution_count": 1,
   "id": "235de155",
   "metadata": {},
   "outputs": [
    {
     "name": "stdout",
     "output_type": "stream",
     "text": [
      "['30', '25']\n"
     ]
    }
   ],
   "source": [
    "import re\n",
    "\n",
    "text1 = \"Prices are 30€ for adults, 20 for children and 25€ for seniors.\"\n",
    "pattern1 = r'\\d+(?=€)'\n",
    "matches1 = re.findall(pattern1, text1)\n",
    "print(matches1)\n"
   ]
  },
  {
   "cell_type": "markdown",
   "id": "1a8ef72a",
   "metadata": {},
   "source": [
    "문제4_1114: 다음 텍스트에서 'com'으로 끝나는 이메일 주소의 도메인 부분만 추출하세요. (예: 'example@domain.com'에서 'domain')"
   ]
  },
  {
   "cell_type": "code",
   "execution_count": 12,
   "id": "fc6b24c5",
   "metadata": {},
   "outputs": [
    {
     "name": "stdout",
     "output_type": "stream",
     "text": [
      "['company', 'enterprise']\n"
     ]
    }
   ],
   "source": [
    "text2 = \"Contact us at support@company.com, sales@enterprise.com or info@organization.org.\"\n",
    "pattern2 = r'(?<=@)[a-zA-Z0-9.-]+(?=\\.com)'\n",
    "matches2 = re.findall(pattern2, text2)\n",
    "print(matches2)\n"
   ]
  },
  {
   "cell_type": "code",
   "execution_count": null,
   "id": "6fe27565",
   "metadata": {
    "id": "6fe27565",
    "outputId": "806dfaa2-2770-431a-ab58-5861985396de"
   },
   "outputs": [
    {
     "name": "stdout",
     "output_type": "stream",
     "text": [
      "foo.exe\n",
      "autoexec.bat\n",
      "sendmail.cf\n"
     ]
    }
   ],
   "source": [
    "# 파일명+.+확장자를 나타내는 정규식\n",
    "p =re.compile('.*[.].*$')\n",
    "list = ['foo.exe', 'autoexec.bat', 'sendmail.cf']\n",
    "for i in list:\n",
    "    if p.match(i):\n",
    "        print(i)"
   ]
  },
  {
   "cell_type": "code",
   "execution_count": null,
   "id": "c32ef029",
   "metadata": {
    "id": "c32ef029",
    "outputId": "fb6f0848-bb0f-4811-f55b-7f70a66dbdc6"
   },
   "outputs": [
    {
     "name": "stdout",
     "output_type": "stream",
     "text": [
      "sendmail.cf\n"
     ]
    }
   ],
   "source": [
    "# 확장자가 bat 혹은 exe가 아닌 경우만 통과된다는 부정적 전방탐색\n",
    "p =re.compile('.*[.](?!bat$|exe$).*$')\n",
    "list = ['foo.exe', 'autoexec.bat', 'sendmail.cf']\n",
    "for i in list:\n",
    "    if p.match(i):\n",
    "        print(i)"
   ]
  },
  {
   "cell_type": "code",
   "execution_count": 44,
   "id": "dc2205ce",
   "metadata": {
    "id": "dc2205ce",
    "outputId": "656e7c40-c108-4782-cd9d-396a27aa4bf0"
   },
   "outputs": [
    {
     "name": "stdout",
     "output_type": "stream",
     "text": [
      "colour socks and colour shoes\n",
      "colour socks and red shoes\n",
      "('colour socks and colour shoes', 2)\n"
     ]
    }
   ],
   "source": [
    "# 문자열 바꾸기\n",
    "# sub 메서드를 사용하면 정규식과 매치되는 부분을 다른 문자로 쉽게 바꿀 수 있음\n",
    "# 바꾸기 횟수를 제어하려면 세 번째 매개변수로 count 값을 넘기면 됨\n",
    "# subn 역시 sub와 동일한 기능을 하지만 반환 결과를 튜플로 돌려줌. 두 번째 요소는 바꾸기 발생 횟수\n",
    "p = re.compile('(blue|white|red)')\n",
    "print(p.sub('colour', 'blue socks and red shoes'))\n",
    "print(p.sub('colour', 'blue socks and red shoes', count=1)) # 바꾸기 횟수를 제어\n",
    "print(p.subn( 'colour', 'blue socks and red shoes'))"
   ]
  },
  {
   "cell_type": "markdown",
   "id": "5f92bbd3",
   "metadata": {},
   "source": [
    "문제5_1114: 텍스트에서 모든 이메일 주소를 'email'로 대체하세요.\n",
    "    \n",
    "text = \"Contact: john.doe@example.com, jane.smith@workplace.org\""
   ]
  },
  {
   "cell_type": "code",
   "execution_count": 13,
   "id": "58412fc0",
   "metadata": {},
   "outputs": [
    {
     "name": "stdout",
     "output_type": "stream",
     "text": [
      "Contact: email, email\n"
     ]
    }
   ],
   "source": [
    "import re\n",
    "\n",
    "txt = \"Contact: john.doe@example.com, jane.smith@workplace.org\"\n",
    "p = re.compile(r'[a-zA-z0-9.%+-_]+@[a-zA-Z0-9]+\\.[A-Za-z]{2,5}')\n",
    "\n",
    "print(p.sub('email', txt))"
   ]
  },
  {
   "cell_type": "code",
   "execution_count": 3,
   "id": "25d1c6ed",
   "metadata": {},
   "outputs": [
    {
     "name": "stdout",
     "output_type": "stream",
     "text": [
      "Contact: email, email\n"
     ]
    }
   ],
   "source": [
    "import re\n",
    "\n",
    "text = \"Contact: john.doe@example.com, jane.smith@workplace.org\"\n",
    "pattern = r'[\\w.-]+@[\\w.-]+'\n",
    "replaced_text = re.sub(pattern, 'email', text)\n",
    "print(replaced_text)\n"
   ]
  },
  {
   "cell_type": "markdown",
   "id": "d98e4140",
   "metadata": {},
   "source": [
    "문제6_1114: 텍스트에서 모든 전화번호를 'phone'으로 대체하세요. 전화번호는 다음과 같은 형식으로 가정합니다: '123-456-7890'."
   ]
  },
  {
   "cell_type": "code",
   "execution_count": 15,
   "id": "98927c95",
   "metadata": {},
   "outputs": [
    {
     "name": "stdout",
     "output_type": "stream",
     "text": [
      "Our office numbers are phone and phone.\n"
     ]
    }
   ],
   "source": [
    "text2 = \"Our office numbers are 123-456-7890 and 987-654-3210.\"\n",
    "pattern2 = r'\\d{3}-\\d{3}-\\d{4}'\n",
    "replaced_text2 = re.sub(pattern2, 'phone', text2)\n",
    "print(replaced_text2)\n"
   ]
  },
  {
   "cell_type": "code",
   "execution_count": 46,
   "id": "c886dee8",
   "metadata": {
    "id": "c886dee8",
    "outputId": "60436b7b-3ff2-4de5-d43d-1fded81f4ddf"
   },
   "outputs": [
    {
     "data": {
      "text/plain": [
       "'abc'"
      ]
     },
     "execution_count": 46,
     "metadata": {},
     "output_type": "execute_result"
    }
   ],
   "source": [
    "import re\n",
    "p = re.compile('\\d')\n",
    "p.sub('','12345abc')"
   ]
  },
  {
   "cell_type": "code",
   "execution_count": null,
   "id": "579692ba",
   "metadata": {
    "id": "579692ba",
    "outputId": "42698674-9e07-4cd3-8850-ee80fa08ab11"
   },
   "outputs": [
    {
     "data": {
      "text/plain": [
       "'12345'"
      ]
     },
     "execution_count": 18,
     "metadata": {},
     "output_type": "execute_result"
    }
   ],
   "source": [
    "# Q. '12345abc'에서 '12345'만 출력하세요.\n",
    "import re\n",
    "str = '12345abc'\n",
    "re.sub('[^0-9]','',str)"
   ]
  },
  {
   "cell_type": "code",
   "execution_count": 47,
   "id": "4a305567",
   "metadata": {
    "id": "4a305567",
    "outputId": "18cfb70d-37b0-43d1-e65e-ece95d4e0880"
   },
   "outputs": [
    {
     "name": "stdout",
     "output_type": "stream",
     "text": [
      "010-1234-1234 park\n"
     ]
    }
   ],
   "source": [
    "# sub 메서드를 사용할 때 참조 구문을 사용\n",
    "# 이름 + 전화번호의 문자열을 전화번호 + 이름으로 바꾸는 예\n",
    "# sub의 바꿀 문자열 부분에 \\g<그룹이름>을 사용하면 정규식의 그룹 이름을 참조\n",
    "p = re.compile(r\"(?P<name>\\w+)\\s+(?P<phone>(\\d+)[-]\\d+[-]\\d+)\")\n",
    "print(p.sub(\"\\g<phone> \\g<name>\", \"park 010-1234-1234\")) # \\g<phone> \\g<name> 은 대체할 문자열"
   ]
  },
  {
   "cell_type": "code",
   "execution_count": 48,
   "id": "34798fe7",
   "metadata": {
    "id": "34798fe7",
    "outputId": "aa6b3222-7c3f-4ac5-feb5-f0233fd4938d"
   },
   "outputs": [
    {
     "name": "stdout",
     "output_type": "stream",
     "text": [
      "010-1234-1234 park\n"
     ]
    }
   ],
   "source": [
    "# 그룹 이름 대신 참조 번호를 사용할 수 있음\n",
    "p = re.compile(r\"(?P<name>\\w+)\\s+(?P<phone>(\\d+)[-]\\d+[-]\\d+)\")\n",
    "print(p.sub(\"\\g<2> \\g<1>\", \"park 010-1234-1234\"))"
   ]
  },
  {
   "cell_type": "code",
   "execution_count": 49,
   "id": "930cab76",
   "metadata": {
    "id": "930cab76",
    "outputId": "927ac7cd-9b01-4eda-cda0-c5f9b042a1a7"
   },
   "outputs": [
    {
     "data": {
      "text/plain": [
       "'Call 0xffd2 for printing, 0xc000 for user code.'"
      ]
     },
     "execution_count": 49,
     "metadata": {},
     "output_type": "execute_result"
    }
   ],
   "source": [
    "# sub 메서드의 매개변수로 함수 넣기\n",
    "# hexrepl 함수는 match 객체(위에서 숫자에 매치되는)를 입력으로 받아 16진수로 변환하여 돌려주는 함수\n",
    "# sub의 첫 번째 매개변수로 함수를 사용할 경우 해당 함수의 첫 번째 매개변수에는 정규식과 매치된 match 객체가 입력\n",
    "# 매치되는 문자열은 함수의 반환 값으로 변환\n",
    "\n",
    "def hexrepl(match):\n",
    "    value = int(match.group())\n",
    "    return hex(value)\n",
    "\n",
    "p = re.compile(r'\\d+')\n",
    "p.sub(hexrepl, 'Call 65490 for printing, 49152 for user code.')"
   ]
  },
  {
   "cell_type": "markdown",
   "id": "b5e25281",
   "metadata": {},
   "source": [
    "Greedy (탐욕스러운) 매칭\n",
    "- Greedy 매칭은 가능한 한 많은 문자와 일치하려고 한다. 즉, 주어진 패턴과 일치하는 문자열 중 가장 긴 것을 찾는다.\n",
    "- 예를 들어, 정규 표현식 a.*b는 a로 시작하고 b로 끝나는 가장 긴 문자열 부분과 일치한다.\n",
    "\n",
    "Non-Greedy (비탐욕스러운) 매칭\n",
    "- Non-Greedy 매칭은 가능한 한 적은 문자와 일치하려고 한다. 즉, 주어진 패턴과 일치하는 문자열 중 가장 짧은 것을 찾는다.\n",
    "- 예를 들어, 정규 표현식 a.*?b는 a로 시작하고 b로 끝나는 가장 짧은 문자열 부분과 일치합니다."
   ]
  },
  {
   "cell_type": "code",
   "execution_count": 50,
   "id": "11fb19c6",
   "metadata": {},
   "outputs": [
    {
     "name": "stdout",
     "output_type": "stream",
     "text": [
      "['<div>Hello</div><div>World</div>']\n"
     ]
    }
   ],
   "source": [
    "import re\n",
    "\n",
    "text = \"<div>Hello</div><div>World</div>\"\n",
    "pattern = r'<div>.*</div>'\n",
    "matches = re.findall(pattern, text)\n",
    "print(matches)\n"
   ]
  },
  {
   "cell_type": "code",
   "execution_count": 51,
   "id": "548c38e7",
   "metadata": {},
   "outputs": [
    {
     "name": "stdout",
     "output_type": "stream",
     "text": [
      "['<div>Hello</div>', '<div>World</div>']\n"
     ]
    }
   ],
   "source": [
    "pattern_ng = r'<div>.*?</div>'\n",
    "matches_ng = re.findall(pattern_ng, text)\n",
    "print(matches_ng)\n"
   ]
  },
  {
   "cell_type": "markdown",
   "id": "93b10739",
   "metadata": {},
   "source": [
    "1. *? (Non-Greedy Kleene Star)\n",
    "- Greedy: *는 0회 이상 반복하는 가장 긴 문자열을 찾는다.\n",
    "- Non-Greedy: *?는 0회 이상 반복하는 가장 짧은 문자열을 찾는다.\n",
    "2. +? (Non-Greedy Plus)\n",
    "- Greedy: +는 1회 이상 반복하는 가장 긴 문자열을 찾는다.\n",
    "- Non-Greedy: +?는 1회 이상 반복하는 가장 짧은 문자열을 찾는다.\n",
    "3. ?? (Non-Greedy Question Mark)\n",
    "- Greedy: ?는 0회 또는 1회 반복하는 가장 긴 문자열을 찾는다.\n",
    "- Non-Greedy: ??는 0회 또는 1회 반복하는 가장 짧은 문자열을 찾는다.\n",
    "4. {m,n}? (Non-Greedy 범위 반복자)\n",
    "- Greedy: {m,n}은 m회에서 n회까지 반복하는 가장 긴 문자열을 찾는다.\n",
    "- Non-Greedy: {m,n}?은 m회에서 n회까지 반복하는 가장 짧은 문자열을 찾는다."
   ]
  },
  {
   "cell_type": "code",
   "execution_count": 58,
   "id": "854f2d24",
   "metadata": {},
   "outputs": [
    {
     "name": "stdout",
     "output_type": "stream",
     "text": [
      "['<div>First</div><div>Second</div>']\n",
      "['<div>First</div>', '<div>Second</div>']\n",
      "['ooooo']\n",
      "['o', 'o', 'o', 'o', 'o']\n",
      "['', '', '', '', 'o', '', '']\n",
      "['', '', '', '', '', 'o', '', '']\n",
      "['oooo']\n",
      "['oo', 'oo']\n"
     ]
    }
   ],
   "source": [
    "import re\n",
    "\n",
    "text = \"<div>First</div><div>Second</div>\"\n",
    "# Greedy 매칭\n",
    "print(re.findall(r'<div>.*</div>', text))\n",
    "# Non-Greedy 매칭\n",
    "print(re.findall(r'<div>.*?</div>', text))\n",
    "\n",
    "text = \"Hellooooo\"\n",
    "# Greedy 매칭\n",
    "print(re.findall(r'o+', text))\n",
    "# Non-Greedy 매칭\n",
    "print(re.findall(r'o+?', text))\n",
    "\n",
    "text = \"Hello?\"\n",
    "# Greedy 매칭\n",
    "print(re.findall(r'o?', text))\n",
    "# Non-Greedy 매칭\n",
    "print(re.findall(r'o??', text))\n",
    "\n",
    "text = \"Helloooo\"\n",
    "# Greedy 매칭\n",
    "print(re.findall(r'o{2,4}', text))\n",
    "# Non-Greedy 매칭\n",
    "print(re.findall(r'o{2,4}?', text))\n"
   ]
  },
  {
   "cell_type": "code",
   "execution_count": null,
   "id": "ebaa2471",
   "metadata": {
    "id": "ebaa2471",
    "outputId": "a90c5371-d095-453a-c176-eb0195be401a"
   },
   "outputs": [
    {
     "name": "stdout",
     "output_type": "stream",
     "text": [
      "<html><head><title>Title</title>\n",
      "\n",
      "32\n",
      "\n",
      "(0, 32)\n",
      "\n",
      "<html><head><title>Title</title>\n",
      "\n",
      "<html>\n",
      "\n",
      "(0, 6)\n"
     ]
    }
   ],
   "source": [
    "# Greedy vs Non-Greedy\n",
    "# * 메타 문자는 매우 탐욕스러워서 매치할 수 있는 최대한의 문자열인 <html><head><title>Title</title> 문자열을 모두 소비\n",
    "# non-greedy 문자인 ?는 *의 탐욕을 제한하여 최소한의 반복을 수행. *?, +?, ??, {m,n}?와 같이 사용\n",
    "s = '<html><head><title>Title</title>'\n",
    "print(s)\n",
    "print()\n",
    "print(len(s))\n",
    "print()\n",
    "print(re.match('<.*>', s).span())\n",
    "print()\n",
    "print(re.match('<.*>', s).group())\n",
    "print()\n",
    "print(re.match('<.*?>', s).group())\n",
    "print()\n",
    "print(re.match('<.*?>', s).span())"
   ]
  },
  {
   "cell_type": "markdown",
   "id": "ae9e2cec",
   "metadata": {},
   "source": [
    "문제7_1114: HTML 텍스트에서 \\<p> 태그로 둘러싸인 전체 부분을 찾으세요 (Greedy 방식 사용)."
   ]
  },
  {
   "cell_type": "code",
   "execution_count": null,
   "id": "4874645d",
   "metadata": {},
   "outputs": [],
   "source": [
    "html = \"<div>Hello <p>world</p> this is <p>a test</p></div>"
   ]
  },
  {
   "cell_type": "code",
   "execution_count": 17,
   "id": "8bab3cef",
   "metadata": {},
   "outputs": [
    {
     "name": "stdout",
     "output_type": "stream",
     "text": [
      "['<p>world</p> this is <p>a test</p>']\n"
     ]
    }
   ],
   "source": [
    "import re\n",
    "\n",
    "html = \"<div>Hello <p>world</p> this is <p>a test</p></div>\"\n",
    "# Greedy 매칭\n",
    "greedy_matches = re.findall(r'<p>.*</p>', html)\n",
    "print(greedy_matches)\n"
   ]
  },
  {
   "cell_type": "markdown",
   "id": "166f1196",
   "metadata": {},
   "source": [
    "문제8_1114: 같은 HTML 텍스트에서 각 <p> 태그로 둘러싸인 부분을 별도로 찾으세요 (Non-Greedy 방식 사용)."
   ]
  },
  {
   "cell_type": "code",
   "execution_count": 18,
   "id": "eb00cde9",
   "metadata": {},
   "outputs": [
    {
     "name": "stdout",
     "output_type": "stream",
     "text": [
      "['<p>world</p>', '<p>a test</p>']\n"
     ]
    }
   ],
   "source": [
    "import re\n",
    "\n",
    "html = \"<div>Hello <p>world</p> this is <p>a test</p></div>\"\n",
    "print(re.findall(r'<p>.*?</p>', html))"
   ]
  },
  {
   "cell_type": "code",
   "execution_count": 6,
   "id": "65a26f99",
   "metadata": {},
   "outputs": [
    {
     "name": "stdout",
     "output_type": "stream",
     "text": [
      "['<p>world</p>', '<p>a test</p>']\n"
     ]
    }
   ],
   "source": [
    "# Non-Greedy 매칭\n",
    "nongreedy_matches = re.findall(r'<p>.*?</p>', html)\n",
    "print(nongreedy_matches)\n"
   ]
  },
  {
   "cell_type": "markdown",
   "id": "14d29764",
   "metadata": {
    "id": "7b72970c"
   },
   "source": [
    "문제6_1113: 이메일 주소 찾기\n",
    "- 조건: user@example.com과 같은 이메일 주소를 찾는 정규 표현식을 작성하세요."
   ]
  },
  {
   "cell_type": "code",
   "execution_count": 7,
   "id": "042b42a6",
   "metadata": {},
   "outputs": [
    {
     "name": "stdout",
     "output_type": "stream",
     "text": [
      "['user@example.com']\n"
     ]
    }
   ],
   "source": [
    "import re \n",
    "text = \"user@example.com\"\n",
    "pattern = r\"\\b[A-Za-z0-9._+-]+@[a-zA-Z0-9]+\\.[a-zA-Z]{2,4}\\b\"\n",
    "email = re.findall(pattern, text)\n",
    "print(email)"
   ]
  },
  {
   "cell_type": "code",
   "execution_count": null,
   "id": "350a15f3",
   "metadata": {
    "id": "350a15f3",
    "outputId": "1108d3e6-4f54-4fed-dc68-6a0ebfe8f559"
   },
   "outputs": [
    {
     "name": "stdout",
     "output_type": "stream",
     "text": [
      "유효한 이메일 주소입니다.\n"
     ]
    }
   ],
   "source": [
    "email_example = \"user@example.com\"\n",
    "email_pattern = r'\\b[A-Za-z0-9._%+-]+@[A-Za-z0-9.-]+\\.[A-Z|a-z]{2,}\\b'\n",
    "if re.match(email_pattern, email_example):\n",
    "    print(\"유효한 이메일 주소입니다.\")\n",
    "else:\n",
    "    print(\"유효하지 않은 이메일 주소입니다.\")"
   ]
  },
  {
   "cell_type": "code",
   "execution_count": 79,
   "id": "171a757a",
   "metadata": {},
   "outputs": [
    {
     "name": "stdout",
     "output_type": "stream",
     "text": [
      "['010-1234-5678']\n"
     ]
    }
   ],
   "source": [
    "import re\n",
    "\n",
    "# phone_pattern = r'[0-9]{3}-[0-9]{4}-[0-9]{4}'\n",
    "phone_pattern = r'\\d{3}-\\d{4}-\\d{4}'\n",
    "text = '대한민국 전화번호는 010-1234-5678입니다.'\n",
    "\n",
    "matches = re.findall(phone_pattern, text)\n",
    "\n",
    "print(matches)"
   ]
  },
  {
   "cell_type": "markdown",
   "id": "bc4ebc13",
   "metadata": {
    "id": "e5002428"
   },
   "source": [
    "문제7_1113: 전화번호 검증\n",
    "- 조건: 010-1234-5678 형태의 대한민국 전화번호와 일치하는 정규 표현식을 작성하세요."
   ]
  },
  {
   "cell_type": "code",
   "execution_count": null,
   "id": "f33ae3c6",
   "metadata": {
    "id": "f33ae3c6",
    "outputId": "3b29f912-f324-445d-84fa-0b3e78d2c498"
   },
   "outputs": [
    {
     "name": "stdout",
     "output_type": "stream",
     "text": [
      "유효한 전화번호입니다.\n"
     ]
    }
   ],
   "source": [
    "# 문제 2: 전화번호 검증\n",
    "phone_example = \"010-1234-5678\"\n",
    "phone_pattern = r'\\d{3}-\\d{4}-\\d{4}'\n",
    "if re.match(phone_pattern, phone_example):\n",
    "    print(\"유효한 전화번호입니다.\")\n",
    "else:\n",
    "    print(\"유효하지 않은 전화번호입니다.\")"
   ]
  },
  {
   "cell_type": "markdown",
   "id": "d26a2842",
   "metadata": {
    "id": "999515d8"
   },
   "source": [
    "문제8_1113: 웹사이트 URL 검증\n",
    "- 조건: http://www.example.com 형태의 웹사이트 주소와 일치하는 정규 표현식을 작성하세요."
   ]
  },
  {
   "cell_type": "code",
   "execution_count": 80,
   "id": "1a816149",
   "metadata": {},
   "outputs": [
    {
     "name": "stdout",
     "output_type": "stream",
     "text": [
      "['http://www.example.com']\n"
     ]
    }
   ],
   "source": [
    "import re\n",
    "pattern = r'http://www\\.[a-zA-Z0-9]+\\.[a-zA-Z]+'\n",
    "\n",
    "text = 'asdzxv http://www.example.com'\n",
    "\n",
    "print(re.findall(pattern, text))"
   ]
  },
  {
   "cell_type": "code",
   "execution_count": null,
   "id": "2ead7696",
   "metadata": {
    "id": "2ead7696",
    "outputId": "aa50d432-6583-47d9-fa56-112d3ed152c3"
   },
   "outputs": [
    {
     "name": "stdout",
     "output_type": "stream",
     "text": [
      "유효한 URL입니다.\n"
     ]
    }
   ],
   "source": [
    "# 문제 3: 웹사이트 URL 검증\n",
    "url_example = \"http://www.example.com\"\n",
    "url_pattern = r'http[s]?://www\\.[a-zA-Z0-9-]+\\.[a-zA-Z]+/?'\n",
    "if re.match(url_pattern, url_example):\n",
    "    print(\"유효한 URL입니다.\")\n",
    "else:\n",
    "    print(\"유효하지 않은 URL입니다.\")"
   ]
  },
  {
   "cell_type": "markdown",
   "id": "b5a349e0",
   "metadata": {
    "id": "290c23ca"
   },
   "source": [
    "문제9_1113: 날짜 형식 검증\n",
    "- 조건: YYYY-MM-DD 형식의 날짜와 일치하는 정규 표현식을 작성하세요 (예: 2023-11-09)."
   ]
  },
  {
   "cell_type": "code",
   "execution_count": 81,
   "id": "6b798a96",
   "metadata": {},
   "outputs": [
    {
     "name": "stdout",
     "output_type": "stream",
     "text": [
      "2023-11-13\n"
     ]
    }
   ],
   "source": [
    "import re\n",
    "pattern = r'(\\d{4})-(\\d{2})-(\\d{2})'\n",
    "text= \"2023-11-13\"\n",
    "match = re.search(pattern,text)\n",
    "print(match.group())"
   ]
  },
  {
   "cell_type": "code",
   "execution_count": 63,
   "id": "4bbf9adb",
   "metadata": {
    "id": "eceb1690",
    "outputId": "facf8a8a-8a4d-4868-e71d-bf017dca196c"
   },
   "outputs": [
    {
     "name": "stdout",
     "output_type": "stream",
     "text": [
      "유효한 날짜 형식입니다.\n"
     ]
    }
   ],
   "source": [
    "date_example = \"2023-11-09\"\n",
    "date_pattern = r'\\d{4}-\\d{2}-\\d{2}'\n",
    "if re.match(date_pattern, date_example):\n",
    "    print(\"유효한 날짜 형식입니다.\")\n",
    "else:\n",
    "    print(\"유효하지 않은 날짜 형식입니다.\")"
   ]
  },
  {
   "cell_type": "markdown",
   "id": "1435b2cb",
   "metadata": {
    "id": "34a82397"
   },
   "source": [
    "문제10_1113: HTML 태그 제거\n",
    "- 조건: <p>Hello World</p>와 같은 HTML 태그를 찾아 제거하는 정규 표현식을 작성하세요."
   ]
  },
  {
   "cell_type": "code",
   "execution_count": 82,
   "id": "9e33426e",
   "metadata": {},
   "outputs": [
    {
     "name": "stdout",
     "output_type": "stream",
     "text": [
      "Hello World\n"
     ]
    }
   ],
   "source": [
    "p = re.compile(r'\\W+\\w\\W')\n",
    "print(p.sub('', '<p>Hello World</p>'))"
   ]
  },
  {
   "cell_type": "code",
   "execution_count": 83,
   "id": "1e13b2c3",
   "metadata": {},
   "outputs": [
    {
     "name": "stdout",
     "output_type": "stream",
     "text": [
      "Hello World\n"
     ]
    }
   ],
   "source": [
    "import re\n",
    "p10 = re.compile(r'<.*?>')\n",
    "t10 = r'<p>Hello World</p>'\n",
    "\n",
    "print(re.sub(p10,'',t10))"
   ]
  },
  {
   "cell_type": "code",
   "execution_count": 84,
   "id": "34c96f70",
   "metadata": {
    "id": "34c96f70",
    "outputId": "c3272834-a676-428a-a77d-527b0909b855"
   },
   "outputs": [
    {
     "name": "stdout",
     "output_type": "stream",
     "text": [
      "HTML 태그를 제거한 텍스트: Hello World\n"
     ]
    }
   ],
   "source": [
    "# 문제 5: HTML 태그 제거\n",
    "html_example = \"<p>Hello World</p>\"\n",
    "html_pattern = r'<[^>]+>'\n",
    "clean_text = re.sub(html_pattern, '', html_example)\n",
    "print(f\"HTML 태그를 제거한 텍스트: {clean_text}\")"
   ]
  },
  {
   "cell_type": "markdown",
   "id": "d7e72d1f",
   "metadata": {
    "id": "10d2deb1"
   },
   "source": [
    "문제11_1113: 숫자만 추출\n",
    "- 조건: 문자열에서 숫자만 추출하는 정규 표현식을 작성하세요 (예: abc1234d5e에서 12345 추출)."
   ]
  },
  {
   "cell_type": "code",
   "execution_count": 7,
   "id": "746680d3",
   "metadata": {},
   "outputs": [
    {
     "name": "stdout",
     "output_type": "stream",
     "text": [
      "1 2 3 4 5 "
     ]
    }
   ],
   "source": [
    "import re\n",
    "\n",
    "p = re.compile('[0-9]')\n",
    "m = p.findall('abc1234d5e') \n",
    "\n",
    "for i in m:\n",
    "    print(i, end = ' ')"
   ]
  },
  {
   "cell_type": "code",
   "execution_count": 5,
   "id": "7c0ecd03",
   "metadata": {},
   "outputs": [
    {
     "data": {
      "text/plain": [
       "['1', '2', '3', '4', '5']"
      ]
     },
     "execution_count": 5,
     "metadata": {},
     "output_type": "execute_result"
    }
   ],
   "source": [
    "import re\n",
    "text = 'abc1234d5e'\n",
    "re.findall(r'\\d',text)"
   ]
  },
  {
   "cell_type": "code",
   "execution_count": 9,
   "id": "48ad60a1",
   "metadata": {
    "id": "604d56db",
    "outputId": "6f15c88a-68c4-45e2-aeb2-06599e08c0d4"
   },
   "outputs": [
    {
     "name": "stdout",
     "output_type": "stream",
     "text": [
      "추출된 숫자: 1 2 3 4 5\n"
     ]
    }
   ],
   "source": [
    "# 문제 숫자만 추출\n",
    "string_with_numbers = \"abc1234d5e\"\n",
    "numbers_pattern = r'\\d'\n",
    "numbers = ' '.join(re.findall(numbers_pattern, string_with_numbers))\n",
    "print(f\"추출된 숫자: {numbers}\")"
   ]
  },
  {
   "cell_type": "markdown",
   "id": "632664b7",
   "metadata": {
    "id": "c6c7f6cc"
   },
   "source": [
    "문제12_1113: 대문자로 시작하는 단어 찾기\n",
    "- 조건: 각 단어가 대문자로 시작하는 경우와 일치하는 정규 표현식을 작성하세요 (예: Hello World에서 Hello와 World 추출)."
   ]
  },
  {
   "cell_type": "code",
   "execution_count": 13,
   "id": "6bfed396",
   "metadata": {},
   "outputs": [
    {
     "name": "stdout",
     "output_type": "stream",
     "text": [
      "['Hello', 'World']\n"
     ]
    }
   ],
   "source": [
    "import re\n",
    "find_str = re.findall(r'\\b[A-Z][a-z]*\\b', 'Hello World')\n",
    "print(find_str)"
   ]
  },
  {
   "cell_type": "code",
   "execution_count": null,
   "id": "15399a65",
   "metadata": {
    "id": "15399a65",
    "outputId": "33f96d73-06a8-4bf5-c7e8-bf269157c4de"
   },
   "outputs": [
    {
     "name": "stdout",
     "output_type": "stream",
     "text": [
      "대문자로 시작하는 단어: Hello World\n"
     ]
    }
   ],
   "source": [
    "# 문제 7: 대문자로 시작하는 단어 찾기\n",
    "text_example = \"Hello World\"\n",
    "capital_words_pattern = r'\\b[A-Z][a-z]*\\b'\n",
    "capital_words = ' '.join(re.findall(capital_words_pattern, text_example))\n",
    "print(f\"대문자로 시작하는 단어: {capital_words}\")"
   ]
  },
  {
   "cell_type": "markdown",
   "id": "6bdcd368",
   "metadata": {
    "id": "35e72cb6"
   },
   "source": [
    "문제13_1113: 이메일 유효성 검사\n",
    "- 조건: 이메일 주소가 유효한 형식인지 검사하는 정규 표현식을 작성하세요. 유효한 이메일 형식은 username@domain.extension과 같습니다."
   ]
  },
  {
   "cell_type": "code",
   "execution_count": 14,
   "id": "6af530a9",
   "metadata": {},
   "outputs": [
    {
     "name": "stdout",
     "output_type": "stream",
     "text": [
      "유효한 이메일 형식입니다.\n"
     ]
    }
   ],
   "source": [
    "email = 'username@domain.extension'\n",
    "p = r'\\w+@+domain.extension'\n",
    "if re.match(p, email):\n",
    "    print(\"유효한 이메일 형식입니다.\")\n",
    "else:\n",
    "    print(\"유효하지 않은 이메일 형식입니다.\")"
   ]
  },
  {
   "cell_type": "code",
   "execution_count": 16,
   "id": "e762467d",
   "metadata": {},
   "outputs": [
    {
     "name": "stdout",
     "output_type": "stream",
     "text": [
      "username@domain.extension\n"
     ]
    }
   ],
   "source": [
    "import re\n",
    "text = \"username@domain.extension\"\n",
    "pattern = r\"[a-zA-Z0-9_-]{5,20}\\@[a-zA-Z0-9]{3,20}\\.[a-zA-Z]{2,10}\"\n",
    "m = re.search(pattern, text)\n",
    "print(m.group())"
   ]
  },
  {
   "cell_type": "code",
   "execution_count": 17,
   "id": "25d3d378",
   "metadata": {
    "id": "25d3d378",
    "outputId": "fc24605f-c48b-4316-95aa-ee2441890e47"
   },
   "outputs": [
    {
     "name": "stdout",
     "output_type": "stream",
     "text": [
      "유효한 이메일 형식입니다.\n"
     ]
    }
   ],
   "source": [
    "# 문제 8: 이메일 유효성 검사\n",
    "import re\n",
    "email_example2 = \"username@domain.extension\"\n",
    "email_pattern2 = r'^[a-zA-Z0-9._%+-]+@[a-zA-Z0-9.-]+\\.[A-Za-z]{2,10}$'\n",
    "if re.match(email_pattern2, email_example2):\n",
    "    print(\"유효한 이메일 형식입니다.\")\n",
    "else:\n",
    "    print(\"유효하지 않은 이메일 형식입니다.\")"
   ]
  },
  {
   "cell_type": "markdown",
   "id": "902feaa4",
   "metadata": {
    "id": "9377e68c"
   },
   "source": [
    "문제13_1113: IP 주소 검증\n",
    "- 조건: 192.168.1.1과 같은 IPv4 주소와 일치하는 정규 표현식을 작성하세요."
   ]
  },
  {
   "cell_type": "code",
   "execution_count": 23,
   "id": "c7d32581",
   "metadata": {},
   "outputs": [
    {
     "name": "stdout",
     "output_type": "stream",
     "text": [
      "<re.Match object; span=(0, 11), match='192.168.1.1'>\n"
     ]
    }
   ],
   "source": [
    "p = re.compile(r'\\d{3}\\.\\d{3}\\.\\d{1,3}\\.\\d')\n",
    "print(p.search('192.168.1.1'))"
   ]
  },
  {
   "cell_type": "code",
   "execution_count": 24,
   "id": "c1645a64",
   "metadata": {},
   "outputs": [
    {
     "data": {
      "text/plain": [
       "{'192.168.1.1': True,\n",
       " '255.255.255.255': True,\n",
       " '0.0.0.0': True,\n",
       " '256.1.1.1': False,\n",
       " '1.1.1.1.1': False,\n",
       " '123.456.78.90': False}"
      ]
     },
     "execution_count": 24,
     "metadata": {},
     "output_type": "execute_result"
    }
   ],
   "source": [
    "import re\n",
    "\n",
    "ip_examples = [\"192.168.1.1\", \"255.255.255.255\", \"0.0.0.0\", \n",
    "               \"256.1.1.1\", \"1.1.1.1.1\", \"123.456.78.90\"]\n",
    "\n",
    "pattern = r'^((25[0-5]|2[0-4]\\d|1\\d{2}|[1-9]?\\d)\\.){3}(25[0-5]|2[0-4]\\d|1\\d{2}|[1-9]?\\d)$'\n",
    "\n",
    "checks = {ip: bool(re.match(pattern, ip)) for ip in ip_examples}\n",
    "checks"
   ]
  },
  {
   "cell_type": "code",
   "execution_count": 26,
   "id": "23b2eeee",
   "metadata": {
    "id": "23b2eeee",
    "outputId": "b9297733-49f1-4c64-9350-bb4444d21d74"
   },
   "outputs": [
    {
     "name": "stdout",
     "output_type": "stream",
     "text": [
      "유효한 IP 주소입니다.\n"
     ]
    }
   ],
   "source": [
    "# 문제 : IP 주소 검증\n",
    "ip_example = \"192.168.1.1\"\n",
    "ip_pattern = r'\\b(?:[0-9]{1,3}\\.){3}[0-9]{1,3}\\b'\n",
    "if re.match(ip_pattern, ip_example):\n",
    "    print(\"유효한 IP 주소입니다.\")\n",
    "else:\n",
    "    print(\"유효하지 않은 IP 주소입니다.\")"
   ]
  },
  {
   "cell_type": "code",
   "execution_count": 32,
   "id": "7d1767ac",
   "metadata": {},
   "outputs": [
    {
     "name": "stdout",
     "output_type": "stream",
     "text": [
      "192.168.1.1\n",
      "1\n"
     ]
    }
   ],
   "source": [
    "# 비캡처 그룹 : (?:..)\n",
    "ip_example = \"192.168.1.1\"\n",
    "\n",
    "p = re.compile(r'\\b(?:[0-9]{1,3}\\.){3}([0-9]{1,3})\\b')\n",
    "match = p.search(\"192.168.1.1\")\n",
    "print(match.group())\n",
    "print(match.group(1))"
   ]
  },
  {
   "cell_type": "markdown",
   "id": "52f40c7c",
   "metadata": {
    "id": "e7070716"
   },
   "source": [
    "문제15_1113: 코드 주석 찾기\n",
    "- 조건: # This is a comment와 같은 파이썬 코드 내의 주석과 일치하는 정규 표현식을 작성하세요."
   ]
  },
  {
   "cell_type": "code",
   "execution_count": 34,
   "id": "447fee79",
   "metadata": {},
   "outputs": [
    {
     "data": {
      "text/plain": [
       "'# This is a comment'"
      ]
     },
     "execution_count": 34,
     "metadata": {},
     "output_type": "execute_result"
    }
   ],
   "source": [
    "comment = \"# This is a comment\"\n",
    "p = r'#.*'\n",
    "re.match(p,comment).group()"
   ]
  },
  {
   "cell_type": "code",
   "execution_count": null,
   "id": "89b455a8",
   "metadata": {
    "id": "89b455a8",
    "outputId": "d14e6b22-94a7-4bdd-ca7d-919fe0a83eb2"
   },
   "outputs": [
    {
     "name": "stdout",
     "output_type": "stream",
     "text": [
      "코드 주석을 찾았습니다.\n"
     ]
    }
   ],
   "source": [
    "# 문제 10: 코드 주석 찾기\n",
    "code_example = \"# This is a comment\"\n",
    "comment_pattern = r'#.*'\n",
    "if re.match(comment_pattern, code_example):\n",
    "    print(\"코드 주석을 찾았습니다.\")\n",
    "else:\n",
    "    print(\"코드 주석이 없습니다.\")"
   ]
  }
 ],
 "metadata": {
  "colab": {
   "provenance": []
  },
  "kernelspec": {
   "display_name": "Python 3 (ipykernel)",
   "language": "python",
   "name": "python3"
  },
  "language_info": {
   "codemirror_mode": {
    "name": "ipython",
    "version": 3
   },
   "file_extension": ".py",
   "mimetype": "text/x-python",
   "name": "python",
   "nbconvert_exporter": "python",
   "pygments_lexer": "ipython3",
   "version": "3.10.13"
  }
 },
 "nbformat": 4,
 "nbformat_minor": 5
}
