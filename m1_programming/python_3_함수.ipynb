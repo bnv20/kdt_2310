{
 "cells": [
  {
   "cell_type": "markdown",
   "id": "9b5228c9",
   "metadata": {},
   "source": [
    "파이썬에서 함수는 크게 내장 함수(Built-in Functions)와 외장 함수(External Functions)로 나뉩니다.\n",
    "\n",
    "1. 내장 함수 (Built-in Functions):\n",
    "- 내장 함수는 파이썬 인터프리터에 포함되어 있어, 별도의 모듈을 임포트(import)하지 않고도 사용 예를 들어, print(), len(), type(), range(), zip() 등이 내장 함수입니다.\n",
    "- 이러한 함수들은 기본적인 작업을 수행하며, 파이썬 프로그래밍의 기본적인 빌딩 블록(building blocks)으로 작동\n",
    "\n",
    "2. 외장 함수 (External Functions):\n",
    "- 표준 라이브러리에 포함된 모듈과 함수를 가리키는 것으로 모듈을 임포트하여 사용\n",
    "- 파이썬 표준 라이브러리의 os, sys, math, random, datetime 등의 모듈에는 다양한 외장 함수가 포함\n",
    "\n",
    "3. 외부 라이브러리나 패키지\n",
    "- 표준 라이브러리에 포함되지 않아 기본 설치에는 포함되지 않는다. \n",
    "- 이를 사용하려면 먼저 해당 라이브러리나 패키지를 설치\n",
    "- 외부 라이브러리는 통상적으로 파이썬의 패키지 관리자인 pip를 사용하여 설치\n",
    "- 설치 후에는 외장 함수와 마찬가지로 필요한 모듈을 임포트하여 사용\n",
    "- 예: numpy, pandas, requests 등의 외부 라이브러리에 포함된 함수들.\n",
    "\n",
    "3. 사용자 정의 함수(User-Defined Functions):\n",
    "- 사용자가 직접 정의하여 사용하는 함수\n",
    "- def 키워드를 사용하여 함수를 정의하며, 필요에 따라 매개변수와 반환 값을 지정\n",
    "\n",
    "4. 람다 함수(Lambda Functions):\n",
    "- 이름 없는 간단한 함수를 정의할 때 사용하는 익명 함수\n",
    "- lambda 키워드를 사용하여 한 줄로 함수를 정의하며, 주로 간단한 연산이 필요할 때 사용"
   ]
  },
  {
   "cell_type": "code",
   "execution_count": 2,
   "id": "9044d235",
   "metadata": {},
   "outputs": [
    {
     "name": "stdout",
     "output_type": "stream",
     "text": [
      "Hello, World!\n",
      "4\n",
      "<class 'int'>\n"
     ]
    }
   ],
   "source": [
    "# 내장 함수 예제\n",
    "print(\"Hello, World!\")  # 출력 함수\n",
    "print(len([1, 2, 3, 4]))  # 길이 계산 함수\n",
    "print(type(10))  # 타입 확인 함수\n"
   ]
  },
  {
   "cell_type": "code",
   "execution_count": 23,
   "id": "35a5e0a2",
   "metadata": {},
   "outputs": [
    {
     "name": "stdout",
     "output_type": "stream",
     "text": [
      "4.0\n",
      "3\n",
      "2023-10-31 15:13:04.537211\n"
     ]
    }
   ],
   "source": [
    "# 외장 함수 예제\n",
    "import math  # 수학 모듈 임포트\n",
    "print(math.sqrt(16))  # 제곱근 계산 함수\n",
    "\n",
    "import random  # 랜덤 모듈 임포트\n",
    "print(random.randint(1, 10))  # 랜덤 정수 생성 함수. 양끝 포함\n",
    "\n",
    "import datetime  # 날짜와 시간 모듈 임포트\n",
    "print(datetime.datetime.now())  # 현재 날짜와 시간 출력 함수\n"
   ]
  },
  {
   "cell_type": "code",
   "execution_count": 26,
   "id": "4490f6f3",
   "metadata": {},
   "outputs": [
    {
     "name": "stdout",
     "output_type": "stream",
     "text": [
      "    Name  Age\n",
      "0  Alice   25\n",
      "1    Bob   30\n"
     ]
    }
   ],
   "source": [
    "# 외부 라이브러리 예제\n",
    "# 먼저 pip를 사용하여 requests 라이브러리를 설치합니다.\n",
    "# !pip install pandas\n",
    "\n",
    "import pandas as pd\n",
    "\n",
    "# pandas의 DataFrame 객체 생성\n",
    "data = {'Name': ['Alice', 'Bob', 'Charlie'], 'Age': [25, 30, 35]}\n",
    "df = pd.DataFrame(data)\n",
    "\n",
    "# pandas의 head() 함수 사용하여 DataFrame의 처음 5행 출력 (여기서는 3행만 존재)\n",
    "print(df.head(2))\n"
   ]
  },
  {
   "cell_type": "code",
   "execution_count": 28,
   "id": "bf54ad22",
   "metadata": {},
   "outputs": [
    {
     "name": "stdout",
     "output_type": "stream",
     "text": [
      "Hello, 한정현!\n"
     ]
    }
   ],
   "source": [
    "# 사용자 함수 예제\n",
    "def greet(name):\n",
    "    return f\"Hello, {name}!\"\n",
    "\n",
    "print(greet(\"한정현\"))  # 출력: Hello, Alice!\n"
   ]
  },
  {
   "cell_type": "markdown",
   "id": "741ad4c1",
   "metadata": {},
   "source": [
    "#### 람다함수"
   ]
  },
  {
   "cell_type": "code",
   "execution_count": 29,
   "id": "4c26f795",
   "metadata": {},
   "outputs": [
    {
     "name": "stdout",
     "output_type": "stream",
     "text": [
      "12\n"
     ]
    }
   ],
   "source": [
    "# 람다 함수는 간단한 한 줄의 함수를 작성할 때 유용\n",
    "multiply = lambda x, y: x * y\n",
    "print(multiply(3, 4))  # 출력: 12\n"
   ]
  },
  {
   "cell_type": "code",
   "execution_count": 30,
   "id": "1f67a3d5",
   "metadata": {},
   "outputs": [
    {
     "name": "stdout",
     "output_type": "stream",
     "text": [
      "True\n",
      "False\n"
     ]
    }
   ],
   "source": [
    "# 조건 사용:\n",
    "is_even = lambda x: True if x % 2 == 0 else False\n",
    "print(is_even(4))  # 출력: True\n",
    "print(is_even(5))  # 출력: False\n"
   ]
  },
  {
   "cell_type": "code",
   "execution_count": 35,
   "id": "b10d85ce",
   "metadata": {},
   "outputs": [
    {
     "name": "stdout",
     "output_type": "stream",
     "text": [
      "[1, 4, 9, 16, 25]\n"
     ]
    }
   ],
   "source": [
    "# map() 함수와 함께 사용:\n",
    "numbers = [1, 2, 3, 4, 5]\n",
    "squared_numbers = map(lambda x: x * x, numbers)\n",
    "print(list(squared_numbers))  # 출력: [1, 4, 9, 16, 25]\n"
   ]
  },
  {
   "cell_type": "code",
   "execution_count": 37,
   "id": "93d485f8",
   "metadata": {},
   "outputs": [
    {
     "name": "stdout",
     "output_type": "stream",
     "text": [
      "[2, 4]\n"
     ]
    }
   ],
   "source": [
    "# filter() 함수와 함께 사용:\n",
    "numbers = [1, 2, 3, 4, 5]\n",
    "even_numbers = filter(lambda x: x % 2 == 0, numbers)\n",
    "print(list(even_numbers))  # 출력: [2, 4]\n"
   ]
  },
  {
   "cell_type": "code",
   "execution_count": 4,
   "id": "de75a25a",
   "metadata": {},
   "outputs": [
    {
     "name": "stdout",
     "output_type": "stream",
     "text": [
      "[('Alice', 90), ('Charlie', 88), ('Bob', 85)]\n"
     ]
    }
   ],
   "source": [
    "# sorted() 함수와 함께 사용:\n",
    "students = [('Alice', 90), ('Bob', 85), ('Charlie', 88)]\n",
    "# sorted_students = sorted(students, key=lambda x: x[1]) # key는 sort 기준\n",
    "sorted_students = sorted(students, key=lambda x: x[1], reverse=True) # 내림차순\n",
    "print(sorted_students)"
   ]
  },
  {
   "cell_type": "markdown",
   "id": "649ee48d",
   "metadata": {},
   "source": [
    "과제_8_1031\n",
    "- 내장함수(배운 것) 5개를 활용해서 간단한 프로그램을 만드세요.\n",
    "- 외장함수(배운 것) 5개를 활용해서 간단한 프로그램을 만드세요\n",
    "- 사용자 함수 3개를 작성하세요\n",
    "- 리스트를 작성하고 람다 함수를 이용해서 한번에 함수를 적용하여 결과값을 출력하세요\n",
    "- 외부 라리브러리를 임포트해서 간단한 프로그램을 만드세요.\n"
   ]
  },
  {
   "cell_type": "code",
   "execution_count": 6,
   "id": "c8d68283",
   "metadata": {},
   "outputs": [
    {
     "data": {
      "text/html": [
       "<div>\n",
       "<style scoped>\n",
       "    .dataframe tbody tr th:only-of-type {\n",
       "        vertical-align: middle;\n",
       "    }\n",
       "\n",
       "    .dataframe tbody tr th {\n",
       "        vertical-align: top;\n",
       "    }\n",
       "\n",
       "    .dataframe thead th {\n",
       "        text-align: right;\n",
       "    }\n",
       "</style>\n",
       "<table border=\"1\" class=\"dataframe\">\n",
       "  <thead>\n",
       "    <tr style=\"text-align: right;\">\n",
       "      <th></th>\n",
       "      <th>survived</th>\n",
       "      <th>pclass</th>\n",
       "      <th>sex</th>\n",
       "      <th>age</th>\n",
       "      <th>sibsp</th>\n",
       "      <th>parch</th>\n",
       "      <th>fare</th>\n",
       "      <th>embarked</th>\n",
       "      <th>class</th>\n",
       "      <th>who</th>\n",
       "      <th>adult_male</th>\n",
       "      <th>deck</th>\n",
       "      <th>embark_town</th>\n",
       "      <th>alive</th>\n",
       "      <th>alone</th>\n",
       "    </tr>\n",
       "  </thead>\n",
       "  <tbody>\n",
       "    <tr>\n",
       "      <th>0</th>\n",
       "      <td>0</td>\n",
       "      <td>3</td>\n",
       "      <td>male</td>\n",
       "      <td>22.0</td>\n",
       "      <td>1</td>\n",
       "      <td>0</td>\n",
       "      <td>7.2500</td>\n",
       "      <td>S</td>\n",
       "      <td>Third</td>\n",
       "      <td>man</td>\n",
       "      <td>True</td>\n",
       "      <td>NaN</td>\n",
       "      <td>Southampton</td>\n",
       "      <td>no</td>\n",
       "      <td>False</td>\n",
       "    </tr>\n",
       "    <tr>\n",
       "      <th>1</th>\n",
       "      <td>1</td>\n",
       "      <td>1</td>\n",
       "      <td>female</td>\n",
       "      <td>38.0</td>\n",
       "      <td>1</td>\n",
       "      <td>0</td>\n",
       "      <td>71.2833</td>\n",
       "      <td>C</td>\n",
       "      <td>First</td>\n",
       "      <td>woman</td>\n",
       "      <td>False</td>\n",
       "      <td>C</td>\n",
       "      <td>Cherbourg</td>\n",
       "      <td>yes</td>\n",
       "      <td>False</td>\n",
       "    </tr>\n",
       "    <tr>\n",
       "      <th>2</th>\n",
       "      <td>1</td>\n",
       "      <td>3</td>\n",
       "      <td>female</td>\n",
       "      <td>26.0</td>\n",
       "      <td>0</td>\n",
       "      <td>0</td>\n",
       "      <td>7.9250</td>\n",
       "      <td>S</td>\n",
       "      <td>Third</td>\n",
       "      <td>woman</td>\n",
       "      <td>False</td>\n",
       "      <td>NaN</td>\n",
       "      <td>Southampton</td>\n",
       "      <td>yes</td>\n",
       "      <td>True</td>\n",
       "    </tr>\n",
       "    <tr>\n",
       "      <th>3</th>\n",
       "      <td>1</td>\n",
       "      <td>1</td>\n",
       "      <td>female</td>\n",
       "      <td>35.0</td>\n",
       "      <td>1</td>\n",
       "      <td>0</td>\n",
       "      <td>53.1000</td>\n",
       "      <td>S</td>\n",
       "      <td>First</td>\n",
       "      <td>woman</td>\n",
       "      <td>False</td>\n",
       "      <td>C</td>\n",
       "      <td>Southampton</td>\n",
       "      <td>yes</td>\n",
       "      <td>False</td>\n",
       "    </tr>\n",
       "    <tr>\n",
       "      <th>4</th>\n",
       "      <td>0</td>\n",
       "      <td>3</td>\n",
       "      <td>male</td>\n",
       "      <td>35.0</td>\n",
       "      <td>0</td>\n",
       "      <td>0</td>\n",
       "      <td>8.0500</td>\n",
       "      <td>S</td>\n",
       "      <td>Third</td>\n",
       "      <td>man</td>\n",
       "      <td>True</td>\n",
       "      <td>NaN</td>\n",
       "      <td>Southampton</td>\n",
       "      <td>no</td>\n",
       "      <td>True</td>\n",
       "    </tr>\n",
       "  </tbody>\n",
       "</table>\n",
       "</div>"
      ],
      "text/plain": [
       "   survived  pclass     sex   age  sibsp  parch     fare embarked  class  \\\n",
       "0         0       3    male  22.0      1      0   7.2500        S  Third   \n",
       "1         1       1  female  38.0      1      0  71.2833        C  First   \n",
       "2         1       3  female  26.0      0      0   7.9250        S  Third   \n",
       "3         1       1  female  35.0      1      0  53.1000        S  First   \n",
       "4         0       3    male  35.0      0      0   8.0500        S  Third   \n",
       "\n",
       "     who  adult_male deck  embark_town alive  alone  \n",
       "0    man        True  NaN  Southampton    no  False  \n",
       "1  woman       False    C    Cherbourg   yes  False  \n",
       "2  woman       False  NaN  Southampton   yes   True  \n",
       "3  woman       False    C  Southampton   yes  False  \n",
       "4    man        True  NaN  Southampton    no   True  "
      ]
     },
     "execution_count": 6,
     "metadata": {},
     "output_type": "execute_result"
    }
   ],
   "source": [
    "import pandas as pd\n",
    "import seaborn as sns\n",
    "\n",
    "titanic = sns.load_dataset('titanic')\n",
    "\n",
    "titanic.head()\n"
   ]
  },
  {
   "cell_type": "markdown",
   "id": "b647f64f",
   "metadata": {},
   "source": [
    "#### 함수 vs 메소드 \n",
    "- 함수 (Function)\n",
    "    - 함수는 특정 작업을 수행하거나 값을 계산하기 위해 정의된 코드의 블록\n",
    "    - 함수는 def 키워드를 사용하여 정의\n",
    "    - 함수는 전역적으로 호출할 수 있거나 다른 함수 내부에서 호출할 수 있다.\n",
    "    - 예: print(), len(), max()\n",
    "- 메소드 (Method)\n",
    "    - 메소드는 객체에 속한 함수즉, 메소드는 특정 객체의 속성이거나 기능으로 정의\n",
    "    - 메소드는 객체와 연결되어 있으며, . (점) 표기법을 사용하여 해당 객체에 대한 메소드를 호출\n",
    "    - 메소드는 첫 번째 매개변수로 self를 사용하여 객체 자체를 참조 (클래스 내부에서 메소드를 정의할 때)\n",
    "- 주요 차이점\n",
    "    - 정의: 함수는 독립적으로 정의되지만, 메소드는 클래스 내부에서 정의\n",
    "    - 호출: 함수는 이름만으로 호출될 수 있지만, 메소드는 객체를 통해 호출\n",
    "    - 참조: 메소드는 첫 번째 매개변수로 객체 자신을 참조(self), 반면 함수는 이런 자체 참조 매개변수를 갖지 않는다."
   ]
  },
  {
   "cell_type": "code",
   "execution_count": 6,
   "id": "b8c078dd",
   "metadata": {},
   "outputs": [
    {
     "name": "stdout",
     "output_type": "stream",
     "text": [
      "Hello from a function\n"
     ]
    }
   ],
   "source": [
    "def my_function():\n",
    "    print(\"Hello from a function\")\n",
    "\n",
    "my_function()  # 함수 호출"
   ]
  },
  {
   "cell_type": "code",
   "execution_count": 7,
   "id": "84bc3d65",
   "metadata": {},
   "outputs": [
    {
     "name": "stdout",
     "output_type": "stream",
     "text": [
      "Hello from a method\n"
     ]
    }
   ],
   "source": [
    "class MyClass:\n",
    "    def my_method(self):\n",
    "        print(\"Hello from a method\")\n",
    "\n",
    "obj = MyClass()\n",
    "obj.my_method()  # 메소드 호출"
   ]
  },
  {
   "cell_type": "code",
   "execution_count": 11,
   "id": "a10cebc2",
   "metadata": {},
   "outputs": [
    {
     "data": {
      "text/plain": [
       "[1, 2, 3, 4, 5, 6]"
      ]
     },
     "execution_count": 11,
     "metadata": {},
     "output_type": "execute_result"
    }
   ],
   "source": [
    "# 메소드 사례\n",
    "my_list = [1, 2, 3, 4, 5]\n",
    "\n",
    "my_list.append(6)     # 리스트에 요소 추가\n",
    "my_list"
   ]
  },
  {
   "cell_type": "code",
   "execution_count": 8,
   "id": "2f85968c",
   "metadata": {},
   "outputs": [
    {
     "data": {
      "text/plain": [
       "'HELLO'"
      ]
     },
     "execution_count": 8,
     "metadata": {},
     "output_type": "execute_result"
    }
   ],
   "source": [
    "my_string = \"hello\"\n",
    "\n",
    "upper_string = my_string.upper()  # 문자열을 대문자로 변환\n",
    "upper_string"
   ]
  },
  {
   "cell_type": "code",
   "execution_count": 7,
   "id": "4c9c2f84",
   "metadata": {},
   "outputs": [
    {
     "data": {
      "text/plain": [
       "'value1'"
      ]
     },
     "execution_count": 7,
     "metadata": {},
     "output_type": "execute_result"
    }
   ],
   "source": [
    "my_dict = {'key1': 'value1', 'key2': 'value2'}\n",
    "\n",
    "value = my_dict.get('key1')  # key1에 해당하는 값을 가져옴\n",
    "value"
   ]
  },
  {
   "cell_type": "code",
   "execution_count": 11,
   "id": "505b12c9",
   "metadata": {},
   "outputs": [
    {
     "data": {
      "text/plain": [
       "{1, 2, 3, 4}"
      ]
     },
     "execution_count": 11,
     "metadata": {},
     "output_type": "execute_result"
    }
   ],
   "source": [
    "my_set = {1, 2, 3}\n",
    "\n",
    "my_set.add(4)  # 집합에 요소 추가\n",
    "my_set"
   ]
  },
  {
   "cell_type": "code",
   "execution_count": 9,
   "id": "a7c6e26e",
   "metadata": {},
   "outputs": [
    {
     "data": {
      "text/plain": [
       "2"
      ]
     },
     "execution_count": 9,
     "metadata": {},
     "output_type": "execute_result"
    }
   ],
   "source": [
    "my_list = [1, 2, 3, 4, 5]\n",
    "\n",
    "index = my_list.index(3)  # 리스트에서 3이라는 값의 인덱스 반환\n",
    "index"
   ]
  },
  {
   "cell_type": "markdown",
   "id": "e725ea5c",
   "metadata": {},
   "source": [
    "#### 사용자 함수"
   ]
  },
  {
   "cell_type": "code",
   "execution_count": 12,
   "id": "3519f4f4",
   "metadata": {},
   "outputs": [
    {
     "name": "stdout",
     "output_type": "stream",
     "text": [
      "25\n",
      "45\n",
      "대한민국~만세!!\n"
     ]
    }
   ],
   "source": [
    "def add_number(n1, n2):\n",
    "   ret = n1+n2\n",
    "   return ret\n",
    "\n",
    "def add_txt(t1, t2):\n",
    "   print(t1+t2)\n",
    " \n",
    "ans1 = add_number(10, 15)\n",
    "print(ans1)                   # 25가 출력됨\n",
    "ans2 = add_number(20, 25)\n",
    "print(ans2)   \n",
    "text1 = '대한민국~'\n",
    "text2 ='만세!!'\n",
    "add_txt(text1, text2)         # ‘대한민국~만세!!’가 출력됨"
   ]
  },
  {
   "cell_type": "code",
   "execution_count": 16,
   "id": "e4c99cda",
   "metadata": {},
   "outputs": [
    {
     "name": "stdout",
     "output_type": "stream",
     "text": [
      "베스트 : 파이썬\n",
      "1등 : 대한민국\n",
      "()\n",
      "(3, 5, 7, 8, 9)\n",
      "{}\n",
      "{'depth': 50, 'color': 'blue'}\n"
     ]
    }
   ],
   "source": [
    "# 함수 인자 : 기본적으로 인자 순서에 대응되는 값을 함수 코드에 대입\n",
    "def add_txt(t1, t2='파이썬'): # t2 기본값을 대입한 기본 인자는 마지막에 위치해야 함\n",
    "   print(t1+' : ' +t2)\n",
    "   \n",
    "add_txt('베스트')                   # ‘베스트 : 파이썬’이 출력됨. t1은 베스트, t2는 기본값이 대입\n",
    "add_txt(t2='대한민국', t1='1등')    # ‘1등 : 대한민국’이 출력됨. 키워드 인자에 의한 값 전달. 인자의 순서는 무시\n",
    "\n",
    "def func1(*args): # 인자의 개수가 불명확한 경우 가변 인자 사용. args는 함수 내부에서 튜플로 처리\n",
    "   print(args)\n",
    "\n",
    "def func2(width, height, **kwargs): # 키워드 인자가 불명확한 경우 **kwargs를 사용. 함수 내부에서 사전으로 처리\n",
    "   print(kwargs)\n",
    "\n",
    "func1()                          # 빈 튜플 ( ) 이 출력됨\n",
    "func1(3,5,7,8,9)                  # (3, 5, 1, 5)가 출력됨\n",
    "func2(10, 20)                          # 빈 사전 { }이 출력됨\n",
    "func2(10, 20, depth=50, color='blue')  #{‘depth’:50, ‘color’:’blue’} 이 출력됨"
   ]
  },
  {
   "cell_type": "code",
   "execution_count": 5,
   "id": "b11b12ba",
   "metadata": {},
   "outputs": [
    {
     "data": {
      "text/plain": [
       "(10, 20, {'depth': 50, 'color': 'blue'})"
      ]
     },
     "execution_count": 5,
     "metadata": {},
     "output_type": "execute_result"
    }
   ],
   "source": [
    "def func2(width, height, **kwargs):\n",
    "    return width, height, kwargs\n",
    "\n",
    "# func2(10, 20) \n",
    "func2(10, 20, depth=50, color='blue') "
   ]
  },
  {
   "cell_type": "code",
   "execution_count": 18,
   "id": "8f6b68d8",
   "metadata": {},
   "outputs": [
    {
     "name": "stdout",
     "output_type": "stream",
     "text": [
      "85\n",
      "139\n",
      "214\n"
     ]
    }
   ],
   "source": [
    "# Q. 1~10까지 가변적으로 연산을 할 수 있는 사용자 함수를 작성(매개변수가 가변적)\n",
    "def all_add(*args):\n",
    "    result = 0\n",
    "    for i in args:\n",
    "        result += i\n",
    "    print(result)\n",
    "\n",
    "all_add(4,22,59)\n",
    "all_add(4,20,50,65)\n",
    "all_add(4,20,50,65,75)"
   ]
  },
  {
   "cell_type": "code",
   "execution_count": 21,
   "id": "a8487543",
   "metadata": {},
   "outputs": [
    {
     "name": "stdout",
     "output_type": "stream",
     "text": [
      "Width: 100\n",
      "Height: 200\n",
      "Other arguments: {'color': 'red', 'thickness': 5}\n",
      "Width: 100\n",
      "Height: 200\n",
      "Other arguments: {'color': 'red', 'thickness': 5, 'type': 'large'}\n"
     ]
    }
   ],
   "source": [
    "# Q. **args를 이용하여 아래와 같이 출력할 수 있는 사용자 함수 func2를 작성하세요\n",
    "# 출력:\n",
    "# Width: 100\n",
    "# Height: 200\n",
    "# Other arguments: {'color': 'red', 'thickness': 5}\n",
    "\n",
    "def func2 (width, height, **kwargs):\n",
    "    print(f'Width: {width}')\n",
    "    print(f'Height: {height}')\n",
    "    print(f'Other arguments: {kwargs}')\n",
    "\n",
    "func2(100,200,color='red', thickness=5)\n",
    "func2(100,200,color='red', thickness=5, type='large')"
   ]
  },
  {
   "cell_type": "code",
   "execution_count": null,
   "id": "aca2d548",
   "metadata": {},
   "outputs": [],
   "source": [
    "# 과제1_1101 : 사용자 함수를 아래와 같이 사용할 수 있는 func3를 작성하세요.\n",
    "func3(100, 200)  \n",
    "# 출력: Width: 100, Height: 200, Color: blue, Thickness: 1\n",
    "\n",
    "func3(100, 200, color='green', thickness=10)  \n",
    "# 출력: Width: 100, Height: 200, Color: green, Thickness: 10"
   ]
  },
  {
   "cell_type": "code",
   "execution_count": 5,
   "id": "1eb02d2f",
   "metadata": {},
   "outputs": [
    {
     "name": "stdout",
     "output_type": "stream",
     "text": [
      "Width: 100, Height: 200, Color: blue, Thickness: 1\n",
      "Width: 100, Height: 200, Color: red, Thickness: 15\n"
     ]
    }
   ],
   "source": [
    "def func3(a, b,  color='blue', thickness=1):\n",
    "    print(f'Width: {a}, Height: {b}, Color: {color}, Thickness: {thickness}')\n",
    "    \n",
    "# 출력 : Width: 100, Height: 200, Color: blue, Thickness: 1\n",
    "func3(100, 200)\n",
    "\n",
    "# 출력: Width: 100, Height: 200, Color: green, Thickness: 10\n",
    "func3(100, 200, color='red', thickness=15 )"
   ]
  },
  {
   "cell_type": "code",
   "execution_count": 7,
   "id": "bf050576",
   "metadata": {},
   "outputs": [
    {
     "name": "stdout",
     "output_type": "stream",
     "text": [
      "Width: 100, Height: 200, \n",
      "Width: 100, Height: 200, color: green, thickness: 10\n"
     ]
    }
   ],
   "source": [
    "# kwargs 연습\n",
    "def func3(width, height, **kwargs):\n",
    "    dic_text = str(kwargs)[1:-1].replace(\"'\", \"\")\n",
    "    text3=f'Width: {width}, Height: {height}, {dic_text}'\n",
    "    print(text3)\n",
    "\n",
    "func3(100,200, color='green', thickness=10)"
   ]
  },
  {
   "cell_type": "code",
   "execution_count": 3,
   "id": "d38f0312",
   "metadata": {},
   "outputs": [
    {
     "name": "stdout",
     "output_type": "stream",
     "text": [
      "Width: 100\n",
      "Height: 200\n",
      "Other arguments: {'color': 'blue', 'thickness': 1}\n",
      "Width: 100\n",
      "Height: 200\n",
      "Other arguments: {'color': 'green', 'thickness': 10}\n"
     ]
    }
   ],
   "source": [
    "def func3(width, height, **kwargs):\n",
    "    print(\"Width:\", width)\n",
    "    print(\"Height:\", height)\n",
    "    print(\"Other arguments:\", kwargs)\n",
    "func3(100, 200, color='blue', thickness=1)\n",
    "func3(100, 200, color='green', thickness=10) "
   ]
  },
  {
   "cell_type": "code",
   "execution_count": null,
   "id": "5e0c788e",
   "metadata": {},
   "outputs": [],
   "source": [
    "# 과제2_1101 : 아래와 같이 출력되도록 func4를 작성하세요\n",
    "def print_info(**kwargs):\n",
    "    for key, value in kwargs.items():\n",
    "        print(f\"{key}: {value}\")\n",
    "\n",
    "        \n",
    "func4(100, 200, color='yellow', style='dotted')\n",
    "# 출력:\n",
    "# color: yellow\n",
    "# style: dotted"
   ]
  },
  {
   "cell_type": "code",
   "execution_count": 8,
   "id": "6d069f26",
   "metadata": {},
   "outputs": [
    {
     "name": "stdout",
     "output_type": "stream",
     "text": [
      "color: yellow\n",
      "style: dotted\n"
     ]
    }
   ],
   "source": [
    "def func4(a,b,**kwargs):\n",
    "    print_info(**kwargs)\n",
    "\n",
    "def print_info(**kwargs):\n",
    "    for key, value in kwargs.items():\n",
    "        print(f\"{key}: {value}\")\n",
    "        \n",
    "func4(100, 200, color='yellow', style='dotted')"
   ]
  },
  {
   "cell_type": "markdown",
   "id": "33bb0d62",
   "metadata": {},
   "source": [
    "#### 인자와 리턴값 여부에 따른 함수 유형"
   ]
  },
  {
   "cell_type": "code",
   "execution_count": 22,
   "id": "31ad0f7a",
   "metadata": {
    "id": "628c7e1d",
    "outputId": "53bc7973-837e-4b38-e79b-f991ebe5e385"
   },
   "outputs": [
    {
     "name": "stdout",
     "output_type": "stream",
     "text": [
      "HI\n"
     ]
    }
   ],
   "source": [
    "# 입력값이 없고 결과값만 있는 함수\n",
    "def say():\n",
    "    return 'HI'\n",
    "\n",
    "a = say()\n",
    "print(a)"
   ]
  },
  {
   "cell_type": "code",
   "execution_count": 25,
   "id": "17e01383",
   "metadata": {
    "id": "2265b9fc",
    "outputId": "13f89e22-cbeb-4200-ca49-cce8253ff57f"
   },
   "outputs": [
    {
     "name": "stdout",
     "output_type": "stream",
     "text": [
      "3, 4의 합은 7입니다.\n",
      "None\n"
     ]
    }
   ],
   "source": [
    "# 입력값은 있고 결과값이 없는 함수\n",
    "# 결과값은 오직 return 명령어로만 돌려 받을 수 있음\n",
    "def add(a,b):\n",
    "    print('%d, %d의 합은 %d입니다.' %(a,b,a+b))\n",
    "# add(3,4)\n",
    "a = add(3,4)\n",
    "print(a)"
   ]
  },
  {
   "cell_type": "code",
   "execution_count": 27,
   "id": "1f469a95",
   "metadata": {
    "id": "d4178154",
    "outputId": "2f2101a2-4070-450d-9a8d-e2c9017a5715"
   },
   "outputs": [
    {
     "name": "stdout",
     "output_type": "stream",
     "text": [
      "Hi\n",
      "None\n"
     ]
    }
   ],
   "source": [
    "# 입력값도 결과값도 없는 함수\n",
    "\n",
    "def say():\n",
    "    print('Hi')\n",
    "    \n",
    "a = say()\n",
    "print(a)"
   ]
  },
  {
   "cell_type": "code",
   "execution_count": 26,
   "id": "e25669bd",
   "metadata": {},
   "outputs": [
    {
     "name": "stdout",
     "output_type": "stream",
     "text": [
      "7\n"
     ]
    }
   ],
   "source": [
    "# 입력값, 결과값이 모두 있는 함수\n",
    "def add(a,b):\n",
    "    return a+b\n",
    "a = add(3,4)\n",
    "print(a)\n",
    "# add(3,4)"
   ]
  },
  {
   "cell_type": "code",
   "execution_count": 29,
   "id": "d19c5b25",
   "metadata": {
    "id": "a64e2f72",
    "outputId": "b0580642-8cd9-486f-8524-1aa65546da17"
   },
   "outputs": [
    {
     "name": "stdout",
     "output_type": "stream",
     "text": [
      "가장 큰 수는 30입니다.\n"
     ]
    },
    {
     "data": {
      "text/plain": [
       "30"
      ]
     },
     "execution_count": 29,
     "metadata": {},
     "output_type": "execute_result"
    }
   ],
   "source": [
    "# 입력값, 결과값이 모두 있는 함수\n",
    "def max(a,b,c):\n",
    "    if a>b:\n",
    "        if a>c:\n",
    "            return a\n",
    "        elif a<c:\n",
    "            return c\n",
    "    if a<b:\n",
    "        if b>c:\n",
    "            return b\n",
    "        else:\n",
    "            return c\n",
    "\n",
    "print(\"가장 큰 수는 %d입니다.\" %(max(20,1,30)))\n",
    "max(10,20,30)\n"
   ]
  },
  {
   "cell_type": "code",
   "execution_count": 32,
   "id": "9b2ab1b3",
   "metadata": {
    "id": "ae65873e",
    "outputId": "1bb3049f-b748-43e0-e90f-596b6029bb71"
   },
   "outputs": [
    {
     "name": "stdout",
     "output_type": "stream",
     "text": [
      "숫자1 : 5\n",
      "숫자2 : 5\n",
      "기호 : +\n",
      "10\n"
     ]
    }
   ],
   "source": [
    "def math(x, y, z):\n",
    "    if z == '*':\n",
    "        return x*y\n",
    "    elif z== '/':\n",
    "        return x/y\n",
    "    elif z== '+':\n",
    "        return x+y\n",
    "    elif z== '%':\n",
    "        return x%y\n",
    "    elif z== '^':\n",
    "        return x**y\n",
    "    elif z== '-':\n",
    "        return x-y\n",
    "    elif z== '//':\n",
    "        return x//y\n",
    "    else:\n",
    "        return\n",
    "\n",
    "print(math(int(input(\"숫자1 : \")), int(input(\"숫자2 : \")), input(\"기호 : \")))\n",
    "# math(10,2,'//')\n"
   ]
  },
  {
   "cell_type": "code",
   "execution_count": 37,
   "id": "61732e66",
   "metadata": {
    "id": "a2846810",
    "outputId": "dfbfd10f-93cf-43af-c742-814e735dba75"
   },
   "outputs": [
    {
     "name": "stdout",
     "output_type": "stream",
     "text": [
      "3 equal 3\n"
     ]
    },
    {
     "data": {
      "text/plain": [
       "'3 bigger than 2'"
      ]
     },
     "execution_count": 37,
     "metadata": {},
     "output_type": "execute_result"
    }
   ],
   "source": [
    "def com(a,b):\n",
    "    if a>b:\n",
    "        return f'{a} bigger than {b}'\n",
    "    elif a<b:\n",
    "        return f'{a} smaller than {b}'\n",
    "    else:\n",
    "        return f'{a} equal {b}'\n",
    "com(3,3)\n",
    "com(3,2)"
   ]
  },
  {
   "cell_type": "code",
   "execution_count": null,
   "id": "929e0531",
   "metadata": {
    "id": "c32e9f7d",
    "outputId": "9c0b1bf7-155c-42d6-bd54-47569b46df30"
   },
   "outputs": [
    {
     "name": "stdout",
     "output_type": "stream",
     "text": [
      "(7, 12)\n"
     ]
    }
   ],
   "source": [
    "# 함수의 반환 값은 언제나 하나임 - 결과 값으로 튜플 값 하나를 갖게 됨\n",
    "def add_and_mul(a,b):\n",
    "    return a+b, a*b\n",
    "\n",
    "result = add_and_mul(3,4)\n",
    "print(result)"
   ]
  },
  {
   "cell_type": "code",
   "execution_count": null,
   "id": "5c53aea6",
   "metadata": {
    "id": "857888c5"
   },
   "outputs": [],
   "source": [
    "# add_mul() 함수를 정의하여 1,2,3,4,5를 입력 값으로 적용하여 덧셈(add),곱셈(mul) 연산을 수행하세요.\n",
    "def add_mul(choice, *args):\n",
    "    \n",
    "    \n",
    "add_mul('add', 1,2,3,4,5)\n",
    "add_mul('mul', 1,2,3,4,5)"
   ]
  },
  {
   "cell_type": "code",
   "execution_count": 38,
   "id": "37268b89",
   "metadata": {
    "id": "743d0c9c",
    "outputId": "035c5ca6-306b-4ee8-a431-82363dd92d26"
   },
   "outputs": [
    {
     "name": "stdout",
     "output_type": "stream",
     "text": [
      "120\n"
     ]
    },
    {
     "data": {
      "text/plain": [
       "15"
      ]
     },
     "execution_count": 38,
     "metadata": {},
     "output_type": "execute_result"
    }
   ],
   "source": [
    "def add_mul(choice, *args):\n",
    "    if choice == '+':\n",
    "        result = 0\n",
    "        for i in args:\n",
    "            result += i\n",
    "        return result\n",
    "    elif choice == '*':\n",
    "        result = 1\n",
    "        for i in args:\n",
    "            result *= i\n",
    "        return result\n",
    "    else :\n",
    "        print('수행할 수 없는 연산입니다.')\n",
    "\n",
    "print(add_mul('*',1,2,3,4,5))\n",
    "add_mul('+',1,2,3,4,5)"
   ]
  },
  {
   "cell_type": "code",
   "execution_count": null,
   "id": "c561794b",
   "metadata": {
    "id": "2febf000"
   },
   "outputs": [],
   "source": [
    "# 과제3_1101 : 첫번째 숫자에서 뻴셈, 나눗셈 멀티 계산 함수 sub_div를 작성\n",
    "('-', 2,4,6,8,10)\n",
    "('/', 2,4,6,8,10)"
   ]
  },
  {
   "cell_type": "code",
   "execution_count": 13,
   "id": "596fafb3",
   "metadata": {},
   "outputs": [
    {
     "name": "stdout",
     "output_type": "stream",
     "text": [
      "-26\n",
      "0.0010416666666666667\n",
      "7.891414141414141e-06\n"
     ]
    }
   ],
   "source": [
    "def sub_div(choice, *args):\n",
    "    if choice == '-':\n",
    "        result = args[0]\n",
    "        for n in args[1:] :\n",
    "            result -= n\n",
    "        return result\n",
    "    elif choice == '/':\n",
    "        result = args[0]\n",
    "        for i in args[1:]:\n",
    "            result /=i\n",
    "        return result\n",
    "    else:\n",
    "        return \"계산할 수 있는 기호가 아닙니다.\"\n",
    "            \n",
    "print(sub_div('-', 2,4,6,8,10))\n",
    "print(sub_div('/', 2,4,6,8,10))\n",
    "print(sub_div('/', 2,4,6,8,10,11,12))"
   ]
  },
  {
   "cell_type": "code",
   "execution_count": 12,
   "id": "04343d86",
   "metadata": {
    "id": "49cbda0d",
    "outputId": "07242b81-71b2-48cd-da2c-e204f28f6512"
   },
   "outputs": [
    {
     "name": "stdout",
     "output_type": "stream",
     "text": [
      "-26\n",
      "0.001\n"
     ]
    }
   ],
   "source": [
    "def sub_div (choice, *args) :\n",
    "    if choice == \"sub\":\n",
    "        result = args[0]\n",
    "        for i in args[1:] : \n",
    "            result -= i\n",
    "        return result\n",
    "    elif choice == 'div':\n",
    "        result = args[0]\n",
    "        for i in args[1:] :\n",
    "            if i == 0:\n",
    "                return print(\"오류\")\n",
    "            result /= i\n",
    "        return round(result,4) \n",
    "\n",
    "print(sub_div('sub', 2,4,6,8,10))\n",
    "print(sub_div('div', 2,4,6,8,10))\n"
   ]
  },
  {
   "cell_type": "markdown",
   "id": "b67b3c23",
   "metadata": {},
   "source": [
    "#### 지역변수와 전역변수\n",
    "- 지역변수는 함수 내부에서만 유효하고 \n",
    "- 전역변수는 코드 전반에 걸쳐 유효\n",
    "- 함수의 인자는 지역변수"
   ]
  },
  {
   "cell_type": "code",
   "execution_count": 39,
   "id": "bbb340f3",
   "metadata": {},
   "outputs": [
    {
     "name": "stdout",
     "output_type": "stream",
     "text": [
      "지역변수\n"
     ]
    }
   ],
   "source": [
    "strdata = '전역변수'\n",
    "\n",
    "def func1():\n",
    "   strdata = '지역변수'\n",
    "   print(strdata)\n",
    "    \n",
    "func1()                  # ‘지역변수’가 출력됨"
   ]
  },
  {
   "cell_type": "code",
   "execution_count": 40,
   "id": "75ba187e",
   "metadata": {},
   "outputs": [
    {
     "name": "stdout",
     "output_type": "stream",
     "text": [
      "전역변수\n"
     ]
    }
   ],
   "source": [
    "print(strdata)           # ‘전역변수’가 출력됨"
   ]
  },
  {
   "cell_type": "code",
   "execution_count": 22,
   "id": "f6670419",
   "metadata": {},
   "outputs": [
    {
     "name": "stdout",
     "output_type": "stream",
     "text": [
      "10\n"
     ]
    }
   ],
   "source": [
    "param = 10\n",
    "def func2(param):       \n",
    "   param = 1\n",
    "\n",
    "print(param)             # 전역변수 10이 출력됨"
   ]
  },
  {
   "cell_type": "code",
   "execution_count": 42,
   "id": "2e0bf199",
   "metadata": {},
   "outputs": [
    {
     "name": "stdout",
     "output_type": "stream",
     "text": [
      "50\n"
     ]
    }
   ],
   "source": [
    "param = 10\n",
    "def func3():\n",
    "   global param   # 함수 내부에서 전역변수를 사용하려면 'global' 키워드를 이용해 전역변수를 사용한다고 명시\n",
    "   param = 50\n",
    "func3()\n",
    "print(param)      # 50이 출력됨"
   ]
  },
  {
   "cell_type": "code",
   "execution_count": 45,
   "id": "8a4509df",
   "metadata": {},
   "outputs": [
    {
     "name": "stdout",
     "output_type": "stream",
     "text": [
      "지역변수\n",
      "전역변수\n",
      "10\n",
      "1\n",
      "전역변수를 함수안에서 사용\n",
      "50\n"
     ]
    }
   ],
   "source": [
    "param = 10\n",
    "strdata = '전역변수'\n",
    "\n",
    "def func1():\n",
    "   strdata = '지역변수'\n",
    "   print(strdata)\n",
    "   \n",
    "def func2(param):\n",
    "   param = 1\n",
    "   print(param)\n",
    "def func3():\n",
    "   global param\n",
    "   param = 50\n",
    "   \n",
    "func1()                  # ‘지역변수’가 출력됨\n",
    "print(strdata)           # ‘전역변수’가 출력됨\n",
    "print(param)             # 10이 출력됨\n",
    "func2(param)\n",
    "print('전역변수를 함수안에서 사용')\n",
    "func3()\n",
    "print(param)             # 50이 출력됨"
   ]
  },
  {
   "cell_type": "code",
   "execution_count": 14,
   "id": "c9d075d8",
   "metadata": {},
   "outputs": [
    {
     "name": "stdout",
     "output_type": "stream",
     "text": [
      "함수 내에서의 x 값: 20\n",
      "함수 밖에서의 x 값: 20\n"
     ]
    }
   ],
   "source": [
    "x =10\n",
    "\n",
    "def modify_global():\n",
    "    global x    \n",
    "    x = 20\n",
    "    print(\"함수 내에서의 x 값:\", x)\n",
    "\n",
    "modify_global()\n",
    "print(\"함수 밖에서의 x 값:\", x)"
   ]
  },
  {
   "cell_type": "code",
   "execution_count": null,
   "id": "1651ca22",
   "metadata": {},
   "outputs": [],
   "source": [
    "# 과제4_1101 : 아래 사용자 함수에서 결과가 아래와 같이 출력되도록 완성하세요.\n",
    "함수 내에서의 x 값: 20\n",
    "함수 밖에서의 x 값: 20"
   ]
  },
  {
   "cell_type": "code",
   "execution_count": 46,
   "id": "19d23719",
   "metadata": {},
   "outputs": [
    {
     "name": "stdout",
     "output_type": "stream",
     "text": [
      "함수 내에서의 x 값: 20\n",
      "함수 밖에서의 x 값: 10\n"
     ]
    }
   ],
   "source": [
    "x = 10\n",
    "\n",
    "def modify_global():\n",
    "    x = 20\n",
    "    print(\"함수 내에서의 x 값:\", x)\n",
    "modify_global()\n",
    "print(\"함수 밖에서의 x 값:\", x)"
   ]
  },
  {
   "cell_type": "code",
   "execution_count": null,
   "id": "7b00ee0c",
   "metadata": {
    "id": "09e65afa",
    "outputId": "1aba6284-20cb-4175-bbb8-00f865b17981"
   },
   "outputs": [
    {
     "name": "stdout",
     "output_type": "stream",
     "text": [
      "None\n",
      "1\n"
     ]
    }
   ],
   "source": [
    "# 함수 안에서 선언된 변수의 효력 범위\n",
    "a = 1\n",
    "def vartest(a):    \n",
    "    a = a + 1\n",
    "    \n",
    "print(vartest(a))\n",
    "print(a)"
   ]
  },
  {
   "cell_type": "code",
   "execution_count": null,
   "id": "c83c4fed",
   "metadata": {
    "id": "42fc130b",
    "outputId": "e15d6557-a5a7-48fe-9ecc-d1ea69635118"
   },
   "outputs": [
    {
     "name": "stdout",
     "output_type": "stream",
     "text": [
      "2\n"
     ]
    }
   ],
   "source": [
    "# 함수 안에서 함수 밖의 변수를 변경하는 방법 - return 이용\n",
    "\n",
    "a = 1\n",
    "def vartest(a):\n",
    "    a =  a+1\n",
    "    return a\n",
    "a = vartest(a)\n",
    "print(a)"
   ]
  },
  {
   "cell_type": "code",
   "execution_count": 47,
   "id": "6d38752b",
   "metadata": {
    "id": "4ca65865",
    "outputId": "09be6115-7285-450a-b25e-41e17da1d6f5"
   },
   "outputs": [
    {
     "name": "stdout",
     "output_type": "stream",
     "text": [
      "2\n"
     ]
    }
   ],
   "source": [
    "# global 명령을 이용하는 방법\n",
    "a = 1\n",
    "def vartest():\n",
    "    global a\n",
    "    a = a + 1\n",
    "    \n",
    "vartest()\n",
    "print(a)"
   ]
  },
  {
   "cell_type": "markdown",
   "id": "c5016dc9",
   "metadata": {},
   "source": [
    "#### 함수 리턴값 : return\n",
    "- 함수는 한 개 이상의 값을 리턴할 수 있으며 리턴값이 없을 수도 있다.\n",
    "- 리턴 값이 여러 개인 경우에는 튜플로 리턴값을 만들어 리턴"
   ]
  },
  {
   "cell_type": "code",
   "execution_count": 26,
   "id": "963d49d8",
   "metadata": {},
   "outputs": [
    {
     "name": "stdout",
     "output_type": "stream",
     "text": [
      "(3, 2, 1)\n",
      "c b a\n",
      "c\n",
      "b\n",
      "a\n"
     ]
    }
   ],
   "source": [
    "def reverse(x, y, z):\n",
    "   return z, y, x\n",
    "\n",
    "ret = reverse(1, 2, 3)\n",
    "print(ret)                       # (3, 2, 1)이 출력됨\n",
    "\n",
    "r1, r2, r3 = reverse('a', 'b', 'c')  \n",
    "print(r1,r2,r3)\n",
    "print(r1); print(r2); print(r3)      # 튜플의 요소 개수만큼 나누어서 리턴값을 개별적으로 받을 수 있음"
   ]
  },
  {
   "cell_type": "code",
   "execution_count": 27,
   "id": "5b0d08ec",
   "metadata": {
    "id": "6eecb2b5",
    "outputId": "65904b73-df57-4a33-b3fb-01baf8a301c0"
   },
   "outputs": [
    {
     "data": {
      "text/plain": [
       "'C:\\\\hmkd1\\\\m1_programming'"
      ]
     },
     "execution_count": 27,
     "metadata": {},
     "output_type": "execute_result"
    }
   ],
   "source": [
    "# 현재 작업 폴더\n",
    "%pwd"
   ]
  },
  {
   "cell_type": "code",
   "execution_count": 55,
   "id": "089234f4",
   "metadata": {},
   "outputs": [
    {
     "name": "stdout",
     "output_type": "stream",
     "text": [
      " D 드라이브의 볼륨: 새 볼륨\n",
      " 볼륨 일련 번호: 02B1-19A2\n",
      "\n",
      " D:\\kdt_231026\\workspace\\m1_programming 디렉터리\n",
      "\n",
      "2023-11-01  오후 02:22    <DIR>          .\n",
      "2023-11-01  오후 02:22    <DIR>          ..\n",
      "2023-10-31  오후 12:53    <DIR>          .ipynb_checkpoints\n",
      "2023-11-01  오후 02:22    <DIR>          ex\n",
      "2023-10-30  오후 02:02            59,057 python_1_자료형.ipynb\n",
      "2023-11-01  오전 09:45           102,031 python_2_제어문.ipynb\n",
      "2023-11-01  오후 02:21            82,542 python_3_함수.ipynb\n",
      "2023-10-31  오후 12:53           433,932 python_4_함수응용.ipynb\n",
      "               4개 파일             677,562 바이트\n",
      "               4개 디렉터리  435,521,261,568 바이트 남음\n"
     ]
    }
   ],
   "source": [
    "# ls\n",
    "!dir"
   ]
  },
  {
   "cell_type": "code",
   "execution_count": 51,
   "id": "6b8050a2",
   "metadata": {},
   "outputs": [],
   "source": [
    "# 파일 만들기\n",
    "!echo. > test.txt"
   ]
  },
  {
   "cell_type": "code",
   "execution_count": 53,
   "id": "734504ce",
   "metadata": {},
   "outputs": [],
   "source": [
    "# 파일 삭제\n",
    "!del test.txt"
   ]
  },
  {
   "cell_type": "markdown",
   "id": "117a0514",
   "metadata": {},
   "source": [
    "#### 파일 입출력"
   ]
  },
  {
   "cell_type": "code",
   "execution_count": 59,
   "id": "adac902c",
   "metadata": {},
   "outputs": [],
   "source": [
    "# 폴더 경로 이동\n",
    "import os\n",
    "os.chdir('D:\\\\kdt_231026\\\\workspace\\\\m1_programming')"
   ]
  },
  {
   "cell_type": "code",
   "execution_count": 60,
   "id": "8e5e591e",
   "metadata": {},
   "outputs": [
    {
     "data": {
      "text/plain": [
       "'D:\\\\kdt_231026\\\\workspace\\\\m1_programming'"
      ]
     },
     "execution_count": 60,
     "metadata": {},
     "output_type": "execute_result"
    }
   ],
   "source": [
    "%pwd"
   ]
  },
  {
   "cell_type": "code",
   "execution_count": 61,
   "id": "d15bdf5f",
   "metadata": {
    "id": "7cc0d478"
   },
   "outputs": [],
   "source": [
    "# 파일 읽고 쓰기\n",
    "f = open('test1.txt','w')\n",
    "f.close()"
   ]
  },
  {
   "cell_type": "code",
   "execution_count": 62,
   "id": "bb042134",
   "metadata": {},
   "outputs": [
    {
     "name": "stdout",
     "output_type": "stream",
     "text": [
      " D 드라이브의 볼륨: 새 볼륨\n",
      " 볼륨 일련 번호: 02B1-19A2\n",
      "\n",
      " D:\\kdt_231026\\workspace\\m1_programming 디렉터리\n",
      "\n",
      "2023-11-01  오후 02:25    <DIR>          .\n",
      "2023-11-01  오후 02:25    <DIR>          ..\n",
      "2023-10-31  오후 12:53    <DIR>          .ipynb_checkpoints\n",
      "2023-11-01  오후 02:22    <DIR>          ex\n",
      "2023-10-30  오후 02:02            59,057 python_1_자료형.ipynb\n",
      "2023-11-01  오전 09:45           102,031 python_2_제어문.ipynb\n",
      "2023-11-01  오후 02:25            82,635 python_3_함수.ipynb\n",
      "2023-10-31  오후 12:53           433,932 python_4_함수응용.ipynb\n",
      "2023-11-01  오후 02:25                 0 test1.txt\n",
      "               5개 파일             677,655 바이트\n",
      "               4개 디렉터리  435,521,261,568 바이트 남음\n"
     ]
    }
   ],
   "source": [
    "ls"
   ]
  },
  {
   "cell_type": "code",
   "execution_count": 63,
   "id": "1701840e",
   "metadata": {
    "id": "c0a16a3c"
   },
   "outputs": [],
   "source": [
    "f = open('test1.txt','w')\n",
    "for i in range(1,11):\n",
    "    data = '%d번째 줄입니다.\\n' %i\n",
    "    f.write(data)\n",
    "f.close()"
   ]
  },
  {
   "cell_type": "code",
   "execution_count": 34,
   "id": "b9406537",
   "metadata": {
    "id": "9dd8c8c7",
    "outputId": "dca81f10-643b-4887-ff63-37dc3c258ad8"
   },
   "outputs": [
    {
     "name": "stdout",
     "output_type": "stream",
     "text": [
      "1번째 줄입니다.\n",
      "\n"
     ]
    }
   ],
   "source": [
    "f = open('test1.txt','r')\n",
    "line = f.readline()\n",
    "print(line)\n",
    "f.close()"
   ]
  },
  {
   "cell_type": "code",
   "execution_count": 35,
   "id": "7de55a89",
   "metadata": {
    "id": "fedd8ae7",
    "outputId": "77b28439-8d0d-4728-ec8c-8d92a4fbb40e"
   },
   "outputs": [
    {
     "name": "stdout",
     "output_type": "stream",
     "text": [
      "1번째 줄입니다.\n",
      "\n",
      "2번째 줄입니다.\n",
      "\n",
      "3번째 줄입니다.\n",
      "\n",
      "4번째 줄입니다.\n",
      "\n",
      "5번째 줄입니다.\n",
      "\n",
      "6번째 줄입니다.\n",
      "\n",
      "7번째 줄입니다.\n",
      "\n",
      "8번째 줄입니다.\n",
      "\n",
      "9번째 줄입니다.\n",
      "\n",
      "10번째 줄입니다.\n",
      "\n"
     ]
    }
   ],
   "source": [
    "f = open('test1.txt', 'r')\n",
    "for i in range(10):\n",
    "    line = f.readline()\n",
    "    print(line)\n",
    "f.close()"
   ]
  },
  {
   "cell_type": "code",
   "execution_count": 65,
   "id": "6624ddb9",
   "metadata": {},
   "outputs": [
    {
     "name": "stdout",
     "output_type": "stream",
     "text": [
      "5번째 줄입니다.\n",
      "\n"
     ]
    }
   ],
   "source": [
    "f = open('test1.txt','r')\n",
    "for i in range(10):\n",
    "    line = f.readline()\n",
    "    if i == 4:\n",
    "        print(line)\n",
    "f.close()"
   ]
  },
  {
   "cell_type": "code",
   "execution_count": 17,
   "id": "adfe575c",
   "metadata": {
    "id": "d8c7be22",
    "outputId": "6e32ad1b-b156-4bfc-d5fd-7440d3df0ba0"
   },
   "outputs": [
    {
     "name": "stdout",
     "output_type": "stream",
     "text": [
      "1번째 줄입니다.\n",
      "\n",
      "2번째 줄입니다.\n",
      "\n",
      "3번째 줄입니다.\n",
      "\n",
      "4번째 줄입니다.\n",
      "\n",
      "5번째 줄입니다.\n",
      "\n",
      "6번째 줄입니다.\n",
      "\n",
      "7번째 줄입니다.\n",
      "\n",
      "8번째 줄입니다.\n",
      "\n",
      "9번째 줄입니다.\n",
      "\n",
      "10번째 줄입니다.\n",
      "\n"
     ]
    }
   ],
   "source": [
    "f = open('test1.txt','r')\n",
    "while True:\n",
    "    line = f.readline()\n",
    "    if not line: break\n",
    "    print(line)\n",
    "f.close()"
   ]
  },
  {
   "cell_type": "code",
   "execution_count": 66,
   "id": "efe0fbed",
   "metadata": {
    "id": "052f8f3c",
    "outputId": "2051a589-e6d3-4d54-9a18-23d5fe277e6c"
   },
   "outputs": [
    {
     "name": "stdout",
     "output_type": "stream",
     "text": [
      "1번째 줄입니다.\n",
      "2번째 줄입니다.\n",
      "3번째 줄입니다.\n",
      "4번째 줄입니다.\n",
      "5번째 줄입니다.\n",
      "6번째 줄입니다.\n",
      "7번째 줄입니다.\n",
      "8번째 줄입니다.\n",
      "9번째 줄입니다.\n",
      "10번째 줄입니다.\n",
      "\n"
     ]
    }
   ],
   "source": [
    "# f.read()는 파일 내용 전체를 문자열로 반환\n",
    "f = open('test1.txt','r')\n",
    "data = f.read()\n",
    "print(data)\n",
    "f.close()"
   ]
  },
  {
   "cell_type": "code",
   "execution_count": 67,
   "id": "54bfe69b",
   "metadata": {
    "id": "40a04a77"
   },
   "outputs": [],
   "source": [
    "f = open('test1.txt', 'a')\n",
    "for i in range(11,16):\n",
    "    data = '%d번째 줄입니다.\\n' %i\n",
    "    f.write(data)\n",
    "f.close()"
   ]
  },
  {
   "cell_type": "code",
   "execution_count": 68,
   "id": "ea9b9474",
   "metadata": {
    "id": "07047a52",
    "outputId": "8e3cfbd5-d818-4a42-a25d-17e95a910957"
   },
   "outputs": [
    {
     "name": "stdout",
     "output_type": "stream",
     "text": [
      "1번째 줄입니다.\n",
      "2번째 줄입니다.\n",
      "3번째 줄입니다.\n",
      "4번째 줄입니다.\n",
      "5번째 줄입니다.\n",
      "6번째 줄입니다.\n",
      "7번째 줄입니다.\n",
      "8번째 줄입니다.\n",
      "9번째 줄입니다.\n",
      "10번째 줄입니다.\n",
      "11번째 줄입니다.\n",
      "12번째 줄입니다.\n",
      "13번째 줄입니다.\n",
      "14번째 줄입니다.\n",
      "15번째 줄입니다.\n",
      "\n"
     ]
    }
   ],
   "source": [
    "f = open('test1.txt','r')\n",
    "data = f.read()\n",
    "print(data)\n",
    "f.close()"
   ]
  },
  {
   "cell_type": "code",
   "execution_count": 69,
   "id": "9de9f1dd",
   "metadata": {
    "id": "a9c0ec63"
   },
   "outputs": [],
   "source": [
    "# with문과 같이 사용\n",
    "with open('foo.txt','w') as f:\n",
    "    f.write('파이썬을 배웁시다.')"
   ]
  },
  {
   "cell_type": "code",
   "execution_count": 70,
   "id": "3cbba860",
   "metadata": {
    "id": "70538f5d",
    "outputId": "a5d8bbba-2d72-4c2b-8552-f9e0882d9c4b"
   },
   "outputs": [
    {
     "name": "stdout",
     "output_type": "stream",
     "text": [
      "파이썬을 배웁시다.\n"
     ]
    }
   ],
   "source": [
    "with open('foo.txt','r') as f:\n",
    "    data = f.read()\n",
    "    print(data)"
   ]
  },
  {
   "cell_type": "code",
   "execution_count": 71,
   "id": "245d8a0d",
   "metadata": {
    "id": "ce405056"
   },
   "outputs": [],
   "source": [
    "with open('test2.txt','w') as f:\n",
    "      for i in range(1,11):\n",
    "          data = f'{i}번째 줄입니다.\\n'\n",
    "          f.write(data)          "
   ]
  },
  {
   "cell_type": "code",
   "execution_count": 72,
   "id": "eff81183",
   "metadata": {
    "id": "e665f440"
   },
   "outputs": [],
   "source": [
    "with open('test2.txt','a') as f:\n",
    "      for i in range(11,16):\n",
    "          data = f'{i}번째 줄입니다.\\n'\n",
    "          f.write(data) "
   ]
  },
  {
   "cell_type": "code",
   "execution_count": 73,
   "id": "3f86afd2",
   "metadata": {
    "id": "533fc595",
    "outputId": "91fbcfd9-319a-47af-b1ab-e80a5fa79da6"
   },
   "outputs": [
    {
     "name": "stdout",
     "output_type": "stream",
     "text": [
      "1번째 줄입니다.\n",
      "2번째 줄입니다.\n",
      "3번째 줄입니다.\n",
      "4번째 줄입니다.\n",
      "5번째 줄입니다.\n",
      "6번째 줄입니다.\n",
      "7번째 줄입니다.\n",
      "8번째 줄입니다.\n",
      "9번째 줄입니다.\n",
      "10번째 줄입니다.\n",
      "11번째 줄입니다.\n",
      "12번째 줄입니다.\n",
      "13번째 줄입니다.\n",
      "14번째 줄입니다.\n",
      "15번째 줄입니다.\n",
      "\n"
     ]
    }
   ],
   "source": [
    "with open('test2.txt','r') as f:\n",
    "    data = f.read()\n",
    "    print(data)"
   ]
  },
  {
   "cell_type": "code",
   "execution_count": 15,
   "id": "05580c39",
   "metadata": {},
   "outputs": [
    {
     "name": "stdout",
     "output_type": "stream",
     "text": [
      "가나다라마바사아자차카타파하\n"
     ]
    }
   ],
   "source": [
    "with open('want1.txt', 'w', encoding='utf-8') as f:\n",
    "    f.write('가나다라마바사아자차카타파하')\n",
    "\n",
    "\n",
    "with open('want1.txt', 'r', encoding='utf-8') as z:\n",
    "    data = z.read()\n",
    "    print(data)"
   ]
  },
  {
   "cell_type": "code",
   "execution_count": null,
   "id": "ff731826",
   "metadata": {},
   "outputs": [],
   "source": [
    "# 과제5_1101 : 원하는 데이터를 생성해서 저장하고 다시 읽어오세요."
   ]
  },
  {
   "cell_type": "markdown",
   "id": "475ad61e",
   "metadata": {},
   "source": [
    "#### 파이썬 패키지,  모듈, 함수, 클래스\n",
    "- 코드 작성 시 이미 만들어져 있는 함수들을 활용하면 보다 효율적이고 빠르게 개발 가능\n",
    "- 이미 만들어져 있고 안정성이 검증된 함수들을 성격에 맞게 하나의 파이썬 파일에 묶어 만들어 놓을 것을 모듈이라 함\n",
    "- 외부 모듈에 있는 함수들을 활용하려면 이 모듈을 먼저 가져와서 사용해야 하는데 이것을 모듈을 임포트한다고 한다.\n",
    "- 파이썬 모듈이 하나의 파이썬 파일이라면 패키지는 디렉토리로 볼 수 있다.\n",
    "\n",
    "패키지\n",
    "1. 라이브러리라고도 부름\n",
    "2. 특정 기능과 관련된 여러 모듈을 한 그룹으로 묶은 것\n",
    "3. 패키지 안에 서브패키지가 있을 수도 있다.\n",
    "4. import 패키지/모듈, from 패키지/모듈 import 서브패키지/모듈 \n",
    "  \n",
    "   \n",
    "모듈\n",
    "1. 여러 기능들이 뭉쳐진 하나의. py파일\n",
    "2. 함수, 클래스, 변수 등 포함\n",
    "3. import 모듈\n",
    "\n",
    "함수\n",
    "1. 하나의 기능을 가진 코드의 집합\n",
    "2. 함수를 사용한다 = 함수를 호출한다\n",
    "3. 함수 사용 형태: 함수( )\n",
    "   - 필요한 경우 () 안에 매개변수 또는 옵션\n",
    "4. 종류\n",
    "   - 내장 함수(built in function)\n",
    "   - 외장 함수: import 해주어야 함\n",
    "   \n",
    "클래스   \n",
    "- 파이썬은 객체 지향 언어로클래스를 기반으로 객체를 만들어 사용한다.\n",
    "- 한 파이썬 파일(. py) 내에서 \"class class명():\"을 통해 클래스 선언\n"
   ]
  },
  {
   "cell_type": "code",
   "execution_count": 74,
   "id": "0271e1eb",
   "metadata": {},
   "outputs": [
    {
     "name": "stdout",
     "output_type": "stream",
     "text": [
      "5초간 프로그램을 정지합니다.\n",
      "5초가 지나갔습니다.\n"
     ]
    }
   ],
   "source": [
    "# time 모듈\n",
    "import time\n",
    "\n",
    "print('5초간 프로그램을 정지합니다.')\n",
    "time.sleep(5)\n",
    "print('5초가 지나갔습니다.')"
   ]
  },
  {
   "cell_type": "code",
   "execution_count": 79,
   "id": "7fd8f3b8",
   "metadata": {},
   "outputs": [
    {
     "name": "stdout",
     "output_type": "stream",
     "text": [
      " D 드라이브의 볼륨: 새 볼륨\n",
      " 볼륨 일련 번호: 02B1-19A2\n",
      "\n",
      " D:\\kdt_231026\\workspace\\m1_programming 디렉터리\n",
      "\n",
      "2023-11-01  오후 03:16    <DIR>          .\n",
      "2023-11-01  오후 03:16    <DIR>          ..\n",
      "2023-10-31  오후 12:53    <DIR>          .ipynb_checkpoints\n",
      "2023-11-01  오후 02:22    <DIR>          ex\n",
      "2023-11-01  오후 02:43                18 foo.txt\n",
      "2023-11-01  오후 03:16                84 mymodule.py\n",
      "2023-10-30  오후 02:02            59,057 python_1_자료형.ipynb\n",
      "2023-11-01  오전 09:45           102,031 python_2_제어문.ipynb\n",
      "2023-11-01  오후 03:15            85,812 python_3_함수.ipynb\n",
      "2023-10-31  오후 12:53           433,932 python_4_함수응용.ipynb\n",
      "2023-11-01  오후 02:40               261 test1.txt\n",
      "2023-11-01  오후 02:44               261 test2.txt\n",
      "               8개 파일             681,456 바이트\n",
      "               4개 디렉터리  435,521,261,568 바이트 남음\n"
     ]
    }
   ],
   "source": [
    "ls"
   ]
  },
  {
   "cell_type": "code",
   "execution_count": 78,
   "id": "aff02618",
   "metadata": {},
   "outputs": [],
   "source": [
    "# 사용자 작성 모듈\n",
    "with open('mymodule.py','w') as f:\n",
    "    f.write(\n",
    "'''\n",
    "def add_txt(t1,t2):\n",
    "    return t1+':'+t2\n",
    "def reverse(x,y,z):\n",
    "    return z,y,x\n",
    "''')"
   ]
  },
  {
   "cell_type": "code",
   "execution_count": 80,
   "id": "202ef7e0",
   "metadata": {},
   "outputs": [
    {
     "name": "stdout",
     "output_type": "stream",
     "text": [
      "\n",
      "def add_txt(t1,t2):\n",
      "    return t1+':'+t2\n",
      "def reverse(x,y,z):\n",
      "    return z,y,x\n",
      "\n"
     ]
    }
   ],
   "source": [
    "with open('mymodule.py','r') as f:\n",
    "    data = f.read()\n",
    "    print(data)"
   ]
  },
  {
   "cell_type": "code",
   "execution_count": 81,
   "id": "1dd2c8b7",
   "metadata": {},
   "outputs": [
    {
     "name": "stdout",
     "output_type": "stream",
     "text": [
      "대한민국:1등\n"
     ]
    }
   ],
   "source": [
    "import mymodule\n",
    "\n",
    "ret1 = mymodule.add_txt('대한민국','1등')\n",
    "print(ret1)"
   ]
  },
  {
   "cell_type": "code",
   "execution_count": 82,
   "id": "2588cc0d",
   "metadata": {},
   "outputs": [
    {
     "name": "stdout",
     "output_type": "stream",
     "text": [
      "(3, 2, 1)\n"
     ]
    }
   ],
   "source": [
    "ret2 = mymodule.reverse(1,2,3)\n",
    "print(ret2)"
   ]
  },
  {
   "cell_type": "code",
   "execution_count": 83,
   "id": "f068a538",
   "metadata": {},
   "outputs": [
    {
     "name": "stdout",
     "output_type": "stream",
     "text": [
      "안녕하세요\n",
      "안녕하세요\n",
      "None\n"
     ]
    }
   ],
   "source": [
    "# 클래스\n",
    "class MyClass:\n",
    "    var = '안녕하세요'\n",
    "    def sayHello(self):\n",
    "        print(self.var)\n",
    "        \n",
    "obj = MyClass() # MyClass 인스턴스 객체 생성\n",
    "print(obj.var)\n",
    "print(obj.sayHello())       "
   ]
  },
  {
   "cell_type": "code",
   "execution_count": null,
   "id": "e3bac362",
   "metadata": {},
   "outputs": [],
   "source": [
    "# !pip list\n",
    "# !pip install pandas\n",
    "\n",
    "# https://pandas.pydata.org/docs/reference/api/pandas.DataFrame.info.html"
   ]
  },
  {
   "cell_type": "code",
   "execution_count": 86,
   "id": "2268a82a",
   "metadata": {},
   "outputs": [
    {
     "data": {
      "text/html": [
       "<div>\n",
       "<style scoped>\n",
       "    .dataframe tbody tr th:only-of-type {\n",
       "        vertical-align: middle;\n",
       "    }\n",
       "\n",
       "    .dataframe tbody tr th {\n",
       "        vertical-align: top;\n",
       "    }\n",
       "\n",
       "    .dataframe thead th {\n",
       "        text-align: right;\n",
       "    }\n",
       "</style>\n",
       "<table border=\"1\" class=\"dataframe\">\n",
       "  <thead>\n",
       "    <tr style=\"text-align: right;\">\n",
       "      <th></th>\n",
       "      <th>a</th>\n",
       "      <th>b</th>\n",
       "      <th>c</th>\n",
       "    </tr>\n",
       "  </thead>\n",
       "  <tbody>\n",
       "    <tr>\n",
       "      <th>0</th>\n",
       "      <td>1</td>\n",
       "      <td>4</td>\n",
       "      <td>7</td>\n",
       "    </tr>\n",
       "    <tr>\n",
       "      <th>1</th>\n",
       "      <td>2</td>\n",
       "      <td>5</td>\n",
       "      <td>8</td>\n",
       "    </tr>\n",
       "    <tr>\n",
       "      <th>2</th>\n",
       "      <td>3</td>\n",
       "      <td>6</td>\n",
       "      <td>9</td>\n",
       "    </tr>\n",
       "  </tbody>\n",
       "</table>\n",
       "</div>"
      ],
      "text/plain": [
       "   a  b  c\n",
       "0  1  4  7\n",
       "1  2  5  8\n",
       "2  3  6  9"
      ]
     },
     "execution_count": 86,
     "metadata": {},
     "output_type": "execute_result"
    }
   ],
   "source": [
    "import pandas as pd\n",
    "\n",
    "df1 = pd.DataFrame({'a': [1, 2, 3], 'b': [4,5,6], 'c': [7, 8,9]})\n",
    "df1"
   ]
  },
  {
   "cell_type": "code",
   "execution_count": 94,
   "id": "690bce53",
   "metadata": {},
   "outputs": [
    {
     "name": "stdout",
     "output_type": "stream",
     "text": [
      "<class 'pandas.core.frame.DataFrame'>\n",
      "RangeIndex: 3 entries, 0 to 2\n",
      "Data columns (total 3 columns):\n",
      " #   Column  Non-Null Count  Dtype\n",
      "---  ------  --------------  -----\n",
      " 0   a       3 non-null      int64\n",
      " 1   b       3 non-null      int64\n",
      " 2   c       3 non-null      int64\n",
      "dtypes: int64(3)\n",
      "memory usage: 200.0 bytes\n"
     ]
    }
   ],
   "source": [
    "df1.info()"
   ]
  },
  {
   "cell_type": "code",
   "execution_count": 89,
   "id": "106b99a6",
   "metadata": {},
   "outputs": [
    {
     "data": {
      "text/html": [
       "<div>\n",
       "<style scoped>\n",
       "    .dataframe tbody tr th:only-of-type {\n",
       "        vertical-align: middle;\n",
       "    }\n",
       "\n",
       "    .dataframe tbody tr th {\n",
       "        vertical-align: top;\n",
       "    }\n",
       "\n",
       "    .dataframe thead th {\n",
       "        text-align: right;\n",
       "    }\n",
       "</style>\n",
       "<table border=\"1\" class=\"dataframe\">\n",
       "  <thead>\n",
       "    <tr style=\"text-align: right;\">\n",
       "      <th></th>\n",
       "      <th>a</th>\n",
       "      <th>b</th>\n",
       "      <th>c</th>\n",
       "    </tr>\n",
       "  </thead>\n",
       "  <tbody>\n",
       "    <tr>\n",
       "      <th>0</th>\n",
       "      <td>1</td>\n",
       "      <td>2</td>\n",
       "      <td>3</td>\n",
       "    </tr>\n",
       "    <tr>\n",
       "      <th>1</th>\n",
       "      <td>4</td>\n",
       "      <td>5</td>\n",
       "      <td>6</td>\n",
       "    </tr>\n",
       "    <tr>\n",
       "      <th>2</th>\n",
       "      <td>7</td>\n",
       "      <td>8</td>\n",
       "      <td>9</td>\n",
       "    </tr>\n",
       "  </tbody>\n",
       "</table>\n",
       "</div>"
      ],
      "text/plain": [
       "   a  b  c\n",
       "0  1  2  3\n",
       "1  4  5  6\n",
       "2  7  8  9"
      ]
     },
     "execution_count": 89,
     "metadata": {},
     "output_type": "execute_result"
    }
   ],
   "source": [
    "import numpy as np\n",
    "df2 = pd.DataFrame(np.array([[1, 2, 3], [4, 5, 6], [7, 8, 9]]),\n",
    "                   columns=['a', 'b', 'c'])\n",
    "df2"
   ]
  },
  {
   "cell_type": "code",
   "execution_count": 90,
   "id": "9a202cce",
   "metadata": {},
   "outputs": [
    {
     "data": {
      "text/html": [
       "<div>\n",
       "<style scoped>\n",
       "    .dataframe tbody tr th:only-of-type {\n",
       "        vertical-align: middle;\n",
       "    }\n",
       "\n",
       "    .dataframe tbody tr th {\n",
       "        vertical-align: top;\n",
       "    }\n",
       "\n",
       "    .dataframe thead th {\n",
       "        text-align: right;\n",
       "    }\n",
       "</style>\n",
       "<table border=\"1\" class=\"dataframe\">\n",
       "  <thead>\n",
       "    <tr style=\"text-align: right;\">\n",
       "      <th></th>\n",
       "      <th>a</th>\n",
       "      <th>b</th>\n",
       "      <th>c</th>\n",
       "    </tr>\n",
       "  </thead>\n",
       "  <tbody>\n",
       "    <tr>\n",
       "      <th>0</th>\n",
       "      <td>1</td>\n",
       "      <td>2</td>\n",
       "      <td>3</td>\n",
       "    </tr>\n",
       "    <tr>\n",
       "      <th>1</th>\n",
       "      <td>4</td>\n",
       "      <td>5</td>\n",
       "      <td>6</td>\n",
       "    </tr>\n",
       "    <tr>\n",
       "      <th>2</th>\n",
       "      <td>7</td>\n",
       "      <td>8</td>\n",
       "      <td>9</td>\n",
       "    </tr>\n",
       "  </tbody>\n",
       "</table>\n",
       "</div>"
      ],
      "text/plain": [
       "   a  b  c\n",
       "0  1  2  3\n",
       "1  4  5  6\n",
       "2  7  8  9"
      ]
     },
     "execution_count": 90,
     "metadata": {},
     "output_type": "execute_result"
    }
   ],
   "source": [
    "data = np.array([(1, 2, 3), (4, 5, 6), (7, 8, 9)])\n",
    "df3 = pd.DataFrame(data, columns=['a', 'b', 'c'])\n",
    "df3"
   ]
  },
  {
   "cell_type": "markdown",
   "id": "daab676b",
   "metadata": {
    "id": "tM-yKJ96m0Gq"
   },
   "source": [
    "내장함수, 외장함수\n",
    "\n",
    "https://codedrive.tistory.com/91"
   ]
  },
  {
   "cell_type": "code",
   "execution_count": null,
   "id": "88d6b7cd",
   "metadata": {
    "id": "ef6f8b16",
    "outputId": "d0fb5645-56d9-415e-d3b4-ad580dc4a1bb"
   },
   "outputs": [
    {
     "name": "stdout",
     "output_type": "stream",
     "text": [
      "3\n",
      "False\n",
      "True\n",
      "A\n"
     ]
    }
   ],
   "source": [
    "# 내장함수\n",
    "print(abs(-3))\n",
    "print(all([1,2,3,0])) # x가 모두 참이면 True, 거짓이 하나라도 있으면 False\n",
    "print(any([1,2,3,0])) # x가 하나라도 참이면 True, 모두 거짓이면 False\n",
    "print(chr(65)) # 아스키코드"
   ]
  },
  {
   "cell_type": "code",
   "execution_count": 51,
   "id": "d6826b6c",
   "metadata": {},
   "outputs": [
    {
     "name": "stdout",
     "output_type": "stream",
     "text": [
      "3.0\n",
      "3\n",
      "10\n",
      "1\n",
      "100\n",
      "3\n"
     ]
    }
   ],
   "source": [
    "print(float(3))\n",
    "print(int(3.9))\n",
    "print(max(1,10))\n",
    "print(min(1,10))\n",
    "print(pow(10,2)) # 거듭제곱\n",
    "print(round(2.675))"
   ]
  },
  {
   "cell_type": "code",
   "execution_count": 1,
   "id": "a5f81a3e",
   "metadata": {},
   "outputs": [
    {
     "data": {
      "text/plain": [
       "6"
      ]
     },
     "execution_count": 1,
     "metadata": {},
     "output_type": "execute_result"
    }
   ],
   "source": [
    "li = [1,2,3]\n",
    "sum(li)"
   ]
  },
  {
   "cell_type": "code",
   "execution_count": 100,
   "id": "a027bc75",
   "metadata": {},
   "outputs": [
    {
     "name": "stdout",
     "output_type": "stream",
     "text": [
      "5\n"
     ]
    }
   ],
   "source": [
    "my_list = [1, 2, 3, 4, 5]\n",
    "print(len(my_list)) "
   ]
  },
  {
   "cell_type": "code",
   "execution_count": 95,
   "id": "19731bb6",
   "metadata": {},
   "outputs": [
    {
     "name": "stdout",
     "output_type": "stream",
     "text": [
      "I am 30 years old.\n"
     ]
    }
   ],
   "source": [
    "age = 30\n",
    "print(\"I am \" + str(age) + \" years old.\") "
   ]
  },
  {
   "cell_type": "code",
   "execution_count": 96,
   "id": "19ea2ddc",
   "metadata": {},
   "outputs": [
    {
     "name": "stdout",
     "output_type": "stream",
     "text": [
      "[1, 2, 3]\n"
     ]
    }
   ],
   "source": [
    "my_tuple = (1, 2, 3)\n",
    "print(list(my_tuple))"
   ]
  },
  {
   "cell_type": "code",
   "execution_count": 98,
   "id": "c7a908c3",
   "metadata": {},
   "outputs": [
    {
     "name": "stdout",
     "output_type": "stream",
     "text": [
      "[1, 2, 3, 4]\n"
     ]
    },
    {
     "data": {
      "text/plain": [
       "[3, 1, 4, 2]"
      ]
     },
     "execution_count": 98,
     "metadata": {},
     "output_type": "execute_result"
    }
   ],
   "source": [
    "my_list = [3, 1, 4, 2]\n",
    "print(sorted(my_list))\n",
    "my_list"
   ]
  },
  {
   "cell_type": "code",
   "execution_count": 99,
   "id": "a633b7be",
   "metadata": {},
   "outputs": [
    {
     "name": "stdout",
     "output_type": "stream",
     "text": [
      "<class 'str'>\n"
     ]
    }
   ],
   "source": [
    "my_string = \"Python\"\n",
    "print(type(my_string))"
   ]
  },
  {
   "cell_type": "code",
   "execution_count": 3,
   "id": "d1ff0705",
   "metadata": {},
   "outputs": [
    {
     "name": "stdout",
     "output_type": "stream",
     "text": [
      "1 ele1\n",
      "2 ele2\n",
      "3 ele3\n"
     ]
    }
   ],
   "source": [
    "for idx, element in enumerate(['ele1','ele2','ele3']):\n",
    "    print(idx+1,element)"
   ]
  },
  {
   "cell_type": "code",
   "execution_count": 5,
   "id": "3cf5c35d",
   "metadata": {},
   "outputs": [
    {
     "name": "stdout",
     "output_type": "stream",
     "text": [
      "range(0, 10)\n"
     ]
    },
    {
     "data": {
      "text/plain": [
       "[0, 1, 2, 3, 4, 5, 6, 7, 8, 9]"
      ]
     },
     "execution_count": 5,
     "metadata": {},
     "output_type": "execute_result"
    }
   ],
   "source": [
    "print(range(10))\n",
    "list(range(10))"
   ]
  },
  {
   "cell_type": "code",
   "execution_count": 101,
   "id": "5b12728c",
   "metadata": {},
   "outputs": [
    {
     "name": "stdout",
     "output_type": "stream",
     "text": [
      "(2, 1)\n"
     ]
    }
   ],
   "source": [
    "# 몫과 나머지\n",
    "print(divmod(7,3))"
   ]
  },
  {
   "cell_type": "code",
   "execution_count": 17,
   "id": "5e3a6eac",
   "metadata": {},
   "outputs": [
    {
     "name": "stdout",
     "output_type": "stream",
     "text": [
      "==================================================\n",
      "가장 많이 나온 단어 5개를 뽑아 봤습니다.\n",
      "[e] -> [97]회 나타남\n",
      "[t] -> [85]회 나타남\n",
      "[a] -> [78]회 나타남\n",
      "[o] -> [73]회 나타남\n",
      "[s] -> [60]회 나타남\n"
     ]
    }
   ],
   "source": [
    "!echo. > mydata.txt\n",
    "with open('mydata.txt','w') as f:\n",
    "    f.write(\n",
    "'''\n",
    "a lot of things occur each day\n",
    "we've got to live with on our way\n",
    "there's so much misery on the screen\n",
    "with commercials in between\n",
    "\n",
    "and the russians won't be so late\n",
    "uncle sam don't want to wait\n",
    "no matter if you're black or white\n",
    "you never ever had a right\n",
    "\n",
    "and look up to the eternal skies\n",
    "see warfare even there\n",
    "what once has been a paradise\n",
    "now destruction and despair\n",
    "\n",
    "in other worlds the children die\n",
    "lacking food ill from a fly\n",
    "oppressed by troops to tame their land\n",
    "it's all the same again\n",
    "\n",
    "if any man is free on earth\n",
    "then tormentors steal his birth\n",
    "they slam gun butts in his face\n",
    "and leave his woman choked in mace\n",
    "\n",
    "so stand up for our human rights\n",
    "push back this pest of hate\n",
    "raise you voice pass on the light\n",
    "unite! it's not too late\n",
    "\n",
    "how many tears flow away\n",
    "to become a sea of fears\n",
    "how many hearts are torn apart\n",
    "till another torment starts\n",
    "\n",
    "but before the world\n",
    "turns into a sun\n",
    "all cruelty and violence\n",
    "on earth will be dead and gone\n",
    "\n",
    "so stand up for our human rights\n",
    "push back this pest of hate\n",
    "raise you voice pass on the light\n",
    "unite! it's not too late\n",
    "''')\n",
    "with open('mydata.txt', 'r') as f:\n",
    "    data = f.read()\n",
    "#     print(data)\n",
    "words_list = data # 데이터 받음\n",
    "words_list = list(words_list.replace(',', '').replace('.', '').replace('\\n', '').replace(\"'\", \"\").replace('!','').replace(' ','')) # 잡다한거 지우고 리스트화\n",
    "words_set = set(words_list) # 리스트를 세트화한것을 변수에 저장\n",
    "words_listed_set = list(words_set) # 세트화한 변수를 리스트화\n",
    "word_frequency = {word : 0 for word in words_listed_set} # 세트화한 변수를 리스트화한 리스트를 딕셔너리화\n",
    "for word in words_list: # 글자가 있는 리스트에서 글자하나씩 떼고\n",
    "    if word in word_frequency: # 딕셔너리안에 있는 글자들도 하나씩 떼서\n",
    "        word_frequency[word] += 1 # 딕셔너리[글자] = 갯수 - 돌린다.\n",
    "word_frequency = sorted(word_frequency.items(), key= lambda x: x[1], reverse=True) # 많은 순서대로 나열했습니다. 순서를 가장 많은것부터 오게 첫번째부터\n",
    "print('=' * 50)\n",
    "print('가장 많이 나온 단어 5개를 뽑아 봤습니다.')\n",
    "for i in range(5):\n",
    "    print(f'[{word_frequency[i][0]}] -> [{word_frequency[i][1]}]회 나타남')"
   ]
  },
  {
   "cell_type": "code",
   "execution_count": 18,
   "id": "6e5a09f5",
   "metadata": {},
   "outputs": [
    {
     "name": "stdout",
     "output_type": "stream",
     "text": [
      "[\\n] -> [ 45]회 나타남 (해당란은 줄바꿈의 사용횟수를 표시)\n",
      "[a ] -> [ 78]회 나타남\n",
      "[r ] -> [ 54]회 나타남\n",
      "[h ] -> [ 48]회 나타남\n",
      "[s ] -> [ 60]회 나타남\n",
      "[u ] -> [ 27]회 나타남\n",
      "[i ] -> [ 50]회 나타남\n",
      "[e ] -> [ 97]회 나타남\n",
      "[d ] -> [ 24]회 나타남\n",
      "[b ] -> [ 13]회 나타남\n",
      "[f ] -> [ 17]회 나타남\n",
      "[! ] -> [  2]회 나타남\n",
      "[  ] -> [177]회 나타남 (해당란은 공백값의 사용횟수를 표시)\n",
      "[k ] -> [  7]회 나타남\n",
      "[l ] -> [ 34]회 나타남\n",
      "[n ] -> [ 60]회 나타남\n",
      "[m ] -> [ 20]회 나타남\n",
      "[g ] -> [ 11]회 나타남\n",
      "[o ] -> [ 73]회 나타남\n",
      "[' ] -> [  8]회 나타남\n",
      "[w ] -> [ 20]회 나타남\n",
      "[c ] -> [ 23]회 나타남\n",
      "[v ] -> [  9]회 나타남\n",
      "[p ] -> [ 15]회 나타남\n",
      "[t ] -> [ 85]회 나타남\n",
      "[y ] -> [ 15]회 나타남\n"
     ]
    }
   ],
   "source": [
    "read_all = ''\n",
    "with open('mydata.txt','r') as f:\n",
    "    read_all = f.read()\n",
    "    \n",
    "str_set = set(read_all)\n",
    "str_dict = {}\n",
    "\n",
    "for i in str_set:\n",
    "    str_dict[i] = read_all.count(i)\n",
    "\n",
    "for k, v in str_dict.items():\n",
    "    if k == '\\n':\n",
    "        k = '\\\\n'\n",
    "        \n",
    "    if k == ' ':\n",
    "        print(f'[{k:2}] -> [{v:3}]회 나타남 (해당란은 공백값의 사용횟수를 표시)')\n",
    "    elif k == '\\\\n':\n",
    "        print(f'[{k:2}] -> [{v:3}]회 나타남 (해당란은 줄바꿈의 사용횟수를 표시)')\n",
    "    else:\n",
    "        print(f'[{k:2}] -> [{v:3}]회 나타남')"
   ]
  },
  {
   "cell_type": "markdown",
   "id": "835e3389",
   "metadata": {},
   "source": [
    "도전과제6_1101 :\n",
    "텍스트 파일(mydata.txt)을 읽고  파일의 내용에서 나타나는 문자들에 대해 자주 나타나는 문자들을 아래와 같이 순서대로 출력하세요.\n",
    "- \\[ \\] -> [177]회 나타남\n",
    "- [e] -> [97]회 나타남\n",
    "- [t] -> [85]회 나타남"
   ]
  },
  {
   "cell_type": "code",
   "execution_count": 102,
   "id": "18f1b445",
   "metadata": {},
   "outputs": [],
   "source": [
    "with open('mydata.txt','w') as f:\n",
    "    f.write(\n",
    "'''\n",
    "a lot of things occur each day\n",
    "we've got to live with on our way\n",
    "there's so much misery on the screen\n",
    "with commercials in between\n",
    "\n",
    "and the russians won't be so late\n",
    "uncle sam don't want to wait\n",
    "no matter if you're black or white\n",
    "you never ever had a right\n",
    "\n",
    "and look up to the eternal skies\n",
    "see warfare even there\n",
    "what once has been a paradise\n",
    "now destruction and despair\n",
    "\n",
    "in other worlds the children die\n",
    "lacking food ill from a fly\n",
    "oppressed by troops to tame their land\n",
    "it's all the same again\n",
    "\n",
    "if any man is free on earth\n",
    "then tormentors steal his birth\n",
    "they slam gun butts in his face\n",
    "and leave his woman choked in mace\n",
    "\n",
    "so stand up for our human rights\n",
    "push back this pest of hate\n",
    "raise you voice pass on the light\n",
    "unite! it's not too late\n",
    "\n",
    "how many tears flow away\n",
    "to become a sea of fears\n",
    "how many hearts are torn apart\n",
    "till another torment starts\n",
    "\n",
    "but before the world\n",
    "turns into a sun\n",
    "all cruelty and violence\n",
    "on earth will be dead and gone\n",
    "\n",
    "so stand up for our human rights\n",
    "push back this pest of hate\n",
    "raise you voice pass on the light\n",
    "unite! it's not too late\n",
    "''')"
   ]
  },
  {
   "cell_type": "code",
   "execution_count": 105,
   "id": "9f178219",
   "metadata": {},
   "outputs": [
    {
     "name": "stdout",
     "output_type": "stream",
     "text": [
      "dict_items([('\\n', 45), ('a', 78), (' ', 177), ('l', 34), ('o', 73), ('t', 85), ('f', 17), ('h', 48), ('i', 50), ('n', 60), ('g', 11), ('s', 60), ('c', 23), ('u', 27), ('r', 54), ('e', 97), ('d', 24), ('y', 15), ('w', 20), (\"'\", 8), ('v', 9), ('m', 20), ('b', 13), ('k', 7), ('p', 15), ('!', 2)]) \n",
      "\n",
      "[ ] -> [177]회 나타남\n",
      "[e] -> [97]회 나타남\n",
      "[t] -> [85]회 나타남\n",
      "[a] -> [78]회 나타남\n",
      "[o] -> [73]회 나타남\n",
      "[n] -> [60]회 나타남\n",
      "[s] -> [60]회 나타남\n",
      "[r] -> [54]회 나타남\n",
      "[i] -> [50]회 나타남\n",
      "[h] -> [48]회 나타남\n",
      "[l] -> [34]회 나타남\n",
      "[u] -> [27]회 나타남\n",
      "[d] -> [24]회 나타남\n",
      "[c] -> [23]회 나타남\n",
      "[w] -> [20]회 나타남\n",
      "[m] -> [20]회 나타남\n",
      "[f] -> [17]회 나타남\n",
      "[y] -> [15]회 나타남\n",
      "[p] -> [15]회 나타남\n",
      "[b] -> [13]회 나타남\n",
      "[g] -> [11]회 나타남\n",
      "[v] -> [9]회 나타남\n",
      "['] -> [8]회 나타남\n",
      "[k] -> [7]회 나타남\n",
      "[!] -> [2]회 나타남\n"
     ]
    }
   ],
   "source": [
    "def getTextFreq(filename):\n",
    "    with open(filename,'r') as f:\n",
    "        text = f.read()\n",
    "        fa = {}\n",
    "        for c in text:\n",
    "            if c in fa:\n",
    "                fa[c] += 1\n",
    "            else:\n",
    "                fa[c] = 1\n",
    "    return fa\n",
    "ret = getTextFreq('mydata.txt')\n",
    "print(ret.items(),'\\n')\n",
    "ret = sorted(ret.items(), key=lambda x:x[1],reverse=True)\n",
    "\n",
    "for c, freq in ret:\n",
    "    if c == '\\n':\n",
    "        continue\n",
    "    print(f'[{c}] -> [{freq}]회 나타남')"
   ]
  },
  {
   "cell_type": "code",
   "execution_count": 19,
   "id": "de9bf023",
   "metadata": {
    "id": "41726e4b",
    "outputId": "00f2d743-21cd-4a87-d858-f4db817e6612"
   },
   "outputs": [
    {
     "data": {
      "text/plain": [
       "7"
      ]
     },
     "execution_count": 19,
     "metadata": {},
     "output_type": "execute_result"
    }
   ],
   "source": [
    "sum = lambda a,b:a+b\n",
    "sum(3,4)"
   ]
  },
  {
   "cell_type": "code",
   "execution_count": 20,
   "id": "4521a1c0",
   "metadata": {},
   "outputs": [
    {
     "name": "stdout",
     "output_type": "stream",
     "text": [
      "7\n"
     ]
    }
   ],
   "source": [
    "def sum(a,b):\n",
    "    return a+b\n",
    "\n",
    "print(sum(3,4))"
   ]
  },
  {
   "cell_type": "code",
   "execution_count": 21,
   "id": "ab2f8a39",
   "metadata": {
    "id": "12ccea92",
    "outputId": "3c49ba7b-8c54-448a-ca07-79b580c63fa3"
   },
   "outputs": [
    {
     "name": "stdout",
     "output_type": "stream",
     "text": [
      "7\n",
      "12\n"
     ]
    }
   ],
   "source": [
    "myList = [lambda a,b:a+b, lambda a,b:a*b]\n",
    "print(myList[0](3,4))\n",
    "print(myList[1](3,4))"
   ]
  },
  {
   "cell_type": "code",
   "execution_count": 22,
   "id": "db687a4a",
   "metadata": {},
   "outputs": [
    {
     "name": "stdout",
     "output_type": "stream",
     "text": [
      "13\n",
      "9\n",
      "22\n",
      "5.5\n"
     ]
    }
   ],
   "source": [
    "# Q . lambda를 리스트 형태로 작성하여 4칙 연산을 해보세요.\n",
    "\n",
    "list1 = [lambda a,b:a+b, lambda a,b:a-b, lambda a,b:a*b, lambda a,b:a/b]\n",
    "for i in range(0,4):\n",
    "    print(list1[i](11,2))"
   ]
  },
  {
   "cell_type": "code",
   "execution_count": 3,
   "id": "1e2de4eb",
   "metadata": {},
   "outputs": [
    {
     "name": "stdout",
     "output_type": "stream",
     "text": [
      "7\n",
      "-3\n",
      "10\n",
      "0.4\n"
     ]
    }
   ],
   "source": [
    "fo=[lambda a,b:a+b,lambda a,b:a-b,lambda a,b:a*b,lambda a,b:a/b]\n",
    "for i in range(0,4):\n",
    "    print(fo[i](2,5))"
   ]
  },
  {
   "cell_type": "code",
   "execution_count": null,
   "id": "69c6d060",
   "metadata": {},
   "outputs": [],
   "source": [
    "# 과제1_1102 : 실행 가능한 숫자를 문자열('5+5') 입력으로 받아 문자열을 실행한 결과값을 출력하세요."
   ]
  },
  {
   "cell_type": "code",
   "execution_count": 58,
   "id": "40da96c0",
   "metadata": {},
   "outputs": [
    {
     "name": "stdout",
     "output_type": "stream",
     "text": [
      "연산을 입력하세요.: 5*5\n",
      "25\n"
     ]
    }
   ],
   "source": [
    "print(eval(input('연산을 입력하세요.: ')))"
   ]
  },
  {
   "cell_type": "code",
   "execution_count": 1,
   "id": "9a774070",
   "metadata": {},
   "outputs": [
    {
     "name": "stdout",
     "output_type": "stream",
     "text": [
      "5+5 : 5+5\n",
      "10\n"
     ]
    }
   ],
   "source": [
    "num = input('5+5 : ')\n",
    "maths = ['+','-','/','*']\n",
    "math = {'+':lambda a,b:a+b,'-':lambda a,b:a-b,'/':lambda a,b:a/b,'*':lambda a,b:a*b}\n",
    "\n",
    "num_list = list(num)\n",
    "for i in num_list:\n",
    "    if i in maths:\n",
    "        num = num.split(i)\n",
    "        print(math[i](int(num[0]),int(num[1])))"
   ]
  },
  {
   "cell_type": "code",
   "execution_count": 23,
   "id": "1aefc0bb",
   "metadata": {
    "id": "7d159390",
    "outputId": "de360b79-26eb-4dcd-c2ba-ef2797eac39a"
   },
   "outputs": [
    {
     "name": "stdout",
     "output_type": "stream",
     "text": [
      "6\n",
      "3\n",
      "3\n"
     ]
    }
   ],
   "source": [
    "print(len('python'))\n",
    "print(len([1,2,3]))\n",
    "print(len([1,2,'a']))"
   ]
  },
  {
   "cell_type": "code",
   "execution_count": 28,
   "id": "5e868d28",
   "metadata": {},
   "outputs": [
    {
     "name": "stdout",
     "output_type": "stream",
     "text": [
      "1 2 3 4 5 \n",
      "5\n"
     ]
    }
   ],
   "source": [
    "li = [1,2,3,4,5]\n",
    "   \n",
    "for i in range(1,len(li)+1):\n",
    "    print(i,end=' ')\n",
    "print()\n",
    "print(len(li))"
   ]
  },
  {
   "cell_type": "code",
   "execution_count": 29,
   "id": "c6e98c30",
   "metadata": {
    "id": "0acd79c4",
    "outputId": "baad6199-e35f-40ef-d5ed-2dfdef9219c4"
   },
   "outputs": [
    {
     "name": "stdout",
     "output_type": "stream",
     "text": [
      "[0, 1, 2, 3, 4]\n",
      "[1, 2, 3, 4, 5]\n",
      "[1, 3, 5, 7, 9]\n",
      "[0, -1, -2, -3, -4, -5, -6, -7, -8, -9]\n"
     ]
    }
   ],
   "source": [
    "print(list(range(5)))\n",
    "print(list(range(1,6)))\n",
    "print(list(range(1,10, 2)))\n",
    "print(list(range(0, -10, -1)))"
   ]
  },
  {
   "cell_type": "code",
   "execution_count": null,
   "id": "f9f30b7d",
   "metadata": {
    "id": "ad2ccdaa",
    "outputId": "64a54a6a-a965-4f0e-9fc4-7997d57a0769"
   },
   "outputs": [
    {
     "name": "stdout",
     "output_type": "stream",
     "text": [
      "0 james\n",
      "1 tom\n",
      "2 susan\n"
     ]
    }
   ],
   "source": [
    "# 순서가 있는 자료형을 입력으로 받아 인덱스 값을 포함한 enumerate 객체를 리턴\n",
    "for i, name in enumerate(['james','tom','susan']):\n",
    "    print(i,name)"
   ]
  },
  {
   "cell_type": "code",
   "execution_count": null,
   "id": "edf71336",
   "metadata": {},
   "outputs": [],
   "source": [
    "# 과제2_1102 : enumerate와 f-string을 사용해서 특정 리스트에서 원하는 형태로 출력을 하세요.(인데스와 내용을 믹스하여)"
   ]
  },
  {
   "cell_type": "code",
   "execution_count": 2,
   "id": "8ad0a29f",
   "metadata": {},
   "outputs": [
    {
     "name": "stdout",
     "output_type": "stream",
     "text": [
      "과일의 종류\n",
      " 0. 사과\n",
      " 1. 키위\n",
      " 2. 딸기\n",
      " 3. 참외\n",
      " 4. 수박\n"
     ]
    }
   ],
   "source": [
    "list02 = ['사과','키위','딸기','참외','수박']\n",
    "\n",
    "print(\"과일의 종류\")\n",
    "for i, a in enumerate(list02):\n",
    "    print(f' {i}. {a}')"
   ]
  },
  {
   "cell_type": "code",
   "execution_count": 3,
   "id": "c44ce160",
   "metadata": {},
   "outputs": [
    {
     "name": "stdout",
     "output_type": "stream",
     "text": [
      "인사평가 1번째 해당자는 김부장입니다. 회의실A로 오시기 바랍니다.\n",
      "인사평가 2번째 해당자는 이차장입니다. 회의실A로 오시기 바랍니다.\n",
      "인사평가 3번째 해당자는 김과장입니다. 회의실A로 오시기 바랍니다.\n",
      "인사평가 4번째 해당자는 이대리입니다. 회의실A로 오시기 바랍니다.\n",
      "인사평가 5번째 해당자는 오사원입니다. 회의실A로 오시기 바랍니다.\n",
      "인사평가 6번째 해당자는 김인턴입니다. 회의실A로 오시기 바랍니다.\n"
     ]
    }
   ],
   "source": [
    "list1 = ['김부장', '이차장', '김과장', '이대리', '오사원', '김인턴']\n",
    "\n",
    "for index, name in enumerate(list1):\n",
    "    print(f'인사평가 {index+1}번째 해당자는 {name}입니다. 회의실A로 오시기 바랍니다.')"
   ]
  },
  {
   "cell_type": "code",
   "execution_count": null,
   "id": "bd1c48a4",
   "metadata": {
    "id": "95352319",
    "outputId": "5e44945d-023a-4bf8-8387-ce22483675db"
   },
   "outputs": [
    {
     "name": "stdout",
     "output_type": "stream",
     "text": [
      "3\n"
     ]
    }
   ],
   "source": [
    "# 실행 가능한 문자열 입력으로 받아 문자열을 실행한 결과값을 리턴\n",
    "print(eval('1+2'))"
   ]
  },
  {
   "cell_type": "code",
   "execution_count": 30,
   "id": "78d33e54",
   "metadata": {
    "id": "5c52a14d"
   },
   "outputs": [],
   "source": [
    "# 외장함수 : 전 세계 파이썬 사용자들이 만든 유용한 프로그램을 모아 놓은 파이썬 라이브러리. 파이썬을 설치할 때 자동으로 설치\n",
    "# pickle은 객체의 형태를 유지하면서 파일에 저장하고 불러올 수 있게 하는 모듈\n",
    "\n",
    "import pickle\n",
    "f = open('test3.txt', 'wb')\n",
    "data = {1:'python',2:'you need'}\n",
    "pickle.dump(data,f)\n",
    "f.close()"
   ]
  },
  {
   "cell_type": "code",
   "execution_count": 31,
   "id": "5acd5ed2",
   "metadata": {
    "id": "ac04caa8",
    "outputId": "1ca178fa-a81c-41cd-d621-59bafcfc91a3"
   },
   "outputs": [
    {
     "name": "stdout",
     "output_type": "stream",
     "text": [
      "{1: 'python', 2: 'you need'}\n"
     ]
    }
   ],
   "source": [
    "import pickle\n",
    "f = open('test3.txt','rb')\n",
    "data = pickle.load(f)\n",
    "print(data)\n",
    "f.close()"
   ]
  },
  {
   "cell_type": "code",
   "execution_count": 36,
   "id": "3780180f",
   "metadata": {
    "id": "6f87e727",
    "outputId": "9f8fa38d-3378-4d79-c9c2-eccde0f55b5b"
   },
   "outputs": [
    {
     "data": {
      "text/plain": [
       "'C:\\\\ProgramData\\\\Anaconda3\\\\envs\\\\kita;C:\\\\ProgramData\\\\Anaconda3\\\\envs\\\\kita\\\\Library\\\\mingw-w64\\\\bin;C:\\\\ProgramData\\\\Anaconda3\\\\envs\\\\kita\\\\Library\\\\usr\\\\bin;C:\\\\ProgramData\\\\Anaconda3\\\\envs\\\\kita\\\\Library\\\\bin;C:\\\\ProgramData\\\\Anaconda3\\\\envs\\\\kita\\\\Scripts;C:\\\\Program Files\\\\Java\\\\jdk-1.8\\\\bin;C:\\\\Windows\\\\system32;C:\\\\Windows;C:\\\\Windows\\\\System32\\\\Wbem;C:\\\\Windows\\\\System32\\\\WindowsPowerShell\\\\v1.0\\\\;C:\\\\Windows\\\\System32\\\\OpenSSH\\\\;C:\\\\ProgramData\\\\Anaconda3\\\\Scripts;C:\\\\ProgramData\\\\Anaconda3\\\\Library\\\\bin;C:\\\\ProgramData\\\\Anaconda3\\\\Library\\\\mingw-w64\\\\bin;C:\\\\ProgramData\\\\Anaconda3;C:\\\\Users\\\\Administrator\\\\AppData\\\\Local\\\\Microsoft\\\\WindowsApps;C:\\\\Program Files\\\\Bandizip\\\\;C:\\\\Users\\\\Administrator\\\\AppData\\\\Local\\\\Programs\\\\Microsoft VS Code\\\\bin'"
      ]
     },
     "execution_count": 36,
     "metadata": {},
     "output_type": "execute_result"
    }
   ],
   "source": [
    "import os\n",
    "os.environ['PATH']"
   ]
  },
  {
   "cell_type": "code",
   "execution_count": 42,
   "id": "9e3e1356",
   "metadata": {
    "id": "12fed91a",
    "outputId": "2bd2e97d-f799-4308-d67f-7f9ba37589c9"
   },
   "outputs": [
    {
     "data": {
      "text/plain": [
       "'D:\\\\kdt_231026\\\\workspace\\\\m1_programming'"
      ]
     },
     "execution_count": 42,
     "metadata": {},
     "output_type": "execute_result"
    }
   ],
   "source": [
    "%pwd"
   ]
  },
  {
   "cell_type": "code",
   "execution_count": 39,
   "id": "e4271cd4",
   "metadata": {
    "id": "0178dcac"
   },
   "outputs": [],
   "source": [
    "# 폴더변경\n",
    "os.chdir('D:\\\\kdt_231026\\\\workspace\\\\m1_programming\\\\ex')"
   ]
  },
  {
   "cell_type": "code",
   "execution_count": 41,
   "id": "39714bc9",
   "metadata": {
    "id": "64f2b0de"
   },
   "outputs": [],
   "source": [
    "os.chdir('D:\\\\kdt_231026\\\\workspace\\\\m1_programming')"
   ]
  },
  {
   "cell_type": "code",
   "execution_count": 43,
   "id": "facf7c0d",
   "metadata": {
    "id": "9bc31b5d",
    "outputId": "82847fd7-00d2-46b9-f1e2-d6d005ff260c"
   },
   "outputs": [
    {
     "data": {
      "text/plain": [
       "'D:\\\\kdt_231026\\\\workspace\\\\m1_programming'"
      ]
     },
     "execution_count": 43,
     "metadata": {},
     "output_type": "execute_result"
    }
   ],
   "source": [
    "os.getcwd()"
   ]
  },
  {
   "cell_type": "code",
   "execution_count": 49,
   "id": "08d51f9a",
   "metadata": {
    "id": "3c1f0757",
    "outputId": "ff1944f4-63bd-49ac-abab-39c18a80d790"
   },
   "outputs": [
    {
     "name": "stdout",
     "output_type": "stream",
     "text": [
      " D 드라이브의 볼륨: 새 볼륨\n",
      " 볼륨 일련 번호: 02B1-19A2\n",
      "\n",
      " D:\\kdt_231026\\workspace\\m1_programming 디렉터리\n",
      "\n",
      "2023-11-02  오전 11:06    <DIR>          .\n",
      "2023-11-02  오전 11:06    <DIR>          ..\n",
      "2023-10-31  오후 12:53    <DIR>          .ipynb_checkpoints\n",
      "2023-11-01  오후 02:22    <DIR>          ex\n",
      "2023-11-01  오후 02:43                18 foo.txt\n",
      "2023-11-02  오전 10:12             1,117 mydata.txt\n",
      "2023-11-01  오후 03:16                84 mymodule.py\n",
      "2023-10-30  오후 02:02            59,057 python_1_자료형.ipynb\n",
      "2023-11-01  오전 09:45           102,031 python_2_제어문.ipynb\n",
      "2023-11-02  오전 11:05           105,285 python_3_함수.ipynb\n",
      "2023-10-31  오후 12:53           433,932 python_4_함수응용.ipynb\n",
      "2023-11-01  오후 02:40               261 test1.txt\n",
      "2023-11-01  오후 02:44               261 test2.txt\n",
      "2023-11-02  오전 10:49                40 test3.txt\n",
      "2023-11-02  오전 10:08                42 want1.txt\n",
      "2023-11-01  오후 03:19    <DIR>          __pycache__\n",
      "              11개 파일             702,128 바이트\n",
      "               5개 디렉터리  435,586,596,864 바이트 남음\n"
     ]
    }
   ],
   "source": [
    "!dir"
   ]
  },
  {
   "cell_type": "code",
   "execution_count": 48,
   "id": "75576fae",
   "metadata": {
    "id": "af4775e7"
   },
   "outputs": [],
   "source": [
    "import os\n",
    "os.rename('test_new.txt','test1.txt')"
   ]
  },
  {
   "cell_type": "code",
   "execution_count": 50,
   "id": "f3ff0d25",
   "metadata": {
    "id": "8cc2c8df",
    "outputId": "d5ef9fcd-0dc1-48b8-f265-df6add7f464a"
   },
   "outputs": [
    {
     "data": {
      "text/plain": [
       "['D:\\\\kdt_231026\\\\workspace\\\\m1_programming\\\\foo.txt',\n",
       " 'D:\\\\kdt_231026\\\\workspace\\\\m1_programming\\\\mydata.txt',\n",
       " 'D:\\\\kdt_231026\\\\workspace\\\\m1_programming\\\\test1.txt',\n",
       " 'D:\\\\kdt_231026\\\\workspace\\\\m1_programming\\\\test2.txt',\n",
       " 'D:\\\\kdt_231026\\\\workspace\\\\m1_programming\\\\test3.txt',\n",
       " 'D:\\\\kdt_231026\\\\workspace\\\\m1_programming\\\\want1.txt']"
      ]
     },
     "execution_count": 50,
     "metadata": {},
     "output_type": "execute_result"
    }
   ],
   "source": [
    "# glob() 함수는 인자로 받은 패턴과 이름이 일치하는 모든 파일과 디렉토리의 리스트를 반환\n",
    "import glob\n",
    "glob.glob('D:\\\\kdt_231026\\\\workspace\\\\m1_programming/*.txt')"
   ]
  },
  {
   "cell_type": "code",
   "execution_count": null,
   "id": "4aee5b4d",
   "metadata": {},
   "outputs": [],
   "source": [
    "# 과제3_1102 : 내장함수를 이용해서 list = [0,1,2,3,4,5,6]에서 2를 삭제 후 출력하세요.(3가지 방법)"
   ]
  },
  {
   "cell_type": "code",
   "execution_count": 4,
   "id": "dfd92301",
   "metadata": {},
   "outputs": [
    {
     "name": "stdout",
     "output_type": "stream",
     "text": [
      "[0, 1, 3, 4, 5, 6]\n",
      "[0, 1, 3, 4, 5, 6]\n",
      "[0, 1, 3, 4, 5, 6]\n"
     ]
    }
   ],
   "source": [
    "#1번째 방법\n",
    "list1 = [0,1,2,3,4,5,6]\n",
    "del list1[2]\n",
    "print(list1)\n",
    "\n",
    "#2번째 방법\n",
    "list1 = [0,1,2,3,4,5,6]\n",
    "list1.remove(2)\n",
    "print(list1)\n",
    "\n",
    "#3번째 방법\n",
    "list1 = [0,1,2,3,4,5,6]\n",
    "list1.pop(2)\n",
    "print(list1)"
   ]
  },
  {
   "cell_type": "code",
   "execution_count": 11,
   "id": "e0c621cd",
   "metadata": {},
   "outputs": [
    {
     "name": "stdout",
     "output_type": "stream",
     "text": [
      "[0, 1, 3, 4, 5, 6]\n"
     ]
    }
   ],
   "source": [
    "\n",
    "list=[0,1,2,3,4,5,6]\n",
    "# del list[2] # 인덱스\n",
    "list.remove(2) # 값\n",
    "# list.pop(2)\n",
    "print(list)"
   ]
  },
  {
   "cell_type": "code",
   "execution_count": 14,
   "id": "90015b47",
   "metadata": {},
   "outputs": [
    {
     "name": "stdout",
     "output_type": "stream",
     "text": [
      "2\n"
     ]
    },
    {
     "data": {
      "text/plain": [
       "[0, 1, 3, 4, 5, 6]"
      ]
     },
     "execution_count": 14,
     "metadata": {},
     "output_type": "execute_result"
    }
   ],
   "source": [
    "list=[0,1,2,3,4,5,6]\n",
    "print(list.pop(2))\n",
    "list"
   ]
  },
  {
   "cell_type": "code",
   "execution_count": null,
   "id": "36adaa18",
   "metadata": {},
   "outputs": [],
   "source": [
    "# 과제4_1102 :  내장함수를 이용해서 list = [0,1,2,3,4,5,6]에서 모든 원소를 삭제 후 출력하세요."
   ]
  },
  {
   "cell_type": "code",
   "execution_count": 5,
   "id": "77374c58",
   "metadata": {},
   "outputs": [
    {
     "name": "stdout",
     "output_type": "stream",
     "text": [
      "[]\n"
     ]
    }
   ],
   "source": [
    "my_list = [0, 1, 2, 3, 4, 5, 6]\n",
    "del my_list[:]\n",
    "print(my_list)"
   ]
  },
  {
   "cell_type": "code",
   "execution_count": 56,
   "id": "c8ca031e",
   "metadata": {},
   "outputs": [
    {
     "name": "stdout",
     "output_type": "stream",
     "text": [
      "[0, 1, 2, 3, 4, 5, 6]\n",
      "[]\n"
     ]
    }
   ],
   "source": [
    "\n",
    "list = [0,1,2,3,4,5,6]\n",
    "print(list)\n",
    "del list[:]\n",
    "print(list)"
   ]
  },
  {
   "cell_type": "code",
   "execution_count": null,
   "id": "56442cc1",
   "metadata": {},
   "outputs": [],
   "source": [
    "# 과제5_1102 :  람다함수와 적합한 내장함수를 사용하여 아래와 같이 출력하세요\n",
    "[1,2,3,4,5] -> [1,4,9,16,25]\n",
    "[1,2,3,4,5] -> [1,2]"
   ]
  },
  {
   "cell_type": "code",
   "execution_count": 7,
   "id": "5d914d95",
   "metadata": {},
   "outputs": [
    {
     "name": "stdout",
     "output_type": "stream",
     "text": [
      "[1, 4, 9, 16, 25]\n",
      "[1, 2]\n"
     ]
    }
   ],
   "source": [
    "lst = [1, 2, 3, 4, 5]\n",
    "\n",
    "# 람다 함수를 사용하여 리스트의 각 요소를 제곱합니다.\n",
    "squared_lst = list(map(lambda x: x**2, lst))\n",
    "\n",
    "# 새로운 리스트를 생성하여, 원래 리스트의 첫 번째와 두 번째 요소만 포함합니다.\n",
    "# new_lst = lst[:2]\n",
    "del(lst[2:])\n",
    "\n",
    "# 결과를 출력합니다.\n",
    "print(squared_lst)\n",
    "print(lst)"
   ]
  },
  {
   "cell_type": "code",
   "execution_count": 35,
   "id": "ea05fa8d",
   "metadata": {},
   "outputs": [
    {
     "name": "stdout",
     "output_type": "stream",
     "text": [
      "[1, 4, 9, 16, 25]\n",
      "[1, 2]\n"
     ]
    }
   ],
   "source": [
    "list=[1,2,3,4,5]\n",
    "list_n=[]\n",
    "x=lambda a:a**2  \n",
    "\n",
    "for i in list:          # [1,2,3,4,5] -> [1,4,9,16,25]\n",
    "    list_n.append(x(i))\n",
    "   \n",
    "del(list[2:])           # [1,2,3,4,5] -> [1,2]\n",
    "\n",
    "print(list_n)         #함수호출\n",
    "print(list)"
   ]
  },
  {
   "cell_type": "code",
   "execution_count": 1,
   "id": "01adb0c9",
   "metadata": {},
   "outputs": [
    {
     "name": "stdout",
     "output_type": "stream",
     "text": [
      "[1, 4, 9, 16, 25] \n",
      "\n",
      "[1, 2]\n"
     ]
    }
   ],
   "source": [
    "x=lambda a:a**2\n",
    "lst = [x(i) for i in range(1,6)]\n",
    "print(lst,'\\n')\n",
    "\n",
    "lst2 = [1,2,3,4,5]\n",
    "filtered_list = filter(lambda a: (a<3), lst2)\n",
    "print(list(filtered_list))"
   ]
  },
  {
   "cell_type": "code",
   "execution_count": null,
   "id": "178a2f5a",
   "metadata": {},
   "outputs": [],
   "source": [
    "# 과제6_1102  [1,-3,2,0,-5,6] 에서 양수만 필터링해서 출력하세요(내장함수, 사용자함수 각각 이용)"
   ]
  },
  {
   "cell_type": "code",
   "execution_count": 12,
   "id": "05858978",
   "metadata": {},
   "outputs": [
    {
     "name": "stdout",
     "output_type": "stream",
     "text": [
      "[1, 2, 6]\n",
      "[1, 2, 6]\n",
      "[1, 2]\n",
      "[1, 2, 6]\n"
     ]
    }
   ],
   "source": [
    "# 내장함수\n",
    "list2 = [1,-3,2,0,-5,6] \n",
    "result = filter(lambda x : x > 0, list2) \n",
    "print(list(result))\n",
    "\n",
    "# 사용자 함수\n",
    "def even(arr):\n",
    "    result=[]\n",
    "    for i in arr:\n",
    "        if i>0:\n",
    "            result.append(i)\n",
    "    return result\n",
    "print(even([1,-3,2,0,-5,6]))\n",
    "print(even([1,-3,2,-5,-6]))\n",
    "\n",
    "# 간편한 for문\n",
    "sample6 = [1,-3,2,0,-5,6]\n",
    "ans6_2 = [i for i in sample6 if i > 0]\n",
    "print(ans6_2)"
   ]
  },
  {
   "cell_type": "code",
   "execution_count": 13,
   "id": "75fa366d",
   "metadata": {},
   "outputs": [
    {
     "name": "stdout",
     "output_type": "stream",
     "text": [
      "[1, 2, 3],[4, 5, 6] → [(1, 4), (2, 5), (3, 6)]\n",
      "[1, 2, 3],[4, 5, 6],[7, 8, 9] → [(1, 4, 7), (2, 5, 8), (3, 6, 9)]\n",
      "('abc', 'def') → [('a', 'd'), ('b', 'e'), ('c', 'f')]\n"
     ]
    }
   ],
   "source": [
    "list1 = [1,2,3]\n",
    "list2 = [4,5,6]\n",
    "list3 = [7,8,9]\n",
    "list4 = []\n",
    "list5 = []\n",
    "list6 = []\n",
    "t1 = ('abc','def')\n",
    "\n",
    "# 1번\n",
    "for i in range(3):\n",
    "    new = list1[i], list2[i]\n",
    "    list4.insert(i, new)\n",
    "    i += 1\n",
    "\n",
    "print(f'{list1},{list2} → {list4}')\n",
    "\n",
    "# 2번\n",
    "for i in range(3):\n",
    "    new1 = list1[i], list2[i], list3[i]\n",
    "    list5.insert(i, new1)\n",
    "    i += 1\n",
    "\n",
    "print(f'{list1},{list2},{list3} → {list5}')\n",
    "\n",
    "# 3번\n",
    "trn1 = list(t1[0])\n",
    "trn2 = list(t1[1])\n",
    "\n",
    "for i in range(3):\n",
    "    new2 = trn1[i], trn2[i]\n",
    "    list6.insert(i, new2)\n",
    "    i += 1\n",
    "\n",
    "print(f'{t1} → {list6}')"
   ]
  },
  {
   "cell_type": "code",
   "execution_count": null,
   "id": "21dcc834",
   "metadata": {},
   "outputs": [],
   "source": [
    "# 과제7_1102 : 내장함수를 이용하여 동일한 개수로 이루어진 자료형을 화살표 좌측에서 우측으로 변환하세요\n",
    "[1,2,3],[4,5,6] -> [(1,4),(2,5),(3,6)]\n",
    "[1,2,3],[4,5,6] [7,8,9] -> [(1,4,7),(2,5,8),(3,6,9)]\n",
    "('abc','def') -> [('a','d'),('b','e'),('c','f')]"
   ]
  },
  {
   "cell_type": "code",
   "execution_count": 15,
   "id": "dc43cce2",
   "metadata": {},
   "outputs": [
    {
     "name": "stdout",
     "output_type": "stream",
     "text": [
      "[(1, 4), (2, 5), (3, 6)]\n",
      "[(1, 4, 7), (2, 5, 8), (3, 6, 9)]\n",
      "[('a', 'd'), ('b', 'e'), ('c', 'f')]\n"
     ]
    }
   ],
   "source": [
    "list5 = [1,2,3]\n",
    "list6 = [4,5,6]\n",
    "list7 = [7,8,9]\n",
    "tuple8 = ('abc','def')\n",
    "print([i for i in zip(list5, list6)])\n",
    "print([i for i in zip(list5, list6, list7)])\n",
    "print([i for i in zip(tuple8[0],tuple8[1])])"
   ]
  },
  {
   "cell_type": "code",
   "execution_count": 7,
   "id": "bb6d20a0",
   "metadata": {},
   "outputs": [
    {
     "name": "stdout",
     "output_type": "stream",
     "text": [
      "[(1, 4), (2, 5), (3, 6)]\n",
      "[(1, 4, 7), (2, 5, 8), (3, 6, 9)]\n",
      "[('a', 'd'), ('b', 'e'), ('c', 'f')]\n"
     ]
    }
   ],
   "source": [
    "a = [1, 2, 3]\n",
    "b = [4, 5, 6]\n",
    "c = [7, 8, 9]\n",
    "\n",
    "ab = list(zip([1,2,3],[4,5,6]))\n",
    "print(ab)\n",
    "                        \n",
    "abc = list(zip([1,2,3],[4,5,6], [7,8,9]))\n",
    "print(abc)\n",
    "\n",
    "alp_1 = list(zip('abc', 'def'))\n",
    "print(alp_1)"
   ]
  },
  {
   "cell_type": "code",
   "execution_count": 6,
   "id": "187d3ca2",
   "metadata": {},
   "outputs": [
    {
     "name": "stdout",
     "output_type": "stream",
     "text": [
      "[(1, 4, 7), (2, 5, 8), (3, 6, 9)]\n"
     ]
    }
   ],
   "source": [
    "lista=[[1,2,3],[4,5,6],[7,8,9]]\n",
    "listb=sum(lista,[])\n",
    "lista_n=[]\n",
    "\n",
    "for k in range(len(lista[0])):\n",
    "    tup1=tuple(listb[k::3])\n",
    "    lista_n.append(tup1)\n",
    "\n",
    "print(lista_n)"
   ]
  },
  {
   "cell_type": "code",
   "execution_count": null,
   "id": "1004ac86",
   "metadata": {},
   "outputs": [],
   "source": [
    "# 과제8_1102 : 입력으로 들어오는 모든 수의 평균 값을 계산해 주는 함수를 작성한 후 1,2,3을 입력한 결과를 출력하세요."
   ]
  },
  {
   "cell_type": "code",
   "execution_count": 16,
   "id": "bed995cc",
   "metadata": {},
   "outputs": [
    {
     "name": "stdout",
     "output_type": "stream",
     "text": [
      "2.0\n"
     ]
    }
   ],
   "source": [
    "def cal_average(*args):\n",
    "    return sum(args) / len(args)\n",
    "\n",
    "print(cal_average(1,2,3))"
   ]
  },
  {
   "cell_type": "code",
   "execution_count": 23,
   "id": "642e644d",
   "metadata": {},
   "outputs": [
    {
     "name": "stdout",
     "output_type": "stream",
     "text": [
      "평균값을 구할 숫자를 모두 입력해주세요(콤마로 구분): 1,2,3\n",
      "2.0\n"
     ]
    }
   ],
   "source": [
    "def str_average(str):\n",
    "    mun_str = str.replace(',','+')\n",
    "    print(eval(mun_str)/(mun_str.count('+')+1))\n",
    "    \n",
    "mun = input('평균값을 구할 숫자를 모두 입력해주세요(콤마로 구분): ')\n",
    "str_average(mun)"
   ]
  },
  {
   "cell_type": "code",
   "execution_count": 24,
   "id": "b6c67748",
   "metadata": {},
   "outputs": [
    {
     "name": "stdout",
     "output_type": "stream",
     "text": [
      "평균값을 구할 숫자(콤마로 구분하여 입력): 1,2,3\n",
      "2.0\n"
     ]
    }
   ],
   "source": [
    "def cal_list_avg(avgList):\n",
    "    y = avgList.split(',')\n",
    "    x = [int(i) for i in y]\n",
    "    return sum(x) / len(x)\n",
    "\n",
    "ans = input('평균값을 구할 숫자(콤마로 구분하여 입력): ')\n",
    "print(cal_list_avg(ans))"
   ]
  },
  {
   "cell_type": "code",
   "execution_count": 22,
   "id": "4ad979ea",
   "metadata": {},
   "outputs": [
    {
     "name": "stdout",
     "output_type": "stream",
     "text": [
      "합: 6\n",
      "평균: 2.00\n"
     ]
    }
   ],
   "source": [
    "def cal_avg(mun):\n",
    "    print(f'합: {eval(mun)}')\n",
    "    print(f\"평균: {eval(mun)/len(mun.split('+')):0.2f}\")\n",
    "# cal_avg('1+2+3')\n",
    "\n",
    "mun = input('평균값을 구할 숫자를 모두 입력해주세요(콤마로 구분): ')"
   ]
  },
  {
   "cell_type": "code",
   "execution_count": null,
   "id": "3400a0fd",
   "metadata": {},
   "outputs": [],
   "source": [
    "# 과제9_1102 : 동일한 사용자 함수를 만들어서 1~100의 합과 200~300의 합을 구하세요."
   ]
  },
  {
   "cell_type": "code",
   "execution_count": 25,
   "id": "af2b0047",
   "metadata": {},
   "outputs": [
    {
     "name": "stdout",
     "output_type": "stream",
     "text": [
      "1부터 100까지의 합은 5050입니다.\n",
      "200부터 300까지의 합은 25250입니다.\n"
     ]
    }
   ],
   "source": [
    "def myCal_sum(sInt, eInt):\n",
    "    sum = 0\n",
    "    \n",
    "    for i in range(sInt, eInt+1):\n",
    "        sum += i\n",
    "    \n",
    "    return print(f\"{sInt}부터 {eInt}까지의 합은 {sum}입니다.\")\n",
    "\n",
    "myCal_sum(1, 100)\n",
    "myCal_sum(200, 300)"
   ]
  },
  {
   "cell_type": "code",
   "execution_count": 26,
   "id": "1005bb28",
   "metadata": {},
   "outputs": [
    {
     "name": "stdout",
     "output_type": "stream",
     "text": [
      "5050 25250\n"
     ]
    }
   ],
   "source": [
    "def add(start, end):\n",
    "    total = sum(range(start, end+1))\n",
    "    return total\n",
    "\n",
    "sum100 = add(0, 100)\n",
    "sum200 = add(200, 300)\n",
    "\n",
    "print(sum100, sum200)"
   ]
  },
  {
   "cell_type": "code",
   "execution_count": 51,
   "id": "6ac4ade2",
   "metadata": {},
   "outputs": [
    {
     "name": "stdout",
     "output_type": "stream",
     "text": [
      "15150\n",
      "25250\n"
     ]
    }
   ],
   "source": [
    "def sum(first, end):\n",
    "    result=0\n",
    "    for i in range(first,end+1):\n",
    "        result+=i\n",
    "    return result\n",
    "\n",
    "print(sum(100,200))   #n~m 사이의 합 구하기\n",
    "print(sum(200,300))"
   ]
  },
  {
   "cell_type": "code",
   "execution_count": 27,
   "id": "fe7f9e3d",
   "metadata": {},
   "outputs": [
    {
     "data": {
      "text/plain": [
       "array([200, 201, 202, 203, 204, 205, 206, 207, 208, 209, 210, 211, 212,\n",
       "       213, 214, 215, 216, 217, 218, 219, 220, 221, 222, 223, 224, 225,\n",
       "       226, 227, 228, 229, 230, 231, 232, 233, 234, 235, 236, 237, 238,\n",
       "       239, 240, 241, 242, 243, 244, 245, 246, 247, 248, 249, 250, 251,\n",
       "       252, 253, 254, 255, 256, 257, 258, 259, 260, 261, 262, 263, 264,\n",
       "       265, 266, 267, 268, 269, 270, 271, 272, 273, 274, 275, 276, 277,\n",
       "       278, 279, 280, 281, 282, 283, 284, 285, 286, 287, 288, 289, 290,\n",
       "       291, 292, 293, 294, 295, 296, 297, 298, 299, 300])"
      ]
     },
     "execution_count": 27,
     "metadata": {},
     "output_type": "execute_result"
    }
   ],
   "source": [
    "import numpy as np\n",
    "\n",
    "np.arange(200,301)"
   ]
  },
  {
   "cell_type": "code",
   "execution_count": 28,
   "id": "0e749095",
   "metadata": {},
   "outputs": [
    {
     "data": {
      "text/plain": [
       "25250"
      ]
     },
     "execution_count": 28,
     "metadata": {},
     "output_type": "execute_result"
    }
   ],
   "source": [
    "import numpy as np\n",
    "def sum(*args):\n",
    "    sum=0\n",
    "    for i in args:\n",
    "        sum += i\n",
    "    return sum\n",
    "\n",
    "sum(200, 201, 202, 203, 204, 205, 206, 207, 208, 209, 210, 211, 212,\n",
    "       213, 214, 215, 216, 217, 218, 219, 220, 221, 222, 223, 224, 225,\n",
    "       226, 227, 228, 229, 230, 231, 232, 233, 234, 235, 236, 237, 238,\n",
    "       239, 240, 241, 242, 243, 244, 245, 246, 247, 248, 249, 250, 251,\n",
    "       252, 253, 254, 255, 256, 257, 258, 259, 260, 261, 262, 263, 264,\n",
    "       265, 266, 267, 268, 269, 270, 271, 272, 273, 274, 275, 276, 277,\n",
    "       278, 279, 280, 281, 282, 283, 284, 285, 286, 287, 288, 289, 290,\n",
    "       291, 292, 293, 294, 295, 296, 297, 298, 299, 300)"
   ]
  },
  {
   "cell_type": "markdown",
   "id": "4e9454a6",
   "metadata": {},
   "source": [
    "#### sort, sorted 모두 key, reverse 매개변수를 갖고 있다.\n",
    "- reverse : 기본값은 reverse=False(오름차순), reverse=True를 매개변수로 입력하면 내림차순으로 정렬\n",
    "- key : 정렬을 목적으로 하는 함수를 값으로 넣는다. lambda를 이용할 수 있고 key 값을 기준으로 정렬되고 기본값은 오름차순"
   ]
  },
  {
   "cell_type": "code",
   "execution_count": 22,
   "id": "33a5adec",
   "metadata": {},
   "outputs": [
    {
     "data": {
      "text/plain": [
       "['bar', 'ababa', 'ca', 'aaaa', 'a']"
      ]
     },
     "execution_count": 22,
     "metadata": {},
     "output_type": "execute_result"
    }
   ],
   "source": [
    "# strings를 다양한 문자가 포함된 순서로 정렬하세요.\n",
    "strings = ['a', 'ca', 'bar', 'aaaa', 'ababa']\n",
    "strings.sort(key = lambda x:len(set(x)))\n",
    "strings[::-1]"
   ]
  },
  {
   "cell_type": "code",
   "execution_count": 30,
   "id": "0f8091f4",
   "metadata": {},
   "outputs": [
    {
     "data": {
      "text/plain": [
       "{'a', 'b'}"
      ]
     },
     "execution_count": 30,
     "metadata": {},
     "output_type": "execute_result"
    }
   ],
   "source": [
    "set('ababa')"
   ]
  },
  {
   "cell_type": "code",
   "execution_count": 12,
   "id": "e526d114",
   "metadata": {},
   "outputs": [
    {
     "name": "stdout",
     "output_type": "stream",
     "text": [
      "['bar', 'ababa', 'ca', 'aaaa', 'a']\n"
     ]
    }
   ],
   "source": [
    "# Q. 튜플 형태인 strings를 다양한 문자가 포함된 순서로 정렬하세요,\n",
    "strings = ('a', 'ca', 'bar', 'aaaa', 'ababa')\n",
    "s_list=list(strings)\n",
    "s_list.sort(key=lambda x:len(set(x)))     #기본 정렬(오름차순)\n",
    "# 'tuple' object has no attribute 'sort'\n",
    "print(s_list[::-1])     #거꾸로 출력(내림차순으로 나오게)"
   ]
  },
  {
   "cell_type": "code",
   "execution_count": 52,
   "id": "b044efff",
   "metadata": {},
   "outputs": [
    {
     "name": "stdout",
     "output_type": "stream",
     "text": [
      "['http:', '', 'news.naver.com', 'main', 'read.nhn?mode=LSD&mid=shm&sid1=105&oid=028&aid=0002334601']\n"
     ]
    },
    {
     "data": {
      "text/plain": [
       "'news.naver.com'"
      ]
     },
     "execution_count": 52,
     "metadata": {},
     "output_type": "execute_result"
    }
   ],
   "source": [
    "# url에서 호스트 도메인을 추출하여 출력하세요.\n",
    "url = 'http://news.naver.com/main/read.nhn?mode=LSD&mid=shm&sid1=105&oid=028&aid=0002334601'\n",
    "\n",
    "x = url.split('/')\n",
    "print(x)\n",
    "x[2]"
   ]
  },
  {
   "cell_type": "code",
   "execution_count": null,
   "id": "668e7ff6",
   "metadata": {},
   "outputs": [],
   "source": [
    "# 과제10_1102 : url에서 쿼리문을 추출하여 출력하세요.\n",
    "# url에서 '?'뒤에 표시되는 문자열을 쿼리 문자열이라고 하며 변수=값 사이 &로 구분되어 나열된다.\n",
    "url = 'http://news.naver.com/main/read.nhn?mode=LSD&mid=shm&sid1=105&oid=028&aid=0002334601'"
   ]
  },
  {
   "cell_type": "code",
   "execution_count": 1,
   "id": "950dd730",
   "metadata": {},
   "outputs": [
    {
     "name": "stdout",
     "output_type": "stream",
     "text": [
      "['mode=LSD', 'mid=shm', 'sid1=105', 'oid=028', 'aid=0002334601']\n",
      "\n",
      "mode=LSD\n",
      "mid=shm\n",
      "sid1=105\n",
      "oid=028\n",
      "aid=0002334601\n"
     ]
    }
   ],
   "source": [
    "url = 'http://news.naver.com/main/read.nhn?mode=LSD&mid=shm&sid1=105&oid=028&aid=0002334601'\n",
    "\n",
    "tmp1 = url.split('/')\n",
    "tmp2 = tmp1[-1].split('?')\n",
    "result = tmp2[-1].split('&')\n",
    "\n",
    "print(result)\n",
    "print(\"\")\n",
    "\n",
    "for i in result:\n",
    "    print(i)"
   ]
  },
  {
   "cell_type": "code",
   "execution_count": 53,
   "id": "71c07f7c",
   "metadata": {},
   "outputs": [
    {
     "name": "stdout",
     "output_type": "stream",
     "text": [
      "35\n",
      "?\n",
      "mode=LSD&mid=shm&sid1=105&oid=028&aid=0002334601\n",
      "['mode=LSD', 'mid=shm', 'sid1=105', 'oid=028', 'aid=0002334601']\n"
     ]
    }
   ],
   "source": [
    "do=url.find('?')\n",
    "print(do)\n",
    "print(url[do])\n",
    "print(url[do+1:])   #쿼리문 전체\n",
    "\n",
    "qr=[]\n",
    "qr=url[do+1:].split('&')   #각 '변수=값' 분리\n",
    "print(qr)"
   ]
  },
  {
   "cell_type": "code",
   "execution_count": 54,
   "id": "73a5c3fc",
   "metadata": {},
   "outputs": [
    {
     "name": "stdout",
     "output_type": "stream",
     "text": [
      "['http://news.naver.com/main/read.nhn', 'mode=LSD&mid=shm&sid1=105&oid=028&aid=0002334601']\n",
      "mode=LSD\n",
      "mid=shm\n",
      "sid1=105\n",
      "oid=028\n",
      "aid=0002334601\n"
     ]
    }
   ],
   "source": [
    "url = 'http://news.naver.com/main/read.nhn?mode=LSD&mid=shm&sid1=105&oid=028&aid=0002334601'\n",
    "tmp = url.split('?')\n",
    "print(tmp)\n",
    "queries = tmp[1].split('&')\n",
    "for query in queries:\n",
    "    print(query)"
   ]
  },
  {
   "cell_type": "code",
   "execution_count": 31,
   "id": "4805633e",
   "metadata": {},
   "outputs": [
    {
     "name": "stdout",
     "output_type": "stream",
     "text": [
      "True\n",
      "True\n",
      "False\n",
      "False\n"
     ]
    }
   ],
   "source": [
    "# 문자열이 문자인지 검사\n",
    "txt1 = 'A'\n",
    "txt2 = '안녕'\n",
    "txt3 = 'Warcraft Three'\n",
    "txt4 = '3PO'\n",
    "ret1 = txt1.isalpha()\n",
    "ret2 = txt2.isalpha()\n",
    "ret3 = txt3.isalpha()\n",
    "ret4 = txt4.isalpha()\n",
    "print(ret1)        # True가 출력됨\n",
    "print(ret2)        # True가 출력됨\n",
    "print(ret3)        # False가 출력됨\n",
    "print(ret4)        # False가 출력됨"
   ]
  },
  {
   "cell_type": "code",
   "execution_count": 32,
   "id": "f0551248",
   "metadata": {},
   "outputs": [
    {
     "name": "stdout",
     "output_type": "stream",
     "text": [
      "False\n",
      "False\n",
      "True\n"
     ]
    }
   ],
   "source": [
    "# 문자열이 숫자인지 검사\n",
    "\n",
    "txt1 = '010-1234-5678'\n",
    "txt2 = 'R2D2'\n",
    "txt3 = '1212'\n",
    "\n",
    "ret1 = txt1.isdigit()\n",
    "ret2 = txt2.isdigit()\n",
    "ret3 = txt3.isdigit()\n",
    "print(ret1)      # False가 출력됨\n",
    "print(ret2)      # False가 출력됨\n",
    "print(ret3)      # True가 출력됨"
   ]
  },
  {
   "cell_type": "code",
   "execution_count": 33,
   "id": "c813c453",
   "metadata": {},
   "outputs": [
    {
     "name": "stdout",
     "output_type": "stream",
     "text": [
      "False\n",
      "False\n",
      "True\n"
     ]
    }
   ],
   "source": [
    "# 문자열이 문자 또는 숫자인지 검사 : 문자열이 영어, 한글 혹은 숫자로 되어있으면 참 리턴, 아니면 거짓 리턴\n",
    "txt1 = '안녕하세요?'\n",
    "txt2 = '1. Title-제목을 넣으세요'\n",
    "txt3 = '3피오R2D2'\n",
    "\n",
    "ret1 = txt1.isalnum()\n",
    "ret2 = txt2.isalnum ()\n",
    "ret3 = txt3.isalnum ()\n",
    "print(ret1)      # False가 출력됨\n",
    "print(ret2)      # False가 출력됨\n",
    "print(ret3)      # True가 출력됨"
   ]
  },
  {
   "cell_type": "code",
   "execution_count": 37,
   "id": "44368ee0",
   "metadata": {},
   "outputs": [
    {
     "name": "stdout",
     "output_type": "stream",
     "text": [
      "A LOT OF THINGS OCCUR EACH DAY.\n",
      "a lot of things occur each day.\n",
      "A Lot Of Things Occur Each Day.\n",
      "A lot of things occur each day.\n"
     ]
    }
   ],
   "source": [
    "txt = 'A lot of Things occur each day.'\n",
    "ret1 = txt.upper()\n",
    "ret2 = txt.lower()\n",
    "ret3 = txt.title()\n",
    "ret4 = txt.capitalize() # 문자열의 첫번째 문자를 대문자, 나머지는 소문자로 변환\n",
    "print(ret1)\n",
    "print(ret2)\n",
    "print(ret3)\n",
    "print(ret4)"
   ]
  }
 ],
 "metadata": {
  "colab": {
   "collapsed_sections": [],
   "name": "함수.ipynb",
   "provenance": [
    {
     "file_id": "https://github.com/bnv20/cakd5/blob/main/m1_programming/%ED%95%A8%EC%88%98.ipynb",
     "timestamp": 1641000933597
    }
   ]
  },
  "kernelspec": {
   "display_name": "Python 3 (ipykernel)",
   "language": "python",
   "name": "python3"
  },
  "language_info": {
   "codemirror_mode": {
    "name": "ipython",
    "version": 3
   },
   "file_extension": ".py",
   "mimetype": "text/x-python",
   "name": "python",
   "nbconvert_exporter": "python",
   "pygments_lexer": "ipython3",
   "version": "3.10.13"
  }
 },
 "nbformat": 4,
 "nbformat_minor": 5
}
