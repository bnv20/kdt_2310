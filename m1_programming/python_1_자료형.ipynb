{
 "cells": [
  {
   "cell_type": "markdown",
   "id": "038222e5",
   "metadata": {},
   "source": [
    "#### 파이썬 이란\n",
    "- 1990년 암스테르담의 귀도 반 로섬(Guido Van Rossum)이 개발한 인터프리터 언어\n",
    "- 컴퓨터 프로그래밍 교육을 위해 많이 사용하지만, 기업의 실무를 위해서도 많이 사용하는 언어. 구글에서 만든 소프트웨어의 50%이상이 파이썬으로 작성\n",
    "\n",
    "#### 파이썬의 특징\n",
    "- 파이썬은 인간다운 언어이다\n",
    "- 파이썬은 문법이 쉬워 빠르게 배울 수 있다\n",
    "- 파이썬은 무료이지만 강력하다\n",
    "- 파이썬은 간결하다\n",
    "- 파이썬은 프로그래밍을 즐기게 해준다\n",
    "- 파이썬은 개발 속도가 빠르다\n",
    "\n",
    "#### 파이썬으로 할 수 있는 일\n",
    "- 웹 개발: Django, Flask 등의 프레임워크를 사용하여 웹 애플리케이션을 개발할 수 있습니다.\n",
    "- 데이터 분석: Pandas, NumPy, SciPy와 같은 라이브러리를 사용하여 데이터를 분석하고 처리할 수 있습니다.\n",
    "- 머신 러닝과 인공지능: TensorFlow, PyTorch, Scikit-learn 등의 라이브러리를 활용하여 머신 러닝 모델을 구축하고 훈련시킬 수 있습니다.\n",
    "- 자동화: 파이썬 스크립트를 작성하여 일상적인 작업을 자동화하고, 시스템 관리 작업을 수행할 수 있습니다.\n",
    "- 게임 개발: Pygame과 같은 라이브러리를 사용하여 간단한 게임을 개발할 수 있습니다.\n",
    "- 모바일 애플리케이션 개발: Kivy 또는 BeeWare와 같은 라이브러리를 사용하여 모바일 애플리케이션을 개발할 수 있습니다.\n",
    "- 데스크탑 애플리케이션 개발: PyQt, Tkinter 등의 라이브러리를 활용하여 데스크탑 애플리케이션을 개발할 수 있습니다.\n",
    "- 시스템 스크립팅과 네트워킹: 시스템 유틸리티를 개발하거나 네트워크 프로토콜을 구현할 수 있습니다.\n",
    "- 임베디드 시스템과 하드웨어 제어: 라즈베리 파이와 같은 임베디드 시스템을 제어하고 하드웨어를 프로그래밍할 수 있습니다.\n",
    "- 사이언티픽 컴퓨팅: 과학적 연산과 시뮬레이션을 위해 파이썬을 활용할 수 있습니다.\n",
    "- 교육: 파이썬은 초보자에게 프로그래밍을 가르치는 데 이상적인 언어로 평가받고 있습니다.\n",
    "- 파이썬의 다양한 라이브러리와 프레임워크 덕분에, 이러한 분야에서의 작업이 더욱 쉽고 효율적으로 수행될 수 있습니다.\n",
    "\n",
    "#### 참조\n",
    "- 표현식 : 어떠한 값을 만들어 내는 간단한 코드. 273, 10 + 20 + 30, \"Python Programming\"\n",
    "- 문장 : 표현식이 하나 이상 모이면 문장. print(\"Hello\")\n",
    "- 프로그램 : 문장이 모여서 프로그램\n",
    "- 식별자 : 프로그램밍 언어에서 이름을 붙일 때 사용하는 단어. 주로 변수 또는 함수 이름 등으로 사용\n",
    "- 주석 : 프로그램을 설명하기 위해 사용. # 기호로 주석 처리\n",
    "- 연산자 : 스스로 값이 되는 것이 아니고 값과 값 사이에 무언가 기능을 적용할 때 사용\n",
    "- 자료 : 리터럴이라고 하는데 숫자이든 문자이든 어떠한 값 자체를 의미. 1, 10, \"Hello\"\n",
    "- 키워드 : 파이썬이 만들어질 때 이미 사용하겠다고 예약해 놓는 것. False, None, True, ...\n",
    "- 프로그램밍 언어에서 사용자가 이름을 정할 때 키워드는 사용할 수 없음"
   ]
  },
  {
   "cell_type": "code",
   "execution_count": 4,
   "id": "7e8c70d6",
   "metadata": {},
   "outputs": [
    {
     "name": "stdout",
     "output_type": "stream",
     "text": [
      "['False', 'None', 'True', 'and', 'as', 'assert', 'async', 'await', 'break', 'class', 'continue', 'def', 'del', 'elif', 'else', 'except', 'finally', 'for', 'from', 'global', 'if', 'import', 'in', 'is', 'lambda', 'nonlocal', 'not', 'or', 'pass', 'raise', 'return', 'try', 'while', 'with', 'yield']\n"
     ]
    },
    {
     "data": {
      "text/plain": [
       "35"
      ]
     },
     "execution_count": 4,
     "metadata": {},
     "output_type": "execute_result"
    }
   ],
   "source": [
    "import keyword\n",
    "print(keyword.kwlist)\n",
    "len(keyword.kwlist)"
   ]
  },
  {
   "cell_type": "code",
   "execution_count": 8,
   "id": "c3904ccf",
   "metadata": {},
   "outputs": [
    {
     "name": "stdout",
     "output_type": "stream",
     "text": [
      "Python 3.10.13\n"
     ]
    }
   ],
   "source": [
    "!python --version"
   ]
  },
  {
   "cell_type": "code",
   "execution_count": 11,
   "id": "353c69d0",
   "metadata": {},
   "outputs": [
    {
     "data": {
      "text/plain": [
       "'D:\\\\kdt_231026\\\\workspace\\\\m1_programming'"
      ]
     },
     "execution_count": 11,
     "metadata": {},
     "output_type": "execute_result"
    }
   ],
   "source": [
    "# 현재 작업폴더 확인\n",
    "%pwd"
   ]
  },
  {
   "cell_type": "code",
   "execution_count": 19,
   "id": "75dd341f",
   "metadata": {},
   "outputs": [
    {
     "name": "stdout",
     "output_type": "stream",
     "text": [
      "10\n",
      "30\n",
      "30\n"
     ]
    }
   ],
   "source": [
    "# 표현식\n",
    "print(10)\n",
    "\n",
    "# 문장\n",
    "print(10+20)\n",
    "\n",
    "# 프로그램\n",
    "a=10\n",
    "b=20\n",
    "print(a+b)"
   ]
  },
  {
   "cell_type": "code",
   "execution_count": 20,
   "id": "b05545f5",
   "metadata": {},
   "outputs": [],
   "source": [
    "# 문장은 하나 이상의 표현식이 모인 것으로 프로그래밍에서는 실행 가능한 최소의 독립적인 코드 조각\n",
    "# 파이썬 코드의 한 줄, 또는 블록으로 된 것들을 하나의 문장이라고 할 수 있음\n",
    "word = \"python\" # 하나의 문장\n",
    "a = 100 + 200 \n",
    "\n",
    "if a > 500:  # 블록을 이루는 하나의 문장\n",
    "    print(word)"
   ]
  },
  {
   "cell_type": "markdown",
   "id": "00f7ee95",
   "metadata": {},
   "source": [
    "식별자 기본규칙 \n",
    "- 키워드를 사용하면 안된다\n",
    "- 특수문자는 언더 바(_)만 사용\n",
    "- 숫자로 시작하면 안된다\n",
    "- 공백을 포함할 수 없다"
   ]
  },
  {
   "cell_type": "code",
   "execution_count": null,
   "id": "c4ac7558",
   "metadata": {},
   "outputs": [],
   "source": [
    "alpha\n",
    "break # 키워드\n",
    "alpha10\n",
    "_alpha\n",
    "273alpha # 숫자\n",
    "AlpHa\n",
    "ALPHA\n",
    "has space # 공백"
   ]
  },
  {
   "cell_type": "markdown",
   "id": "99bb2536",
   "metadata": {},
   "source": [
    "파이썬은 snake_case와 CamelCase를 모두 사용\n",
    "\n",
    "- itemlist : item_list itemList\n",
    "- loginstatus : login_status loginStatus\n",
    "- 캐멀 케이스(대문자로 시작) 클래스\n",
    "- 스네이크 케이스(소문자로 시작) 뒤에 ()가 있다 - 함수\n",
    "- 스네이크 케이스(소문자로 시작) 뒤에 ()가 없다 - 변수"
   ]
  },
  {
   "cell_type": "code",
   "execution_count": 25,
   "id": "ec9a2817",
   "metadata": {},
   "outputs": [
    {
     "name": "stdout",
     "output_type": "stream",
     "text": [
      "3\n",
      "0\n",
      "0.6\n"
     ]
    }
   ],
   "source": [
    "a = 5\n",
    "b = 3\n",
    "c = b % a\n",
    "d = b // a\n",
    "e = b / a\n",
    "print(c)\n",
    "print(d)\n",
    "print(e)"
   ]
  },
  {
   "cell_type": "code",
   "execution_count": 27,
   "id": "39e61e8a",
   "metadata": {},
   "outputs": [],
   "source": [
    "a = 3\n",
    "b = 5\n",
    "\n",
    "if a > b:\n",
    "    print(a)"
   ]
  },
  {
   "cell_type": "markdown",
   "id": "38290ed5",
   "metadata": {},
   "source": [
    "#### 자료형\n",
    "- 자료형 또는 데이터 타입이란 숫자, 문자 등과 같이 여러 종류의 데이터를 구분하기 위한 분류\n",
    "- 파이썬의 자료형은 크게 숫자(numbers), 시퀀스(sequence), 매핑(mapping) 등으로 나눌 수 있다.\n",
    "- 파이썬의 기본 자료형\n",
    "  - 수치형\n",
    "    - 정수형 : int는 정수(integer)를 나타낸다. 양의 정수와 음의 정수, 숫자 0\n",
    "    - 실수형 : float는 원래 부동소수점수(floating-point number)를 가리키는데, 지금은 단순히 소수점 이하를 표현할 수 있는 수이다.\n",
    "    - 복소수형 : 복소수를 complex로 나타내고 제곱하면 -1이 되는 수 i를 ‘허수(imaginary number)’라고 하는데 허수 i를 j로 표현\n",
    "  - 시퀀스 : 문자열(str), 리스트(list), 튜플(tuple), 사용자 정의 클래스가 시퀀스에 속한다. for 문에서 사용할 수 있는 것들이 바로 시퀀스\n",
    "    - 문자열 : 문자를 한 줄로 표현하며 문자열 인덱스를 이용해 문자열의 일부를 복사\n",
    "    - 리스트 : 대괄호([ ])로 감싸 주고 각 요솟값은 쉼표(,)로 구분\n",
    "    - 튜플 : 튜플은 ( )으로 둘러싸고 각 요솟값은 쉼표(,)로 구분\n",
    "  - 매핑\n",
    "    - 사전 : 딕셔너리(dict)는 키(key)와 값(value)의 짝으로 이뤄지는데 이런 것을 매핑\n",
    "  - 집합 : 집합을 표현하는 세트(set)\n",
    "  - 블린 : 참, 거짓을 표현"
   ]
  },
  {
   "cell_type": "code",
   "execution_count": 1,
   "id": "2aed6d9e",
   "metadata": {},
   "outputs": [
    {
     "name": "stdout",
     "output_type": "stream",
     "text": [
      "3\n",
      "3.5\n"
     ]
    }
   ],
   "source": [
    "# 정수형, 실수형\n",
    "i1 = 3\n",
    "f1 = 3.5\n",
    "print(i1)\n",
    "print(f1)"
   ]
  },
  {
   "cell_type": "code",
   "execution_count": 75,
   "id": "3480dac0",
   "metadata": {},
   "outputs": [
    {
     "name": "stdout",
     "output_type": "stream",
     "text": [
      "1\n",
      "0\n",
      "100\n",
      "3\n"
     ]
    }
   ],
   "source": [
    "# 정수(int)\n",
    "print(int(True))\n",
    "print(int(False))\n",
    "print(int('100'))\n",
    "print(int(3.14))"
   ]
  },
  {
   "cell_type": "code",
   "execution_count": 73,
   "id": "9fbf4dc2",
   "metadata": {},
   "outputs": [
    {
     "name": "stdout",
     "output_type": "stream",
     "text": [
      "1.0\n",
      "0.0\n",
      "100.0\n",
      "3.14\n"
     ]
    }
   ],
   "source": [
    "# 실수(float)\n",
    "print(float(True))\n",
    "print(float(False))\n",
    "print(float(100))\n",
    "print('3.14')"
   ]
  },
  {
   "cell_type": "code",
   "execution_count": 3,
   "id": "b099dddc",
   "metadata": {},
   "outputs": [
    {
     "name": "stdout",
     "output_type": "stream",
     "text": [
      "12.3\n",
      "23.0\n",
      "4.347826086956522\n",
      "4.0\n",
      "0.8000000000000007\n",
      "199.52623149688787\n"
     ]
    }
   ],
   "source": [
    "# 사칙연산 : +, *, /, //, %, **\n",
    "a = 10\n",
    "b = 2.3\n",
    "print(a+b)\n",
    "print(a*b)\n",
    "print(a/b)\n",
    "print(a//b)\n",
    "print(a%b)\n",
    "print(a**b)"
   ]
  },
  {
   "cell_type": "code",
   "execution_count": null,
   "id": "e2ade53a",
   "metadata": {},
   "outputs": [],
   "source": [
    "# 문자열\n",
    "string = '문자열'\n",
    "a = '100'"
   ]
  },
  {
   "cell_type": "code",
   "execution_count": 6,
   "id": "a61a2810",
   "metadata": {},
   "outputs": [
    {
     "name": "stdout",
     "output_type": "stream",
     "text": [
      "150\n",
      "10050\n"
     ]
    }
   ],
   "source": [
    "a = 100\n",
    "b = 50\n",
    "print(a+b)\n",
    "a = '100'\n",
    "b = '50'\n",
    "print(a+b)\n"
   ]
  },
  {
   "cell_type": "code",
   "execution_count": 7,
   "id": "79903c71",
   "metadata": {},
   "outputs": [
    {
     "name": "stdout",
     "output_type": "stream",
     "text": [
      "인사말을 입력하세요.안녕하세요\n"
     ]
    },
    {
     "data": {
      "text/plain": [
       "'안녕하세요'"
      ]
     },
     "execution_count": 7,
     "metadata": {},
     "output_type": "execute_result"
    }
   ],
   "source": [
    "# 사용자 입력\n",
    "input('인사말을 입력하세요.')"
   ]
  },
  {
   "cell_type": "code",
   "execution_count": 10,
   "id": "eaddb528",
   "metadata": {},
   "outputs": [
    {
     "name": "stdout",
     "output_type": "stream",
     "text": [
      "3\n",
      "3\n",
      "33\n"
     ]
    }
   ],
   "source": [
    "# input() 함수는 입력받은 데이터를 string으로 처리한다.\n",
    "a = input()\n",
    "b = input()\n",
    "print(a+b)"
   ]
  },
  {
   "cell_type": "code",
   "execution_count": 9,
   "id": "48a37d22",
   "metadata": {},
   "outputs": [
    {
     "name": "stdout",
     "output_type": "stream",
     "text": [
      "첫 번째 숫자: 5\n",
      "두 번째 숫자: 5\n",
      "10\n"
     ]
    }
   ],
   "source": [
    "# 두개의 정수를 입력해서 더한 결과를 출력하세요.\n",
    "num1 = int(input(\"첫 번째 숫자: \"))\n",
    "num2 = int(input(\"두 번째 숫자: \"))\n",
    "\n",
    "print(num1 + num2)"
   ]
  },
  {
   "cell_type": "code",
   "execution_count": 11,
   "id": "72e3af60",
   "metadata": {},
   "outputs": [
    {
     "name": "stdout",
     "output_type": "stream",
     "text": [
      "3입력3\n",
      "3.3입력3.3\n",
      "6.3\n"
     ]
    }
   ],
   "source": [
    "# 실수 + 실수 -> 실수\n",
    "# Q. 3과 3.3을 입력하고 숫자 연산을 수행하여 6.3을 출력하세요.\n",
    "a = float(input('3입력'))\n",
    "b = float(input('3.3입력'))\n",
    "print(a+b)"
   ]
  },
  {
   "cell_type": "code",
   "execution_count": 12,
   "id": "7c558646",
   "metadata": {},
   "outputs": [
    {
     "name": "stdout",
     "output_type": "stream",
     "text": [
      "정수를 입력하세요 : 3\n",
      "소수점 이하를 포함한 실수를 입력하세요 : 3.3\n",
      "6.3\n"
     ]
    }
   ],
   "source": [
    "# 정수 + 실수 -> 실수\n",
    "# Q. 3과 3.3을 입력하고 숫자 연산을 수행하여 6.3을 출력하세요.\n",
    "num1 = int(input(\"정수를 입력하세요 : \"))\n",
    "num2 = float(input(\"소수점 이하를 포함한 실수를 입력하세요 : \"))\n",
    "print(num1 + num2)"
   ]
  },
  {
   "cell_type": "code",
   "execution_count": 13,
   "id": "6994b68d",
   "metadata": {},
   "outputs": [
    {
     "name": "stdout",
     "output_type": "stream",
     "text": [
      "5252.273\n"
     ]
    }
   ],
   "source": [
    "# Q. a = 52와 b = 52.273일때 a+b는 5252.273으로 출력되도록 a와 b를 문자열 자료형으로 변환하세요.\n",
    "a = 52\n",
    "b = 52.273\n",
    "a = str(a)\n",
    "b = str(b)\n",
    "print(a+b)"
   ]
  },
  {
   "cell_type": "code",
   "execution_count": 18,
   "id": "5105b8bb",
   "metadata": {},
   "outputs": [
    {
     "name": "stdout",
     "output_type": "stream",
     "text": [
      "python's value is great\n"
     ]
    }
   ],
   "source": [
    "# 문자열 : \"\", '', \"\"\" \"\"\", ''' '''\n",
    "# p1 = 'python's value is great'\n",
    "p1 = \"python's value is great\"\n",
    "print(p1)"
   ]
  },
  {
   "cell_type": "code",
   "execution_count": 19,
   "id": "6e3f85ad",
   "metadata": {},
   "outputs": [
    {
     "name": "stdout",
     "output_type": "stream",
     "text": [
      "python's value is great\n"
     ]
    }
   ],
   "source": [
    "p1 = 'python\\'s value is great'\n",
    "print(p1)"
   ]
  },
  {
   "cell_type": "code",
   "execution_count": 21,
   "id": "7ba08f59",
   "metadata": {},
   "outputs": [
    {
     "name": "stdout",
     "output_type": "stream",
     "text": [
      "Once you study data analysis\n",
      "You need Python\n"
     ]
    }
   ],
   "source": [
    "# \\n 행 바꿈\n",
    "y1 = \"Once you study data analysis\\nYou need Python\"\n",
    "print(y1)"
   ]
  },
  {
   "cell_type": "code",
   "execution_count": 24,
   "id": "14985f30",
   "metadata": {},
   "outputs": [
    {
     "name": "stdout",
     "output_type": "stream",
     "text": [
      "\n",
      "Once you study data analysis\n",
      "You need Python\n",
      "\n"
     ]
    }
   ],
   "source": [
    "y2 = '''\n",
    "Once you study data analysis\n",
    "You need Python\n",
    "'''\n",
    "print(y2)"
   ]
  },
  {
   "cell_type": "code",
   "execution_count": 29,
   "id": "4128080f",
   "metadata": {},
   "outputs": [
    {
     "name": "stdout",
     "output_type": "stream",
     "text": [
      "Python is easy to learn\n",
      "=========================\n"
     ]
    }
   ],
   "source": [
    "a1 = 'Python'\n",
    "a2 = ' is easy to learn'\n",
    "print(a1+a2)\n",
    "print(\"=\"*25)"
   ]
  },
  {
   "cell_type": "code",
   "execution_count": 68,
   "id": "d2464f56",
   "metadata": {},
   "outputs": [
    {
     "name": "stdout",
     "output_type": "stream",
     "text": [
      "첫번째 숫자5\n",
      "두번째 숫자3\n",
      "5\n"
     ]
    }
   ],
   "source": [
    "# 과제1. 다른 타입의 숫자 2개를 입력받아 큰 수를 출력하세요. \n",
    "t1 = int(input(\"첫번째 숫자\"))\n",
    "t2 = float(input(\"두번째 숫자\"))\n",
    "if t1 > t2:\n",
    "    print(t1)\n",
    "elif t1 < t2:\n",
    "    print(t2)\n",
    "else:\n",
    "    print(\"큰 수가 없습니다.\")"
   ]
  },
  {
   "cell_type": "code",
   "execution_count": null,
   "id": "2c15176f",
   "metadata": {},
   "outputs": [],
   "source": [
    "과제2. 아래와 같이 출력할 수 있는 string을 만드세요.\n",
    "string =\n",
    "print(string)\n",
    "[출력문]\n",
    "\"What a wonderful world!\" \n",
    "he said loudly"
   ]
  },
  {
   "cell_type": "code",
   "execution_count": 83,
   "id": "29a2cb81",
   "metadata": {},
   "outputs": [
    {
     "name": "stdout",
     "output_type": "stream",
     "text": [
      "\n",
      "\"What a wonderful world!\"\n",
      "he said loudly\n",
      "\n"
     ]
    }
   ],
   "source": [
    "string = '''\n",
    "\"What a wonderful world!\"\n",
    "he said loudly\n",
    "'''\n",
    "print(string)"
   ]
  },
  {
   "cell_type": "code",
   "execution_count": 30,
   "id": "4ac4aa25",
   "metadata": {},
   "outputs": [
    {
     "name": "stdout",
     "output_type": "stream",
     "text": [
      "[1, 2, 3, 4, 5]\n",
      "['a', 'b', 'c']\n",
      "[1, 'a', 'abc', [1, 2, 3, 4, 5], ['a', 'b', 'c']]\n"
     ]
    }
   ],
   "source": [
    "# 자료형 - List\n",
    "# 리스트는 [] 로 표시하며 []안의 요소를 콤마로 구분하여 순서있게 나열\n",
    "list1 = [1,2,3,4,5]\n",
    "list2 = ['a','b','c']\n",
    "list3 = [1,'a','abc',[1,2,3,4,5],['a','b','c']]\n",
    "print(list1)\n",
    "print(list2)\n",
    "print(list3)"
   ]
  },
  {
   "cell_type": "code",
   "execution_count": 37,
   "id": "dd65afba",
   "metadata": {},
   "outputs": [
    {
     "data": {
      "text/plain": [
       "[1, 2, 3, 4]"
      ]
     },
     "execution_count": 37,
     "metadata": {},
     "output_type": "execute_result"
    }
   ],
   "source": [
    "# 인덱싱\n",
    "list1 = [1,2,3,4,5]\n",
    "list1[2]\n",
    "list1[0:2]\n",
    "list1[:4]"
   ]
  },
  {
   "cell_type": "code",
   "execution_count": 42,
   "id": "84f26089",
   "metadata": {},
   "outputs": [
    {
     "data": {
      "text/plain": [
       "'b'"
      ]
     },
     "execution_count": 42,
     "metadata": {},
     "output_type": "execute_result"
    }
   ],
   "source": [
    "list3 = [1,'a','abc',[1,2,3,4,5],['a','b','c']]\n",
    "list3[3][2]\n",
    "list3[4][1]"
   ]
  },
  {
   "cell_type": "code",
   "execution_count": 47,
   "id": "9ce91850",
   "metadata": {},
   "outputs": [
    {
     "name": "stdout",
     "output_type": "stream",
     "text": [
      "[1, 1, 2, 3, 4, 5, 6, 7, 8, 9]\n",
      "['a', 'a', 'c']\n",
      "[1, 2, 3, 4, 5, 6, 7, 8, 9]\n",
      "['a', 'c']\n"
     ]
    }
   ],
   "source": [
    "# 리스트 수정, 삭제\n",
    "a = [0, 1, 2, 3, 4, 5, 6, 7, 8, 9]\n",
    "b = ['a','b','c']\n",
    "a[0] = 1 \n",
    "print(a)\n",
    "b[1] = 'a'\n",
    "print(b)\n",
    "del a[0]\n",
    "print(a)\n",
    "del b[1]\n",
    "print(b)"
   ]
  },
  {
   "cell_type": "code",
   "execution_count": 54,
   "id": "0e02c98e",
   "metadata": {},
   "outputs": [
    {
     "data": {
      "text/plain": [
       "[6, 7, 8, 9]"
      ]
     },
     "execution_count": 54,
     "metadata": {},
     "output_type": "execute_result"
    }
   ],
   "source": [
    "# 끝에서 부터 인덱싱 : -1 \n",
    "a = [0, 1, 2, 3, 4, 5, 6, 7, 8, 9]\n",
    "b = ['a','b','c']\n",
    "a[-2]\n",
    "a[-4:-1]\n",
    "a[-4:]"
   ]
  },
  {
   "cell_type": "code",
   "execution_count": 57,
   "id": "5a7c565c",
   "metadata": {},
   "outputs": [
    {
     "name": "stdout",
     "output_type": "stream",
     "text": [
      "[1, 2, 3, 4, 5]\n",
      "[1, 2, 3, 4, 5, 6]\n",
      "[5, 1, 2, 3, 4, 5, 6]\n"
     ]
    }
   ],
   "source": [
    "# 리스트 확장\n",
    "h = [1,2,3]\n",
    "h.extend([4,5]) # 반복 가능한 객체의 모든 요소를 리스트에 추가\n",
    "print(h)\n",
    "h.append(6) # 단일 객체를 추가\n",
    "print(h)\n",
    "h.insert(0,5)\n",
    "print(h)"
   ]
  },
  {
   "cell_type": "code",
   "execution_count": 63,
   "id": "06784737",
   "metadata": {},
   "outputs": [],
   "source": [
    "h = [5, 1, 2, 3, 4, 5, 6]"
   ]
  },
  {
   "cell_type": "code",
   "execution_count": 59,
   "id": "6a3e8a62",
   "metadata": {},
   "outputs": [
    {
     "name": "stdout",
     "output_type": "stream",
     "text": [
      "[5, 1, 2, 3, 4, 5, 6, 7]\n"
     ]
    }
   ],
   "source": [
    "h.extend([7])\n",
    "print(h)"
   ]
  },
  {
   "cell_type": "code",
   "execution_count": 62,
   "id": "c00eac4d",
   "metadata": {},
   "outputs": [
    {
     "name": "stdout",
     "output_type": "stream",
     "text": [
      "[5, 1, 2, 3, 4, 5, 6, 7]\n"
     ]
    }
   ],
   "source": [
    "h.append(7)\n",
    "print(h)"
   ]
  },
  {
   "cell_type": "code",
   "execution_count": 64,
   "id": "d62ede4b",
   "metadata": {},
   "outputs": [
    {
     "name": "stdout",
     "output_type": "stream",
     "text": [
      "[5, 1, 2, 3, 4, 5, 6, 7]\n"
     ]
    }
   ],
   "source": [
    "h.insert(7,7)\n",
    "print(h)"
   ]
  },
  {
   "cell_type": "markdown",
   "id": "53ec7d1e",
   "metadata": {},
   "source": [
    "[과제3] list1에서 다음을 수행하세요\n",
    "- 33을 출력\n",
    "- 82를 리스트에 추가\n",
    "- 87의 인덱스 구하기 - 도전\n",
    "- 인덱스 3에서 10까지의 값을 출력하고 list2에 저장한 후 내림차순 정렬하기 - 도전\n",
    "- 39를 11로 변경\n",
    "- [69,45,58] 출력\n",
    "- 짝수 인덱스의 값으로 구성된 리스트 출력하기\n",
    "- 인덱스가 가장 큰수를 삭제하기\n",
    "- 인덱스 3, 5인 값으로 4칙 연산하기\n",
    "\n",
    "list1 = [58, 45, 69, 19,  4, 87, 29, 13, 39, 15, 54, [8, 33, 11], 27, 49, 63, 98, 22, 82]"
   ]
  },
  {
   "cell_type": "code",
   "execution_count": 84,
   "id": "9d3eeb51",
   "metadata": {},
   "outputs": [
    {
     "data": {
      "text/plain": [
       "33"
      ]
     },
     "execution_count": 84,
     "metadata": {},
     "output_type": "execute_result"
    }
   ],
   "source": [
    "list1 = [58, 45, 69, 19, 4, 87, 29, 13, 39, 15, 54, [8, 33, 11], 27, 49, 63, 98, 22, 82]\n",
    "# 33을 출력\n",
    "list1[11][1]"
   ]
  },
  {
   "cell_type": "code",
   "execution_count": 85,
   "id": "22bccdf5",
   "metadata": {},
   "outputs": [
    {
     "name": "stdout",
     "output_type": "stream",
     "text": [
      "2번 답: [58, 45, 69, 19, 4, 87, 29, 13, 39, 15, 54, [8, 33, 11], 27, 49, 63, 98, 22, 82, 82]\n"
     ]
    }
   ],
   "source": [
    "list1.append(82)\n",
    "print(f'2번 답: {list1}')"
   ]
  },
  {
   "cell_type": "code",
   "execution_count": 88,
   "id": "466bab07",
   "metadata": {},
   "outputs": [
    {
     "data": {
      "text/plain": [
       "5"
      ]
     },
     "execution_count": 88,
     "metadata": {},
     "output_type": "execute_result"
    }
   ],
   "source": [
    "list1.index(87)"
   ]
  },
  {
   "cell_type": "code",
   "execution_count": 86,
   "id": "c2260eee",
   "metadata": {},
   "outputs": [
    {
     "data": {
      "text/plain": [
       "8"
      ]
     },
     "execution_count": 86,
     "metadata": {},
     "output_type": "execute_result"
    }
   ],
   "source": [
    "list1.index(39)"
   ]
  },
  {
   "cell_type": "code",
   "execution_count": 87,
   "id": "2c20aec9",
   "metadata": {},
   "outputs": [
    {
     "name": "stdout",
     "output_type": "stream",
     "text": [
      "[58, 45, 69, 19, 4, 87, 29, 13, 11, 15, 54, [8, 33, 11], 27, 49, 63, 98, 22, 82, 82]\n"
     ]
    }
   ],
   "source": [
    "list1[8] = 11\n",
    "print(list1)"
   ]
  },
  {
   "cell_type": "code",
   "execution_count": 90,
   "id": "58fb5655",
   "metadata": {},
   "outputs": [
    {
     "data": {
      "text/plain": [
       "[69, 45, 58]"
      ]
     },
     "execution_count": 90,
     "metadata": {},
     "output_type": "execute_result"
    }
   ],
   "source": [
    "list1[2::-1]"
   ]
  },
  {
   "cell_type": "code",
   "execution_count": 92,
   "id": "9d368222",
   "metadata": {},
   "outputs": [
    {
     "name": "stdout",
     "output_type": "stream",
     "text": [
      "[82, 82, 22, 98, 63, 49, 27, [8, 33, 11], 54, 15, 11, 13, 29, 87, 4, 19, 69, 45, 58]\n"
     ]
    }
   ],
   "source": [
    "print(list1[::-1])"
   ]
  },
  {
   "cell_type": "code",
   "execution_count": 101,
   "id": "40d7f291",
   "metadata": {},
   "outputs": [
    {
     "name": "stdout",
     "output_type": "stream",
     "text": [
      "[82, 82, 22]\n"
     ]
    }
   ],
   "source": [
    "print(list1[:-4:-1])"
   ]
  },
  {
   "cell_type": "code",
   "execution_count": 103,
   "id": "a3037ca2",
   "metadata": {},
   "outputs": [
    {
     "name": "stdout",
     "output_type": "stream",
     "text": [
      "[58, 45, 69, 19, 4, 87, 29, 13, 11, 15, 54, [8, 33, 11], 27, 49, 63, 98, 22, 82, 82]\n"
     ]
    }
   ],
   "source": [
    "print(list1[0:])"
   ]
  },
  {
   "cell_type": "code",
   "execution_count": 106,
   "id": "b9cfa3dd",
   "metadata": {},
   "outputs": [
    {
     "name": "stdout",
     "output_type": "stream",
     "text": [
      "[58, 69, 4, 29, 11, 54, 27, 63, 22, 82]\n"
     ]
    }
   ],
   "source": [
    "print(list1[0::2])"
   ]
  },
  {
   "cell_type": "code",
   "execution_count": 107,
   "id": "0f3f174b",
   "metadata": {},
   "outputs": [
    {
     "name": "stdout",
     "output_type": "stream",
     "text": [
      "[58, 45, 69, 19, 4, 87, 29, 13, 39, 15, 54, [8, 33, 11], 27, 49, 63, 98, 22]\n"
     ]
    }
   ],
   "source": [
    "list1 = [58, 45, 69, 19, 4, 87, 29, 13, 39, 15, 54, [8, 33, 11], 27, 49, 63, 98, 22, 82]\n",
    "del list1[-1]\n",
    "print(list1)"
   ]
  },
  {
   "cell_type": "code",
   "execution_count": null,
   "id": "cb3c9495",
   "metadata": {},
   "outputs": [],
   "source": [
    "a=list1[3]+list1[5]\n",
    "print(a)\n",
    "b=list1[3]-list1[5]\n",
    "print(b)\n",
    "c=list1[3]*list1[5]\n",
    "print(c)\n",
    "d=list1[3]/list1[5]\n",
    "print(d)"
   ]
  },
  {
   "cell_type": "code",
   "execution_count": 108,
   "id": "0a4af22d",
   "metadata": {},
   "outputs": [
    {
     "name": "stdout",
     "output_type": "stream",
     "text": [
      "19 87\n",
      "106\n",
      "-68\n",
      "1653\n",
      "0.21839080459770116\n",
      "19\n",
      "0\n"
     ]
    }
   ],
   "source": [
    "a=list1[3]; b=list1[5]\n",
    "print(a,b)\n",
    "print(a+b)\n",
    "print(a-b)\n",
    "print(a*b)\n",
    "print(a/b)\n",
    "print(a%b)\n",
    "print(a//b)"
   ]
  },
  {
   "cell_type": "markdown",
   "id": "db7ee033",
   "metadata": {},
   "source": [
    "#### sort 와 sorted 차이점\n",
    "\n",
    "1. 메서드 vs 함수:\n",
    "- sort(): 리스트 객체의 내장 메서드입니다. 즉, 리스트에서만 사용할 수 있습니다.\n",
    "- sorted(): 내장 함수로, 어떤 반복 가능한(iterable) 객체에도 사용될 수 있습니다. 예를 들면 리스트, 튜플, 딕셔너리, 문자열 등에 사용할 수 있습니다.\n",
    "\n",
    "2. 반환 값:\n",
    "- sort(): 리스트를 원 위치에서(in-place) 정렬하고 None을 반환합니다. 따라서 원래의 리스트 자체가 변경됩니다.\n",
    "- sorted(): 정렬된 새로운 리스트를 반환합니다. 원래의 객체는 변경되지 않습니다.\n",
    "\n",
    "3. 유용성:\n",
    "- sort(): 리스트에서만 작동하기 때문에 리스트만 정렬할 수 있습니다.\n",
    "- sorted(): 다양한 객체를 정렬할 수 있으며 결과는 항상 리스트로 반환됩니다."
   ]
  },
  {
   "cell_type": "code",
   "execution_count": 65,
   "id": "eee3b963",
   "metadata": {},
   "outputs": [
    {
     "name": "stdout",
     "output_type": "stream",
     "text": [
      "[1, 2, 3]\n",
      "(3, 1, 2)\n",
      "[1, 2, 3]\n"
     ]
    }
   ],
   "source": [
    "# sort() \n",
    "my_list = [3, 1, 2]\n",
    "my_list.sort()\n",
    "print(my_list)  \n",
    "\n",
    "# sorted() \n",
    "my_tuple = (3, 1, 2)\n",
    "new_list = sorted(my_tuple)\n",
    "print(my_tuple)  \n",
    "print(new_list) "
   ]
  },
  {
   "cell_type": "code",
   "execution_count": 111,
   "id": "27c5e105",
   "metadata": {},
   "outputs": [
    {
     "name": "stdout",
     "output_type": "stream",
     "text": [
      "[5, 6, 7, 8, 9]\n",
      "None\n"
     ]
    }
   ],
   "source": [
    "list = [5,6,9,7,8]\n",
    "new_list=list.sort()\n",
    "print(list)\n",
    "print(new_list)"
   ]
  },
  {
   "cell_type": "code",
   "execution_count": 109,
   "id": "99738c16",
   "metadata": {},
   "outputs": [
    {
     "name": "stdout",
     "output_type": "stream",
     "text": [
      "[5, 6, 9, 7, 8]\n",
      "[5, 6, 7, 8, 9]\n"
     ]
    }
   ],
   "source": [
    "list = [5,6,9,7,8]\n",
    "new_list = sorted(list)\n",
    "print(list)\n",
    "print(new_list)"
   ]
  },
  {
   "cell_type": "code",
   "execution_count": 113,
   "id": "b4b53c92",
   "metadata": {},
   "outputs": [
    {
     "data": {
      "text/plain": [
       "[87, 54, 39, 29, 19, 15, 13, 4]"
      ]
     },
     "execution_count": 113,
     "metadata": {},
     "output_type": "execute_result"
    }
   ],
   "source": [
    "list1 = [58, 45, 69, 19, 4, 87, 29, 13, 39, 15, 54, [8, 33, 11], 27, 49, 63, 98, 22, 82]\n",
    "list2 = list1[3:11]\n",
    "l_sort = sorted(list2,reverse=True)\n",
    "l_sort"
   ]
  },
  {
   "cell_type": "code",
   "execution_count": 116,
   "id": "883fad9f",
   "metadata": {},
   "outputs": [
    {
     "name": "stdout",
     "output_type": "stream",
     "text": [
      "[87, 54, 39, 29, 19, 15, 13, 4]\n"
     ]
    }
   ],
   "source": [
    "list3 = list1[3:11]\n",
    "list3.sort(reverse=True)\n",
    "print(list3)"
   ]
  },
  {
   "cell_type": "code",
   "execution_count": null,
   "id": "3ed26471",
   "metadata": {},
   "outputs": [],
   "source": [
    "[과제4] 아래 list를 sort, sorted 를 이용해서 올림차순, 내림차순으로 각각 출력하세요."
   ]
  },
  {
   "cell_type": "code",
   "execution_count": null,
   "id": "42960e9e",
   "metadata": {},
   "outputs": [],
   "source": [
    "list = [5, 8, 11, 14, 17, 20, 23, 26, 29, 32, 35, 38, 41, 44, 47, 3, 5, 7, 9, 11, 13, 15, 17]"
   ]
  },
  {
   "cell_type": "code",
   "execution_count": null,
   "id": "bc75c986",
   "metadata": {},
   "outputs": [],
   "source": [
    "# 자료형 - Tuple\n",
    "# 튜플의 요소 값은 변경할 수 없음 - 프로그램에서 그 값이 항상 변하지 않아야되는 경우 사용"
   ]
  },
  {
   "cell_type": "code",
   "execution_count": 131,
   "id": "f6b4a510",
   "metadata": {},
   "outputs": [
    {
     "data": {
      "text/plain": [
       "3"
      ]
     },
     "execution_count": 131,
     "metadata": {},
     "output_type": "execute_result"
    }
   ],
   "source": [
    "tuple1 = (1,2,3,4,5)\n",
    "tuple2 = ('a','b','c')\n",
    "tuple3 = (1,'a','abc',[1,2,3,4,5],['a','b','c'])\n",
    "\n",
    "tuple1[:]\n",
    "tuple1[2]\n",
    "tuple3[3][2]"
   ]
  },
  {
   "cell_type": "code",
   "execution_count": 132,
   "id": "b37a7f9f",
   "metadata": {},
   "outputs": [
    {
     "data": {
      "text/plain": [
       "[0, 2, 3, 4, 5]"
      ]
     },
     "execution_count": 132,
     "metadata": {},
     "output_type": "execute_result"
    }
   ],
   "source": [
    "list = [1,2,3,4,5]\n",
    "list[0] = 0\n",
    "list"
   ]
  },
  {
   "cell_type": "code",
   "execution_count": 133,
   "id": "aa32ce34",
   "metadata": {},
   "outputs": [
    {
     "ename": "TypeError",
     "evalue": "'tuple' object does not support item assignment",
     "output_type": "error",
     "traceback": [
      "\u001b[1;31m---------------------------------------------------------------------------\u001b[0m",
      "\u001b[1;31mTypeError\u001b[0m                                 Traceback (most recent call last)",
      "Cell \u001b[1;32mIn[133], line 2\u001b[0m\n\u001b[0;32m      1\u001b[0m \u001b[38;5;28mtuple\u001b[39m \u001b[38;5;241m=\u001b[39m (\u001b[38;5;241m1\u001b[39m,\u001b[38;5;241m2\u001b[39m,\u001b[38;5;241m3\u001b[39m,\u001b[38;5;241m4\u001b[39m,\u001b[38;5;241m5\u001b[39m)\n\u001b[1;32m----> 2\u001b[0m \u001b[38;5;28mtuple\u001b[39m[\u001b[38;5;241m0\u001b[39m] \u001b[38;5;241m=\u001b[39m \u001b[38;5;241m0\u001b[39m\n\u001b[0;32m      3\u001b[0m \u001b[38;5;28mtuple\u001b[39m\n",
      "\u001b[1;31mTypeError\u001b[0m: 'tuple' object does not support item assignment"
     ]
    }
   ],
   "source": [
    "# 튜플의 요소 값은 변경할 수 없음\n",
    "tuple = (1,2,3,4,5)\n",
    "tuple[0] = 0\n",
    "tuple"
   ]
  },
  {
   "cell_type": "code",
   "execution_count": 135,
   "id": "9a116256",
   "metadata": {},
   "outputs": [
    {
     "name": "stdout",
     "output_type": "stream",
     "text": [
      "[1]\n"
     ]
    }
   ],
   "source": [
    "l1 = [1]\n",
    "print(l1)"
   ]
  },
  {
   "cell_type": "code",
   "execution_count": 141,
   "id": "d0d3032e",
   "metadata": {},
   "outputs": [
    {
     "name": "stdout",
     "output_type": "stream",
     "text": [
      "(1,)\n"
     ]
    },
    {
     "data": {
      "text/plain": [
       "tuple"
      ]
     },
     "execution_count": 141,
     "metadata": {},
     "output_type": "execute_result"
    }
   ],
   "source": [
    "t1 = (1,) # 1개의 요소만 가질 때는 요소뒤에 콤마를 붙여야 함\n",
    "print(t1)\n",
    "type(t1)"
   ]
  },
  {
   "cell_type": "code",
   "execution_count": 140,
   "id": "b1cdb39b",
   "metadata": {},
   "outputs": [
    {
     "name": "stdout",
     "output_type": "stream",
     "text": [
      "1\n"
     ]
    },
    {
     "data": {
      "text/plain": [
       "int"
      ]
     },
     "execution_count": 140,
     "metadata": {},
     "output_type": "execute_result"
    }
   ],
   "source": [
    "tl = (1)\n",
    "print(tl)\n",
    "type(tl)"
   ]
  },
  {
   "cell_type": "code",
   "execution_count": 136,
   "id": "f973e176",
   "metadata": {},
   "outputs": [
    {
     "name": "stdout",
     "output_type": "stream",
     "text": [
      "(1, 2, 3)\n"
     ]
    }
   ],
   "source": [
    "t2 = 1,2,3\n",
    "print(t2)"
   ]
  },
  {
   "cell_type": "code",
   "execution_count": 138,
   "id": "3e63309f",
   "metadata": {},
   "outputs": [
    {
     "data": {
      "text/plain": [
       "(1, 1, 2, 3)"
      ]
     },
     "execution_count": 138,
     "metadata": {},
     "output_type": "execute_result"
    }
   ],
   "source": [
    "t2 * 3\n",
    "t1 + t2"
   ]
  },
  {
   "cell_type": "code",
   "execution_count": null,
   "id": "4890dd3e",
   "metadata": {},
   "outputs": [],
   "source": [
    "# 자료형 - 사전(키와 값을 하나의 요소로 하는 순서가 없는 집합)\n",
    "{a:1,b:2}"
   ]
  },
  {
   "cell_type": "code",
   "execution_count": 142,
   "id": "d2b8c3cd",
   "metadata": {},
   "outputs": [
    {
     "name": "stdout",
     "output_type": "stream",
     "text": [
      "1\n"
     ]
    }
   ],
   "source": [
    "d1 = {'a':1,'b':2,'c':3}\n",
    "print(d1['a'])"
   ]
  },
  {
   "cell_type": "code",
   "execution_count": 143,
   "id": "529222f1",
   "metadata": {},
   "outputs": [
    {
     "data": {
      "text/plain": [
       "dict_keys(['a', 'b', 'c'])"
      ]
     },
     "execution_count": 143,
     "metadata": {},
     "output_type": "execute_result"
    }
   ],
   "source": [
    "d1.keys()"
   ]
  },
  {
   "cell_type": "code",
   "execution_count": 144,
   "id": "5686b03e",
   "metadata": {},
   "outputs": [
    {
     "data": {
      "text/plain": [
       "dict_values([1, 2, 3])"
      ]
     },
     "execution_count": 144,
     "metadata": {},
     "output_type": "execute_result"
    }
   ],
   "source": [
    "d1.values()"
   ]
  },
  {
   "cell_type": "code",
   "execution_count": 145,
   "id": "e60339bf",
   "metadata": {},
   "outputs": [
    {
     "data": {
      "text/plain": [
       "dict_items([('a', 1), ('b', 2), ('c', 3)])"
      ]
     },
     "execution_count": 145,
     "metadata": {},
     "output_type": "execute_result"
    }
   ],
   "source": [
    "d1.items()"
   ]
  },
  {
   "cell_type": "code",
   "execution_count": 146,
   "id": "90a4c4c4",
   "metadata": {},
   "outputs": [
    {
     "data": {
      "text/plain": [
       "{'a': 1, 'b': 2, 'c': 3, 'd': 4}"
      ]
     },
     "execution_count": 146,
     "metadata": {},
     "output_type": "execute_result"
    }
   ],
   "source": [
    "d1['d'] = 4\n",
    "d1"
   ]
  },
  {
   "cell_type": "code",
   "execution_count": 147,
   "id": "b04ba3b2",
   "metadata": {},
   "outputs": [
    {
     "data": {
      "text/plain": [
       "{'a': 1, 'b': 7, 'c': 3, 'd': 4}"
      ]
     },
     "execution_count": 147,
     "metadata": {},
     "output_type": "execute_result"
    }
   ],
   "source": [
    "d1['b'] = 7\n",
    "d1"
   ]
  },
  {
   "cell_type": "code",
   "execution_count": null,
   "id": "01c40ef2",
   "metadata": {},
   "outputs": [],
   "source": [
    "# 자료형 - 집합, set(중복을 허용하지 않으며 순서가 없다.)"
   ]
  },
  {
   "cell_type": "code",
   "execution_count": 1,
   "id": "d57bc317",
   "metadata": {},
   "outputs": [
    {
     "name": "stdout",
     "output_type": "stream",
     "text": [
      "{1, 2, 3, 4, 5}\n",
      "{'H', 'o', 'e', 'l'}\n"
     ]
    }
   ],
   "source": [
    "s1 = set([1,2,5,4,3])\n",
    "s2 = set('Hello')\n",
    "print(s1)\n",
    "print(s2)"
   ]
  },
  {
   "cell_type": "code",
   "execution_count": 6,
   "id": "3bf3ed4b",
   "metadata": {},
   "outputs": [
    {
     "name": "stdout",
     "output_type": "stream",
     "text": [
      "2\n"
     ]
    }
   ],
   "source": [
    "l1 = list(s1)\n",
    "print(l1[1])"
   ]
  },
  {
   "cell_type": "code",
   "execution_count": 5,
   "id": "0ee208ba",
   "metadata": {},
   "outputs": [
    {
     "name": "stdout",
     "output_type": "stream",
     "text": [
      "l\n"
     ]
    }
   ],
   "source": [
    "l2 = list(s2)\n",
    "print(l2[3])"
   ]
  },
  {
   "cell_type": "code",
   "execution_count": 7,
   "id": "2c5d74d8",
   "metadata": {},
   "outputs": [
    {
     "name": "stdout",
     "output_type": "stream",
     "text": [
      "[1, 2, 3, 4, 5, 6, 7, 8, 9]\n",
      "[4, 5, 6]\n"
     ]
    }
   ],
   "source": [
    "# Q. s1, s2의 합집합과 교집합을 각각 리스트로 출력하세요.\n",
    "s1 = set([1, 2, 3, 4, 5, 6])\n",
    "s2 = set([4, 5, 6, 7, 8, 9])\n",
    "print(list(s1|s2))\n",
    "print(list(s1&s2))"
   ]
  },
  {
   "cell_type": "markdown",
   "id": "12dd16df",
   "metadata": {},
   "source": [
    "#### True와 False\n",
    "- 파이썬에서 참과 거짓을 나타내는 상수. True는 1, False는 0의 값을 가짐\n",
    "- 조건을 판단해서 그 조건이 참이면 True, 거짓이면 False를 return"
   ]
  },
  {
   "cell_type": "code",
   "execution_count": 8,
   "id": "838b2e20",
   "metadata": {},
   "outputs": [
    {
     "name": "stdout",
     "output_type": "stream",
     "text": [
      "False\n",
      "False\n",
      "False\n",
      "True\n",
      "True\n"
     ]
    }
   ],
   "source": [
    "# 자료형 - 논리(Bool)\n",
    "print(bool(0))\n",
    "print(bool(''))\n",
    "print(bool([]))\n",
    "print(bool(1))\n",
    "print(bool(100))"
   ]
  },
  {
   "cell_type": "code",
   "execution_count": 11,
   "id": "03922f6d",
   "metadata": {},
   "outputs": [
    {
     "name": "stdout",
     "output_type": "stream",
     "text": [
      "False\n",
      "True\n",
      "False\n",
      "True\n",
      "True\n"
     ]
    }
   ],
   "source": [
    "# 관계 연산자\n",
    "x = 1; y = 2\n",
    "str1 = 'abc'; str2 = 'python'\n",
    "print(x == y)\n",
    "print(x != y)\n",
    "print(str1 == str2)\n",
    "print(str2 == 'python')\n",
    "print(str1 < str2)"
   ]
  },
  {
   "cell_type": "code",
   "execution_count": 12,
   "id": "d9f96ade",
   "metadata": {},
   "outputs": [
    {
     "name": "stdout",
     "output_type": "stream",
     "text": [
      "False\n",
      "True\n",
      "False\n",
      "True\n"
     ]
    }
   ],
   "source": [
    "# 논리 연산자\n",
    "bool1 = True; bool2 = False; bool3 = True; bool4 = False\n",
    "print(bool1 and bool2)\n",
    "print(bool1 or bool2)\n",
    "print(not bool3)\n",
    "print(not bool4)"
   ]
  },
  {
   "cell_type": "markdown",
   "id": "8280f337",
   "metadata": {},
   "source": [
    "#### 파이썬에서 들여쓰기\n",
    "- 파이썬에는 실행 코드 부분을 묶어주는 {} 괄호가 없다.\n",
    "- 대신 들여쓰기(indentation)로 {}를 대신한다.\n",
    "- 제어문이나 함수이름, 클래스 이름 뒤에 콜론(':')으로 제어문, 함수이름, 클래스 이름의 끝을 표시하며 ':' 다음에 실행 코드를 작성"
   ]
  },
  {
   "cell_type": "code",
   "execution_count": 16,
   "id": "46b16eec",
   "metadata": {},
   "outputs": [
    {
     "name": "stdout",
     "output_type": "stream",
     "text": [
      "a가 li에 있습니다.\n"
     ]
    }
   ],
   "source": [
    "li = ['a','b','c']\n",
    "if 'a' in li:\n",
    "    print('a가 li에 있습니다.')\n",
    "else:\n",
    "    print('a가 li에 없습니다.')"
   ]
  },
  {
   "cell_type": "code",
   "execution_count": 19,
   "id": "9542c396",
   "metadata": {},
   "outputs": [
    {
     "data": {
      "text/plain": [
       "6"
      ]
     },
     "execution_count": 19,
     "metadata": {},
     "output_type": "execute_result"
    }
   ],
   "source": [
    "numbers = [1,2,3]\n",
    "sum(numbers)"
   ]
  },
  {
   "cell_type": "code",
   "execution_count": 21,
   "id": "574a08f2",
   "metadata": {},
   "outputs": [
    {
     "data": {
      "text/plain": [
       "6"
      ]
     },
     "execution_count": 21,
     "metadata": {},
     "output_type": "execute_result"
    }
   ],
   "source": [
    "# 사용자 함수\n",
    "def add(a,b,c):\n",
    "    return a + b +3\n",
    "\n",
    "add(1,2,3)"
   ]
  },
  {
   "cell_type": "code",
   "execution_count": 23,
   "id": "71481b25",
   "metadata": {},
   "outputs": [
    {
     "name": "stdout",
     "output_type": "stream",
     "text": [
      "2\n",
      "1\n"
     ]
    }
   ],
   "source": [
    "class SumMul:\n",
    "    def sum(self,n1,n2):\n",
    "        return n1 + n2\n",
    "    def mul(self,n1,n2):\n",
    "        return n1 * n2\n",
    "    \n",
    "obj1 = SumMul()\n",
    "print(obj1.sum(1,1))\n",
    "obj2 = SumMul()\n",
    "print(obj2.mul(1,1))"
   ]
  },
  {
   "cell_type": "code",
   "execution_count": 25,
   "id": "b9bd5410",
   "metadata": {},
   "outputs": [
    {
     "data": {
      "text/plain": [
       "['나는', '오늘', '기분이', '좋아요']"
      ]
     },
     "execution_count": 25,
     "metadata": {},
     "output_type": "execute_result"
    }
   ],
   "source": [
    "# split() 함수\n",
    "text = '나는 오늘 기분이 좋아요'\n",
    "words = text.split()\n",
    "words"
   ]
  },
  {
   "cell_type": "code",
   "execution_count": 26,
   "id": "576ecf37",
   "metadata": {},
   "outputs": [
    {
     "data": {
      "text/plain": [
       "20"
      ]
     },
     "execution_count": 26,
     "metadata": {},
     "output_type": "execute_result"
    }
   ],
   "source": [
    "# 복합 대입연산자\n",
    "num = 10\n",
    "num += 10 # num = num + 10\n",
    "num"
   ]
  },
  {
   "cell_type": "code",
   "execution_count": null,
   "id": "6ee30dc5",
   "metadata": {},
   "outputs": [],
   "source": [
    "# [과제5] 복합 대입연산자를 이용해서 4칙연산을 수행하세요"
   ]
  },
  {
   "cell_type": "code",
   "execution_count": 30,
   "id": "1b282629",
   "metadata": {},
   "outputs": [
    {
     "name": "stdout",
     "output_type": "stream",
     "text": [
      "dog\n",
      "DOG\n"
     ]
    }
   ],
   "source": [
    "# 소문자, 대문자 변환\n",
    "word = 'DOG'\n",
    "w1 = word.lower()\n",
    "print(w1)\n",
    "w2 = w1.upper()\n",
    "print(w2)"
   ]
  },
  {
   "cell_type": "markdown",
   "id": "7cec5a30",
   "metadata": {},
   "source": [
    "#### 과제6 다음 과제를 수행하세요.\n",
    "- 사용자로 부터 텍스트를 입력 받는다.\n",
    "- 문자을 단어 단위로 분리\n",
    "- 단어의 빈도수를 저장할 딕셔너리를 생성\n",
    "- 각 단어의 빈도 수를 계산(for 문 / if else문)\n",
    "- 결과 출력"
   ]
  },
  {
   "cell_type": "code",
   "execution_count": 2,
   "id": "1d51ed01",
   "metadata": {},
   "outputs": [
    {
     "name": "stdout",
     "output_type": "stream",
     "text": [
      "체크할 문장을 적어주세요: I love apple. I love orange. Apple is tasty\n",
      "{'I': 2, 'love': 2, 'apple.': 1, 'orange.': 1, 'Apple': 1, 'is': 1, 'tasty': 1}\n"
     ]
    }
   ],
   "source": [
    "word_frequency = {}\n",
    "input_str = input(\"체크할 문장을 적어주세요: \")\n",
    "words_list = input_str.split()\n",
    "for word in words_list:\n",
    "    if word in word_frequency:\n",
    "        word_frequency[word] += 1\n",
    "    else:\n",
    "        word_frequency[word] = 1        \n",
    "\n",
    "print(word_frequency)"
   ]
  },
  {
   "cell_type": "code",
   "execution_count": 34,
   "id": "8c85c562",
   "metadata": {},
   "outputs": [
    {
     "name": "stdout",
     "output_type": "stream",
     "text": [
      "문장을 입력하세요: I love apple. I love orange. Apple is tasty\n",
      "{'i': 2, 'love': 2, 'apple.': 1, 'orange.': 1, 'apple': 1, 'is': 1, 'tasty': 1}\n"
     ]
    }
   ],
   "source": [
    "# 사용자로부터 문장을 입력 받습니다.\n",
    "sentence = input(\"문장을 입력하세요: \")\n",
    "\n",
    "# 문장을 단어 단위로 분리합니다.\n",
    "words = sentence.split()\n",
    "\n",
    "# 단어의 빈도수를 저장할 딕셔너리를 생성합니다.\n",
    "word_frequency = {}\n",
    "\n",
    "# 각 단어의 빈도수를 계산합니다.\n",
    "for word in words:\n",
    "    # 대소문자를 구분하지 않기 위해 단어를 소문자로 변환합니다.\n",
    "    word = word.lower()\n",
    "    \n",
    "    # 딕셔너리에 단어가 이미 존재한다면 빈도수를 1 증가시키고,\n",
    "    # 존재하지 않는다면 새로운 항목으로 추가합니다.\n",
    "    if word in word_frequency:\n",
    "        word_frequency[word] += 1\n",
    "    else:\n",
    "        word_frequency[word] = 1\n",
    "\n",
    "# 결과를 출력합니다.\n",
    "print(word_frequency)\n",
    "# I love apple. I love orange. Apple is tasty"
   ]
  },
  {
   "cell_type": "markdown",
   "id": "55083a14",
   "metadata": {},
   "source": [
    "#### 이스케이프 문자\n",
    "- 키보드로 입력하기 어려운 기호 등을 나타낸다.\n",
    "- \\로 시작, \\n 줄바꾸기, \\t 탭,"
   ]
  },
  {
   "cell_type": "code",
   "execution_count": 32,
   "id": "a8e0eafb",
   "metadata": {},
   "outputs": [
    {
     "name": "stdout",
     "output_type": "stream",
     "text": [
      "나는 파이썬을 사랑합니다.\n",
      "파이썬은 자바보다 훨씬 쉽습니다.\n",
      "나는 파이썬을 사랑합니다.\t파이썬은 자바보다 훨씬 쉽습니다.\n"
     ]
    }
   ],
   "source": [
    "print('나는 파이썬을 사랑합니다.\\n파이썬은 자바보다 훨씬 쉽습니다.')\n",
    "print('나는 파이썬을 사랑합니다.\\t파이썬은 자바보다 훨씬 쉽습니다.')"
   ]
  },
  {
   "cell_type": "code",
   "execution_count": 33,
   "id": "c598a554",
   "metadata": {},
   "outputs": [
    {
     "name": "stdout",
     "output_type": "stream",
     "text": [
      "Hello\tWorld!\n",
      "Hello\n",
      "World!\n",
      "She said, \"Hi!\"\n",
      "It's raining.\n",
      "Backslash: \\\n"
     ]
    }
   ],
   "source": [
    "print(\"Hello\\tWorld!\")     # 탭 문자를 사용하여 \"Hello\"와 \"World!\" 사이에 탭 간격을 줍니다.\n",
    "print(\"Hello\\nWorld!\")     # 줄 바꿈 문자를 사용하여 \"Hello\"와 \"World!\"를 다른 줄에 출력합니다.\n",
    "print(\"She said, \\\"Hi!\\\"\") # 큰따옴표를 문자열 내부에 포함시킵니다.\n",
    "print('It\\'s raining.')   # 작은따옴표를 문자열 내부에 포함시킵니다.\n",
    "print(\"Backslash: \\\\\")    # 백슬래시를 출력합니다."
   ]
  },
  {
   "cell_type": "markdown",
   "id": "eed773f6",
   "metadata": {},
   "source": [
    "#### 문자열 포멧\n",
    "- % operator 사용 : % 연산자를 사용하려면 %(VAR_NAME)TYPE 형식으로 적어주며 VAR_NAME 은 바인딩할 변수명을 TYPE 은 변수의 유형을 적어준다.\n",
    "- str.format : str.format() 은 파이썬 표현식 값을 바인딩할 부분을 중괄호 {} 로 표시하고 .format() 뒤에 바인딩할 값을 기술해 준다.\n",
    "- f-string : 문자열에 f 나 F 접두사를 붙이고 표현식을 {expr} 형식으로 작성하면 출력 문자열이 파이썬 표현식의 값으로 바뀐다."
   ]
  },
  {
   "cell_type": "code",
   "execution_count": 35,
   "id": "c47f7349",
   "metadata": {},
   "outputs": [
    {
     "name": "stdout",
     "output_type": "stream",
     "text": [
      "3, 3.000000, hello \n"
     ]
    }
   ],
   "source": [
    "\n",
    "print('%(num)d, %(float)f, %(string)s ' % {\"num\": 3, \"float\": 3, \"string\": 'hello'})"
   ]
  },
  {
   "cell_type": "code",
   "execution_count": 6,
   "id": "696c8285",
   "metadata": {},
   "outputs": [
    {
     "name": "stdout",
     "output_type": "stream",
     "text": [
      "나는 자바보다 파이썬에 더 익숙합니다.\n",
      "파이썬은 자바보다 5배 더 쉽습니다.\n",
      "5 + 10 = 15\n",
      "작년 세계 경제 성장률은 전년에 비해 5% 포인트 증가했다.\n"
     ]
    }
   ],
   "source": [
    "txt1 = '자바';txt2='파이썬'\n",
    "num1= 5; num2=10\n",
    "print('나는 %s보다 %s에 더 익숙합니다.' %(txt1, txt2))\n",
    "print('%s은 %s보다 %d배 더 쉽습니다.' %(txt2, txt1, num1))\n",
    "print('%d + %d = %d' %(num1, num2, num1+num2))\n",
    "print('작년 세계 경제 성장률은 전년에 비해 %d%% 포인트 증가했다.' %num1)"
   ]
  },
  {
   "cell_type": "code",
   "execution_count": 37,
   "id": "14f19b8f",
   "metadata": {},
   "outputs": [
    {
     "name": "stdout",
     "output_type": "stream",
     "text": [
      "We are the knights who say \"Ni!\"\n"
     ]
    }
   ],
   "source": [
    "# str.format\n",
    "print('We are the {} who say \"{}!\"'.format('knights', 'Ni'))"
   ]
  },
  {
   "cell_type": "code",
   "execution_count": 8,
   "id": "8d13a940",
   "metadata": {},
   "outputs": [
    {
     "data": {
      "text/plain": [
       "'나의 이름은 홍길동입니다. 나이는 30입니다.'"
      ]
     },
     "execution_count": 8,
     "metadata": {},
     "output_type": "execute_result"
    }
   ],
   "source": [
    "# f-string\n",
    "name = '홍길동'\n",
    "age = 30\n",
    "f'나의 이름은 {name}입니다. 나이는 {age}입니다.'"
   ]
  },
  {
   "cell_type": "code",
   "execution_count": 10,
   "id": "730ca322",
   "metadata": {},
   "outputs": [
    {
     "name": "stdout",
     "output_type": "stream",
     "text": [
      "Tom   ==>  1234\n",
      "Jack  ==>  4518\n",
      "Eddie ==>  9638\n"
     ]
    }
   ],
   "source": [
    "table = {'Tom': 1234, 'Jack': 4518, 'Eddie': 9638}\n",
    "for name, phone in table.items():\n",
    "    print(f'{name:5} ==> {phone:5d}')"
   ]
  },
  {
   "cell_type": "code",
   "execution_count": 17,
   "id": "2ea498a6",
   "metadata": {},
   "outputs": [
    {
     "data": {
      "text/plain": [
       "'3.42134'"
      ]
     },
     "execution_count": 17,
     "metadata": {},
     "output_type": "execute_result"
    }
   ],
   "source": [
    "# 소수점 4자리까지만 표현\n",
    "y = 3.42134234\n",
    "f'{y:0.5f}'"
   ]
  },
  {
   "cell_type": "code",
   "execution_count": 18,
   "id": "71f295f3",
   "metadata": {},
   "outputs": [
    {
     "data": {
      "text/plain": [
       "'    3.4213'"
      ]
     },
     "execution_count": 18,
     "metadata": {},
     "output_type": "execute_result"
    }
   ],
   "source": [
    "# 소수점 4자리까지 표현하고 총 자리수를 10으로 맞춤\n",
    "y = 3.42134234\n",
    "f'{y:10.4f}'"
   ]
  },
  {
   "cell_type": "code",
   "execution_count": null,
   "id": "98d6f1f4",
   "metadata": {},
   "outputs": [],
   "source": [
    "# [과제1_1030] num1=12345, num2=12.345679 을 아래와 같이 출력하세요. \n",
    "12345\n",
    "     12345\n",
    "12.345679\n",
    "          12.346"
   ]
  },
  {
   "cell_type": "code",
   "execution_count": 14,
   "id": "eb53ffbd",
   "metadata": {},
   "outputs": [
    {
     "name": "stdout",
     "output_type": "stream",
     "text": [
      "12345\n",
      "     12345\n"
     ]
    }
   ],
   "source": [
    "num1=12345\n",
    "num2=12.345679\n",
    "print(num1)\n",
    "print(f'{num1:10d}')"
   ]
  },
  {
   "cell_type": "markdown",
   "id": "c9ce7189",
   "metadata": {},
   "source": [
    "#### 2진수, 8진수, 16진수의 데이터 표현 방법\n",
    "\n",
    "- 우리가 프로그래밍을 하면서 변수에 어떤 값을 저장할 때 10진수는 일상적 표현을 그대로 대입한다.\n",
    "- 예를들어 15를 저장하고 싶다면 int a= 15; 와 같이 15라는 숫자를 그대로 대입하면 된다.\n",
    "- 하지만 2진수, 8진수, 16진수는 표현법이 따로 정해져있다.<br><br>  \n",
    "\n",
    "- 2진수는 대입하고자 하는 값 앞에 0b를 붙인다. (숫자0과 영문자b)\n",
    "- 8진수는 대입하고자 하는 값 앞에 0o 을 붙인다. (숫자0 영문자o)\n",
    "- 16진수는 대입하고자 하는 값 앞에 0x 를 붙인다. (숫자0과 영문자x)\n",
    "\n",
    "아래의 예시를 보자.\n",
    "변수 a,b,c,d 는 모두 10진수 122 이라는 값을 저장하는 코드이다.\n",
    "\n",
    "122는\n",
    "- 2진수로 1111010\n",
    "- 8진수로 172\n",
    "- 16진수로 7A 이다."
   ]
  },
  {
   "cell_type": "code",
   "execution_count": 20,
   "id": "3aa48611",
   "metadata": {},
   "outputs": [
    {
     "name": "stdout",
     "output_type": "stream",
     "text": [
      "122\n",
      "172\n",
      "122\n",
      "122\n"
     ]
    }
   ],
   "source": [
    "a = 0o172 # 8진수 0o로 시작\n",
    "b = 0x7A # 16진수 0x로 시작\n",
    "c = 0b1111010 # 2진수 0b로 시작\n",
    "print(a)\n",
    "print(b)\n",
    "print(c)"
   ]
  },
  {
   "cell_type": "code",
   "execution_count": 21,
   "id": "6eadb32d",
   "metadata": {},
   "outputs": [
    {
     "name": "stdout",
     "output_type": "stream",
     "text": [
      "10\n",
      "2\n",
      "8\n",
      "16\n"
     ]
    }
   ],
   "source": [
    "int_data = 10\n",
    "bin_data = 0b10\n",
    "oct_data = 0o10\n",
    "hex_data = 0x10\n",
    "print(int_data)\n",
    "print(bin_data)\n",
    "print(oct_data)\n",
    "print(hex_data)"
   ]
  },
  {
   "cell_type": "code",
   "execution_count": 22,
   "id": "72c1ff53",
   "metadata": {},
   "outputs": [
    {
     "name": "stdout",
     "output_type": "stream",
     "text": [
      "123\n",
      "-123\n",
      "0\n",
      "1.23\n",
      "127\n",
      "2748\n",
      "42\n"
     ]
    }
   ],
   "source": [
    "# 파이썬 자료형 - 숫자형(정수, 실수, 8진수, 16진수)\n",
    "# 16진수 10 a, 11 b, 12 c, 13 d, 14 e, 15 f\n",
    "a = 123\n",
    "b = -123\n",
    "c = 0\n",
    "d = 1.23\n",
    "e = 0o177 # 8진수 0o로 시작\n",
    "f = 0xABC # 16진수 0x로 시작\n",
    "g = 0b101010 # 2진수 0b로 시작\n",
    "print(a)\n",
    "print(b)\n",
    "print(c)\n",
    "print(d)\n",
    "print(e)\n",
    "print(f)\n",
    "print(g)"
   ]
  },
  {
   "cell_type": "code",
   "execution_count": 23,
   "id": "097295d4",
   "metadata": {},
   "outputs": [
    {
     "name": "stdout",
     "output_type": "stream",
     "text": [
      "32\n",
      "8\n",
      "2\n"
     ]
    }
   ],
   "source": [
    "# 2진수를 10진수로 표현\n",
    "g1 = 0b100000\n",
    "g2 = 0b1000\n",
    "g3 = 0b10\n",
    "print(g1)\n",
    "print(g2)\n",
    "print(g3)"
   ]
  },
  {
   "cell_type": "code",
   "execution_count": 27,
   "id": "69fe1edf",
   "metadata": {},
   "outputs": [
    {
     "name": "stdout",
     "output_type": "stream",
     "text": [
      "10\n",
      "11\n",
      "171\n",
      "171\n"
     ]
    }
   ],
   "source": [
    "# 16진수를 10진수로 표현\n",
    "f1 = 0xA\n",
    "f2 = 0xB\n",
    "f3 = 0xAB\n",
    "print(f1)\n",
    "print(f2)\n",
    "print(f3)\n",
    "print(16*10+1*11)"
   ]
  },
  {
   "cell_type": "code",
   "execution_count": 29,
   "id": "d1e98b30",
   "metadata": {},
   "outputs": [
    {
     "name": "stdout",
     "output_type": "stream",
     "text": [
      "1,2,3\n"
     ]
    }
   ],
   "source": [
    "print(1,2,3,sep=',')"
   ]
  }
 ],
 "metadata": {
  "kernelspec": {
   "display_name": "Python 3 (ipykernel)",
   "language": "python",
   "name": "python3"
  },
  "language_info": {
   "codemirror_mode": {
    "name": "ipython",
    "version": 3
   },
   "file_extension": ".py",
   "mimetype": "text/x-python",
   "name": "python",
   "nbconvert_exporter": "python",
   "pygments_lexer": "ipython3",
   "version": "3.10.13"
  }
 },
 "nbformat": 4,
 "nbformat_minor": 5
}
