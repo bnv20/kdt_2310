{
 "cells": [
  {
   "cell_type": "markdown",
   "metadata": {},
   "source": [
    "#### 객체(object) 개념 정리 ( 신원/타입/속성/메소드/클래스/OOP)\n",
    "- 파이썬 프로그램에서 모든 데이터는 객체(object)라는 개념을 사용하여 저장됩니다.\n",
    "- 가장 기본이 되는 데이터 타입인 숫자, 문자열, 리스트, 사전은 다 객체입니다.\n",
    "- 클래스를 사용해서 사용자 정의 객체를 생성할 수도 있습니다.\n",
    "- 또한 프로그램의 구조와 인터프리터의 내부 동작과 관련된 객체들도 있습니다\n",
    "- 객체(object) : 프로그램에서 저장되는 모든 데이터는 객체입니다. 각 객체는 신원(identity), 타입(클래스라고도 함)과 값을 가집니다.\n",
    "  - 객체의 신원(identity) : 객체가 메모리에 저장된 위치를 가리키는 포인터\n",
    "  - 객체의 타입(클래스) : 객체의 내부적인 표현 형태와 객체가 지원하는 메서드 및 연산들을 설명, 특정 타입의 객체가 생성되면 그 객체를 그 타입의 인스턴스(instance)라고 부른다.\n",
    "  - 객체의 속성(attribute)와 메서드(method) : 속성(attribute)은 객체에 연결된 값이고 메서드(method)는 호출될 때 객체에 대해 특정 연산을 수행하는 함수\n",
    "  \n",
    "https://happy-obok.tistory.com/22"
   ]
  },
  {
   "cell_type": "markdown",
   "metadata": {},
   "source": [
    "## 클래스\n",
    "\n",
    "클래스(class)란 똑같은 무엇인가를 계속해서 만들어 낼 수 있는 설계 도면이고(과자 틀), \n",
    "객체(object)란 클래스로 만든 피조물(과자 틀을 사용해 만든 과자)을 뜻한다.  \n",
    "과자 틀 → 클래스 (class)  \n",
    "과자 틀에 의해서 만들어진 과자 → 객체 (object)\n",
    "\n",
    "- class : 함수 + 변수 모아놓은 것\n",
    "- 오브젝트(object) : 클래스를 써서 만든 것\n",
    "- 오브젝트(object) == 인스턴스(instance)\n",
    "- 클래스를 정의한 후, 그 클래스를 사용해서 데이터 객체(인스턴스)를 만들 수 있다.\n",
    "- 동일한 클래스에 의해 만들어진 각 객체들은 유사한 특징을 공유한다.\n",
    "- 모든 인스턴스에서 메소드(=코드)는 동일하지만, 속성(데이터)는 다르다.\n",
    "  * 메소드 : 코드 \n",
    "  * 속성 : 데이터 \n",
    "  * 인스턴스 : 클래스에 의해 만들어진 데이터 객체\n",
    "  * a = 클래스() 이렇게 만든 a는 객체이다. 그리고 a 객체는 클래스의 인스턴스이다. 즉 인스턴스라는 말은 특정 객체(a)가 어떤 클래스의 객체인지를 관계 위주로 설명할 때 사용"
   ]
  },
  {
   "cell_type": "code",
   "execution_count": null,
   "metadata": {},
   "outputs": [],
   "source": [
    "# 생성자(Constructor)란 객체가 생성될 때 자동으로 호출되는 메서드를 의미\n",
    "# 파이썬 메서드 이름으로 __init__를 사용하면 이 메서드는 생성자가 된다.\n",
    "# 클래스 생성자(인자가 없는 경우)\n",
    "class Kita:\n",
    "    def __init__(self):\n",
    "        self.var = \"kita\" # 인스턴스 멤버\n",
    "        print(\"kita 과정입니다.\")\n",
    "obj = Kita()\n",
    "print(obj.var)"
   ]
  },
  {
   "cell_type": "markdown",
   "metadata": {},
   "source": [
    "#### self \n",
    "- Python에서 클래스 정의 시 self 키워드는 인스턴스 메서드의 첫 번째 매개변수로 사용\n",
    "- self의 사용법\n",
    "    - 클래스의 인스턴스 메서드를 정의할 때, 첫 번째 매개변수로 self를 사용\n",
    "    - self를 사용하여 인스턴스 속성에 접근하거나 설정\n",
    "    - self를 통해 같은 객체의 다른 메서드를 호출\n",
    "    - 클래스로부터 객체를 생성할 때, Python은 자동으로 self를 첫 번째 매개변수로 전달\n",
    "    - self는 객체의 속성과 메서드를 해당 객체에 속한 네임스페이스에 바인딩\n",
    "    - self는 해당 서브클래스의 인스턴스를 가리키며, 이를 통해 부모 클래스의 메서드와 속성에 접근"
   ]
  },
  {
   "cell_type": "code",
   "execution_count": null,
   "metadata": {},
   "outputs": [],
   "source": [
    "# 인스턴스 메서드 정의\n",
    "class MyClass:\n",
    "    def method(self, arg1, arg2):\n",
    "        # 여기에서 self는 인스턴스 객체를 가리킵니다.\n",
    "        # arg1과 arg2는 전달된 인자입니다.\n"
   ]
  },
  {
   "cell_type": "code",
   "execution_count": null,
   "metadata": {},
   "outputs": [],
   "source": [
    "class MyClass:\n",
    "    def __init__(self, value):\n",
    "        self.instance_variable = value  # 인스턴스 변수 설정\n",
    "    \n",
    "    def method(self):\n",
    "        return self.instance_variable  # 인스턴스 변수 접근\n"
   ]
  },
  {
   "cell_type": "code",
   "execution_count": null,
   "metadata": {},
   "outputs": [],
   "source": [
    "class MyClass:\n",
    "    def method_one(self):\n",
    "        pass\n",
    "    \n",
    "    def method_two(self):\n",
    "        self.method_one()  # method_one을 호출\n"
   ]
  },
  {
   "cell_type": "code",
   "execution_count": null,
   "metadata": {},
   "outputs": [],
   "source": [
    "# 객체 생성시 자동 사용\n",
    "obj = MyClass(10)  # MyClass의 인스턴스 생성\n",
    "# __init__ 메서드가 호출되며 self는 여기서 obj입니다.\n"
   ]
  },
  {
   "cell_type": "code",
   "execution_count": 5,
   "metadata": {},
   "outputs": [
    {
     "name": "stdout",
     "output_type": "stream",
     "text": [
      "홍길동은 25세이며 computer을 전공했습니다\n",
      "홍길순은 27세이며 business을 전공했습니다\n",
      "홍길동\n",
      "business\n"
     ]
    }
   ],
   "source": [
    "# 클래스 생성자(인자가 있는 경우)\n",
    "class Kita:\n",
    "    def __init__(self,name,age,major):\n",
    "        self.name = name\n",
    "        self.age = age\n",
    "        self.major = major\n",
    "        print(f'{self.name}은 {self.age}세이며 {self.major}을 전공했습니다')\n",
    "Current Kernel Logo\n",
    "Python 3 (ipykernel) \n",
    "File\n",
    "Edit\n",
    "View\n",
    "Insert\n",
    "Cell\n",
    "Kernel\n",
    "Widgets\n",
    "Help\n",
    "\n",
    "# a = Kita()\n",
    "a = Kita('홍길동',25,'computer')\n",
    "b = Kita('홍길순',27,'business')\n",
    "print(a.name)\n",
    "print(b.major)"
   ]
  },
  {
   "cell_type": "code",
   "execution_count": 8,
   "metadata": {},
   "outputs": [
    {
     "name": "stdout",
     "output_type": "stream",
     "text": [
      "Hmkd 인스턴스 객체가 메모리에서 제거됩니다.\n"
     ]
    }
   ],
   "source": [
    "# 클래스 소멸자\n",
    "# 클래스 인스턴스 객체가 메모리에서 제거될 때 자동으로 호출되는 클래스 메소드\n",
    "\n",
    "class Kita:\n",
    "    def __del__(self):\n",
    "        print('Hmkd 인스턴스 객체가 메모리에서 제거됩니다.')\n",
    "obj = Kita()\n",
    "del obj"
   ]
  },
  {
   "cell_type": "markdown",
   "metadata": {},
   "source": [
    "과제7_1107 : 생성자만으로 구성된 클래스를 작성하고 객체 3개를 만들어서 결과를 출력하세요."
   ]
  },
  {
   "cell_type": "code",
   "execution_count": 1,
   "metadata": {},
   "outputs": [
    {
     "name": "stdout",
     "output_type": "stream",
     "text": [
      "3\n",
      "11\n",
      "31\n"
     ]
    }
   ],
   "source": [
    "class Test:\n",
    "    def __init__(self,a, b):\n",
    "        self.a = a\n",
    "        self.b = b\n",
    "        print(a+b)\n",
    "obj1 = Test(1, 2)\n",
    "obj2 = Test(3, 8)\n",
    "obj3 = Test(10, 21)"
   ]
  },
  {
   "cell_type": "markdown",
   "metadata": {},
   "source": [
    "과제8_1107 : 생성자, 메소드를 모두 포함하는 클래스를 작성하고 객체 3개를 만들어서 결과를 출력하세요."
   ]
  },
  {
   "cell_type": "code",
   "execution_count": 2,
   "metadata": {},
   "outputs": [
    {
     "name": "stdout",
     "output_type": "stream",
     "text": [
      "아반떼\n",
      "17000\n",
      "black\n",
      "\n",
      "털털털털\n",
      "부와아아아\n",
      "부웅부웅\n"
     ]
    }
   ],
   "source": [
    "class MyCar:\n",
    "    def __init__(self, name, color='white', price=2000):\n",
    "        self.name = name\n",
    "        self.color = color\n",
    "        self.price = price\n",
    "    \n",
    "    def car_sound(self):\n",
    "        if self.price > 15000:\n",
    "            print('부와아아아')\n",
    "        elif self.price > 10000:\n",
    "            print('부웅부웅')\n",
    "        else:\n",
    "            print('털털털털')\n",
    "\n",
    "a = MyCar('아반떼')\n",
    "b = MyCar('페라리','red',17000)\n",
    "c = MyCar('벤츠','black',11000)\n",
    "\n",
    "# 생성자 저장값 확인\n",
    "print(a.name)\n",
    "print(b.price)\n",
    "print(c.color)\n",
    "\n",
    "print()\n",
    "\n",
    "# 메소드 확인\n",
    "a.car_sound()\n",
    "b.car_sound()\n",
    "c.car_sound()"
   ]
  },
  {
   "cell_type": "markdown",
   "metadata": {},
   "source": [
    "## 클래스를 구성하는 요소\n",
    "- 클래스 선언: class 키워드와 대문자로 시작하는 이름 사용.\n",
    "- 생성자: \\__init__ 메서드로 인스턴스 초기화, self를 첫 인자로 사용.\n",
    "- 속성(Attributes): self.변수명 형태의 인스턴스 변수로 각 객체의 상태 정의.\n",
    "- 메서드(Methods): 객체의 동작을 정의하는 함수, 첫 인자로 self를 사용.\n",
    "- 상속(Inheritance): 다른 클래스의 기능을 확장 또는 수정.\n",
    "- 인스턴스화: 클래스 이름에 괄호를 추가하여 객체 인스턴스 생성.\n",
    "- self: 메서드와 속성에서 객체 자신을 참조.\n",
    "- 클래스 변수: 클래스 내 정의되고 모든 인스턴스에 공유.\n",
    "- 인스턴스 변수: self로 접근, 각 인스턴스에 고유한 데이터 저장.\n",
    "- 매직 메서드(특수 메서드): __로 둘러싸인 메서드로 내장 연산/함수 커스터마이즈."
   ]
  },
  {
   "cell_type": "code",
   "execution_count": null,
   "metadata": {},
   "outputs": [],
   "source": [
    "# 속성\n",
    "class Car:\n",
    "    def __init__(self, brand, model):\n",
    "        self.brand = brand\n",
    "        self.model = model\n"
   ]
  },
  {
   "cell_type": "code",
   "execution_count": null,
   "metadata": {},
   "outputs": [],
   "source": [
    "# 상속 : 기본 클래스 또는 부모 클래스\n",
    "class Animal:\n",
    "    def __init__(self, name):\n",
    "        self.name = name\n",
    "    \n",
    "    def speak(self):\n",
    "        raise NotImplementedError(\"Subclass must implement abstract method\")\n",
    "\n",
    "# 자식 클래스에서 Animal 클래스 상속\n",
    "class Dog(Animal):\n",
    "    def speak(self):\n",
    "        return f\"{self.name} says Woof!\"\n",
    "\n",
    "class Cat(Animal):\n",
    "    def speak(self):\n",
    "        return f\"{self.name} says Meow!\"\n",
    "\n"
   ]
  },
  {
   "cell_type": "code",
   "execution_count": null,
   "metadata": {},
   "outputs": [],
   "source": [
    "# 클래스 변수 vs 인스턴스 변수\n",
    "# 클래스 변수 : 클래스의 모든 인스턴스에 공유되는 변수. 클래스 정의 내부에서 선언되고, 클래스 이름을 사용하여 접근\n",
    "class Car:\n",
    "    wheels = 4  # 클래스 변수\n",
    "    \n",
    "    def __init__(self, brand, model):\n",
    "        self.brand = brand\n",
    "        self.model = model\n"
   ]
  },
  {
   "cell_type": "code",
   "execution_count": null,
   "metadata": {},
   "outputs": [],
   "source": [
    "# 매직 메서드\n",
    "class Book:\n",
    "    def __init__(self, title, author):\n",
    "        self.title = title\n",
    "        self.author = author\n",
    "\n",
    "    def __str__(self): # 객체를 문자열로 표현할 때 사용\n",
    "        return f\"{self.title} by {self.author}\""
   ]
  },
  {
   "cell_type": "markdown",
   "metadata": {},
   "source": [
    "과제1_1108 : 클래스 구성 요소와 관련 아래 사항에 대한 사례를 작성하세요.\n",
    "- 클래스 선언\n",
    "- 생성자 \n",
    "- 속성(attributes)\n",
    "- 메서드\n",
    "- 상속\n",
    "- 인스턴스화(객체 만들기)\n",
    "- 클래스 변수\n",
    "- 매직 메서드(특수 메서드) "
   ]
  },
  {
   "cell_type": "code",
   "execution_count": 1,
   "metadata": {},
   "outputs": [
    {
     "name": "stdout",
     "output_type": "stream",
     "text": [
      "MyHome\n",
      "8500\n",
      "나는 오발탄을 8500원 주고 샀다.\n",
      "오발탄 by 이범선\n"
     ]
    }
   ],
   "source": [
    "class Book:\n",
    "    def __init__(self, title, author):\n",
    "        self.title = title\n",
    "        self.author = author\n",
    "    \n",
    "    def __str__(self):  # 객체를 문자열로 표현할 때 사용\n",
    "        return f\"{self.title} by {self.author}\"\n",
    "    \n",
    "class MyBook(Book):\n",
    "    location = 'MyHome' \n",
    "    def __init__(self, title, author, price):\n",
    "        super().__init__(title, author)\n",
    "        self.price = price\n",
    "    \n",
    "    def how_much(self):\n",
    "        return f\"나는 {self.title}을 {self.price}원 주고 샀다.\"\n",
    "    \n",
    "b1 = MyBook(\"오발탄\",\"이범선\",\"8500\")\n",
    "\n",
    "print(b1.location)\n",
    "print(b1.price)\n",
    "print(b1.how_much())\n",
    "print(b1)"
   ]
  },
  {
   "cell_type": "code",
   "execution_count": 3,
   "metadata": {},
   "outputs": [
    {
     "name": "stdout",
     "output_type": "stream",
     "text": [
      "kita 과정입니다.\n",
      "안녕하세요\n",
      "안녕하세요\n"
     ]
    }
   ],
   "source": [
    "class MyClass:\n",
    "    var = '안녕하세요' # 클래스 변수\n",
    "    def __init__(self): # 생성자는 객체 만들 때 자동으로 호출\n",
    "        self.name='kita' # 지역변수, 인스턴스 변수       \n",
    "        print(f'{self.name} 과정입니다.')\n",
    "    def sayHello(self): # 인스턴스 메소드        \n",
    "        return self.var\n",
    "obj = MyClass()\n",
    "print(obj.var)\n",
    "print(obj.sayHello())"
   ]
  },
  {
   "cell_type": "code",
   "execution_count": 6,
   "metadata": {},
   "outputs": [
    {
     "name": "stdout",
     "output_type": "stream",
     "text": [
      "안녕\n",
      "안녕하세요\n"
     ]
    }
   ],
   "source": [
    "# 클래스 변수는 메소드 바깥에서 선언되고 인스턴스 변수는 메소드 안에서 self와 함께 선언\n",
    "\n",
    "class MyClass:\n",
    "    var = '안녕하세요' # 클래스 변수\n",
    "    def sayHello(self): # 인스턴스 메소드\n",
    "        param1 = '안녕' # 지역 변수\n",
    "        self.param2 = '하이' # 인스턴스 변수\n",
    "        print(param1)\n",
    "#         print(var)\n",
    "        print(self.var)\n",
    "        \n",
    "obj = MyClass()\n",
    "print(obj.var)\n",
    "obj.sayHello()\n",
    "\n",
    "# obj.param1 에러 발생"
   ]
  },
  {
   "cell_type": "markdown",
   "metadata": {},
   "source": [
    "과제2_1108 : 업무미팅이 2시임을 알려주는 자동 이메일을 클래스 AutoEmail을 작성하여 아래와 같이 출력하세요.(세가지 방식으로 작성 : 생성자, 메서드, 생성자/메서드)\n",
    "\n",
    "안녕하세요. kevin님, 업무미팅은 2시입니다."
   ]
  },
  {
   "cell_type": "code",
   "execution_count": 4,
   "metadata": {},
   "outputs": [
    {
     "name": "stdout",
     "output_type": "stream",
     "text": [
      "안녕하세요. Kevin님, 업무 미팅은 2시 입니다.\n",
      "안녕하세요. Kevin님, 업무 미팅은 2시 입니다.\n",
      "안녕하세요. Kevin님, 업무 미팅은 2시 입니다.\n"
     ]
    }
   ],
   "source": [
    "# 2-1\n",
    "class Email:\n",
    "    def __init__(self, name, time):\n",
    "        self.time = time\n",
    "        self.name = name\n",
    "        print(f'안녕하세요. {name}님, 업무 미팅은 {time} 입니다.')\n",
    "\n",
    "obj = Email('Kevin','2시')\n",
    "\n",
    "# 2-2\n",
    "class Email:\n",
    "    def greeting(self, name):\n",
    "        print(f'안녕하세요. {name}님,', end = ' ')\n",
    "    def meeting(self, time):\n",
    "        print(f'업무 미팅은 {time} 입니다.')\n",
    "\n",
    "obj = Email()\n",
    "obj.greeting('Kevin')\n",
    "obj.meeting('2시')\n",
    "        \n",
    "# 2-3\n",
    "class Email:\n",
    "    def __init__(self, name, time):\n",
    "        self.name = name\n",
    "        self.time = time\n",
    "        \n",
    "    def greeting(self):\n",
    "        print(f'안녕하세요. {self.name}님,', end = ' ')\n",
    "        \n",
    "    def meeting(self):\n",
    "        print(f'업무 미팅은 {self.time} 입니다.')\n",
    "        \n",
    "obj = Email('Kevin','2시')\n",
    "obj.greeting()\n",
    "obj.meeting()"
   ]
  },
  {
   "cell_type": "code",
   "execution_count": 1,
   "metadata": {},
   "outputs": [
    {
     "name": "stdout",
     "output_type": "stream",
     "text": [
      "안녕하세요. kevin님 업무미팅은 2시입니다.\n"
     ]
    }
   ],
   "source": [
    "class AutoEmail:\n",
    "    def __init__(self,name):\n",
    "        self.name=name\n",
    "        time=2\n",
    "        print(\"안녕하세요. %s님 업무미팅은 %d시입니다.\"%(name,time))\n",
    "    \n",
    "obj=AutoEmail('kevin')"
   ]
  },
  {
   "cell_type": "code",
   "execution_count": 2,
   "metadata": {},
   "outputs": [
    {
     "name": "stdout",
     "output_type": "stream",
     "text": [
      "안녕하세요. kevin님, 업무미팅은 2시입니다.\n"
     ]
    }
   ],
   "source": [
    "class meet_time:\n",
    "    def meet(self,name):\n",
    "        self.name = name\n",
    "        print(f'안녕하세요. {self.name}님, 업무미팅은 2시입니다.')\n",
    "        \n",
    "obj = meet_time()\n",
    "\n",
    "obj.meet('kevin')"
   ]
  },
  {
   "cell_type": "code",
   "execution_count": 5,
   "metadata": {},
   "outputs": [
    {
     "name": "stdout",
     "output_type": "stream",
     "text": [
      "안녕하세요 Kevin님, 업무미팅은 2시입니다.\n",
      "안녕하세요 James님, 업무미팅은 5시입니다.\n"
     ]
    }
   ],
   "source": [
    "class AutoEmail:\n",
    "    def __init__(self, name, time):\n",
    "        self.name = name\n",
    "        self.time = time\n",
    "    def send(self):\n",
    "        return f\"안녕하세요 {self.name}님, 업무미팅은 {self.time}시입니다.\"\n",
    "        \n",
    "run1 = AutoEmail(\"Kevin\",2)\n",
    "run2 = AutoEmail(\"James\",5)\n",
    "print(run1.send())\n",
    "print(run2.send())"
   ]
  },
  {
   "cell_type": "code",
   "execution_count": 7,
   "metadata": {},
   "outputs": [
    {
     "name": "stdout",
     "output_type": "stream",
     "text": [
      "안녕하세요\n",
      "kevin! 다음에 보자\n"
     ]
    }
   ],
   "source": [
    "# 인스턴스 메소드는 첫 번째 인자가 반드시 self여야 한다.\n",
    "class MyClass:\n",
    "    def sayHello(self):\n",
    "        print('안녕하세요')\n",
    "    def sayBye(self,name):\n",
    "        print(f'{name}! 다음에 보자')\n",
    "        \n",
    "obj=MyClass()\n",
    "obj.sayHello()\n",
    "obj.sayBye('kevin')"
   ]
  },
  {
   "cell_type": "code",
   "execution_count": 11,
   "metadata": {},
   "outputs": [
    {
     "name": "stdout",
     "output_type": "stream",
     "text": [
      "안녕하세요\n",
      "kevin! 다음에 보자\n"
     ]
    }
   ],
   "source": [
    "class MyClass:\n",
    "    def __init__(self):        \n",
    "        print(\"생성자를 만들었습니다.\")\n",
    "    def sayHello(self):\n",
    "        print(\"안녕하세요\")\n",
    "    def sayBye(self,name):\n",
    "        print(f\"{name}! 다음에 보자\")\n",
    "        \n",
    "obj=MyClass()\n",
    "obj.sayHello()\n",
    "obj.sayBye('kevin')"
   ]
  },
  {
   "cell_type": "code",
   "execution_count": null,
   "metadata": {},
   "outputs": [],
   "source": [
    "# Q. 클래스 MyClass를 작성하고 객체를 생성하여 아래와 같이 출력하세요(생성자 사용)\n",
    "# kevin, 안녕하세요\n",
    "# kevin! 다음에 보자"
   ]
  },
  {
   "cell_type": "code",
   "execution_count": 12,
   "metadata": {},
   "outputs": [
    {
     "name": "stdout",
     "output_type": "stream",
     "text": [
      "kevin, 안녕하세요.\n",
      "kevin. 다음에 보자.\n"
     ]
    }
   ],
   "source": [
    "class MyClass:\n",
    "    def __init__(self):\n",
    "        name = \"kevin\"\n",
    "        print(f\"{name}, 안녕하세요.\")\n",
    "        print(f\"{name}. 다음에 보자.\")        \n",
    "        \n",
    "run = MyClass()"
   ]
  },
  {
   "cell_type": "code",
   "execution_count": 31,
   "metadata": {},
   "outputs": [
    {
     "name": "stdout",
     "output_type": "stream",
     "text": [
      "JAMES, 안녕하세요.\n",
      "JAMES! 다음에 봐요.\n"
     ]
    }
   ],
   "source": [
    "class printf:\n",
    "    def __init__(self,name):\n",
    "        self.name=name\n",
    "        \n",
    "    def sayhello(self):\n",
    "        print(f\"{self.name}, 안녕하세요.\")\n",
    "        \n",
    "    def saybye(self):\n",
    "        print(f\"{self.name}! 다음에 봐요.\")\n",
    "        \n",
    "pf=printf('JAMES')\n",
    "pf.sayhello()\n",
    "pf.saybye()"
   ]
  },
  {
   "cell_type": "code",
   "execution_count": 13,
   "metadata": {},
   "outputs": [
    {
     "name": "stdout",
     "output_type": "stream",
     "text": [
      "1\n",
      "2\n",
      "3\n"
     ]
    }
   ],
   "source": [
    "class MyClass: \n",
    "    value = 0 # 클래스 변수를 선언 \n",
    "    def __init__(self): # 초기화 : 인스턴스 생성 \n",
    "        MyClass.value += 1 \n",
    "        \n",
    "if __name__ == \"__main__\": \n",
    "    a = MyClass() # 인스턴스 a를 생성한다.    \n",
    "    print(MyClass.value) # 1   \n",
    "    b = MyClass() # 인스턴스 b를 생성한다. \n",
    "    print(MyClass.value) # 2\n",
    "    c = MyClass() # 인스턴스 c를 생성한다. \n",
    "    print(MyClass.value) # 3 "
   ]
  },
  {
   "cell_type": "code",
   "execution_count": 6,
   "metadata": {},
   "outputs": [
    {
     "name": "stdout",
     "output_type": "stream",
     "text": [
      "0\n",
      "1 1\n",
      "2 2 2\n"
     ]
    }
   ],
   "source": [
    "# 클래스 변수와 인스턴스 변수\n",
    "class User:\n",
    "    num_users = 0               # class 변수\n",
    "    def __init__(self, name):\n",
    "        self.name = name        # instance 변수\n",
    "        User.num_users += 1\n",
    "\n",
    "print(User.num_users)\n",
    "u = User('honux')\n",
    "print(User.num_users, u.num_users)\n",
    "u2 = User('crong')\n",
    "print(User.num_users, u.num_users, u2.num_users)"
   ]
  },
  {
   "cell_type": "code",
   "execution_count": 14,
   "metadata": {},
   "outputs": [
    {
     "name": "stdout",
     "output_type": "stream",
     "text": [
      "['__class__', '__delattr__', '__dict__', '__dir__', '__doc__', '__eq__', '__format__', '__ge__', '__getattribute__', '__gt__', '__hash__', '__init__', '__init_subclass__', '__le__', '__lt__', '__module__', '__ne__', '__new__', '__reduce__', '__reduce_ex__', '__repr__', '__setattr__', '__sizeof__', '__str__', '__subclasshook__', '__weakref__', 'value']\n"
     ]
    }
   ],
   "source": [
    "# 파이썬에서는 모든 게 다 객체(Object)\n",
    "# dir()은 어떤 객체를 인자로 넣어주면 해당 객체가 어떤 메서드를 가지고 있는지 반환\n",
    "print(dir(a))"
   ]
  },
  {
   "cell_type": "markdown",
   "metadata": {},
   "source": [
    "## 객체 지향 프로그래밍 (Object-Oriented Programming)\n",
    "- 클래스 인스턴스는 객체(object)라고도 하며, 이렇게 클래스를 정의하고 객체를 만드는 패턴을 객체 지향 프로그래밍(OOP)이라고 함\n",
    "- 인스턴스를 불러온다는 건 클래스를 가져와 객체로 바꿔준다는 건데, type() 함수를 사용하는 건 그 반대\n",
    "- 객체의 type을 확인해보면 해당 객체가 어떤 클래스의 인스턴스인지를 확인\n",
    "- 파이썬에서 __main__은 “현재 실행 중인 파일”을 의미"
   ]
  },
  {
   "cell_type": "markdown",
   "metadata": {},
   "source": [
    "- 파이썬에서 type에 나오는 클래스와 객체를 만들기 위한 클래스는 기본적으로 동일한 개념\n",
    "- 파이썬의 모든 것은 객체이고, 각 객체는 특정 클래스의 인스턴스. type은 파이썬 내장 함수로, 주어진 객체의 타입을 반환. 클래스 자체도 객체이며, type을 사용하여 클래스의 타입을 확인할 수 있다.\n",
    "\n",
    "- 클래스를 정의하면, 이 클래스 자체는 type의 인스턴스. 즉, 클래스는 type이라는 메타클래스의 객체로, 다시 말해 클래스를 만드는 데 사용되는 '클래스의 클래스'. 이 메타클래스 type은 파이썬에서 클래스를 동적으로 생성하는 데 사용할 수 있다."
   ]
  },
  {
   "cell_type": "code",
   "execution_count": 15,
   "metadata": {},
   "outputs": [
    {
     "name": "stdout",
     "output_type": "stream",
     "text": [
      "<class '__main__.Test'>\n"
     ]
    }
   ],
   "source": [
    "# Q. 임의의 클래스를 작성한 후 인스턴스를 생성하고 그것의 타입을 확인하세요.\n",
    "class Test:\n",
    "    pass\n",
    "\n",
    "test = Test()\n",
    "print(type(test))"
   ]
  },
  {
   "cell_type": "markdown",
   "metadata": {},
   "source": [
    "## 클래스 상속\n",
    "- 어떤 클래스가 가지고 있는 모든 멤버나 메소드를 상속받는 클래스가 모두 사용할 수 있도록 해주는 것. \n",
    "- 상속을 해주는 클래스가 부모클래스(슈퍼), 상속을 받는 클래스가 자식클래스(서브)라 함: class 자식클래스(부모클래스)\n",
    "- 자식클래스는 여러 부모클래스로 부터 상속받을 수 있으며 다중상속이라 함. class 자식클래스(부모클래스1, 부모클래스2,..)"
   ]
  },
  {
   "cell_type": "code",
   "execution_count": 16,
   "metadata": {},
   "outputs": [
    {
     "name": "stdout",
     "output_type": "stream",
     "text": [
      "3\n",
      "6\n",
      "1\n"
     ]
    }
   ],
   "source": [
    "class Sum:\n",
    "    def sum(self,n1,n2):\n",
    "        return n1+n2\n",
    "    \n",
    "class Mul:\n",
    "    def mul(self,n1,n2):\n",
    "        return n1*n2\n",
    "    \n",
    "class Cal(Sum,Mul):\n",
    "    def sub(self,n1,n2):\n",
    "        return n1 - n2\n",
    "    \n",
    "obj = Cal()\n",
    "print(obj.sum(1,2))\n",
    "print(obj.mul(3,2))\n",
    "print(obj.sub(3,2))"
   ]
  },
  {
   "cell_type": "markdown",
   "metadata": {},
   "source": [
    "과제3_1108 : 사용자 함수를 작성하여 기본가격 1000에 입력 받은 값을 추가한 가격을 산출하세요. \n",
    "- (지역변수, 전역변수 2가지 방법) \n",
    "- return 사용, global 변수 사용 두가지 경우로 수행"
   ]
  },
  {
   "cell_type": "code",
   "execution_count": 5,
   "metadata": {},
   "outputs": [
    {
     "name": "stdout",
     "output_type": "stream",
     "text": [
      "지역변수 사용 : 1100\n",
      "전역변수 사용 : 1100\n"
     ]
    }
   ],
   "source": [
    "num = 1000\n",
    "class Sum1:\n",
    "    num = 1000\n",
    "    def sum(self, n):\n",
    "        return n+self.num\n",
    "class Sum2:\n",
    "    \n",
    "    global num\n",
    "    def sum(self, n):\n",
    "        return n+num\n",
    "    \n",
    "obj1 = Sum1()\n",
    "obj2 = Sum2()\n",
    "print(f'지역변수 사용 : {obj1.sum(100)}')\n",
    "print(f'전역변수 사용 : {obj2.sum(100)}')"
   ]
  },
  {
   "cell_type": "code",
   "execution_count": 17,
   "metadata": {},
   "outputs": [
    {
     "name": "stdout",
     "output_type": "stream",
     "text": [
      "추가할 가격을 입력해 주세요.1000\n",
      "2000\n",
      "추가할 가격을 입력해 주세요.1000\n",
      "2000\n"
     ]
    }
   ],
   "source": [
    "def tplusr():\n",
    "    plus = input(\"추가할 가격을 입력해 주세요.\")\n",
    "    if plus.isdigit():\n",
    "        price = 1000 + int(plus)\n",
    "        return price\n",
    "    else:\n",
    "        print(\"숫자를 입력해 주세요.\")\n",
    "        \n",
    "tr = tplusr()\n",
    "print(tr)\n",
    "\n",
    "price = 1000\n",
    "plus = input(\"추가할 가격을 입력해 주세요.\")\n",
    "def tplusg():\n",
    "    global price, plus\n",
    "    if plus.isdigit():\n",
    "        price = price + int(plus)\n",
    "        return(price)\n",
    "    else:\n",
    "        print(\"숫자를 입력해 주세요.\")\n",
    "        \n",
    "tg = tplusg()\n",
    "print(tg)"
   ]
  },
  {
   "cell_type": "code",
   "execution_count": 18,
   "metadata": {},
   "outputs": [
    {
     "name": "stdout",
     "output_type": "stream",
     "text": [
      "추가 가격을 입력해 주세요> 500\n",
      "가격: 1500원\n"
     ]
    }
   ],
   "source": [
    "# 지역변수\n",
    "p = int(input('추가 가격을 입력해 주세요> '))\n",
    "def price(p):\n",
    "    b = 1000\n",
    "    b += p\n",
    "    return b\n",
    "print('가격: {}원'.format(price(p)))"
   ]
  },
  {
   "cell_type": "code",
   "execution_count": 35,
   "metadata": {},
   "outputs": [
    {
     "name": "stdout",
     "output_type": "stream",
     "text": [
      "추가 가격을 입력해 주세요> 500\n",
      "가격: 1500원\n"
     ]
    }
   ],
   "source": [
    "# global 변수 사용\n",
    "b = 1000\n",
    "def price():\n",
    "    global b\n",
    "    p = int(input('추가 가격을 입력해 주세요> '))\n",
    "    b += p\n",
    "    return b\n",
    "print('가격: {}원'.format(price()))"
   ]
  },
  {
   "cell_type": "code",
   "execution_count": null,
   "metadata": {},
   "outputs": [],
   "source": [
    "# [과제] 기본가격 1000원인 3개의 상품에 대하여 임의의 추가 가격을 인수로 대입시 더한 가격을 산출하세요\n",
    "# (클래스를 이용)"
   ]
  },
  {
   "cell_type": "code",
   "execution_count": 19,
   "metadata": {},
   "outputs": [
    {
     "name": "stdout",
     "output_type": "stream",
     "text": [
      "상품 A의 가격을 입력해주세요: 1000\n",
      "상품 B의 가격을 입력해주세요: 1000\n",
      "상품 C의 가격을 입력해주세요: 1000\n",
      "상품 A,B,C의 가격은 각 2000,2000,2000입니다.\n"
     ]
    }
   ],
   "source": [
    "class prod:\n",
    "    def plus(self,x,X):\n",
    "        p=int(input(f\"상품 {X}의 가격을 입력해주세요: \"))\n",
    "        return x+p\n",
    "\n",
    "a,b,c=1000,1000,1000        \n",
    "pd=prod()\n",
    "\n",
    "a=pd.plus(a,'A')\n",
    "b=pd.plus(b,'B')\n",
    "c=pd.plus(c,'C')\n",
    "\n",
    "print(f\"상품 A,B,C의 가격은 각 {a},{b},{c}입니다.\")"
   ]
  },
  {
   "cell_type": "code",
   "execution_count": 25,
   "metadata": {},
   "outputs": [
    {
     "name": "stdout",
     "output_type": "stream",
     "text": [
      "2000\n",
      "2000\n",
      "2000\n"
     ]
    }
   ],
   "source": [
    "# 생성자 - 수정\n",
    "class Sum:\n",
    "    def __init__(self,data):\n",
    "        self.data = data\n",
    "        \n",
    "\n",
    "        \n",
    "a = Sum()\n",
    "\n",
    "print(a.A(500))\n",
    "print(a.B(1000))\n",
    "print(a.C(5000))"
   ]
  },
  {
   "cell_type": "code",
   "execution_count": 28,
   "metadata": {},
   "outputs": [
    {
     "name": "stdout",
     "output_type": "stream",
     "text": [
      "1500\n",
      "2000\n",
      "2500\n"
     ]
    }
   ],
   "source": [
    "# 클래스 메소드\n",
    "class sumi:\n",
    "    def A(self, data):\n",
    "        return data+1000\n",
    "    def B(self, data):\n",
    "        return data+1000\n",
    "    def C(self, data):\n",
    "        return data+1000\n",
    "a=sumi()\n",
    "print(a.A(500))\n",
    "print(a.B(1000))\n",
    "print(a.C(1500))"
   ]
  },
  {
   "cell_type": "code",
   "execution_count": null,
   "metadata": {},
   "outputs": [],
   "source": [
    "class Order:\n",
    "    def __init__(self):\n",
    "        self.p = 1000\n",
    "        \n",
    "#     def __init__(self,p=1000):\n",
    "#         self.p = p\n",
    "        \n",
    "    def order(self,price):        \n",
    "     \n",
    "        self.p += price\n",
    "        return self.p\n",
    "    \n",
    "pd1 = Order()\n",
    "pd2 = Order()\n",
    "pd3 = Order()\n",
    "\n",
    "print(pd1.order(1000))\n",
    "print(pd2.order(2000))\n",
    "print(pd3.order(3000))  "
   ]
  },
  {
   "cell_type": "code",
   "execution_count": null,
   "metadata": {},
   "outputs": [],
   "source": [
    "# [과제]  기본가격 1000원인 2개의 상품에 대하여 임의의 추가 가격을 입력시 아래 두개의 방식으로 산출하세요\n",
    "# (class 이용)\n",
    "# - price1 : 기본가격 + 추가가격\n",
    "# - price2 : (기본가격 + 추가가격) * 90%"
   ]
  },
  {
   "cell_type": "code",
   "execution_count": 31,
   "metadata": {},
   "outputs": [
    {
     "name": "stdout",
     "output_type": "stream",
     "text": [
      "추가 가격을 입력\n",
      ">1000\n",
      "- price1 : 2000\n",
      "- price2 : 1800\n"
     ]
    }
   ],
   "source": [
    "# 생성자\n",
    "class PlusPrice2:\n",
    "    def __init__(self, plus):\n",
    "        self.price1 = 1000+plus\n",
    "        self.price2 = (1000+plus)*0.9\n",
    "        \n",
    "a = int(input(\"추가 가격을 입력\\n>\"))\n",
    "\n",
    "result = PlusPrice2(a)\n",
    "print(f\"- price1 : {result.price1}\\n- price2 : {result.price2 :.0f}\")"
   ]
  },
  {
   "cell_type": "code",
   "execution_count": 33,
   "metadata": {},
   "outputs": [
    {
     "name": "stdout",
     "output_type": "stream",
     "text": [
      "추가가격> 1000\n",
      "price1 : 2000\n",
      "price2 : 1800\n"
     ]
    }
   ],
   "source": [
    "# 클래스 메소드\n",
    "class Price:\n",
    "    p = int(input('추가가격> '))\n",
    "    def setprice(self, p):\n",
    "        self.p = p\n",
    "    def sum(self):\n",
    "        b = 1000\n",
    "        b += self.p \n",
    "        return b\n",
    "    def discount(self):\n",
    "        b = 1000\n",
    "        b += self.p\n",
    "        b *= 0.9\n",
    "        return b\n",
    "    \n",
    "price1 = Price()\n",
    "print(f'price1 : {price1.sum()}')\n",
    "price2 = Price()\n",
    "print(f'price2 : {price2.discount() :.0f}')"
   ]
  },
  {
   "cell_type": "markdown",
   "metadata": {},
   "source": [
    "과제4_1108 : 4칙 연산 기능을 포함한 Cal4 클래스(생성자 이용)를 작성하고 이 클래스를 이용하여 cal 계산기 객체를 \n",
    "만든 후 두개의 수  1000, 200에 대한 사칙연산을 수행하세요."
   ]
  },
  {
   "cell_type": "code",
   "execution_count": 6,
   "metadata": {},
   "outputs": [
    {
     "name": "stdout",
     "output_type": "stream",
     "text": [
      "1000 + 200 = 1200\n",
      "1000 - 200 = 800\n",
      "1000 * 200 = 200000\n",
      "1000 / 200 = 5.0\n"
     ]
    }
   ],
   "source": [
    "class Cal4:\n",
    "    def __init__(self,num1,num2):\n",
    "        self.num1 = num1\n",
    "        self.num2 = num2\n",
    "        print(f\"{self.num1} + {self.num2} = {self.num1+self.num2}\")\n",
    "        print(f\"{self.num1} - {self.num2} = {self.num1-self.num2}\")\n",
    "        print(f\"{self.num1} * {self.num2} = {self.num1*self.num2}\")\n",
    "        print(f\"{self.num1} / {self.num2} = {self.num1/self.num2}\")\n",
    "\n",
    "a = Cal4(1000,200)"
   ]
  },
  {
   "cell_type": "code",
   "execution_count": 18,
   "metadata": {},
   "outputs": [
    {
     "data": {
      "text/plain": [
       "1200"
      ]
     },
     "execution_count": 18,
     "metadata": {},
     "output_type": "execute_result"
    }
   ],
   "source": [
    "# 생성자 생략 - default\n",
    "class Cal4:\n",
    "    def __init__(self):\n",
    "        pass\n",
    "    def sum(self,n1,n2):\n",
    "        return n1+n2\n",
    "    def mul(self,n1,n2):\n",
    "        return n1*n2\n",
    "    def sub(self,n1,n2):\n",
    "        return n1-n2\n",
    "    def div(self,n1,n2):\n",
    "        return n1//n2\n",
    "\n",
    "obj=Cal4()\n",
    "obj.sum(1000,200)"
   ]
  },
  {
   "cell_type": "code",
   "execution_count": 13,
   "metadata": {},
   "outputs": [
    {
     "name": "stdout",
     "output_type": "stream",
     "text": [
      "1200\n",
      "200000\n",
      "800\n",
      "5\n"
     ]
    }
   ],
   "source": [
    "class Cal4:\n",
    "    def set_data(self,first,second):\n",
    "        self.first=first\n",
    "        self.second=second\n",
    "    def sum(self):\n",
    "        result = self.first + self.second\n",
    "        return print(result)\n",
    "    def mul(self):\n",
    "        result = self.first * self.second\n",
    "        return print(result)\n",
    "    def sub(self):\n",
    "        result = self.first - self.second\n",
    "        return print(result)\n",
    "    def div(self):\n",
    "        result = self.first // self.second\n",
    "        return print(result)\n",
    "    \n",
    "obj=Cal4()\n",
    "obj.set_data(1000,200)\n",
    "\n",
    "obj.sum()\n",
    "obj.mul()\n",
    "obj.sub()\n",
    "obj.div()"
   ]
  },
  {
   "cell_type": "code",
   "execution_count": 35,
   "metadata": {},
   "outputs": [
    {
     "name": "stdout",
     "output_type": "stream",
     "text": [
      "덧셈: 1200\n",
      "뺄셈: 800\n",
      "곱셈: 200000\n",
      "나눗셈: 5.0\n"
     ]
    }
   ],
   "source": [
    "class Cal4:\n",
    "    def __init__(self, num1, num2):\n",
    "        self.num1 = num1\n",
    "        self.num2 = num2\n",
    "    \n",
    "    def add(self):\n",
    "        return self.num1 + self.num2\n",
    "    def sub(self):\n",
    "        return self.num1 - self.num2\n",
    "    def mul(self):\n",
    "        return self.num1 * self.num2\n",
    "    def div(self):\n",
    "        return self.num1 / self.num2\n",
    "    \n",
    "cal = Cal4(1000, 200)\n",
    "print(f'덧셈: {cal.add()}')\n",
    "print(f'뺄셈: {cal.sub()}')\n",
    "print(f'곱셈: {cal.mul()}')\n",
    "print(f'나눗셈: {cal.div()}')"
   ]
  },
  {
   "cell_type": "code",
   "execution_count": 37,
   "metadata": {},
   "outputs": [
    {
     "data": {
      "text/plain": [
       "'분모가 0입니다.'"
      ]
     },
     "execution_count": 37,
     "metadata": {},
     "output_type": "execute_result"
    }
   ],
   "source": [
    "class cal:\n",
    "    def __init__(self,a,b):\n",
    "        self.plus1 = a+b\n",
    "        self.minus1 = a-b\n",
    "        self.display1 = a*b\n",
    "        if b != 0:\n",
    "            self.division1 =a/b \n",
    "        else:\n",
    "            self.division1 = \"분모가 0입니다.\"\n",
    "    def plus(self):\n",
    "        return self.plus1\n",
    "    def minus(self):\n",
    "        return self.minus1\n",
    "    def display(self):\n",
    "        return self.display1\n",
    "    def division(self):\n",
    "        return self.division1\n",
    "\n",
    "cal(1000,0).division()"
   ]
  },
  {
   "cell_type": "code",
   "execution_count": null,
   "metadata": {},
   "outputs": [],
   "source": [
    "# Q. 두개의 수를 입력한 후 두개의 수에 대한 사칙연산을 수행하세요.(0을 입력한 경우 다시 입력하도록 조치)"
   ]
  },
  {
   "cell_type": "code",
   "execution_count": 39,
   "metadata": {},
   "outputs": [
    {
     "name": "stdout",
     "output_type": "stream",
     "text": [
      "입력1> 0\n",
      "입력2> 0\n",
      "0이 아닌 수를 입력하세요!\n",
      "입력1> 1\n",
      "입력2> 0\n",
      "0이 아닌 수를 입력하세요!\n",
      "입력1> 5\n",
      "입력2> 8\n",
      "덧셈: 13, 뺄셈: -3, 곱셈: 40, 나눗셈: 0.62\n"
     ]
    }
   ],
   "source": [
    "class Cal4:\n",
    "  \n",
    "    def __init__(self,first,second):\n",
    "        self.first = first\n",
    "        self.second = second\n",
    "    def sum(self):\n",
    "        result = self.first + self.second\n",
    "        return result\n",
    "    def sub(self):\n",
    "        result = self.first - self.second\n",
    "        return result\n",
    "    def mul(self):\n",
    "        result = self.first * self.second\n",
    "        return result\n",
    "    def div(self):\n",
    "        result = round(self.first / self.second, 2)\n",
    "        return result\n",
    "\n",
    "while 1:\n",
    "    first = int(input('입력1> '))\n",
    "    second = int(input('입력2> '))\n",
    "    if first == 0 or second == 0:\n",
    "        print('0이 아닌 수를 입력하세요!')\n",
    "    else:\n",
    "        cal = Cal4(first,second)\n",
    "        print(f'덧셈: {cal.sum()}, 뺄셈: {cal.sub()}, 곱셈: {cal.mul()}, 나눗셈: {cal.div()}')\n",
    "        break"
   ]
  },
  {
   "cell_type": "markdown",
   "metadata": {},
   "source": [
    "구조지향 vs 객체지향\n",
    "- 구조적 프로그래밍\n",
    "  - 프로그램 작업을 수행하는 함수와 데이터를 처리하는 데 필요한 입력 및 출력으로 구성\n",
    "  - 이 접근법은 더 작은 문제로 나눌 수 있는 큰 문제에서 잘 작동\n",
    "  - 기능적 분해를 통해 문제를 해결하고, if, else, switch, while, for 등의 제어 구조를 사용하여 프로그램의 흐름을 제어\n",
    "\n",
    "- 객체지향 프로그래밍(OOP)\n",
    "  - 데이터와 그 데이터를 조작하는 연산을 객체라는 단일 구조로 결합\n",
    "  - 객체는 클래스로부터 생성되며, 클래스는 객체의 특성과 가능한 동작을 정의\n",
    "  - OOP는 캡슐화, 상속, 다형성 같은 개념을 사용하여 코드의 재사용성, 확장성 및 관리 용이성을 향상시킨다."
   ]
  },
  {
   "cell_type": "markdown",
   "metadata": {},
   "source": [
    "과제5_1108 : 직원 채용, 직원 퇴직 관리를 하는 프로그램밍을 구조지향, 객체지향으로 각각 작성하세요.\n",
    "- def add_employee(employees, name, position):\n",
    "- def remove_employee(employees, name):"
   ]
  },
  {
   "cell_type": "code",
   "execution_count": 19,
   "metadata": {},
   "outputs": [
    {
     "name": "stdout",
     "output_type": "stream",
     "text": [
      "추가할 직원 이름을 입력하세요: 유빈\n",
      "추가할 직원의 직급을 입력하세요: 과장\n",
      "유빈 과장 추가되었습니다.\n",
      "{'Alice': '과장', 'Bob': '차장', 'Chris': '대리', '유빈': '과장'}\n",
      "더 추가하시겠습니까? (y,n): n\n",
      "사용해주셔서 감사합니다. 프로그램을 종료합니다.\n",
      "삭제할 직원 이름을 입력하세요: Alice\n",
      "Alice 삭제되었습니다.\n",
      "{'Bob': '차장', 'Chris': '대리', '유빈': '과장'}\n",
      "더 삭제하시겠습니까? (y,n): n\n",
      "사용해주셔서 감사합니다. 프로그램을 종료합니다.\n"
     ]
    }
   ],
   "source": [
    "# 구조지향\n",
    "def add_employee(employees, name, position):\n",
    "    if name in employees:\n",
    "        print(\"이미 리스트에 존재하는 직원입니다.\")\n",
    "    else:\n",
    "        employees[name] = position\n",
    "        print(f\"{name} {position} 추가되었습니다.\")\n",
    "    return employees\n",
    "\n",
    "def remove_employee(employees,name):\n",
    "    try:\n",
    "        del employees[name]\n",
    "        print(f\"{name} 삭제되었습니다.\")\n",
    "    except:\n",
    "        print(\"존재하지 않는 이름입니다.\")\n",
    "    return employees\n",
    "\n",
    "# employees = {'Alice': '과장', 'Bob':'차장', 'Chris': '대리'}\n",
    "# add_employee(employees,'David','사원')\n",
    "\n",
    "def main():\n",
    "    employees = {'Alice': '과장', 'Bob':'차장', 'Chris': '대리'}  \n",
    "    while 1:\n",
    "        name = input(\"추가할 직원 이름을 입력하세요: \")\n",
    "        position = input(\"추가할 직원의 직급을 입력하세요: \")\n",
    "        add_employee(employees, name, position)\n",
    "        print(employees)\n",
    "        addmore = input(\"더 추가하시겠습니까? (y,n): \")\n",
    "        if addmore ==\"y\":\n",
    "            continue\n",
    "        elif addmore ==\"n\":\n",
    "            print(\"사용해주셔서 감사합니다. 프로그램을 종료합니다.\")\n",
    "            break\n",
    "        else:\n",
    "            print(\"잘못입력하셨습니다. 프로그램을 종료합니다.\")\n",
    "            break\n",
    "\n",
    "    while 1:\n",
    "        name = input(\"삭제할 직원 이름을 입력하세요: \")\n",
    "        remove_employee(employees, name)\n",
    "        print(employees)\n",
    "        removemore = input(\"더 삭제하시겠습니까? (y,n): \")\n",
    "        if removemore ==\"y\":\n",
    "            continue\n",
    "        elif removemore ==\"n\":\n",
    "            print(\"사용해주셔서 감사합니다. 프로그램을 종료합니다.\")\n",
    "            break\n",
    "        else:\n",
    "            print(\"잘못입력하셨습니다. 프로그램을 종료합니다.\")\n",
    "            break\n",
    "\n",
    "main()"
   ]
  },
  {
   "cell_type": "code",
   "execution_count": 20,
   "metadata": {},
   "outputs": [
    {
     "name": "stdout",
     "output_type": "stream",
     "text": [
      "삭제할 직원 이름을 입력하세요: Bob\n",
      "Bob 삭제되었습니다.\n",
      "{'Alice': '과장', 'Chris': '대리'}\n",
      "더 삭제하시겠습니까? (y,n): n\n",
      "사용해주셔서 감사합니다. 프로그램을 종료합니다.\n"
     ]
    }
   ],
   "source": [
    "class Employees:\n",
    "    def __init__(self, employees):\n",
    "        self.employees = employees\n",
    "    \n",
    "    def add_employee(self):\n",
    "        while 1:\n",
    "            name = input(\"추가할 직원 이름을 입력하세요: \")\n",
    "            position = input(\"추가할 직원의 직급을 입력하세요: \")\n",
    "            if name in self.employees:\n",
    "                print(\"이미 리스트에 존재하는 직원입니다.\")\n",
    "                break\n",
    "            else:\n",
    "                self.employees[name] = position\n",
    "                print(f\"{name} {position} 추가되었습니다.\")\n",
    "            print(self.employees)\n",
    "            addmore = input(\"더 추가하시겠습니까? (y,n): \")\n",
    "            if addmore ==\"y\":\n",
    "                continue\n",
    "            elif addmore ==\"n\":\n",
    "                print(\"사용해주셔서 감사합니다. 프로그램을 종료합니다.\")\n",
    "                break\n",
    "            else:\n",
    "                print(\"잘못입력하셨습니다. 프로그램을 종료합니다.\")\n",
    "                break\n",
    "    def remove_employee(self):\n",
    "        while 1:\n",
    "            name = input(\"삭제할 직원 이름을 입력하세요: \")\n",
    "            try:\n",
    "                del self.employees[name]\n",
    "                print(f\"{name} 삭제되었습니다.\")\n",
    "            except:\n",
    "                print(\"존재하지 않는 이름입니다.\")\n",
    "                continue\n",
    "            print(self.employees)\n",
    "            removemore = input(\"더 삭제하시겠습니까? (y,n): \")\n",
    "            if removemore ==\"y\":\n",
    "                continue\n",
    "            elif removemore ==\"n\":\n",
    "                print(\"사용해주셔서 감사합니다. 프로그램을 종료합니다.\")\n",
    "                break\n",
    "            else:\n",
    "                print(\"잘못입력하셨습니다. 프로그램을 종료합니다.\")\n",
    "                break\n",
    "\n",
    "    # employees = {'Alice': '과장', 'Bob':'차장', 'Chris': '대리'}\n",
    "    # add_employee(employees,'David','사원')\n",
    "\n",
    "a_company = Employees({'Alice': '과장', 'Bob':'차장', 'Chris': '대리'})\n",
    "a_company.remove_employee()"
   ]
  },
  {
   "cell_type": "code",
   "execution_count": 19,
   "metadata": {},
   "outputs": [
    {
     "name": "stdout",
     "output_type": "stream",
     "text": [
      "현재직원 : [{'name': 'Jane Smith', 'position': 'Designer'}]\n"
     ]
    }
   ],
   "source": [
    "# 구조 지향\n",
    "def add_employee(employees, name, position):\n",
    "    employees.append({'name': name, 'position': position})\n",
    "\n",
    "def remove_employee(employees, name):\n",
    "    employees = [emp for emp in employees if emp['name'] != name]\n",
    "    return employees\n",
    "\n",
    "employees = []\n",
    "add_employee(employees, \"John Doe\", \"Software Developer\")\n",
    "add_employee(employees, \"Jane Smith\", \"Designer\")\n",
    "employees = remove_employee(employees, \"John Doe\")\n",
    "print('현재직원 :', employees)"
   ]
  },
  {
   "cell_type": "code",
   "execution_count": 21,
   "metadata": {},
   "outputs": [
    {
     "name": "stdout",
     "output_type": "stream",
     "text": [
      "현재 직원 : Jane Smith, Designer\n"
     ]
    }
   ],
   "source": [
    "# 객체 지향\n",
    "class Employee:\n",
    "    def __init__(self, name, position):\n",
    "        self.name = name\n",
    "        self.position = position\n",
    "\n",
    "class Company:\n",
    "    def __init__(self):\n",
    "        self.employees = []\n",
    "\n",
    "    def add_employee(self, name, position):\n",
    "        self.employees.append(Employee(name, position))\n",
    "\n",
    "    def remove_employee(self, name):\n",
    "        self.employees = [emp for emp in self.employees if emp.name != name]\n",
    "\n",
    "    # 결과값을 문자열 리스트로 반환하는 메서드 추가\n",
    "    def get_employee_list(self):\n",
    "        return [f\"현재 직원 : {emp.name}, {emp.position}\" for emp in self.employees]\n",
    "\n",
    "# 사용 예\n",
    "company1 = Company()\n",
    "company1.add_employee(\"John Doe\", \"Software Developer\")\n",
    "company1.add_employee(\"Jane Smith\", \"Designer\")\n",
    "company1.remove_employee(\"John Doe\")\n",
    "\n",
    "# 결과값 출력을 위한 코드\n",
    "employee_list = company1.get_employee_list()\n",
    "for employee in employee_list:\n",
    "    print(employee)\n"
   ]
  },
  {
   "cell_type": "code",
   "execution_count": 22,
   "metadata": {},
   "outputs": [
    {
     "name": "stdout",
     "output_type": "stream",
     "text": [
      "현재 직원 : Jane Doe, Designer\n"
     ]
    }
   ],
   "source": [
    "company2 = Company()\n",
    "company2.add_employee(\"John Smith\", \"Software Developer\")\n",
    "company2.add_employee(\"Jane Doe\", \"Designer\")\n",
    "company2.remove_employee(\"John Smith\")\n",
    "\n",
    "# 결과값 출력을 위한 코드\n",
    "employee_list = company2.get_employee_list()\n",
    "for employee in employee_list:\n",
    "    print(employee)"
   ]
  },
  {
   "cell_type": "markdown",
   "metadata": {},
   "source": [
    "오버라이딩(Overriding)\n",
    "- 부모 클래스에 정의된 메서드를 자식 클래스에서 재정의\n",
    "\n",
    "오버로딩(Overloading)\n",
    "- 오버로딩(Overloading)은 하나의 클래스 내에서 메서드 이름은 같지만 매개변수의 타입이나 개수가 다른 여러 메서드를 정의하는 것을 의미. 이를 통해 동일한 메서드 호출에 다양한 매개변수를 사용할 수 있다.\n",
    "- 파이썬은 기본적으로 오버로딩을 직접 지원하지 않지만,  기본값 인자(default arguments), 가변 인자(variable arguments), 키워드 인자(keyword arguments) 등을 사용하여 유사한 기능을 구현\n",
    "\n",
    "다형성(Polymorphism)\n",
    "- 서로 다른 클래스의 객체가 동일한 인터페이스를 공유할 수 있게 하는 개념\n",
    "-  다형성은 하나의 인터페이스가 다양한 형태의 객체에 적용될 수 있음을 의미\n",
    "- 예를 들어, 여러 동물 클래스가 모두 speak 메서드를 갖고 있을 때, 이 메서드는 각 동물에 맞게 다르게 구현"
   ]
  },
  {
   "cell_type": "code",
   "execution_count": null,
   "metadata": {},
   "outputs": [],
   "source": [
    "class Animal:\n",
    "    def speak(self):\n",
    "        return \"I'm an animal!\"\n",
    "\n",
    "# 오버라이딩 : Dog과 Cat 클래스는 Animal 클래스의 speak 메서드를 오버라이딩\n",
    "class Dog(Animal):\n",
    "    def speak(self):\n",
    "        return \"Woof!\"\n",
    "\n",
    "class Cat(Animal):\n",
    "    def speak(self):\n",
    "        return \"Meow!\"\n",
    "\n",
    "# 오버로딩 유사 구현 : Bird 클래스는 기본값 인자를 사용하여 오버로딩과 유사한 기능을 구현\n",
    "class Bird(Animal):\n",
    "    def speak(self, mood=\"happy\"):\n",
    "        if mood == \"happy\":\n",
    "            return \"Tweet!\"\n",
    "        else:\n",
    "            return \"Squawk!\"\n",
    "\n",
    "# 다형성 예시\n",
    "def animal_sound(animal):\n",
    "    print(animal.speak())\n",
    "\n",
    "# 객체 생성\n",
    "dog = Dog()\n",
    "cat = Cat()\n",
    "bird = Bird()\n",
    "\n",
    "# 다형성을 통한 메서드 호출\n",
    "animal_sound(dog)  # Woof!\n",
    "animal_sound(cat)  # Meow!\n",
    "animal_sound(bird) # Tweet!\n",
    "\n",
    "# 오버로딩 유사 구현 사용\n",
    "print(bird.speak(\"angry\")) # Squawk!\n"
   ]
  },
  {
   "cell_type": "markdown",
   "metadata": {},
   "source": [
    "과제1_1109 : 파이썬 오버라이딩, 오버로딩, 다형성의 사례를 만들어 보세요."
   ]
  },
  {
   "cell_type": "code",
   "execution_count": 6,
   "metadata": {},
   "outputs": [
    {
     "name": "stdout",
     "output_type": "stream",
     "text": [
      "안녕! 나는 robobo이야\n",
      "안녕! 나는 roboti이야\n",
      "음식을 가져다 드릴 수 있습니다.\n",
      "물걸레로 청소를 합니다.\n",
      "음식을 가져다 드릴 수 있습니다.\n",
      "청소기로 청소를 합니다.\n"
     ]
    }
   ],
   "source": [
    "class Robot:\n",
    "\n",
    "    def __init__(self, name):\n",
    "        self.name = name\n",
    "        print(f\"안녕! 나는 {self.name}이야\")\n",
    "    \n",
    "    def helping(self):\n",
    "        print(\"도움을 드릴 수 있습니다.\")\n",
    "\n",
    "class ServingRobot(Robot):\n",
    "    # 오버라이딩\n",
    "    def helping(self):\n",
    "        print(\"음식을 가져다 드릴 수 있습니다.\")\n",
    "    \n",
    "    def move(self, table):\n",
    "        print(f\"{table}번 테이블로 음식을 가져다드렸습니다.\")\n",
    "        \n",
    "class CleaningRobot(Robot):\n",
    "    # 유사 오버로딩\n",
    "    def helping(self, how = \"청소기\"):\n",
    "        print(f\"{how}로 청소를 합니다.\")\n",
    "\n",
    "# 다형성\n",
    "def robot_mode(robot):\n",
    "    robot.helping()\n",
    "\n",
    "# 객체 생성\n",
    "robobo = ServingRobot('robobo')\n",
    "roboti = CleaningRobot('roboti')\n",
    "\n",
    "# 오버라이딩 사용\n",
    "robobo.helping()\n",
    "\n",
    "# 오버로딩 사용\n",
    "roboti.helping('물걸레')\n",
    "\n",
    "# 다형성을 통한 메서드 호출\n",
    "robot_mode(robobo)\n",
    "robot_mode(roboti)"
   ]
  },
  {
   "cell_type": "code",
   "execution_count": 24,
   "metadata": {},
   "outputs": [
    {
     "name": "stdout",
     "output_type": "stream",
     "text": [
      "78.53975\n",
      "20\n"
     ]
    }
   ],
   "source": [
    "# Shape라는 기본 클래스를 정의하고, 이 클래스를 상속받는 Circle과 Rectangle 클래스에서 area 메서드를 오버라이딩\n",
    "class Shape:\n",
    "    def __init__(self, name):\n",
    "        self.name = name\n",
    "\n",
    "    def area(self):\n",
    "        return \"Area not defined for generic shape.\"\n",
    "\n",
    "class Circle(Shape):\n",
    "    def __init__(self, radius):\n",
    "        super().__init__(\"Circle\")\n",
    "        self.radius = radius\n",
    "\n",
    "    def area(self):\n",
    "        return 3.14159 * self.radius * self.radius\n",
    "\n",
    "class Rectangle(Shape):\n",
    "    def __init__(self, width, height):\n",
    "        super().__init__(\"Rectangle\")\n",
    "        self.width = width\n",
    "        self.height = height\n",
    "\n",
    "    def area(self):\n",
    "        return self.width * self.height\n",
    "\n",
    "# 객체 생성 및 메서드 호출\n",
    "circle = Circle(5)\n",
    "rectangle = Rectangle(4, 5)\n",
    "\n",
    "print(circle.area())    # 원의 면적: πr²\n",
    "print(rectangle.area()) # 사각형의 면적: 가로 × 세로\n"
   ]
  },
  {
   "cell_type": "markdown",
   "metadata": {},
   "source": [
    "super().__init__(\"Circle\")의 의미\n",
    "- super()는 현재 클래스의 부모 클래스를 참조합니다. 여기서는 Shape 클래스입니다.\n",
    "- \\__init__ 메서드는 클래스의 인스턴스가 생성될 때 호출되는 특별한 메서드(생성자)입니다.\n",
    "- super().\\__init__(\"Circle\")는 Shape 클래스의 생성자를 호출하며, \"Circle\"이라는 문자열을 name 인자로 전달합니다."
   ]
  },
  {
   "cell_type": "code",
   "execution_count": 26,
   "metadata": {},
   "outputs": [
    {
     "name": "stdout",
     "output_type": "stream",
     "text": [
      "Circle\n",
      "Rectangle\n"
     ]
    }
   ],
   "source": [
    "print(circle.name)\n",
    "print(rectangle.name)"
   ]
  },
  {
   "cell_type": "code",
   "execution_count": 27,
   "metadata": {},
   "outputs": [
    {
     "name": "stdout",
     "output_type": "stream",
     "text": [
      "This animal doesn't make a sound. But a dog barks!\n"
     ]
    }
   ],
   "source": [
    "# 오버라이딩된 메서드에서 부모 클래스의 기능 활용\n",
    "# 하위 클래스에서 부모 클래스의 메서드를 오버라이딩할 때, 오버라이딩된 메서드 안에서 부모 클래스의 원본 메서드를 호출할 수 있다.\n",
    "# 이를 통해 기존 기능을 확장하거나 수정\n",
    "class Animal:\n",
    "    def speak(self):\n",
    "        return \"This animal doesn't make a sound.\"\n",
    "\n",
    "class Dog(Animal):\n",
    "    def speak(self):\n",
    "        return super().speak() + \" But a dog barks!\"\n",
    "\n",
    "# 사용 예\n",
    "dog = Dog()\n",
    "print(dog.speak())  # \"This animal doesn't make a sound. But a dog barks!\"\n"
   ]
  },
  {
   "cell_type": "code",
   "execution_count": null,
   "metadata": {},
   "outputs": [],
   "source": [
    "# 파이썬에서는 다중 상속을 지원하며, 이 경우 super()는 메서드 해석 순서(Method Resolution Order, MRO)를 따라 \n",
    "# 적절한 메서드를 호출하는 데 중요한 역할\n",
    "class A:\n",
    "    def do_something(self):\n",
    "        print(\"Method Defined In: A\")\n",
    "\n",
    "class B(A):\n",
    "    def do_something(self):\n",
    "        print(\"Method Defined In: B\")\n",
    "        super().do_something()\n",
    "\n",
    "class C(A):\n",
    "    def do_something(self):\n",
    "        print(\"Method Defined In: C\")\n",
    "        super().do_something()\n",
    "\n",
    "class D(B, C):\n",
    "    def do_something(self):\n",
    "        print(\"Method Defined In: D\")\n",
    "        super().do_something()\n",
    "\n",
    "# 사용 예\n",
    "d_instance = D()\n",
    "d_instance.do_something()\n"
   ]
  },
  {
   "cell_type": "code",
   "execution_count": 28,
   "metadata": {},
   "outputs": [
    {
     "name": "stdout",
     "output_type": "stream",
     "text": [
      "Hello!\n",
      "Hello, Alice!\n"
     ]
    }
   ],
   "source": [
    "# 오버로딩 유사 구현\n",
    "class Example:\n",
    "    def say_hello(self, name=None):\n",
    "        if name is None:\n",
    "            return \"Hello!\"\n",
    "        else:\n",
    "            return f\"Hello, {name}!\"\n",
    "\n",
    "# 객체 생성\n",
    "ex = Example()\n",
    "\n",
    "# 다양한 호출 방식\n",
    "print(ex.say_hello())          # \"Hello!\"\n",
    "print(ex.say_hello(\"Alice\"))   # \"Hello, Alice!\"\n"
   ]
  },
  {
   "cell_type": "code",
   "execution_count": 29,
   "metadata": {},
   "outputs": [
    {
     "name": "stdout",
     "output_type": "stream",
     "text": [
      "Car starting\n",
      "Car stopping\n",
      "Train starting\n",
      "Train stopping\n",
      "Airplane starting\n",
      "Airplane stopping\n"
     ]
    }
   ],
   "source": [
    "# 다형성: 교통수단 시스템 : 형성을 활용하여 다양한 교통수단을 제어하는 시스템을 구현\n",
    "# 다형성은 서로 다른 클래스들이 동일한 인터페이스나 메서드를 구현함으로써, 이들 각각의 인스턴스를 동일한 방식으로 다룰 수 있게 해준다.\n",
    "# 다형성 덕분에 코드의 유연성과 확장성이 증가\n",
    "\n",
    "class Vehicle: # Vehicle은 모든 교통수단에 공통적인 메서드를 정의하는 추상 기본 클래스\n",
    "    def start(self):\n",
    "        raise NotImplementedError(\"Start method not implemented\")\n",
    "\n",
    "    def stop(self):\n",
    "        raise NotImplementedError(\"Stop method not implemented\")\n",
    "        \n",
    "# Car, Train, Airplane 클래스는 각각 Vehicle 클래스를 상속받아 start와 stop 메서드를 오버라이딩\n",
    "class Car(Vehicle):\n",
    "    def start(self):\n",
    "        return \"Car starting\"\n",
    "\n",
    "    def stop(self):\n",
    "        return \"Car stopping\"\n",
    "\n",
    "class Train(Vehicle):\n",
    "    def start(self):\n",
    "        return \"Train starting\"\n",
    "\n",
    "    def stop(self):\n",
    "        return \"Train stopping\"\n",
    "\n",
    "class Airplane(Vehicle):\n",
    "    def start(self):\n",
    "        return \"Airplane starting\"\n",
    "\n",
    "    def stop(self):\n",
    "        return \"Airplane stopping\"\n",
    "\n",
    "def operate_vehicle(vehicle): # operate_vehicle 함수는 어떤 종류의 Vehicle 객체가 들어오더라도 그 객체의 start와 stop 메서드를 호출\n",
    "    print(vehicle.start())\n",
    "    # ... 여기서 추가적인 동작을 수행할 수 있습니다 ...\n",
    "    print(vehicle.stop())\n",
    "\n",
    "# 객체 생성\n",
    "car = Car()\n",
    "train = Train()\n",
    "airplane = Airplane()\n",
    "\n",
    "# 다형성을 활용한 메서드 호출\n",
    "operate_vehicle(car)      # Car starting, Car stopping\n",
    "operate_vehicle(train)    # Train starting, Train stopping\n",
    "operate_vehicle(airplane) # Airplane starting, Airplane stopping\n"
   ]
  },
  {
   "cell_type": "markdown",
   "metadata": {},
   "source": [
    "#### 과제2 ~ 6은 구조지향 방식과 객체지향 방식으로 작성"
   ]
  },
  {
   "cell_type": "code",
   "execution_count": 8,
   "metadata": {},
   "outputs": [
    {
     "name": "stdout",
     "output_type": "stream",
     "text": [
      "계좌번호를 '-' 없이 입력하세요: 123456\n",
      "원하시는 기능을 선택해주세요 1. 입금 2. 출금 3. 잔액 확인: 1\n",
      "비밀번호를 입력하세요: 5555\n",
      "입금하실 금액을 만 원 단위로 입력해주세요: 5\n",
      "5만 원이 입금이 완료되었습니다.\n",
      "입금 후 잔액은 1005만 원 입니다.\n"
     ]
    }
   ],
   "source": [
    "accBlnc = {'123456':1000, '456789':2000, '789123':3000} # 계좌번호:잔액\n",
    "accPwd = {'123456':'5555', '456789':'6666', '789123':'7777'} # 계좌번호:비밀번호\n",
    "\n",
    "class BankAccount:\n",
    "    def dep(self, *args):\n",
    "        args = input('입금하실 금액을 만 원 단위로 입력해주세요: ')\n",
    "        ansd = print(f'{args}만 원이 입금이 완료되었습니다.')\n",
    "        rslt = int(accBlnc[acc]) + int(args)\n",
    "        print(f'입금 후 잔액은 {rslt}만 원 입니다.')\n",
    "\n",
    "    def wit(self, *args):\n",
    "        while True:\n",
    "            args = int(input('출금하실 금액을 만 원 단위로 입력해주세요: '))\n",
    "            if args > accBlnc[acc]:\n",
    "                print('잔액이 부족합니다. 출금액을 다시 시도해주세요.')\n",
    "            elif args <= accBlnc[acc]:\n",
    "                answ = print(f'{args}만 원이 출금이 완료되었습니다.')\n",
    "                rslt1 = int(accBlnc[acc]) - int(args)\n",
    "                print(f'출금 후 잔액은 {rslt1}만 원 입니다.')\n",
    "            break\n",
    "        \n",
    "    def bal(self):\n",
    "        print(f'현재 잔액은 {accBlnc[acc]}만 원 입니다.')\n",
    "\n",
    "obj = BankAccount()\n",
    "\n",
    "while True:       \n",
    "    acc = str(input('계좌번호를 \\'-\\' 없이 입력하세요: '))\n",
    "    func = int(input('원하시는 기능을 선택해주세요 1. 입금 2. 출금 3. 잔액 확인: '))\n",
    "    ans = str(input('비밀번호를 입력하세요: '))\n",
    "\n",
    "    if ans == accPwd[acc] and func == 1:\n",
    "        obj.dep()\n",
    "        break\n",
    "    elif ans == accPwd[acc] and func == 2:\n",
    "        obj.wit()\n",
    "        break\n",
    "    elif ans == accPwd[acc] and func == 3:\n",
    "        obj.bal()\n",
    "        break\n",
    "    if ans != accPwd[acc]:\n",
    "        print('계좌번호와 비밀번호 확인 후 다시 입력해주세요.')\n",
    "    else:\n",
    "        ''"
   ]
  },
  {
   "cell_type": "markdown",
   "metadata": {},
   "source": [
    "과제2_1109: 은행 계좌 클래스 만들기<br>\n",
    "은행 계좌를 나타내는 BankAccount 클래스를 만들고, 입금, 출금, 잔액 확인 기능을 가지게 하세요. 출금 시 잔액이 부족할 경우 오류 메시지를 출력하는 예외 처리를 포함하세요."
   ]
  },
  {
   "cell_type": "code",
   "execution_count": 2,
   "metadata": {},
   "outputs": [
    {
     "name": "stdout",
     "output_type": "stream",
     "text": [
      "{'owner': '홍길동', 'balance': 1000}\n",
      "500원이 입금되었습니다.\n",
      "200원이 출금되었습니다.\n",
      "현재 잔액은 1300원입니다.\n"
     ]
    }
   ],
   "source": [
    "def create_account(owner, balance=0):\n",
    "    return {\"owner\": owner, \"balance\": balance}\n",
    "\n",
    "def deposit(account, amount):\n",
    "    if amount > 0:\n",
    "        account['balance'] += amount\n",
    "        print(f\"{amount}원이 입금되었습니다.\")\n",
    "    else:\n",
    "        print(\"금액은 양수여야 합니다.\")\n",
    "\n",
    "def withdraw(account, amount):\n",
    "    if amount > account['balance']:\n",
    "        print(\"잔액이 부족합니다.\")\n",
    "    else:\n",
    "        account['balance'] -= amount\n",
    "        print(f\"{amount}원이 출금되었습니다.\")\n",
    "\n",
    "def get_balance(account):\n",
    "    return f\"현재 잔액은 {account['balance']}원입니다.\"\n",
    "\n",
    "# 사용 예\n",
    "account = create_account(\"홍길동\", 1000)\n",
    "print(account)\n",
    "deposit(account, 500)\n",
    "withdraw(account, 200)\n",
    "print(get_balance(account))\n"
   ]
  },
  {
   "cell_type": "code",
   "execution_count": 37,
   "metadata": {},
   "outputs": [
    {
     "name": "stdout",
     "output_type": "stream",
     "text": [
      "500원이 입금되었습니다.\n",
      "200원이 출금되었습니다.\n",
      "현재 잔액은 1300원입니다.\n"
     ]
    }
   ],
   "source": [
    "class BankAccount:\n",
    "    def __init__(self, owner, balance=0):\n",
    "        self.owner = owner\n",
    "        self.balance = balance\n",
    "\n",
    "    def deposit(self, amount):\n",
    "        if amount > 0:\n",
    "            self.balance += amount\n",
    "            print(f\"{amount}원이 입금되었습니다.\")\n",
    "        else:\n",
    "            print(\"금액은 양수여야 합니다.\")\n",
    "\n",
    "    def withdraw(self, amount):\n",
    "        if amount > self.balance:\n",
    "            print(\"잔액이 부족합니다.\")\n",
    "        else:\n",
    "            self.balance -= amount\n",
    "            print(f\"{amount}원이 출금되었습니다.\")\n",
    "\n",
    "    def get_balance(self):\n",
    "        return f\"현재 잔액은 {self.balance}원입니다.\"\n",
    "\n",
    "# 사용 예\n",
    "account = BankAccount(\"홍길동\", 1000)\n",
    "account.deposit(500)\n",
    "account.withdraw(200)\n",
    "print(account.get_balance())"
   ]
  },
  {
   "cell_type": "code",
   "execution_count": null,
   "metadata": {},
   "outputs": [],
   "source": [
    "class BankAccount:\n",
    "    mybank = 10000\n",
    "\n",
    "    def input_money(self, deposit_amount):\n",
    "        if deposit_amount > 0:\n",
    "            BankAccount.mybank += deposit_amount\n",
    "            print(f\"{deposit_amount}원을 받았습니다. 현재 잔액은 {BankAccount.mybank}원 입니다. 감사합니다.\")\n",
    "        else:\n",
    "            print(\"돈을 넣으세요\")\n",
    "\n",
    "bankaccount = BankAccount()\n",
    "bankaccount.input_money(100)"
   ]
  },
  {
   "cell_type": "code",
   "execution_count": 11,
   "metadata": {},
   "outputs": [
    {
     "name": "stdout",
     "output_type": "stream",
     "text": [
      "제목: 아몬드\n",
      "저자: 손원평\n",
      "ISBN: 9780062961372\n",
      "가격: 12600\n",
      "\n",
      "\n",
      "제목: 스프린터 1: 언더월드\n",
      "저자: 정이안\n",
      "ISBN: 9791188660001\n",
      "가격: 14400\n",
      "\n"
     ]
    }
   ],
   "source": [
    "class Book:\n",
    "    def __init__(self, title, author, isbn, price):\n",
    "        self.title = title\n",
    "        self.author = author\n",
    "        self.isbn = isbn\n",
    "        self.price = price\n",
    "        \n",
    "    def Book_info(self):\n",
    "        print(f\"제목: {self.title}\")\n",
    "        print(f\"저자: {self.author}\")\n",
    "        print(f\"ISBN: {self.isbn}\")\n",
    "        print(f\"가격: {self.price}\")\n",
    "        \n",
    "book1 = Book (\"아몬드\", \"손원평\", \"9780062961372\", 12600)\n",
    "book2 = Book (\"스프린터 1: 언더월드\", \"정이안\", \"9791188660001\", 14400)\n",
    "\n",
    "book1.Book_info()\n",
    "print(\"\\n\")\n",
    "book2.Book_info()\n",
    "print()\n",
    "\n",
    "# 구조지향 프로그램\n",
    "def Book_info(self, title, author, isbn, price):\n",
    "        print(f\"제목: {self.title}\")\n",
    "        print(f\"저자: {self.author}\")\n",
    "        print(f\"ISBN: {self.isbn}\")\n",
    "        print(f\"가격: {self.price}\") \n"
   ]
  },
  {
   "cell_type": "markdown",
   "metadata": {},
   "source": [
    "과제3_1109: 책 클래스 만들기<br>\n",
    "책을 나타내는 Book 클래스를 만들고, 제목, 저자, ISBN, 가격을 속성으로 가지게 하세요. 또한 책의 정보를 출력하는 메서드를 만드세요."
   ]
  },
  {
   "cell_type": "code",
   "execution_count": 30,
   "metadata": {},
   "outputs": [
    {
     "name": "stdout",
     "output_type": "stream",
     "text": [
      "제목: 파이썬 101, 저자: 김파이썬, ISBN: 123456789, 가격: 20000원\n"
     ]
    }
   ],
   "source": [
    "def create_book(title, author, isbn, price):\n",
    "    return {\"title\": title, \"author\": author, \"isbn\": isbn, \"price\": price}\n",
    "\n",
    "def display_book_info(book):\n",
    "    return f\"제목: {book['title']}, 저자: {book['author']}, ISBN: {book['isbn']}, 가격: {book['price']}원\"\n",
    "\n",
    "# 사용 예\n",
    "book = create_book(\"파이썬 101\", \"김파이썬\", \"123456789\", 20000)\n",
    "print(display_book_info(book))"
   ]
  },
  {
   "cell_type": "code",
   "execution_count": 31,
   "metadata": {},
   "outputs": [
    {
     "name": "stdout",
     "output_type": "stream",
     "text": [
      "제목: 파이썬 101, 저자: 김파이썬, ISBN: 123456789, 가격: 20000원\n"
     ]
    }
   ],
   "source": [
    "class Book:\n",
    "    def __init__(self, title, author, isbn, price):\n",
    "        self.title = title\n",
    "        self.author = author\n",
    "        self.isbn = isbn\n",
    "        self.price = price\n",
    "\n",
    "    def display_info(self):\n",
    "        return f\"제목: {self.title}, 저자: {self.author}, ISBN: {self.isbn}, 가격: {self.price}원\"\n",
    "\n",
    "# 사용 예\n",
    "book = Book(\"파이썬 101\", \"김파이썬\", \"123456789\", 20000)\n",
    "print(book.display_info())"
   ]
  },
  {
   "cell_type": "markdown",
   "metadata": {},
   "source": [
    "과제4_1109: 도형 계산 클래스 만들기\n",
    "\n",
    "Rectangle 및 Circle 클래스를 만들고 각각 너비, 높이, 반지름을 속성으로 가지게 하세요. 각 클래스에 면적을 계산하는 메서드를 추가하고, 두 도형의 면적을 비교하는 외부 함수를 작성하세요."
   ]
  },
  {
   "cell_type": "code",
   "execution_count": 13,
   "metadata": {},
   "outputs": [
    {
     "name": "stdout",
     "output_type": "stream",
     "text": [
      "Rectangle 면적: 50 \n",
      "Circle 면적: 153.93804002589985 \n",
      "도형 2의 면적이 도형 1의 면적보다 큽니다.\n"
     ]
    }
   ],
   "source": [
    "import math\n",
    "\n",
    "class Rectangle:\n",
    "    def __init__(self, width, height):\n",
    "        self.width = width\n",
    "        self.height = height\n",
    "\n",
    "    def calculate_area(self):\n",
    "        return self.width * self.height\n",
    "\n",
    "class Circle:\n",
    "    def __init__(self, radius):\n",
    "        self.radius = radius\n",
    "\n",
    "    def calculate_area(self):\n",
    "        return math.pi * self.radius**2\n",
    "\n",
    "def compare_area(shape1, shape2):\n",
    "    area1 = shape1.calculate_area()\n",
    "    area2 = shape2.calculate_area()\n",
    "\n",
    "    if area1 > area2:\n",
    "        return f\"도형 1의 면적이 도형 2의 면적보다 큽니다.\"\n",
    "    elif area1 < area2:\n",
    "        return f\"도형 2의 면적이 도형 1의 면적보다 큽니다.\"\n",
    "    else:\n",
    "        return \"두 도형의 면적이 같습니다.\"\n",
    "\n",
    "rectangle = Rectangle(5, 10)\n",
    "circle = Circle(7)\n",
    "\n",
    "print(f\"Rectangle 면적: {rectangle.calculate_area()} \")\n",
    "print(f\"Circle 면적: {circle.calculate_area()} \")\n",
    "print(compare_area(rectangle, circle))\n",
    "\n"
   ]
  },
  {
   "cell_type": "code",
   "execution_count": null,
   "metadata": {},
   "outputs": [],
   "source": [
    "# 구조지향 방식\n",
    "\n",
    "import math\n",
    "\n",
    "\n",
    "def calculate_rectangle_area(width, height):\n",
    "    return width * height\n",
    "\n",
    "\n",
    "def calculate_circle_area(radius):\n",
    "    return math.pi * radius**2\n",
    "\n",
    "\n",
    "def compare_area(area1, area2):\n",
    "    if area1 > area2:\n",
    "        return \"도형 1의 면적이 도형 2의 면적보다 큽니다.\"\n",
    "    elif area1 < area2:\n",
    "        return \"도형 2의 면적이 도형 1의 면적보다 큽니다.\"\n",
    "    else:\n",
    "        return \"두 도형의 면적이 같습니다.\"\n",
    "\n",
    "rectangle_area = calculate_rectangle_area(5, 10)\n",
    "circle_area = calculate_circle_area(7)\n",
    "\n",
    "print(f\"Rectangle 면적: {rectangle_area} \")\n",
    "print(f\"Circle 면적: {circle_area} \")\n",
    "print(compare_area(rectangle_area, circle_area))\n"
   ]
  },
  {
   "cell_type": "code",
   "execution_count": 32,
   "metadata": {},
   "outputs": [
    {
     "name": "stdout",
     "output_type": "stream",
     "text": [
      "첫 번째 도형이 더 큽니다.\n"
     ]
    }
   ],
   "source": [
    "def calculate_rectangle_area(width, height):\n",
    "    return width * height\n",
    "\n",
    "def calculate_circle_area(radius):\n",
    "    import math\n",
    "    return math.pi * radius ** 2\n",
    "\n",
    "def compare_areas(area1, area2):\n",
    "    return \"첫 번째 도형이 더 큽니다.\" if area1 > area2 else \"두 번째 도형이 더 큽니다.\"\n",
    "\n",
    "# 사용 예\n",
    "rectangle_area = calculate_rectangle_area(3, 4)\n",
    "circle_area = calculate_circle_area(1)\n",
    "print(compare_areas(rectangle_area, circle_area))"
   ]
  },
  {
   "cell_type": "code",
   "execution_count": 33,
   "metadata": {},
   "outputs": [
    {
     "name": "stdout",
     "output_type": "stream",
     "text": [
      "첫 번째 도형이 더 큽니다.\n"
     ]
    }
   ],
   "source": [
    "import math\n",
    "\n",
    "class Rectangle:\n",
    "    def __init__(self, width, height):\n",
    "        self.width = width\n",
    "        self.height = height\n",
    "\n",
    "    def area(self):\n",
    "        return self.width * self.height\n",
    "\n",
    "class Circle:\n",
    "    def __init__(self, radius):\n",
    "        self.radius = radius\n",
    "\n",
    "    def area(self):\n",
    "        return math.pi * self.radius ** 2\n",
    "\n",
    "def compare_area(shape1, shape2):\n",
    "    return \"첫 번째 도형이 더 큽니다.\" if shape1.area() > shape2.area() else \"두 번째 도형이 더 큽니다.\"\n",
    "\n",
    "# 사용 예\n",
    "rect = Rectangle(3, 4)\n",
    "circle = Circle(1)\n",
    "print(compare_area(rect, circle))"
   ]
  },
  {
   "cell_type": "markdown",
   "metadata": {},
   "source": [
    "과제5_1109: 차량 클래스 만들기\n",
    "\n",
    "Vehicle 클래스를 만들고, 이를 상속받아 Car와 Truck 클래스를 만드세요. 각 차량에는 제조사, 모델, 연료 타입 속성이 있어야 하고, 각 클래스에 고유한 메서드를 추가하세요 (예: Car에는 honk 메서드, Truck에는 load_cargo 메서드)."
   ]
  },
  {
   "cell_type": "code",
   "execution_count": 15,
   "metadata": {},
   "outputs": [
    {
     "name": "stdout",
     "output_type": "stream",
     "text": [
      "제조사: 현대\n",
      "모델: 제네시스\n",
      "연료 타입: 가솔린\n",
      "제네시스 says: 빵빵!\n",
      "제조사: Volvo\n",
      "모델: 화물차\n",
      "연료 타입: Diesel\n",
      "Loading sand onto the 화물차\n"
     ]
    }
   ],
   "source": [
    "class Vehicle:\n",
    "    def __init__(self, manufacturer, model, fuel_type):\n",
    "        self.manufacturer = manufacturer\n",
    "        self.model = model\n",
    "        self.fuel_type = fuel_type\n",
    "\n",
    "class Car(Vehicle):\n",
    "    def honk(self):\n",
    "        print(f\"{self.model} says: 빵빵!\")\n",
    "\n",
    "class Truck(Vehicle):\n",
    "    def load_cargo(self, cargo):\n",
    "        print(f\"Loading {cargo} onto the {self.model}\")\n",
    "\n",
    "\n",
    "car = Car(\"현대\", \"제네시스\", \"가솔린\")\n",
    "truck = Truck(\"Volvo\", \"화물차\", \"Diesel\")\n",
    "\n",
    "\n",
    "print(f\"제조사: {car.manufacturer}\")\n",
    "print(f\"모델: {car.model}\")\n",
    "print(f\"연료 타입: {car.fuel_type}\")\n",
    "\n",
    "car.honk()            # 경적 울림\n",
    "\n",
    "print(f\"제조사: {truck.manufacturer}\")\n",
    "print(f\"모델: {truck.model}\")\n",
    "print(f\"연료 타입: {truck.fuel_type}\")\n",
    "\n",
    "truck.load_cargo(\"sand\")  # 화물 적재\n",
    "\n"
   ]
  },
  {
   "cell_type": "code",
   "execution_count": null,
   "metadata": {},
   "outputs": [],
   "source": [
    "\n",
    "# 구조 지향 방식\n",
    "\n",
    "def create_vehicle(manufacturer, model, fuel_type, vehicle_type):\n",
    "    return {\n",
    "        \"manufacturer\": manufacturer,\n",
    "        \"model\": model,\n",
    "        \"fuel_type\": fuel_type,\n",
    "        \"type\": vehicle_type\n",
    "    }\n",
    "\n",
    "def honk(vehicle):\n",
    "    if vehicle[\"type\"] == \"car\":\n",
    "        print(f\"{vehicle['model']} says: 빵빵!\")\n",
    "    else:\n",
    "        print(\"The vehicle is not a car.\")\n",
    "\n",
    "def load_cargo(vehicle, cargo):\n",
    "    if vehicle[\"type\"] == \"truck\":\n",
    "        print(f\"Loading {cargo} onto the {vehicle['model']}\")\n",
    "    else:\n",
    "        print(\"The vehicle is not a truck.\")\n",
    "\n",
    "\n",
    "car = create_vehicle(\"현대\", \"제네시스\", \"가솔린\", \"car\")\n",
    "truck = create_vehicle(\"Volvo\", \"화물차\", \"Diesel\", \"truck\")\n",
    "\n",
    "honk(car)            \n",
    "load_cargo(truck, \"sand\") "
   ]
  },
  {
   "cell_type": "code",
   "execution_count": 34,
   "metadata": {},
   "outputs": [
    {
     "name": "stdout",
     "output_type": "stream",
     "text": [
      "빵빵!\n",
      "500kg의 화물을 실었습니다.\n"
     ]
    }
   ],
   "source": [
    "def create_vehicle(make, model, fuel_type):\n",
    "    return {\"make\": make, \"model\": model, \"fuel_type\": fuel_type}\n",
    "\n",
    "def honk():\n",
    "    return \"빵빵!\"\n",
    "\n",
    "def load_cargo(weight):\n",
    "    return f\"{weight}kg의 화물을 실었습니다.\"\n",
    "\n",
    "# 사용 예\n",
    "car = create_vehicle(\"현대\", \"소나타\", \"가솔린\")\n",
    "truck = create_vehicle(\"기아\", \"봉고\", \"디젤\")\n",
    "print(honk())\n",
    "print(load_cargo(500))\n"
   ]
  },
  {
   "cell_type": "code",
   "execution_count": 3,
   "metadata": {},
   "outputs": [
    {
     "name": "stdout",
     "output_type": "stream",
     "text": [
      "빵빵!\n",
      "500kg의 화물을 실었습니다.\n"
     ]
    }
   ],
   "source": [
    "class Vehicle:\n",
    "    def __init__(self, make, model, fuel_type):\n",
    "        self.make = make\n",
    "        self.model = model\n",
    "        self.fuel_type = fuel_type\n",
    "\n",
    "class Car(Vehicle):\n",
    "    def honk(self):\n",
    "        return \"빵빵!\"\n",
    "\n",
    "class Truck(Vehicle):\n",
    "    def load_cargo(self, weight):\n",
    "        return f\"{weight}kg의 화물을 실었습니다.\"\n",
    "\n",
    "# 사용 예\n",
    "car = Car(\"현대\", \"소나타\", \"가솔린\")\n",
    "truck = Truck(\"기아\", \"봉고\", \"디젤\")\n",
    "print(car.honk())\n",
    "print(truck.load_cargo(500))"
   ]
  },
  {
   "cell_type": "code",
   "execution_count": 5,
   "metadata": {},
   "outputs": [
    {
     "name": "stdout",
     "output_type": "stream",
     "text": [
      "소나타가 \"빵빵!\"\n"
     ]
    }
   ],
   "source": [
    "class Car(Vehicle):\n",
    "    def __init__(self, make, model, fuel_type, seats):\n",
    "        super().__init__(make, model, fuel_type)\n",
    "        self.seats = seats\n",
    "\n",
    "    def honk(self):\n",
    "        return f'{self.model}가 \"빵빵!\"'\n",
    "car = Car(\"현대\", \"소나타\", \"가솔린\",\"가죽\")\n",
    "print(car.honk())"
   ]
  },
  {
   "cell_type": "markdown",
   "metadata": {},
   "source": [
    "과제6_1109: 학생과 교수 클래스 만들기\n",
    "\n",
    "Person 클래스를 만들고 이를 상속받아 Student와 Professor 클래스를 구현하세요. Person 클래스에는 이름과 나이가 있어야 하고, Student 클래스에는 학번과 전공, Professor 클래스에는 직원번호와 연구분야를 추가하세요. 각 클래스에 적합한 메서드도 추가해보세요."
   ]
  },
  {
   "cell_type": "code",
   "execution_count": 16,
   "metadata": {},
   "outputs": [
    {
     "name": "stdout",
     "output_type": "stream",
     "text": [
      "***** [ 학생 정보 확인 ] ******\n",
      "  이름 : 강하나\n",
      "  나이 : 25\n",
      "  학번 : 07230123\n",
      "  전공 : 정보통신\n",
      "\n",
      "***** [ 교수 정보 확인 ] *****\n",
      "  이    름 : 김교수\n",
      "  나    이 : 52\n",
      "  직원번호 : 20190723032\n",
      "  연구분야 : 정보통신\n"
     ]
    }
   ],
   "source": [
    "class Person:\n",
    "    def __init__(self, name, age):\n",
    "        self.name = name\n",
    "        self.age = age\n",
    "\n",
    "    \n",
    "class Student(Person):\n",
    "    def __init__(self, name, age, number, major):      # 상속받고자 하는 변수들도 입력받을 수 있게 추가 후\n",
    "        super().__init__(name, age)                          # Person 클래스의 생성자 호출하여 초기화 해야 함.\n",
    "        self.number = number\n",
    "        self.major = major\n",
    "        \n",
    "    def viewInfo(self):\n",
    "        print(\"***** [ 학생 정보 확인 ] ******\")\n",
    "        print(f\"  이름 : {self.name}\")\n",
    "        print(f\"  나이 : {self.age}\")\n",
    "        print(f\"  학번 : {self.number}\")\n",
    "        print(f\"  전공 : {self.major}\")\n",
    "\n",
    "\n",
    "    \n",
    "class Professor(Person):\n",
    "    def __init__(self, name, age, number, major):      # 상속받고자 하는 변수들도 입력받을 수 있게 추가 후\n",
    "        super().__init__(name, age)                          # Person 클래스의 생성자 호출하여 초기화 해야 함.\n",
    "        self.number = number\n",
    "        self.major = major\n",
    "        \n",
    "    def viewInfo(self):\n",
    "        print(\"***** [ 교수 정보 확인 ] *****\")\n",
    "        print(f\"  이    름 : {self.name}\")\n",
    "        print(f\"  나    이 : {self.age}\")\n",
    "        print(f\"  직원번호 : {self.number}\")\n",
    "        print(f\"  연구분야 : {self.major}\")\n",
    "    \n",
    "\n",
    "student = Student(\"강하나\", 25, \"07230123\", \"정보통신\")\n",
    "student.viewInfo()\n",
    "\n",
    "print()\n",
    "professor = Professor(\"김교수\", 52, \"20190723032\", \"정보통신\")\n",
    "professor.viewInfo()"
   ]
  },
  {
   "cell_type": "code",
   "execution_count": 49,
   "metadata": {},
   "outputs": [
    {
     "name": "stdout",
     "output_type": "stream",
     "text": [
      "학생 이름: Alice, 나이: 20, 학번: S1001, 전공: Computer Science\n",
      "교수 이름: Bob, 나이: 45, 직원번호: E5001, 연구분야: Artificial Intelligence\n"
     ]
    }
   ],
   "source": [
    "def create_person(name, age):\n",
    "    return {\"name\": name, \"age\": age}\n",
    "\n",
    "def create_student(name, age, student_id, major):\n",
    "    student = create_person(name, age)\n",
    "    student['student_id'] = student_id\n",
    "    student['major'] = major\n",
    "    return student\n",
    "\n",
    "def create_professor(name, age, employee_id, research_field):\n",
    "    professor = create_person(name, age)\n",
    "    professor['employee_id'] = employee_id\n",
    "    professor['research_field'] = research_field\n",
    "    return professor\n",
    "\n",
    "def display_student_info(student):\n",
    "    return f\"학생 이름: {student['name']}, 나이: {student['age']}, 학번: {student['student_id']}, 전공: {student['major']}\"\n",
    "\n",
    "def display_professor_info(professor):\n",
    "    return f\"교수 이름: {professor['name']}, 나이: {professor['age']}, 직원번호: {professor['employee_id']}, 연구분야: {professor['research_field']}\"\n",
    "\n",
    "\n",
    "# 학생 정보 생성\n",
    "student = create_student(\"Alice\", 20, \"S1001\", \"Computer Science\")\n",
    "\n",
    "# 교수 정보 생성\n",
    "professor = create_professor(\"Bob\", 45, \"E5001\", \"Artificial Intelligence\")\n",
    "\n",
    "# 정보 출력\n",
    "print(display_student_info(student))\n",
    "print(display_professor_info(professor))\n"
   ]
  },
  {
   "cell_type": "code",
   "execution_count": 54,
   "metadata": {},
   "outputs": [
    {
     "name": "stdout",
     "output_type": "stream",
     "text": [
      "학생 이름: 이학생, 나이: 20, 학번: 20230001, 전공: 컴퓨터공학\n",
      "교수 이름: 박교수, 나이: 45, 직원번호: F1002, 연구분야: 컴퓨터공학\n"
     ]
    }
   ],
   "source": [
    "class Person:\n",
    "    def __init__(self, name, age):\n",
    "        self.name = name\n",
    "        self.age = age\n",
    "\n",
    "class Student(Person):\n",
    "    def __init__(self, name, age, student_id, major):\n",
    "        super().__init__(name, age)\n",
    "        self.student_id = student_id\n",
    "        self.major = major\n",
    "\n",
    "    def display_info(self):\n",
    "        return f\"학생 이름: {self.name}, 나이: {self.age}, 학번: {self.student_id}, 전공: {self.major}\"\n",
    "\n",
    "class Professor(Person):\n",
    "    def __init__(self, name, age, employee_id, research_field):\n",
    "        super().__init__(name, age)\n",
    "        self.employee_id = employee_id\n",
    "        self.research_field = research_field\n",
    "\n",
    "    def display_info(self):\n",
    "        return f\"교수 이름: {self.name}, 나이: {self.age}, 직원번호: {self.employee_id}, 연구분야: {self.research_field}\"\n",
    "\n",
    "# 사용 예\n",
    "student = Student(\"이학생\", 20, \"20230001\", \"컴퓨터공학\")\n",
    "professor = Professor(\"박교수\", 45, \"F1002\", \"컴퓨터공학\")\n",
    "print(student.display_info())\n",
    "print(professor.display_info())"
   ]
  },
  {
   "cell_type": "code",
   "execution_count": null,
   "metadata": {},
   "outputs": [],
   "source": [
    "# 오버라이딩\n",
    "class Animal:\n",
    "    def make_sound(self):\n",
    "        print(\"Some generic sound\")\n",
    "\n",
    "class Dog(Animal):\n",
    "    def make_sound(self):  # 부모 클래스의 메서드를 오버라이드\n",
    "        print(\"Woof Woof\")\n",
    "\n",
    "# 사용 예\n",
    "animal = Animal()\n",
    "animal.make_sound()  # 출력: Some generic sound\n",
    "\n",
    "dog = Dog()\n",
    "dog.make_sound()  # 출력: Woof Woof\n"
   ]
  },
  {
   "cell_type": "code",
   "execution_count": null,
   "metadata": {},
   "outputs": [],
   "source": [
    "# Q. Order 클래스를 상속받아 extraOrder 클래스에서 메소드 오버라이딩하여 출력가격에 원이 추가되도록 출력"
   ]
  },
  {
   "cell_type": "code",
   "execution_count": 62,
   "metadata": {},
   "outputs": [
    {
     "name": "stdout",
     "output_type": "stream",
     "text": [
      "1000\n",
      "kevin : 1000원\n"
     ]
    }
   ],
   "source": [
    "class Order:\n",
    "    def __init__(self,name):\n",
    "        self.customer = 0\n",
    "        self.name = name\n",
    "    def order(self, price):\n",
    "        self.customer += price\n",
    "        return str(self.customer)\n",
    "\n",
    "class extraOrder(Order):    \n",
    "    def order(self,price):        \n",
    "        self.customer += price\n",
    "        return f'{self.name} : {str(self.customer)}원'\n",
    "    \n",
    "\n",
    "order = Order('kevin')\n",
    "print(order.order(1000))\n",
    "\n",
    "extraCustomer = extraOrder('kevin')\n",
    "print(extraCustomer.order(1000))"
   ]
  },
  {
   "cell_type": "code",
   "execution_count": 65,
   "metadata": {},
   "outputs": [
    {
     "name": "stdout",
     "output_type": "stream",
     "text": [
      "1000\n",
      "kevin : 1000원\n"
     ]
    }
   ],
   "source": [
    "class Order:\n",
    "    def __init__(self,name):\n",
    "        self.customer = 0\n",
    "        self.name = name\n",
    "    def order(self, price):\n",
    "        self.customer += price\n",
    "        return str(self.customer)\n",
    "\n",
    "class extraOrder(Order):\n",
    "    def __init__(self,name):\n",
    "        super().__init__(name)\n",
    "    def order(self,price):        \n",
    "        self.customer += price\n",
    "        return f'{self.name} : {str(self.customer)}원'\n",
    "    \n",
    "\n",
    "order = Order('kevin')\n",
    "print(order.order(1000))\n",
    "\n",
    "extraCustomer = extraOrder('kevin')\n",
    "print(extraCustomer.order(1000))"
   ]
  },
  {
   "cell_type": "code",
   "execution_count": null,
   "metadata": {},
   "outputs": [],
   "source": [
    "# Q. 부모 클래스인 Animal에서 speak 메소드를 정의하고, \n",
    "# 자식 클래스인 Dog와 Cat에서 이 메소드를 오버라이드하여 각각 다른 메시지를 출력"
   ]
  },
  {
   "cell_type": "code",
   "execution_count": 47,
   "metadata": {},
   "outputs": [],
   "source": [
    "class Animal:\n",
    "    def speak(self):\n",
    "        print('동물이 소리를 냅니다.')\n",
    "        \n",
    "class Dog(Animal):\n",
    "    def speak(self):\n",
    "        print('강아지가 멍멍~ 짖습니다!!')\n",
    "\n",
    "class Cat(Animal):\n",
    "    def speak(self):\n",
    "        print('고양이가 야옹 야옹 ~~ 웁니다!')"
   ]
  },
  {
   "cell_type": "code",
   "execution_count": 48,
   "metadata": {},
   "outputs": [
    {
     "name": "stdout",
     "output_type": "stream",
     "text": [
      "강아지가 멍멍~ 짖습니다!!\n"
     ]
    }
   ],
   "source": [
    "my_dog = Dog()\n",
    "my_dog.speak()"
   ]
  },
  {
   "cell_type": "code",
   "execution_count": 49,
   "metadata": {},
   "outputs": [
    {
     "name": "stdout",
     "output_type": "stream",
     "text": [
      "고양이가 야옹 야옹 ~~ 웁니다!\n"
     ]
    }
   ],
   "source": [
    "my_cat = Cat()\n",
    "my_cat.speak()"
   ]
  },
  {
   "cell_type": "code",
   "execution_count": null,
   "metadata": {},
   "outputs": [],
   "source": [
    "#### 오버로드(Overload)\n",
    "- 같은 이름의 메서드가 다른 매개변수를 가질 수 있도록 하는 것. \n",
    "- 파이썬은 정적 타이핑이 아니기 때문에 정확히 같은 이름의 메서드를 다른 매개변수로 여러 번 정의하는 것은 지원하지 않는다. \n",
    "- 하지만, 기본값이 있는 매개변수나 가변 매개변수를 사용하여 유사한 효과를 낼 수 있다."
   ]
  },
  {
   "cell_type": "code",
   "execution_count": null,
   "metadata": {},
   "outputs": [],
   "source": [
    "class Math:\n",
    "    def add(self, a, b, c=0):  # c의 기본값은 0\n",
    "        return a + b + c\n",
    "\n",
    "# 사용 예\n",
    "math = Math()\n",
    "print(math.add(2, 3))    # 출력: 5\n",
    "print(math.add(2, 3, 4)) # 출력: 9\n"
   ]
  },
  {
   "cell_type": "markdown",
   "metadata": {},
   "source": [
    "클래스 변수\n",
    "- 클래스 정의에 속하는 변수로서, 클래스의 모든 인스턴스에서 공유\n",
    "- 이러한 특성은 공통 데이터를 모든 인스턴스와 공유해야 하는 경우에 유용"
   ]
  },
  {
   "cell_type": "code",
   "execution_count": 19,
   "metadata": {},
   "outputs": [
    {
     "name": "stdout",
     "output_type": "stream",
     "text": [
      "3\n"
     ]
    }
   ],
   "source": [
    "#  Employee 클래스는 모든 직원 인스턴스에 대해 공통된 직원 수를 추적\n",
    "class Employee:\n",
    "    # 클래스 변수\n",
    "    employee_count = 0\n",
    "\n",
    "    def __init__(self, name):\n",
    "        self.name = name\n",
    "        # 클래스 변수 값 증가\n",
    "        Employee.employee_count += 1\n",
    "#         employee_count += 1\n",
    "    @classmethod\n",
    "    def get_employee_count(cls):\n",
    "        # 클래스 메서드를 통해 클래스 변수에 접근\n",
    "        return cls.employee_count\n",
    "\n",
    "# 직원 인스턴스 생성\n",
    "emp1 = Employee(\"Alice\")\n",
    "emp2 = Employee(\"Bob\")\n",
    "emp3 = Employee(\"Charlie\")\n",
    "\n",
    "# 직원 수 확인\n",
    "print(Employee.get_employee_count())  # 출력: 3\n"
   ]
  },
  {
   "cell_type": "code",
   "execution_count": 20,
   "metadata": {},
   "outputs": [
    {
     "name": "stdout",
     "output_type": "stream",
     "text": [
      "4\n",
      "15\n",
      "4\n",
      "========================\n",
      "15\n",
      "6\n"
     ]
    }
   ],
   "source": [
    "class Car:\n",
    "    wheels = 4  # 클래스 변수\n",
    "    \n",
    "    def __init__(self, brand, model):\n",
    "        self.brand = brand\n",
    "        self.model = model\n",
    "        \n",
    "obj1 = Car('aa','bb')\n",
    "obj2 = Car('cc','dd')\n",
    "\n",
    "print(obj1.wheels)\n",
    "obj1.wheels = 15    # 이 부분에서 obj1 에는 wheels 이 클래스변수 엎어치고 인스턴스변수로 생성됨.\n",
    "print(obj1.wheels)\n",
    "print(obj2.wheels)\n",
    "\n",
    "print('='*24)\n",
    "\n",
    "Car.wheels += 2\n",
    "\n",
    "print(obj1.wheels)\n",
    "print(obj2.wheels)"
   ]
  },
  {
   "cell_type": "markdown",
   "metadata": {},
   "source": [
    "클래스 메서드\n",
    "- 클래스 레벨에서 정의되어 클래스 자체의 참조를 첫 인자(cls)로 받음.\n",
    "- @classmethod 데코레이터를 사용하여 정의하며, 클래스 변수에 접근하거나 수정\n",
    "- 객체 생성 로직을 캡슐화, 상속받은 클래스에서의 사용에 적합함. 클래스 이름으로 메서드를 직접 호출"
   ]
  },
  {
   "cell_type": "code",
   "execution_count": 50,
   "metadata": {},
   "outputs": [
    {
     "name": "stdout",
     "output_type": "stream",
     "text": [
      "오늘의 특별 메뉴는 에스프레소입니다.\n"
     ]
    }
   ],
   "source": [
    "class CoffeeShop:\n",
    "    specialty = '에스프레소'\n",
    "\n",
    "    @classmethod\n",
    "    def get_specialty(cls):\n",
    "        return f\"오늘의 특별 메뉴는 {cls.specialty}입니다.\"\n",
    "\n",
    "# 클래스 메서드 호출\n",
    "print(CoffeeShop.get_specialty())"
   ]
  },
  {
   "cell_type": "code",
   "execution_count": 51,
   "metadata": {},
   "outputs": [
    {
     "name": "stdout",
     "output_type": "stream",
     "text": [
      "안녕하세요\n",
      "kita 과정입니다.\n",
      "kita\n"
     ]
    }
   ],
   "source": [
    "# 클래스 메소드를 정의하고 호출하여 그 결과를 출력하려면, @classmethod 데코레이터를 사용하여 메소드를 정의하고, 클래스 변수에 접근하기 위해 cls를 사용\n",
    "class MyClass:\n",
    "    var = '안녕하세요'  # 클래스 멤버\n",
    "\n",
    "    def __init__(self):\n",
    "        self.name = 'kita'  # 인스턴스 멤버\n",
    "        print(f'{self.name} 과정입니다.')\n",
    "\n",
    "    @classmethod\n",
    "    def say_hello(cls):  # 클래스 메소드\n",
    "        return cls.var\n",
    "\n",
    "    \n",
    "# 클래스 메소드 호출\n",
    "print(MyClass.say_hello())\n",
    "obj = MyClass()\n",
    "print(obj.name)"
   ]
  },
  {
   "cell_type": "code",
   "execution_count": null,
   "metadata": {},
   "outputs": [],
   "source": [
    "# Q. mymodule.py라는 4칙연산을 수행하는 모듈을 클래스로 작성한 후 임포트 해서 4칙 연산을 수행하세요."
   ]
  },
  {
   "cell_type": "code",
   "execution_count": 6,
   "metadata": {},
   "outputs": [
    {
     "name": "stdout",
     "output_type": "stream",
     "text": [
      "\n",
      "class Calculator:\n",
      "    def __init__(self):\n",
      "        pass\n",
      "\n",
      "    def add(self, x, y):\n",
      "        return x + y\n",
      "\n",
      "    def subtract(self, x, y):\n",
      "        return x - y\n",
      "\n",
      "    def multiply(self, x, y):\n",
      "        return x * y\n",
      "\n",
      "    def divide(self, x, y):\n",
      "        if y == 0:\n",
      "            raise ValueError(\"Division by zero is not allowed\")\n",
      "        return x / y\n",
      "\n"
     ]
    }
   ],
   "source": [
    "with open('mymodule.py','w') as f:\n",
    "    f.write(\n",
    "'''\n",
    "class Calculator:\n",
    "    def __init__(self):\n",
    "        pass\n",
    "\n",
    "    def add(self, x, y):\n",
    "        return x + y\n",
    "\n",
    "    def subtract(self, x, y):\n",
    "        return x - y\n",
    "\n",
    "    def multiply(self, x, y):\n",
    "        return x * y\n",
    "\n",
    "    def divide(self, x, y):\n",
    "        if y == 0:\n",
    "            raise ValueError(\"Division by zero is not allowed\")\n",
    "        return x / y\n",
    "''')\n",
    "    \n",
    "with open('mymodule.py','r') as f:\n",
    "    data = f.read()\n",
    "    print(data)"
   ]
  },
  {
   "cell_type": "code",
   "execution_count": 8,
   "metadata": {},
   "outputs": [
    {
     "name": "stdout",
     "output_type": "stream",
     "text": [
      "Addition: 15\n",
      "Subtraction: 5\n",
      "Multiplication: 50\n",
      "Division: 2.0\n"
     ]
    }
   ],
   "source": [
    "from mymodule import Calculator\n",
    "\n",
    "calc = Calculator()\n",
    "r1 = calc.add(10,5)\n",
    "r2 = calc.subtract(10,5)\n",
    "r3 = calc.multiply(10,5)\n",
    "r4 = calc.divide(10,5)\n",
    "\n",
    "print(\"Addition:\", r1)\n",
    "print(\"Subtraction:\", r2)\n",
    "print(\"Multiplication:\", r3)\n",
    "print(\"Division:\", r4)"
   ]
  },
  {
   "cell_type": "code",
   "execution_count": null,
   "metadata": {},
   "outputs": [],
   "source": [
    "# 두개의 인자를 받아서 덧셈 기능을 수행하는 모듈을 클래스로 생성한 후 모듈을 임포트하고 객체를 만들어서 \n",
    "# 덧셈을 수행하세요.  "
   ]
  },
  {
   "cell_type": "code",
   "execution_count": 9,
   "metadata": {},
   "outputs": [],
   "source": [
    "with open('my_module.py','w',encoding='utf-8')as f:\n",
    "    f.write(\n",
    "'''\n",
    "class calculator:\n",
    "    def __init__(self):\n",
    "        self.a=int(input())\n",
    "        self.b=int(input())\n",
    "        \n",
    "    def add(self):\n",
    "        return self.a+self.b\n",
    "''')"
   ]
  },
  {
   "cell_type": "code",
   "execution_count": 10,
   "metadata": {},
   "outputs": [
    {
     "name": "stdout",
     "output_type": "stream",
     "text": [
      "5\n",
      "5\n",
      "덧셈 : 10\n"
     ]
    }
   ],
   "source": [
    "from my_module import calculator\n",
    "\n",
    "cal=calculator()\n",
    "print('덧셈 :',cal.add())"
   ]
  },
  {
   "cell_type": "code",
   "execution_count": null,
   "metadata": {},
   "outputs": [],
   "source": [
    "# [과제] 사용자 함수 5개 이상을 사용하는 프로그램 작성 후 이 프로그램을 클래스를 사용하여 개선하세요.\n",
    "# 클래스 작성 시 두가지로 진행(생성자 사용 및 미사용)"
   ]
  }
 ],
 "metadata": {
  "kernelspec": {
   "display_name": "Python 3 (ipykernel)",
   "language": "python",
   "name": "python3"
  },
  "language_info": {
   "codemirror_mode": {
    "name": "ipython",
    "version": 3
   },
   "file_extension": ".py",
   "mimetype": "text/x-python",
   "name": "python",
   "nbconvert_exporter": "python",
   "pygments_lexer": "ipython3",
   "version": "3.10.13"
  }
 },
 "nbformat": 4,
 "nbformat_minor": 2
}
