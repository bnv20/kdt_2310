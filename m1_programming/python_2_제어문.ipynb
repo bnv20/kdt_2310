{
 "cells": [
  {
   "cell_type": "markdown",
   "id": "10ceba7d",
   "metadata": {},
   "source": [
    "제어문(control statement)은 프로그램의 흐름을 제어하는데 사용\n",
    "\n",
    "#### 조건문 (Conditional Statements):\n",
    "- if: 특정 조건이 참(True)일 때 코드 블록을 실행\n",
    "    - 조건은 비교 연산자(==, !=, <, >, <=, >=)와 논리 연산자(and, or, not)를 사용하여 표현할 수 있다\n",
    "- elif: 이전의 if 또는 elif 조건이 거짓(False)일 때 다른 조건을 검사\n",
    "    - elif는 'else if'의 축약형으로, 이전 if 또는 elif 문의 조건이 거짓(False)일 때 다른 조건을 검사\n",
    "    - 여러 elif 문을 사용하여 다양한 조건을 검사할 수 있다\n",
    "- else: \n",
    "    - 이전의 if 또는 elif 문의 조건이 모두 거짓일 때 실행할 코드 블록을 지정"
   ]
  },
  {
   "cell_type": "code",
   "execution_count": 1,
   "id": "0b596d91",
   "metadata": {},
   "outputs": [
    {
     "name": "stdout",
     "output_type": "stream",
     "text": [
      "x는 5보다 큽니다.\n"
     ]
    }
   ],
   "source": [
    "x = 10\n",
    "if x > 5:\n",
    "    print(\"x는 5보다 큽니다.\")\n",
    "elif x == 5:\n",
    "    \n",
    "    print(\"x는 5입니다.\")\n",
    "else:\n",
    "    print(\"x는 5보다 작습니다.\")\n"
   ]
  },
  {
   "cell_type": "code",
   "execution_count": 3,
   "id": "f6a4d432",
   "metadata": {},
   "outputs": [
    {
     "name": "stdout",
     "output_type": "stream",
     "text": [
      "x는 5보다 크거나 같습니다.\n"
     ]
    }
   ],
   "source": [
    "x = 10\n",
    "if x >= 5:\n",
    "    print(\"x는 5보다 크거나 같습니다.\")\n",
    "else:\n",
    "    print(\"x는 5보다 작습니다.\")"
   ]
  },
  {
   "cell_type": "code",
   "execution_count": 4,
   "id": "288e11cb",
   "metadata": {},
   "outputs": [
    {
     "name": "stdout",
     "output_type": "stream",
     "text": [
      "x는 5보다 큽니다.\n",
      "y는 10보다 작습니다.\n",
      "x는 y보다 큽니다.\n"
     ]
    }
   ],
   "source": [
    "# 각 조건이 서로 독립적일때 if문을 연속해서 사용\n",
    "x = 10\n",
    "y = 5\n",
    "\n",
    "if x > 5:\n",
    "    print(\"x는 5보다 큽니다.\")\n",
    "\n",
    "if y < 10:\n",
    "    print(\"y는 10보다 작습니다.\")\n",
    "\n",
    "if x > y:\n",
    "    print(\"x는 y보다 큽니다.\")\n"
   ]
  },
  {
   "cell_type": "code",
   "execution_count": 12,
   "id": "b78bde51",
   "metadata": {},
   "outputs": [
    {
     "name": "stdout",
     "output_type": "stream",
     "text": [
      "x는 5보다 크고 y는 3보다 크거나 같습니다.\n"
     ]
    }
   ],
   "source": [
    "# 조건문 내에 다른 조건문을 중첩하여 사용\n",
    "x = 10\n",
    "y = 5\n",
    "if x > 5:\n",
    "    if y >= 3:\n",
    "        print('x는 5보다 크고 y는 3보다 크거나 같습니다.')\n",
    "    else:\n",
    "        print('x는 5보다 크고 y는 3보다 작습니다.')\n",
    "else:\n",
    "    print('x는 5보다 작거나 같습니다.')"
   ]
  },
  {
   "cell_type": "code",
   "execution_count": null,
   "id": "cfde8987",
   "metadata": {},
   "outputs": [],
   "source": [
    "# 과제2_1030 : listdata = ['a', 'b', 'c']에서 조건문을 이용해서 아래와 같이 출력하세요\n",
    "\n",
    "a가 listdata에 있습니다.\n",
    "b가 listdata에 있습니다.\n",
    "c가 listdata에 있습니다."
   ]
  },
  {
   "cell_type": "code",
   "execution_count": 37,
   "id": "525ed21a",
   "metadata": {},
   "outputs": [
    {
     "name": "stdout",
     "output_type": "stream",
     "text": [
      "a 가 listdata에 있습니다.\n",
      "b 가 listdata에 있습니다.\n",
      "c 가 listdata에 있습니다.\n"
     ]
    }
   ],
   "source": [
    "listdata = ['a', 'b', 'c']\n",
    "\n",
    "if 'a' in listdata:\n",
    "    print('a 가 listdata에 있습니다.')\n",
    "if 'b' in listdata:\n",
    "    print('b 가 listdata에 있습니다.')\n",
    "if 'c' in listdata:\n",
    "    print('c 가 listdata에 있습니다.')"
   ]
  },
  {
   "cell_type": "code",
   "execution_count": 40,
   "id": "4b353404",
   "metadata": {},
   "outputs": [
    {
     "name": "stdout",
     "output_type": "stream",
     "text": [
      "a가 listdata에 있습니다\n",
      "b가 listdata에 있습니다\n",
      "c가 listdata에 있습니다\n"
     ]
    }
   ],
   "source": [
    "listdata = ['a', 'b', 'c']\n",
    "\n",
    "for i in listdata:\n",
    "    if i in listdata:\n",
    "        print(f'{i}가 listdata에 있습니다')        "
   ]
  },
  {
   "cell_type": "code",
   "execution_count": 42,
   "id": "ba501522",
   "metadata": {},
   "outputs": [
    {
     "name": "stdout",
     "output_type": "stream",
     "text": [
      "주머니에 있는 돈 : 5000\n",
      "걸어 간다.\n"
     ]
    }
   ],
   "source": [
    "# 과제3_1030 : 돈이 있으면 택시를 타고, 돈이 없으면 걸어 간다를 만족하는 조건문을 작성하세요\n",
    "money = int(input(\"주머니에 있는 돈 : \"))\n",
    "if money >= 10000 : # 만원 이상이 있으면 택시\n",
    "    print('택시를 탄다.')\n",
    "else : # 만원 미만이면 걸어가기\n",
    "    print('걸어 간다.')"
   ]
  },
  {
   "cell_type": "code",
   "execution_count": null,
   "id": "bd6fe4d1",
   "metadata": {},
   "outputs": [],
   "source": [
    "# 과제4_1030 : 조건부 표현식을 한줄의 조건문으로 작성하세요.\n",
    "score = 70\n",
    "if score >= 60:\n",
    "    message = \"success\"\n",
    "else:\n",
    "    message = \"failure\"\n",
    "\n",
    "print(message)"
   ]
  },
  {
   "cell_type": "code",
   "execution_count": 45,
   "id": "7abbd89d",
   "metadata": {},
   "outputs": [
    {
     "data": {
      "text/plain": [
       "['success']"
      ]
     },
     "execution_count": 45,
     "metadata": {},
     "output_type": "execute_result"
    }
   ],
   "source": [
    "score = 70\n",
    "[\"success\" if score >= 60 else \"failure\"]"
   ]
  },
  {
   "cell_type": "code",
   "execution_count": 49,
   "id": "a1264003",
   "metadata": {},
   "outputs": [
    {
     "name": "stdout",
     "output_type": "stream",
     "text": [
      "수입 금액: 5000\n",
      "지출 금액: 10000\n",
      "채무 증가\n"
     ]
    }
   ],
   "source": [
    "# 과제5_1030 : \"수입과 지출금액을 비교해서 수입이 많은면 저축 증가, 반대이면 빚이 증가\" 프로그램 작성\n",
    "income = int(input('수입 금액: '))\n",
    "spend = int(input('지출 금액: '))\n",
    "\n",
    "if income > spend:\n",
    "    print('저축 증가')\n",
    "elif income < spend:\n",
    "    print('채무 증가')\n",
    "else:\n",
    "    print('현상 유지')"
   ]
  },
  {
   "cell_type": "markdown",
   "id": "3797d4a9",
   "metadata": {},
   "source": [
    "#### 반복문 (Loop Statements):\n",
    "- for: 시퀀스(리스트, 튜플, 문자열 등)의 아이템을 순회하면서 코드 블록을 실행\n",
    "- while: 특정 조건이 참인 동안 코드 블록을 반복하여 실행"
   ]
  },
  {
   "cell_type": "code",
   "execution_count": 53,
   "id": "d15a0d21",
   "metadata": {},
   "outputs": [
    {
     "name": "stdout",
     "output_type": "stream",
     "text": [
      "0 1 2 3 4 \n",
      "\n",
      "0\n",
      "1\n",
      "2\n",
      "3\n",
      "4\n"
     ]
    }
   ],
   "source": [
    "# for 루프는 시퀀스(리스트, 튜플, 문자열 등)나 반복 가능한 객체(iterable)의 요소를 순회\n",
    "\n",
    "for i in range(5):\n",
    "#     print(i)\n",
    "    print(i, end=' ')\n",
    "print('\\n')\n",
    "count = 0\n",
    "while count < 5:\n",
    "    print(count)\n",
    "    count += 1\n"
   ]
  },
  {
   "cell_type": "code",
   "execution_count": 55,
   "id": "031f6595",
   "metadata": {},
   "outputs": [
    {
     "name": "stdout",
     "output_type": "stream",
     "text": [
      "1 2 3 4 5 \n",
      "\n",
      "h e l l o "
     ]
    }
   ],
   "source": [
    "# 리스트를 순회하는 예\n",
    "for i in [1, 2, 3, 4, 5]:\n",
    "    print(i,end=' ')\n",
    "print('\\n')\n",
    "# 문자열을 순회하는 예\n",
    "for char in \"hello\":\n",
    "    print(char,end=' ')\n"
   ]
  },
  {
   "cell_type": "code",
   "execution_count": 57,
   "id": "50dcdc29",
   "metadata": {},
   "outputs": [
    {
     "name": "stdout",
     "output_type": "stream",
     "text": [
      "0 1 2 3 4 "
     ]
    }
   ],
   "source": [
    "# while 루프는 주어진 조건이 참(True)인 동안 코드 블록을 반복\n",
    "# 조건이 거짓(False)이 되면 루프가 종료\n",
    "count = 0\n",
    "while count < 5:\n",
    "    print(count,end=' ')\n",
    "    count += 1  # count를 1 증가시킵니다.\n"
   ]
  },
  {
   "cell_type": "code",
   "execution_count": 59,
   "id": "7568c2b5",
   "metadata": {},
   "outputs": [
    {
     "name": "stdout",
     "output_type": "stream",
     "text": [
      "97 98 99 "
     ]
    }
   ],
   "source": [
    "# Q. 97 98 99 을 출력하세요\n",
    "d = {'a':97, 'b':98, 'c':99}\n",
    "for key in d:\n",
    "    print(d[key],end=' ')"
   ]
  },
  {
   "cell_type": "markdown",
   "id": "7b3a4e0d",
   "metadata": {},
   "source": [
    "#### 제어문 관련 키워드:\n",
    "- break: 현재의 반복문을 중단하고, 반복문 바깥의 코드를 실행\n",
    "- continue: 반복문의 나머지 부분을 건너뛰고, 다음 반복을 시작"
   ]
  },
  {
   "cell_type": "code",
   "execution_count": 62,
   "id": "8f81537b",
   "metadata": {},
   "outputs": [
    {
     "name": "stdout",
     "output_type": "stream",
     "text": [
      "0 1 2 \n",
      "\n",
      "0 1 2 4 "
     ]
    }
   ],
   "source": [
    "for i in range(5):\n",
    "    if i == 3:\n",
    "        break\n",
    "    print(i,end=' ')\n",
    "print('\\n')\n",
    "\n",
    "for i in range(5):\n",
    "    if i == 3:\n",
    "        continue\n",
    "    print(i,end=' ')"
   ]
  },
  {
   "cell_type": "code",
   "execution_count": 64,
   "id": "f64d833c",
   "metadata": {},
   "outputs": [
    {
     "name": "stdout",
     "output_type": "stream",
     "text": [
      "0 1 2 3 4 \n",
      "\n",
      "1 3 5 7 9 "
     ]
    }
   ],
   "source": [
    "for i in range(10):\n",
    "    if i == 5:\n",
    "        break  # i가 5일 때 루프를 종료합니다.\n",
    "    print(i,end=' ')\n",
    "print('\\n')\n",
    "for i in range(10):\n",
    "    if i % 2 == 0:\n",
    "        continue  # i가 짝수일 때 나머지 부분을 건너뛰고 다음 반복을 시작합니다.\n",
    "    print(i, end=' ')\n"
   ]
  },
  {
   "cell_type": "code",
   "execution_count": 69,
   "id": "e9114baf",
   "metadata": {},
   "outputs": [
    {
     "name": "stdout",
     "output_type": "stream",
     "text": [
      "0\n",
      "1\n",
      "2\n",
      "3\n",
      "4\n",
      "루프가 완료되었습니다. \n",
      "\n",
      "0\n",
      "1\n",
      "2\n",
      "3\n",
      "4\n",
      "루프가 완료되었습니다.\n"
     ]
    }
   ],
   "source": [
    "# for 또는 while 루프에 else 절을 사용하면, 루프가 정상적으로 완료된 후에 실행할 코드를 지정\n",
    "for i in range(5):\n",
    "    print(i)\n",
    "else:\n",
    "    print(\"루프가 완료되었습니다.\",'\\n')\n",
    "# print(\"루프가 완료되었습니다.\",'\\n')  \n",
    "\n",
    "count = 0\n",
    "while count < 5:\n",
    "    print(count)\n",
    "    count += 1\n",
    "else:\n",
    "    print(\"루프가 완료되었습니다.\")\n",
    "# print(\"루프가 완료되었습니다.\")"
   ]
  },
  {
   "cell_type": "code",
   "execution_count": 70,
   "id": "dac1b311",
   "metadata": {},
   "outputs": [
    {
     "name": "stdout",
     "output_type": "stream",
     "text": [
      "3에서 루프를 중단합니다.\n"
     ]
    }
   ],
   "source": [
    "# break 문을 사용하여 루프를 중단하면 else 절은 실행되지 않음\n",
    "for i in range(5):\n",
    "    if i == 3:\n",
    "        print(f'{i}에서 루프를 중단합니다.')\n",
    "        break\n",
    "else:\n",
    "    print('루프가 정상적으로 완료되었습니다.')\n",
    "\n",
    "# 출력:\n",
    "# 3에서 루프를 중단합니다.\n"
   ]
  },
  {
   "cell_type": "markdown",
   "id": "c9ec0e6d",
   "metadata": {},
   "source": [
    "#### 조건과 반복을 결합"
   ]
  },
  {
   "cell_type": "code",
   "execution_count": 72,
   "id": "87970d75",
   "metadata": {},
   "outputs": [
    {
     "name": "stdout",
     "output_type": "stream",
     "text": [
      "1 3 5 7 9 "
     ]
    }
   ],
   "source": [
    "# 홀수만 출력\n",
    "for i in range(10):\n",
    "    if i % 2 != 0:\n",
    "        print(i,end=' ')\n"
   ]
  },
  {
   "cell_type": "code",
   "execution_count": null,
   "id": "51453e9b",
   "metadata": {},
   "outputs": [],
   "source": [
    "#과제6_1030 : 1~10 범위의 정수에서 1부터 5까지만 출력하세요"
   ]
  },
  {
   "cell_type": "code",
   "execution_count": 18,
   "id": "2af37d56",
   "metadata": {},
   "outputs": [
    {
     "name": "stdout",
     "output_type": "stream",
     "text": [
      "1 2 3 4 5 "
     ]
    }
   ],
   "source": [
    "for i in range (1, 11):\n",
    "    if i > 5:\n",
    "        break\n",
    "    print(i,end=' ')"
   ]
  },
  {
   "cell_type": "code",
   "execution_count": null,
   "id": "be4dec15",
   "metadata": {},
   "outputs": [],
   "source": [
    "#과제7_1030 :  numbers 리스트에서 15,20,25를 출력하세요.(for문과 if 조건 사용 필수)\n",
    "numbers = [5,15,6,20,7,25]"
   ]
  },
  {
   "cell_type": "code",
   "execution_count": 19,
   "id": "05b12b6f",
   "metadata": {},
   "outputs": [
    {
     "name": "stdout",
     "output_type": "stream",
     "text": [
      "15 20 25 "
     ]
    }
   ],
   "source": [
    "numbers = [5,15,6,20,7,25]\n",
    "for i in numbers:\n",
    "    if i > 5 and i%5 == 0:\n",
    "        print(i, end= ' ')"
   ]
  },
  {
   "cell_type": "code",
   "execution_count": 20,
   "id": "d899124f",
   "metadata": {},
   "outputs": [
    {
     "name": "stdout",
     "output_type": "stream",
     "text": [
      "15 20 25 "
     ]
    }
   ],
   "source": [
    "numbers = [5,15,6,20,7,25]\n",
    "for i in numbers:\n",
    "    if i > 10:\n",
    "        print(i, end= ' ')"
   ]
  },
  {
   "cell_type": "code",
   "execution_count": 74,
   "id": "47694cb1",
   "metadata": {},
   "outputs": [
    {
     "name": "stdout",
     "output_type": "stream",
     "text": [
      "1\n",
      "2\n",
      "3\n",
      "4\n",
      "5\n",
      "루프가 종료됨\n"
     ]
    }
   ],
   "source": [
    "# 특정 조건을 만족할 때까지 반복\n",
    "count = 0\n",
    "while True:  # 무한 루프\n",
    "    count += 1\n",
    "    if count > 5:\n",
    "        break  # count가 5보다 클 때 루프를 종료합니다.\n",
    "    print(count)\n",
    "print('루프가 종료됨')"
   ]
  },
  {
   "cell_type": "code",
   "execution_count": 77,
   "id": "fe754d78",
   "metadata": {},
   "outputs": [
    {
     "name": "stdout",
     "output_type": "stream",
     "text": [
      "3을(를) 찾았습니다!\n"
     ]
    }
   ],
   "source": [
    "# 리스트에서 특정값 찾기\n",
    "numbers = [1, 2, 3, 4, 5]\n",
    "target = 3\n",
    "for num in numbers:\n",
    "    if num == target:\n",
    "        print(f\"{target}을(를) 찾았습니다!\")\n",
    "        break\n",
    "else:\n",
    "    print(f\"{target}을(를) 찾지 못했습니다.\")\n",
    "# print(f\"{target}을(를) 찾지 못했습니다.\")"
   ]
  },
  {
   "cell_type": "code",
   "execution_count": 79,
   "id": "2f74fd07",
   "metadata": {},
   "outputs": [
    {
     "name": "stdout",
     "output_type": "stream",
     "text": [
      "1 3 5 7 9 "
     ]
    }
   ],
   "source": [
    "# Q. 1 ~ 20 사이의 정수에서 10보다 작은 홀수만 출력\n",
    "for i in range(1,21):\n",
    "    if i < 10:\n",
    "        if i % 2 !=0:\n",
    "            print(i,end=' ')\n",
    "    else:\n",
    "        break"
   ]
  },
  {
   "cell_type": "code",
   "execution_count": 83,
   "id": "59d715ec",
   "metadata": {},
   "outputs": [
    {
     "name": "stdout",
     "output_type": "stream",
     "text": [
      "1 3 5 7 9 "
     ]
    }
   ],
   "source": [
    "# while ~ continue ~ break\n",
    "a = 0\n",
    "while a < 20:\n",
    "    a += 1\n",
    "    if a % 2 ==0:\n",
    "        continue\n",
    "    if a >= 10:\n",
    "        break\n",
    "    print(a, end=' ')        "
   ]
  },
  {
   "cell_type": "code",
   "execution_count": 84,
   "id": "c744feb4",
   "metadata": {},
   "outputs": [
    {
     "name": "stdout",
     "output_type": "stream",
     "text": [
      "45\n",
      "1035\n"
     ]
    }
   ],
   "source": [
    "# Q. 정수 1부터 n까지 더할 때 그 합이 1000보다 커지게 되는 n과 합을 구하세요.(while ~ break)\n",
    "x = 1\n",
    "sum = 0\n",
    "while 1:\n",
    "    sum = sum + x\n",
    "    if sum > 1000:\n",
    "        print(x)\n",
    "        print(sum)\n",
    "        break\n",
    "    x = x + 1    "
   ]
  },
  {
   "cell_type": "code",
   "execution_count": 85,
   "id": "ed37a31a",
   "metadata": {},
   "outputs": [
    {
     "name": "stdout",
     "output_type": "stream",
     "text": [
      "166833\n"
     ]
    }
   ],
   "source": [
    "#Q. while문을 사용해 1부터 1000까지의 정수 중 3의 배수의 합을 구해 보세요.\n",
    "count = 1\n",
    "multiple_sum = 0\n",
    "while count <=1000:\n",
    "    if count % 3 == 0:\n",
    "        multiple_sum += count\n",
    "    count += 1\n",
    "print(multiple_sum)"
   ]
  },
  {
   "cell_type": "code",
   "execution_count": 86,
   "id": "e421fbc3",
   "metadata": {},
   "outputs": [
    {
     "name": "stdout",
     "output_type": "stream",
     "text": [
      "166833\n"
     ]
    }
   ],
   "source": [
    "n = 0\n",
    "sum = 0\n",
    "while n <1000:\n",
    "    n += 1\n",
    "    if n % 3 == 0:\n",
    "        sum += n\n",
    "print(sum)"
   ]
  },
  {
   "cell_type": "code",
   "execution_count": 94,
   "id": "6e02f100",
   "metadata": {},
   "outputs": [
    {
     "name": "stdout",
     "output_type": "stream",
     "text": [
      "정수를 입력하세요.:5\n",
      "입력한 숫자 5는 홀수 입니다.\n"
     ]
    }
   ],
   "source": [
    "# Q. 정수를 입력하면 홀수 짝수를 판별하는 프로그램 작성\n",
    "\n",
    "number = int(input(\"정수를 입력하세요.:\"))\n",
    "\n",
    "if number%2 == 1:\n",
    "    print(f'입력한 숫자 {number}는 홀수 입니다.')\n",
    "else:\n",
    "    print(f'입력한 숫자 {number}는 짝수 입니다.')\n"
   ]
  },
  {
   "cell_type": "code",
   "execution_count": 97,
   "id": "40f89cdb",
   "metadata": {},
   "outputs": [
    {
     "name": "stdout",
     "output_type": "stream",
     "text": [
      "문자열을 입력 : abcdefg\n",
      "bcdefga\n"
     ]
    }
   ],
   "source": [
    "# Q. 입력받은 문자열의 각 문자를 그 다음 문자로 변경하여 출력하세요.(ABC -> BCA)\n",
    "\n",
    "data = input('문자열을 입력 : ')\n",
    "for i in range(len(data)):\n",
    "    if i == 0:\n",
    "        continue\n",
    "    print(data[i],end='')\n",
    "else:\n",
    "    print(data[0])"
   ]
  },
  {
   "cell_type": "code",
   "execution_count": 91,
   "id": "f48cccff",
   "metadata": {},
   "outputs": [
    {
     "name": "stdout",
     "output_type": "stream",
     "text": [
      "[(1, 'a'), (2, 'b'), (3, 'c'), (4, 'd')]\n"
     ]
    }
   ],
   "source": [
    "# zip 함수는 여러 개의 반복 가능한 객체(iterables)를 인수로 받아, 각 객체의 같은 인덱스에 위치한 \n",
    "# 요소들을 묶어 튜플로 반환하는 이터레이터를 생성\n",
    "list1 = [1, 2, 3, 4]\n",
    "list2 = ['a', 'b', 'c', 'd']\n",
    "zipped = zip(list1, list2)\n",
    "print(list(zipped)) "
   ]
  },
  {
   "cell_type": "code",
   "execution_count": 105,
   "id": "8a975941",
   "metadata": {},
   "outputs": [
    {
     "data": {
      "text/plain": [
       "['갑돌', '이몽룡', '온돌', '철수', '로미오']"
      ]
     },
     "execution_count": 105,
     "metadata": {},
     "output_type": "execute_result"
    }
   ],
   "source": [
    "from random import shuffle\n",
    "male = ['철수','갑돌','로미오','이몽룡','온돌']\n",
    "shuffle(male)\n",
    "male"
   ]
  },
  {
   "cell_type": "code",
   "execution_count": 110,
   "id": "129cd657",
   "metadata": {},
   "outputs": [
    {
     "name": "stdout",
     "output_type": "stream",
     "text": [
      "로미오,갑순\n"
     ]
    }
   ],
   "source": [
    "t = ('로미오', '갑순')\n",
    "print(t[0],t[1],sep=',')"
   ]
  },
  {
   "cell_type": "code",
   "execution_count": null,
   "id": "4c8cea9d",
   "metadata": {},
   "outputs": [],
   "source": [
    "for i, couple in enumerate(couples):"
   ]
  },
  {
   "cell_type": "markdown",
   "id": "dcc6775c",
   "metadata": {},
   "source": [
    "Q. 남녀 파트너 정해주기 프로그램(zip)\n",
    "\n",
    "같은 수의 남녀 모임에서 파트너를 랜덤하게 정해주는 프로그램을 만들어 보세요\n",
    "\n",
    "male = ['철수','갑돌','로미오','이몽룡','온돌']\n",
    "\n",
    "female = ['미미','갑순','줄리엣','성춘향','평강']"
   ]
  },
  {
   "cell_type": "code",
   "execution_count": null,
   "id": "c9f4038f",
   "metadata": {},
   "outputs": [],
   "source": [
    "커플1:로미오, 갑순\n",
    "커플2:이몽룡, 미미\n",
    "커플3:철수, 성춘향\n",
    "커플4:온돌, 평강\n",
    "커플5:갑돌, 줄리엣"
   ]
  },
  {
   "cell_type": "code",
   "execution_count": 118,
   "id": "cd9e4bc8",
   "metadata": {},
   "outputs": [
    {
     "name": "stdout",
     "output_type": "stream",
     "text": [
      "커플1: 이몽룡, 줄리엣\n",
      "커플2: 갑돌, 평강\n",
      "커플3: 온돌, 성춘향\n",
      "커플4: 철수, 갑순\n",
      "커플5: 로미오, 미미\n"
     ]
    }
   ],
   "source": [
    "from random import shuffle\n",
    "male = ['철수','갑돌','로미오','이몽룡','온돌']\n",
    "female = ['미미','갑순','줄리엣','성춘향','평강']\n",
    "shuffle(male)\n",
    "shuffle(female)\n",
    "couples = zip(male, female)\n",
    "\n",
    "for i, couple in enumerate(couples):\n",
    "    print(f'커플{i+1}: {couple[0]}, {couple[1]}')"
   ]
  },
  {
   "cell_type": "code",
   "execution_count": 130,
   "id": "63d5ba4b",
   "metadata": {},
   "outputs": [
    {
     "name": "stdout",
     "output_type": "stream",
     "text": [
      "[1, 2, 3, 4, 5, 6, 7, 8, 9, 10, 11, 12, 13, 14, 15, 16, 17, 18, 19, 20, 21, 22, 23, 24, 25, 26, 27, 28, 29, 30, 31, 32, 33, 34, 35, 36, 37, 38, 39, 40, 41, 42, 43, 44, 45] \n",
      "\n",
      "[30, 28, 27, 33, 2, 45]\n",
      "[6, 3, 42, 37, 20, 27]\n",
      "[38, 18, 37, 7, 9, 24]\n",
      "[35, 20, 40, 43, 3, 26]\n",
      "[34, 44, 1, 37, 31, 35]\n",
      "[23, 25, 35, 5, 18, 16]\n"
     ]
    }
   ],
   "source": [
    "import random\n",
    "r = list(range(1,46))\n",
    "print(r,'\\n')\n",
    "for i in range(6):\n",
    "    lotto = random.sample(r,6) # unique한 원소 6개\n",
    "    print(lotto)"
   ]
  },
  {
   "cell_type": "code",
   "execution_count": 131,
   "id": "e353dfb6",
   "metadata": {},
   "outputs": [
    {
     "name": "stdout",
     "output_type": "stream",
     "text": [
      "발표자 수 입력5\n",
      "['전유빈', '주용규', '윤성민', '서영우', '심주승']\n"
     ]
    }
   ],
   "source": [
    "# Q. 발표자 수를 랜덤하게 출력하는 프로그램을 작성하세요.(발표자 수 입력)\n",
    "import random\n",
    "kita = ['김신미','김학준','서영우','심주승','윤성민','이민지','전유빈','주용규','최재빈','한정현','황인서']\n",
    "num = int(input('발표자 수 입력'))\n",
    "ans = random.sample(kita, num)\n",
    "print(ans)"
   ]
  },
  {
   "cell_type": "code",
   "execution_count": null,
   "id": "9847e037",
   "metadata": {},
   "outputs": [],
   "source": [
    "# 과제8_1030 : 1부터 100까지의 정수중 5에서 95까지의 합을 구하세요."
   ]
  },
  {
   "cell_type": "code",
   "execution_count": 21,
   "id": "4418c143",
   "metadata": {},
   "outputs": [
    {
     "name": "stdout",
     "output_type": "stream",
     "text": [
      "4550\n"
     ]
    }
   ],
   "source": [
    "num = 1\n",
    "sum = 0\n",
    "while num <= 100:\n",
    "    if num >=5 and num <= 95: \n",
    "        sum += num\n",
    "    num += 1\n",
    "print(sum)"
   ]
  },
  {
   "cell_type": "code",
   "execution_count": 22,
   "id": "f8256a55",
   "metadata": {},
   "outputs": [
    {
     "name": "stdout",
     "output_type": "stream",
     "text": [
      "4550\n"
     ]
    }
   ],
   "source": [
    "x = 1\n",
    "sum = 0\n",
    "while x < 101:\n",
    "    if (x >= 5 and x <= 95):\n",
    "        sum += x\n",
    "    x += 1\n",
    "print(sum)        "
   ]
  },
  {
   "cell_type": "code",
   "execution_count": 25,
   "id": "b316f4ef",
   "metadata": {},
   "outputs": [
    {
     "name": "stdout",
     "output_type": "stream",
     "text": [
      "4550\n"
     ]
    }
   ],
   "source": [
    "num = 1\n",
    "sum = 0\n",
    "while num <= 100:\n",
    "    if num < 5 or num > 95: \n",
    "        num += 1\n",
    "        continue\n",
    "    sum += num\n",
    "    num += 1\n",
    "print(sum)"
   ]
  },
  {
   "cell_type": "code",
   "execution_count": null,
   "id": "0e36647a",
   "metadata": {},
   "outputs": [],
   "source": [
    "# 과제9_1030 : while문을 사용해 1부터 1000까지의 정수 중 3과 5의 공배수의 합을 구해 보세요."
   ]
  },
  {
   "cell_type": "code",
   "execution_count": 26,
   "id": "ce5ddf8c",
   "metadata": {},
   "outputs": [
    {
     "name": "stdout",
     "output_type": "stream",
     "text": [
      "33165\n"
     ]
    }
   ],
   "source": [
    "i = 1\n",
    "sum = 0\n",
    "\n",
    "while i <= 1000:\n",
    "    if (i % 3 == 0 and i % 5 == 0):\n",
    "        sum += i\n",
    "    i += 1\n",
    "print(sum)"
   ]
  },
  {
   "cell_type": "code",
   "execution_count": 13,
   "id": "bca4ef96",
   "metadata": {},
   "outputs": [
    {
     "name": "stdout",
     "output_type": "stream",
     "text": [
      "33165\n"
     ]
    }
   ],
   "source": [
    "x = 1\n",
    "sum = 0\n",
    "while x < 1001:\n",
    "    if x % 15 == 0:\n",
    "        sum += x\n",
    "    x += 1\n",
    "print(sum)"
   ]
  },
  {
   "cell_type": "code",
   "execution_count": 27,
   "id": "e72e4505",
   "metadata": {},
   "outputs": [
    {
     "name": "stdout",
     "output_type": "stream",
     "text": [
      "오전입니다.\n"
     ]
    }
   ],
   "source": [
    "# 과제10_1030 : 현재 시각을 오전과 오후로 구분하는 프로그램을 작성하세요.\n",
    "\n",
    "import datetime\n",
    "now=datetime.datetime.now()\n",
    "now_time = now.hour\n",
    "\n",
    "if now_time >= 12:\n",
    "    print(\"오후입니다.\")\n",
    "else:\n",
    "    print(\"오전입니다.\")"
   ]
  },
  {
   "cell_type": "code",
   "execution_count": 31,
   "id": "180ed042",
   "metadata": {},
   "outputs": [
    {
     "name": "stdout",
     "output_type": "stream",
     "text": [
      "현재 시간을 입력하세요5\n",
      "현재시간은 5시로 오전입니다\n"
     ]
    }
   ],
   "source": [
    "# 시간 입력하면 오전과 오후로 구분하는 프로그램을 작성하세요.\n",
    "t = int(input('현재 시간을 입력하세요'))\n",
    "\n",
    "if t < 12:\n",
    "    print(f'현재시간은 {t}시로 오전입니다')\n",
    "else:\n",
    "    print(f'현재 시간은 {t}시로 오후입니다')"
   ]
  },
  {
   "cell_type": "code",
   "execution_count": 29,
   "id": "7fce8841",
   "metadata": {},
   "outputs": [
    {
     "name": "stdout",
     "output_type": "stream",
     "text": [
      "현재 시간을 입력하세요(ex. 15시 30분): 15시 20분\n",
      "오후 입니다.\n"
     ]
    }
   ],
   "source": [
    "# 다양한 오류 입력에 대한 해결 방안 추가 필요\n",
    "time = input(\"현재 시간을 입력하세요(ex. 15시 30분): \")\n",
    "\n",
    "if time[2] != '시':\n",
    "    print(\"형식에 맞춰 작성해 주세요.\")\n",
    "elif int(time.split('시')[0]) >= 0  and int(time.split('시')[0]) < 12:\n",
    "    print(\"오전 입니다.\")\n",
    "elif int(time.split('시')[0]) >= 12 and int(time.split('시')[0]) < 24:\n",
    "    print(\"오후 입니다.\")\n",
    "else:\n",
    "    print(\"시간을 다시 입력해 주세요.\")"
   ]
  },
  {
   "cell_type": "code",
   "execution_count": 32,
   "id": "b6a972c3",
   "metadata": {},
   "outputs": [
    {
     "name": "stdout",
     "output_type": "stream",
     "text": [
      "태어난 연도를 입력하세요: 1995\n",
      "1995년은 돼지띠입니다.\n"
     ]
    }
   ],
   "source": [
    "birth_year = int(input(\"태어난 연도를 입력하세요: \"))\n",
    "\n",
    "zodiacs = [\"쥐\", \"소\", \"호랑이\", \"토끼\", \"용\", \"뱀\", \"말\", \"양\", \"원숭이\", \"닭\", \"개\", \"돼지\"]\n",
    "\n",
    "zodiac_index = (birth_year - 1924) % 12\n",
    "zodiac = zodiacs[zodiac_index]\n",
    "\n",
    "print(f\"{birth_year}년은 {zodiac}띠입니다.\")"
   ]
  },
  {
   "cell_type": "code",
   "execution_count": null,
   "id": "ab18129c",
   "metadata": {},
   "outputs": [],
   "source": [
    "# 과제11_1030 : 태어난 연도를 입력받아 띠를 출력하는 프로그램을 작성하세요.\n",
    "# 원숭이, 닭, 개, 돼지, 쥐, 소, 범, 토끼, 용, 뱀, 말, 양띠"
   ]
  },
  {
   "cell_type": "code",
   "execution_count": 33,
   "id": "865fcf63",
   "metadata": {},
   "outputs": [
    {
     "name": "stdout",
     "output_type": "stream",
     "text": [
      "태어난 해를 입력하세요> 2001\n",
      "뱀 띠 입니다.\n"
     ]
    }
   ],
   "source": [
    "year_input = int(input(\"태어난 해를 입력하세요> \"))\n",
    "birth_year = year_input % 12 \n",
    "\n",
    "if birth_year == 0:\n",
    "    print('원숭이 띠 입니다.')\n",
    "elif birth_year==1:\n",
    "    print(\"닭 띠 입니다.\")\n",
    "elif birth_year==2:\n",
    "    print(\"개 띠 입니다.\")\n",
    "elif birth_year==3:\n",
    "    print(\"돼지 띠 입니다.\")\n",
    "elif birth_year==4:\n",
    "    print(\"쥐 띠 입니다.\")\n",
    "elif birth_year==5:\n",
    "    print(\"소 띠 입니다.\")\n",
    "elif birth_year==6:\n",
    "    print(\"범 띠 입니다.\")\n",
    "elif birth_year==7:\n",
    "    print(\"토끼 띠 입니다.\")\n",
    "elif birth_year==8:\n",
    "    print(\"용 띠 입니다.\")\n",
    "elif birth_year==9:\n",
    "    print(\"뱀 띠 입니다.\")\n",
    "elif birth_year==10:\n",
    "    print(\"말 띠 입니다.\")\n",
    "else:\n",
    "    print(\"양 띠 입니다\")"
   ]
  },
  {
   "cell_type": "code",
   "execution_count": 34,
   "id": "ede756bc",
   "metadata": {},
   "outputs": [
    {
     "name": "stdout",
     "output_type": "stream",
     "text": [
      "태어난 해를 입력하세요> 2002\n",
      "말 띠입니다.\n"
     ]
    }
   ],
   "source": [
    "y = ['원숭이', '닭', '개', '돼지', '쥐', '소', '범', '토끼', '용', '뱀', '말', '양띠']\n",
    "x = int(input(\"태어난 해를 입력하세요> \"))\n",
    "print(f'{y[x%12]} 띠입니다.' )"
   ]
  },
  {
   "cell_type": "markdown",
   "id": "f95a71a1",
   "metadata": {},
   "source": [
    "과제12_1030 : 커피 자판기 프로그램\n",
    "- 시나리오 : 자판기 커피 재고 5잔, 커피 1잔 가격 300원, 재고 범위내에서 300원 이상 돈을 넣으면 거스름돈과 커피를 주고 그렇지 않으면 반환하며 재고가 소진되면 안내멘트 출력\n",
    "- 각 Case별 멘트 출력은 상황에 맞게 창작\n",
    "- while, if ~ elif ~ else 제어문을 사용하여 작성"
   ]
  },
  {
   "cell_type": "code",
   "execution_count": null,
   "id": "9828b550",
   "metadata": {},
   "outputs": [],
   "source": [
    "# 완성도를 높여서 재시도 - 주용규님\n",
    "remain = 5\n",
    "\n",
    "money_input = 0\n",
    "\n",
    "cup_num = 0\n",
    "\n",
    "intro_str = f'kita 자판기 안내\\n커피 1잔: 300원\\n남은재고: {remain}잔'\n",
    "line_str = '======================================================='\n",
    "list_str = f'선택 잔수: {cup_num}잔\\n가격: {cup_num*300}원\\n넣은 돈: {money_input}원'\n",
    "menu_str = '0.안내 보기 / 1.잔수 입력 / 2. 돈 넣기 / 3. 주문 완료'\n",
    "\n",
    "cnt = 0 # 무한 루프 방지용, 첫화면 확인\n",
    "while cnt < 20:\n",
    "    if cnt == 0:\n",
    "        print(intro_str)\n",
    "    cnt += 1    \n",
    "    \n",
    "    print(line_str)\n",
    "    print(list_str)\n",
    "    print(line_str)\n",
    "    print(menu_str)\n",
    "    print(line_str)\n",
    "    order = int(input('메뉴 번호를 선택하세요: '))\n",
    "    print()\n",
    "    if order in [0,1,2,3]:\n",
    "        if order == 0:\n",
    "            print(intro_str)\n",
    "        elif order == 1:\n",
    "            cup_num = int(input(f'주문할 잔수를 선택하세요(재고 {remain}잔) : '))\n",
    "            list_str = f'선택 잔수: {cup_num}잔\\n가격: {cup_num*300}원\\n넣은 돈: {money_input}원'\n",
    "        elif order == 2:\n",
    "            money_input += int(input(f'돈을 넣어주세요(넣은 돈 {money_input}원) : '))\n",
    "            list_str = f'선택 잔수: {cup_num}잔\\n가격: {cup_num*300}원\\n넣은 돈: {money_input}원'\n",
    "        else:\n",
    "            if remain < cup_num:\n",
    "                print('재고가 모자랍니다. 잔수를 다시 입력하세요.')\n",
    "            else:\n",
    "                if money_input > cup_num*300:\n",
    "                    print(f'주문하신 커피 {cup_num}잔\\n거스름돈 {money_input-cup_num*300}원 반출완료 되었습니다.')\n",
    "                    print()\n",
    "                    remain -= cup_num\n",
    "                    intro_str = f'kita 자판기 안내\\n커피 1잔: 300원\\n남은재고: {remain}잔'\n",
    "                    money_input = 0\n",
    "                    cup_num = 0\n",
    "                    list_str = f'선택 잔수: {cup_num}잔\\n가격: {cup_num*300}원\\n넣은 돈: {money_input}원'\n",
    "                    cnt = 0\n",
    "                else: \n",
    "                    print('금액이 모자랍니다. 돈을 넣거나 잔수를 재입력하세요.')\n",
    "    else:\n",
    "        print('메뉴 안의 숫자를 입력해주세요.')\n",
    "        continue\n",
    "        \n",
    "    if remain <= 0:\n",
    "        print('재고 소진으로 자판기가 꺼집니다.')\n",
    "        break"
   ]
  },
  {
   "cell_type": "code",
   "execution_count": null,
   "id": "ee61d5fe",
   "metadata": {},
   "outputs": [],
   "source": [
    "# 함수 학습 후 재시도 - 서영우님\n",
    "coffee_count = 5\n",
    "coffe_price = 300\n",
    "def check_order(coffee_count):\n",
    "    order = input('커피 주문하시겠습니까? : (y/n)')\n",
    "    if order == 'y':\n",
    "        check_coffe_count(coffee_count)\n",
    "    elif order == 'n':\n",
    "        print('주문이 취소되었습니다.')\n",
    "    else:\n",
    "        print('system오류입니다.')\n",
    "        print('초기화면으로 돌아갑니다.')\n",
    "        check_order(coffee_count)\n",
    "        \n",
    "def check_coffe_count(coffee_count):\n",
    "    try:\n",
    "        count = int(input('몇 잔 주문하시겠습니까?'))\n",
    "        if coffee_count >= int(count):\n",
    "            print(f'커피를 {int(count)}잔 주문하셨습니다.')\n",
    "            check_money(count, coffee_count)\n",
    "        elif coffee_count == 0:\n",
    "            print('커피가 다 소진되었습니다.')\n",
    "        elif coffee_count < int(count):\n",
    "            print(f'현재 커피{coffee_count}잔 남았습니다.')\n",
    "            check_coffe_count(coffee_count)\n",
    "        else:\n",
    "            print('system오류입니다.')\n",
    "    except:\n",
    "        print('system오류입니다.')\n",
    "        check_coffe_count(coffee_count)\n",
    "\n",
    "def check_money(count, coffee_count):\n",
    "    need = int(count)*300\n",
    "    money = int(input(f'입금하실 돈은 {need}원 입니다.'))\n",
    "    if money >= need:\n",
    "        change(money, need, count, coffee_count)\n",
    "    elif money < need:\n",
    "        print(f'커피값이 {need-money}원 모자릅니다.')\n",
    "        check = input('추가 결제 하시겠습니까? : (y/n)')\n",
    "        if check == 'y':\n",
    "            extra_money = int(input(f'추가결제할 금액은 {need-money}원입니다.'))\n",
    "            if extra_money >= need-money:\n",
    "                change(extra_money, need-money, count, coffee_count)\n",
    "            elif int(extra_money) < need-money:\n",
    "                print('추가 금액이 모자릅니다.')\n",
    "                check = input('추가 결제 하시겠습니까? : (y/n)')\n",
    "                if check == 'y': \n",
    "                    extra_money = int(input(f'추가결제할 금액은 {need-money}원입니다.'))\n",
    "                    if extra_money >= need-money:\n",
    "                        change(extra_money, need-money, count, coffee_count)\n",
    "                elif check == 'n':\n",
    "                    print('주문이 취소되었습니다.')\n",
    "                    check_order(coffee_count)\n",
    "        elif check == 'n':\n",
    "            print('금액이 모자릅니다.')\n",
    "            check = input('추가 결제 하시겠습니까? : (y/n)')\n",
    "            if check == 'y': \n",
    "                    extra_money = int(input(f'추가결제할 금액은 {need-money}원입니다.'))\n",
    "                    if extra_money >= need-money:\n",
    "                        change(extra_money, need-money, count, coffee_count)\n",
    "                    elif int(extra_money) < need-money:\n",
    "                        print('추가 금액이 모자릅니다.')\n",
    "                        check = input('추가 결제 하시겠습니까? : (y/n)')\n",
    "            elif check == 'n':\n",
    "                print('주문이 취소되었습니다.')\n",
    "                check_order(coffee_count)\n",
    "        else:\n",
    "            print('(y/n 중에 입력해주십시요).')\n",
    "            check_money(count, coffee_count)\n",
    "    else:\n",
    "        print('숫자를 입력해 주십시요.')\n",
    "        check_money(count, coffee_count)\n",
    "        \n",
    "def change(money, need, count, coffee_count):\n",
    "    if money > need:\n",
    "        change = money - need\n",
    "        print(f'커피 {count}잔과 잔돈 {change}원 드렸습니다.')\n",
    "        coffee_count = coffee_count - count\n",
    "        extra(coffee_count)\n",
    "    elif money == need:\n",
    "        print(f'커피 {count}잔 드렸습니다.')\n",
    "        coffee_count= coffee_count - count\n",
    "        extra(coffee_count)\n",
    "        \n",
    "def extra(coffee_count):\n",
    "    extra = input('추가 주문하시겠습니까? : (y/n)')\n",
    "    if extra == 'y':\n",
    "        check_order(coffee_count)\n",
    "    elif extra == 'n':\n",
    "        print('주문이 종료되었습니다.')\n",
    "\n",
    "check_order(coffee_count)"
   ]
  },
  {
   "cell_type": "code",
   "execution_count": 36,
   "id": "6948a0fd",
   "metadata": {},
   "outputs": [
    {
     "name": "stdout",
     "output_type": "stream",
     "text": [
      "돈을 주시면 커피를 드립니다.300\n",
      "커피를 추출합니다\n",
      "돈을 주시면 커피를 드립니다.200\n",
      "금액이 부족하여 200원을 반환합니다.\n",
      "돈을 주시면 커피를 드립니다.500\n",
      "거스름돈 200원을 반환하고 커피를 추출합니다.\n",
      "돈을 주시면 커피를 드립니다.300\n",
      "커피를 추출합니다\n",
      "돈을 주시면 커피를 드립니다.300\n",
      "커피를 추출합니다\n",
      "돈을 주시면 커피를 드립니다.300\n",
      "커피를 추출합니다\n",
      "커피가 다 소진되었습니다. 다음에 또 찾아주시길 바랍니다.\n"
     ]
    }
   ],
   "source": [
    "coffee = 5\n",
    "while True:\n",
    "    money =int(input(\"돈을 주시면 커피를 드립니다.\"))\n",
    "    if money ==300:\n",
    "        print(\"커피를 추출합니다\")\n",
    "        coffee -=1\n",
    "    elif money > 300:\n",
    "        print(\"거스름돈 %d원을 반환하고 커피를 추출합니다.\"%(money-300))\n",
    "        coffee -=1\n",
    "    else:\n",
    "        print(\"금액이 부족하여 %d원을 반환합니다.\"%(money))\n",
    "    if coffee == 0:\n",
    "        print(\"커피가 다 소진되었습니다. 다음에 또 찾아주시길 바랍니다.\")\n",
    "        break"
   ]
  },
  {
   "cell_type": "code",
   "execution_count": null,
   "id": "824f0f8c",
   "metadata": {},
   "outputs": [],
   "source": [
    "coffee = 5\n",
    "price = 300\n",
    "while 1:\n",
    "    money = int(input('현금을 넣어주세요!'))\n",
    "    if money == 300:\n",
    "        print('커피 맛있게 드세요')\n",
    "        coffee -= 1\n",
    "    elif money > 300:\n",
    "        c = money - 300\n",
    "        print(f'거스름돈 {c} 받으시고 커피 맛있게 드세요')\n",
    "        coffee -= 1\n",
    "    else:\n",
    "        print(f'커피는 {price}원 입니다. 현금을 다시 넣어 주세요.)\n",
    "    if coffee ==0:\n",
    "        print('커피가 없어요!')\n",
    "        break\n",
    "              "
   ]
  },
  {
   "cell_type": "code",
   "execution_count": 39,
   "id": "4436badf",
   "metadata": {},
   "outputs": [
    {
     "name": "stdout",
     "output_type": "stream",
     "text": [
      "정수를 입력0\n",
      "정수를 입력0\n",
      "0\n"
     ]
    }
   ],
   "source": [
    "while True:\n",
    "    num1 = int(input(\"정수를 입력\"))\n",
    "    num2 = int(input(\"정수를 입력\"))\n",
    "    if num1 % 2 == 0 and num2 % 2 == 0:\n",
    "        print(num1*num2)\n",
    "    elif num1 % 2 == 1 and num2 % 2 == 1:\n",
    "        print(num1+num2)\n",
    "    else:\n",
    "        print(\"다시 입력하세요\")\n",
    "    if num1  == 0 and num2  == 0: \n",
    "        break"
   ]
  },
  {
   "cell_type": "code",
   "execution_count": 38,
   "id": "6d3c1700",
   "metadata": {},
   "outputs": [
    {
     "name": "stdout",
     "output_type": "stream",
     "text": [
      "5\n",
      "5\n",
      "10\n"
     ]
    }
   ],
   "source": [
    "# Q. 짝수와 짝수를 입력하면 곱한 값을 출력하고 홀수와 홀수를 입력하면 덧셈 값을 출력하고 그외는\n",
    "# 다시 입력하라는 메시지를 출력하세요.\n",
    "\n",
    "x = int(input())\n",
    "y = int(input())\n",
    "\n",
    "if (x % 2 == 0) & (y % 2 == 0):\n",
    "    print(x * y)\n",
    "elif (x % 2 == 1) & (y % 2 == 1):\n",
    "    print(x + y)\n",
    "else:\n",
    "    print('다시 입력해 주세요')"
   ]
  },
  {
   "cell_type": "markdown",
   "id": "4c03a999",
   "metadata": {},
   "source": [
    "pop 함수 \n",
    "- 리스트와 같은 자료 구조에서 주로 사용되는 함수\n",
    "- 이 함수는 특정 인덱스에 위치한 요소를 리스트에서 제거하고 해당 요소를 반환"
   ]
  },
  {
   "cell_type": "code",
   "execution_count": 42,
   "id": "66fcc1eb",
   "metadata": {},
   "outputs": [
    {
     "name": "stdout",
     "output_type": "stream",
     "text": [
      "cherry\n",
      "['apple', 'banana', 'date']\n",
      "date\n",
      "['apple', 'banana']\n"
     ]
    }
   ],
   "source": [
    "fruits = [\"apple\", \"banana\", \"cherry\", \"date\"]\n",
    "\n",
    "# 인덱스 2의 요소 (cherry)를 제거하고 반환\n",
    "removed_fruit = fruits.pop(2)\n",
    "print(removed_fruit)  \n",
    "print(fruits)  \n",
    "\n",
    "# 리스트의 마지막 요소 (date)를 제거하고 반환\n",
    "last_fruit = fruits.pop()\n",
    "print(last_fruit)  \n",
    "print(fruits)  \n"
   ]
  },
  {
   "cell_type": "code",
   "execution_count": null,
   "id": "2d683fec",
   "metadata": {},
   "outputs": [],
   "source": [
    "# 과제_1_1031 : 사용자가 입력한 게임 회수만큼 로또 번호를 출력하는 프로그램을 작성하세요.(중복 처리)"
   ]
  },
  {
   "cell_type": "code",
   "execution_count": 41,
   "id": "55be267f",
   "metadata": {},
   "outputs": [
    {
     "name": "stdout",
     "output_type": "stream",
     "text": [
      "게임 회수를 입력하세요: 6\n",
      "로또 번호1: [7, 15, 16, 30, 37, 44]\n",
      "로또 번호2: [7, 20, 25, 26, 43, 44]\n",
      "로또 번호3: [3, 14, 34, 40, 44, 45]\n",
      "로또 번호4: [4, 5, 17, 19, 25, 43]\n",
      "로또 번호5: [13, 19, 29, 36, 37, 44]\n",
      "로또 번호6: [1, 2, 5, 21, 30, 41]\n"
     ]
    }
   ],
   "source": [
    "import random\n",
    "\n",
    "turns = int(input('게임 회수를 입력하세요: '))\n",
    "\n",
    "for i in range(turns):\n",
    "   lotto_numbers = random.sample(range(1, 46), 6)           # random.sample(range(1, 46), 6) 1에서 45 숫자 중 6개 뽑는 이렇게 해도 됨\n",
    "   lotto_numbers.sort()\n",
    "   print(f\"로또 번호{i+1}:\", lotto_numbers)"
   ]
  },
  {
   "cell_type": "code",
   "execution_count": 141,
   "id": "e8b05b3c",
   "metadata": {},
   "outputs": [
    {
     "name": "stdout",
     "output_type": "stream",
     "text": [
      "☆★로또번호 생성기★☆\n",
      "게임 횟수를 입력하세요(숫자만 입력): 6\n",
      "[21, 5, 32, 11, 37, 26]\n",
      "[13, 22, 37, 23, 16, 9]\n",
      "[19, 9, 37, 16, 12, 5]\n",
      "[7, 3, 11, 6, 44, 21]\n",
      "[44, 27, 38, 1, 43, 14]\n",
      "[4, 8, 27, 29, 31, 16]\n"
     ]
    }
   ],
   "source": [
    "\n",
    "import random, string\n",
    "cn = 'y'\n",
    "print('☆★로또번호 생성기★☆')\n",
    "while(cn == 'y'):\n",
    "    game = input('게임 횟수를 입력하세요(숫자만 입력): ')\n",
    "    if(game.isdigit() == True):\n",
    "        for i in range(0, int(game)):\n",
    "            lotto = random.sample(range(1,46),6)\n",
    "            #lotto.sort() #예쁘게 보고 싶으면 하면 됩니다\n",
    "            print(lotto)\n",
    "            cn = 'n'\n",
    "    else:\n",
    "        print(\"숫자를 입력하세요\")\n",
    "        continue"
   ]
  },
  {
   "cell_type": "code",
   "execution_count": 44,
   "id": "da92620b",
   "metadata": {},
   "outputs": [
    {
     "name": "stdout",
     "output_type": "stream",
     "text": [
      "로또 회수를 입력하세요> 6\n",
      "로또번호 1: [4, 18, 23, 29, 40, 41]\n",
      "로또번호 2: [5, 11, 23, 27, 35, 40]\n",
      "로또번호 3: [23, 25, 37, 38, 43, 45]\n",
      "로또번호 4: [4, 17, 29, 36, 37, 42]\n",
      "로또번호 5: [1, 4, 7, 8, 25, 29]\n",
      "로또번호 6: [2, 12, 23, 30, 34, 42]\n"
     ]
    }
   ],
   "source": [
    "from random import shuffle\n",
    "from time import sleep\n",
    "\n",
    "gnum = int(input('로또 회수를 입력하세요> '))\n",
    "for i in range(gnum):\n",
    "    lt = [x+1 for x in range(45)]\n",
    "    ret = []\n",
    "    for j in range(6):\n",
    "        shuffle(lt)\n",
    "        num = lt.pop()\n",
    "        ret.append(num)\n",
    "        ret.sort()\n",
    "    print('로또번호 %d: ' %(i+1), end='')\n",
    "    print(ret)\n",
    "    sleep(1)"
   ]
  },
  {
   "cell_type": "markdown",
   "id": "6eab1eb8",
   "metadata": {},
   "source": [
    "과제2_1031 현재 계절 구분 프로그램\n",
    "- 시나리오 : 3 ~ 5월은 봄, 6 ~ 8월은 여름, 9 ~ 11월은 가을, 12 ~ 2월은 겨울로 구분. 지금 계절을 알려주는 프로그램 \n",
    "- 각 계절별 출력 멘트는 계절에 맞게 창작\n",
    "- if 조건문으로 datetime 모듈을 import해서 datetime.now 함수를 사용해서 작성"
   ]
  },
  {
   "cell_type": "code",
   "execution_count": 45,
   "id": "97d0550d",
   "metadata": {},
   "outputs": [
    {
     "name": "stdout",
     "output_type": "stream",
     "text": [
      "독서의 계절 가을이 왔습니다.\n"
     ]
    }
   ],
   "source": [
    "from datetime import datetime\n",
    "spring = [3,4,5]\n",
    "summer = [6,8,7]\n",
    "autumn = [9,10,11]\n",
    "winter = [12,1,2]\n",
    "\n",
    "today = datetime.now()\n",
    "month = today.month\n",
    "if month in spring:\n",
    "    print(\"새싹이 돋아나는 봄이 왔습니다.\")\n",
    "elif month in summer:\n",
    "    print(\"바캉스의 계절 여름이 왔습니다.\")\n",
    "elif month in autumn:\n",
    "    print(\"독서의 계절 가을이 왔습니다.\")\n",
    "else:\n",
    "    print(\"연말 연초의 겨울이 왔습니다.\")"
   ]
  },
  {
   "cell_type": "code",
   "execution_count": 136,
   "id": "cb7f5af4",
   "metadata": {},
   "outputs": [
    {
     "name": "stdout",
     "output_type": "stream",
     "text": [
      "지금 우리가 지내는 계절은 어디쯤에 있나요?\n",
      "단풍이 지천을 물들이는 계절, 가을입니다.\n"
     ]
    }
   ],
   "source": [
    "import datetime\n",
    "t = datetime.datetime.now()\n",
    "\n",
    "print('지금 우리가 지내는 계절은 어디쯤에 있나요?')\n",
    "if t.month<12 and t.month>=9:\n",
    "    print('단풍이 지천을 물들이는 계절, 가을입니다.')\n",
    "elif t.month<9 and t.month>=6:\n",
    "    print('작열하는 태양과 신록이 공존하는 계절, 여름입니다.')\n",
    "elif t.month<6 and t.month>=3:\n",
    "    print('벚꽃의 꽃말은 기말고사, 봄입니다.')\n",
    "else: print('살고 싶으면 장롱에 있던 히트텍 꺼내라 ㅋㅋ')"
   ]
  },
  {
   "cell_type": "code",
   "execution_count": null,
   "id": "183830be",
   "metadata": {},
   "outputs": [],
   "source": [
    "# 과제3_1031 : 1부터 99까지 아래와 같이 2개의 수를 곱해서 가장 큰 수를 구하세요.\n",
    "1*99, 2*98 ...99*1"
   ]
  },
  {
   "cell_type": "code",
   "execution_count": 46,
   "id": "374a0aa6",
   "metadata": {},
   "outputs": [
    {
     "name": "stdout",
     "output_type": "stream",
     "text": [
      "2500\n"
     ]
    }
   ],
   "source": [
    "max_value = 0\n",
    "for i in range (1,100):\n",
    "    if max_value >= (i*(100-i)):\n",
    "        continue\n",
    "    else:\n",
    "        max_value = i*(100-i)\n",
    "print(max_value)"
   ]
  },
  {
   "cell_type": "code",
   "execution_count": 138,
   "id": "c0d5d149",
   "metadata": {},
   "outputs": [
    {
     "name": "stdout",
     "output_type": "stream",
     "text": [
      "2500\n"
     ]
    }
   ],
   "source": [
    "n = 1\n",
    "result = 0\n",
    "while n<=100:\n",
    "    a = n*(100-n)\n",
    "    if a>result:\n",
    "        result = a\n",
    "        n+=1\n",
    "    else:\n",
    "        n+=1\n",
    "        continue\n",
    "print(result)"
   ]
  },
  {
   "cell_type": "code",
   "execution_count": 139,
   "id": "7c696876",
   "metadata": {},
   "outputs": [
    {
     "name": "stdout",
     "output_type": "stream",
     "text": [
      "2500\n"
     ]
    }
   ],
   "source": [
    "def findBiggestOne():\n",
    "    biggestNum = 0\n",
    "    for i,j in zip(range(1,100), range(99,0,-1)):\n",
    "        if i*j >biggestNum:\n",
    "            biggestNum = i*j\n",
    "    return biggestNum\n",
    "print(findBiggestOne())"
   ]
  },
  {
   "cell_type": "code",
   "execution_count": null,
   "id": "ed98f927",
   "metadata": {},
   "outputs": [],
   "source": [
    "# 과제4_1031 [    ]을 채워서 아래의 출력과 같이 출력하세요.\n",
    "# 출력 :\n",
    "numbers = [1,2,3,4,5,6,7,8,9]\n",
    "output = [[], [], []]\n",
    "\n",
    "# [[1,4,7],[2,5,8],[3,6,9]]"
   ]
  },
  {
   "cell_type": "code",
   "execution_count": null,
   "id": "3cb35058",
   "metadata": {},
   "outputs": [],
   "source": [
    "numbers = [1,2,3,4,5,6,7,8,9]\n",
    "output = [[], [], []]\n",
    "\n",
    "for num in numbers:\n",
    "    if num % 3 == 1:\n",
    "        output[0].append(num)\n",
    "    elif num % 3 == 2:\n",
    "        output[1].append(num)\n",
    "    else:\n",
    "        output[2].append(num)\n",
    "print(output)"
   ]
  },
  {
   "cell_type": "code",
   "execution_count": 6,
   "id": "c093d64c",
   "metadata": {},
   "outputs": [
    {
     "data": {
      "text/plain": [
       "3"
      ]
     },
     "execution_count": 6,
     "metadata": {},
     "output_type": "execute_result"
    }
   ],
   "source": [
    "# randint(a, b) : 인자로 들어온 a, b 사이의 랜덤한 정수(int)를 반환\n",
    "import random\n",
    "random.randint(1, 10)  # Integer from 1 to 10, endpoints included"
   ]
  },
  {
   "cell_type": "code",
   "execution_count": null,
   "id": "19bff5bc",
   "metadata": {},
   "outputs": [],
   "source": [
    "numbers = [1,2,3,4,5,6,7,8,9]\n",
    "output = [[],[],[]]\n",
    "\n",
    "for number in numbers:\n",
    "    output[(number-1)%3].append(number)\n",
    "print(output)"
   ]
  },
  {
   "cell_type": "code",
   "execution_count": 7,
   "id": "c6a11e41",
   "metadata": {},
   "outputs": [
    {
     "name": "stdout",
     "output_type": "stream",
     "text": [
      "숫자를 입력하세요: 50\n",
      "오답, 50보다 작은 값입니다.\n",
      "숫자를 입력하세요: 30\n",
      "오답, 30보다 작은 값입니다.\n",
      "숫자를 입력하세요: 10\n",
      "오답, 10보다 큰 값입니다.\n",
      "숫자를 입력하세요: 15\n",
      "정답입니다. 정답은 15입니다.\n",
      "4번 시도하였습니다.\n"
     ]
    }
   ],
   "source": [
    "import random\n",
    "list1 = list(range(100))\n",
    "num = random.sample(list1,1)\n",
    "num2 = num[0]\n",
    "i = 0\n",
    "\n",
    "while True:\n",
    "    ans = int(input(\"숫자를 입력하세요: \"))\n",
    "    i += 1\n",
    "    if num2 > ans:\n",
    "        print(f'오답, {ans}보다 큰 값입니다.')\n",
    "    elif num2 < ans:\n",
    "        print(f'오답, {ans}보다 작은 값입니다.')\n",
    "    else:\n",
    "        print(f'정답입니다. 정답은 {num2}입니다.')\n",
    "        print(f'{i}번 시도하였습니다.')\n",
    "        break"
   ]
  },
  {
   "cell_type": "code",
   "execution_count": 8,
   "id": "5cf59483",
   "metadata": {},
   "outputs": [
    {
     "name": "stdout",
     "output_type": "stream",
     "text": [
      "게임을 하시겠습니까?[y/n]: y\n",
      "숫자를 입력하세요(0~20): 10\n",
      "정답보다 작습니다! 큰 숫자를 입력하세요.\n",
      "숫자를 입력하세요(0~20): 15\n",
      "정답보다 작습니다! 큰 숫자를 입력하세요.\n",
      "숫자를 입력하세요(0~20): 17\n",
      "정답보다 작습니다! 큰 숫자를 입력하세요.\n",
      "숫자를 입력하세요(0~20): 18\n",
      "정답입니다.\n",
      "게임을 하시겠습니까?[y/n]: n\n",
      "게임을 종료합니다.\n"
     ]
    }
   ],
   "source": [
    "# 과제5_1031 컴퓨터가 랜덤하게 생성하는 숫자 맞추기 게임 프로그램을 작성하세요\n",
    "import numpy as np\n",
    "\n",
    "while True:\n",
    "    s_e = input(\"게임을 하시겠습니까?[y/n]: \")\n",
    "\n",
    "    if s_e == \"y\":\n",
    "        answer = np.random.randint(0, 21)  # 0~10 사이의 숫자를 생성\n",
    "        while True:\n",
    "            a = int(input(\"숫자를 입력하세요(0~20): \"))\n",
    "            \n",
    "            if 0 <= a <= 20:  # 입력된 숫자가 0~10 범위 내인지 확인\n",
    "                if a > answer:\n",
    "                    print(\"정답보다 큽니다! 작은 숫자를 입력하세요.\")\n",
    "                elif a < answer:\n",
    "                    print(\"정답보다 작습니다! 큰 숫자를 입력하세요.\")\n",
    "                else:\n",
    "                    print(\"정답입니다.\")\n",
    "                    break\n",
    "            else:\n",
    "                print(\"범위 안의 숫자를 입력해주세요.\")\n",
    "    else:\n",
    "        print(\"게임을 종료합니다.\")\n",
    "        break"
   ]
  },
  {
   "cell_type": "code",
   "execution_count": null,
   "id": "316a153c",
   "metadata": {},
   "outputs": [],
   "source": [
    "import random\n",
    "\n",
    "com_hand = ['가위','바위','보']\n",
    "win_case={'가위':'바위','바위':'보','보':'가위'}\n",
    "win_number = 0\n",
    "\n",
    "print('가위 바위 보 게임을 시작합니다. (3회 우승시 종료)')\n",
    "print('※주의 : 오타는 패배로 간주됩니다.')\n",
    "while True:\n",
    "    com_select = com_hand[random.randint(0,2)]\n",
    "    you_select = input('가위/바위/보 입력: ')\n",
    "    print(f'컴퓨터는 {com_select}입니다.')\n",
    "    if win_case[com_select] == you_select:\n",
    "        win_number += 1\n",
    "        print(f'이겼습니다. 현재 {win_number}승 입니다.')\n",
    "    else:\n",
    "        if com_select == you_select:\n",
    "            print('비겼습니다.')\n",
    "        else:\n",
    "            print('졌습니다.')\n",
    "    if win_number == 3:\n",
    "        print('3승을 달성하여 게임이 종료됩니다.')\n",
    "        break"
   ]
  },
  {
   "cell_type": "code",
   "execution_count": null,
   "id": "41b6a6c3",
   "metadata": {},
   "outputs": [],
   "source": [
    "# 과제6_1031 Player가 3승할 때까지 계속 진행되는 가위바위보 게임 프로그램을 작성하세요.\n",
    "# 게임을 Player와 컴퓨터가 진행"
   ]
  },
  {
   "cell_type": "code",
   "execution_count": null,
   "id": "a44f8d86",
   "metadata": {},
   "outputs": [],
   "source": [
    "import numpy as np\n",
    "\n",
    "cnt = 0\n",
    "rsp = ['가위', '바위', '보']\n",
    "\n",
    "print(\"가위 바위 보 게임입니다. 3승할 때까지 계속 진행됩니다!\")\n",
    "print(\"그 전에 게임을 종료하고 싶다면 E를 입력해주세요.\")\n",
    "\n",
    "while cnt < 3:\n",
    "    print()\n",
    "    pl = input(\"무엇을 낼까요? (가위/바위/보) > \")\n",
    "    if(pl=='E'): break\n",
    "    elif(pl not in rsp):\n",
    "        print(\"[가위] [바위] [보] 중 하나를 내주세요!\")\n",
    "        continue\n",
    "    pc = rsp[np.random.randint(3)]\n",
    "    print(f'컴퓨터 > {pc}')\n",
    "\n",
    "    if(pl=='가위'):\n",
    "        if(pc=='바위'):\n",
    "            print(\"졌습니다. 다시 한 번 게임을 시작합니다!\")\n",
    "            continue\n",
    "        elif(pc=='보'):\n",
    "            print(\"게임에서 이겼습니다. 축하합니다!\")\n",
    "            cnt+=1\n",
    "            continue\n",
    "\n",
    "    elif(pl=='바위'):\n",
    "        if(pc=='보'):\n",
    "            print(\"졌습니다. 다시 한 번 게임을 시작합니다!\")\n",
    "            continue\n",
    "        elif(pc=='가위'):\n",
    "            print(\"게임에서 이겼습니다. 축하합니다!\")\n",
    "            cnt+=1\n",
    "            continue\n",
    "\n",
    "    elif(pl=='보'):\n",
    "        if(pc=='가위'):\n",
    "            print(\"졌습니다. 다시 한 번 게임을 시작합니다!\")\n",
    "            continue\n",
    "        elif(pc=='바위'):\n",
    "            print(\"게임에서 이겼습니다. 축하합니다!\")\n",
    "            cnt+=1\n",
    "            continue\n",
    "\n",
    "    print(\"비겼습니다. 다시 한 번 게임을 시작합니다!\")\n",
    "\n",
    "print(\"게임을 종료합니다. 수고하셨습니다.\")"
   ]
  },
  {
   "cell_type": "code",
   "execution_count": 11,
   "id": "6215764c",
   "metadata": {},
   "outputs": [
    {
     "name": "stdout",
     "output_type": "stream",
     "text": [
      "\n",
      "KITA 식당에 오신 것을 환영합니다\n",
      "===============================\n",
      "- 메  뉴 -\n",
      "1. 불고기 비빔밥 : 12,000원\n",
      "2. 야채 비빔밥 : 8,000원\n",
      "3. 전주 비빔밥 : 10,000원\n",
      "세트 주문시 : 3,000원 추가 (세트는 밥과 반찬이 추가됩니다.)\n",
      "===============================\n",
      "비빔밥 메뉴를 선택해 주세요. 1, 2, 3 (0: 주문 종료): 1\n",
      "세트 주문을 하시겠습니까? 3,000원 추가. y/n: n\n",
      "주문한 메뉴: 불고기 비빔밥, 총 금액은 12000원 입니다.\n",
      "\n",
      "KITA 식당에 오신 것을 환영합니다\n",
      "===============================\n",
      "- 메  뉴 -\n",
      "1. 불고기 비빔밥 : 12,000원\n",
      "2. 야채 비빔밥 : 8,000원\n",
      "3. 전주 비빔밥 : 10,000원\n",
      "세트 주문시 : 3,000원 추가 (세트는 밥과 반찬이 추가됩니다.)\n",
      "===============================\n"
     ]
    },
    {
     "ename": "KeyboardInterrupt",
     "evalue": "Interrupted by user",
     "output_type": "error",
     "traceback": [
      "\u001b[1;31m---------------------------------------------------------------------------\u001b[0m",
      "\u001b[1;31mKeyboardInterrupt\u001b[0m                         Traceback (most recent call last)",
      "Cell \u001b[1;32mIn[11], line 14\u001b[0m\n\u001b[0;32m     11\u001b[0m \u001b[38;5;28mprint\u001b[39m(\u001b[38;5;124m\"\u001b[39m\u001b[38;5;124m세트 주문시 : 3,000원 추가 (세트는 밥과 반찬이 추가됩니다.)\u001b[39m\u001b[38;5;124m\"\u001b[39m)\n\u001b[0;32m     12\u001b[0m \u001b[38;5;28mprint\u001b[39m(\u001b[38;5;124m\"\u001b[39m\u001b[38;5;124m===============================\u001b[39m\u001b[38;5;124m\"\u001b[39m)\n\u001b[1;32m---> 14\u001b[0m menu \u001b[38;5;241m=\u001b[39m \u001b[38;5;28mint\u001b[39m(\u001b[38;5;28;43minput\u001b[39;49m\u001b[43m(\u001b[49m\u001b[38;5;124;43m'\u001b[39;49m\u001b[38;5;124;43m비빔밥 메뉴를 선택해 주세요. 1, 2, 3 (0: 주문 종료): \u001b[39;49m\u001b[38;5;124;43m'\u001b[39;49m\u001b[43m)\u001b[49m)\n\u001b[0;32m     15\u001b[0m \u001b[38;5;28;01mif\u001b[39;00m menu \u001b[38;5;241m==\u001b[39m \u001b[38;5;241m0\u001b[39m:\n\u001b[0;32m     16\u001b[0m     \u001b[38;5;28;01mbreak\u001b[39;00m  \u001b[38;5;66;03m# 0을 입력하면 주문 종료\u001b[39;00m\n",
      "File \u001b[1;32mC:\\ProgramData\\Anaconda3\\envs\\kita\\lib\\site-packages\\ipykernel\\kernelbase.py:1202\u001b[0m, in \u001b[0;36mKernel.raw_input\u001b[1;34m(self, prompt)\u001b[0m\n\u001b[0;32m   1200\u001b[0m     msg \u001b[38;5;241m=\u001b[39m \u001b[38;5;124m\"\u001b[39m\u001b[38;5;124mraw_input was called, but this frontend does not support input requests.\u001b[39m\u001b[38;5;124m\"\u001b[39m\n\u001b[0;32m   1201\u001b[0m     \u001b[38;5;28;01mraise\u001b[39;00m StdinNotImplementedError(msg)\n\u001b[1;32m-> 1202\u001b[0m \u001b[38;5;28;01mreturn\u001b[39;00m \u001b[38;5;28;43mself\u001b[39;49m\u001b[38;5;241;43m.\u001b[39;49m\u001b[43m_input_request\u001b[49m\u001b[43m(\u001b[49m\n\u001b[0;32m   1203\u001b[0m \u001b[43m    \u001b[49m\u001b[38;5;28;43mstr\u001b[39;49m\u001b[43m(\u001b[49m\u001b[43mprompt\u001b[49m\u001b[43m)\u001b[49m\u001b[43m,\u001b[49m\n\u001b[0;32m   1204\u001b[0m \u001b[43m    \u001b[49m\u001b[38;5;28;43mself\u001b[39;49m\u001b[38;5;241;43m.\u001b[39;49m\u001b[43m_parent_ident\u001b[49m\u001b[43m[\u001b[49m\u001b[38;5;124;43m\"\u001b[39;49m\u001b[38;5;124;43mshell\u001b[39;49m\u001b[38;5;124;43m\"\u001b[39;49m\u001b[43m]\u001b[49m\u001b[43m,\u001b[49m\n\u001b[0;32m   1205\u001b[0m \u001b[43m    \u001b[49m\u001b[38;5;28;43mself\u001b[39;49m\u001b[38;5;241;43m.\u001b[39;49m\u001b[43mget_parent\u001b[49m\u001b[43m(\u001b[49m\u001b[38;5;124;43m\"\u001b[39;49m\u001b[38;5;124;43mshell\u001b[39;49m\u001b[38;5;124;43m\"\u001b[39;49m\u001b[43m)\u001b[49m\u001b[43m,\u001b[49m\n\u001b[0;32m   1206\u001b[0m \u001b[43m    \u001b[49m\u001b[43mpassword\u001b[49m\u001b[38;5;241;43m=\u001b[39;49m\u001b[38;5;28;43;01mFalse\u001b[39;49;00m\u001b[43m,\u001b[49m\n\u001b[0;32m   1207\u001b[0m \u001b[43m\u001b[49m\u001b[43m)\u001b[49m\n",
      "File \u001b[1;32mC:\\ProgramData\\Anaconda3\\envs\\kita\\lib\\site-packages\\ipykernel\\kernelbase.py:1245\u001b[0m, in \u001b[0;36mKernel._input_request\u001b[1;34m(self, prompt, ident, parent, password)\u001b[0m\n\u001b[0;32m   1242\u001b[0m \u001b[38;5;28;01mexcept\u001b[39;00m \u001b[38;5;167;01mKeyboardInterrupt\u001b[39;00m:\n\u001b[0;32m   1243\u001b[0m     \u001b[38;5;66;03m# re-raise KeyboardInterrupt, to truncate traceback\u001b[39;00m\n\u001b[0;32m   1244\u001b[0m     msg \u001b[38;5;241m=\u001b[39m \u001b[38;5;124m\"\u001b[39m\u001b[38;5;124mInterrupted by user\u001b[39m\u001b[38;5;124m\"\u001b[39m\n\u001b[1;32m-> 1245\u001b[0m     \u001b[38;5;28;01mraise\u001b[39;00m \u001b[38;5;167;01mKeyboardInterrupt\u001b[39;00m(msg) \u001b[38;5;28;01mfrom\u001b[39;00m \u001b[38;5;28;01mNone\u001b[39;00m\n\u001b[0;32m   1246\u001b[0m \u001b[38;5;28;01mexcept\u001b[39;00m \u001b[38;5;167;01mException\u001b[39;00m:\n\u001b[0;32m   1247\u001b[0m     \u001b[38;5;28mself\u001b[39m\u001b[38;5;241m.\u001b[39mlog\u001b[38;5;241m.\u001b[39mwarning(\u001b[38;5;124m\"\u001b[39m\u001b[38;5;124mInvalid Message:\u001b[39m\u001b[38;5;124m\"\u001b[39m, exc_info\u001b[38;5;241m=\u001b[39m\u001b[38;5;28;01mTrue\u001b[39;00m)\n",
      "\u001b[1;31mKeyboardInterrupt\u001b[0m: Interrupted by user"
     ]
    }
   ],
   "source": [
    "total_price = 0  # 총 금액 초기값\n",
    "order = {}  # 주문한 메뉴와 수량을 저장할 딕셔너리\n",
    "\n",
    "while True:\n",
    "    print(\"\\nKITA 식당에 오신 것을 환영합니다\")\n",
    "    print(\"===============================\")\n",
    "    print(\"- 메  뉴 -\")\n",
    "    print(\"1. 불고기 비빔밥 : 12,000원\")\n",
    "    print(\"2. 야채 비빔밥 : 8,000원\")\n",
    "    print(\"3. 전주 비빔밥 : 10,000원\")\n",
    "    print(\"세트 주문시 : 3,000원 추가 (세트는 밥과 반찬이 추가됩니다.)\")\n",
    "    print(\"===============================\")\n",
    "\n",
    "    menu = int(input('비빔밥 메뉴를 선택해 주세요. 1, 2, 3 (0: 주문 종료): '))\n",
    "    if menu == 0:\n",
    "        break  # 0을 입력하면 주문 종료\n",
    "    \n",
    "    if menu in [1, 2, 3]:\n",
    "        set_menu = input('세트 주문을 하시겠습니까? 3,000원 추가. y/n: ')\n",
    "        \n",
    "        if menu == 1:\n",
    "            a = 12000\n",
    "            menu_name = '불고기 비빔밥'\n",
    "        elif menu == 2:\n",
    "            a = 8000\n",
    "            menu_name = '야채 비빔밥'\n",
    "        elif menu == 3:\n",
    "            a = 10000\n",
    "            menu_name = '전주 비빔밥'\n",
    "        \n",
    "        if set_menu == 'y':\n",
    "            b = 3000\n",
    "            menu_name += ' 세트'\n",
    "        else:\n",
    "            b = 0\n",
    "\n",
    "        price = a + b\n",
    "        total_price += price  # 총 금액 누적\n",
    "\n",
    "        if menu_name in order:\n",
    "            order[menu_name] += 1\n",
    "        else:\n",
    "            order[menu_name] = 1\n",
    "\n",
    "        print(f'주문한 메뉴: {menu_name}, 총 금액은 {total_price}원 입니다.')\n",
    "    else:\n",
    "        print('잘못된 메뉴 선택입니다.')\n",
    "\n",
    "print('주문이 종료되었습니다. 총 주문 금액은', total_price, '원 입니다.')\n",
    "print('주문 내역:')\n",
    "for menu, quantity in order.items():\n",
    "    print(f'{menu}: {quantity}개')"
   ]
  },
  {
   "cell_type": "code",
   "execution_count": null,
   "id": "9021a1a9",
   "metadata": {},
   "outputs": [],
   "source": [
    "# 과제7_1031 : 음식점의 음식 주문가격 산출 프로그램을 자유롭게 작성하세요(재활용)\n",
    "'''\n",
    "KITA 식당에 오신 것을 환영합니다\n",
    "\n",
    "========================================\n",
    "\n",
    "          - 메  뉴 -\n",
    "    1. 불고기 비빔밥 : 12,000원\n",
    "    2. 야채 비빔밥 : 8,000원\n",
    "    3. 전주 비빔밥 : 10,000원\n",
    "\n",
    "    세트 주문시 : 3000원 추가\n",
    "    (세트는 밥과 반찬이 추가됩니다.)\n",
    "\n",
    "========================================\n",
    "\n",
    "비빔밥 메뉴를 선택해 주세요. 1, 2, 3 >>> 2\n",
    "세트 주문을 하시겠습니까? 3,000원 추가. y, n >>> y\n",
    "총 금액은 11000원 입니다.\n",
    "'''"
   ]
  },
  {
   "cell_type": "code",
   "execution_count": 1,
   "id": "7b578913",
   "metadata": {},
   "outputs": [
    {
     "name": "stdout",
     "output_type": "stream",
     "text": [
      "KITA 식당에 오신 것을 환영합니다\n",
      "\n",
      "========================================\n",
      "\n",
      "          - 메  뉴 -\n",
      "    1. 불고기 비빔밥 : 12,000원\n",
      "    2. 야채 비빔밥 : 8,000원\n",
      "    3. 전주 비빔밥 : 10,000원\n",
      "\n",
      "    세트 주문시 : 3,000원 추가\n",
      "    (세트는 밥과 반찬이 추가됩니다.)\n",
      "\n",
      "========================================\n",
      "\n",
      "비빔밥 메뉴를 선택해 주세요. 1, 2, 3 >>> 1\n",
      "세트 주문을 하시겠습니까? 3,000원 추가. y, n >>> n\n",
      "총 금액은 12000원 입니다.\n"
     ]
    }
   ],
   "source": [
    "def main():\n",
    "    print(\"KITA 식당에 오신 것을 환영합니다\")\n",
    "    print(\"\\n\" + \"=\" * 40)\n",
    "    print(\"\\n          - 메  뉴 -\")\n",
    "    print(\"    1. 불고기 비빔밥 : 12,000원\")\n",
    "    print(\"    2. 야채 비빔밥 : 8,000원\")\n",
    "    print(\"    3. 전주 비빔밥 : 10,000원\")\n",
    "    print(\"\\n    세트 주문시 : 3,000원 추가\")\n",
    "    print(\"    (세트는 밥과 반찬이 추가됩니다.)\")\n",
    "    print(\"\\n\" + \"=\" * 40)\n",
    "\n",
    "    # 사용자로부터 메뉴 선택을 받는다.\n",
    "    menu_choice = int(input(\"\\n비빔밥 메뉴를 선택해 주세요. 1, 2, 3 >>> \"))\n",
    "\n",
    "    # 메뉴별 가격을 설정한다.\n",
    "    prices = {1: 12000, 2: 8000, 3: 10000}\n",
    "    \n",
    "    # 사용자가 선택한 메뉴의 가격을 가져온다.\n",
    "    total_price = prices.get(menu_choice, 0)\n",
    "\n",
    "    # 세트 주문 여부를 확인한다.\n",
    "    set_order = input(\"세트 주문을 하시겠습니까? 3,000원 추가. y, n >>> \").lower()\n",
    "    if set_order == 'y':\n",
    "        total_price += 3000\n",
    "\n",
    "    print(f\"총 금액은 {total_price}원 입니다.\")\n",
    "\n",
    "if __name__ == \"__main__\":\n",
    "    main()\n"
   ]
  },
  {
   "cell_type": "markdown",
   "id": "89651ddf",
   "metadata": {},
   "source": [
    "코드를 구성 요소별 설명\n",
    "\n",
    "- display_menu 함수: 메뉴와 가격, 세트 추가에 대한 정보출력.\n",
    "- order 함수: 사용자로부터 메뉴 선택 입력 받아, 가격 계산 및 세트 주문 여부 확인 후 총 금액 출력.\n",
    "- main 함수: 무한 루프 사용하여 '종료' 입력 전까지 주문 반복. 각 주문 후 계속 주문할 것인지 확인.\n",
    "\n",
    "    if __name__ == \"__main__\": 구문: 스크립트 직접 실행 시 main() 함수 호출. 모듈로 임포트 시 자동 실행 방지."
   ]
  },
  {
   "cell_type": "code",
   "execution_count": 2,
   "id": "5abafc74",
   "metadata": {},
   "outputs": [
    {
     "name": "stdout",
     "output_type": "stream",
     "text": [
      "\n",
      "KITA 식당에 오신 것을 환영합니다\n",
      "\n",
      "========================================\n",
      "\n",
      "          - 메  뉴 -\n",
      "    1. 불고기 비빔밥 : 12,000원\n",
      "    2. 야채 비빔밥 : 8,000원\n",
      "    3. 전주 비빔밥 : 10,000원\n",
      "\n",
      "    세트 주문시 : 3,000원 추가\n",
      "    (세트는 밥과 반찬이 추가됩니다.)\n",
      "\n",
      "========================================\n",
      "\n",
      "비빔밥 메뉴를 선택해 주세요. 1, 2, 3 >>> 2\n",
      "세트 주문을 하시겠습니까? 3,000원 추가. y, n >>> y\n",
      "총 금액은 11000원 입니다.\n",
      "\n",
      "다시 주문하시겠습니까? (주문: enter, 종료: '종료' 입력) >>> \n",
      "\n",
      "KITA 식당에 오신 것을 환영합니다\n",
      "\n",
      "========================================\n",
      "\n",
      "          - 메  뉴 -\n",
      "    1. 불고기 비빔밥 : 12,000원\n",
      "    2. 야채 비빔밥 : 8,000원\n",
      "    3. 전주 비빔밥 : 10,000원\n",
      "\n",
      "    세트 주문시 : 3,000원 추가\n",
      "    (세트는 밥과 반찬이 추가됩니다.)\n",
      "\n",
      "========================================\n",
      "\n",
      "비빔밥 메뉴를 선택해 주세요. 1, 2, 3 >>> 1\n",
      "세트 주문을 하시겠습니까? 3,000원 추가. y, n >>> n\n",
      "총 금액은 12000원 입니다.\n",
      "\n",
      "다시 주문하시겠습니까? (주문: enter, 종료: '종료' 입력) >>> 종료\n",
      "\n",
      "감사합니다! 다음에 또 방문해 주세요.\n"
     ]
    }
   ],
   "source": [
    "def display_menu():\n",
    "    print(\"\\nKITA 식당에 오신 것을 환영합니다\")\n",
    "    print(\"\\n\" + \"=\" * 40)\n",
    "    print(\"\\n          - 메  뉴 -\")\n",
    "    print(\"    1. 불고기 비빔밥 : 12,000원\")\n",
    "    print(\"    2. 야채 비빔밥 : 8,000원\")\n",
    "    print(\"    3. 전주 비빔밥 : 10,000원\")\n",
    "    print(\"\\n    세트 주문시 : 3,000원 추가\")\n",
    "    print(\"    (세트는 밥과 반찬이 추가됩니다.)\")\n",
    "    print(\"\\n\" + \"=\" * 40)\n",
    "\n",
    "\n",
    "def order():\n",
    "    # 메뉴별 가격을 설정한다.\n",
    "    prices = {1: 12000, 2: 8000, 3: 10000}\n",
    "\n",
    "    # 사용자로부터 메뉴 선택을 받는다.\n",
    "    menu_choice = int(input(\"\\n비빔밥 메뉴를 선택해 주세요. 1, 2, 3 >>> \"))\n",
    "\n",
    "    # 사용자가 선택한 메뉴의 가격을 가져온다.\n",
    "    total_price = prices.get(menu_choice, 0)\n",
    "\n",
    "    # 세트 주문 여부를 확인한다.\n",
    "    set_order = input(\"세트 주문을 하시겠습니까? 3,000원 추가. y, n >>> \").lower()\n",
    "    if set_order == 'y':\n",
    "        total_price += 3000\n",
    "\n",
    "    print(f\"총 금액은 {total_price}원 입니다.\")\n",
    "\n",
    "\n",
    "def main():\n",
    "    while True:\n",
    "        display_menu()\n",
    "        order()\n",
    "\n",
    "        # 계속 주문하거나 종료 여부를 확인한다.\n",
    "        continue_ordering = input(\"\\n다시 주문하시겠습니까? (주문: enter, 종료: '종료' 입력) >>> \")\n",
    "        if continue_ordering == '종료':\n",
    "            break\n",
    "\n",
    "    print(\"\\n감사합니다! 다음에 또 방문해 주세요.\")\n",
    "\n",
    "\n",
    "if __name__ == \"__main__\":\n",
    "    main()\n"
   ]
  },
  {
   "cell_type": "code",
   "execution_count": 51,
   "id": "d23ee34b",
   "metadata": {},
   "outputs": [
    {
     "name": "stdout",
     "output_type": "stream",
     "text": [
      "♣♣♣KITA 식당에 오신 것을 환영합니다♣♣♣\n",
      "\n",
      "========================================\n",
      "\n",
      "          - 메  뉴 -\n",
      "\n",
      "    1. 불고기 비빔밥 : 12,000원\n",
      "    2. 야채 비빔밥 : 8,000원\n",
      "    3. 전주 비빔밥 : 10,000원\n",
      "\n",
      "    세트 주문시 : 3000원 추가\n",
      "    (세트는 밥과 반찬이 추가됩니다.)\n",
      "\n",
      "========================================\n",
      "\n",
      "■장바구니\n",
      " 불고기 비빔밥 0개: 0원\n",
      " 불고기 비빔밥 세트 0개: 0원\n",
      " 야채 비빔밥 0개: 0원\n",
      " 야채 비빔밥 세트 0개: 0원\n",
      " 전주 비빔밥 0개: 0원\n",
      " 전주 비빔밥 세트 0개: 0원\n",
      " 총 금액 0원\n",
      "\n",
      "●주문할 메뉴를 골라주세요. (불고기 비빔밥:1, 야채 비빔밥:2, 전주 비빔밥:3, 전체 취소:0, 주문확정:주문)\n",
      "1\n",
      "\n",
      "●3000원을 추가해 세트(밥, 반찬 추가)로 주문하시겠습니까? (일반주문시:n, 세트주문시:y, 이외는 취소)\n",
      "취소\n",
      "\u001b[31m\n",
      "★취소 되었습니다. 초기 화면으로 돌아갑니다★\n",
      "\u001b[0m\n",
      "♣♣♣KITA 식당에 오신 것을 환영합니다♣♣♣\n",
      "\n",
      "========================================\n",
      "\n",
      "          - 메  뉴 -\n",
      "\n",
      "    1. 불고기 비빔밥 : 12,000원\n",
      "    2. 야채 비빔밥 : 8,000원\n",
      "    3. 전주 비빔밥 : 10,000원\n",
      "\n",
      "    세트 주문시 : 3000원 추가\n",
      "    (세트는 밥과 반찬이 추가됩니다.)\n",
      "\n",
      "========================================\n",
      "\n",
      "■장바구니\n",
      " 불고기 비빔밥 0개: 0원\n",
      " 불고기 비빔밥 세트 0개: 0원\n",
      " 야채 비빔밥 0개: 0원\n",
      " 야채 비빔밥 세트 0개: 0원\n",
      " 전주 비빔밥 0개: 0원\n",
      " 전주 비빔밥 세트 0개: 0원\n",
      " 총 금액 0원\n",
      "\n",
      "●주문할 메뉴를 골라주세요. (불고기 비빔밥:1, 야채 비빔밥:2, 전주 비빔밥:3, 전체 취소:0, 주문확정:주문)\n",
      "3\n",
      "\n",
      "●3000원을 추가해 세트(밥, 반찬 추가)로 주문하시겠습니까? (일반주문시:n, 세트주문시:y, 이외는 취소)\n",
      "n\n",
      "\n",
      "●전주 비빔밥 몇개 주문 하시겠습니까?\n",
      "2\n",
      "\n",
      "전주 비빔밥 세트 2개가 장바구니에 담겼습니다.\n",
      "\n",
      "♣♣♣KITA 식당에 오신 것을 환영합니다♣♣♣\n",
      "\n",
      "========================================\n",
      "\n",
      "          - 메  뉴 -\n",
      "\n",
      "    1. 불고기 비빔밥 : 12,000원\n",
      "    2. 야채 비빔밥 : 8,000원\n",
      "    3. 전주 비빔밥 : 10,000원\n",
      "\n",
      "    세트 주문시 : 3000원 추가\n",
      "    (세트는 밥과 반찬이 추가됩니다.)\n",
      "\n",
      "========================================\n",
      "\n",
      "■장바구니\n",
      " 불고기 비빔밥 0개: 0원\n",
      " 불고기 비빔밥 세트 0개: 0원\n",
      " 야채 비빔밥 0개: 0원\n",
      " 야채 비빔밥 세트 0개: 0원\n",
      " 전주 비빔밥 2개: 20000원\n",
      " 전주 비빔밥 세트 0개: 0원\n",
      " 총 금액 20000원\n",
      "\n",
      "●주문할 메뉴를 골라주세요. (불고기 비빔밥:1, 야채 비빔밥:2, 전주 비빔밥:3, 전체 취소:0, 주문확정:주문)\n",
      "2\n",
      "\n",
      "●3000원을 추가해 세트(밥, 반찬 추가)로 주문하시겠습니까? (일반주문시:n, 세트주문시:y, 이외는 취소)\n",
      "y\n",
      "\n",
      "●야채 비빔밥 세트 몇개 주문 하시겠습니까?\n",
      "3\n",
      "\n",
      "야채 비빔밥 세트 3개가 장바구니에 담겼습니다.\n",
      "\n"
     ]
    },
    {
     "ename": "KeyboardInterrupt",
     "evalue": "Interrupted by user",
     "output_type": "error",
     "traceback": [
      "\u001b[1;31m---------------------------------------------------------------------------\u001b[0m",
      "\u001b[1;31mKeyboardInterrupt\u001b[0m                         Traceback (most recent call last)",
      "Cell \u001b[1;32mIn[51], line 16\u001b[0m\n\u001b[0;32m     13\u001b[0m price_total \u001b[38;5;241m=\u001b[39m \u001b[38;5;241m0\u001b[39m\n\u001b[0;32m     15\u001b[0m \u001b[38;5;28;01mwhile\u001b[39;00m \u001b[38;5;241m1\u001b[39m:\n\u001b[1;32m---> 16\u001b[0m     menu \u001b[38;5;241m=\u001b[39m \u001b[38;5;28;43minput\u001b[39;49m\u001b[43m(\u001b[49m\u001b[38;5;124;43mf\u001b[39;49m\u001b[38;5;124;43m\"\"\"\u001b[39;49m\u001b[38;5;124;43m♣♣♣KITA 식당에 오신 것을 환영합니다♣♣♣\u001b[39;49m\n\u001b[0;32m     17\u001b[0m \n\u001b[0;32m     18\u001b[0m \u001b[38;5;124;43m========================================\u001b[39;49m\n\u001b[0;32m     19\u001b[0m \n\u001b[0;32m     20\u001b[0m \u001b[38;5;124;43m          - 메  뉴 -\u001b[39;49m\n\u001b[0;32m     21\u001b[0m \n\u001b[0;32m     22\u001b[0m \u001b[38;5;124;43m    1. 불고기 비빔밥 : 12,000원\u001b[39;49m\n\u001b[0;32m     23\u001b[0m \u001b[38;5;124;43m    2. 야채 비빔밥 : 8,000원\u001b[39;49m\n\u001b[0;32m     24\u001b[0m \u001b[38;5;124;43m    3. 전주 비빔밥 : 10,000원\u001b[39;49m\n\u001b[0;32m     25\u001b[0m \n\u001b[0;32m     26\u001b[0m \u001b[38;5;124;43m    세트 주문시 : 3000원 추가\u001b[39;49m\n\u001b[0;32m     27\u001b[0m \u001b[38;5;124;43m    (세트는 밥과 반찬이 추가됩니다.)\u001b[39;49m\n\u001b[0;32m     28\u001b[0m \n\u001b[0;32m     29\u001b[0m \u001b[38;5;124;43m========================================\u001b[39;49m\n\u001b[0;32m     30\u001b[0m \n\u001b[0;32m     31\u001b[0m \u001b[38;5;124;43m■장바구니\u001b[39;49m\n\u001b[0;32m     32\u001b[0m \u001b[38;5;124;43m 불고기 비빔밥 \u001b[39;49m\u001b[38;5;132;43;01m{\u001b[39;49;00m\u001b[43mcurrent_bul\u001b[49m\u001b[38;5;132;43;01m}\u001b[39;49;00m\u001b[38;5;124;43m개: \u001b[39;49m\u001b[38;5;132;43;01m{\u001b[39;49;00m\u001b[43mcurrent_bul\u001b[49m\u001b[38;5;241;43m*\u001b[39;49m\u001b[43mprice_bul\u001b[49m\u001b[38;5;132;43;01m}\u001b[39;49;00m\u001b[38;5;124;43m원\u001b[39;49m\n\u001b[0;32m     33\u001b[0m \u001b[38;5;124;43m 불고기 비빔밥 세트 \u001b[39;49m\u001b[38;5;132;43;01m{\u001b[39;49;00m\u001b[43mcurrent_bulset\u001b[49m\u001b[38;5;132;43;01m}\u001b[39;49;00m\u001b[38;5;124;43m개: \u001b[39;49m\u001b[38;5;132;43;01m{\u001b[39;49;00m\u001b[43mcurrent_bulset\u001b[49m\u001b[38;5;241;43m*\u001b[39;49m\u001b[43m(\u001b[49m\u001b[43mprice_bul\u001b[49m\u001b[38;5;241;43m+\u001b[39;49m\u001b[38;5;241;43m3000\u001b[39;49m\u001b[43m)\u001b[49m\u001b[38;5;132;43;01m}\u001b[39;49;00m\u001b[38;5;124;43m원\u001b[39;49m\n\u001b[0;32m     34\u001b[0m \u001b[38;5;124;43m 야채 비빔밥 \u001b[39;49m\u001b[38;5;132;43;01m{\u001b[39;49;00m\u001b[43mcurrent_veg\u001b[49m\u001b[38;5;132;43;01m}\u001b[39;49;00m\u001b[38;5;124;43m개: \u001b[39;49m\u001b[38;5;132;43;01m{\u001b[39;49;00m\u001b[43mcurrent_veg\u001b[49m\u001b[38;5;241;43m*\u001b[39;49m\u001b[43mprice_veg\u001b[49m\u001b[38;5;132;43;01m}\u001b[39;49;00m\u001b[38;5;124;43m원\u001b[39;49m\n\u001b[0;32m     35\u001b[0m \u001b[38;5;124;43m 야채 비빔밥 세트 \u001b[39;49m\u001b[38;5;132;43;01m{\u001b[39;49;00m\u001b[43mcurrent_vegset\u001b[49m\u001b[38;5;132;43;01m}\u001b[39;49;00m\u001b[38;5;124;43m개: \u001b[39;49m\u001b[38;5;132;43;01m{\u001b[39;49;00m\u001b[43mcurrent_vegset\u001b[49m\u001b[38;5;241;43m*\u001b[39;49m\u001b[43m(\u001b[49m\u001b[43mprice_veg\u001b[49m\u001b[38;5;241;43m+\u001b[39;49m\u001b[38;5;241;43m3000\u001b[39;49m\u001b[43m)\u001b[49m\u001b[38;5;132;43;01m}\u001b[39;49;00m\u001b[38;5;124;43m원\u001b[39;49m\n\u001b[0;32m     36\u001b[0m \u001b[38;5;124;43m 전주 비빔밥 \u001b[39;49m\u001b[38;5;132;43;01m{\u001b[39;49;00m\u001b[43mcurrent_jeon\u001b[49m\u001b[38;5;132;43;01m}\u001b[39;49;00m\u001b[38;5;124;43m개: \u001b[39;49m\u001b[38;5;132;43;01m{\u001b[39;49;00m\u001b[43mcurrent_jeon\u001b[49m\u001b[38;5;241;43m*\u001b[39;49m\u001b[43mprice_jeon\u001b[49m\u001b[38;5;132;43;01m}\u001b[39;49;00m\u001b[38;5;124;43m원\u001b[39;49m\n\u001b[0;32m     37\u001b[0m \u001b[38;5;124;43m 전주 비빔밥 세트 \u001b[39;49m\u001b[38;5;132;43;01m{\u001b[39;49;00m\u001b[43mcurrent_jeonset\u001b[49m\u001b[38;5;132;43;01m}\u001b[39;49;00m\u001b[38;5;124;43m개: \u001b[39;49m\u001b[38;5;132;43;01m{\u001b[39;49;00m\u001b[43mcurrent_jeonset\u001b[49m\u001b[38;5;241;43m*\u001b[39;49m\u001b[43m(\u001b[49m\u001b[43mprice_jeon\u001b[49m\u001b[38;5;241;43m+\u001b[39;49m\u001b[38;5;241;43m3000\u001b[39;49m\u001b[43m)\u001b[49m\u001b[38;5;132;43;01m}\u001b[39;49;00m\u001b[38;5;124;43m원\u001b[39;49m\n\u001b[0;32m     38\u001b[0m \u001b[38;5;124;43m 총 금액 \u001b[39;49m\u001b[38;5;132;43;01m{\u001b[39;49;00m\u001b[43mprice_total\u001b[49m\u001b[38;5;132;43;01m}\u001b[39;49;00m\u001b[38;5;124;43m원\u001b[39;49m\n\u001b[0;32m     39\u001b[0m \n\u001b[0;32m     40\u001b[0m \u001b[38;5;124;43m●주문할 메뉴를 골라주세요. (불고기 비빔밥:1, 야채 비빔밥:2, 전주 비빔밥:3, 전체 취소:0, 주문확정:주문)\u001b[39;49m\u001b[38;5;130;43;01m\\n\u001b[39;49;00m\u001b[38;5;124;43m\"\"\"\u001b[39;49m\u001b[43m)\u001b[49m\n\u001b[0;32m     41\u001b[0m     \u001b[38;5;28;01mif\u001b[39;00m(menu\u001b[38;5;241m.\u001b[39misdigit() \u001b[38;5;241m==\u001b[39m \u001b[38;5;28;01mTrue\u001b[39;00m):\n\u001b[0;32m     42\u001b[0m         \u001b[38;5;28;01mif\u001b[39;00m \u001b[38;5;28mint\u001b[39m(menu) \u001b[38;5;241m==\u001b[39m \u001b[38;5;241m1\u001b[39m:\n",
      "File \u001b[1;32mC:\\ProgramData\\Anaconda3\\envs\\kita\\lib\\site-packages\\ipykernel\\kernelbase.py:1202\u001b[0m, in \u001b[0;36mKernel.raw_input\u001b[1;34m(self, prompt)\u001b[0m\n\u001b[0;32m   1200\u001b[0m     msg \u001b[38;5;241m=\u001b[39m \u001b[38;5;124m\"\u001b[39m\u001b[38;5;124mraw_input was called, but this frontend does not support input requests.\u001b[39m\u001b[38;5;124m\"\u001b[39m\n\u001b[0;32m   1201\u001b[0m     \u001b[38;5;28;01mraise\u001b[39;00m StdinNotImplementedError(msg)\n\u001b[1;32m-> 1202\u001b[0m \u001b[38;5;28;01mreturn\u001b[39;00m \u001b[38;5;28;43mself\u001b[39;49m\u001b[38;5;241;43m.\u001b[39;49m\u001b[43m_input_request\u001b[49m\u001b[43m(\u001b[49m\n\u001b[0;32m   1203\u001b[0m \u001b[43m    \u001b[49m\u001b[38;5;28;43mstr\u001b[39;49m\u001b[43m(\u001b[49m\u001b[43mprompt\u001b[49m\u001b[43m)\u001b[49m\u001b[43m,\u001b[49m\n\u001b[0;32m   1204\u001b[0m \u001b[43m    \u001b[49m\u001b[38;5;28;43mself\u001b[39;49m\u001b[38;5;241;43m.\u001b[39;49m\u001b[43m_parent_ident\u001b[49m\u001b[43m[\u001b[49m\u001b[38;5;124;43m\"\u001b[39;49m\u001b[38;5;124;43mshell\u001b[39;49m\u001b[38;5;124;43m\"\u001b[39;49m\u001b[43m]\u001b[49m\u001b[43m,\u001b[49m\n\u001b[0;32m   1205\u001b[0m \u001b[43m    \u001b[49m\u001b[38;5;28;43mself\u001b[39;49m\u001b[38;5;241;43m.\u001b[39;49m\u001b[43mget_parent\u001b[49m\u001b[43m(\u001b[49m\u001b[38;5;124;43m\"\u001b[39;49m\u001b[38;5;124;43mshell\u001b[39;49m\u001b[38;5;124;43m\"\u001b[39;49m\u001b[43m)\u001b[49m\u001b[43m,\u001b[49m\n\u001b[0;32m   1206\u001b[0m \u001b[43m    \u001b[49m\u001b[43mpassword\u001b[49m\u001b[38;5;241;43m=\u001b[39;49m\u001b[38;5;28;43;01mFalse\u001b[39;49;00m\u001b[43m,\u001b[49m\n\u001b[0;32m   1207\u001b[0m \u001b[43m\u001b[49m\u001b[43m)\u001b[49m\n",
      "File \u001b[1;32mC:\\ProgramData\\Anaconda3\\envs\\kita\\lib\\site-packages\\ipykernel\\kernelbase.py:1245\u001b[0m, in \u001b[0;36mKernel._input_request\u001b[1;34m(self, prompt, ident, parent, password)\u001b[0m\n\u001b[0;32m   1242\u001b[0m \u001b[38;5;28;01mexcept\u001b[39;00m \u001b[38;5;167;01mKeyboardInterrupt\u001b[39;00m:\n\u001b[0;32m   1243\u001b[0m     \u001b[38;5;66;03m# re-raise KeyboardInterrupt, to truncate traceback\u001b[39;00m\n\u001b[0;32m   1244\u001b[0m     msg \u001b[38;5;241m=\u001b[39m \u001b[38;5;124m\"\u001b[39m\u001b[38;5;124mInterrupted by user\u001b[39m\u001b[38;5;124m\"\u001b[39m\n\u001b[1;32m-> 1245\u001b[0m     \u001b[38;5;28;01mraise\u001b[39;00m \u001b[38;5;167;01mKeyboardInterrupt\u001b[39;00m(msg) \u001b[38;5;28;01mfrom\u001b[39;00m \u001b[38;5;28;01mNone\u001b[39;00m\n\u001b[0;32m   1246\u001b[0m \u001b[38;5;28;01mexcept\u001b[39;00m \u001b[38;5;167;01mException\u001b[39;00m:\n\u001b[0;32m   1247\u001b[0m     \u001b[38;5;28mself\u001b[39m\u001b[38;5;241m.\u001b[39mlog\u001b[38;5;241m.\u001b[39mwarning(\u001b[38;5;124m\"\u001b[39m\u001b[38;5;124mInvalid Message:\u001b[39m\u001b[38;5;124m\"\u001b[39m, exc_info\u001b[38;5;241m=\u001b[39m\u001b[38;5;28;01mTrue\u001b[39;00m)\n",
      "\u001b[1;31mKeyboardInterrupt\u001b[0m: Interrupted by user"
     ]
    }
   ],
   "source": [
    "import string\n",
    "\n",
    "current_bul = 0\n",
    "current_bulset = 0\n",
    "current_veg = 0\n",
    "current_vegset = 0\n",
    "current_jeon = 0\n",
    "current_jeonset = 0\n",
    "price_bul = 12000\n",
    "price_veg = 8000\n",
    "price_jeon = 10000\n",
    "price_set = 3000\n",
    "price_total = 0\n",
    "\n",
    "while 1:\n",
    "    menu = input(f\"\"\"♣♣♣KITA 식당에 오신 것을 환영합니다♣♣♣\n",
    "\n",
    "========================================\n",
    "\n",
    "          - 메  뉴 -\n",
    "\n",
    "    1. 불고기 비빔밥 : 12,000원\n",
    "    2. 야채 비빔밥 : 8,000원\n",
    "    3. 전주 비빔밥 : 10,000원\n",
    "\n",
    "    세트 주문시 : 3000원 추가\n",
    "    (세트는 밥과 반찬이 추가됩니다.)\n",
    "\n",
    "========================================\n",
    "\n",
    "■장바구니\n",
    " 불고기 비빔밥 {current_bul}개: {current_bul*price_bul}원\n",
    " 불고기 비빔밥 세트 {current_bulset}개: {current_bulset*(price_bul+3000)}원\n",
    " 야채 비빔밥 {current_veg}개: {current_veg*price_veg}원\n",
    " 야채 비빔밥 세트 {current_vegset}개: {current_vegset*(price_veg+3000)}원\n",
    " 전주 비빔밥 {current_jeon}개: {current_jeon*price_jeon}원\n",
    " 전주 비빔밥 세트 {current_jeonset}개: {current_jeonset*(price_jeon+3000)}원\n",
    " 총 금액 {price_total}원\n",
    "\n",
    "●주문할 메뉴를 골라주세요. (불고기 비빔밥:1, 야채 비빔밥:2, 전주 비빔밥:3, 전체 취소:0, 주문확정:주문)\\n\"\"\")\n",
    "    if(menu.isdigit() == True):\n",
    "        if int(menu) == 1:\n",
    "            while 1:\n",
    "                bul_choice = input('\\n●3000원을 추가해 세트(밥, 반찬 추가)로 주문하시겠습니까? (일반주문시:n, 세트주문시:y, 이외는 취소)\\n')\n",
    "                if bul_choice == 'y':\n",
    "                    bulset_num = input('\\n●불고기 비빔밥 세트 몇개 주문 하시겠습니까?\\n')\n",
    "                    if(bulset_num.isdigit() == True):\n",
    "                        if int(bulset_num) > 0:\n",
    "                            print(f'\\n불고기 버거 세트 {bulset_num}개가 장바구니에 담겼습니다.\\n')\n",
    "                            current_bulset += int(bulset_num)\n",
    "                            price_total += int(bulset_num) * (price_bul + price_set)\n",
    "                            break\n",
    "                        else:\n",
    "                            print('\\033[31m' + '\\n★양수만 입력하세요. 세트 선택으로 돌아갑니다★' + '\\033[0m')\n",
    "\n",
    "                            continue\n",
    "\n",
    "                    else:\n",
    "                        print('\\033[31m' + '\\n★숫자만 입력하세요!! 세트 선택으로 돌아갑니다.★' + '\\033[0m')\n",
    "                        continue\n",
    "\n",
    "                elif bul_choice == 'n':\n",
    "                    bul_num = input('\\n●불고기 비빔밥 몇개 주문 하시겠습니까?\\n')\n",
    "                    if(bul_num.isdigit() == True):\n",
    "                        if int(bul_num) > 0:\n",
    "                            print(f'\\n불고기 버거 세트 {bul_num}개가 장바구니에 담겼습니다.\\n')\n",
    "                            current_bul += int(bul_num)\n",
    "                            price_total += int(bul_num) * price_bul\n",
    "                            break\n",
    "                        else:\n",
    "                            print('\\033[31m' + '\\n★양수만 입력하세요. 세트 선택으로 돌아갑니다★' + '\\033[0m')\n",
    "                            continue\n",
    "\n",
    "                    else:\n",
    "                        print('\\033[31m' + '\\n★숫자만 입력하세요!! 세트 선택으로 돌아갑니다.★' + '\\033[0m')\n",
    "                        continue\n",
    "\n",
    "                else:\n",
    "                    print('\\033[31m' + '\\n★취소 되었습니다. 초기 화면으로 돌아갑니다★\\n' + '\\033[0m')\n",
    "                    break\n",
    "\n",
    "        if int(menu) == 2:\n",
    "            while 1:\n",
    "                veg_choice = input('\\n●3000원을 추가해 세트(밥, 반찬 추가)로 주문하시겠습니까? (일반주문시:n, 세트주문시:y, 이외는 취소)\\n')\n",
    "                if veg_choice == 'y':\n",
    "                    vegset_num = input('\\n●야채 비빔밥 세트 몇개 주문 하시겠습니까?\\n')\n",
    "                    if(vegset_num.isdigit() == True):\n",
    "                        if int(vegset_num) > 0:\n",
    "                            print(f'\\n야채 비빔밥 세트 {vegset_num}개가 장바구니에 담겼습니다.\\n')\n",
    "                            current_vegset += int(vegset_num)\n",
    "                            price_total += int(vegset_num) * (price_veg + price_set)\n",
    "                            break\n",
    "                        else:\n",
    "                            print('\\033[31m' + '\\n★양수만 입력하세요. 세트 선택으로 돌아갑니다★' + '\\033[0m')\n",
    "                            continue\n",
    "\n",
    "                    else:\n",
    "                        print('\\033[31m' + '\\n★숫자만 입력하세요!! 세트 선택으로 돌아갑니다.★' + '\\033[0m')\n",
    "                        continue\n",
    "\n",
    "                elif veg_choice == 'n':\n",
    "                    veg_num = input('\\n●야채 비빔밥 몇개 주문 하시겠습니까?\\n')\n",
    "                    if(veg_num.isdigit() == True):\n",
    "                        if int(veg_num) > 0:\n",
    "                            print(f'\\n야채 버거 세트 {veg_num}개가 장바구니에 담겼습니다.\\n')\n",
    "                            current_veg += int(veg_num)\n",
    "                            price_total += int(veg_num) * price_veg\n",
    "                            break\n",
    "                        else:\n",
    "                            print('\\033[31m' + '\\n★양수만 입력하세요. 세트 선택으로 돌아갑니다★' + '\\033[0m')\n",
    "                            continue\n",
    "\n",
    "                    else:\n",
    "                        print('\\033[31m' + '\\n★숫자만 입력하세요!! 세트 선택으로 돌아갑니다.★' + '\\033[0m')\n",
    "                        continue\n",
    "\n",
    "                else:\n",
    "                    print('\\033[31m' + '\\n★취소 되었습니다. 초기 화면으로 돌아갑니다★\\n' + '\\033[0m')\n",
    "                    break\n",
    "\n",
    "        if int(menu) == 3:\n",
    "            while 1:\n",
    "                jeon_choice = input('\\n●3000원을 추가해 세트(밥, 반찬 추가)로 주문하시겠습니까? (일반주문시:n, 세트주문시:y, 이외는 취소)\\n')\n",
    "                if jeon_choice == 'y':\n",
    "                    jeonset_num = input('\\n●전주 비빔밥 세트 몇개 주문 하시겠습니까?\\n')\n",
    "                    if(jeonset_num.isdigit() == True):\n",
    "                        if int(jeonset_num) > 0:\n",
    "                            print(f'\\n전주 비빔밥 세트 {jeonset_num}개가 장바구니에 담겼습니다.\\n')\n",
    "                            current_jeonset += int(jeonset_num)\n",
    "                            price_total += int(jeonset_num) * (price_jeon + price_set)\n",
    "                            break\n",
    "                        else:\n",
    "                            print('\\033[31m' + '\\n★양수만 입력하세요. 세트 선택으로 돌아갑니다★' + '\\033[0m')\n",
    "                            continue\n",
    "\n",
    "                    else:\n",
    "                        print('\\033[31m' + '\\n★숫자만 입력하세요!! 세트 선택으로 돌아갑니다.★' + '\\033[0m')\n",
    "                        continue\n",
    "\n",
    "                elif jeon_choice == 'n':\n",
    "                    jeon_num = input('\\n●전주 비빔밥 몇개 주문 하시겠습니까?\\n')\n",
    "                    if(jeon_num.isdigit() == True):\n",
    "                        if int(jeon_num) > 0:\n",
    "                            print(f'\\n전주 비빔밥 세트 {jeon_num}개가 장바구니에 담겼습니다.\\n')\n",
    "                            current_jeon += int(jeon_num)\n",
    "                            price_total += int(jeon_num) * price_jeon\n",
    "                            break\n",
    "                        else:\n",
    "                            print('\\033[31m' + '\\n★양수만 입력하세요. 세트 선택으로 돌아갑니다★' + '\\033[0m')\n",
    "                            continue\n",
    "\n",
    "                    else:\n",
    "                        print('\\033[31m' + '\\n★숫자만 입력하세요!! 세트 선택으로 돌아갑니다.★' + '\\033[0m')\n",
    "                        continue\n",
    "\n",
    "                else:\n",
    "                    print('\\033[31m' + '\\n★취소 되었습니다. 초기 화면으로 돌아갑니다★\\n' + '\\033[0m')\n",
    "                    break\n",
    "        elif int(menu) == 0:\n",
    "            print('\\033[31m' + '\\n★전체 주문을 취소합니다★\\n' + '\\033[0m')\n",
    "            current_bul = 0\n",
    "            current_bulset = 0\n",
    "            current_veg = 0\n",
    "            current_vegset = 0\n",
    "            current_jeon = 0\n",
    "            current_jeonset = 0\n",
    "            price_total = 0\n",
    "            continue\n",
    "    elif(menu.isdigit() == False):\n",
    "        if menu != '주문':\n",
    "            print('\\033[31m' + '\\n\\n★메뉴의 지정된 숫자로 입력하세요★\\n\\n' + '\\033[0m')\n",
    "            continue\n",
    "        else:\n",
    "            if price_total == 0:\n",
    "                print('\\033[31m' + '\\n★메뉴를 고르고 주문해주세요!★\\n' + '\\033[0m')\n",
    "                continue\n",
    "            else:\n",
    "                while 1:\n",
    "                    pay = input(f'\\n●주문하려면 결제해주세요. 결제금액은 {price_total}원 입니다.\\n')\n",
    "                    if(pay.isdigit() == True):\n",
    "                        if int(pay) == price_total:\n",
    "                            print('\\033[31m' + '\\n☆★☆★☆★☆★결제가 완료되었습니다. 조금만 기다려주세요!★☆★☆★☆★☆' + '\\033[0m')\n",
    "                            break\n",
    "\n",
    "                        else:\n",
    "                            print('\\033[31m' + '\\n★결제금액이 다릅니다. 다시 결제해 주세요★\\n' + '\\033[0m')\n",
    "                            continue\n",
    "                    else:\n",
    "                        print('\\033[31m' + '\\n★결제가 잘못되었습니다. 다시 진행해주세요★\\n' + '\\033[0m')\n",
    "                break\n"
   ]
  }
 ],
 "metadata": {
  "kernelspec": {
   "display_name": "Python 3 (ipykernel)",
   "language": "python",
   "name": "python3"
  },
  "language_info": {
   "codemirror_mode": {
    "name": "ipython",
    "version": 3
   },
   "file_extension": ".py",
   "mimetype": "text/x-python",
   "name": "python",
   "nbconvert_exporter": "python",
   "pygments_lexer": "ipython3",
   "version": "3.10.13"
  }
 },
 "nbformat": 4,
 "nbformat_minor": 5
}
