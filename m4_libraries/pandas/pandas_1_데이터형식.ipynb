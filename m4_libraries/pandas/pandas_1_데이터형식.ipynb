{
 "cells": [
  {
   "cell_type": "markdown",
   "id": "9af162cf",
   "metadata": {
    "id": "09209d0f"
   },
   "source": [
    "#### 판다스\n",
    "\n",
    "\n",
    "* DataFrame과 Series: 2차원 테이블과 1차원 배열 형태의 데이터 구조를 제공\n",
    "* 데이터 처리: 데이터 정제, 필터링, 변환 등을 위한 다양한 기능을 제공\n",
    "* 데이터 분석: 기술통계, 그룹화, 시계열 분석 등 복잡한 분석 작업을 제공\n",
    "* 입출력 기능: CSV, Excel, JSON 등 다양한 파일 형식의 데이터를 읽고 쓸 수 있는 기능을 제공\n",
    "* 시각화 지원: 매트플롯립과 연동하여 데이터 시각화가 가능하도록 제공\n",
    "* 라이브러리는 여러 종류의 class와 다양한 내장 함수로 구성. 시리즈와 데이터프레임은 대표적인 클래스 객체임\n",
    "* 시리즈 인덱스는 데이터 값과 일대일 대응. 파이썬 딕셔너리와 비슷한 구조. pandas.Series(딕셔너리)"
   ]
  },
  {
   "cell_type": "markdown",
   "id": "0972132b",
   "metadata": {},
   "source": [
    "Contents\n",
    " - Series(변환, 인덱스 구조, 원소 선택)\n",
    " - DataFrame(변환, 행인덱스/열이름 지정, 삭제,선택,추가, 변경, 전치, 인덱스 활용)"
   ]
  },
  {
   "cell_type": "code",
   "execution_count": 1,
   "id": "e6a225c0",
   "metadata": {
    "id": "e6a225c0",
    "outputId": "abcd52b9-1785-421d-8958-4327e776564a"
   },
   "outputs": [
    {
     "name": "stdout",
     "output_type": "stream",
     "text": [
      "a    1\n",
      "b    2\n",
      "c    3\n",
      "dtype: int64\n"
     ]
    },
    {
     "data": {
      "text/plain": [
       "pandas.core.series.Series"
      ]
     },
     "execution_count": 1,
     "metadata": {},
     "output_type": "execute_result"
    }
   ],
   "source": [
    "# 시리즈 클래스 만들기\n",
    "# pandas 불러오기 (pd)\n",
    "import pandas as pd\n",
    "\n",
    "# k:v 구조를 갖는 딕셔너리를 만들고 변수 dict_data에 저장\n",
    "dict_data = {'a':1,'b':2,'c':3}\n",
    "\n",
    "sr = pd.Series(dict_data)\n",
    "print(sr)\n",
    "type(sr)"
   ]
  },
  {
   "cell_type": "code",
   "execution_count": 5,
   "id": "28ba8706",
   "metadata": {
    "id": "28ba8706",
    "outputId": "0649356a-4071-4ff8-c1b0-66f7f7eb63f9"
   },
   "outputs": [
    {
     "data": {
      "text/plain": [
       "0    2019-07-02\n",
       "1          3.14\n",
       "2           ABC\n",
       "3           100\n",
       "4          True\n",
       "dtype: object"
      ]
     },
     "execution_count": 5,
     "metadata": {},
     "output_type": "execute_result"
    }
   ],
   "source": [
    "# 리스트를 시리즈로 변환\n",
    "import pandas as pd\n",
    "\n",
    "list_data = ['2019-07-02',3.14,'ABC',100,True]\n",
    "# sr = pd.Series(list_data,index=list('abcde'))\n",
    "sr = pd.Series(list_data)\n",
    "sr"
   ]
  },
  {
   "cell_type": "code",
   "execution_count": 3,
   "id": "76a16b2c",
   "metadata": {
    "id": "76a16b2c",
    "outputId": "2dfb16d7-f789-481a-c51b-dfc68f42e1ac"
   },
   "outputs": [
    {
     "name": "stdout",
     "output_type": "stream",
     "text": [
      "Index(['a', 'b', 'c', 'd', 'e'], dtype='object')\n",
      "['2019-07-02' 3.14 'ABC' 100 True]\n"
     ]
    }
   ],
   "source": [
    "# 인덱스 및 값\n",
    "idx = sr.index\n",
    "val = sr.values\n",
    "print(idx)\n",
    "print(val)"
   ]
  },
  {
   "cell_type": "code",
   "execution_count": 6,
   "id": "02c71974",
   "metadata": {
    "id": "02c71974",
    "outputId": "b4ffa189-e043-41cc-a854-22b4accc6576"
   },
   "outputs": [
    {
     "name": "stdout",
     "output_type": "stream",
     "text": [
      "이름           kevin\n",
      "생년월일    2019-07-02\n",
      "성별               남\n",
      "학생여부          True\n",
      "dtype: object\n"
     ]
    }
   ],
   "source": [
    "# 튜플을 시리즈로 변환\n",
    "tup_data = ('kevin','2019-07-02','남',True)\n",
    "sr = pd.Series(tup_data, index = ['이름','생년월일','성별','학생여부'])\n",
    "print(sr)"
   ]
  },
  {
   "cell_type": "code",
   "execution_count": 10,
   "id": "2d447f4a",
   "metadata": {
    "id": "2d447f4a",
    "outputId": "130cd593-4633-4946-92ce-8477b81fd934"
   },
   "outputs": [
    {
     "name": "stdout",
     "output_type": "stream",
     "text": [
      "kevin\n",
      "kevin\n",
      "생년월일    2019-07-02\n",
      "성별               남\n",
      "dtype: object\n"
     ]
    }
   ],
   "source": [
    "# 인덱싱\n",
    "import warnings\n",
    "warnings.filterwarnings('ignore')\n",
    "print(sr[0])\n",
    "print(sr['이름'])\n",
    "print(sr[[1,2]])\n",
    "# print(sr[1,2])"
   ]
  },
  {
   "cell_type": "code",
   "execution_count": 14,
   "id": "aa204e3a",
   "metadata": {
    "id": "aa204e3a",
    "outputId": "1d14d391-4f54-4e8e-85a9-444137817f32"
   },
   "outputs": [
    {
     "name": "stdout",
     "output_type": "stream",
     "text": [
      "[11 13 15 17 19] <class 'numpy.ndarray'>\n",
      "\n",
      "a    11\n",
      "b    13\n",
      "c    15\n",
      "d    17\n",
      "e    19\n",
      "dtype: int32 <class 'pandas.core.series.Series'>\n"
     ]
    }
   ],
   "source": [
    "import numpy as np\n",
    "\n",
    "s1 = np.arange(11,21,2)\n",
    "print(s1, type(s1))\n",
    "print()\n",
    "s2 = pd.Series(s1, index=list('abcde'))\n",
    "print(s2, type(s2))"
   ]
  },
  {
   "cell_type": "code",
   "execution_count": null,
   "id": "636ecbde",
   "metadata": {
    "id": "636ecbde"
   },
   "outputs": [],
   "source": [
    "# Q. 배열을 생성 후 시리즈로 변환하여 아래와 같이 출력하세요. \n",
    "state\n",
    "Califonia    1000\n",
    "Ohio         2000\n",
    "Oregon       3000\n",
    "Texas        4000\n",
    "Name: population, dtype: int32"
   ]
  },
  {
   "cell_type": "code",
   "execution_count": 18,
   "id": "c63116fa",
   "metadata": {
    "id": "c63116fa",
    "outputId": "79257c7d-514a-46d6-ba0e-fb2ddc47eed6"
   },
   "outputs": [
    {
     "data": {
      "text/plain": [
       "state\n",
       "Califonia    1000\n",
       "Ohio         2000\n",
       "Oregon       3000\n",
       "Texas        4000\n",
       "Name: population, dtype: int32"
      ]
     },
     "execution_count": 18,
     "metadata": {},
     "output_type": "execute_result"
    }
   ],
   "source": [
    "import numpy as np\n",
    "data = np.arange(1000, 5000, 1000)\n",
    "state = ['Califonia','Ohio','Oregon','Texas']\n",
    "obj = pd.Series(data,index=state)\n",
    "obj.name = 'population'\n",
    "obj.index.name = 'state'\n",
    "obj"
   ]
  },
  {
   "cell_type": "code",
   "execution_count": 19,
   "id": "afd17491",
   "metadata": {
    "id": "afd17491",
    "outputId": "15245399-6968-47c7-f3b8-780568f2f5f1"
   },
   "outputs": [
    {
     "data": {
      "text/plain": [
       "state\n",
       "Califonia       NaN\n",
       "Ohio         2000.0\n",
       "Oregon       3000.0\n",
       "Texas        4000.0\n",
       "Name: population, dtype: float64"
      ]
     },
     "execution_count": 19,
     "metadata": {},
     "output_type": "execute_result"
    }
   ],
   "source": [
    "obj.Califonia = np.nan\n",
    "obj"
   ]
  },
  {
   "cell_type": "code",
   "execution_count": 21,
   "id": "3167d46d",
   "metadata": {},
   "outputs": [
    {
     "data": {
      "text/plain": [
       "state\n",
       "Califonia     True\n",
       "Ohio         False\n",
       "Oregon       False\n",
       "Texas        False\n",
       "Name: population, dtype: bool"
      ]
     },
     "execution_count": 21,
     "metadata": {},
     "output_type": "execute_result"
    }
   ],
   "source": [
    "null_mask = obj.isnull()\n",
    "null_mask"
   ]
  },
  {
   "cell_type": "code",
   "execution_count": 22,
   "id": "d3e4a571",
   "metadata": {},
   "outputs": [
    {
     "data": {
      "text/plain": [
       "state\n",
       "Califonia    False\n",
       "Ohio          True\n",
       "Oregon        True\n",
       "Texas         True\n",
       "Name: population, dtype: bool"
      ]
     },
     "execution_count": 22,
     "metadata": {},
     "output_type": "execute_result"
    }
   ],
   "source": [
    "not_null_mask = obj.notnull()\n",
    "not_null_mask"
   ]
  },
  {
   "cell_type": "code",
   "execution_count": 23,
   "id": "bac09d29",
   "metadata": {},
   "outputs": [
    {
     "data": {
      "text/plain": [
       "state\n",
       "Califonia       0.0\n",
       "Ohio         2000.0\n",
       "Oregon       3000.0\n",
       "Texas        4000.0\n",
       "Name: population, dtype: float64"
      ]
     },
     "execution_count": 23,
     "metadata": {},
     "output_type": "execute_result"
    }
   ],
   "source": [
    "filled_series = obj.fillna(0)\n",
    "filled_series"
   ]
  },
  {
   "cell_type": "code",
   "execution_count": 24,
   "id": "7eaa6bb1",
   "metadata": {},
   "outputs": [
    {
     "data": {
      "text/plain": [
       "state\n",
       "Califonia       NaN\n",
       "Ohio         2000.0\n",
       "Oregon       3000.0\n",
       "Texas        4000.0\n",
       "Name: population, dtype: float64"
      ]
     },
     "execution_count": 24,
     "metadata": {},
     "output_type": "execute_result"
    }
   ],
   "source": [
    "obj.Califonia = np.nan\n",
    "obj"
   ]
  },
  {
   "cell_type": "code",
   "execution_count": 27,
   "id": "c9129290",
   "metadata": {
    "id": "c9129290",
    "outputId": "5438c607-ae54-4939-b12a-46fbb38cae7e"
   },
   "outputs": [
    {
     "data": {
      "text/plain": [
       "1"
      ]
     },
     "execution_count": 27,
     "metadata": {},
     "output_type": "execute_result"
    }
   ],
   "source": [
    "obj.isnull().sum()"
   ]
  },
  {
   "cell_type": "code",
   "execution_count": 26,
   "id": "1ac27d7f",
   "metadata": {},
   "outputs": [
    {
     "data": {
      "text/plain": [
       "state\n",
       "Ohio      2000.0\n",
       "Oregon    3000.0\n",
       "Texas     4000.0\n",
       "Name: population, dtype: float64"
      ]
     },
     "execution_count": 26,
     "metadata": {},
     "output_type": "execute_result"
    }
   ],
   "source": [
    "dropped_series = obj.dropna()\n",
    "dropped_series"
   ]
  },
  {
   "cell_type": "code",
   "execution_count": 28,
   "id": "5e71b176",
   "metadata": {},
   "outputs": [
    {
     "data": {
      "text/plain": [
       "0"
      ]
     },
     "execution_count": 28,
     "metadata": {},
     "output_type": "execute_result"
    }
   ],
   "source": [
    "dropped_series.isnull().sum()"
   ]
  },
  {
   "cell_type": "code",
   "execution_count": 15,
   "id": "fbad1d23",
   "metadata": {},
   "outputs": [
    {
     "data": {
      "text/plain": [
       "[11, 13, 15, 17, 19]"
      ]
     },
     "execution_count": 15,
     "metadata": {},
     "output_type": "execute_result"
    }
   ],
   "source": [
    "list_from_series = s2.tolist()\n",
    "list_from_series"
   ]
  },
  {
   "cell_type": "code",
   "execution_count": 16,
   "id": "a17f0404",
   "metadata": {},
   "outputs": [
    {
     "data": {
      "text/plain": [
       "{'a': 11, 'b': 13, 'c': 15, 'd': 17, 'e': 19}"
      ]
     },
     "execution_count": 16,
     "metadata": {},
     "output_type": "execute_result"
    }
   ],
   "source": [
    "dict_from_series = s2.to_dict()\n",
    "dict_from_series"
   ]
  },
  {
   "cell_type": "code",
   "execution_count": 17,
   "id": "71a4ecf2",
   "metadata": {},
   "outputs": [
    {
     "data": {
      "text/html": [
       "<div>\n",
       "<style scoped>\n",
       "    .dataframe tbody tr th:only-of-type {\n",
       "        vertical-align: middle;\n",
       "    }\n",
       "\n",
       "    .dataframe tbody tr th {\n",
       "        vertical-align: top;\n",
       "    }\n",
       "\n",
       "    .dataframe thead th {\n",
       "        text-align: right;\n",
       "    }\n",
       "</style>\n",
       "<table border=\"1\" class=\"dataframe\">\n",
       "  <thead>\n",
       "    <tr style=\"text-align: right;\">\n",
       "      <th></th>\n",
       "      <th>Value</th>\n",
       "    </tr>\n",
       "  </thead>\n",
       "  <tbody>\n",
       "    <tr>\n",
       "      <th>a</th>\n",
       "      <td>11</td>\n",
       "    </tr>\n",
       "    <tr>\n",
       "      <th>b</th>\n",
       "      <td>13</td>\n",
       "    </tr>\n",
       "    <tr>\n",
       "      <th>c</th>\n",
       "      <td>15</td>\n",
       "    </tr>\n",
       "    <tr>\n",
       "      <th>d</th>\n",
       "      <td>17</td>\n",
       "    </tr>\n",
       "    <tr>\n",
       "      <th>e</th>\n",
       "      <td>19</td>\n",
       "    </tr>\n",
       "  </tbody>\n",
       "</table>\n",
       "</div>"
      ],
      "text/plain": [
       "   Value\n",
       "a     11\n",
       "b     13\n",
       "c     15\n",
       "d     17\n",
       "e     19"
      ]
     },
     "execution_count": 17,
     "metadata": {},
     "output_type": "execute_result"
    }
   ],
   "source": [
    "df_from_series = s2.to_frame(name='Value')\n",
    "df_from_series"
   ]
  },
  {
   "cell_type": "markdown",
   "id": "13678132",
   "metadata": {
    "id": "847069ae"
   },
   "source": [
    "#### 데이터프레임\n",
    "* 데이터프레임은 2차원 배열. R의 데이터프레임에서 유래.\n",
    "* 데이터프레임의 열은 각각 시리즈 개체. \n",
    "* 시리즈를 열벡터라고 하면 데이터프레임은 여러개의 열벡터들이 같은 행 인덱스를\n",
    "  기준으로 줄지어 결합된 2차원 벡터 또는 행렬.\n",
    "* 선형대수학에서 열 벡터(m x 1 행렬)는 m 원소들의 단일 열 행렬\n",
    "* 행 벡터(1 x m 행렬)은 m원소들의 단일 행 행렬.\n",
    "* 리스트, 딕셔너리, ndarray 등 다양한 데이터로부터 생성\n",
    "* 반대로 리스트, 딕셔너리, ndarray 등으로 변환될 수 있음"
   ]
  },
  {
   "cell_type": "code",
   "execution_count": 36,
   "id": "de2818a6",
   "metadata": {
    "id": "de2818a6",
    "outputId": "6c48282f-2785-432d-a185-0c5d2c6acafa"
   },
   "outputs": [
    {
     "name": "stdout",
     "output_type": "stream",
     "text": [
      "[[112 115 100]\n",
      " [103 103 107]\n",
      " [109 119 118]] <class 'numpy.ndarray'>\n"
     ]
    },
    {
     "data": {
      "text/html": [
       "<div>\n",
       "<style scoped>\n",
       "    .dataframe tbody tr th:only-of-type {\n",
       "        vertical-align: middle;\n",
       "    }\n",
       "\n",
       "    .dataframe tbody tr th {\n",
       "        vertical-align: top;\n",
       "    }\n",
       "\n",
       "    .dataframe thead th {\n",
       "        text-align: right;\n",
       "    }\n",
       "</style>\n",
       "<table border=\"1\" class=\"dataframe\">\n",
       "  <thead>\n",
       "    <tr style=\"text-align: right;\">\n",
       "      <th></th>\n",
       "      <th>pd</th>\n",
       "      <th>sales</th>\n",
       "      <th>inv</th>\n",
       "    </tr>\n",
       "  </thead>\n",
       "  <tbody>\n",
       "    <tr>\n",
       "      <th>d1</th>\n",
       "      <td>112</td>\n",
       "      <td>115</td>\n",
       "      <td>100</td>\n",
       "    </tr>\n",
       "    <tr>\n",
       "      <th>d2</th>\n",
       "      <td>103</td>\n",
       "      <td>103</td>\n",
       "      <td>107</td>\n",
       "    </tr>\n",
       "    <tr>\n",
       "      <th>d3</th>\n",
       "      <td>109</td>\n",
       "      <td>119</td>\n",
       "      <td>118</td>\n",
       "    </tr>\n",
       "  </tbody>\n",
       "</table>\n",
       "</div>"
      ],
      "text/plain": [
       "     pd  sales  inv\n",
       "d1  112    115  100\n",
       "d2  103    103  107\n",
       "d3  109    119  118"
      ]
     },
     "execution_count": 36,
     "metadata": {},
     "output_type": "execute_result"
    }
   ],
   "source": [
    "# 배열을 데이터프레임으로 변환\n",
    "np.random.seed(0)\n",
    "data = np.random.randint(100,120,size=(3,3))\n",
    "print(data, type(data))\n",
    "\n",
    "df = pd.DataFrame(data,index=['d1','d2','d3'],\n",
    "                 columns = ['pd','sales','inv'])\n",
    "# df = pd.DataFrame(data, columns = ['pd','sales','inv'])\n",
    "df"
   ]
  },
  {
   "cell_type": "code",
   "execution_count": 37,
   "id": "0871ebee",
   "metadata": {
    "id": "0871ebee",
    "outputId": "3f630bc5-1e47-4a99-9759-41e8ec495c2c"
   },
   "outputs": [
    {
     "name": "stdout",
     "output_type": "stream",
     "text": [
      "pd       103\n",
      "sales    103\n",
      "inv      107\n",
      "Name: d2, dtype: int32 \n",
      "\n",
      "pd       103\n",
      "sales    103\n",
      "inv      107\n",
      "Name: d2, dtype: int32\n"
     ]
    }
   ],
   "source": [
    "# pandas indexing : iloc 정수 인덱스, loc 이름 인덱스\n",
    "print(df.iloc[1],'\\n')\n",
    "print(df.loc['d2'])"
   ]
  },
  {
   "cell_type": "code",
   "execution_count": 38,
   "id": "b786ac62",
   "metadata": {},
   "outputs": [
    {
     "name": "stdout",
     "output_type": "stream",
     "text": [
      "pd       103\n",
      "sales    103\n",
      "inv      107\n",
      "Name: d2, dtype: int32 \n",
      "\n",
      "pd       103\n",
      "sales    103\n",
      "inv      107\n",
      "Name: d2, dtype: int32\n"
     ]
    }
   ],
   "source": [
    "print(df.iloc[1,:],'\\n')\n",
    "print(df.loc['d2',:])"
   ]
  },
  {
   "cell_type": "code",
   "execution_count": null,
   "id": "618ef939",
   "metadata": {
    "id": "618ef939",
    "outputId": "79385c0a-b749-4db5-fbd9-b7ca2cedd6d5"
   },
   "outputs": [
    {
     "name": "stdout",
     "output_type": "stream",
     "text": [
      "111\n",
      "111\n"
     ]
    }
   ],
   "source": [
    "# Q. iloc, loc를 사용하여 107을 출력하세요.\n",
    "print(df.iloc[1,1])\n",
    "print(df.loc['d2','sales'])"
   ]
  },
  {
   "cell_type": "code",
   "execution_count": null,
   "id": "d6b0c9e7",
   "metadata": {
    "id": "d6b0c9e7",
    "outputId": "73ee185d-1db6-4de7-cba2-bbe1ca25fea6"
   },
   "outputs": [
    {
     "data": {
      "text/html": [
       "<div>\n",
       "<style scoped>\n",
       "    .dataframe tbody tr th:only-of-type {\n",
       "        vertical-align: middle;\n",
       "    }\n",
       "\n",
       "    .dataframe tbody tr th {\n",
       "        vertical-align: top;\n",
       "    }\n",
       "\n",
       "    .dataframe thead th {\n",
       "        text-align: right;\n",
       "    }\n",
       "</style>\n",
       "<table border=\"1\" class=\"dataframe\">\n",
       "  <thead>\n",
       "    <tr style=\"text-align: right;\">\n",
       "      <th></th>\n",
       "      <th>pd</th>\n",
       "      <th>sales</th>\n",
       "      <th>inv</th>\n",
       "    </tr>\n",
       "  </thead>\n",
       "  <tbody>\n",
       "    <tr>\n",
       "      <th>d1</th>\n",
       "      <td>108</td>\n",
       "      <td>115</td>\n",
       "      <td>113</td>\n",
       "    </tr>\n",
       "    <tr>\n",
       "      <th>d2</th>\n",
       "      <td>108</td>\n",
       "      <td>111</td>\n",
       "      <td>118</td>\n",
       "    </tr>\n",
       "    <tr>\n",
       "      <th>d3</th>\n",
       "      <td>0</td>\n",
       "      <td>0</td>\n",
       "      <td>0</td>\n",
       "    </tr>\n",
       "  </tbody>\n",
       "</table>\n",
       "</div>"
      ],
      "text/plain": [
       "     pd  sales  inv\n",
       "d1  108    115  113\n",
       "d2  108    111  118\n",
       "d3    0      0    0"
      ]
     },
     "execution_count": 43,
     "metadata": {},
     "output_type": "execute_result"
    }
   ],
   "source": [
    "df.loc['d3'] = 0\n",
    "df"
   ]
  },
  {
   "cell_type": "code",
   "execution_count": null,
   "id": "34f1073a",
   "metadata": {
    "id": "34f1073a",
    "outputId": "a3cf0f45-028b-4ca6-b39d-f3cb54a6b142"
   },
   "outputs": [
    {
     "data": {
      "text/html": [
       "<div>\n",
       "<style scoped>\n",
       "    .dataframe tbody tr th:only-of-type {\n",
       "        vertical-align: middle;\n",
       "    }\n",
       "\n",
       "    .dataframe tbody tr th {\n",
       "        vertical-align: top;\n",
       "    }\n",
       "\n",
       "    .dataframe thead th {\n",
       "        text-align: right;\n",
       "    }\n",
       "</style>\n",
       "<table border=\"1\" class=\"dataframe\">\n",
       "  <thead>\n",
       "    <tr style=\"text-align: right;\">\n",
       "      <th></th>\n",
       "      <th>pd</th>\n",
       "      <th>sales</th>\n",
       "      <th>inv</th>\n",
       "    </tr>\n",
       "  </thead>\n",
       "  <tbody>\n",
       "    <tr>\n",
       "      <th>d1</th>\n",
       "      <td>112</td>\n",
       "      <td>115</td>\n",
       "      <td>100</td>\n",
       "    </tr>\n",
       "    <tr>\n",
       "      <th>d2</th>\n",
       "      <td>103</td>\n",
       "      <td>103</td>\n",
       "      <td>107</td>\n",
       "    </tr>\n",
       "    <tr>\n",
       "      <th>d3</th>\n",
       "      <td>109</td>\n",
       "      <td>119</td>\n",
       "      <td>118</td>\n",
       "    </tr>\n",
       "    <tr>\n",
       "      <th>d4</th>\n",
       "      <td>0</td>\n",
       "      <td>0</td>\n",
       "      <td>0</td>\n",
       "    </tr>\n",
       "  </tbody>\n",
       "</table>\n",
       "</div>"
      ],
      "text/plain": [
       "     pd  sales  inv\n",
       "d1  112    115  100\n",
       "d2  103    103  107\n",
       "d3  109    119  118\n",
       "d4    0      0    0"
      ]
     },
     "execution_count": 48,
     "metadata": {},
     "output_type": "execute_result"
    }
   ],
   "source": [
    "df.loc['d4'] = 0\n",
    "df"
   ]
  },
  {
   "cell_type": "code",
   "execution_count": 6,
   "id": "0b8275aa",
   "metadata": {
    "id": "0b8275aa",
    "outputId": "9f1fef55-d7ab-4ef9-e2f2-243ea7f455f5"
   },
   "outputs": [
    {
     "data": {
      "text/html": [
       "<div>\n",
       "<style scoped>\n",
       "    .dataframe tbody tr th:only-of-type {\n",
       "        vertical-align: middle;\n",
       "    }\n",
       "\n",
       "    .dataframe tbody tr th {\n",
       "        vertical-align: top;\n",
       "    }\n",
       "\n",
       "    .dataframe thead th {\n",
       "        text-align: right;\n",
       "    }\n",
       "</style>\n",
       "<table border=\"1\" class=\"dataframe\">\n",
       "  <thead>\n",
       "    <tr style=\"text-align: right;\">\n",
       "      <th></th>\n",
       "      <th>id</th>\n",
       "      <th>gender</th>\n",
       "      <th>age</th>\n",
       "      <th>region</th>\n",
       "    </tr>\n",
       "  </thead>\n",
       "  <tbody>\n",
       "    <tr>\n",
       "      <th>0</th>\n",
       "      <td>1</td>\n",
       "      <td>0</td>\n",
       "      <td>54</td>\n",
       "      <td>1</td>\n",
       "    </tr>\n",
       "    <tr>\n",
       "      <th>1</th>\n",
       "      <td>2</td>\n",
       "      <td>1</td>\n",
       "      <td>54</td>\n",
       "      <td>9</td>\n",
       "    </tr>\n",
       "    <tr>\n",
       "      <th>2</th>\n",
       "      <td>3</td>\n",
       "      <td>1</td>\n",
       "      <td>89</td>\n",
       "      <td>1</td>\n",
       "    </tr>\n",
       "    <tr>\n",
       "      <th>3</th>\n",
       "      <td>4</td>\n",
       "      <td>1</td>\n",
       "      <td>97</td>\n",
       "      <td>3</td>\n",
       "    </tr>\n",
       "    <tr>\n",
       "      <th>4</th>\n",
       "      <td>5</td>\n",
       "      <td>0</td>\n",
       "      <td>4</td>\n",
       "      <td>3</td>\n",
       "    </tr>\n",
       "  </tbody>\n",
       "</table>\n",
       "</div>"
      ],
      "text/plain": [
       "   id  gender  age  region\n",
       "0   1       0   54       1\n",
       "1   2       1   54       9\n",
       "2   3       1   89       1\n",
       "3   4       1   97       3\n",
       "4   5       0    4       3"
      ]
     },
     "execution_count": 6,
     "metadata": {},
     "output_type": "execute_result"
    }
   ],
   "source": [
    "# id, gender, age, region\n",
    "import numpy as np\n",
    "import pandas as pd\n",
    "id = np.arange(1,1001)\n",
    "i1 = pd.Series(id)\n",
    "gender = np.random.randint(2,size=1000)\n",
    "g1 = pd.Series(gender)\n",
    "age = np.random.randint(1,101,size=1000)\n",
    "a1 = pd.Series(age)\n",
    "region = np.random.randint(1,11,size=1000)\n",
    "r1 = pd.Series(region)\n",
    "\n",
    "\n",
    "df = pd.concat([i1,g1,a1,r1],axis=1)\n",
    "df.rename(columns={0:'id',1:'gender',2:'age',3:'region'},inplace=True)\n",
    "df.head()"
   ]
  },
  {
   "cell_type": "code",
   "execution_count": 7,
   "id": "601f6009",
   "metadata": {},
   "outputs": [
    {
     "data": {
      "text/html": [
       "<div>\n",
       "<style scoped>\n",
       "    .dataframe tbody tr th:only-of-type {\n",
       "        vertical-align: middle;\n",
       "    }\n",
       "\n",
       "    .dataframe tbody tr th {\n",
       "        vertical-align: top;\n",
       "    }\n",
       "\n",
       "    .dataframe thead th {\n",
       "        text-align: right;\n",
       "    }\n",
       "</style>\n",
       "<table border=\"1\" class=\"dataframe\">\n",
       "  <thead>\n",
       "    <tr style=\"text-align: right;\">\n",
       "      <th></th>\n",
       "      <th>id</th>\n",
       "      <th>gender</th>\n",
       "      <th>age</th>\n",
       "      <th>region</th>\n",
       "    </tr>\n",
       "  </thead>\n",
       "  <tbody>\n",
       "    <tr>\n",
       "      <th>1</th>\n",
       "      <td>2</td>\n",
       "      <td>1</td>\n",
       "      <td>54</td>\n",
       "      <td>9</td>\n",
       "    </tr>\n",
       "    <tr>\n",
       "      <th>2</th>\n",
       "      <td>3</td>\n",
       "      <td>1</td>\n",
       "      <td>89</td>\n",
       "      <td>1</td>\n",
       "    </tr>\n",
       "    <tr>\n",
       "      <th>3</th>\n",
       "      <td>4</td>\n",
       "      <td>1</td>\n",
       "      <td>97</td>\n",
       "      <td>3</td>\n",
       "    </tr>\n",
       "    <tr>\n",
       "      <th>4</th>\n",
       "      <td>5</td>\n",
       "      <td>0</td>\n",
       "      <td>4</td>\n",
       "      <td>3</td>\n",
       "    </tr>\n",
       "    <tr>\n",
       "      <th>5</th>\n",
       "      <td>6</td>\n",
       "      <td>1</td>\n",
       "      <td>3</td>\n",
       "      <td>1</td>\n",
       "    </tr>\n",
       "  </tbody>\n",
       "</table>\n",
       "</div>"
      ],
      "text/plain": [
       "   id  gender  age  region\n",
       "1   2       1   54       9\n",
       "2   3       1   89       1\n",
       "3   4       1   97       3\n",
       "4   5       0    4       3\n",
       "5   6       1    3       1"
      ]
     },
     "execution_count": 7,
     "metadata": {},
     "output_type": "execute_result"
    }
   ],
   "source": [
    "df.drop([0], axis=0, inplace=True)\n",
    "df.head()"
   ]
  },
  {
   "cell_type": "code",
   "execution_count": null,
   "id": "84560fba",
   "metadata": {},
   "outputs": [],
   "source": [
    "df.drop([0], axis=0, inplace=True)\n",
    "df.head()"
   ]
  },
  {
   "cell_type": "code",
   "execution_count": 9,
   "id": "f4d7602b",
   "metadata": {},
   "outputs": [
    {
     "data": {
      "text/plain": [
       "6"
      ]
     },
     "execution_count": 9,
     "metadata": {},
     "output_type": "execute_result"
    }
   ],
   "source": [
    "df.at[5, 'id']"
   ]
  },
  {
   "cell_type": "code",
   "execution_count": 10,
   "id": "81b46ee6",
   "metadata": {},
   "outputs": [
    {
     "data": {
      "text/html": [
       "<div>\n",
       "<style scoped>\n",
       "    .dataframe tbody tr th:only-of-type {\n",
       "        vertical-align: middle;\n",
       "    }\n",
       "\n",
       "    .dataframe tbody tr th {\n",
       "        vertical-align: top;\n",
       "    }\n",
       "\n",
       "    .dataframe thead th {\n",
       "        text-align: right;\n",
       "    }\n",
       "</style>\n",
       "<table border=\"1\" class=\"dataframe\">\n",
       "  <thead>\n",
       "    <tr style=\"text-align: right;\">\n",
       "      <th></th>\n",
       "      <th>id</th>\n",
       "      <th>gender</th>\n",
       "      <th>age</th>\n",
       "      <th>region</th>\n",
       "    </tr>\n",
       "  </thead>\n",
       "  <tbody>\n",
       "    <tr>\n",
       "      <th>1</th>\n",
       "      <td>2</td>\n",
       "      <td>1</td>\n",
       "      <td>54</td>\n",
       "      <td>9</td>\n",
       "    </tr>\n",
       "    <tr>\n",
       "      <th>2</th>\n",
       "      <td>3</td>\n",
       "      <td>1</td>\n",
       "      <td>89</td>\n",
       "      <td>1</td>\n",
       "    </tr>\n",
       "    <tr>\n",
       "      <th>3</th>\n",
       "      <td>4</td>\n",
       "      <td>1</td>\n",
       "      <td>97</td>\n",
       "      <td>3</td>\n",
       "    </tr>\n",
       "    <tr>\n",
       "      <th>4</th>\n",
       "      <td>5</td>\n",
       "      <td>0</td>\n",
       "      <td>4</td>\n",
       "      <td>3</td>\n",
       "    </tr>\n",
       "    <tr>\n",
       "      <th>5</th>\n",
       "      <td>6</td>\n",
       "      <td>1</td>\n",
       "      <td>3</td>\n",
       "      <td>1</td>\n",
       "    </tr>\n",
       "    <tr>\n",
       "      <th>7</th>\n",
       "      <td>8</td>\n",
       "      <td>1</td>\n",
       "      <td>79</td>\n",
       "      <td>5</td>\n",
       "    </tr>\n",
       "    <tr>\n",
       "      <th>8</th>\n",
       "      <td>9</td>\n",
       "      <td>0</td>\n",
       "      <td>30</td>\n",
       "      <td>8</td>\n",
       "    </tr>\n",
       "  </tbody>\n",
       "</table>\n",
       "</div>"
      ],
      "text/plain": [
       "   id  gender  age  region\n",
       "1   2       1   54       9\n",
       "2   3       1   89       1\n",
       "3   4       1   97       3\n",
       "4   5       0    4       3\n",
       "5   6       1    3       1\n",
       "7   8       1   79       5\n",
       "8   9       0   30       8"
      ]
     },
     "execution_count": 10,
     "metadata": {},
     "output_type": "execute_result"
    }
   ],
   "source": [
    "df1 = df.drop(df.at[5, 'id'])\n",
    "df1.head(7)"
   ]
  },
  {
   "cell_type": "markdown",
   "id": "5dbb22f6",
   "metadata": {},
   "source": [
    "과제. 4개의 Series를 결합하여 데이터프레임을 생성하여 출력하세요.\n",
    "- 출력한 데이터프레임에서 추출하고 싶은 5개의 데이터를 인덱싱하여 출력\n",
    "- null값을 3개 추가\n",
    "- null값의 개수를 확인하고 삭제\n",
    "- 2개의 데이터를 수정\n",
    "- 1개의 행을 삭제"
   ]
  },
  {
   "cell_type": "code",
   "execution_count": null,
   "id": "675ea0a7",
   "metadata": {
    "id": "675ea0a7",
    "outputId": "4988cb57-5898-44dc-e4fe-8675759bee5b"
   },
   "outputs": [
    {
     "data": {
      "text/html": [
       "<div>\n",
       "<style scoped>\n",
       "    .dataframe tbody tr th:only-of-type {\n",
       "        vertical-align: middle;\n",
       "    }\n",
       "\n",
       "    .dataframe tbody tr th {\n",
       "        vertical-align: top;\n",
       "    }\n",
       "\n",
       "    .dataframe thead th {\n",
       "        text-align: right;\n",
       "    }\n",
       "</style>\n",
       "<table border=\"1\" class=\"dataframe\">\n",
       "  <thead>\n",
       "    <tr style=\"text-align: right;\">\n",
       "      <th></th>\n",
       "      <th>id</th>\n",
       "      <th>gender</th>\n",
       "      <th>age</th>\n",
       "      <th>region</th>\n",
       "    </tr>\n",
       "  </thead>\n",
       "  <tbody>\n",
       "    <tr>\n",
       "      <th>0</th>\n",
       "      <td>1</td>\n",
       "      <td>1</td>\n",
       "      <td>34</td>\n",
       "      <td>8</td>\n",
       "    </tr>\n",
       "    <tr>\n",
       "      <th>1</th>\n",
       "      <td>2</td>\n",
       "      <td>0</td>\n",
       "      <td>81</td>\n",
       "      <td>1</td>\n",
       "    </tr>\n",
       "    <tr>\n",
       "      <th>2</th>\n",
       "      <td>3</td>\n",
       "      <td>0</td>\n",
       "      <td>9</td>\n",
       "      <td>3</td>\n",
       "    </tr>\n",
       "  </tbody>\n",
       "</table>\n",
       "</div>"
      ],
      "text/plain": [
       "   id  gender  age  region\n",
       "0   1       1   34       8\n",
       "1   2       0   81       1\n",
       "2   3       0    9       3"
      ]
     },
     "execution_count": 4,
     "metadata": {},
     "output_type": "execute_result"
    }
   ],
   "source": [
    "# df1 = df[:]\n",
    "df1 = df.copy()\n",
    "df1.head(3)\n",
    "# df1.tail(3)"
   ]
  },
  {
   "cell_type": "code",
   "execution_count": 40,
   "id": "5c98e645",
   "metadata": {
    "id": "5c98e645",
    "outputId": "d675dcc8-b25f-44a4-dee3-50a7fe8ad7c9"
   },
   "outputs": [
    {
     "name": "stdout",
     "output_type": "stream",
     "text": [
      "[[2 1 4 1 3]\n",
      " [3 4 1 3 3]\n",
      " [2 1 1 2 3]\n",
      " [2 2 2 3 4]\n",
      " [4 4 2 4 1]\n",
      " [4 3 2 2 4]\n",
      " [2 2 2 2 1]\n",
      " [3 1 4 4 2]\n",
      " [2 4 2 1 2]\n",
      " [1 3 1 4 4]] <class 'numpy.ndarray'>\n"
     ]
    }
   ],
   "source": [
    "a = np.random.randint(1,5,size=(10,5))\n",
    "print(a,type(a))"
   ]
  },
  {
   "cell_type": "code",
   "execution_count": 56,
   "id": "26896a38",
   "metadata": {
    "id": "26896a38",
    "outputId": "65f5cd4e-d59d-4c88-8d4b-a4de20bbe6b2"
   },
   "outputs": [
    {
     "name": "stdout",
     "output_type": "stream",
     "text": [
      "   c1  c2  c3  c4  c5\n",
      "0   2   1   4   1   3\n",
      "1   3   4   1   3   3\n",
      "2   2   1   1   2   3\n"
     ]
    }
   ],
   "source": [
    "# 2차원 리스트를 데이터프레임으로 변환\n",
    "list1 = a.tolist()\n",
    "# print(list1,type(list))\n",
    "\n",
    "df1 = pd.DataFrame(list1, columns=['c1','c2','c3','c4','c5'])\n",
    "# df1 = pd.DataFrame(list1, columns=list('abcde'))\n",
    "print(df1.head(3))"
   ]
  },
  {
   "cell_type": "code",
   "execution_count": 43,
   "id": "6ec85eed",
   "metadata": {
    "id": "6ec85eed",
    "outputId": "62ca7454-cce8-439d-d190-c52c3e4dd891"
   },
   "outputs": [
    {
     "name": "stdout",
     "output_type": "stream",
     "text": [
      "\n",
      "[[2, 1, 4, 1, 3], [3, 4, 1, 3, 3], [2, 1, 1, 2, 3], [2, 2, 2, 3, 4], [4, 4, 2, 4, 1], [4, 3, 2, 2, 4], [2, 2, 2, 2, 1], [3, 1, 4, 4, 2], [2, 4, 2, 1, 2], [1, 3, 1, 4, 4]] <class 'list'>\n",
      "\n",
      "{'c1': [2, 3, 2, 2, 4, 4, 2, 3, 2, 1], 'c2': [1, 4, 1, 2, 4, 3, 2, 1, 4, 3], 'c3': [4, 1, 1, 2, 2, 2, 2, 4, 2, 1], 'c4': [1, 3, 2, 3, 4, 2, 2, 4, 1, 4], 'c5': [3, 3, 3, 4, 1, 4, 1, 2, 2, 4]} <class 'dict'>\n"
     ]
    }
   ],
   "source": [
    "# 데이터프레임을 배열, 리스트, 딕셔너리로 변환\n",
    "ar = df1.values\n",
    "# print(ar,type(ar))\n",
    "print()\n",
    "li = ar.tolist()\n",
    "print(li,type(li))\n",
    "print()\n",
    "dict = df1.to_dict('list')\n",
    "print(dict,type(dict))"
   ]
  },
  {
   "cell_type": "code",
   "execution_count": 44,
   "id": "cf60712c",
   "metadata": {
    "id": "cf60712c",
    "outputId": "3bcdd601-681d-409a-da3e-92fbbbda417e"
   },
   "outputs": [
    {
     "name": "stdout",
     "output_type": "stream",
     "text": [
      "   col1 col2\n",
      "0     1    A\n",
      "1     2    A\n",
      "2     3    B\n",
      "3     4    B\n",
      "4     5    C\n",
      "5     6    C\n"
     ]
    }
   ],
   "source": [
    "# file 생성\n",
    "file_data = pd.DataFrame({\n",
    "    'col1':[1,2,3,4,5,6],\n",
    "    'col2':['A','A','B','B','C','C']  \n",
    "})\n",
    "print(file_data)"
   ]
  },
  {
   "cell_type": "code",
   "execution_count": 46,
   "id": "ada7acdd",
   "metadata": {},
   "outputs": [
    {
     "data": {
      "text/plain": [
       "'D:\\\\kdt_231026\\\\workspace\\\\m3_분석라이브러리\\\\pandas'"
      ]
     },
     "execution_count": 46,
     "metadata": {},
     "output_type": "execute_result"
    }
   ],
   "source": [
    "%pwd"
   ]
  },
  {
   "cell_type": "code",
   "execution_count": 50,
   "id": "d76f4c6c",
   "metadata": {},
   "outputs": [],
   "source": [
    "!mkdir data"
   ]
  },
  {
   "cell_type": "code",
   "execution_count": 52,
   "id": "da8812f6",
   "metadata": {
    "id": "da8812f6",
    "outputId": "eee42373-527f-4740-bbcc-090f707665b7"
   },
   "outputs": [
    {
     "name": "stdout",
     "output_type": "stream",
     "text": [
      "   col1 col2\n",
      "0     1    A\n",
      "1     2    A\n",
      "2     3    B\n",
      "3     4    B\n",
      "4     5    C\n",
      "5     6    C <class 'pandas.core.frame.DataFrame'>\n"
     ]
    }
   ],
   "source": [
    "file_data.to_csv('data/file_data.csv',index=None)\n",
    "file_data = pd.read_csv('data/file_data.csv')\n",
    "print(file_data,type(file_data))"
   ]
  },
  {
   "cell_type": "code",
   "execution_count": 53,
   "id": "44c28f9d",
   "metadata": {},
   "outputs": [
    {
     "name": "stdout",
     "output_type": "stream",
     "text": [
      " D 드라이브의 볼륨: 새 볼륨\n",
      " 볼륨 일련 번호: 02B1-19A2\n",
      "\n",
      " D:\\kdt_231026\\workspace\\m3_분석라이브러리\\pandas 디렉터리\n",
      "\n",
      "2023-11-21  오전 11:00    <DIR>          .\n",
      "2023-11-21  오전 11:00    <DIR>          ..\n",
      "2023-11-21  오전 09:06    <DIR>          .ipynb_checkpoints\n",
      "2023-11-21  오전 11:00    <DIR>          data\n",
      "2023-11-17  오후 05:20    <DIR>          dataset\n",
      "2023-11-21  오전 10:59           162,736 pandas_1_데이터형식.ipynb\n",
      "2023-03-26  오후 08:01            78,378 pandas_2_연산.ipynb\n",
      "2023-03-27  오전 01:37            80,307 pandas_3_읽기_조회_인덱싱_정렬_중복_탐색_이상치_파생변수_함수.ipynb\n",
      "2023-04-02  오후 07:21            59,594 pandas_4_날짜.ipynb\n",
      "2022-06-27  오전 05:29           719,836 pandas_5_입출력.ipynb\n",
      "2022-07-03  오전 06:16            46,594 pandas_6_전처리.ipynb\n",
      "2023-03-27  오전 01:37           649,933 pandas_7_전처리.ipynb\n",
      "2023-04-02  오후 06:35           319,169 pandas_8_응용.ipynb\n",
      "2023-11-21  오전 10:52            18,627 데이터 형식.ipynb\n",
      "               9개 파일           2,135,174 바이트\n",
      "               5개 디렉터리  433,117,884,416 바이트 남음\n"
     ]
    }
   ],
   "source": [
    "ls"
   ]
  },
  {
   "cell_type": "code",
   "execution_count": 22,
   "id": "b6a3c61b",
   "metadata": {
    "id": "b6a3c61b",
    "outputId": "a339818a-959a-439e-a368-fa2eecf2b658"
   },
   "outputs": [
    {
     "name": "stdout",
     "output_type": "stream",
     "text": [
      "   col1 col2\n",
      "0     1    A\n",
      "1     2    B\n",
      "2     3    C\n"
     ]
    }
   ],
   "source": [
    "df_1 = pd.DataFrame({\n",
    "    'col1':np.array([1,2,3]),\n",
    "    'col2':np.array(['A','B','C'])\n",
    "})\n",
    "df_2 = pd.DataFrame({\n",
    "    'col1':np.array([4,5,6]),\n",
    "    'col2':np.array(['D','E','F'])\n",
    "})\n",
    "print(df_1)"
   ]
  },
  {
   "cell_type": "code",
   "execution_count": 23,
   "id": "494fc0ed",
   "metadata": {
    "id": "494fc0ed",
    "outputId": "3273733f-a7b3-4af8-c68f-1111a0fc8c9a"
   },
   "outputs": [
    {
     "name": "stdout",
     "output_type": "stream",
     "text": [
      "   col1 col2  col1 col2\n",
      "0     1    A     4    D\n",
      "1     2    B     5    E\n",
      "2     3    C     6    F\n",
      "\n",
      "   col1 col2\n",
      "0     1    A\n",
      "1     2    B\n",
      "2     3    C\n",
      "0     4    D\n",
      "1     5    E\n",
      "2     6    F\n"
     ]
    }
   ],
   "source": [
    "# Q. df_1과 df_2를 행방향과 열방향으로 병합하여 출력하세요.\n",
    "df_3 =pd.concat([df_1,df_2],axis=1)\n",
    "df_4 =pd.concat([df_1,df_2])\n",
    "print(df_3)\n",
    "print()\n",
    "print(df_4)"
   ]
  },
  {
   "cell_type": "code",
   "execution_count": 24,
   "id": "f6f36834",
   "metadata": {
    "id": "f6f36834",
    "outputId": "5c9df764-1f13-4418-a49f-885ae773aed5"
   },
   "outputs": [
    {
     "data": {
      "text/html": [
       "<div>\n",
       "<style scoped>\n",
       "    .dataframe tbody tr th:only-of-type {\n",
       "        vertical-align: middle;\n",
       "    }\n",
       "\n",
       "    .dataframe tbody tr th {\n",
       "        vertical-align: top;\n",
       "    }\n",
       "\n",
       "    .dataframe thead th {\n",
       "        text-align: right;\n",
       "    }\n",
       "</style>\n",
       "<table border=\"1\" class=\"dataframe\">\n",
       "  <thead>\n",
       "    <tr style=\"text-align: right;\">\n",
       "      <th></th>\n",
       "      <th>col1</th>\n",
       "      <th>col2</th>\n",
       "    </tr>\n",
       "  </thead>\n",
       "  <tbody>\n",
       "    <tr>\n",
       "      <th>0</th>\n",
       "      <td>1</td>\n",
       "      <td>A</td>\n",
       "    </tr>\n",
       "    <tr>\n",
       "      <th>1</th>\n",
       "      <td>2</td>\n",
       "      <td>B</td>\n",
       "    </tr>\n",
       "    <tr>\n",
       "      <th>2</th>\n",
       "      <td>3</td>\n",
       "      <td>C</td>\n",
       "    </tr>\n",
       "    <tr>\n",
       "      <th>0</th>\n",
       "      <td>4</td>\n",
       "      <td>D</td>\n",
       "    </tr>\n",
       "    <tr>\n",
       "      <th>1</th>\n",
       "      <td>5</td>\n",
       "      <td>E</td>\n",
       "    </tr>\n",
       "    <tr>\n",
       "      <th>2</th>\n",
       "      <td>6</td>\n",
       "      <td>F</td>\n",
       "    </tr>\n",
       "  </tbody>\n",
       "</table>\n",
       "</div>"
      ],
      "text/plain": [
       "   col1 col2\n",
       "0     1    A\n",
       "1     2    B\n",
       "2     3    C\n",
       "0     4    D\n",
       "1     5    E\n",
       "2     6    F"
      ]
     },
     "execution_count": 24,
     "metadata": {},
     "output_type": "execute_result"
    }
   ],
   "source": [
    "df_4"
   ]
  },
  {
   "cell_type": "code",
   "execution_count": 26,
   "id": "fa82e987",
   "metadata": {},
   "outputs": [
    {
     "data": {
      "text/plain": [
       "0    A\n",
       "1    B\n",
       "2    C\n",
       "0    D\n",
       "1    E\n",
       "2    F\n",
       "Name: col2, dtype: object"
      ]
     },
     "execution_count": 26,
     "metadata": {},
     "output_type": "execute_result"
    }
   ],
   "source": [
    "df_4.iloc[:,1]"
   ]
  },
  {
   "cell_type": "code",
   "execution_count": 32,
   "id": "8d95aa1b",
   "metadata": {},
   "outputs": [
    {
     "data": {
      "text/plain": [
       "0    A\n",
       "1    B\n",
       "2    C\n",
       "0    D\n",
       "1    E\n",
       "2    F\n",
       "Name: col2, dtype: object"
      ]
     },
     "execution_count": 32,
     "metadata": {},
     "output_type": "execute_result"
    }
   ],
   "source": [
    "df_4['col2']"
   ]
  },
  {
   "cell_type": "code",
   "execution_count": 34,
   "id": "e9dfc058",
   "metadata": {},
   "outputs": [
    {
     "data": {
      "text/plain": [
       "col1    2\n",
       "col2    B\n",
       "Name: 1, dtype: object"
      ]
     },
     "execution_count": 34,
     "metadata": {},
     "output_type": "execute_result"
    }
   ],
   "source": [
    "df_4.iloc[1]"
   ]
  },
  {
   "cell_type": "code",
   "execution_count": 20,
   "id": "45f0c3d1",
   "metadata": {
    "id": "45f0c3d1",
    "outputId": "ec94a9ae-d25b-47cf-a38b-9677123386fa"
   },
   "outputs": [
    {
     "name": "stdout",
     "output_type": "stream",
     "text": [
      "0    A\n",
      "1    B\n",
      "2    C\n",
      "0    D\n",
      "1    E\n",
      "2    F\n",
      "Name: col2, dtype: object\n"
     ]
    }
   ],
   "source": [
    "# 데이터 추출\n",
    "# print(df_4.col2)\n",
    "print(df_4['col2'])"
   ]
  },
  {
   "cell_type": "code",
   "execution_count": null,
   "id": "5de37bad",
   "metadata": {
    "id": "5de37bad",
    "outputId": "9c0c5afb-c1d1-4d69-f1e3-4ea9c2ccb9d4"
   },
   "outputs": [
    {
     "data": {
      "text/html": [
       "<div>\n",
       "<style scoped>\n",
       "    .dataframe tbody tr th:only-of-type {\n",
       "        vertical-align: middle;\n",
       "    }\n",
       "\n",
       "    .dataframe tbody tr th {\n",
       "        vertical-align: top;\n",
       "    }\n",
       "\n",
       "    .dataframe thead th {\n",
       "        text-align: right;\n",
       "    }\n",
       "</style>\n",
       "<table border=\"1\" class=\"dataframe\">\n",
       "  <thead>\n",
       "    <tr style=\"text-align: right;\">\n",
       "      <th></th>\n",
       "      <th>col1</th>\n",
       "    </tr>\n",
       "  </thead>\n",
       "  <tbody>\n",
       "    <tr>\n",
       "      <th>0</th>\n",
       "      <td>1</td>\n",
       "    </tr>\n",
       "    <tr>\n",
       "      <th>1</th>\n",
       "      <td>2</td>\n",
       "    </tr>\n",
       "    <tr>\n",
       "      <th>2</th>\n",
       "      <td>3</td>\n",
       "    </tr>\n",
       "    <tr>\n",
       "      <th>0</th>\n",
       "      <td>4</td>\n",
       "    </tr>\n",
       "    <tr>\n",
       "      <th>1</th>\n",
       "      <td>5</td>\n",
       "    </tr>\n",
       "    <tr>\n",
       "      <th>2</th>\n",
       "      <td>6</td>\n",
       "    </tr>\n",
       "  </tbody>\n",
       "</table>\n",
       "</div>"
      ],
      "text/plain": [
       "   col1\n",
       "0     1\n",
       "1     2\n",
       "2     3\n",
       "0     4\n",
       "1     5\n",
       "2     6"
      ]
     },
     "execution_count": 97,
     "metadata": {},
     "output_type": "execute_result"
    }
   ],
   "source": [
    "# pd.DataFrame(df_4['col2'])\n",
    "df_4[['col1']]"
   ]
  },
  {
   "cell_type": "code",
   "execution_count": null,
   "id": "73c4086d",
   "metadata": {
    "id": "73c4086d",
    "outputId": "21952469-707e-4c06-9a22-a1b5a4d18a82"
   },
   "outputs": [
    {
     "data": {
      "text/html": [
       "<div>\n",
       "<style scoped>\n",
       "    .dataframe tbody tr th:only-of-type {\n",
       "        vertical-align: middle;\n",
       "    }\n",
       "\n",
       "    .dataframe tbody tr th {\n",
       "        vertical-align: top;\n",
       "    }\n",
       "\n",
       "    .dataframe thead th {\n",
       "        text-align: right;\n",
       "    }\n",
       "</style>\n",
       "<table border=\"1\" class=\"dataframe\">\n",
       "  <thead>\n",
       "    <tr style=\"text-align: right;\">\n",
       "      <th></th>\n",
       "      <th>id</th>\n",
       "      <th>gender</th>\n",
       "      <th>age</th>\n",
       "      <th>region</th>\n",
       "    </tr>\n",
       "  </thead>\n",
       "  <tbody>\n",
       "    <tr>\n",
       "      <th>0</th>\n",
       "      <td>1</td>\n",
       "      <td>1</td>\n",
       "      <td>34</td>\n",
       "      <td>8</td>\n",
       "    </tr>\n",
       "    <tr>\n",
       "      <th>1</th>\n",
       "      <td>2</td>\n",
       "      <td>0</td>\n",
       "      <td>81</td>\n",
       "      <td>1</td>\n",
       "    </tr>\n",
       "    <tr>\n",
       "      <th>2</th>\n",
       "      <td>3</td>\n",
       "      <td>0</td>\n",
       "      <td>9</td>\n",
       "      <td>3</td>\n",
       "    </tr>\n",
       "    <tr>\n",
       "      <th>3</th>\n",
       "      <td>4</td>\n",
       "      <td>1</td>\n",
       "      <td>81</td>\n",
       "      <td>7</td>\n",
       "    </tr>\n",
       "    <tr>\n",
       "      <th>4</th>\n",
       "      <td>5</td>\n",
       "      <td>0</td>\n",
       "      <td>50</td>\n",
       "      <td>8</td>\n",
       "    </tr>\n",
       "    <tr>\n",
       "      <th>...</th>\n",
       "      <td>...</td>\n",
       "      <td>...</td>\n",
       "      <td>...</td>\n",
       "      <td>...</td>\n",
       "    </tr>\n",
       "    <tr>\n",
       "      <th>995</th>\n",
       "      <td>996</td>\n",
       "      <td>0</td>\n",
       "      <td>18</td>\n",
       "      <td>10</td>\n",
       "    </tr>\n",
       "    <tr>\n",
       "      <th>996</th>\n",
       "      <td>997</td>\n",
       "      <td>0</td>\n",
       "      <td>57</td>\n",
       "      <td>2</td>\n",
       "    </tr>\n",
       "    <tr>\n",
       "      <th>997</th>\n",
       "      <td>998</td>\n",
       "      <td>1</td>\n",
       "      <td>51</td>\n",
       "      <td>6</td>\n",
       "    </tr>\n",
       "    <tr>\n",
       "      <th>998</th>\n",
       "      <td>999</td>\n",
       "      <td>1</td>\n",
       "      <td>26</td>\n",
       "      <td>10</td>\n",
       "    </tr>\n",
       "    <tr>\n",
       "      <th>999</th>\n",
       "      <td>1000</td>\n",
       "      <td>1</td>\n",
       "      <td>97</td>\n",
       "      <td>10</td>\n",
       "    </tr>\n",
       "  </tbody>\n",
       "</table>\n",
       "<p>1000 rows × 4 columns</p>\n",
       "</div>"
      ],
      "text/plain": [
       "       id  gender  age  region\n",
       "0       1       1   34       8\n",
       "1       2       0   81       1\n",
       "2       3       0    9       3\n",
       "3       4       1   81       7\n",
       "4       5       0   50       8\n",
       "..    ...     ...  ...     ...\n",
       "995   996       0   18      10\n",
       "996   997       0   57       2\n",
       "997   998       1   51       6\n",
       "998   999       1   26      10\n",
       "999  1000       1   97      10\n",
       "\n",
       "[1000 rows x 4 columns]"
      ]
     },
     "execution_count": 6,
     "metadata": {},
     "output_type": "execute_result"
    }
   ],
   "source": [
    "df = df1.copy()\n",
    "df"
   ]
  },
  {
   "cell_type": "code",
   "execution_count": null,
   "id": "dd2fdaba",
   "metadata": {
    "id": "dd2fdaba"
   },
   "outputs": [],
   "source": [
    "# 열 삭제\n",
    "df = df1.copy()\n",
    "df_a = df.drop('c1',axis=1)\n",
    "df_a"
   ]
  },
  {
   "cell_type": "code",
   "execution_count": 11,
   "id": "vMWHc382GhfO",
   "metadata": {
    "colab": {
     "base_uri": "https://localhost:8080/",
     "height": 363
    },
    "executionInfo": {
     "elapsed": 13,
     "status": "ok",
     "timestamp": 1679552171335,
     "user": {
      "displayName": "kevin park",
      "userId": "02703084888761299921"
     },
     "user_tz": -540
    },
    "id": "vMWHc382GhfO",
    "outputId": "2c293be9-8483-4f0c-8d11-5b67fb560561"
   },
   "outputs": [
    {
     "data": {
      "text/html": [
       "<div>\n",
       "<style scoped>\n",
       "    .dataframe tbody tr th:only-of-type {\n",
       "        vertical-align: middle;\n",
       "    }\n",
       "\n",
       "    .dataframe tbody tr th {\n",
       "        vertical-align: top;\n",
       "    }\n",
       "\n",
       "    .dataframe thead th {\n",
       "        text-align: right;\n",
       "    }\n",
       "</style>\n",
       "<table border=\"1\" class=\"dataframe\">\n",
       "  <thead>\n",
       "    <tr style=\"text-align: right;\">\n",
       "      <th></th>\n",
       "      <th>국어</th>\n",
       "      <th>영어</th>\n",
       "      <th>수학</th>\n",
       "      <th>과학</th>\n",
       "      <th>사회</th>\n",
       "    </tr>\n",
       "  </thead>\n",
       "  <tbody>\n",
       "    <tr>\n",
       "      <th>s1</th>\n",
       "      <td>1</td>\n",
       "      <td>3</td>\n",
       "      <td>4</td>\n",
       "      <td>3</td>\n",
       "      <td>4</td>\n",
       "    </tr>\n",
       "    <tr>\n",
       "      <th>s2</th>\n",
       "      <td>1</td>\n",
       "      <td>2</td>\n",
       "      <td>3</td>\n",
       "      <td>1</td>\n",
       "      <td>3</td>\n",
       "    </tr>\n",
       "    <tr>\n",
       "      <th>s3</th>\n",
       "      <td>4</td>\n",
       "      <td>4</td>\n",
       "      <td>1</td>\n",
       "      <td>1</td>\n",
       "      <td>2</td>\n",
       "    </tr>\n",
       "    <tr>\n",
       "      <th>s4</th>\n",
       "      <td>4</td>\n",
       "      <td>4</td>\n",
       "      <td>2</td>\n",
       "      <td>4</td>\n",
       "      <td>2</td>\n",
       "    </tr>\n",
       "    <tr>\n",
       "      <th>s5</th>\n",
       "      <td>1</td>\n",
       "      <td>1</td>\n",
       "      <td>3</td>\n",
       "      <td>3</td>\n",
       "      <td>2</td>\n",
       "    </tr>\n",
       "    <tr>\n",
       "      <th>s6</th>\n",
       "      <td>4</td>\n",
       "      <td>2</td>\n",
       "      <td>4</td>\n",
       "      <td>3</td>\n",
       "      <td>2</td>\n",
       "    </tr>\n",
       "    <tr>\n",
       "      <th>s7</th>\n",
       "      <td>3</td>\n",
       "      <td>4</td>\n",
       "      <td>4</td>\n",
       "      <td>4</td>\n",
       "      <td>4</td>\n",
       "    </tr>\n",
       "    <tr>\n",
       "      <th>s8</th>\n",
       "      <td>1</td>\n",
       "      <td>4</td>\n",
       "      <td>3</td>\n",
       "      <td>4</td>\n",
       "      <td>2</td>\n",
       "    </tr>\n",
       "    <tr>\n",
       "      <th>s9</th>\n",
       "      <td>1</td>\n",
       "      <td>3</td>\n",
       "      <td>4</td>\n",
       "      <td>4</td>\n",
       "      <td>1</td>\n",
       "    </tr>\n",
       "    <tr>\n",
       "      <th>s10</th>\n",
       "      <td>3</td>\n",
       "      <td>1</td>\n",
       "      <td>3</td>\n",
       "      <td>2</td>\n",
       "      <td>1</td>\n",
       "    </tr>\n",
       "  </tbody>\n",
       "</table>\n",
       "</div>"
      ],
      "text/plain": [
       "     국어  영어  수학  과학  사회\n",
       "s1    1   3   4   3   4\n",
       "s2    1   2   3   1   3\n",
       "s3    4   4   1   1   2\n",
       "s4    4   4   2   4   2\n",
       "s5    1   1   3   3   2\n",
       "s6    4   2   4   3   2\n",
       "s7    3   4   4   4   4\n",
       "s8    1   4   3   4   2\n",
       "s9    1   3   4   4   1\n",
       "s10   3   1   3   2   1"
      ]
     },
     "execution_count": 11,
     "metadata": {},
     "output_type": "execute_result"
    }
   ],
   "source": [
    "import pandas as pd\n",
    "import numpy as np\n",
    "df = np.random.randint(1,5,size=(10,5))\n",
    "df=pd.DataFrame(df,index=['s1','s2','s3','s4','s5','s6','s7','s8','s9','s10'],\n",
    "               columns=['국어','영어','수학','과학','사회'])\n",
    "df"
   ]
  },
  {
   "cell_type": "markdown",
   "id": "64dffb78",
   "metadata": {
    "id": "IeZfMBrxGzFP"
   },
   "source": [
    "과제. 학생별 성적 데이터셋으로 의미있게 데이터 셋을 수정하세요.(아래 사항 반영)\n",
    "- S1 ~ S10은 평균 점수를 기준으로 1등급에서 10등급이고 등급간 점수 차는 5점\n",
    "- 결시자가 국어 3명, 수학 2명 있음\n",
    "- 영어, 수학의 평균 점수가 국어 대비 5점 낮음"
   ]
  },
  {
   "cell_type": "code",
   "execution_count": 12,
   "id": "C0XbxPCuGv3g",
   "metadata": {
    "colab": {
     "base_uri": "https://localhost:8080/",
     "height": 363
    },
    "executionInfo": {
     "elapsed": 282,
     "status": "ok",
     "timestamp": 1679552290946,
     "user": {
      "displayName": "kevin park",
      "userId": "02703084888761299921"
     },
     "user_tz": -540
    },
    "id": "C0XbxPCuGv3g",
    "outputId": "2c637d15-2947-4109-efa8-8e9dbdf1ab7c"
   },
   "outputs": [
    {
     "data": {
      "text/html": [
       "<div>\n",
       "<style scoped>\n",
       "    .dataframe tbody tr th:only-of-type {\n",
       "        vertical-align: middle;\n",
       "    }\n",
       "\n",
       "    .dataframe tbody tr th {\n",
       "        vertical-align: top;\n",
       "    }\n",
       "\n",
       "    .dataframe thead th {\n",
       "        text-align: right;\n",
       "    }\n",
       "</style>\n",
       "<table border=\"1\" class=\"dataframe\">\n",
       "  <thead>\n",
       "    <tr style=\"text-align: right;\">\n",
       "      <th></th>\n",
       "      <th>국어</th>\n",
       "      <th>영어</th>\n",
       "      <th>수학</th>\n",
       "      <th>과학</th>\n",
       "      <th>사회</th>\n",
       "    </tr>\n",
       "  </thead>\n",
       "  <tbody>\n",
       "    <tr>\n",
       "      <th>s1</th>\n",
       "      <td>90</td>\n",
       "      <td>90</td>\n",
       "      <td>90</td>\n",
       "      <td>90</td>\n",
       "      <td>90</td>\n",
       "    </tr>\n",
       "    <tr>\n",
       "      <th>s2</th>\n",
       "      <td>85</td>\n",
       "      <td>85</td>\n",
       "      <td>85</td>\n",
       "      <td>85</td>\n",
       "      <td>85</td>\n",
       "    </tr>\n",
       "    <tr>\n",
       "      <th>s3</th>\n",
       "      <td>80</td>\n",
       "      <td>80</td>\n",
       "      <td>80</td>\n",
       "      <td>80</td>\n",
       "      <td>80</td>\n",
       "    </tr>\n",
       "    <tr>\n",
       "      <th>s4</th>\n",
       "      <td>75</td>\n",
       "      <td>75</td>\n",
       "      <td>75</td>\n",
       "      <td>75</td>\n",
       "      <td>75</td>\n",
       "    </tr>\n",
       "    <tr>\n",
       "      <th>s5</th>\n",
       "      <td>70</td>\n",
       "      <td>70</td>\n",
       "      <td>70</td>\n",
       "      <td>70</td>\n",
       "      <td>70</td>\n",
       "    </tr>\n",
       "    <tr>\n",
       "      <th>s6</th>\n",
       "      <td>65</td>\n",
       "      <td>65</td>\n",
       "      <td>65</td>\n",
       "      <td>65</td>\n",
       "      <td>65</td>\n",
       "    </tr>\n",
       "    <tr>\n",
       "      <th>s7</th>\n",
       "      <td>60</td>\n",
       "      <td>60</td>\n",
       "      <td>60</td>\n",
       "      <td>60</td>\n",
       "      <td>60</td>\n",
       "    </tr>\n",
       "    <tr>\n",
       "      <th>s8</th>\n",
       "      <td>55</td>\n",
       "      <td>55</td>\n",
       "      <td>55</td>\n",
       "      <td>55</td>\n",
       "      <td>55</td>\n",
       "    </tr>\n",
       "    <tr>\n",
       "      <th>s9</th>\n",
       "      <td>50</td>\n",
       "      <td>50</td>\n",
       "      <td>50</td>\n",
       "      <td>50</td>\n",
       "      <td>50</td>\n",
       "    </tr>\n",
       "    <tr>\n",
       "      <th>s10</th>\n",
       "      <td>45</td>\n",
       "      <td>45</td>\n",
       "      <td>45</td>\n",
       "      <td>45</td>\n",
       "      <td>45</td>\n",
       "    </tr>\n",
       "  </tbody>\n",
       "</table>\n",
       "</div>"
      ],
      "text/plain": [
       "     국어  영어  수학  과학  사회\n",
       "s1   90  90  90  90  90\n",
       "s2   85  85  85  85  85\n",
       "s3   80  80  80  80  80\n",
       "s4   75  75  75  75  75\n",
       "s5   70  70  70  70  70\n",
       "s6   65  65  65  65  65\n",
       "s7   60  60  60  60  60\n",
       "s8   55  55  55  55  55\n",
       "s9   50  50  50  50  50\n",
       "s10  45  45  45  45  45"
      ]
     },
     "execution_count": 12,
     "metadata": {},
     "output_type": "execute_result"
    }
   ],
   "source": [
    "for i in range(10):\n",
    "    df.iloc[i] = 90 - i*5\n",
    "df"
   ]
  },
  {
   "cell_type": "code",
   "execution_count": 14,
   "id": "9QH6Z41SHlB2",
   "metadata": {
    "colab": {
     "base_uri": "https://localhost:8080/",
     "height": 363
    },
    "executionInfo": {
     "elapsed": 685,
     "status": "ok",
     "timestamp": 1679552439885,
     "user": {
      "displayName": "kevin park",
      "userId": "02703084888761299921"
     },
     "user_tz": -540
    },
    "id": "9QH6Z41SHlB2",
    "outputId": "89b55383-4401-4bc6-f40e-0b2c03a06e7f"
   },
   "outputs": [
    {
     "data": {
      "text/html": [
       "<div>\n",
       "<style scoped>\n",
       "    .dataframe tbody tr th:only-of-type {\n",
       "        vertical-align: middle;\n",
       "    }\n",
       "\n",
       "    .dataframe tbody tr th {\n",
       "        vertical-align: top;\n",
       "    }\n",
       "\n",
       "    .dataframe thead th {\n",
       "        text-align: right;\n",
       "    }\n",
       "</style>\n",
       "<table border=\"1\" class=\"dataframe\">\n",
       "  <thead>\n",
       "    <tr style=\"text-align: right;\">\n",
       "      <th></th>\n",
       "      <th>국어</th>\n",
       "      <th>영어</th>\n",
       "      <th>수학</th>\n",
       "      <th>과학</th>\n",
       "      <th>사회</th>\n",
       "    </tr>\n",
       "  </thead>\n",
       "  <tbody>\n",
       "    <tr>\n",
       "      <th>s1</th>\n",
       "      <td>90</td>\n",
       "      <td>85</td>\n",
       "      <td>85</td>\n",
       "      <td>90</td>\n",
       "      <td>90</td>\n",
       "    </tr>\n",
       "    <tr>\n",
       "      <th>s2</th>\n",
       "      <td>85</td>\n",
       "      <td>80</td>\n",
       "      <td>80</td>\n",
       "      <td>85</td>\n",
       "      <td>85</td>\n",
       "    </tr>\n",
       "    <tr>\n",
       "      <th>s3</th>\n",
       "      <td>80</td>\n",
       "      <td>75</td>\n",
       "      <td>75</td>\n",
       "      <td>80</td>\n",
       "      <td>80</td>\n",
       "    </tr>\n",
       "    <tr>\n",
       "      <th>s4</th>\n",
       "      <td>75</td>\n",
       "      <td>70</td>\n",
       "      <td>70</td>\n",
       "      <td>75</td>\n",
       "      <td>75</td>\n",
       "    </tr>\n",
       "    <tr>\n",
       "      <th>s5</th>\n",
       "      <td>70</td>\n",
       "      <td>65</td>\n",
       "      <td>65</td>\n",
       "      <td>70</td>\n",
       "      <td>70</td>\n",
       "    </tr>\n",
       "    <tr>\n",
       "      <th>s6</th>\n",
       "      <td>65</td>\n",
       "      <td>60</td>\n",
       "      <td>60</td>\n",
       "      <td>65</td>\n",
       "      <td>65</td>\n",
       "    </tr>\n",
       "    <tr>\n",
       "      <th>s7</th>\n",
       "      <td>60</td>\n",
       "      <td>55</td>\n",
       "      <td>55</td>\n",
       "      <td>60</td>\n",
       "      <td>60</td>\n",
       "    </tr>\n",
       "    <tr>\n",
       "      <th>s8</th>\n",
       "      <td>55</td>\n",
       "      <td>50</td>\n",
       "      <td>50</td>\n",
       "      <td>55</td>\n",
       "      <td>55</td>\n",
       "    </tr>\n",
       "    <tr>\n",
       "      <th>s9</th>\n",
       "      <td>50</td>\n",
       "      <td>45</td>\n",
       "      <td>45</td>\n",
       "      <td>50</td>\n",
       "      <td>50</td>\n",
       "    </tr>\n",
       "    <tr>\n",
       "      <th>s10</th>\n",
       "      <td>45</td>\n",
       "      <td>40</td>\n",
       "      <td>40</td>\n",
       "      <td>45</td>\n",
       "      <td>45</td>\n",
       "    </tr>\n",
       "  </tbody>\n",
       "</table>\n",
       "</div>"
      ],
      "text/plain": [
       "     국어  영어  수학  과학  사회\n",
       "s1   90  85  85  90  90\n",
       "s2   85  80  80  85  85\n",
       "s3   80  75  75  80  80\n",
       "s4   75  70  70  75  75\n",
       "s5   70  65  65  70  70\n",
       "s6   65  60  60  65  65\n",
       "s7   60  55  55  60  60\n",
       "s8   55  50  50  55  55\n",
       "s9   50  45  45  50  50\n",
       "s10  45  40  40  45  45"
      ]
     },
     "execution_count": 14,
     "metadata": {},
     "output_type": "execute_result"
    }
   ],
   "source": [
    "for i in range(10):\n",
    "    df.iloc[i,1:3] = df.iloc[i,0] - 5\n",
    "df"
   ]
  },
  {
   "cell_type": "code",
   "execution_count": 15,
   "id": "HZeW_WIsII6v",
   "metadata": {
    "colab": {
     "base_uri": "https://localhost:8080/",
     "height": 363
    },
    "executionInfo": {
     "elapsed": 304,
     "status": "ok",
     "timestamp": 1679552719625,
     "user": {
      "displayName": "kevin park",
      "userId": "02703084888761299921"
     },
     "user_tz": -540
    },
    "id": "HZeW_WIsII6v",
    "outputId": "67b87b9e-0f6e-4841-8374-326be01af33e"
   },
   "outputs": [
    {
     "data": {
      "text/html": [
       "<div>\n",
       "<style scoped>\n",
       "    .dataframe tbody tr th:only-of-type {\n",
       "        vertical-align: middle;\n",
       "    }\n",
       "\n",
       "    .dataframe tbody tr th {\n",
       "        vertical-align: top;\n",
       "    }\n",
       "\n",
       "    .dataframe thead th {\n",
       "        text-align: right;\n",
       "    }\n",
       "</style>\n",
       "<table border=\"1\" class=\"dataframe\">\n",
       "  <thead>\n",
       "    <tr style=\"text-align: right;\">\n",
       "      <th></th>\n",
       "      <th>국어</th>\n",
       "      <th>영어</th>\n",
       "      <th>수학</th>\n",
       "      <th>과학</th>\n",
       "      <th>사회</th>\n",
       "    </tr>\n",
       "  </thead>\n",
       "  <tbody>\n",
       "    <tr>\n",
       "      <th>s1</th>\n",
       "      <td>90.0</td>\n",
       "      <td>85</td>\n",
       "      <td>85.0</td>\n",
       "      <td>90</td>\n",
       "      <td>90</td>\n",
       "    </tr>\n",
       "    <tr>\n",
       "      <th>s2</th>\n",
       "      <td>85.0</td>\n",
       "      <td>80</td>\n",
       "      <td>80.0</td>\n",
       "      <td>85</td>\n",
       "      <td>85</td>\n",
       "    </tr>\n",
       "    <tr>\n",
       "      <th>s3</th>\n",
       "      <td>80.0</td>\n",
       "      <td>75</td>\n",
       "      <td>75.0</td>\n",
       "      <td>80</td>\n",
       "      <td>80</td>\n",
       "    </tr>\n",
       "    <tr>\n",
       "      <th>s4</th>\n",
       "      <td>75.0</td>\n",
       "      <td>70</td>\n",
       "      <td>70.0</td>\n",
       "      <td>75</td>\n",
       "      <td>75</td>\n",
       "    </tr>\n",
       "    <tr>\n",
       "      <th>s5</th>\n",
       "      <td>70.0</td>\n",
       "      <td>65</td>\n",
       "      <td>65.0</td>\n",
       "      <td>70</td>\n",
       "      <td>70</td>\n",
       "    </tr>\n",
       "    <tr>\n",
       "      <th>s6</th>\n",
       "      <td>65.0</td>\n",
       "      <td>60</td>\n",
       "      <td>60.0</td>\n",
       "      <td>65</td>\n",
       "      <td>65</td>\n",
       "    </tr>\n",
       "    <tr>\n",
       "      <th>s7</th>\n",
       "      <td>60.0</td>\n",
       "      <td>55</td>\n",
       "      <td>55.0</td>\n",
       "      <td>60</td>\n",
       "      <td>60</td>\n",
       "    </tr>\n",
       "    <tr>\n",
       "      <th>s8</th>\n",
       "      <td>NaN</td>\n",
       "      <td>50</td>\n",
       "      <td>50.0</td>\n",
       "      <td>55</td>\n",
       "      <td>55</td>\n",
       "    </tr>\n",
       "    <tr>\n",
       "      <th>s9</th>\n",
       "      <td>NaN</td>\n",
       "      <td>45</td>\n",
       "      <td>NaN</td>\n",
       "      <td>50</td>\n",
       "      <td>50</td>\n",
       "    </tr>\n",
       "    <tr>\n",
       "      <th>s10</th>\n",
       "      <td>NaN</td>\n",
       "      <td>40</td>\n",
       "      <td>NaN</td>\n",
       "      <td>45</td>\n",
       "      <td>45</td>\n",
       "    </tr>\n",
       "  </tbody>\n",
       "</table>\n",
       "</div>"
      ],
      "text/plain": [
       "       국어  영어    수학  과학  사회\n",
       "s1   90.0  85  85.0  90  90\n",
       "s2   85.0  80  80.0  85  85\n",
       "s3   80.0  75  75.0  80  80\n",
       "s4   75.0  70  70.0  75  75\n",
       "s5   70.0  65  65.0  70  70\n",
       "s6   65.0  60  60.0  65  65\n",
       "s7   60.0  55  55.0  60  60\n",
       "s8    NaN  50  50.0  55  55\n",
       "s9    NaN  45   NaN  50  50\n",
       "s10   NaN  40   NaN  45  45"
      ]
     },
     "execution_count": 15,
     "metadata": {},
     "output_type": "execute_result"
    }
   ],
   "source": [
    "a = df.copy()\n",
    "a.iloc[7:,0] = np.nan\n",
    "a.iloc[8:,2] = np.nan\n",
    "a"
   ]
  },
  {
   "cell_type": "code",
   "execution_count": 17,
   "id": "7b2213ab",
   "metadata": {},
   "outputs": [
    {
     "data": {
      "text/html": [
       "<div>\n",
       "<style scoped>\n",
       "    .dataframe tbody tr th:only-of-type {\n",
       "        vertical-align: middle;\n",
       "    }\n",
       "\n",
       "    .dataframe tbody tr th {\n",
       "        vertical-align: top;\n",
       "    }\n",
       "\n",
       "    .dataframe thead th {\n",
       "        text-align: right;\n",
       "    }\n",
       "</style>\n",
       "<table border=\"1\" class=\"dataframe\">\n",
       "  <thead>\n",
       "    <tr style=\"text-align: right;\">\n",
       "      <th></th>\n",
       "      <th>국어</th>\n",
       "      <th>영어</th>\n",
       "      <th>수학</th>\n",
       "      <th>과학</th>\n",
       "      <th>사회</th>\n",
       "      <th>평균</th>\n",
       "    </tr>\n",
       "  </thead>\n",
       "  <tbody>\n",
       "    <tr>\n",
       "      <th>s1</th>\n",
       "      <td>90.0</td>\n",
       "      <td>85</td>\n",
       "      <td>85.0</td>\n",
       "      <td>90</td>\n",
       "      <td>90</td>\n",
       "      <td>88.0</td>\n",
       "    </tr>\n",
       "    <tr>\n",
       "      <th>s2</th>\n",
       "      <td>85.0</td>\n",
       "      <td>80</td>\n",
       "      <td>80.0</td>\n",
       "      <td>85</td>\n",
       "      <td>85</td>\n",
       "      <td>83.0</td>\n",
       "    </tr>\n",
       "    <tr>\n",
       "      <th>s3</th>\n",
       "      <td>80.0</td>\n",
       "      <td>75</td>\n",
       "      <td>75.0</td>\n",
       "      <td>80</td>\n",
       "      <td>80</td>\n",
       "      <td>78.0</td>\n",
       "    </tr>\n",
       "    <tr>\n",
       "      <th>s4</th>\n",
       "      <td>75.0</td>\n",
       "      <td>70</td>\n",
       "      <td>70.0</td>\n",
       "      <td>75</td>\n",
       "      <td>75</td>\n",
       "      <td>73.0</td>\n",
       "    </tr>\n",
       "    <tr>\n",
       "      <th>s5</th>\n",
       "      <td>70.0</td>\n",
       "      <td>65</td>\n",
       "      <td>65.0</td>\n",
       "      <td>70</td>\n",
       "      <td>70</td>\n",
       "      <td>68.0</td>\n",
       "    </tr>\n",
       "    <tr>\n",
       "      <th>s6</th>\n",
       "      <td>65.0</td>\n",
       "      <td>60</td>\n",
       "      <td>60.0</td>\n",
       "      <td>65</td>\n",
       "      <td>65</td>\n",
       "      <td>63.0</td>\n",
       "    </tr>\n",
       "    <tr>\n",
       "      <th>s7</th>\n",
       "      <td>60.0</td>\n",
       "      <td>55</td>\n",
       "      <td>55.0</td>\n",
       "      <td>60</td>\n",
       "      <td>60</td>\n",
       "      <td>58.0</td>\n",
       "    </tr>\n",
       "    <tr>\n",
       "      <th>s8</th>\n",
       "      <td>NaN</td>\n",
       "      <td>50</td>\n",
       "      <td>50.0</td>\n",
       "      <td>55</td>\n",
       "      <td>55</td>\n",
       "      <td>NaN</td>\n",
       "    </tr>\n",
       "    <tr>\n",
       "      <th>s9</th>\n",
       "      <td>NaN</td>\n",
       "      <td>45</td>\n",
       "      <td>NaN</td>\n",
       "      <td>50</td>\n",
       "      <td>50</td>\n",
       "      <td>NaN</td>\n",
       "    </tr>\n",
       "    <tr>\n",
       "      <th>s10</th>\n",
       "      <td>NaN</td>\n",
       "      <td>40</td>\n",
       "      <td>NaN</td>\n",
       "      <td>45</td>\n",
       "      <td>45</td>\n",
       "      <td>NaN</td>\n",
       "    </tr>\n",
       "  </tbody>\n",
       "</table>\n",
       "</div>"
      ],
      "text/plain": [
       "       국어  영어    수학  과학  사회    평균\n",
       "s1   90.0  85  85.0  90  90  88.0\n",
       "s2   85.0  80  80.0  85  85  83.0\n",
       "s3   80.0  75  75.0  80  80  78.0\n",
       "s4   75.0  70  70.0  75  75  73.0\n",
       "s5   70.0  65  65.0  70  70  68.0\n",
       "s6   65.0  60  60.0  65  65  63.0\n",
       "s7   60.0  55  55.0  60  60  58.0\n",
       "s8    NaN  50  50.0  55  55   NaN\n",
       "s9    NaN  45   NaN  50  50   NaN\n",
       "s10   NaN  40   NaN  45  45   NaN"
      ]
     },
     "execution_count": 17,
     "metadata": {},
     "output_type": "execute_result"
    }
   ],
   "source": [
    "a['평균'] = (a['국어']+a['영어']+a['수학']+a['과학']+a['사회'])/5\n",
    "# a['평균'] = a.mean()\n",
    "a"
   ]
  },
  {
   "cell_type": "code",
   "execution_count": 54,
   "id": "82868f57",
   "metadata": {},
   "outputs": [
    {
     "name": "stdout",
     "output_type": "stream",
     "text": [
      "75.0 70.0\n"
     ]
    }
   ],
   "source": [
    "b = a.copy()\n",
    "avg1 = b['국어'].mean()\n",
    "avg2 = b['수학'].mean()\n",
    "print(avg1,avg2)"
   ]
  },
  {
   "cell_type": "code",
   "execution_count": 55,
   "id": "be2fc377",
   "metadata": {},
   "outputs": [
    {
     "data": {
      "text/html": [
       "<div>\n",
       "<style scoped>\n",
       "    .dataframe tbody tr th:only-of-type {\n",
       "        vertical-align: middle;\n",
       "    }\n",
       "\n",
       "    .dataframe tbody tr th {\n",
       "        vertical-align: top;\n",
       "    }\n",
       "\n",
       "    .dataframe thead th {\n",
       "        text-align: right;\n",
       "    }\n",
       "</style>\n",
       "<table border=\"1\" class=\"dataframe\">\n",
       "  <thead>\n",
       "    <tr style=\"text-align: right;\">\n",
       "      <th></th>\n",
       "      <th>국어</th>\n",
       "      <th>영어</th>\n",
       "      <th>수학</th>\n",
       "      <th>과학</th>\n",
       "      <th>사회</th>\n",
       "      <th>평균</th>\n",
       "    </tr>\n",
       "  </thead>\n",
       "  <tbody>\n",
       "    <tr>\n",
       "      <th>s1</th>\n",
       "      <td>90.0</td>\n",
       "      <td>85</td>\n",
       "      <td>85.0</td>\n",
       "      <td>90</td>\n",
       "      <td>90</td>\n",
       "      <td>88.0</td>\n",
       "    </tr>\n",
       "    <tr>\n",
       "      <th>s2</th>\n",
       "      <td>85.0</td>\n",
       "      <td>80</td>\n",
       "      <td>80.0</td>\n",
       "      <td>85</td>\n",
       "      <td>85</td>\n",
       "      <td>83.0</td>\n",
       "    </tr>\n",
       "    <tr>\n",
       "      <th>s3</th>\n",
       "      <td>80.0</td>\n",
       "      <td>75</td>\n",
       "      <td>75.0</td>\n",
       "      <td>80</td>\n",
       "      <td>80</td>\n",
       "      <td>78.0</td>\n",
       "    </tr>\n",
       "    <tr>\n",
       "      <th>s4</th>\n",
       "      <td>75.0</td>\n",
       "      <td>70</td>\n",
       "      <td>70.0</td>\n",
       "      <td>75</td>\n",
       "      <td>75</td>\n",
       "      <td>73.0</td>\n",
       "    </tr>\n",
       "    <tr>\n",
       "      <th>s5</th>\n",
       "      <td>70.0</td>\n",
       "      <td>65</td>\n",
       "      <td>65.0</td>\n",
       "      <td>70</td>\n",
       "      <td>70</td>\n",
       "      <td>68.0</td>\n",
       "    </tr>\n",
       "    <tr>\n",
       "      <th>s6</th>\n",
       "      <td>65.0</td>\n",
       "      <td>60</td>\n",
       "      <td>60.0</td>\n",
       "      <td>65</td>\n",
       "      <td>65</td>\n",
       "      <td>63.0</td>\n",
       "    </tr>\n",
       "    <tr>\n",
       "      <th>s7</th>\n",
       "      <td>60.0</td>\n",
       "      <td>55</td>\n",
       "      <td>55.0</td>\n",
       "      <td>60</td>\n",
       "      <td>60</td>\n",
       "      <td>58.0</td>\n",
       "    </tr>\n",
       "    <tr>\n",
       "      <th>s8</th>\n",
       "      <td>75.0</td>\n",
       "      <td>70</td>\n",
       "      <td>70.0</td>\n",
       "      <td>55</td>\n",
       "      <td>55</td>\n",
       "      <td>NaN</td>\n",
       "    </tr>\n",
       "    <tr>\n",
       "      <th>s9</th>\n",
       "      <td>75.0</td>\n",
       "      <td>70</td>\n",
       "      <td>70.0</td>\n",
       "      <td>50</td>\n",
       "      <td>50</td>\n",
       "      <td>NaN</td>\n",
       "    </tr>\n",
       "    <tr>\n",
       "      <th>s10</th>\n",
       "      <td>75.0</td>\n",
       "      <td>70</td>\n",
       "      <td>70.0</td>\n",
       "      <td>45</td>\n",
       "      <td>45</td>\n",
       "      <td>NaN</td>\n",
       "    </tr>\n",
       "  </tbody>\n",
       "</table>\n",
       "</div>"
      ],
      "text/plain": [
       "       국어  영어    수학  과학  사회    평균\n",
       "s1   90.0  85  85.0  90  90  88.0\n",
       "s2   85.0  80  80.0  85  85  83.0\n",
       "s3   80.0  75  75.0  80  80  78.0\n",
       "s4   75.0  70  70.0  75  75  73.0\n",
       "s5   70.0  65  65.0  70  70  68.0\n",
       "s6   65.0  60  60.0  65  65  63.0\n",
       "s7   60.0  55  55.0  60  60  58.0\n",
       "s8   75.0  70  70.0  55  55   NaN\n",
       "s9   75.0  70  70.0  50  50   NaN\n",
       "s10  75.0  70  70.0  45  45   NaN"
      ]
     },
     "execution_count": 55,
     "metadata": {},
     "output_type": "execute_result"
    }
   ],
   "source": [
    "b['국어'].fillna(avg1,inplace=True)\n",
    "b['수학'].fillna(avg2, inplace=True)\n",
    "b"
   ]
  },
  {
   "cell_type": "code",
   "execution_count": null,
   "id": "1775bffc",
   "metadata": {
    "id": "1775bffc",
    "outputId": "2e8ac2de-a90f-4ce3-bf7c-a0ee89695ea8"
   },
   "outputs": [
    {
     "data": {
      "text/html": [
       "<div>\n",
       "<style scoped>\n",
       "    .dataframe tbody tr th:only-of-type {\n",
       "        vertical-align: middle;\n",
       "    }\n",
       "\n",
       "    .dataframe tbody tr th {\n",
       "        vertical-align: top;\n",
       "    }\n",
       "\n",
       "    .dataframe thead th {\n",
       "        text-align: right;\n",
       "    }\n",
       "</style>\n",
       "<table border=\"1\" class=\"dataframe\">\n",
       "  <thead>\n",
       "    <tr style=\"text-align: right;\">\n",
       "      <th></th>\n",
       "      <th>c1</th>\n",
       "      <th>c2</th>\n",
       "      <th>c3</th>\n",
       "      <th>c4</th>\n",
       "      <th>c5</th>\n",
       "    </tr>\n",
       "  </thead>\n",
       "  <tbody>\n",
       "    <tr>\n",
       "      <th>0</th>\n",
       "      <td>3</td>\n",
       "      <td>2</td>\n",
       "      <td>2</td>\n",
       "      <td>4</td>\n",
       "      <td>3</td>\n",
       "    </tr>\n",
       "  </tbody>\n",
       "</table>\n",
       "</div>"
      ],
      "text/plain": [
       "   c1  c2  c3  c4  c5\n",
       "0   3   2   2   4   3"
      ]
     },
     "execution_count": 105,
     "metadata": {},
     "output_type": "execute_result"
    }
   ],
   "source": [
    "# 첫행만 출력\n",
    "df.query('index==0')"
   ]
  },
  {
   "cell_type": "code",
   "execution_count": null,
   "id": "eaff5b83",
   "metadata": {
    "id": "eaff5b83",
    "outputId": "51bcac6c-9ec1-48ad-d550-569812cf002d"
   },
   "outputs": [
    {
     "data": {
      "text/html": [
       "<div>\n",
       "<style scoped>\n",
       "    .dataframe tbody tr th:only-of-type {\n",
       "        vertical-align: middle;\n",
       "    }\n",
       "\n",
       "    .dataframe tbody tr th {\n",
       "        vertical-align: top;\n",
       "    }\n",
       "\n",
       "    .dataframe thead th {\n",
       "        text-align: right;\n",
       "    }\n",
       "</style>\n",
       "<table border=\"1\" class=\"dataframe\">\n",
       "  <thead>\n",
       "    <tr style=\"text-align: right;\">\n",
       "      <th></th>\n",
       "      <th>c1</th>\n",
       "      <th>c2</th>\n",
       "      <th>c3</th>\n",
       "      <th>c4</th>\n",
       "      <th>c5</th>\n",
       "    </tr>\n",
       "  </thead>\n",
       "  <tbody>\n",
       "    <tr>\n",
       "      <th>1</th>\n",
       "      <td>3</td>\n",
       "      <td>1</td>\n",
       "      <td>3</td>\n",
       "      <td>2</td>\n",
       "      <td>4</td>\n",
       "    </tr>\n",
       "    <tr>\n",
       "      <th>3</th>\n",
       "      <td>4</td>\n",
       "      <td>1</td>\n",
       "      <td>3</td>\n",
       "      <td>2</td>\n",
       "      <td>2</td>\n",
       "    </tr>\n",
       "    <tr>\n",
       "      <th>4</th>\n",
       "      <td>1</td>\n",
       "      <td>4</td>\n",
       "      <td>3</td>\n",
       "      <td>4</td>\n",
       "      <td>4</td>\n",
       "    </tr>\n",
       "    <tr>\n",
       "      <th>9</th>\n",
       "      <td>3</td>\n",
       "      <td>4</td>\n",
       "      <td>3</td>\n",
       "      <td>1</td>\n",
       "      <td>4</td>\n",
       "    </tr>\n",
       "  </tbody>\n",
       "</table>\n",
       "</div>"
      ],
      "text/plain": [
       "   c1  c2  c3  c4  c5\n",
       "1   3   1   3   2   4\n",
       "3   4   1   3   2   2\n",
       "4   1   4   3   4   4\n",
       "9   3   4   3   1   4"
      ]
     },
     "execution_count": 108,
     "metadata": {},
     "output_type": "execute_result"
    }
   ],
   "source": [
    "df.query('c3==3')"
   ]
  },
  {
   "cell_type": "code",
   "execution_count": null,
   "id": "b605803e",
   "metadata": {
    "id": "b605803e",
    "outputId": "51e3f058-6007-4eac-d616-43c36d1389ae"
   },
   "outputs": [
    {
     "data": {
      "text/html": [
       "<div>\n",
       "<style scoped>\n",
       "    .dataframe tbody tr th:only-of-type {\n",
       "        vertical-align: middle;\n",
       "    }\n",
       "\n",
       "    .dataframe tbody tr th {\n",
       "        vertical-align: top;\n",
       "    }\n",
       "\n",
       "    .dataframe thead th {\n",
       "        text-align: right;\n",
       "    }\n",
       "</style>\n",
       "<table border=\"1\" class=\"dataframe\">\n",
       "  <thead>\n",
       "    <tr style=\"text-align: right;\">\n",
       "      <th></th>\n",
       "      <th>c1</th>\n",
       "      <th>c2</th>\n",
       "      <th>c3</th>\n",
       "      <th>c4</th>\n",
       "      <th>c5</th>\n",
       "    </tr>\n",
       "  </thead>\n",
       "  <tbody>\n",
       "    <tr>\n",
       "      <th>7</th>\n",
       "      <td>2</td>\n",
       "      <td>2</td>\n",
       "      <td>2</td>\n",
       "      <td>2</td>\n",
       "      <td>2</td>\n",
       "    </tr>\n",
       "  </tbody>\n",
       "</table>\n",
       "</div>"
      ],
      "text/plain": [
       "   c1  c2  c3  c4  c5\n",
       "7   2   2   2   2   2"
      ]
     },
     "execution_count": 110,
     "metadata": {},
     "output_type": "execute_result"
    }
   ],
   "source": [
    "df.query('c3==2 & c4==2')"
   ]
  },
  {
   "cell_type": "code",
   "execution_count": null,
   "id": "5e4ab064",
   "metadata": {
    "id": "5e4ab064",
    "outputId": "ae71a136-b9a9-46f3-c058-2982330c72c3"
   },
   "outputs": [
    {
     "data": {
      "text/html": [
       "<div>\n",
       "<style scoped>\n",
       "    .dataframe tbody tr th:only-of-type {\n",
       "        vertical-align: middle;\n",
       "    }\n",
       "\n",
       "    .dataframe tbody tr th {\n",
       "        vertical-align: top;\n",
       "    }\n",
       "\n",
       "    .dataframe thead th {\n",
       "        text-align: right;\n",
       "    }\n",
       "</style>\n",
       "<table border=\"1\" class=\"dataframe\">\n",
       "  <thead>\n",
       "    <tr style=\"text-align: right;\">\n",
       "      <th></th>\n",
       "      <th>c1</th>\n",
       "      <th>c2</th>\n",
       "      <th>c3</th>\n",
       "      <th>c4</th>\n",
       "      <th>c5</th>\n",
       "    </tr>\n",
       "  </thead>\n",
       "  <tbody>\n",
       "    <tr>\n",
       "      <th>0</th>\n",
       "      <td>3</td>\n",
       "      <td>2</td>\n",
       "      <td>2</td>\n",
       "      <td>4</td>\n",
       "      <td>3</td>\n",
       "    </tr>\n",
       "    <tr>\n",
       "      <th>1</th>\n",
       "      <td>3</td>\n",
       "      <td>1</td>\n",
       "      <td>3</td>\n",
       "      <td>2</td>\n",
       "      <td>4</td>\n",
       "    </tr>\n",
       "    <tr>\n",
       "      <th>3</th>\n",
       "      <td>4</td>\n",
       "      <td>1</td>\n",
       "      <td>3</td>\n",
       "      <td>2</td>\n",
       "      <td>2</td>\n",
       "    </tr>\n",
       "    <tr>\n",
       "      <th>5</th>\n",
       "      <td>1</td>\n",
       "      <td>1</td>\n",
       "      <td>1</td>\n",
       "      <td>2</td>\n",
       "      <td>4</td>\n",
       "    </tr>\n",
       "    <tr>\n",
       "      <th>7</th>\n",
       "      <td>2</td>\n",
       "      <td>2</td>\n",
       "      <td>2</td>\n",
       "      <td>2</td>\n",
       "      <td>2</td>\n",
       "    </tr>\n",
       "    <tr>\n",
       "      <th>8</th>\n",
       "      <td>4</td>\n",
       "      <td>1</td>\n",
       "      <td>2</td>\n",
       "      <td>1</td>\n",
       "      <td>1</td>\n",
       "    </tr>\n",
       "  </tbody>\n",
       "</table>\n",
       "</div>"
      ],
      "text/plain": [
       "   c1  c2  c3  c4  c5\n",
       "0   3   2   2   4   3\n",
       "1   3   1   3   2   4\n",
       "3   4   1   3   2   2\n",
       "5   1   1   1   2   4\n",
       "7   2   2   2   2   2\n",
       "8   4   1   2   1   1"
      ]
     },
     "execution_count": 111,
     "metadata": {},
     "output_type": "execute_result"
    }
   ],
   "source": [
    "df.query('c3==2 | c4==2')"
   ]
  },
  {
   "cell_type": "code",
   "execution_count": null,
   "id": "02fb7ff4",
   "metadata": {
    "id": "02fb7ff4",
    "outputId": "4535337c-5b70-4b26-9008-14176959e0ba"
   },
   "outputs": [
    {
     "data": {
      "text/html": [
       "<div>\n",
       "<style scoped>\n",
       "    .dataframe tbody tr th:only-of-type {\n",
       "        vertical-align: middle;\n",
       "    }\n",
       "\n",
       "    .dataframe tbody tr th {\n",
       "        vertical-align: top;\n",
       "    }\n",
       "\n",
       "    .dataframe thead th {\n",
       "        text-align: right;\n",
       "    }\n",
       "</style>\n",
       "<table border=\"1\" class=\"dataframe\">\n",
       "  <thead>\n",
       "    <tr style=\"text-align: right;\">\n",
       "      <th></th>\n",
       "      <th>c3</th>\n",
       "      <th>c4</th>\n",
       "    </tr>\n",
       "  </thead>\n",
       "  <tbody>\n",
       "    <tr>\n",
       "      <th>1</th>\n",
       "      <td>3</td>\n",
       "      <td>2</td>\n",
       "    </tr>\n",
       "    <tr>\n",
       "      <th>3</th>\n",
       "      <td>3</td>\n",
       "      <td>2</td>\n",
       "    </tr>\n",
       "    <tr>\n",
       "      <th>4</th>\n",
       "      <td>3</td>\n",
       "      <td>4</td>\n",
       "    </tr>\n",
       "    <tr>\n",
       "      <th>9</th>\n",
       "      <td>3</td>\n",
       "      <td>1</td>\n",
       "    </tr>\n",
       "  </tbody>\n",
       "</table>\n",
       "</div>"
      ],
      "text/plain": [
       "   c3  c4\n",
       "1   3   2\n",
       "3   3   2\n",
       "4   3   4\n",
       "9   3   1"
      ]
     },
     "execution_count": 112,
     "metadata": {},
     "output_type": "execute_result"
    }
   ],
   "source": [
    "df.query('c3==3')[['c3','c4']]"
   ]
  },
  {
   "cell_type": "code",
   "execution_count": null,
   "id": "c482ed57",
   "metadata": {
    "id": "c482ed57"
   },
   "outputs": [],
   "source": [
    "help(df.query)"
   ]
  },
  {
   "cell_type": "code",
   "execution_count": null,
   "id": "5db5a011",
   "metadata": {
    "id": "5db5a011",
    "outputId": "7c5b3d62-1764-46d2-b2e5-b73f5ed62e09"
   },
   "outputs": [
    {
     "data": {
      "text/html": [
       "<div>\n",
       "<style scoped>\n",
       "    .dataframe tbody tr th:only-of-type {\n",
       "        vertical-align: middle;\n",
       "    }\n",
       "\n",
       "    .dataframe tbody tr th {\n",
       "        vertical-align: top;\n",
       "    }\n",
       "\n",
       "    .dataframe thead th {\n",
       "        text-align: right;\n",
       "    }\n",
       "</style>\n",
       "<table border=\"1\" class=\"dataframe\">\n",
       "  <thead>\n",
       "    <tr style=\"text-align: right;\">\n",
       "      <th></th>\n",
       "      <th>id</th>\n",
       "      <th>gender</th>\n",
       "      <th>age</th>\n",
       "      <th>region</th>\n",
       "    </tr>\n",
       "  </thead>\n",
       "  <tbody>\n",
       "    <tr>\n",
       "      <th>0</th>\n",
       "      <td>1</td>\n",
       "      <td>1</td>\n",
       "      <td>34</td>\n",
       "      <td>8</td>\n",
       "    </tr>\n",
       "    <tr>\n",
       "      <th>1</th>\n",
       "      <td>2</td>\n",
       "      <td>0</td>\n",
       "      <td>81</td>\n",
       "      <td>1</td>\n",
       "    </tr>\n",
       "    <tr>\n",
       "      <th>2</th>\n",
       "      <td>3</td>\n",
       "      <td>0</td>\n",
       "      <td>9</td>\n",
       "      <td>3</td>\n",
       "    </tr>\n",
       "  </tbody>\n",
       "</table>\n",
       "</div>"
      ],
      "text/plain": [
       "   id  gender  age  region\n",
       "0   1       1   34       8\n",
       "1   2       0   81       1\n",
       "2   3       0    9       3"
      ]
     },
     "execution_count": 7,
     "metadata": {},
     "output_type": "execute_result"
    }
   ],
   "source": [
    "df_e = df[:3]\n",
    "df_e"
   ]
  },
  {
   "cell_type": "code",
   "execution_count": 2,
   "id": "0db381ae",
   "metadata": {
    "id": "0db381ae",
    "outputId": "ea259d85-22ef-412a-bf69-b3470c32d73f"
   },
   "outputs": [
    {
     "data": {
      "text/html": [
       "<div>\n",
       "<style scoped>\n",
       "    .dataframe tbody tr th:only-of-type {\n",
       "        vertical-align: middle;\n",
       "    }\n",
       "\n",
       "    .dataframe tbody tr th {\n",
       "        vertical-align: top;\n",
       "    }\n",
       "\n",
       "    .dataframe thead th {\n",
       "        text-align: right;\n",
       "    }\n",
       "</style>\n",
       "<table border=\"1\" class=\"dataframe\">\n",
       "  <thead>\n",
       "    <tr style=\"text-align: right;\">\n",
       "      <th></th>\n",
       "      <th>a</th>\n",
       "      <th>b</th>\n",
       "      <th>c</th>\n",
       "      <th>d</th>\n",
       "      <th>e</th>\n",
       "    </tr>\n",
       "  </thead>\n",
       "  <tbody>\n",
       "    <tr>\n",
       "      <th>0</th>\n",
       "      <td>90</td>\n",
       "      <td>65</td>\n",
       "      <td>95</td>\n",
       "      <td>58</td>\n",
       "      <td>72</td>\n",
       "    </tr>\n",
       "    <tr>\n",
       "      <th>1</th>\n",
       "      <td>93</td>\n",
       "      <td>68</td>\n",
       "      <td>61</td>\n",
       "      <td>90</td>\n",
       "      <td>57</td>\n",
       "    </tr>\n",
       "    <tr>\n",
       "      <th>2</th>\n",
       "      <td>84</td>\n",
       "      <td>99</td>\n",
       "      <td>81</td>\n",
       "      <td>61</td>\n",
       "      <td>71</td>\n",
       "    </tr>\n",
       "  </tbody>\n",
       "</table>\n",
       "</div>"
      ],
      "text/plain": [
       "    a   b   c   d   e\n",
       "0  90  65  95  58  72\n",
       "1  93  68  61  90  57\n",
       "2  84  99  81  61  71"
      ]
     },
     "execution_count": 2,
     "metadata": {},
     "output_type": "execute_result"
    }
   ],
   "source": [
    "import numpy as np\n",
    "import pandas as pd\n",
    "np.random.seed(2)\n",
    "data = np.random.randint(50,100,size=(3,5))\n",
    "\n",
    "df_e = pd.DataFrame(data, columns=list('abcde'))\n",
    "df_e"
   ]
  },
  {
   "cell_type": "code",
   "execution_count": 3,
   "id": "c641be24",
   "metadata": {
    "id": "c641be24",
    "outputId": "7fd055d4-cbbc-414a-ba0c-9b617dda9e84"
   },
   "outputs": [
    {
     "data": {
      "text/html": [
       "<div>\n",
       "<style scoped>\n",
       "    .dataframe tbody tr th:only-of-type {\n",
       "        vertical-align: middle;\n",
       "    }\n",
       "\n",
       "    .dataframe tbody tr th {\n",
       "        vertical-align: top;\n",
       "    }\n",
       "\n",
       "    .dataframe thead th {\n",
       "        text-align: right;\n",
       "    }\n",
       "</style>\n",
       "<table border=\"1\" class=\"dataframe\">\n",
       "  <thead>\n",
       "    <tr style=\"text-align: right;\">\n",
       "      <th></th>\n",
       "      <th>국어</th>\n",
       "      <th>영어</th>\n",
       "      <th>수학</th>\n",
       "      <th>과학</th>\n",
       "      <th>음악</th>\n",
       "    </tr>\n",
       "  </thead>\n",
       "  <tbody>\n",
       "    <tr>\n",
       "      <th>권준기</th>\n",
       "      <td>90</td>\n",
       "      <td>65</td>\n",
       "      <td>95</td>\n",
       "      <td>58</td>\n",
       "      <td>72</td>\n",
       "    </tr>\n",
       "    <tr>\n",
       "      <th>우동주</th>\n",
       "      <td>93</td>\n",
       "      <td>68</td>\n",
       "      <td>61</td>\n",
       "      <td>90</td>\n",
       "      <td>57</td>\n",
       "    </tr>\n",
       "    <tr>\n",
       "      <th>임희진</th>\n",
       "      <td>84</td>\n",
       "      <td>99</td>\n",
       "      <td>81</td>\n",
       "      <td>61</td>\n",
       "      <td>71</td>\n",
       "    </tr>\n",
       "  </tbody>\n",
       "</table>\n",
       "</div>"
      ],
      "text/plain": [
       "     국어  영어  수학  과학  음악\n",
       "권준기  90  65  95  58  72\n",
       "우동주  93  68  61  90  57\n",
       "임희진  84  99  81  61  71"
      ]
     },
     "execution_count": 3,
     "metadata": {},
     "output_type": "execute_result"
    }
   ],
   "source": [
    "import warnings\n",
    "warnings.filterwarnings('ignore')\n",
    "df_e.rename(columns={'a':'국어','b':'영어','c':'수학','d':'과학','e':'음악'},\n",
    "            index={0:'권준기',1:'우동주',2:'임희진'},inplace=True)\n",
    "df_e\n",
    "          "
   ]
  },
  {
   "cell_type": "code",
   "execution_count": 8,
   "id": "73dc2344",
   "metadata": {
    "id": "73dc2344",
    "outputId": "4189b6f8-a491-4453-b699-0c8fe3f56d9f"
   },
   "outputs": [
    {
     "data": {
      "text/plain": [
       "72"
      ]
     },
     "execution_count": 8,
     "metadata": {},
     "output_type": "execute_result"
    }
   ],
   "source": [
    "# df_e.loc['권준기','음악']\n",
    "# df_e.iloc[0,4]\n",
    "df_e.iloc[0,4]"
   ]
  },
  {
   "cell_type": "code",
   "execution_count": 56,
   "id": "b03d36f3",
   "metadata": {
    "id": "b03d36f3",
    "outputId": "ec46640a-8fb3-4005-8910-803b8f5e67d8"
   },
   "outputs": [
    {
     "data": {
      "text/html": [
       "<div>\n",
       "<style scoped>\n",
       "    .dataframe tbody tr th:only-of-type {\n",
       "        vertical-align: middle;\n",
       "    }\n",
       "\n",
       "    .dataframe tbody tr th {\n",
       "        vertical-align: top;\n",
       "    }\n",
       "\n",
       "    .dataframe thead th {\n",
       "        text-align: right;\n",
       "    }\n",
       "</style>\n",
       "<table border=\"1\" class=\"dataframe\">\n",
       "  <thead>\n",
       "    <tr style=\"text-align: right;\">\n",
       "      <th></th>\n",
       "      <th>a</th>\n",
       "      <th>b</th>\n",
       "      <th>c</th>\n",
       "      <th>d</th>\n",
       "      <th>e</th>\n",
       "    </tr>\n",
       "  </thead>\n",
       "  <tbody>\n",
       "    <tr>\n",
       "      <th>0</th>\n",
       "      <td>92</td>\n",
       "      <td>74</td>\n",
       "      <td>53</td>\n",
       "      <td>58</td>\n",
       "      <td>50</td>\n",
       "    </tr>\n",
       "    <tr>\n",
       "      <th>1</th>\n",
       "      <td>71</td>\n",
       "      <td>69</td>\n",
       "      <td>60</td>\n",
       "      <td>93</td>\n",
       "      <td>91</td>\n",
       "    </tr>\n",
       "    <tr>\n",
       "      <th>2</th>\n",
       "      <td>60</td>\n",
       "      <td>71</td>\n",
       "      <td>88</td>\n",
       "      <td>82</td>\n",
       "      <td>70</td>\n",
       "    </tr>\n",
       "    <tr>\n",
       "      <th>3</th>\n",
       "      <td>94</td>\n",
       "      <td>79</td>\n",
       "      <td>89</td>\n",
       "      <td>64</td>\n",
       "      <td>76</td>\n",
       "    </tr>\n",
       "    <tr>\n",
       "      <th>4</th>\n",
       "      <td>67</td>\n",
       "      <td>76</td>\n",
       "      <td>72</td>\n",
       "      <td>52</td>\n",
       "      <td>52</td>\n",
       "    </tr>\n",
       "    <tr>\n",
       "      <th>5</th>\n",
       "      <td>51</td>\n",
       "      <td>76</td>\n",
       "      <td>55</td>\n",
       "      <td>90</td>\n",
       "      <td>96</td>\n",
       "    </tr>\n",
       "    <tr>\n",
       "      <th>6</th>\n",
       "      <td>83</td>\n",
       "      <td>79</td>\n",
       "      <td>92</td>\n",
       "      <td>74</td>\n",
       "      <td>57</td>\n",
       "    </tr>\n",
       "    <tr>\n",
       "      <th>7</th>\n",
       "      <td>93</td>\n",
       "      <td>83</td>\n",
       "      <td>65</td>\n",
       "      <td>98</td>\n",
       "      <td>87</td>\n",
       "    </tr>\n",
       "  </tbody>\n",
       "</table>\n",
       "</div>"
      ],
      "text/plain": [
       "    a   b   c   d   e\n",
       "0  92  74  53  58  50\n",
       "1  71  69  60  93  91\n",
       "2  60  71  88  82  70\n",
       "3  94  79  89  64  76\n",
       "4  67  76  72  52  52\n",
       "5  51  76  55  90  96\n",
       "6  83  79  92  74  57\n",
       "7  93  83  65  98  87"
      ]
     },
     "execution_count": 56,
     "metadata": {},
     "output_type": "execute_result"
    }
   ],
   "source": [
    "# 데이터프레임 생성(8행 5열)\n",
    "import numpy as np\n",
    "import pandas as pd\n",
    "\n",
    "np.random.seed(3)\n",
    "data = np.random.randint(50,100,size=(8,5))\n",
    "\n",
    "df = pd.DataFrame(data, columns=list('abcde'))\n",
    "df"
   ]
  },
  {
   "cell_type": "code",
   "execution_count": 57,
   "id": "20dcd918",
   "metadata": {
    "id": "20dcd918",
    "outputId": "50537899-167f-458a-f7bd-a1a3790054d7"
   },
   "outputs": [
    {
     "data": {
      "text/plain": [
       "c    92\n",
       "d    74\n",
       "e    57\n",
       "Name: 6, dtype: int32"
      ]
     },
     "execution_count": 57,
     "metadata": {},
     "output_type": "execute_result"
    }
   ],
   "source": [
    "df.iloc[6,2:5]"
   ]
  },
  {
   "cell_type": "code",
   "execution_count": 61,
   "id": "e7bfd887",
   "metadata": {
    "id": "e7bfd887",
    "outputId": "0f169246-23f9-4869-f5fa-29f59ecd61f7"
   },
   "outputs": [
    {
     "data": {
      "text/html": [
       "<div>\n",
       "<style scoped>\n",
       "    .dataframe tbody tr th:only-of-type {\n",
       "        vertical-align: middle;\n",
       "    }\n",
       "\n",
       "    .dataframe tbody tr th {\n",
       "        vertical-align: top;\n",
       "    }\n",
       "\n",
       "    .dataframe thead th {\n",
       "        text-align: right;\n",
       "    }\n",
       "</style>\n",
       "<table border=\"1\" class=\"dataframe\">\n",
       "  <thead>\n",
       "    <tr style=\"text-align: right;\">\n",
       "      <th></th>\n",
       "      <th>c</th>\n",
       "    </tr>\n",
       "  </thead>\n",
       "  <tbody>\n",
       "    <tr>\n",
       "      <th>0</th>\n",
       "      <td>53</td>\n",
       "    </tr>\n",
       "    <tr>\n",
       "      <th>1</th>\n",
       "      <td>60</td>\n",
       "    </tr>\n",
       "    <tr>\n",
       "      <th>2</th>\n",
       "      <td>88</td>\n",
       "    </tr>\n",
       "    <tr>\n",
       "      <th>3</th>\n",
       "      <td>89</td>\n",
       "    </tr>\n",
       "    <tr>\n",
       "      <th>4</th>\n",
       "      <td>72</td>\n",
       "    </tr>\n",
       "    <tr>\n",
       "      <th>5</th>\n",
       "      <td>55</td>\n",
       "    </tr>\n",
       "    <tr>\n",
       "      <th>6</th>\n",
       "      <td>92</td>\n",
       "    </tr>\n",
       "    <tr>\n",
       "      <th>7</th>\n",
       "      <td>65</td>\n",
       "    </tr>\n",
       "  </tbody>\n",
       "</table>\n",
       "</div>"
      ],
      "text/plain": [
       "    c\n",
       "0  53\n",
       "1  60\n",
       "2  88\n",
       "3  89\n",
       "4  72\n",
       "5  55\n",
       "6  92\n",
       "7  65"
      ]
     },
     "execution_count": 61,
     "metadata": {},
     "output_type": "execute_result"
    }
   ],
   "source": [
    "# df.iloc[:,2]\n",
    "df[['c']]"
   ]
  },
  {
   "cell_type": "markdown",
   "id": "80e0db56",
   "metadata": {
    "id": "80e0db56"
   },
   "source": [
    "과제 : 생성된 데이터프레임에서 아래 사항을 수행하세요.\n",
    "- 열이름과 행이름 변경\n",
    "- 3행만 출력\n",
    "- 5열만 출력\n",
    "- 3행 5열의 값 출력\n",
    "- 4열의 값을 모두 0으로 변경\n",
    "- 2,3행의 3열 값을 조회(2가지 방법)\n",
    "- 6행의 2,3,4열의 값을 조회(2가지 방법)\n",
    "- 2열을 Series와 DataFrame으로 각각 출력\n",
    "- 2행 3열의 값을 2행 4열의 값과 동일하게 변경\n",
    "- 2행 3열의 값과 2행 4열의 값을 동시에 만족하는 3,4열을 출력"
   ]
  },
  {
   "cell_type": "code",
   "execution_count": 59,
   "id": "0ec08a2f",
   "metadata": {
    "id": "0ec08a2f",
    "outputId": "ec14d172-4d6f-4cc5-ee9d-5ec485ccf5e0"
   },
   "outputs": [
    {
     "data": {
      "text/html": [
       "<div>\n",
       "<style scoped>\n",
       "    .dataframe tbody tr th:only-of-type {\n",
       "        vertical-align: middle;\n",
       "    }\n",
       "\n",
       "    .dataframe tbody tr th {\n",
       "        vertical-align: top;\n",
       "    }\n",
       "\n",
       "    .dataframe thead th {\n",
       "        text-align: right;\n",
       "    }\n",
       "</style>\n",
       "<table border=\"1\" class=\"dataframe\">\n",
       "  <thead>\n",
       "    <tr style=\"text-align: right;\">\n",
       "      <th></th>\n",
       "      <th>a</th>\n",
       "      <th>b</th>\n",
       "      <th>c</th>\n",
       "      <th>d</th>\n",
       "      <th>e</th>\n",
       "    </tr>\n",
       "  </thead>\n",
       "  <tbody>\n",
       "    <tr>\n",
       "      <th>0</th>\n",
       "      <td>92</td>\n",
       "      <td>74</td>\n",
       "      <td>53</td>\n",
       "      <td>58</td>\n",
       "      <td>50</td>\n",
       "    </tr>\n",
       "    <tr>\n",
       "      <th>1</th>\n",
       "      <td>71</td>\n",
       "      <td>69</td>\n",
       "      <td>60</td>\n",
       "      <td>93</td>\n",
       "      <td>91</td>\n",
       "    </tr>\n",
       "    <tr>\n",
       "      <th>2</th>\n",
       "      <td>60</td>\n",
       "      <td>71</td>\n",
       "      <td>88</td>\n",
       "      <td>70</td>\n",
       "      <td>70</td>\n",
       "    </tr>\n",
       "    <tr>\n",
       "      <th>3</th>\n",
       "      <td>94</td>\n",
       "      <td>79</td>\n",
       "      <td>89</td>\n",
       "      <td>64</td>\n",
       "      <td>76</td>\n",
       "    </tr>\n",
       "    <tr>\n",
       "      <th>4</th>\n",
       "      <td>67</td>\n",
       "      <td>76</td>\n",
       "      <td>72</td>\n",
       "      <td>52</td>\n",
       "      <td>52</td>\n",
       "    </tr>\n",
       "    <tr>\n",
       "      <th>5</th>\n",
       "      <td>51</td>\n",
       "      <td>76</td>\n",
       "      <td>55</td>\n",
       "      <td>90</td>\n",
       "      <td>96</td>\n",
       "    </tr>\n",
       "    <tr>\n",
       "      <th>6</th>\n",
       "      <td>83</td>\n",
       "      <td>79</td>\n",
       "      <td>92</td>\n",
       "      <td>74</td>\n",
       "      <td>57</td>\n",
       "    </tr>\n",
       "    <tr>\n",
       "      <th>7</th>\n",
       "      <td>93</td>\n",
       "      <td>83</td>\n",
       "      <td>65</td>\n",
       "      <td>98</td>\n",
       "      <td>87</td>\n",
       "    </tr>\n",
       "  </tbody>\n",
       "</table>\n",
       "</div>"
      ],
      "text/plain": [
       "    a   b   c   d   e\n",
       "0  92  74  53  58  50\n",
       "1  71  69  60  93  91\n",
       "2  60  71  88  70  70\n",
       "3  94  79  89  64  76\n",
       "4  67  76  72  52  52\n",
       "5  51  76  55  90  96\n",
       "6  83  79  92  74  57\n",
       "7  93  83  65  98  87"
      ]
     },
     "execution_count": 59,
     "metadata": {},
     "output_type": "execute_result"
    }
   ],
   "source": [
    "df.iloc[2,3] = df.iloc[2,4]\n",
    "df"
   ]
  },
  {
   "cell_type": "code",
   "execution_count": null,
   "id": "77516c5d",
   "metadata": {
    "id": "77516c5d",
    "outputId": "574b52a6-173c-4fe8-b467-7a074030e9f5"
   },
   "outputs": [
    {
     "data": {
      "text/html": [
       "<div>\n",
       "<style scoped>\n",
       "    .dataframe tbody tr th:only-of-type {\n",
       "        vertical-align: middle;\n",
       "    }\n",
       "\n",
       "    .dataframe tbody tr th {\n",
       "        vertical-align: top;\n",
       "    }\n",
       "\n",
       "    .dataframe thead th {\n",
       "        text-align: right;\n",
       "    }\n",
       "</style>\n",
       "<table border=\"1\" class=\"dataframe\">\n",
       "  <thead>\n",
       "    <tr style=\"text-align: right;\">\n",
       "      <th></th>\n",
       "      <th>국어</th>\n",
       "      <th>영어</th>\n",
       "      <th>수학</th>\n",
       "      <th>과학</th>\n",
       "      <th>음악</th>\n",
       "    </tr>\n",
       "  </thead>\n",
       "  <tbody>\n",
       "    <tr>\n",
       "      <th>a</th>\n",
       "      <td>92</td>\n",
       "      <td>74</td>\n",
       "      <td>53</td>\n",
       "      <td>58</td>\n",
       "      <td>50</td>\n",
       "    </tr>\n",
       "    <tr>\n",
       "      <th>b</th>\n",
       "      <td>71</td>\n",
       "      <td>69</td>\n",
       "      <td>60</td>\n",
       "      <td>93</td>\n",
       "      <td>91</td>\n",
       "    </tr>\n",
       "    <tr>\n",
       "      <th>c</th>\n",
       "      <td>60</td>\n",
       "      <td>71</td>\n",
       "      <td>88</td>\n",
       "      <td>82</td>\n",
       "      <td>70</td>\n",
       "    </tr>\n",
       "    <tr>\n",
       "      <th>d</th>\n",
       "      <td>94</td>\n",
       "      <td>79</td>\n",
       "      <td>89</td>\n",
       "      <td>64</td>\n",
       "      <td>76</td>\n",
       "    </tr>\n",
       "    <tr>\n",
       "      <th>e</th>\n",
       "      <td>67</td>\n",
       "      <td>76</td>\n",
       "      <td>72</td>\n",
       "      <td>52</td>\n",
       "      <td>52</td>\n",
       "    </tr>\n",
       "    <tr>\n",
       "      <th>f</th>\n",
       "      <td>51</td>\n",
       "      <td>76</td>\n",
       "      <td>55</td>\n",
       "      <td>90</td>\n",
       "      <td>96</td>\n",
       "    </tr>\n",
       "    <tr>\n",
       "      <th>g</th>\n",
       "      <td>83</td>\n",
       "      <td>79</td>\n",
       "      <td>92</td>\n",
       "      <td>74</td>\n",
       "      <td>57</td>\n",
       "    </tr>\n",
       "    <tr>\n",
       "      <th>h</th>\n",
       "      <td>93</td>\n",
       "      <td>83</td>\n",
       "      <td>65</td>\n",
       "      <td>98</td>\n",
       "      <td>87</td>\n",
       "    </tr>\n",
       "  </tbody>\n",
       "</table>\n",
       "</div>"
      ],
      "text/plain": [
       "   국어  영어  수학  과학  음악\n",
       "a  92  74  53  58  50\n",
       "b  71  69  60  93  91\n",
       "c  60  71  88  82  70\n",
       "d  94  79  89  64  76\n",
       "e  67  76  72  52  52\n",
       "f  51  76  55  90  96\n",
       "g  83  79  92  74  57\n",
       "h  93  83  65  98  87"
      ]
     },
     "execution_count": 2,
     "metadata": {},
     "output_type": "execute_result"
    }
   ],
   "source": [
    "df.rename(columns={'a':'국어','b':'영어','c':'수학','d':'과학','e':'음악'},\n",
    "         index={0:'a',1:'b',2:'c',3:'d',4:'e',5:'f',6:'g',7:'h',8:'i'},inplace=True)\n",
    "df"
   ]
  },
  {
   "cell_type": "code",
   "execution_count": 18,
   "id": "4292770b",
   "metadata": {
    "id": "4292770b",
    "outputId": "21969236-5fd5-41d6-9bd5-4b654523e4fd"
   },
   "outputs": [
    {
     "data": {
      "text/html": [
       "<div>\n",
       "<style scoped>\n",
       "    .dataframe tbody tr th:only-of-type {\n",
       "        vertical-align: middle;\n",
       "    }\n",
       "\n",
       "    .dataframe tbody tr th {\n",
       "        vertical-align: top;\n",
       "    }\n",
       "\n",
       "    .dataframe thead th {\n",
       "        text-align: right;\n",
       "    }\n",
       "</style>\n",
       "<table border=\"1\" class=\"dataframe\">\n",
       "  <thead>\n",
       "    <tr style=\"text-align: right;\">\n",
       "      <th></th>\n",
       "      <th>a</th>\n",
       "      <th>b</th>\n",
       "      <th>c</th>\n",
       "      <th>d</th>\n",
       "      <th>e</th>\n",
       "    </tr>\n",
       "  </thead>\n",
       "  <tbody>\n",
       "    <tr>\n",
       "      <th>0</th>\n",
       "      <td>92</td>\n",
       "      <td>95</td>\n",
       "      <td>80</td>\n",
       "      <td>83</td>\n",
       "      <td>83</td>\n",
       "    </tr>\n",
       "    <tr>\n",
       "      <th>1</th>\n",
       "      <td>87</td>\n",
       "      <td>89</td>\n",
       "      <td>99</td>\n",
       "      <td>98</td>\n",
       "      <td>84</td>\n",
       "    </tr>\n",
       "    <tr>\n",
       "      <th>2</th>\n",
       "      <td>86</td>\n",
       "      <td>92</td>\n",
       "      <td>81</td>\n",
       "      <td>86</td>\n",
       "      <td>87</td>\n",
       "    </tr>\n",
       "    <tr>\n",
       "      <th>3</th>\n",
       "      <td>94</td>\n",
       "      <td>97</td>\n",
       "      <td>85</td>\n",
       "      <td>93</td>\n",
       "      <td>88</td>\n",
       "    </tr>\n",
       "    <tr>\n",
       "      <th>4</th>\n",
       "      <td>89</td>\n",
       "      <td>99</td>\n",
       "      <td>96</td>\n",
       "      <td>99</td>\n",
       "      <td>85</td>\n",
       "    </tr>\n",
       "  </tbody>\n",
       "</table>\n",
       "</div>"
      ],
      "text/plain": [
       "    a   b   c   d   e\n",
       "0  92  95  80  83  83\n",
       "1  87  89  99  98  84\n",
       "2  86  92  81  86  87\n",
       "3  94  97  85  93  88\n",
       "4  89  99  96  99  85"
      ]
     },
     "execution_count": 18,
     "metadata": {},
     "output_type": "execute_result"
    }
   ],
   "source": [
    "# 데이터프레임 생성\n",
    "import numpy as np\n",
    "import pandas as pd\n",
    "np.random.seed(0)\n",
    "data = np.random.randint(80,100,size=(5,5))\n",
    "df = pd.DataFrame(data, columns=list('abcde'))\n",
    "df"
   ]
  },
  {
   "cell_type": "code",
   "execution_count": 19,
   "id": "acbb3d35",
   "metadata": {
    "id": "acbb3d35",
    "outputId": "d3b6dc2a-cb2c-4ea5-ba3f-7e7696743afa"
   },
   "outputs": [
    {
     "data": {
      "text/html": [
       "<div>\n",
       "<style scoped>\n",
       "    .dataframe tbody tr th:only-of-type {\n",
       "        vertical-align: middle;\n",
       "    }\n",
       "\n",
       "    .dataframe tbody tr th {\n",
       "        vertical-align: top;\n",
       "    }\n",
       "\n",
       "    .dataframe thead th {\n",
       "        text-align: right;\n",
       "    }\n",
       "</style>\n",
       "<table border=\"1\" class=\"dataframe\">\n",
       "  <thead>\n",
       "    <tr style=\"text-align: right;\">\n",
       "      <th></th>\n",
       "      <th>a</th>\n",
       "      <th>b</th>\n",
       "      <th>c</th>\n",
       "      <th>d</th>\n",
       "      <th>e</th>\n",
       "    </tr>\n",
       "  </thead>\n",
       "  <tbody>\n",
       "    <tr>\n",
       "      <th>0</th>\n",
       "      <td>92</td>\n",
       "      <td>95</td>\n",
       "      <td>80</td>\n",
       "      <td>83</td>\n",
       "      <td>83</td>\n",
       "    </tr>\n",
       "    <tr>\n",
       "      <th>1</th>\n",
       "      <td>87</td>\n",
       "      <td>89</td>\n",
       "      <td>99</td>\n",
       "      <td>98</td>\n",
       "      <td>84</td>\n",
       "    </tr>\n",
       "    <tr>\n",
       "      <th>2</th>\n",
       "      <td>86</td>\n",
       "      <td>92</td>\n",
       "      <td>81</td>\n",
       "      <td>86</td>\n",
       "      <td>87</td>\n",
       "    </tr>\n",
       "    <tr>\n",
       "      <th>3</th>\n",
       "      <td>94</td>\n",
       "      <td>97</td>\n",
       "      <td>85</td>\n",
       "      <td>93</td>\n",
       "      <td>88</td>\n",
       "    </tr>\n",
       "    <tr>\n",
       "      <th>4</th>\n",
       "      <td>89</td>\n",
       "      <td>99</td>\n",
       "      <td>96</td>\n",
       "      <td>99</td>\n",
       "      <td>85</td>\n",
       "    </tr>\n",
       "  </tbody>\n",
       "</table>\n",
       "</div>"
      ],
      "text/plain": [
       "    a   b   c   d   e\n",
       "0  92  95  80  83  83\n",
       "1  87  89  99  98  84\n",
       "2  86  92  81  86  87\n",
       "3  94  97  85  93  88\n",
       "4  89  99  96  99  85"
      ]
     },
     "execution_count": 19,
     "metadata": {},
     "output_type": "execute_result"
    }
   ],
   "source": [
    "df1 = df.copy()\n",
    "df1"
   ]
  },
  {
   "cell_type": "code",
   "execution_count": 20,
   "id": "61a8837c",
   "metadata": {
    "id": "61a8837c",
    "outputId": "d6c7a997-7512-49d4-9b3b-cc45b2e46957"
   },
   "outputs": [
    {
     "data": {
      "text/html": [
       "<div>\n",
       "<style scoped>\n",
       "    .dataframe tbody tr th:only-of-type {\n",
       "        vertical-align: middle;\n",
       "    }\n",
       "\n",
       "    .dataframe tbody tr th {\n",
       "        vertical-align: top;\n",
       "    }\n",
       "\n",
       "    .dataframe thead th {\n",
       "        text-align: right;\n",
       "    }\n",
       "</style>\n",
       "<table border=\"1\" class=\"dataframe\">\n",
       "  <thead>\n",
       "    <tr style=\"text-align: right;\">\n",
       "      <th></th>\n",
       "      <th>a</th>\n",
       "      <th>b</th>\n",
       "      <th>c</th>\n",
       "      <th>d</th>\n",
       "      <th>e</th>\n",
       "      <th>index</th>\n",
       "    </tr>\n",
       "  </thead>\n",
       "  <tbody>\n",
       "    <tr>\n",
       "      <th>0</th>\n",
       "      <td>92</td>\n",
       "      <td>95</td>\n",
       "      <td>80</td>\n",
       "      <td>83</td>\n",
       "      <td>83</td>\n",
       "      <td>가</td>\n",
       "    </tr>\n",
       "    <tr>\n",
       "      <th>1</th>\n",
       "      <td>87</td>\n",
       "      <td>89</td>\n",
       "      <td>99</td>\n",
       "      <td>98</td>\n",
       "      <td>84</td>\n",
       "      <td>나</td>\n",
       "    </tr>\n",
       "    <tr>\n",
       "      <th>2</th>\n",
       "      <td>86</td>\n",
       "      <td>92</td>\n",
       "      <td>81</td>\n",
       "      <td>86</td>\n",
       "      <td>87</td>\n",
       "      <td>다</td>\n",
       "    </tr>\n",
       "    <tr>\n",
       "      <th>3</th>\n",
       "      <td>94</td>\n",
       "      <td>97</td>\n",
       "      <td>85</td>\n",
       "      <td>93</td>\n",
       "      <td>88</td>\n",
       "      <td>라</td>\n",
       "    </tr>\n",
       "    <tr>\n",
       "      <th>4</th>\n",
       "      <td>89</td>\n",
       "      <td>99</td>\n",
       "      <td>96</td>\n",
       "      <td>99</td>\n",
       "      <td>85</td>\n",
       "      <td>마</td>\n",
       "    </tr>\n",
       "  </tbody>\n",
       "</table>\n",
       "</div>"
      ],
      "text/plain": [
       "    a   b   c   d   e index\n",
       "0  92  95  80  83  83     가\n",
       "1  87  89  99  98  84     나\n",
       "2  86  92  81  86  87     다\n",
       "3  94  97  85  93  88     라\n",
       "4  89  99  96  99  85     마"
      ]
     },
     "execution_count": 20,
     "metadata": {},
     "output_type": "execute_result"
    }
   ],
   "source": [
    "df1['index'] = list('가나다라마')\n",
    "df1"
   ]
  },
  {
   "cell_type": "code",
   "execution_count": 21,
   "id": "7d120405",
   "metadata": {
    "id": "7d120405",
    "outputId": "70e38c10-8ba6-4d7b-db2b-d9de9390f916"
   },
   "outputs": [
    {
     "data": {
      "text/html": [
       "<div>\n",
       "<style scoped>\n",
       "    .dataframe tbody tr th:only-of-type {\n",
       "        vertical-align: middle;\n",
       "    }\n",
       "\n",
       "    .dataframe tbody tr th {\n",
       "        vertical-align: top;\n",
       "    }\n",
       "\n",
       "    .dataframe thead th {\n",
       "        text-align: right;\n",
       "    }\n",
       "</style>\n",
       "<table border=\"1\" class=\"dataframe\">\n",
       "  <thead>\n",
       "    <tr style=\"text-align: right;\">\n",
       "      <th></th>\n",
       "      <th>a</th>\n",
       "      <th>b</th>\n",
       "      <th>c</th>\n",
       "      <th>d</th>\n",
       "      <th>e</th>\n",
       "    </tr>\n",
       "    <tr>\n",
       "      <th>index</th>\n",
       "      <th></th>\n",
       "      <th></th>\n",
       "      <th></th>\n",
       "      <th></th>\n",
       "      <th></th>\n",
       "    </tr>\n",
       "  </thead>\n",
       "  <tbody>\n",
       "    <tr>\n",
       "      <th>가</th>\n",
       "      <td>92</td>\n",
       "      <td>95</td>\n",
       "      <td>80</td>\n",
       "      <td>83</td>\n",
       "      <td>83</td>\n",
       "    </tr>\n",
       "    <tr>\n",
       "      <th>나</th>\n",
       "      <td>87</td>\n",
       "      <td>89</td>\n",
       "      <td>99</td>\n",
       "      <td>98</td>\n",
       "      <td>84</td>\n",
       "    </tr>\n",
       "    <tr>\n",
       "      <th>다</th>\n",
       "      <td>86</td>\n",
       "      <td>92</td>\n",
       "      <td>81</td>\n",
       "      <td>86</td>\n",
       "      <td>87</td>\n",
       "    </tr>\n",
       "    <tr>\n",
       "      <th>라</th>\n",
       "      <td>94</td>\n",
       "      <td>97</td>\n",
       "      <td>85</td>\n",
       "      <td>93</td>\n",
       "      <td>88</td>\n",
       "    </tr>\n",
       "    <tr>\n",
       "      <th>마</th>\n",
       "      <td>89</td>\n",
       "      <td>99</td>\n",
       "      <td>96</td>\n",
       "      <td>99</td>\n",
       "      <td>85</td>\n",
       "    </tr>\n",
       "  </tbody>\n",
       "</table>\n",
       "</div>"
      ],
      "text/plain": [
       "        a   b   c   d   e\n",
       "index                    \n",
       "가      92  95  80  83  83\n",
       "나      87  89  99  98  84\n",
       "다      86  92  81  86  87\n",
       "라      94  97  85  93  88\n",
       "마      89  99  96  99  85"
      ]
     },
     "execution_count": 21,
     "metadata": {},
     "output_type": "execute_result"
    }
   ],
   "source": [
    "df2 = df1.set_index('index')\n",
    "df2"
   ]
  },
  {
   "cell_type": "code",
   "execution_count": 24,
   "id": "1282426b",
   "metadata": {},
   "outputs": [
    {
     "data": {
      "text/html": [
       "<div>\n",
       "<style scoped>\n",
       "    .dataframe tbody tr th:only-of-type {\n",
       "        vertical-align: middle;\n",
       "    }\n",
       "\n",
       "    .dataframe tbody tr th {\n",
       "        vertical-align: top;\n",
       "    }\n",
       "\n",
       "    .dataframe thead th {\n",
       "        text-align: right;\n",
       "    }\n",
       "</style>\n",
       "<table border=\"1\" class=\"dataframe\">\n",
       "  <thead>\n",
       "    <tr style=\"text-align: right;\">\n",
       "      <th></th>\n",
       "      <th>a</th>\n",
       "      <th>b</th>\n",
       "      <th>c</th>\n",
       "      <th>d</th>\n",
       "    </tr>\n",
       "    <tr>\n",
       "      <th>index</th>\n",
       "      <th></th>\n",
       "      <th></th>\n",
       "      <th></th>\n",
       "      <th></th>\n",
       "    </tr>\n",
       "  </thead>\n",
       "  <tbody>\n",
       "    <tr>\n",
       "      <th>가</th>\n",
       "      <td>92</td>\n",
       "      <td>95</td>\n",
       "      <td>80</td>\n",
       "      <td>83</td>\n",
       "    </tr>\n",
       "    <tr>\n",
       "      <th>나</th>\n",
       "      <td>87</td>\n",
       "      <td>89</td>\n",
       "      <td>99</td>\n",
       "      <td>98</td>\n",
       "    </tr>\n",
       "    <tr>\n",
       "      <th>다</th>\n",
       "      <td>86</td>\n",
       "      <td>92</td>\n",
       "      <td>81</td>\n",
       "      <td>86</td>\n",
       "    </tr>\n",
       "    <tr>\n",
       "      <th>라</th>\n",
       "      <td>94</td>\n",
       "      <td>97</td>\n",
       "      <td>85</td>\n",
       "      <td>93</td>\n",
       "    </tr>\n",
       "    <tr>\n",
       "      <th>마</th>\n",
       "      <td>89</td>\n",
       "      <td>99</td>\n",
       "      <td>96</td>\n",
       "      <td>99</td>\n",
       "    </tr>\n",
       "  </tbody>\n",
       "</table>\n",
       "</div>"
      ],
      "text/plain": [
       "        a   b   c   d\n",
       "index                \n",
       "가      92  95  80  83\n",
       "나      87  89  99  98\n",
       "다      86  92  81  86\n",
       "라      94  97  85  93\n",
       "마      89  99  96  99"
      ]
     },
     "execution_count": 24,
     "metadata": {},
     "output_type": "execute_result"
    }
   ],
   "source": [
    "df21 = df2.drop('e', axis=1)\n",
    "df21"
   ]
  },
  {
   "cell_type": "code",
   "execution_count": 26,
   "id": "51b56ea2",
   "metadata": {
    "id": "51b56ea2",
    "outputId": "3881cbf9-4dd6-4840-c847-3c56af7e2c03"
   },
   "outputs": [
    {
     "data": {
      "text/html": [
       "<div>\n",
       "<style scoped>\n",
       "    .dataframe tbody tr th:only-of-type {\n",
       "        vertical-align: middle;\n",
       "    }\n",
       "\n",
       "    .dataframe tbody tr th {\n",
       "        vertical-align: top;\n",
       "    }\n",
       "\n",
       "    .dataframe thead th {\n",
       "        text-align: right;\n",
       "    }\n",
       "</style>\n",
       "<table border=\"1\" class=\"dataframe\">\n",
       "  <thead>\n",
       "    <tr style=\"text-align: right;\">\n",
       "      <th></th>\n",
       "      <th>index</th>\n",
       "      <th>a</th>\n",
       "      <th>b</th>\n",
       "      <th>c</th>\n",
       "      <th>d</th>\n",
       "      <th>e</th>\n",
       "    </tr>\n",
       "  </thead>\n",
       "  <tbody>\n",
       "    <tr>\n",
       "      <th>0</th>\n",
       "      <td>가</td>\n",
       "      <td>92</td>\n",
       "      <td>95</td>\n",
       "      <td>80</td>\n",
       "      <td>83</td>\n",
       "      <td>83</td>\n",
       "    </tr>\n",
       "    <tr>\n",
       "      <th>1</th>\n",
       "      <td>나</td>\n",
       "      <td>87</td>\n",
       "      <td>89</td>\n",
       "      <td>99</td>\n",
       "      <td>98</td>\n",
       "      <td>84</td>\n",
       "    </tr>\n",
       "    <tr>\n",
       "      <th>2</th>\n",
       "      <td>다</td>\n",
       "      <td>86</td>\n",
       "      <td>92</td>\n",
       "      <td>81</td>\n",
       "      <td>86</td>\n",
       "      <td>87</td>\n",
       "    </tr>\n",
       "    <tr>\n",
       "      <th>3</th>\n",
       "      <td>라</td>\n",
       "      <td>94</td>\n",
       "      <td>97</td>\n",
       "      <td>85</td>\n",
       "      <td>93</td>\n",
       "      <td>88</td>\n",
       "    </tr>\n",
       "    <tr>\n",
       "      <th>4</th>\n",
       "      <td>마</td>\n",
       "      <td>89</td>\n",
       "      <td>99</td>\n",
       "      <td>96</td>\n",
       "      <td>99</td>\n",
       "      <td>85</td>\n",
       "    </tr>\n",
       "  </tbody>\n",
       "</table>\n",
       "</div>"
      ],
      "text/plain": [
       "  index   a   b   c   d   e\n",
       "0     가  92  95  80  83  83\n",
       "1     나  87  89  99  98  84\n",
       "2     다  86  92  81  86  87\n",
       "3     라  94  97  85  93  88\n",
       "4     마  89  99  96  99  85"
      ]
     },
     "execution_count": 26,
     "metadata": {},
     "output_type": "execute_result"
    }
   ],
   "source": [
    "df3 = df2.reset_index()\n",
    "df3"
   ]
  },
  {
   "cell_type": "code",
   "execution_count": 27,
   "id": "19b1bd6c",
   "metadata": {},
   "outputs": [
    {
     "data": {
      "text/html": [
       "<div>\n",
       "<style scoped>\n",
       "    .dataframe tbody tr th:only-of-type {\n",
       "        vertical-align: middle;\n",
       "    }\n",
       "\n",
       "    .dataframe tbody tr th {\n",
       "        vertical-align: top;\n",
       "    }\n",
       "\n",
       "    .dataframe thead th {\n",
       "        text-align: right;\n",
       "    }\n",
       "</style>\n",
       "<table border=\"1\" class=\"dataframe\">\n",
       "  <thead>\n",
       "    <tr style=\"text-align: right;\">\n",
       "      <th></th>\n",
       "      <th>a</th>\n",
       "      <th>b</th>\n",
       "      <th>c</th>\n",
       "      <th>d</th>\n",
       "      <th>e</th>\n",
       "    </tr>\n",
       "    <tr>\n",
       "      <th>index</th>\n",
       "      <th></th>\n",
       "      <th></th>\n",
       "      <th></th>\n",
       "      <th></th>\n",
       "      <th></th>\n",
       "    </tr>\n",
       "  </thead>\n",
       "  <tbody>\n",
       "    <tr>\n",
       "      <th>가</th>\n",
       "      <td>92</td>\n",
       "      <td>95</td>\n",
       "      <td>80</td>\n",
       "      <td>83</td>\n",
       "      <td>83</td>\n",
       "    </tr>\n",
       "    <tr>\n",
       "      <th>나</th>\n",
       "      <td>87</td>\n",
       "      <td>89</td>\n",
       "      <td>99</td>\n",
       "      <td>98</td>\n",
       "      <td>84</td>\n",
       "    </tr>\n",
       "    <tr>\n",
       "      <th>다</th>\n",
       "      <td>86</td>\n",
       "      <td>92</td>\n",
       "      <td>81</td>\n",
       "      <td>86</td>\n",
       "      <td>87</td>\n",
       "    </tr>\n",
       "    <tr>\n",
       "      <th>라</th>\n",
       "      <td>94</td>\n",
       "      <td>97</td>\n",
       "      <td>85</td>\n",
       "      <td>93</td>\n",
       "      <td>88</td>\n",
       "    </tr>\n",
       "    <tr>\n",
       "      <th>마</th>\n",
       "      <td>89</td>\n",
       "      <td>99</td>\n",
       "      <td>96</td>\n",
       "      <td>99</td>\n",
       "      <td>85</td>\n",
       "    </tr>\n",
       "  </tbody>\n",
       "</table>\n",
       "</div>"
      ],
      "text/plain": [
       "        a   b   c   d   e\n",
       "index                    \n",
       "가      92  95  80  83  83\n",
       "나      87  89  99  98  84\n",
       "다      86  92  81  86  87\n",
       "라      94  97  85  93  88\n",
       "마      89  99  96  99  85"
      ]
     },
     "execution_count": 27,
     "metadata": {},
     "output_type": "execute_result"
    }
   ],
   "source": [
    "df22 = df3.set_index('index')\n",
    "df22"
   ]
  },
  {
   "cell_type": "code",
   "execution_count": 29,
   "id": "b91beedc",
   "metadata": {},
   "outputs": [
    {
     "data": {
      "text/html": [
       "<div>\n",
       "<style scoped>\n",
       "    .dataframe tbody tr th:only-of-type {\n",
       "        vertical-align: middle;\n",
       "    }\n",
       "\n",
       "    .dataframe tbody tr th {\n",
       "        vertical-align: top;\n",
       "    }\n",
       "\n",
       "    .dataframe thead th {\n",
       "        text-align: right;\n",
       "    }\n",
       "</style>\n",
       "<table border=\"1\" class=\"dataframe\">\n",
       "  <thead>\n",
       "    <tr style=\"text-align: right;\">\n",
       "      <th></th>\n",
       "      <th>a</th>\n",
       "      <th>b</th>\n",
       "      <th>c</th>\n",
       "      <th>d</th>\n",
       "      <th>e</th>\n",
       "    </tr>\n",
       "  </thead>\n",
       "  <tbody>\n",
       "    <tr>\n",
       "      <th>가</th>\n",
       "      <td>92</td>\n",
       "      <td>95</td>\n",
       "      <td>80</td>\n",
       "      <td>83</td>\n",
       "      <td>83</td>\n",
       "    </tr>\n",
       "    <tr>\n",
       "      <th>나</th>\n",
       "      <td>87</td>\n",
       "      <td>89</td>\n",
       "      <td>99</td>\n",
       "      <td>98</td>\n",
       "      <td>84</td>\n",
       "    </tr>\n",
       "    <tr>\n",
       "      <th>다</th>\n",
       "      <td>86</td>\n",
       "      <td>92</td>\n",
       "      <td>81</td>\n",
       "      <td>86</td>\n",
       "      <td>87</td>\n",
       "    </tr>\n",
       "    <tr>\n",
       "      <th>라</th>\n",
       "      <td>94</td>\n",
       "      <td>97</td>\n",
       "      <td>85</td>\n",
       "      <td>93</td>\n",
       "      <td>88</td>\n",
       "    </tr>\n",
       "    <tr>\n",
       "      <th>마</th>\n",
       "      <td>89</td>\n",
       "      <td>99</td>\n",
       "      <td>96</td>\n",
       "      <td>99</td>\n",
       "      <td>85</td>\n",
       "    </tr>\n",
       "  </tbody>\n",
       "</table>\n",
       "</div>"
      ],
      "text/plain": [
       "    a   b   c   d   e\n",
       "가  92  95  80  83  83\n",
       "나  87  89  99  98  84\n",
       "다  86  92  81  86  87\n",
       "라  94  97  85  93  88\n",
       "마  89  99  96  99  85"
      ]
     },
     "execution_count": 29,
     "metadata": {},
     "output_type": "execute_result"
    }
   ],
   "source": [
    "df22.index.name = None\n",
    "df22"
   ]
  },
  {
   "cell_type": "code",
   "execution_count": null,
   "id": "2e1c6410",
   "metadata": {},
   "outputs": [],
   "source": [
    "import pandas as pd\n",
    "\n",
    "# 예제 DataFrame 생성\n",
    "df = pd.DataFrame({'A': [1, 2, 3], 'B': [4, 5, 6]})\n",
    "\n",
    "# 컬럼 A를 인덱스로 설정\n",
    "df = df.set_index('A')\n",
    "\n",
    "# 인덱스 이름 제거\n",
    "df.index.name = None\n",
    "\n",
    "# 결과 출력\n",
    "print(df)\n"
   ]
  },
  {
   "cell_type": "code",
   "execution_count": null,
   "id": "81cf2b21",
   "metadata": {
    "id": "81cf2b21",
    "outputId": "8241620a-1d66-4c0c-ed4b-51da11887829"
   },
   "outputs": [
    {
     "data": {
      "text/html": [
       "<div>\n",
       "<style scoped>\n",
       "    .dataframe tbody tr th:only-of-type {\n",
       "        vertical-align: middle;\n",
       "    }\n",
       "\n",
       "    .dataframe tbody tr th {\n",
       "        vertical-align: top;\n",
       "    }\n",
       "\n",
       "    .dataframe thead th {\n",
       "        text-align: right;\n",
       "    }\n",
       "</style>\n",
       "<table border=\"1\" class=\"dataframe\">\n",
       "  <thead>\n",
       "    <tr style=\"text-align: right;\">\n",
       "      <th></th>\n",
       "      <th>a</th>\n",
       "      <th>b</th>\n",
       "      <th>c</th>\n",
       "      <th>d</th>\n",
       "      <th>e</th>\n",
       "      <th>index</th>\n",
       "    </tr>\n",
       "  </thead>\n",
       "  <tbody>\n",
       "    <tr>\n",
       "      <th>0</th>\n",
       "      <td>92</td>\n",
       "      <td>95</td>\n",
       "      <td>80</td>\n",
       "      <td>83</td>\n",
       "      <td>83</td>\n",
       "      <td>가</td>\n",
       "    </tr>\n",
       "    <tr>\n",
       "      <th>1</th>\n",
       "      <td>87</td>\n",
       "      <td>89</td>\n",
       "      <td>99</td>\n",
       "      <td>98</td>\n",
       "      <td>84</td>\n",
       "      <td>나</td>\n",
       "    </tr>\n",
       "    <tr>\n",
       "      <th>2</th>\n",
       "      <td>86</td>\n",
       "      <td>92</td>\n",
       "      <td>81</td>\n",
       "      <td>86</td>\n",
       "      <td>87</td>\n",
       "      <td>다</td>\n",
       "    </tr>\n",
       "    <tr>\n",
       "      <th>3</th>\n",
       "      <td>94</td>\n",
       "      <td>97</td>\n",
       "      <td>85</td>\n",
       "      <td>93</td>\n",
       "      <td>88</td>\n",
       "      <td>라</td>\n",
       "    </tr>\n",
       "    <tr>\n",
       "      <th>4</th>\n",
       "      <td>89</td>\n",
       "      <td>99</td>\n",
       "      <td>96</td>\n",
       "      <td>99</td>\n",
       "      <td>85</td>\n",
       "      <td>마</td>\n",
       "    </tr>\n",
       "  </tbody>\n",
       "</table>\n",
       "</div>"
      ],
      "text/plain": [
       "    a   b   c   d   e index\n",
       "0  92  95  80  83  83     가\n",
       "1  87  89  99  98  84     나\n",
       "2  86  92  81  86  87     다\n",
       "3  94  97  85  93  88     라\n",
       "4  89  99  96  99  85     마"
      ]
     },
     "execution_count": 12,
     "metadata": {},
     "output_type": "execute_result"
    }
   ],
   "source": [
    "df1 = df3[['a','b','c','d','e','index']]\n",
    "df1"
   ]
  },
  {
   "cell_type": "code",
   "execution_count": 28,
   "id": "3e8005a8",
   "metadata": {},
   "outputs": [
    {
     "name": "stdout",
     "output_type": "stream",
     "text": [
      "Original DataFrame:\n",
      "    A\n",
      "x  1\n",
      "y  2\n",
      "z  3\n",
      "\n",
      "After reindex:\n",
      "      A\n",
      "z  3.0\n",
      "y  2.0\n",
      "x  1.0\n",
      "w  NaN\n"
     ]
    }
   ],
   "source": [
    "#  DataFrame의 인덱스를 재배열하고 새로운 인덱스 'w'를 추가합니다. 'w'에 해당하는 데이터는 없기 때문에 NaN으로 표시\n",
    "\n",
    "import pandas as pd\n",
    "\n",
    "# 예제 DataFrame 생성\n",
    "df = pd.DataFrame({'A': [1, 2, 3]}, index=['x', 'y', 'z'])\n",
    "\n",
    "# reindex\n",
    "reindexed_df = df.reindex(['z', 'y', 'x', 'w'])\n",
    "\n",
    "print(\"Original DataFrame:\\n\", df)\n",
    "print(\"\\nAfter reindex:\\n\", reindexed_df)\n"
   ]
  },
  {
   "cell_type": "code",
   "execution_count": null,
   "id": "98284a7d",
   "metadata": {
    "id": "98284a7d"
   },
   "outputs": [],
   "source": [
    "# Q. 딕셔너리로 5행 5열 데이터 프레임을 작성하세요.\n",
    "index = ['r0','r1','r2','r3''r4']\n",
    "column = list('abcde')"
   ]
  },
  {
   "cell_type": "code",
   "execution_count": 30,
   "id": "f3aaadb2",
   "metadata": {
    "id": "f3aaadb2",
    "outputId": "1b8f4ef4-7918-4566-8976-fd069090feda"
   },
   "outputs": [
    {
     "data": {
      "text/html": [
       "<div>\n",
       "<style scoped>\n",
       "    .dataframe tbody tr th:only-of-type {\n",
       "        vertical-align: middle;\n",
       "    }\n",
       "\n",
       "    .dataframe tbody tr th {\n",
       "        vertical-align: top;\n",
       "    }\n",
       "\n",
       "    .dataframe thead th {\n",
       "        text-align: right;\n",
       "    }\n",
       "</style>\n",
       "<table border=\"1\" class=\"dataframe\">\n",
       "  <thead>\n",
       "    <tr style=\"text-align: right;\">\n",
       "      <th></th>\n",
       "      <th>a</th>\n",
       "      <th>b</th>\n",
       "      <th>c</th>\n",
       "      <th>d</th>\n",
       "      <th>e</th>\n",
       "    </tr>\n",
       "  </thead>\n",
       "  <tbody>\n",
       "    <tr>\n",
       "      <th>r0</th>\n",
       "      <td>1</td>\n",
       "      <td>4</td>\n",
       "      <td>7</td>\n",
       "      <td>10</td>\n",
       "      <td>13</td>\n",
       "    </tr>\n",
       "    <tr>\n",
       "      <th>r1</th>\n",
       "      <td>2</td>\n",
       "      <td>5</td>\n",
       "      <td>8</td>\n",
       "      <td>11</td>\n",
       "      <td>14</td>\n",
       "    </tr>\n",
       "    <tr>\n",
       "      <th>r2</th>\n",
       "      <td>3</td>\n",
       "      <td>6</td>\n",
       "      <td>9</td>\n",
       "      <td>12</td>\n",
       "      <td>15</td>\n",
       "    </tr>\n",
       "    <tr>\n",
       "      <th>r3</th>\n",
       "      <td>4</td>\n",
       "      <td>7</td>\n",
       "      <td>10</td>\n",
       "      <td>13</td>\n",
       "      <td>16</td>\n",
       "    </tr>\n",
       "    <tr>\n",
       "      <th>r4</th>\n",
       "      <td>5</td>\n",
       "      <td>8</td>\n",
       "      <td>11</td>\n",
       "      <td>14</td>\n",
       "      <td>17</td>\n",
       "    </tr>\n",
       "  </tbody>\n",
       "</table>\n",
       "</div>"
      ],
      "text/plain": [
       "    a  b   c   d   e\n",
       "r0  1  4   7  10  13\n",
       "r1  2  5   8  11  14\n",
       "r2  3  6   9  12  15\n",
       "r3  4  7  10  13  16\n",
       "r4  5  8  11  14  17"
      ]
     },
     "execution_count": 30,
     "metadata": {},
     "output_type": "execute_result"
    }
   ],
   "source": [
    "# 딕셔서리를 정의\n",
    "dict_data = {'a':[1,2,3,4,5], 'b':[4,5,6,7,8], 'c':[7,8,9,10,11], 'd':[10,11,12,13,14], 'e':[13,14,15,16,17]}\n",
    "\n",
    "# 딕셔서리를 데이터프레임으로 변환. 인덱스를 [r0, r1, r2]로 지정\n",
    "df = pd.DataFrame(dict_data, index=['r0','r1','r2','r3','r4'])\n",
    "df"
   ]
  },
  {
   "cell_type": "code",
   "execution_count": 31,
   "id": "8dd44fd8",
   "metadata": {
    "id": "8dd44fd8",
    "outputId": "ea87c853-fa4a-4b9c-ada3-846f518e3492"
   },
   "outputs": [
    {
     "data": {
      "text/html": [
       "<div>\n",
       "<style scoped>\n",
       "    .dataframe tbody tr th:only-of-type {\n",
       "        vertical-align: middle;\n",
       "    }\n",
       "\n",
       "    .dataframe tbody tr th {\n",
       "        vertical-align: top;\n",
       "    }\n",
       "\n",
       "    .dataframe thead th {\n",
       "        text-align: right;\n",
       "    }\n",
       "</style>\n",
       "<table border=\"1\" class=\"dataframe\">\n",
       "  <thead>\n",
       "    <tr style=\"text-align: right;\">\n",
       "      <th></th>\n",
       "      <th>a</th>\n",
       "      <th>b</th>\n",
       "      <th>c</th>\n",
       "      <th>d</th>\n",
       "      <th>e</th>\n",
       "    </tr>\n",
       "  </thead>\n",
       "  <tbody>\n",
       "    <tr>\n",
       "      <th>r0</th>\n",
       "      <td>1</td>\n",
       "      <td>4</td>\n",
       "      <td>7</td>\n",
       "      <td>10</td>\n",
       "      <td>13</td>\n",
       "    </tr>\n",
       "    <tr>\n",
       "      <th>r1</th>\n",
       "      <td>2</td>\n",
       "      <td>5</td>\n",
       "      <td>8</td>\n",
       "      <td>11</td>\n",
       "      <td>14</td>\n",
       "    </tr>\n",
       "    <tr>\n",
       "      <th>r2</th>\n",
       "      <td>3</td>\n",
       "      <td>6</td>\n",
       "      <td>9</td>\n",
       "      <td>12</td>\n",
       "      <td>15</td>\n",
       "    </tr>\n",
       "    <tr>\n",
       "      <th>r3</th>\n",
       "      <td>4</td>\n",
       "      <td>7</td>\n",
       "      <td>10</td>\n",
       "      <td>13</td>\n",
       "      <td>16</td>\n",
       "    </tr>\n",
       "    <tr>\n",
       "      <th>r4</th>\n",
       "      <td>5</td>\n",
       "      <td>8</td>\n",
       "      <td>11</td>\n",
       "      <td>14</td>\n",
       "      <td>17</td>\n",
       "    </tr>\n",
       "    <tr>\n",
       "      <th>r5</th>\n",
       "      <td>0</td>\n",
       "      <td>0</td>\n",
       "      <td>0</td>\n",
       "      <td>0</td>\n",
       "      <td>0</td>\n",
       "    </tr>\n",
       "    <tr>\n",
       "      <th>r6</th>\n",
       "      <td>0</td>\n",
       "      <td>0</td>\n",
       "      <td>0</td>\n",
       "      <td>0</td>\n",
       "      <td>0</td>\n",
       "    </tr>\n",
       "  </tbody>\n",
       "</table>\n",
       "</div>"
      ],
      "text/plain": [
       "    a  b   c   d   e\n",
       "r0  1  4   7  10  13\n",
       "r1  2  5   8  11  14\n",
       "r2  3  6   9  12  15\n",
       "r3  4  7  10  13  16\n",
       "r4  5  8  11  14  17\n",
       "r5  0  0   0   0   0\n",
       "r6  0  0   0   0   0"
      ]
     },
     "execution_count": 31,
     "metadata": {},
     "output_type": "execute_result"
    }
   ],
   "source": [
    "# Q. df에 r5,r6 2개의 행을 추가하고 값은 0을 적용하여 출력하세요.\n",
    "df.loc['r5'] = 0\n",
    "df.loc['r6'] = 0\n",
    "df"
   ]
  },
  {
   "cell_type": "code",
   "execution_count": 32,
   "id": "0da3e6a8",
   "metadata": {
    "id": "0da3e6a8",
    "outputId": "2d819d66-0890-45c1-ef41-6af3b4b522e1"
   },
   "outputs": [
    {
     "data": {
      "text/html": [
       "<div>\n",
       "<style scoped>\n",
       "    .dataframe tbody tr th:only-of-type {\n",
       "        vertical-align: middle;\n",
       "    }\n",
       "\n",
       "    .dataframe tbody tr th {\n",
       "        vertical-align: top;\n",
       "    }\n",
       "\n",
       "    .dataframe thead th {\n",
       "        text-align: right;\n",
       "    }\n",
       "</style>\n",
       "<table border=\"1\" class=\"dataframe\">\n",
       "  <thead>\n",
       "    <tr style=\"text-align: right;\">\n",
       "      <th></th>\n",
       "      <th>a</th>\n",
       "      <th>b</th>\n",
       "      <th>c</th>\n",
       "      <th>d</th>\n",
       "      <th>e</th>\n",
       "    </tr>\n",
       "  </thead>\n",
       "  <tbody>\n",
       "    <tr>\n",
       "      <th>r0</th>\n",
       "      <td>1</td>\n",
       "      <td>4</td>\n",
       "      <td>7</td>\n",
       "      <td>10</td>\n",
       "      <td>13</td>\n",
       "    </tr>\n",
       "    <tr>\n",
       "      <th>r1</th>\n",
       "      <td>2</td>\n",
       "      <td>5</td>\n",
       "      <td>8</td>\n",
       "      <td>11</td>\n",
       "      <td>14</td>\n",
       "    </tr>\n",
       "    <tr>\n",
       "      <th>r2</th>\n",
       "      <td>3</td>\n",
       "      <td>6</td>\n",
       "      <td>9</td>\n",
       "      <td>12</td>\n",
       "      <td>15</td>\n",
       "    </tr>\n",
       "    <tr>\n",
       "      <th>r3</th>\n",
       "      <td>4</td>\n",
       "      <td>7</td>\n",
       "      <td>10</td>\n",
       "      <td>13</td>\n",
       "      <td>16</td>\n",
       "    </tr>\n",
       "    <tr>\n",
       "      <th>r4</th>\n",
       "      <td>5</td>\n",
       "      <td>8</td>\n",
       "      <td>11</td>\n",
       "      <td>14</td>\n",
       "      <td>17</td>\n",
       "    </tr>\n",
       "    <tr>\n",
       "      <th>r5</th>\n",
       "      <td>0</td>\n",
       "      <td>0</td>\n",
       "      <td>0</td>\n",
       "      <td>0</td>\n",
       "      <td>0</td>\n",
       "    </tr>\n",
       "    <tr>\n",
       "      <th>r6</th>\n",
       "      <td>0</td>\n",
       "      <td>0</td>\n",
       "      <td>0</td>\n",
       "      <td>0</td>\n",
       "      <td>0</td>\n",
       "    </tr>\n",
       "    <tr>\n",
       "      <th>r7</th>\n",
       "      <td>0</td>\n",
       "      <td>0</td>\n",
       "      <td>0</td>\n",
       "      <td>0</td>\n",
       "      <td>0</td>\n",
       "    </tr>\n",
       "    <tr>\n",
       "      <th>r8</th>\n",
       "      <td>0</td>\n",
       "      <td>0</td>\n",
       "      <td>0</td>\n",
       "      <td>0</td>\n",
       "      <td>0</td>\n",
       "    </tr>\n",
       "  </tbody>\n",
       "</table>\n",
       "</div>"
      ],
      "text/plain": [
       "    a  b   c   d   e\n",
       "r0  1  4   7  10  13\n",
       "r1  2  5   8  11  14\n",
       "r2  3  6   9  12  15\n",
       "r3  4  7  10  13  16\n",
       "r4  5  8  11  14  17\n",
       "r5  0  0   0   0   0\n",
       "r6  0  0   0   0   0\n",
       "r7  0  0   0   0   0\n",
       "r8  0  0   0   0   0"
      ]
     },
     "execution_count": 32,
     "metadata": {},
     "output_type": "execute_result"
    }
   ],
   "source": [
    "new_index = ['r0','r1','r2','r3','r4','r5','r6','r7','r8']\n",
    "df5 = df.reindex(new_index,fill_value=0)\n",
    "df5"
   ]
  },
  {
   "cell_type": "code",
   "execution_count": 33,
   "id": "79e942aa",
   "metadata": {},
   "outputs": [
    {
     "data": {
      "text/html": [
       "<div>\n",
       "<style scoped>\n",
       "    .dataframe tbody tr th:only-of-type {\n",
       "        vertical-align: middle;\n",
       "    }\n",
       "\n",
       "    .dataframe tbody tr th {\n",
       "        vertical-align: top;\n",
       "    }\n",
       "\n",
       "    .dataframe thead th {\n",
       "        text-align: right;\n",
       "    }\n",
       "</style>\n",
       "<table border=\"1\" class=\"dataframe\">\n",
       "  <thead>\n",
       "    <tr style=\"text-align: right;\">\n",
       "      <th></th>\n",
       "      <th>a</th>\n",
       "      <th>b</th>\n",
       "      <th>c</th>\n",
       "      <th>d</th>\n",
       "      <th>e</th>\n",
       "    </tr>\n",
       "  </thead>\n",
       "  <tbody>\n",
       "    <tr>\n",
       "      <th>r0</th>\n",
       "      <td>1</td>\n",
       "      <td>4</td>\n",
       "      <td>7</td>\n",
       "      <td>10</td>\n",
       "      <td>13</td>\n",
       "    </tr>\n",
       "    <tr>\n",
       "      <th>r1</th>\n",
       "      <td>2</td>\n",
       "      <td>5</td>\n",
       "      <td>8</td>\n",
       "      <td>11</td>\n",
       "      <td>14</td>\n",
       "    </tr>\n",
       "    <tr>\n",
       "      <th>r2</th>\n",
       "      <td>3</td>\n",
       "      <td>6</td>\n",
       "      <td>9</td>\n",
       "      <td>12</td>\n",
       "      <td>15</td>\n",
       "    </tr>\n",
       "    <tr>\n",
       "      <th>r3</th>\n",
       "      <td>4</td>\n",
       "      <td>7</td>\n",
       "      <td>10</td>\n",
       "      <td>13</td>\n",
       "      <td>16</td>\n",
       "    </tr>\n",
       "    <tr>\n",
       "      <th>r4</th>\n",
       "      <td>5</td>\n",
       "      <td>8</td>\n",
       "      <td>11</td>\n",
       "      <td>14</td>\n",
       "      <td>17</td>\n",
       "    </tr>\n",
       "  </tbody>\n",
       "</table>\n",
       "</div>"
      ],
      "text/plain": [
       "    a  b   c   d   e\n",
       "r0  1  4   7  10  13\n",
       "r1  2  5   8  11  14\n",
       "r2  3  6   9  12  15\n",
       "r3  4  7  10  13  16\n",
       "r4  5  8  11  14  17"
      ]
     },
     "execution_count": 33,
     "metadata": {},
     "output_type": "execute_result"
    }
   ],
   "source": [
    "new_index = ['r0','r1','r2','r3','r4']\n",
    "df1 = df5.reindex(new_index)\n",
    "df1"
   ]
  },
  {
   "cell_type": "code",
   "execution_count": 37,
   "id": "69d95b1d",
   "metadata": {},
   "outputs": [
    {
     "data": {
      "text/html": [
       "<div>\n",
       "<style scoped>\n",
       "    .dataframe tbody tr th:only-of-type {\n",
       "        vertical-align: middle;\n",
       "    }\n",
       "\n",
       "    .dataframe tbody tr th {\n",
       "        vertical-align: top;\n",
       "    }\n",
       "\n",
       "    .dataframe thead th {\n",
       "        text-align: right;\n",
       "    }\n",
       "</style>\n",
       "<table border=\"1\" class=\"dataframe\">\n",
       "  <thead>\n",
       "    <tr style=\"text-align: right;\">\n",
       "      <th></th>\n",
       "      <th>a</th>\n",
       "      <th>b</th>\n",
       "      <th>c</th>\n",
       "      <th>d</th>\n",
       "      <th>e</th>\n",
       "    </tr>\n",
       "  </thead>\n",
       "  <tbody>\n",
       "    <tr>\n",
       "      <th>r0</th>\n",
       "      <td>1</td>\n",
       "      <td>4</td>\n",
       "      <td>7</td>\n",
       "      <td>10</td>\n",
       "      <td>13</td>\n",
       "    </tr>\n",
       "    <tr>\n",
       "      <th>r1</th>\n",
       "      <td>2</td>\n",
       "      <td>5</td>\n",
       "      <td>8</td>\n",
       "      <td>11</td>\n",
       "      <td>14</td>\n",
       "    </tr>\n",
       "    <tr>\n",
       "      <th>r2</th>\n",
       "      <td>3</td>\n",
       "      <td>6</td>\n",
       "      <td>9</td>\n",
       "      <td>12</td>\n",
       "      <td>15</td>\n",
       "    </tr>\n",
       "    <tr>\n",
       "      <th>r3</th>\n",
       "      <td>4</td>\n",
       "      <td>7</td>\n",
       "      <td>10</td>\n",
       "      <td>13</td>\n",
       "      <td>16</td>\n",
       "    </tr>\n",
       "    <tr>\n",
       "      <th>r4</th>\n",
       "      <td>5</td>\n",
       "      <td>8</td>\n",
       "      <td>11</td>\n",
       "      <td>14</td>\n",
       "      <td>17</td>\n",
       "    </tr>\n",
       "  </tbody>\n",
       "</table>\n",
       "</div>"
      ],
      "text/plain": [
       "    a  b   c   d   e\n",
       "r0  1  4   7  10  13\n",
       "r1  2  5   8  11  14\n",
       "r2  3  6   9  12  15\n",
       "r3  4  7  10  13  16\n",
       "r4  5  8  11  14  17"
      ]
     },
     "execution_count": 37,
     "metadata": {},
     "output_type": "execute_result"
    }
   ],
   "source": [
    "df1 = df5.drop(df5.index[5:9])\n",
    "df1"
   ]
  },
  {
   "cell_type": "code",
   "execution_count": 34,
   "id": "adfa83aa",
   "metadata": {
    "id": "adfa83aa",
    "outputId": "a003c29a-ae74-4ff1-dccd-523d7993d59d"
   },
   "outputs": [
    {
     "data": {
      "text/html": [
       "<div>\n",
       "<style scoped>\n",
       "    .dataframe tbody tr th:only-of-type {\n",
       "        vertical-align: middle;\n",
       "    }\n",
       "\n",
       "    .dataframe tbody tr th {\n",
       "        vertical-align: top;\n",
       "    }\n",
       "\n",
       "    .dataframe thead th {\n",
       "        text-align: right;\n",
       "    }\n",
       "</style>\n",
       "<table border=\"1\" class=\"dataframe\">\n",
       "  <thead>\n",
       "    <tr style=\"text-align: right;\">\n",
       "      <th></th>\n",
       "      <th>a</th>\n",
       "      <th>b</th>\n",
       "      <th>c</th>\n",
       "      <th>d</th>\n",
       "      <th>e</th>\n",
       "    </tr>\n",
       "  </thead>\n",
       "  <tbody>\n",
       "    <tr>\n",
       "      <th>r0</th>\n",
       "      <td>1</td>\n",
       "      <td>4</td>\n",
       "      <td>7</td>\n",
       "      <td>10</td>\n",
       "      <td>13</td>\n",
       "    </tr>\n",
       "    <tr>\n",
       "      <th>r1</th>\n",
       "      <td>2</td>\n",
       "      <td>5</td>\n",
       "      <td>8</td>\n",
       "      <td>11</td>\n",
       "      <td>14</td>\n",
       "    </tr>\n",
       "    <tr>\n",
       "      <th>r2</th>\n",
       "      <td>3</td>\n",
       "      <td>6</td>\n",
       "      <td>9</td>\n",
       "      <td>12</td>\n",
       "      <td>15</td>\n",
       "    </tr>\n",
       "    <tr>\n",
       "      <th>r3</th>\n",
       "      <td>4</td>\n",
       "      <td>7</td>\n",
       "      <td>10</td>\n",
       "      <td>13</td>\n",
       "      <td>16</td>\n",
       "    </tr>\n",
       "    <tr>\n",
       "      <th>r4</th>\n",
       "      <td>5</td>\n",
       "      <td>8</td>\n",
       "      <td>11</td>\n",
       "      <td>14</td>\n",
       "      <td>17</td>\n",
       "    </tr>\n",
       "  </tbody>\n",
       "</table>\n",
       "</div>"
      ],
      "text/plain": [
       "    a  b   c   d   e\n",
       "r0  1  4   7  10  13\n",
       "r1  2  5   8  11  14\n",
       "r2  3  6   9  12  15\n",
       "r3  4  7  10  13  16\n",
       "r4  5  8  11  14  17"
      ]
     },
     "execution_count": 34,
     "metadata": {},
     "output_type": "execute_result"
    }
   ],
   "source": [
    "# Q. df5에서 r5 ~ r8까지 삭제 후 df1으로 출력하세요.\n",
    "df1 = df5.drop(['r5','r6','r7','r8'],axis=0)\n",
    "df1"
   ]
  },
  {
   "cell_type": "code",
   "execution_count": null,
   "id": "4e9447c1",
   "metadata": {
    "id": "4e9447c1",
    "outputId": "4c67e309-fc9d-4611-d516-f1667b500e21"
   },
   "outputs": [
    {
     "data": {
      "text/html": [
       "<div>\n",
       "<style scoped>\n",
       "    .dataframe tbody tr th:only-of-type {\n",
       "        vertical-align: middle;\n",
       "    }\n",
       "\n",
       "    .dataframe tbody tr th {\n",
       "        vertical-align: top;\n",
       "    }\n",
       "\n",
       "    .dataframe thead th {\n",
       "        text-align: right;\n",
       "    }\n",
       "</style>\n",
       "<table border=\"1\" class=\"dataframe\">\n",
       "  <thead>\n",
       "    <tr style=\"text-align: right;\">\n",
       "      <th></th>\n",
       "      <th>a</th>\n",
       "      <th>b</th>\n",
       "      <th>c</th>\n",
       "      <th>d</th>\n",
       "      <th>e</th>\n",
       "    </tr>\n",
       "  </thead>\n",
       "  <tbody>\n",
       "    <tr>\n",
       "      <th>r4</th>\n",
       "      <td>5</td>\n",
       "      <td>8</td>\n",
       "      <td>11</td>\n",
       "      <td>14</td>\n",
       "      <td>17</td>\n",
       "    </tr>\n",
       "    <tr>\n",
       "      <th>r3</th>\n",
       "      <td>4</td>\n",
       "      <td>7</td>\n",
       "      <td>10</td>\n",
       "      <td>13</td>\n",
       "      <td>16</td>\n",
       "    </tr>\n",
       "    <tr>\n",
       "      <th>r2</th>\n",
       "      <td>3</td>\n",
       "      <td>6</td>\n",
       "      <td>9</td>\n",
       "      <td>12</td>\n",
       "      <td>15</td>\n",
       "    </tr>\n",
       "    <tr>\n",
       "      <th>r1</th>\n",
       "      <td>2</td>\n",
       "      <td>5</td>\n",
       "      <td>8</td>\n",
       "      <td>11</td>\n",
       "      <td>14</td>\n",
       "    </tr>\n",
       "    <tr>\n",
       "      <th>r0</th>\n",
       "      <td>1</td>\n",
       "      <td>4</td>\n",
       "      <td>7</td>\n",
       "      <td>10</td>\n",
       "      <td>13</td>\n",
       "    </tr>\n",
       "  </tbody>\n",
       "</table>\n",
       "</div>"
      ],
      "text/plain": [
       "    a  b   c   d   e\n",
       "r4  5  8  11  14  17\n",
       "r3  4  7  10  13  16\n",
       "r2  3  6   9  12  15\n",
       "r1  2  5   8  11  14\n",
       "r0  1  4   7  10  13"
      ]
     },
     "execution_count": 19,
     "metadata": {},
     "output_type": "execute_result"
    }
   ],
   "source": [
    "df1_s = df1.sort_index(ascending=False)\n",
    "df1_s"
   ]
  },
  {
   "cell_type": "code",
   "execution_count": null,
   "id": "92ce9621",
   "metadata": {
    "id": "92ce9621",
    "outputId": "b931f5b7-61c5-41d5-ef99-6021c7fb9fbe"
   },
   "outputs": [
    {
     "data": {
      "text/html": [
       "<div>\n",
       "<style scoped>\n",
       "    .dataframe tbody tr th:only-of-type {\n",
       "        vertical-align: middle;\n",
       "    }\n",
       "\n",
       "    .dataframe tbody tr th {\n",
       "        vertical-align: top;\n",
       "    }\n",
       "\n",
       "    .dataframe thead th {\n",
       "        text-align: right;\n",
       "    }\n",
       "</style>\n",
       "<table border=\"1\" class=\"dataframe\">\n",
       "  <thead>\n",
       "    <tr style=\"text-align: right;\">\n",
       "      <th></th>\n",
       "      <th>a</th>\n",
       "      <th>b</th>\n",
       "      <th>c</th>\n",
       "      <th>d</th>\n",
       "      <th>e</th>\n",
       "    </tr>\n",
       "  </thead>\n",
       "  <tbody>\n",
       "    <tr>\n",
       "      <th>r4</th>\n",
       "      <td>5</td>\n",
       "      <td>8</td>\n",
       "      <td>11</td>\n",
       "      <td>14</td>\n",
       "      <td>17</td>\n",
       "    </tr>\n",
       "    <tr>\n",
       "      <th>r3</th>\n",
       "      <td>4</td>\n",
       "      <td>7</td>\n",
       "      <td>10</td>\n",
       "      <td>13</td>\n",
       "      <td>16</td>\n",
       "    </tr>\n",
       "    <tr>\n",
       "      <th>r2</th>\n",
       "      <td>3</td>\n",
       "      <td>6</td>\n",
       "      <td>9</td>\n",
       "      <td>12</td>\n",
       "      <td>15</td>\n",
       "    </tr>\n",
       "    <tr>\n",
       "      <th>r1</th>\n",
       "      <td>2</td>\n",
       "      <td>5</td>\n",
       "      <td>8</td>\n",
       "      <td>11</td>\n",
       "      <td>14</td>\n",
       "    </tr>\n",
       "    <tr>\n",
       "      <th>r0</th>\n",
       "      <td>1</td>\n",
       "      <td>4</td>\n",
       "      <td>7</td>\n",
       "      <td>10</td>\n",
       "      <td>13</td>\n",
       "    </tr>\n",
       "  </tbody>\n",
       "</table>\n",
       "</div>"
      ],
      "text/plain": [
       "    a  b   c   d   e\n",
       "r4  5  8  11  14  17\n",
       "r3  4  7  10  13  16\n",
       "r2  3  6   9  12  15\n",
       "r1  2  5   8  11  14\n",
       "r0  1  4   7  10  13"
      ]
     },
     "execution_count": 21,
     "metadata": {},
     "output_type": "execute_result"
    }
   ],
   "source": [
    "df1_c = df1.sort_values(by='c',ascending=False)\n",
    "df1_c"
   ]
  },
  {
   "cell_type": "code",
   "execution_count": null,
   "id": "d1bd70d2",
   "metadata": {
    "id": "d1bd70d2",
    "outputId": "d91855b5-1a6c-403b-b966-851581d022c8"
   },
   "outputs": [
    {
     "data": {
      "text/html": [
       "<div>\n",
       "<style scoped>\n",
       "    .dataframe tbody tr th:only-of-type {\n",
       "        vertical-align: middle;\n",
       "    }\n",
       "\n",
       "    .dataframe tbody tr th {\n",
       "        vertical-align: top;\n",
       "    }\n",
       "\n",
       "    .dataframe thead th {\n",
       "        text-align: right;\n",
       "    }\n",
       "</style>\n",
       "<table border=\"1\" class=\"dataframe\">\n",
       "  <thead>\n",
       "    <tr style=\"text-align: right;\">\n",
       "      <th></th>\n",
       "      <th>r0</th>\n",
       "      <th>r1</th>\n",
       "      <th>r2</th>\n",
       "      <th>r3</th>\n",
       "      <th>r4</th>\n",
       "    </tr>\n",
       "  </thead>\n",
       "  <tbody>\n",
       "    <tr>\n",
       "      <th>a</th>\n",
       "      <td>1</td>\n",
       "      <td>2</td>\n",
       "      <td>3</td>\n",
       "      <td>4</td>\n",
       "      <td>5</td>\n",
       "    </tr>\n",
       "    <tr>\n",
       "      <th>b</th>\n",
       "      <td>4</td>\n",
       "      <td>5</td>\n",
       "      <td>6</td>\n",
       "      <td>7</td>\n",
       "      <td>8</td>\n",
       "    </tr>\n",
       "    <tr>\n",
       "      <th>c</th>\n",
       "      <td>7</td>\n",
       "      <td>8</td>\n",
       "      <td>9</td>\n",
       "      <td>10</td>\n",
       "      <td>11</td>\n",
       "    </tr>\n",
       "    <tr>\n",
       "      <th>d</th>\n",
       "      <td>10</td>\n",
       "      <td>11</td>\n",
       "      <td>12</td>\n",
       "      <td>13</td>\n",
       "      <td>14</td>\n",
       "    </tr>\n",
       "    <tr>\n",
       "      <th>e</th>\n",
       "      <td>13</td>\n",
       "      <td>14</td>\n",
       "      <td>15</td>\n",
       "      <td>16</td>\n",
       "      <td>17</td>\n",
       "    </tr>\n",
       "  </tbody>\n",
       "</table>\n",
       "</div>"
      ],
      "text/plain": [
       "   r0  r1  r2  r3  r4\n",
       "a   1   2   3   4   5\n",
       "b   4   5   6   7   8\n",
       "c   7   8   9  10  11\n",
       "d  10  11  12  13  14\n",
       "e  13  14  15  16  17"
      ]
     },
     "execution_count": 22,
     "metadata": {},
     "output_type": "execute_result"
    }
   ],
   "source": [
    "# 전치\n",
    "df1_t = df1.transpose()\n",
    "df1_t"
   ]
  },
  {
   "cell_type": "code",
   "execution_count": null,
   "id": "b32d54ed",
   "metadata": {
    "id": "b32d54ed",
    "outputId": "740a3b37-9b36-43e8-ef2c-c015ed36d945"
   },
   "outputs": [
    {
     "data": {
      "text/html": [
       "<div>\n",
       "<style scoped>\n",
       "    .dataframe tbody tr th:only-of-type {\n",
       "        vertical-align: middle;\n",
       "    }\n",
       "\n",
       "    .dataframe tbody tr th {\n",
       "        vertical-align: top;\n",
       "    }\n",
       "\n",
       "    .dataframe thead th {\n",
       "        text-align: right;\n",
       "    }\n",
       "</style>\n",
       "<table border=\"1\" class=\"dataframe\">\n",
       "  <thead>\n",
       "    <tr style=\"text-align: right;\">\n",
       "      <th></th>\n",
       "      <th>a</th>\n",
       "      <th>b</th>\n",
       "      <th>c</th>\n",
       "      <th>d</th>\n",
       "      <th>e</th>\n",
       "    </tr>\n",
       "  </thead>\n",
       "  <tbody>\n",
       "    <tr>\n",
       "      <th>r0</th>\n",
       "      <td>1</td>\n",
       "      <td>4</td>\n",
       "      <td>7</td>\n",
       "      <td>10</td>\n",
       "      <td>13</td>\n",
       "    </tr>\n",
       "    <tr>\n",
       "      <th>r1</th>\n",
       "      <td>2</td>\n",
       "      <td>5</td>\n",
       "      <td>8</td>\n",
       "      <td>11</td>\n",
       "      <td>14</td>\n",
       "    </tr>\n",
       "    <tr>\n",
       "      <th>r2</th>\n",
       "      <td>3</td>\n",
       "      <td>6</td>\n",
       "      <td>9</td>\n",
       "      <td>12</td>\n",
       "      <td>15</td>\n",
       "    </tr>\n",
       "    <tr>\n",
       "      <th>r3</th>\n",
       "      <td>4</td>\n",
       "      <td>7</td>\n",
       "      <td>10</td>\n",
       "      <td>13</td>\n",
       "      <td>16</td>\n",
       "    </tr>\n",
       "    <tr>\n",
       "      <th>r4</th>\n",
       "      <td>5</td>\n",
       "      <td>8</td>\n",
       "      <td>11</td>\n",
       "      <td>14</td>\n",
       "      <td>17</td>\n",
       "    </tr>\n",
       "  </tbody>\n",
       "</table>\n",
       "</div>"
      ],
      "text/plain": [
       "    a  b   c   d   e\n",
       "r0  1  4   7  10  13\n",
       "r1  2  5   8  11  14\n",
       "r2  3  6   9  12  15\n",
       "r3  4  7  10  13  16\n",
       "r4  5  8  11  14  17"
      ]
     },
     "execution_count": 23,
     "metadata": {},
     "output_type": "execute_result"
    }
   ],
   "source": [
    "df1 = df1_t.transpose()\n",
    "df1"
   ]
  },
  {
   "cell_type": "code",
   "execution_count": null,
   "id": "032516f3",
   "metadata": {
    "id": "032516f3"
   },
   "outputs": [],
   "source": [
    "# 과제\n",
    "# Q. 5행 5열의 리스트, 배열, 사전 형태의 데이터를 데이터 프레임으로 \n",
    "# 변환하여 출력하세요(가능한한 의미있는 데이터로 작성)"
   ]
  },
  {
   "cell_type": "code",
   "execution_count": null,
   "id": "8e5887df",
   "metadata": {
    "id": "8e5887df"
   },
   "outputs": [],
   "source": [
    "# Q. 위에서 변환한 데이터 프레임에서 데이터 변경, 삭제, 전치, 인덱스 등 \n",
    "# 처리를 한 후 다시 리스트, 배열, 사전 형태로 변환하여 출력하세요."
   ]
  }
 ],
 "metadata": {
  "colab": {
   "provenance": []
  },
  "kernelspec": {
   "display_name": "Python 3 (ipykernel)",
   "language": "python",
   "name": "python3"
  },
  "language_info": {
   "codemirror_mode": {
    "name": "ipython",
    "version": 3
   },
   "file_extension": ".py",
   "mimetype": "text/x-python",
   "name": "python",
   "nbconvert_exporter": "python",
   "pygments_lexer": "ipython3",
   "version": "3.10.13"
  }
 },
 "nbformat": 4,
 "nbformat_minor": 5
}
