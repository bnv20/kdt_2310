{
 "cells": [
  {
   "cell_type": "markdown",
   "id": "6876111a",
   "metadata": {
    "id": "6876111a"
   },
   "source": [
    "python, numpy, pandas 날짜 타입 비교 및 정리\n",
    "\n",
    "- datetime은 python 설치 시 기본적으로 내장된 라이브러리로, 날짜를 쓸 것인지, 시간을 쓸 것인지, 날짜시간을 합쳐쓸 것인지에 따라 클래스가 분화되어 있는 것이 특징. 예를들어 '2021-3-16'을 표시하고 싶으면 date 클래스를 사용하고, '2021-3-16 12:34:21'를 표시하고 싶으면 'datetime' 클래스를 사용합니다. \n",
    "- 반면 datetime64나 Timestamp는 각각 numpy, pandas 라이브러리에서 새로 정의한 날짜시간 클래스입니다. 이 둘은 numpy, pandas를 설치해야만 이용할 수 있고, 한 클래스로 날짜, 시간, 날짜시간을 모두 정의할 수 있는 것이 특징\n",
    "- 날짜, 시간 타입은 일반적인 정수, 실수끼리 연산할 때와 달리 단위를 가지고 있는 점 때문에 시간의 차이를 저장하는 별도의 클래스가 있다는 특징. 이를 timedelta(타임델타)라고 하는데, 날짜, 시간은 특정 시점의 시각을 표시하는 용도이고(2021년 3월 16일), 타임델타는 기간 또는 시간 차이를 표시하는 용도(5일)\n",
    "\n",
    "- https://ellun.tistory.com/320\n",
    "\n",
    "<img src='dataset/날짜타입.jpg' STYLE='width:500px;'>"
   ]
  },
  {
   "cell_type": "markdown",
   "id": "7f92fe32",
   "metadata": {},
   "source": [
    "파이썬 datetime 모듈\n",
    "- 기본 개념: datetime 모듈은 날짜 및 시간을 다루는 기본적인 클래스들(date, time, datetime, timedelta, tzinfo)을 제공\n",
    "- 날짜 생성 및 조작: 특정 날짜를 생성하거나 날짜 간의 차이를 계산하는 등의 기능을 수행\n",
    "- 포맷팅: strftime()을 사용하여 날짜를 문자열로, strptime()을 사용하여 문자열을 날짜로 변환\n",
    "- 시간대 처리: 시간대를 처리하는 기능을 포함하고 있지만, 별도의 라이브러리(pytz 등)의 도움이 필요\n",
    "\n",
    "판다스\n",
    "- 시계열 데이터 처리에 최적화: 판다스는 시계열 데이터 처리에 특화되어 있으며, 대량의 날짜 데이터를 빠르고 효율적으로 처리할 수 있다.\n",
    "- DateTimeIndex: 판다스는 DateTimeIndex를 제공하여 시계열 데이터의 인덱싱과 슬라이싱을 간편하게 한다.\n",
    "- 시간대 처리: 판다스는 내장된 시간대 처리 기능을 제공하며, 시간대 변환을 손쉽게 할 수 있다.\n",
    "- 날짜 데이터 변환 및 조작: to_datetime() 함수로 다양한 형식의 날짜 문자열을 datetime 객체로 변환할 수 있다. 또한, resample, asfreq 등의 메서드로 시계열 데이터의 빈도를 변경하는 등 다양한 날짜 관련 조작을 지원.\n",
    "- 통합된 데이터 처리: 판다스는 DataFrame이나 Series 내의 날짜 데이터를 다룰 때, 다른 데이터 유형과의 통합된 처리가 가능.\n",
    "\n",
    "포인트\n",
    "- 파이썬 datetime: 날짜 및 시간의 기본적인 처리에 적합하며, 작고 단순한 날짜 관련 작업에 이상적이다.\n",
    "- 판다스: 대규모 데이터셋에서 복잡하고 고급 시계열 데이터 처리에 적합하며, 데이터 분석과 관련된 다양한 기능을 제공한다.\n",
    "- 사용 사례에 따라 적절한 도구를 선택하는 것이 중요. 작은 규모의 기본적인 날짜 연산에는 datetime을, 복잡한 데이터셋과 시계열 분석에는 판다스를 사용하는 것이 일반적.\n",
    "\n",
    "Python의 datetime 모듈을 사용한 날짜 처리 예시. 이 예제들은 datetime 모듈을 사용하여 날짜 및 시간 데이터를 다루는 기본적인 방법을 보여준다.\n",
    "\n",
    "- 현재 날짜 및 시간 얻기: datetime.now()를 사용.\n",
    "- 특정 날짜 및 시간 생성: datetime 객체를 직접 생성.\n",
    "- 날짜 간 차이 계산: timedelta를 사용.\n",
    "- 날짜 포맷팅: 날짜를 문자열로 변환하거나 문자열로부터 날짜를 파싱.\n",
    "- 날짜와 시간 요소 접근: 날짜의 연도, 월, 일 등을 접근.\n",
    "\n",
    "판다스를 사용한 날짜 처리의 예. 이 예제들은 판다스가 시계열 데이터를 어떻게 다룰 수 있는지 보여준다.\n",
    "\n",
    "- 날짜 범위 생성: pd.date_range()를 사용하여 날짜 범위를 생성.\n",
    "- 날짜 변환: 문자열을 pd.to_datetime()을 사용하여 날짜 객체로 변환.\n",
    "- 시계열 데이터 생성: 날짜를 인덱스로 사용하는 시계열 데이터를 생성.\n",
    "- 날짜 기반 필터링: 특정 날짜 조건을 만족하는 데이터를 필터링.\n",
    "- 시계열 데이터 리샘플링: 월별 평균 등으로 데이터를 리샘플링.\n",
    "- 이 코드를 실행하면, 판다스를 사용하여 날짜 데이터를 다양하게 처리하는 방법을 확인할 수 있다. 날짜 범위 생성, 날짜 변환, 시계열 데이터 처리 등은 데이터 분석에서 매우 유용하게 활용."
   ]
  },
  {
   "cell_type": "code",
   "execution_count": 2,
   "id": "9d1ac932",
   "metadata": {},
   "outputs": [
    {
     "data": {
      "text/plain": [
       "datetime.datetime(2023, 11, 29, 9, 55, 26, 578170)"
      ]
     },
     "execution_count": 2,
     "metadata": {},
     "output_type": "execute_result"
    }
   ],
   "source": [
    "from datetime import datetime, timedelta\n",
    "now = datetime.now()  # 현재 시각\n",
    "yesterday = now - timedelta(days=1)  # 어제 날짜\n",
    "yesterday"
   ]
  },
  {
   "cell_type": "code",
   "execution_count": 9,
   "id": "44428567",
   "metadata": {},
   "outputs": [
    {
     "data": {
      "text/plain": [
       "DatetimeIndex(['2020-01-01', '2020-01-02', '2020-01-03', '2020-01-04',\n",
       "               '2020-01-05', '2020-01-06', '2020-01-07', '2020-01-08',\n",
       "               '2020-01-09', '2020-01-10'],\n",
       "              dtype='datetime64[ns]', freq='D')"
      ]
     },
     "execution_count": 9,
     "metadata": {},
     "output_type": "execute_result"
    }
   ],
   "source": [
    "import pandas as pd\n",
    "date_range = pd.date_range(start='2020-01-01', end='2020-01-10')\n",
    "date_range"
   ]
  },
  {
   "cell_type": "code",
   "execution_count": 10,
   "id": "f21818d0",
   "metadata": {},
   "outputs": [
    {
     "name": "stdout",
     "output_type": "stream",
     "text": [
      "날짜 범위: DatetimeIndex(['2020-01-01', '2020-01-02', '2020-01-03', '2020-01-04',\n",
      "               '2020-01-05', '2020-01-06', '2020-01-07', '2020-01-08',\n",
      "               '2020-01-09', '2020-01-10'],\n",
      "              dtype='datetime64[ns]', freq='D')\n"
     ]
    }
   ],
   "source": [
    "# 날짜 범위 생성\n",
    "date_range = pd.date_range(start='2020-01-01', end='2020-01-10')\n",
    "\n",
    "print(\"날짜 범위:\", date_range)"
   ]
  },
  {
   "cell_type": "code",
   "execution_count": 11,
   "id": "05c2b7cf",
   "metadata": {},
   "outputs": [
    {
     "name": "stdout",
     "output_type": "stream",
     "text": [
      "날짜 객체: DatetimeIndex(['2020-01-01', '2020-01-05', '2020-01-10'], dtype='datetime64[ns]', freq=None)\n"
     ]
    }
   ],
   "source": [
    "# 날짜 변환\n",
    "dates = ['2020-01-01', '2020-01-05', '2020-01-10']\n",
    "date_objects = pd.to_datetime(dates)\n",
    "print(\"날짜 객체:\", date_objects)"
   ]
  },
  {
   "cell_type": "code",
   "execution_count": 16,
   "id": "45854ded",
   "metadata": {},
   "outputs": [
    {
     "name": "stdout",
     "output_type": "stream",
     "text": [
      "시계열 데이터: 2020-01-01    1\n",
      "2020-01-02    2\n",
      "2020-01-03    3\n",
      "dtype: int64\n"
     ]
    }
   ],
   "source": [
    "# 시계열 데이터 생성\n",
    "data = pd.Series([1, 2, 3], index=pd.to_datetime(['2020-01-01', '2020-01-02', '2020-01-03']))\n",
    "print(\"시계열 데이터:\", data)"
   ]
  },
  {
   "cell_type": "code",
   "execution_count": 14,
   "id": "dc1e8652",
   "metadata": {},
   "outputs": [
    {
     "name": "stdout",
     "output_type": "stream",
     "text": [
      "필터링된 데이터: 2020-01-01    1\n",
      "2020-01-02    2\n",
      "2020-01-03    3\n",
      "dtype: int64\n"
     ]
    }
   ],
   "source": [
    "# 날짜 기반 필터링\n",
    "filtered_data = data['2020-01-01':'2020-01-03']\n",
    "print(\"필터링된 데이터:\", filtered_data)"
   ]
  },
  {
   "cell_type": "code",
   "execution_count": 15,
   "id": "6b15c5ed",
   "metadata": {},
   "outputs": [
    {
     "name": "stdout",
     "output_type": "stream",
     "text": [
      "리샘플링된 데이터: 2020-01-31    2.0\n",
      "Freq: M, dtype: float64\n"
     ]
    }
   ],
   "source": [
    "# 시계열 데이터 리샘플링, 월별 평균\n",
    "resampled_data = data.resample('M').mean()\n",
    "print(\"리샘플링된 데이터:\", resampled_data)"
   ]
  },
  {
   "cell_type": "code",
   "execution_count": 4,
   "id": "d641bd3f",
   "metadata": {},
   "outputs": [
    {
     "name": "stdout",
     "output_type": "stream",
     "text": [
      "날짜 범위: DatetimeIndex(['2020-01-01', '2020-01-02', '2020-01-03', '2020-01-04',\n",
      "               '2020-01-05', '2020-01-06', '2020-01-07', '2020-01-08',\n",
      "               '2020-01-09', '2020-01-10'],\n",
      "              dtype='datetime64[ns]', freq='D')\n",
      "날짜 객체: DatetimeIndex(['2020-01-01', '2020-01-05', '2020-01-10'], dtype='datetime64[ns]', freq=None)\n",
      "시계열 데이터: 2020-01-01    1\n",
      "2020-01-02    2\n",
      "2020-01-03    3\n",
      "dtype: int64\n",
      "필터링된 데이터: 2020-01-01    1\n",
      "2020-01-02    2\n",
      "dtype: int64\n",
      "리샘플링된 데이터: 2020-01-31    2.0\n",
      "Freq: M, dtype: float64\n"
     ]
    }
   ],
   "source": [
    "import pandas as pd\n",
    "\n",
    "# 날짜 범위 생성\n",
    "date_range = pd.date_range(start='2020-01-01', end='2020-01-10')\n",
    "\n",
    "# 날짜 변환\n",
    "dates = ['2020-01-01', '2020-01-05', '2020-01-10']\n",
    "date_objects = pd.to_datetime(dates)\n",
    "\n",
    "# 시계열 데이터 생성\n",
    "data = pd.Series([1, 2, 3], index=pd.to_datetime(['2020-01-01', '2020-01-02', '2020-01-03']))\n",
    "\n",
    "# 날짜 기반 필터링\n",
    "filtered_data = data['2020-01-01':'2020-01-02']\n",
    "\n",
    "# 시계열 데이터 리샘플링\n",
    "resampled_data = data.resample('M').mean()\n",
    "\n",
    "print(\"날짜 범위:\", date_range)\n",
    "print(\"날짜 객체:\", date_objects)\n",
    "print(\"시계열 데이터:\", data)\n",
    "print(\"필터링된 데이터:\", filtered_data)\n",
    "print(\"리샘플링된 데이터:\", resampled_data)\n"
   ]
  },
  {
   "cell_type": "code",
   "execution_count": 7,
   "id": "37836a88",
   "metadata": {},
   "outputs": [
    {
     "name": "stdout",
     "output_type": "stream",
     "text": [
      "현재 날짜 및 시간: 2023-11-30 11:29:25.202088\n",
      "특정 날짜 및 시간: 2020-01-01 10:30:00 <class 'datetime.datetime'>\n"
     ]
    }
   ],
   "source": [
    "from datetime import datetime, timedelta\n",
    "\n",
    "# 현재 날짜 및 시간\n",
    "now = datetime.now()\n",
    "# 특정 날짜 및 시간 생성\n",
    "specific_date = datetime(2020, 1, 1, 10, 30)\n",
    "\n",
    "print(\"현재 날짜 및 시간:\", now)\n",
    "print(\"특정 날짜 및 시간:\", specific_date,type(specific_date))"
   ]
  },
  {
   "cell_type": "code",
   "execution_count": 8,
   "id": "42251ab4",
   "metadata": {},
   "outputs": [
    {
     "name": "stdout",
     "output_type": "stream",
     "text": [
      "포맷된 날짜: 2023-11-30 11:29:25\n",
      "파싱된 날짜: 2020-01-01 00:00:00\n"
     ]
    }
   ],
   "source": [
    "# 날짜 포맷팅\n",
    "formatted_date = now.strftime(\"%Y-%m-%d %H:%M:%S\")\n",
    "parsed_date = datetime.strptime(\"2020-01-01\", \"%Y-%m-%d\")\n",
    "print(\"포맷된 날짜:\", formatted_date)\n",
    "print(\"파싱된 날짜:\", parsed_date)"
   ]
  },
  {
   "cell_type": "code",
   "execution_count": 5,
   "id": "79013ce9",
   "metadata": {},
   "outputs": [
    {
     "name": "stdout",
     "output_type": "stream",
     "text": [
      "현재 날짜 및 시간: 2023-11-30 10:01:05.448387\n",
      "특정 날짜 및 시간: 2020-01-01 10:30:00\n",
      "날짜 간 차이: 1428 days, 23:31:05.448387\n",
      "포맷된 날짜: 2023-11-30 10:01:05\n",
      "파싱된 날짜: 2020-01-01 00:00:00\n",
      "년: 2023 월: 11 일: 30\n"
     ]
    }
   ],
   "source": [
    "from datetime import datetime, timedelta\n",
    "\n",
    "# 현재 날짜 및 시간\n",
    "now = datetime.now()\n",
    "\n",
    "# 특정 날짜 및 시간 생성\n",
    "specific_date = datetime(2020, 1, 1, 10, 30)\n",
    "\n",
    "# 날짜 간 차이 계산\n",
    "delta = now - specific_date\n",
    "\n",
    "# 날짜 포맷팅\n",
    "formatted_date = now.strftime(\"%Y-%m-%d %H:%M:%S\")\n",
    "parsed_date = datetime.strptime(\"2020-01-01\", \"%Y-%m-%d\")\n",
    "\n",
    "# 날짜와 시간 요소 접근\n",
    "year = now.year\n",
    "month = now.month\n",
    "day = now.day\n",
    "\n",
    "print(\"현재 날짜 및 시간:\", now)\n",
    "print(\"특정 날짜 및 시간:\", specific_date)\n",
    "print(\"날짜 간 차이:\", delta)\n",
    "print(\"포맷된 날짜:\", formatted_date)\n",
    "print(\"파싱된 날짜:\", parsed_date)\n",
    "print(\"년:\", year, \"월:\", month, \"일:\", day)\n"
   ]
  },
  {
   "cell_type": "markdown",
   "id": "803d4c82",
   "metadata": {
    "id": "803d4c82"
   },
   "source": [
    "## 파이썬 날짜, 시간 "
   ]
  },
  {
   "cell_type": "code",
   "execution_count": null,
   "id": "b1270a6f",
   "metadata": {
    "id": "b1270a6f",
    "outputId": "72f7335f-5539-477e-eecb-254ad212db9c"
   },
   "outputs": [
    {
     "name": "stdout",
     "output_type": "stream",
     "text": [
      "1656488601.817889 <class 'float'>\n",
      "1656488601.817889 <class 'str'>\n"
     ]
    }
   ],
   "source": [
    "# timestamp -> str\n",
    "import time\n",
    "\n",
    "t = time.time()\n",
    "print(t, type(t))\n",
    "s = str(time.time())\n",
    "print(s,type(s))"
   ]
  },
  {
   "cell_type": "code",
   "execution_count": null,
   "id": "90f3341d",
   "metadata": {
    "id": "90f3341d",
    "outputId": "609aa65a-47bd-407b-9f20-156c3c216032"
   },
   "outputs": [
    {
     "name": "stdout",
     "output_type": "stream",
     "text": [
      "2022-06-29 16:45:18.845439 <class 'datetime.datetime'>\n",
      "2022-06-29 16:45:18 <class 'str'>\n"
     ]
    }
   ],
   "source": [
    "# datetime - > str\n",
    "from datetime import datetime\n",
    "s = datetime.now()\n",
    "print(s,type(s))\n",
    "\n",
    "s1 = s.strftime('%Y-%m-%d %H:%M:%S')\n",
    "print(s1,type(s1))"
   ]
  },
  {
   "cell_type": "code",
   "execution_count": null,
   "id": "e2c9addf",
   "metadata": {
    "id": "e2c9addf",
    "outputId": "942116ef-0259-421d-feb9-adc923474643"
   },
   "outputs": [
    {
     "name": "stdout",
     "output_type": "stream",
     "text": [
      "2021-07-20 11:13:58 <class 'str'>\n",
      "2021-07-20 11:13:58 <class 'datetime.datetime'>\n"
     ]
    }
   ],
   "source": [
    "# str -> datetime\n",
    "from datetime import datetime\n",
    "s = '2021-07-20 11:13:58'\n",
    "print(s,type(s))\n",
    "d = datetime.strptime(s,'%Y-%m-%d %H:%M:%S')\n",
    "print(d,type(d))"
   ]
  },
  {
   "cell_type": "code",
   "execution_count": null,
   "id": "12245ebb",
   "metadata": {
    "id": "12245ebb",
    "outputId": "161e25f7-5dd2-42eb-c5dc-58fce9d591df"
   },
   "outputs": [
    {
     "name": "stdout",
     "output_type": "stream",
     "text": [
      "1626747238.0 <class 'float'>\n"
     ]
    }
   ],
   "source": [
    "# str -> datetime -> timestamp\n",
    "s = '2021-07-20 11:13:58'\n",
    "timestamp = time.mktime(datetime.strptime(s,'%Y-%m-%d %H:%M:%S').timetuple())\n",
    "print(timestamp,type(timestamp))"
   ]
  },
  {
   "cell_type": "code",
   "execution_count": null,
   "id": "5f5fd3f6",
   "metadata": {
    "id": "5f5fd3f6",
    "outputId": "6e5c5b06-57f2-4f62-f9a8-f44ccee00538"
   },
   "outputs": [
    {
     "name": "stdout",
     "output_type": "stream",
     "text": [
      "2022-06-29 16:56:10.197271 <class 'datetime.datetime'>\n",
      "1656489370.0 <class 'float'>\n"
     ]
    }
   ],
   "source": [
    "# datetime -> timestamp\n",
    "d = datetime.today()\n",
    "print(d,type(d))\n",
    "timestamp = time.mktime(d.timetuple())\n",
    "print(timestamp, type(timestamp))"
   ]
  },
  {
   "cell_type": "code",
   "execution_count": null,
   "id": "ad2c1ae2",
   "metadata": {
    "id": "ad2c1ae2",
    "outputId": "69c9ee51-934e-4fee-8bb6-a41fc8ee214a"
   },
   "outputs": [
    {
     "name": "stdout",
     "output_type": "stream",
     "text": [
      "1656489426.2012503 <class 'float'>\n",
      "2022-06-29 16:57:06.201250 <class 'datetime.datetime'>\n"
     ]
    }
   ],
   "source": [
    "# timestamp -> datetime\n",
    "t = time.time()\n",
    "print(t,type(t))\n",
    "d = datetime.fromtimestamp(t)\n",
    "print(d,type(d))"
   ]
  },
  {
   "cell_type": "code",
   "execution_count": null,
   "id": "4c8ec9a5",
   "metadata": {
    "id": "4c8ec9a5",
    "outputId": "b4257855-2ec9-4227-a0dc-b87a715d6bc2"
   },
   "outputs": [
    {
     "name": "stdout",
     "output_type": "stream",
     "text": [
      "-365 days, 0:00:00\n"
     ]
    },
    {
     "data": {
      "text/plain": [
       "datetime.datetime(2021, 6, 29, 16, 50, 47, 774629)"
      ]
     },
     "execution_count": 9,
     "metadata": {},
     "output_type": "execute_result"
    }
   ],
   "source": [
    "# 1년전 datetime 값\n",
    "from datetime import timedelta\n",
    "import time\n",
    "\n",
    "datetime_now = datetime.now()\n",
    "delta_datetime = timedelta(days=-365)\n",
    "print(delta_datetime)\n",
    "datetime_now + delta_datetime"
   ]
  },
  {
   "cell_type": "code",
   "execution_count": null,
   "id": "885bcb5d",
   "metadata": {
    "id": "885bcb5d",
    "outputId": "4f5168fa-09f5-40e3-cbc2-e6e109933294"
   },
   "outputs": [
    {
     "name": "stdout",
     "output_type": "stream",
     "text": [
      "2018-03-01 00:00:00\n",
      "2018-03-31 00:00:00\n"
     ]
    },
    {
     "data": {
      "text/plain": [
       "datetime.timedelta(days=30)"
      ]
     },
     "execution_count": 10,
     "metadata": {},
     "output_type": "execute_result"
    }
   ],
   "source": [
    "# 두 날짜간의 일수 구하기\n",
    "since_timestamp = datetime.strptime('20180301','%Y%m%d')\n",
    "until_timestamp = datetime.strptime('20180331','%Y%m%d')\n",
    "print(since_timestamp)\n",
    "print(until_timestamp)\n",
    "result = until_timestamp - since_timestamp\n",
    "result"
   ]
  },
  {
   "cell_type": "code",
   "execution_count": null,
   "id": "a37d566a",
   "metadata": {
    "id": "a37d566a",
    "outputId": "f3a1bb30-8528-43e9-c604-0af1446289ce"
   },
   "outputs": [
    {
     "data": {
      "text/plain": [
       "'TUE'"
      ]
     },
     "execution_count": 13,
     "metadata": {},
     "output_type": "execute_result"
    }
   ],
   "source": [
    "# 특정일 구하기\n",
    "import datetime\n",
    "def get_yoil(y,m,d):\n",
    "    days = ['MON','TUE','WED','THU','FRI','SAT','SUN']\n",
    "    return days[datetime.date(y,m,d).weekday()]\n",
    "get_yoil(2021,7,20)"
   ]
  },
  {
   "cell_type": "markdown",
   "id": "txWb_krMGn1g",
   "metadata": {
    "id": "txWb_krMGn1g"
   },
   "source": [
    "Pandas로 날짜를 다루는 방법은 크게 3가지로 나눌 수 있습니다.\n",
    "\n",
    "- 날짜 생성하기\n",
    "- 날짜 범위 생성하기\n",
    "- 날짜 데이터 다루기"
   ]
  },
  {
   "cell_type": "code",
   "execution_count": null,
   "id": "sU7yH-FnGkZn",
   "metadata": {
    "colab": {
     "base_uri": "https://localhost:8080/"
    },
    "executionInfo": {
     "elapsed": 1178,
     "status": "ok",
     "timestamp": 1680441333114,
     "user": {
      "displayName": "kevin park",
      "userId": "02703084888761299921"
     },
     "user_tz": -540
    },
    "id": "sU7yH-FnGkZn",
    "outputId": "45e832a7-9384-4efe-eb23-39dc4c70662c"
   },
   "outputs": [
    {
     "name": "stdout",
     "output_type": "stream",
     "text": [
      "2022-04-02 00:00:00\n"
     ]
    }
   ],
   "source": [
    "import pandas as pd\n",
    "\n",
    "date = pd.to_datetime('2022-04-02')\n",
    "print(date)"
   ]
  },
  {
   "cell_type": "code",
   "execution_count": null,
   "id": "DggWmO0SG4Gl",
   "metadata": {
    "colab": {
     "base_uri": "https://localhost:8080/"
    },
    "executionInfo": {
     "elapsed": 9,
     "status": "ok",
     "timestamp": 1680441341715,
     "user": {
      "displayName": "kevin park",
      "userId": "02703084888761299921"
     },
     "user_tz": -540
    },
    "id": "DggWmO0SG4Gl",
    "outputId": "c925eca1-29c8-4981-aea8-831d185f9e50"
   },
   "outputs": [
    {
     "name": "stdout",
     "output_type": "stream",
     "text": [
      "DatetimeIndex(['2022-01-01', '2022-01-02', '2022-01-03', '2022-01-04',\n",
      "               '2022-01-05', '2022-01-06', '2022-01-07', '2022-01-08',\n",
      "               '2022-01-09', '2022-01-10',\n",
      "               ...\n",
      "               '2022-12-22', '2022-12-23', '2022-12-24', '2022-12-25',\n",
      "               '2022-12-26', '2022-12-27', '2022-12-28', '2022-12-29',\n",
      "               '2022-12-30', '2022-12-31'],\n",
      "              dtype='datetime64[ns]', length=365, freq='D')\n"
     ]
    }
   ],
   "source": [
    "import pandas as pd\n",
    "\n",
    "dates = pd.date_range(start='2022-01-01', end='2022-12-31')\n",
    "print(dates)"
   ]
  },
  {
   "cell_type": "code",
   "execution_count": null,
   "id": "eNbaAteFG6dn",
   "metadata": {
    "colab": {
     "base_uri": "https://localhost:8080/"
    },
    "executionInfo": {
     "elapsed": 403,
     "status": "ok",
     "timestamp": 1680441350968,
     "user": {
      "displayName": "kevin park",
      "userId": "02703084888761299921"
     },
     "user_tz": -540
    },
    "id": "eNbaAteFG6dn",
    "outputId": "af9b2457-5719-46d0-ff12-43a7b41f84a1"
   },
   "outputs": [
    {
     "name": "stdout",
     "output_type": "stream",
     "text": [
      "        date  value\n",
      "0 2022-01-01      1\n",
      "1 2022-01-02      2\n",
      "2 2022-01-03      3\n"
     ]
    }
   ],
   "source": [
    "import pandas as pd\n",
    "\n",
    "df = pd.DataFrame({'date': ['2022-01-01', '2022-01-02', '2022-01-03'], 'value': [1, 2, 3]})\n",
    "df['date'] = pd.to_datetime(df['date'])\n",
    "print(df)"
   ]
  },
  {
   "cell_type": "code",
   "execution_count": null,
   "id": "e5dc041c",
   "metadata": {
    "id": "e5dc041c",
    "outputId": "52e7f5db-a087-4778-f455-7d95e5e13b10"
   },
   "outputs": [
    {
     "data": {
      "text/plain": [
       "Timestamp('2021-07-20 03:20:38.713432832')"
      ]
     },
     "execution_count": 14,
     "metadata": {},
     "output_type": "execute_result"
    }
   ],
   "source": [
    "# 판다스 to_datetime\n",
    "pd.to_datetime(1626751238.7134328,unit='s')"
   ]
  },
  {
   "cell_type": "code",
   "execution_count": 1,
   "id": "2a1e8c56",
   "metadata": {
    "colab": {
     "base_uri": "https://localhost:8080/"
    },
    "executionInfo": {
     "elapsed": 855,
     "status": "ok",
     "timestamp": 1680488436281,
     "user": {
      "displayName": "kevin park",
      "userId": "02703084888761299921"
     },
     "user_tz": -540
    },
    "id": "2a1e8c56",
    "outputId": "be303565-2d60-43f2-8a41-1e713d5a15a8"
   },
   "outputs": [
    {
     "name": "stdout",
     "output_type": "stream",
     "text": [
      "2021-07-20 11:25:31+09:00 <class 'pandas._libs.tslibs.timestamps.Timestamp'>\n"
     ]
    }
   ],
   "source": [
    "import pandas as pd\n",
    "date = pd.Timestamp(1626747931.0,unit='s',tz='Asia/Seoul')\n",
    "print(date,type(date))"
   ]
  },
  {
   "cell_type": "code",
   "execution_count": 29,
   "id": "f7a69067",
   "metadata": {
    "id": "f7a69067",
    "outputId": "e7b2981e-1205-46ad-a747-e9f0d57879a8"
   },
   "outputs": [
    {
     "data": {
      "text/html": [
       "<div>\n",
       "<style scoped>\n",
       "    .dataframe tbody tr th:only-of-type {\n",
       "        vertical-align: middle;\n",
       "    }\n",
       "\n",
       "    .dataframe tbody tr th {\n",
       "        vertical-align: top;\n",
       "    }\n",
       "\n",
       "    .dataframe thead th {\n",
       "        text-align: right;\n",
       "    }\n",
       "</style>\n",
       "<table border=\"1\" class=\"dataframe\">\n",
       "  <thead>\n",
       "    <tr style=\"text-align: right;\">\n",
       "      <th></th>\n",
       "      <th>Date</th>\n",
       "      <th>Close</th>\n",
       "      <th>Start</th>\n",
       "      <th>High</th>\n",
       "      <th>Low</th>\n",
       "      <th>Volume</th>\n",
       "    </tr>\n",
       "  </thead>\n",
       "  <tbody>\n",
       "    <tr>\n",
       "      <th>0</th>\n",
       "      <td>2018-07-02</td>\n",
       "      <td>10100</td>\n",
       "      <td>10850</td>\n",
       "      <td>10900</td>\n",
       "      <td>10000</td>\n",
       "      <td>137977</td>\n",
       "    </tr>\n",
       "    <tr>\n",
       "      <th>1</th>\n",
       "      <td>2018-06-29</td>\n",
       "      <td>10700</td>\n",
       "      <td>10550</td>\n",
       "      <td>10900</td>\n",
       "      <td>9990</td>\n",
       "      <td>170253</td>\n",
       "    </tr>\n",
       "    <tr>\n",
       "      <th>2</th>\n",
       "      <td>2018-06-28</td>\n",
       "      <td>10400</td>\n",
       "      <td>10900</td>\n",
       "      <td>10950</td>\n",
       "      <td>10150</td>\n",
       "      <td>155769</td>\n",
       "    </tr>\n",
       "    <tr>\n",
       "      <th>3</th>\n",
       "      <td>2018-06-27</td>\n",
       "      <td>10900</td>\n",
       "      <td>10800</td>\n",
       "      <td>11050</td>\n",
       "      <td>10500</td>\n",
       "      <td>133548</td>\n",
       "    </tr>\n",
       "    <tr>\n",
       "      <th>4</th>\n",
       "      <td>2018-06-26</td>\n",
       "      <td>10800</td>\n",
       "      <td>10900</td>\n",
       "      <td>11000</td>\n",
       "      <td>10700</td>\n",
       "      <td>63039</td>\n",
       "    </tr>\n",
       "  </tbody>\n",
       "</table>\n",
       "</div>"
      ],
      "text/plain": [
       "         Date  Close  Start   High    Low  Volume\n",
       "0  2018-07-02  10100  10850  10900  10000  137977\n",
       "1  2018-06-29  10700  10550  10900   9990  170253\n",
       "2  2018-06-28  10400  10900  10950  10150  155769\n",
       "3  2018-06-27  10900  10800  11050  10500  133548\n",
       "4  2018-06-26  10800  10900  11000  10700   63039"
      ]
     },
     "execution_count": 29,
     "metadata": {},
     "output_type": "execute_result"
    }
   ],
   "source": [
    "df = pd.read_csv('dataset/stock-data.csv')\n",
    "df.head()"
   ]
  },
  {
   "cell_type": "code",
   "execution_count": 30,
   "id": "8099cb81",
   "metadata": {
    "id": "8099cb81",
    "outputId": "1826bf8f-95dd-4818-c1ec-f19736719dda"
   },
   "outputs": [
    {
     "name": "stdout",
     "output_type": "stream",
     "text": [
      "<class 'pandas.core.frame.DataFrame'>\n",
      "RangeIndex: 20 entries, 0 to 19\n",
      "Data columns (total 6 columns):\n",
      " #   Column  Non-Null Count  Dtype \n",
      "---  ------  --------------  ----- \n",
      " 0   Date    20 non-null     object\n",
      " 1   Close   20 non-null     int64 \n",
      " 2   Start   20 non-null     int64 \n",
      " 3   High    20 non-null     int64 \n",
      " 4   Low     20 non-null     int64 \n",
      " 5   Volume  20 non-null     int64 \n",
      "dtypes: int64(5), object(1)\n",
      "memory usage: 1.1+ KB\n"
     ]
    }
   ],
   "source": [
    "df.info()"
   ]
  },
  {
   "cell_type": "code",
   "execution_count": 31,
   "id": "48ac62ee",
   "metadata": {
    "id": "48ac62ee",
    "outputId": "03145501-3af1-4950-92a7-7b5491abb9a3"
   },
   "outputs": [
    {
     "name": "stdout",
     "output_type": "stream",
     "text": [
      "<class 'pandas.core.frame.DataFrame'>\n",
      "RangeIndex: 20 entries, 0 to 19\n",
      "Data columns (total 7 columns):\n",
      " #   Column    Non-Null Count  Dtype         \n",
      "---  ------    --------------  -----         \n",
      " 0   Date      20 non-null     object        \n",
      " 1   Close     20 non-null     int64         \n",
      " 2   Start     20 non-null     int64         \n",
      " 3   High      20 non-null     int64         \n",
      " 4   Low       20 non-null     int64         \n",
      " 5   Volume    20 non-null     int64         \n",
      " 6   New_Date  20 non-null     datetime64[ns]\n",
      "dtypes: datetime64[ns](1), int64(5), object(1)\n",
      "memory usage: 1.2+ KB\n"
     ]
    }
   ],
   "source": [
    "df['New_Date'] = pd.to_datetime(df['Date'])\n",
    "df.info()"
   ]
  },
  {
   "cell_type": "code",
   "execution_count": 32,
   "id": "25d8fa11",
   "metadata": {
    "id": "25d8fa11",
    "outputId": "89bfd21b-1e54-434e-d945-90bcd3d2aa44"
   },
   "outputs": [
    {
     "data": {
      "text/html": [
       "<div>\n",
       "<style scoped>\n",
       "    .dataframe tbody tr th:only-of-type {\n",
       "        vertical-align: middle;\n",
       "    }\n",
       "\n",
       "    .dataframe tbody tr th {\n",
       "        vertical-align: top;\n",
       "    }\n",
       "\n",
       "    .dataframe thead th {\n",
       "        text-align: right;\n",
       "    }\n",
       "</style>\n",
       "<table border=\"1\" class=\"dataframe\">\n",
       "  <thead>\n",
       "    <tr style=\"text-align: right;\">\n",
       "      <th></th>\n",
       "      <th>Close</th>\n",
       "      <th>Start</th>\n",
       "      <th>High</th>\n",
       "      <th>Low</th>\n",
       "      <th>Volume</th>\n",
       "      <th>New_Date</th>\n",
       "      <th>year</th>\n",
       "      <th>month</th>\n",
       "      <th>day</th>\n",
       "    </tr>\n",
       "  </thead>\n",
       "  <tbody>\n",
       "    <tr>\n",
       "      <th>0</th>\n",
       "      <td>10100</td>\n",
       "      <td>10850</td>\n",
       "      <td>10900</td>\n",
       "      <td>10000</td>\n",
       "      <td>137977</td>\n",
       "      <td>2018-07-02</td>\n",
       "      <td>2018</td>\n",
       "      <td>7</td>\n",
       "      <td>2</td>\n",
       "    </tr>\n",
       "    <tr>\n",
       "      <th>1</th>\n",
       "      <td>10700</td>\n",
       "      <td>10550</td>\n",
       "      <td>10900</td>\n",
       "      <td>9990</td>\n",
       "      <td>170253</td>\n",
       "      <td>2018-06-29</td>\n",
       "      <td>2018</td>\n",
       "      <td>6</td>\n",
       "      <td>29</td>\n",
       "    </tr>\n",
       "    <tr>\n",
       "      <th>2</th>\n",
       "      <td>10400</td>\n",
       "      <td>10900</td>\n",
       "      <td>10950</td>\n",
       "      <td>10150</td>\n",
       "      <td>155769</td>\n",
       "      <td>2018-06-28</td>\n",
       "      <td>2018</td>\n",
       "      <td>6</td>\n",
       "      <td>28</td>\n",
       "    </tr>\n",
       "    <tr>\n",
       "      <th>3</th>\n",
       "      <td>10900</td>\n",
       "      <td>10800</td>\n",
       "      <td>11050</td>\n",
       "      <td>10500</td>\n",
       "      <td>133548</td>\n",
       "      <td>2018-06-27</td>\n",
       "      <td>2018</td>\n",
       "      <td>6</td>\n",
       "      <td>27</td>\n",
       "    </tr>\n",
       "    <tr>\n",
       "      <th>4</th>\n",
       "      <td>10800</td>\n",
       "      <td>10900</td>\n",
       "      <td>11000</td>\n",
       "      <td>10700</td>\n",
       "      <td>63039</td>\n",
       "      <td>2018-06-26</td>\n",
       "      <td>2018</td>\n",
       "      <td>6</td>\n",
       "      <td>26</td>\n",
       "    </tr>\n",
       "  </tbody>\n",
       "</table>\n",
       "</div>"
      ],
      "text/plain": [
       "   Close  Start   High    Low  Volume   New_Date  year  month  day\n",
       "0  10100  10850  10900  10000  137977 2018-07-02  2018      7    2\n",
       "1  10700  10550  10900   9990  170253 2018-06-29  2018      6   29\n",
       "2  10400  10900  10950  10150  155769 2018-06-28  2018      6   28\n",
       "3  10900  10800  11050  10500  133548 2018-06-27  2018      6   27\n",
       "4  10800  10900  11000  10700   63039 2018-06-26  2018      6   26"
      ]
     },
     "execution_count": 32,
     "metadata": {},
     "output_type": "execute_result"
    }
   ],
   "source": [
    "df.drop('Date',axis=1,inplace=True)\n",
    "df['year'] = df['New_Date'].dt.year\n",
    "df['month'] = df['New_Date'].dt.month\n",
    "df['day'] = df['New_Date'].dt.day\n",
    "df.head()"
   ]
  },
  {
   "cell_type": "code",
   "execution_count": 20,
   "id": "c3542e68",
   "metadata": {
    "id": "c3542e68",
    "outputId": "d9155beb-3e27-4cdf-d7c3-1a1b65082a12"
   },
   "outputs": [
    {
     "data": {
      "text/html": [
       "<div>\n",
       "<style scoped>\n",
       "    .dataframe tbody tr th:only-of-type {\n",
       "        vertical-align: middle;\n",
       "    }\n",
       "\n",
       "    .dataframe tbody tr th {\n",
       "        vertical-align: top;\n",
       "    }\n",
       "\n",
       "    .dataframe thead th {\n",
       "        text-align: right;\n",
       "    }\n",
       "</style>\n",
       "<table border=\"1\" class=\"dataframe\">\n",
       "  <thead>\n",
       "    <tr style=\"text-align: right;\">\n",
       "      <th></th>\n",
       "      <th>Close</th>\n",
       "      <th>Start</th>\n",
       "      <th>High</th>\n",
       "      <th>Low</th>\n",
       "      <th>Volume</th>\n",
       "      <th>year</th>\n",
       "      <th>month</th>\n",
       "      <th>day</th>\n",
       "    </tr>\n",
       "    <tr>\n",
       "      <th>New_Date</th>\n",
       "      <th></th>\n",
       "      <th></th>\n",
       "      <th></th>\n",
       "      <th></th>\n",
       "      <th></th>\n",
       "      <th></th>\n",
       "      <th></th>\n",
       "      <th></th>\n",
       "    </tr>\n",
       "  </thead>\n",
       "  <tbody>\n",
       "    <tr>\n",
       "      <th>2018-07-02</th>\n",
       "      <td>10100</td>\n",
       "      <td>10850</td>\n",
       "      <td>10900</td>\n",
       "      <td>10000</td>\n",
       "      <td>137977</td>\n",
       "      <td>2018</td>\n",
       "      <td>7</td>\n",
       "      <td>2</td>\n",
       "    </tr>\n",
       "    <tr>\n",
       "      <th>2018-06-29</th>\n",
       "      <td>10700</td>\n",
       "      <td>10550</td>\n",
       "      <td>10900</td>\n",
       "      <td>9990</td>\n",
       "      <td>170253</td>\n",
       "      <td>2018</td>\n",
       "      <td>6</td>\n",
       "      <td>29</td>\n",
       "    </tr>\n",
       "    <tr>\n",
       "      <th>2018-06-28</th>\n",
       "      <td>10400</td>\n",
       "      <td>10900</td>\n",
       "      <td>10950</td>\n",
       "      <td>10150</td>\n",
       "      <td>155769</td>\n",
       "      <td>2018</td>\n",
       "      <td>6</td>\n",
       "      <td>28</td>\n",
       "    </tr>\n",
       "    <tr>\n",
       "      <th>2018-06-27</th>\n",
       "      <td>10900</td>\n",
       "      <td>10800</td>\n",
       "      <td>11050</td>\n",
       "      <td>10500</td>\n",
       "      <td>133548</td>\n",
       "      <td>2018</td>\n",
       "      <td>6</td>\n",
       "      <td>27</td>\n",
       "    </tr>\n",
       "    <tr>\n",
       "      <th>2018-06-26</th>\n",
       "      <td>10800</td>\n",
       "      <td>10900</td>\n",
       "      <td>11000</td>\n",
       "      <td>10700</td>\n",
       "      <td>63039</td>\n",
       "      <td>2018</td>\n",
       "      <td>6</td>\n",
       "      <td>26</td>\n",
       "    </tr>\n",
       "  </tbody>\n",
       "</table>\n",
       "</div>"
      ],
      "text/plain": [
       "            Close  Start   High    Low  Volume  year  month  day\n",
       "New_Date                                                        \n",
       "2018-07-02  10100  10850  10900  10000  137977  2018      7    2\n",
       "2018-06-29  10700  10550  10900   9990  170253  2018      6   29\n",
       "2018-06-28  10400  10900  10950  10150  155769  2018      6   28\n",
       "2018-06-27  10900  10800  11050  10500  133548  2018      6   27\n",
       "2018-06-26  10800  10900  11000  10700   63039  2018      6   26"
      ]
     },
     "execution_count": 20,
     "metadata": {},
     "output_type": "execute_result"
    }
   ],
   "source": [
    "df.set_index('New_Date',inplace=True)\n",
    "df.head()"
   ]
  },
  {
   "cell_type": "code",
   "execution_count": 23,
   "id": "d680b13d",
   "metadata": {
    "id": "d680b13d",
    "outputId": "ab69112e-d7e9-4d8c-fe66-cbd2f14178bb"
   },
   "outputs": [
    {
     "data": {
      "text/plain": [
       "DatetimeIndex(['2018-07-02', '2018-06-29', '2018-06-28', '2018-06-27',\n",
       "               '2018-06-26', '2018-06-25', '2018-06-22', '2018-06-21',\n",
       "               '2018-06-20', '2018-06-19', '2018-06-18', '2018-06-15',\n",
       "               '2018-06-14', '2018-06-12', '2018-06-11', '2018-06-08',\n",
       "               '2018-06-07', '2018-06-05', '2018-06-04', '2018-06-01'],\n",
       "              dtype='datetime64[ns]', name='New_Date', freq=None)"
      ]
     },
     "execution_count": 23,
     "metadata": {},
     "output_type": "execute_result"
    }
   ],
   "source": [
    "df.index"
   ]
  },
  {
   "cell_type": "code",
   "execution_count": 25,
   "id": "01538446",
   "metadata": {},
   "outputs": [],
   "source": [
    "df.sort_index(inplace=True)"
   ]
  },
  {
   "cell_type": "code",
   "execution_count": 26,
   "id": "00b58bf2",
   "metadata": {
    "id": "00b58bf2",
    "outputId": "21388d37-632b-4732-ca0e-918d06a3895c"
   },
   "outputs": [
    {
     "data": {
      "text/html": [
       "<div>\n",
       "<style scoped>\n",
       "    .dataframe tbody tr th:only-of-type {\n",
       "        vertical-align: middle;\n",
       "    }\n",
       "\n",
       "    .dataframe tbody tr th {\n",
       "        vertical-align: top;\n",
       "    }\n",
       "\n",
       "    .dataframe thead th {\n",
       "        text-align: right;\n",
       "    }\n",
       "</style>\n",
       "<table border=\"1\" class=\"dataframe\">\n",
       "  <thead>\n",
       "    <tr style=\"text-align: right;\">\n",
       "      <th></th>\n",
       "      <th>Close</th>\n",
       "      <th>Start</th>\n",
       "      <th>High</th>\n",
       "      <th>Low</th>\n",
       "      <th>Volume</th>\n",
       "      <th>year</th>\n",
       "      <th>month</th>\n",
       "      <th>day</th>\n",
       "    </tr>\n",
       "    <tr>\n",
       "      <th>New_Date</th>\n",
       "      <th></th>\n",
       "      <th></th>\n",
       "      <th></th>\n",
       "      <th></th>\n",
       "      <th></th>\n",
       "      <th></th>\n",
       "      <th></th>\n",
       "      <th></th>\n",
       "    </tr>\n",
       "  </thead>\n",
       "  <tbody>\n",
       "    <tr>\n",
       "      <th>2018-06-26</th>\n",
       "      <td>10800</td>\n",
       "      <td>10900</td>\n",
       "      <td>11000</td>\n",
       "      <td>10700</td>\n",
       "      <td>63039</td>\n",
       "      <td>2018</td>\n",
       "      <td>6</td>\n",
       "      <td>26</td>\n",
       "    </tr>\n",
       "    <tr>\n",
       "      <th>2018-06-27</th>\n",
       "      <td>10900</td>\n",
       "      <td>10800</td>\n",
       "      <td>11050</td>\n",
       "      <td>10500</td>\n",
       "      <td>133548</td>\n",
       "      <td>2018</td>\n",
       "      <td>6</td>\n",
       "      <td>27</td>\n",
       "    </tr>\n",
       "    <tr>\n",
       "      <th>2018-06-28</th>\n",
       "      <td>10400</td>\n",
       "      <td>10900</td>\n",
       "      <td>10950</td>\n",
       "      <td>10150</td>\n",
       "      <td>155769</td>\n",
       "      <td>2018</td>\n",
       "      <td>6</td>\n",
       "      <td>28</td>\n",
       "    </tr>\n",
       "    <tr>\n",
       "      <th>2018-06-29</th>\n",
       "      <td>10700</td>\n",
       "      <td>10550</td>\n",
       "      <td>10900</td>\n",
       "      <td>9990</td>\n",
       "      <td>170253</td>\n",
       "      <td>2018</td>\n",
       "      <td>6</td>\n",
       "      <td>29</td>\n",
       "    </tr>\n",
       "  </tbody>\n",
       "</table>\n",
       "</div>"
      ],
      "text/plain": [
       "            Close  Start   High    Low  Volume  year  month  day\n",
       "New_Date                                                        \n",
       "2018-06-26  10800  10900  11000  10700   63039  2018      6   26\n",
       "2018-06-27  10900  10800  11050  10500  133548  2018      6   27\n",
       "2018-06-28  10400  10900  10950  10150  155769  2018      6   28\n",
       "2018-06-29  10700  10550  10900   9990  170253  2018      6   29"
      ]
     },
     "execution_count": 26,
     "metadata": {},
     "output_type": "execute_result"
    }
   ],
   "source": [
    "df_ymd_range = df.loc['2018-06-26':'2018-06-29']\n",
    "df_ymd_range"
   ]
  },
  {
   "cell_type": "code",
   "execution_count": null,
   "id": "65e8abf8",
   "metadata": {
    "id": "65e8abf8",
    "outputId": "fed2a954-6d3a-485f-bca2-653a94f73c45"
   },
   "outputs": [
    {
     "data": {
      "text/html": [
       "<div>\n",
       "<style scoped>\n",
       "    .dataframe tbody tr th:only-of-type {\n",
       "        vertical-align: middle;\n",
       "    }\n",
       "\n",
       "    .dataframe tbody tr th {\n",
       "        vertical-align: top;\n",
       "    }\n",
       "\n",
       "    .dataframe thead th {\n",
       "        text-align: right;\n",
       "    }\n",
       "</style>\n",
       "<table border=\"1\" class=\"dataframe\">\n",
       "  <thead>\n",
       "    <tr style=\"text-align: right;\">\n",
       "      <th></th>\n",
       "      <th>Close</th>\n",
       "      <th>Start</th>\n",
       "      <th>High</th>\n",
       "      <th>Low</th>\n",
       "      <th>Volume</th>\n",
       "      <th>year</th>\n",
       "      <th>month</th>\n",
       "      <th>day</th>\n",
       "    </tr>\n",
       "    <tr>\n",
       "      <th>New_Date</th>\n",
       "      <th></th>\n",
       "      <th></th>\n",
       "      <th></th>\n",
       "      <th></th>\n",
       "      <th></th>\n",
       "      <th></th>\n",
       "      <th></th>\n",
       "      <th></th>\n",
       "    </tr>\n",
       "  </thead>\n",
       "  <tbody>\n",
       "  </tbody>\n",
       "</table>\n",
       "</div>"
      ],
      "text/plain": [
       "Empty DataFrame\n",
       "Columns: [Close, Start, High, Low, Volume, year, month, day]\n",
       "Index: []"
      ]
     },
     "execution_count": 92,
     "metadata": {},
     "output_type": "execute_result"
    }
   ],
   "source": [
    "df_ymd_range = df['2018-06-26':'2018-06-29']\n",
    "df_ymd_range"
   ]
  },
  {
   "cell_type": "code",
   "execution_count": 27,
   "id": "2bb3de64",
   "metadata": {
    "id": "2bb3de64",
    "outputId": "807cce93-d9be-479a-c32d-d0e9af0c01a5"
   },
   "outputs": [
    {
     "data": {
      "text/html": [
       "<div>\n",
       "<style scoped>\n",
       "    .dataframe tbody tr th:only-of-type {\n",
       "        vertical-align: middle;\n",
       "    }\n",
       "\n",
       "    .dataframe tbody tr th {\n",
       "        vertical-align: top;\n",
       "    }\n",
       "\n",
       "    .dataframe thead th {\n",
       "        text-align: right;\n",
       "    }\n",
       "</style>\n",
       "<table border=\"1\" class=\"dataframe\">\n",
       "  <thead>\n",
       "    <tr style=\"text-align: right;\">\n",
       "      <th></th>\n",
       "      <th>Start</th>\n",
       "      <th>High</th>\n",
       "    </tr>\n",
       "    <tr>\n",
       "      <th>New_Date</th>\n",
       "      <th></th>\n",
       "      <th></th>\n",
       "    </tr>\n",
       "  </thead>\n",
       "  <tbody>\n",
       "    <tr>\n",
       "      <th>2018-07-02</th>\n",
       "      <td>10850</td>\n",
       "      <td>10900</td>\n",
       "    </tr>\n",
       "  </tbody>\n",
       "</table>\n",
       "</div>"
      ],
      "text/plain": [
       "            Start   High\n",
       "New_Date                \n",
       "2018-07-02  10850  10900"
      ]
     },
     "execution_count": 27,
     "metadata": {},
     "output_type": "execute_result"
    }
   ],
   "source": [
    "df_ym = df.loc['2018-07','Start':'High']\n",
    "df_ym"
   ]
  },
  {
   "cell_type": "code",
   "execution_count": 33,
   "id": "01234296",
   "metadata": {
    "id": "01234296",
    "outputId": "89d485fb-d875-4e13-9e82-48c8d74a6e0c"
   },
   "outputs": [
    {
     "data": {
      "text/plain": [
       "2011-01-02    1.618404\n",
       "2011-01-05    0.345564\n",
       "2011-01-07    0.039843\n",
       "2011-01-08   -0.570340\n",
       "2011-01-10    0.694781\n",
       "2011-01-12    1.193087\n",
       "dtype: float64"
      ]
     },
     "execution_count": 33,
     "metadata": {},
     "output_type": "execute_result"
    }
   ],
   "source": [
    "import numpy as np\n",
    "import pandas as pd\n",
    "# Time Series Basics\n",
    "from datetime import datetime\n",
    "dates = [datetime(2011,1,2),datetime(2011,1,5),\n",
    "        datetime(2011,1,7),datetime(2011,1,8),\n",
    "        datetime(2011,1,10),datetime(2011,1,12)]\n",
    "ts = pd.Series(np.random.randn(6),index=dates)\n",
    "ts"
   ]
  },
  {
   "cell_type": "code",
   "execution_count": 34,
   "id": "fab86ccb",
   "metadata": {},
   "outputs": [
    {
     "data": {
      "text/html": [
       "<div>\n",
       "<style scoped>\n",
       "    .dataframe tbody tr th:only-of-type {\n",
       "        vertical-align: middle;\n",
       "    }\n",
       "\n",
       "    .dataframe tbody tr th {\n",
       "        vertical-align: top;\n",
       "    }\n",
       "\n",
       "    .dataframe thead th {\n",
       "        text-align: right;\n",
       "    }\n",
       "</style>\n",
       "<table border=\"1\" class=\"dataframe\">\n",
       "  <thead>\n",
       "    <tr style=\"text-align: right;\">\n",
       "      <th></th>\n",
       "      <th>Value</th>\n",
       "    </tr>\n",
       "  </thead>\n",
       "  <tbody>\n",
       "    <tr>\n",
       "      <th>2011-01-02</th>\n",
       "      <td>1.618404</td>\n",
       "    </tr>\n",
       "    <tr>\n",
       "      <th>2011-01-05</th>\n",
       "      <td>0.345564</td>\n",
       "    </tr>\n",
       "    <tr>\n",
       "      <th>2011-01-07</th>\n",
       "      <td>0.039843</td>\n",
       "    </tr>\n",
       "    <tr>\n",
       "      <th>2011-01-08</th>\n",
       "      <td>-0.570340</td>\n",
       "    </tr>\n",
       "    <tr>\n",
       "      <th>2011-01-10</th>\n",
       "      <td>0.694781</td>\n",
       "    </tr>\n",
       "    <tr>\n",
       "      <th>2011-01-12</th>\n",
       "      <td>1.193087</td>\n",
       "    </tr>\n",
       "  </tbody>\n",
       "</table>\n",
       "</div>"
      ],
      "text/plain": [
       "               Value\n",
       "2011-01-02  1.618404\n",
       "2011-01-05  0.345564\n",
       "2011-01-07  0.039843\n",
       "2011-01-08 -0.570340\n",
       "2011-01-10  0.694781\n",
       "2011-01-12  1.193087"
      ]
     },
     "execution_count": 34,
     "metadata": {},
     "output_type": "execute_result"
    }
   ],
   "source": [
    "df = pd.DataFrame(ts, columns=['Value'])\n",
    "df"
   ]
  },
  {
   "cell_type": "code",
   "execution_count": null,
   "id": "50d28c40",
   "metadata": {
    "id": "50d28c40",
    "outputId": "953319e4-001c-46b6-9087-e3b48f249619"
   },
   "outputs": [
    {
     "data": {
      "text/plain": [
       "DatetimeIndex(['2011-01-02', '2011-01-05', '2011-01-07', '2011-01-08',\n",
       "               '2011-01-10', '2011-01-12'],\n",
       "              dtype='datetime64[ns]', freq=None)"
      ]
     },
     "execution_count": 40,
     "metadata": {},
     "output_type": "execute_result"
    }
   ],
   "source": [
    "ts.index"
   ]
  },
  {
   "cell_type": "code",
   "execution_count": null,
   "id": "f324fe1b",
   "metadata": {
    "id": "f324fe1b",
    "outputId": "bc3fdcc9-1165-40c6-dc16-461f031897be"
   },
   "outputs": [
    {
     "data": {
      "text/plain": [
       "2011-01-02   -1.002346\n",
       "2011-01-07   -0.546466\n",
       "2011-01-10    1.089753\n",
       "dtype: float64"
      ]
     },
     "execution_count": 41,
     "metadata": {},
     "output_type": "execute_result"
    }
   ],
   "source": [
    "ts[::2]"
   ]
  },
  {
   "cell_type": "code",
   "execution_count": null,
   "id": "1a3b01d5",
   "metadata": {
    "id": "1a3b01d5",
    "outputId": "0918e920-d5cb-482f-fcb9-4d7435e1b014"
   },
   "outputs": [
    {
     "data": {
      "text/plain": [
       "2011-01-02   -2.004692\n",
       "2011-01-05         NaN\n",
       "2011-01-07   -1.092931\n",
       "2011-01-08         NaN\n",
       "2011-01-10    2.179506\n",
       "2011-01-12         NaN\n",
       "dtype: float64"
      ]
     },
     "execution_count": 42,
     "metadata": {},
     "output_type": "execute_result"
    }
   ],
   "source": [
    "ts + ts[::2]"
   ]
  },
  {
   "cell_type": "code",
   "execution_count": null,
   "id": "b6da6e3b",
   "metadata": {
    "id": "b6da6e3b",
    "outputId": "b06819a0-8f4a-48cb-b73d-6440bd03839a"
   },
   "outputs": [
    {
     "data": {
      "text/plain": [
       "Timestamp('2011-01-02 00:00:00')"
      ]
     },
     "execution_count": 43,
     "metadata": {},
     "output_type": "execute_result"
    }
   ],
   "source": [
    "ts.index[0]"
   ]
  },
  {
   "cell_type": "code",
   "execution_count": null,
   "id": "d1deb244",
   "metadata": {
    "id": "d1deb244",
    "outputId": "7c1e5e66-9768-4299-dea6-f4e4d05a806a"
   },
   "outputs": [
    {
     "data": {
      "text/plain": [
       "-0.546465516485552"
      ]
     },
     "execution_count": 44,
     "metadata": {},
     "output_type": "execute_result"
    }
   ],
   "source": [
    "# Indexing, Selection, Subsetting\n",
    "stamp = ts.index[2]\n",
    "ts[stamp]"
   ]
  },
  {
   "cell_type": "code",
   "execution_count": null,
   "id": "2186cda2",
   "metadata": {
    "id": "2186cda2",
    "outputId": "448e0f45-7cea-4fc3-beac-d4db89be0dc2"
   },
   "outputs": [
    {
     "name": "stdout",
     "output_type": "stream",
     "text": [
      "1.0897528460611405\n"
     ]
    },
    {
     "data": {
      "text/plain": [
       "1.0897528460611405"
      ]
     },
     "execution_count": 45,
     "metadata": {},
     "output_type": "execute_result"
    }
   ],
   "source": [
    "# 2011-01-10    1.089753\n",
    "print(ts['1/10/2011'])\n",
    "ts['20110110']"
   ]
  },
  {
   "cell_type": "code",
   "execution_count": 44,
   "id": "b5eb3aa7",
   "metadata": {},
   "outputs": [
    {
     "data": {
      "text/plain": [
       "2023-11-30   -0.427358\n",
       "2023-12-01    0.402901\n",
       "2023-12-02   -1.049575\n",
       "2023-12-03    0.235870\n",
       "2023-12-04    0.610310\n",
       "                ...   \n",
       "2024-11-24    0.713598\n",
       "2024-11-25   -0.062502\n",
       "2024-11-26   -1.544462\n",
       "2024-11-27   -0.389514\n",
       "2024-11-28   -0.096690\n",
       "Freq: D, Length: 365, dtype: float64"
      ]
     },
     "execution_count": 44,
     "metadata": {},
     "output_type": "execute_result"
    }
   ],
   "source": [
    "longer_ts = pd.Series(np.random.randn(365),\n",
    "                     index=pd.date_range('11/30/2023',periods=365))\n",
    "longer_ts"
   ]
  },
  {
   "cell_type": "code",
   "execution_count": null,
   "id": "4cc7cac3",
   "metadata": {
    "id": "4cc7cac3",
    "outputId": "6d41c9b0-4630-4a57-ba77-bad52fb44863"
   },
   "outputs": [
    {
     "name": "stdout",
     "output_type": "stream",
     "text": [
      "2000-01-01    1.474694\n",
      "2000-01-02   -0.770918\n",
      "2000-01-03    1.693368\n",
      "2000-01-04    0.757829\n",
      "2000-01-05    0.790624\n",
      "                ...   \n",
      "2002-09-22    0.324149\n",
      "2002-09-23   -1.073186\n",
      "2002-09-24   -0.712718\n",
      "2002-09-25    1.311645\n",
      "2002-09-26   -0.358281\n",
      "Freq: D, Length: 1000, dtype: float64 \n",
      "\n"
     ]
    }
   ],
   "source": [
    "longer_ts = pd.Series(np.random.randn(1000),\n",
    "                     index=pd.date_range('1/1/2000',periods=1000))\n",
    "print(longer_ts,'\\n')\n"
   ]
  },
  {
   "cell_type": "code",
   "execution_count": null,
   "id": "ef445624",
   "metadata": {
    "id": "ef445624",
    "outputId": "af4d89f6-9ffb-40ae-de79-27eb4d558248"
   },
   "outputs": [
    {
     "data": {
      "text/plain": [
       "2001-05-01   -0.634009\n",
       "2001-05-02   -1.047831\n",
       "2001-05-03    1.994927\n",
       "2001-05-04    0.473721\n",
       "2001-05-05   -0.125936\n",
       "Freq: D, dtype: float64"
      ]
     },
     "execution_count": 49,
     "metadata": {},
     "output_type": "execute_result"
    }
   ],
   "source": [
    "longer_ts['2001-05'][:5]"
   ]
  },
  {
   "cell_type": "code",
   "execution_count": null,
   "id": "249def11",
   "metadata": {
    "id": "249def11",
    "outputId": "2516a981-bd92-4a46-9dc0-818c5c6d1c5b"
   },
   "outputs": [
    {
     "data": {
      "text/plain": [
       "2011-01-07   -0.546466\n",
       "2011-01-08    0.230811\n",
       "2011-01-10    1.089753\n",
       "2011-01-12   -0.642663\n",
       "dtype: float64"
      ]
     },
     "execution_count": 51,
     "metadata": {},
     "output_type": "execute_result"
    }
   ],
   "source": [
    "ts[datetime(2011,1,7):]"
   ]
  },
  {
   "cell_type": "code",
   "execution_count": null,
   "id": "ff64961c",
   "metadata": {
    "id": "ff64961c",
    "outputId": "2361c994-6696-45ea-8f8f-acd98bf10a90"
   },
   "outputs": [
    {
     "data": {
      "text/plain": [
       "2011-01-02   -1.002346\n",
       "2011-01-05   -1.015073\n",
       "2011-01-07   -0.546466\n",
       "2011-01-08    0.230811\n",
       "2011-01-10    1.089753\n",
       "2011-01-12   -0.642663\n",
       "dtype: float64"
      ]
     },
     "execution_count": 53,
     "metadata": {},
     "output_type": "execute_result"
    }
   ],
   "source": [
    "ts"
   ]
  },
  {
   "cell_type": "code",
   "execution_count": null,
   "id": "6a37bfc8",
   "metadata": {
    "id": "6a37bfc8",
    "outputId": "7243bb32-6d38-40fc-f46e-20aedab7b618"
   },
   "outputs": [
    {
     "name": "stdout",
     "output_type": "stream",
     "text": [
      "2011-01-05   -1.015073\n",
      "2011-01-07   -0.546466\n",
      "2011-01-08    0.230811\n",
      "2011-01-10    1.089753\n",
      "dtype: float64\n"
     ]
    }
   ],
   "source": [
    "# truncate\n",
    "print(ts.truncate(before='2011-01-05',after='2011-01-10'))"
   ]
  },
  {
   "cell_type": "code",
   "execution_count": null,
   "id": "c2550439",
   "metadata": {
    "id": "c2550439",
    "outputId": "a2386bc4-41e8-4726-fb6e-3e485e45371a"
   },
   "outputs": [
    {
     "name": "stdout",
     "output_type": "stream",
     "text": [
      "2011-01-02   -1.002346\n",
      "2011-01-05   -1.015073\n",
      "2011-01-07   -0.546466\n",
      "2011-01-08    0.230811\n",
      "dtype: float64\n"
     ]
    }
   ],
   "source": [
    "print(ts.truncate(after='1/9/2011'))"
   ]
  },
  {
   "cell_type": "code",
   "execution_count": null,
   "id": "d4046a04",
   "metadata": {
    "id": "d4046a04",
    "outputId": "128388fc-74cd-4733-e24b-f5edc7698537"
   },
   "outputs": [
    {
     "data": {
      "text/plain": [
       "DatetimeIndex(['2020-10-07', '2020-10-08', '2020-10-09', '2020-10-10',\n",
       "               '2020-10-11', '2020-10-12', '2020-10-13', '2020-10-14',\n",
       "               '2020-10-15', '2020-10-16', '2020-10-17', '2020-10-18',\n",
       "               '2020-10-19', '2020-10-20'],\n",
       "              dtype='datetime64[ns]', freq='D')"
      ]
     },
     "execution_count": 56,
     "metadata": {},
     "output_type": "execute_result"
    }
   ],
   "source": [
    "pd.date_range('2020-10-7','2020-10-20')"
   ]
  },
  {
   "cell_type": "code",
   "execution_count": null,
   "id": "18aaec91",
   "metadata": {
    "id": "18aaec91",
    "outputId": "31434bda-fa45-4223-fb73-26d7d8df15ef"
   },
   "outputs": [
    {
     "data": {
      "text/plain": [
       "DatetimeIndex(['2021-07-20 14:11:52.963651', '2021-07-21 14:11:52.963651',\n",
       "               '2021-07-22 14:11:52.963651', '2021-07-23 14:11:52.963651',\n",
       "               '2021-07-24 14:11:52.963651', '2021-07-25 14:11:52.963651',\n",
       "               '2021-07-26 14:11:52.963651', '2021-07-27 14:11:52.963651',\n",
       "               '2021-07-28 14:11:52.963651', '2021-07-29 14:11:52.963651',\n",
       "               '2021-07-30 14:11:52.963651', '2021-07-31 14:11:52.963651',\n",
       "               '2021-08-01 14:11:52.963651', '2021-08-02 14:11:52.963651',\n",
       "               '2021-08-03 14:11:52.963651'],\n",
       "              dtype='datetime64[ns]', freq='D')"
      ]
     },
     "execution_count": 57,
     "metadata": {},
     "output_type": "execute_result"
    }
   ],
   "source": [
    "from datetime import datetime\n",
    "from datetime import timedelta\n",
    "\n",
    "now = datetime.now()\n",
    "in_two_weeks=now+timedelta(weeks=2)\n",
    "pd.date_range(datetime.now(),in_two_weeks)"
   ]
  },
  {
   "cell_type": "code",
   "execution_count": 39,
   "id": "2f676665",
   "metadata": {
    "id": "2f676665",
    "outputId": "cbd830f1-d757-4711-acb8-9fbda63083d3"
   },
   "outputs": [
    {
     "data": {
      "text/plain": [
       "DatetimeIndex(['2023-11-01', '2023-11-02', '2023-11-03', '2023-11-04',\n",
       "               '2023-11-05', '2023-11-06', '2023-11-07', '2023-11-08',\n",
       "               '2023-11-09', '2023-11-10', '2023-11-11', '2023-11-12',\n",
       "               '2023-11-13', '2023-11-14', '2023-11-15', '2023-11-16',\n",
       "               '2023-11-17', '2023-11-18', '2023-11-19', '2023-11-20',\n",
       "               '2023-11-21', '2023-11-22', '2023-11-23', '2023-11-24',\n",
       "               '2023-11-25', '2023-11-26', '2023-11-27', '2023-11-28',\n",
       "               '2023-11-29', '2023-11-30'],\n",
       "              dtype='datetime64[ns]', freq=None)"
      ]
     },
     "execution_count": 39,
     "metadata": {},
     "output_type": "execute_result"
    }
   ],
   "source": [
    "# periods 매개변수는 date_range 함수에 전달된 시작날짜와 종료날짜를\n",
    "# periods 매개변수에 전달된 기준의 수만큼 동일하게 나누어 출력\n",
    "ts = pd.date_range(start='2023-11-01',end='2023-11-30',periods=30)\n",
    "ts"
   ]
  },
  {
   "cell_type": "code",
   "execution_count": 42,
   "id": "24f98cc9",
   "metadata": {},
   "outputs": [
    {
     "data": {
      "text/html": [
       "<div>\n",
       "<style scoped>\n",
       "    .dataframe tbody tr th:only-of-type {\n",
       "        vertical-align: middle;\n",
       "    }\n",
       "\n",
       "    .dataframe tbody tr th {\n",
       "        vertical-align: top;\n",
       "    }\n",
       "\n",
       "    .dataframe thead th {\n",
       "        text-align: right;\n",
       "    }\n",
       "</style>\n",
       "<table border=\"1\" class=\"dataframe\">\n",
       "  <thead>\n",
       "    <tr style=\"text-align: right;\">\n",
       "      <th></th>\n",
       "      <th>value</th>\n",
       "    </tr>\n",
       "  </thead>\n",
       "  <tbody>\n",
       "    <tr>\n",
       "      <th>2023-11-01</th>\n",
       "      <td>0</td>\n",
       "    </tr>\n",
       "    <tr>\n",
       "      <th>2023-11-02</th>\n",
       "      <td>1</td>\n",
       "    </tr>\n",
       "    <tr>\n",
       "      <th>2023-11-03</th>\n",
       "      <td>2</td>\n",
       "    </tr>\n",
       "    <tr>\n",
       "      <th>2023-11-04</th>\n",
       "      <td>3</td>\n",
       "    </tr>\n",
       "    <tr>\n",
       "      <th>2023-11-05</th>\n",
       "      <td>4</td>\n",
       "    </tr>\n",
       "    <tr>\n",
       "      <th>2023-11-06</th>\n",
       "      <td>5</td>\n",
       "    </tr>\n",
       "    <tr>\n",
       "      <th>2023-11-07</th>\n",
       "      <td>6</td>\n",
       "    </tr>\n",
       "    <tr>\n",
       "      <th>2023-11-08</th>\n",
       "      <td>7</td>\n",
       "    </tr>\n",
       "    <tr>\n",
       "      <th>2023-11-09</th>\n",
       "      <td>8</td>\n",
       "    </tr>\n",
       "    <tr>\n",
       "      <th>2023-11-10</th>\n",
       "      <td>9</td>\n",
       "    </tr>\n",
       "    <tr>\n",
       "      <th>2023-11-11</th>\n",
       "      <td>10</td>\n",
       "    </tr>\n",
       "    <tr>\n",
       "      <th>2023-11-12</th>\n",
       "      <td>11</td>\n",
       "    </tr>\n",
       "    <tr>\n",
       "      <th>2023-11-13</th>\n",
       "      <td>12</td>\n",
       "    </tr>\n",
       "    <tr>\n",
       "      <th>2023-11-14</th>\n",
       "      <td>13</td>\n",
       "    </tr>\n",
       "    <tr>\n",
       "      <th>2023-11-15</th>\n",
       "      <td>14</td>\n",
       "    </tr>\n",
       "    <tr>\n",
       "      <th>2023-11-16</th>\n",
       "      <td>15</td>\n",
       "    </tr>\n",
       "    <tr>\n",
       "      <th>2023-11-17</th>\n",
       "      <td>16</td>\n",
       "    </tr>\n",
       "    <tr>\n",
       "      <th>2023-11-18</th>\n",
       "      <td>17</td>\n",
       "    </tr>\n",
       "    <tr>\n",
       "      <th>2023-11-19</th>\n",
       "      <td>18</td>\n",
       "    </tr>\n",
       "    <tr>\n",
       "      <th>2023-11-20</th>\n",
       "      <td>19</td>\n",
       "    </tr>\n",
       "    <tr>\n",
       "      <th>2023-11-21</th>\n",
       "      <td>20</td>\n",
       "    </tr>\n",
       "    <tr>\n",
       "      <th>2023-11-22</th>\n",
       "      <td>21</td>\n",
       "    </tr>\n",
       "    <tr>\n",
       "      <th>2023-11-23</th>\n",
       "      <td>22</td>\n",
       "    </tr>\n",
       "    <tr>\n",
       "      <th>2023-11-24</th>\n",
       "      <td>23</td>\n",
       "    </tr>\n",
       "    <tr>\n",
       "      <th>2023-11-25</th>\n",
       "      <td>24</td>\n",
       "    </tr>\n",
       "    <tr>\n",
       "      <th>2023-11-26</th>\n",
       "      <td>25</td>\n",
       "    </tr>\n",
       "    <tr>\n",
       "      <th>2023-11-27</th>\n",
       "      <td>26</td>\n",
       "    </tr>\n",
       "    <tr>\n",
       "      <th>2023-11-28</th>\n",
       "      <td>27</td>\n",
       "    </tr>\n",
       "    <tr>\n",
       "      <th>2023-11-29</th>\n",
       "      <td>28</td>\n",
       "    </tr>\n",
       "    <tr>\n",
       "      <th>2023-11-30</th>\n",
       "      <td>29</td>\n",
       "    </tr>\n",
       "  </tbody>\n",
       "</table>\n",
       "</div>"
      ],
      "text/plain": [
       "            value\n",
       "2023-11-01      0\n",
       "2023-11-02      1\n",
       "2023-11-03      2\n",
       "2023-11-04      3\n",
       "2023-11-05      4\n",
       "2023-11-06      5\n",
       "2023-11-07      6\n",
       "2023-11-08      7\n",
       "2023-11-09      8\n",
       "2023-11-10      9\n",
       "2023-11-11     10\n",
       "2023-11-12     11\n",
       "2023-11-13     12\n",
       "2023-11-14     13\n",
       "2023-11-15     14\n",
       "2023-11-16     15\n",
       "2023-11-17     16\n",
       "2023-11-18     17\n",
       "2023-11-19     18\n",
       "2023-11-20     19\n",
       "2023-11-21     20\n",
       "2023-11-22     21\n",
       "2023-11-23     22\n",
       "2023-11-24     23\n",
       "2023-11-25     24\n",
       "2023-11-26     25\n",
       "2023-11-27     26\n",
       "2023-11-28     27\n",
       "2023-11-29     28\n",
       "2023-11-30     29"
      ]
     },
     "execution_count": 42,
     "metadata": {},
     "output_type": "execute_result"
    }
   ],
   "source": [
    "df = pd.DataFrame(np.arange(30), index=ts, columns=['value'])\n",
    "df"
   ]
  },
  {
   "cell_type": "code",
   "execution_count": null,
   "id": "7c40f111",
   "metadata": {
    "id": "7c40f111",
    "outputId": "94be54c2-6453-47b2-93b6-f2e8277bf2fb"
   },
   "outputs": [
    {
     "data": {
      "text/plain": [
       "DatetimeIndex(['2012-05-02', '2012-05-03', '2012-05-04', '2012-05-05',\n",
       "               '2012-05-06'],\n",
       "              dtype='datetime64[ns]', freq='D')"
      ]
     },
     "execution_count": 64,
     "metadata": {},
     "output_type": "execute_result"
    }
   ],
   "source": [
    "pd.date_range('2012-05-02 12:56:31', periods=5, normalize=True)"
   ]
  },
  {
   "cell_type": "markdown",
   "id": "b4ab99f4",
   "metadata": {
    "id": "b4ab99f4"
   },
   "source": [
    "freq 매개변수에 사용되는 Frequncy strings\n",
    "- A calendar year end frequency\n",
    "- B\tbusiness day frequency\n",
    "- C\tcustom business day frequency\n",
    "- D\tcalendar day frequency\n",
    "- W\tweekly frequency\n",
    "- M\tmonth end frequency\n",
    "- SM\tsemi-month end frequency (15th and end of month)\n",
    "- BM\tbusiness month end frequency\n",
    "- CBM\tcustom business month end frequency\n",
    "- MS\tmonth start frequency\n",
    "- SMS\tsemi-month start frequency (1st and 15th)\n",
    "- BMS\tbusiness month start frequency\n",
    "- CBMS\tcustom business month start frequency\n",
    "- Q\tquarter end frequency"
   ]
  },
  {
   "cell_type": "code",
   "execution_count": 45,
   "id": "539a4a57",
   "metadata": {
    "id": "539a4a57",
    "outputId": "f60abf49-ca5c-4309-b31e-b698f2076d84"
   },
   "outputs": [
    {
     "name": "stdout",
     "output_type": "stream",
     "text": [
      "DatetimeIndex(['2023-12-06', '2023-12-13', '2023-12-20', '2023-12-27',\n",
      "               '2024-01-03', '2024-01-10', '2024-01-17', '2024-01-24',\n",
      "               '2024-01-31', '2024-02-07'],\n",
      "              dtype='datetime64[ns]', freq='W-WED')\n"
     ]
    }
   ],
   "source": [
    "import numpy as np\n",
    "dates = pd.date_range('11/30/2023', periods=10, freq='W-WED')\n",
    "print(dates)"
   ]
  },
  {
   "cell_type": "code",
   "execution_count": 47,
   "id": "55927ea3",
   "metadata": {},
   "outputs": [
    {
     "data": {
      "text/plain": [
       "array([1, 0, 0, 2, 1, 1, 2, 2, 2, 0])"
      ]
     },
     "execution_count": 47,
     "metadata": {},
     "output_type": "execute_result"
    }
   ],
   "source": [
    "np.random.randint(3, size=10)"
   ]
  },
  {
   "cell_type": "code",
   "execution_count": 49,
   "id": "286d76db",
   "metadata": {},
   "outputs": [
    {
     "data": {
      "text/html": [
       "<div>\n",
       "<style scoped>\n",
       "    .dataframe tbody tr th:only-of-type {\n",
       "        vertical-align: middle;\n",
       "    }\n",
       "\n",
       "    .dataframe tbody tr th {\n",
       "        vertical-align: top;\n",
       "    }\n",
       "\n",
       "    .dataframe thead th {\n",
       "        text-align: right;\n",
       "    }\n",
       "</style>\n",
       "<table border=\"1\" class=\"dataframe\">\n",
       "  <thead>\n",
       "    <tr style=\"text-align: right;\">\n",
       "      <th></th>\n",
       "      <th>운동시간</th>\n",
       "    </tr>\n",
       "  </thead>\n",
       "  <tbody>\n",
       "    <tr>\n",
       "      <th>2023-12-06</th>\n",
       "      <td>2</td>\n",
       "    </tr>\n",
       "    <tr>\n",
       "      <th>2023-12-13</th>\n",
       "      <td>0</td>\n",
       "    </tr>\n",
       "    <tr>\n",
       "      <th>2023-12-20</th>\n",
       "      <td>1</td>\n",
       "    </tr>\n",
       "    <tr>\n",
       "      <th>2023-12-27</th>\n",
       "      <td>1</td>\n",
       "    </tr>\n",
       "    <tr>\n",
       "      <th>2024-01-03</th>\n",
       "      <td>2</td>\n",
       "    </tr>\n",
       "    <tr>\n",
       "      <th>2024-01-10</th>\n",
       "      <td>1</td>\n",
       "    </tr>\n",
       "    <tr>\n",
       "      <th>2024-01-17</th>\n",
       "      <td>2</td>\n",
       "    </tr>\n",
       "    <tr>\n",
       "      <th>2024-01-24</th>\n",
       "      <td>2</td>\n",
       "    </tr>\n",
       "    <tr>\n",
       "      <th>2024-01-31</th>\n",
       "      <td>0</td>\n",
       "    </tr>\n",
       "    <tr>\n",
       "      <th>2024-02-07</th>\n",
       "      <td>1</td>\n",
       "    </tr>\n",
       "  </tbody>\n",
       "</table>\n",
       "</div>"
      ],
      "text/plain": [
       "            운동시간\n",
       "2023-12-06     2\n",
       "2023-12-13     0\n",
       "2023-12-20     1\n",
       "2023-12-27     1\n",
       "2024-01-03     2\n",
       "2024-01-10     1\n",
       "2024-01-17     2\n",
       "2024-01-24     2\n",
       "2024-01-31     0\n",
       "2024-02-07     1"
      ]
     },
     "execution_count": 49,
     "metadata": {},
     "output_type": "execute_result"
    }
   ],
   "source": [
    "df = pd.DataFrame(np.random.randint(3, size=10), index=dates, columns=['운동시간'])\n",
    "df"
   ]
  },
  {
   "cell_type": "code",
   "execution_count": null,
   "id": "f929864d",
   "metadata": {
    "id": "f929864d",
    "outputId": "95c7ecc9-af45-493c-9b66-3c29467a1bc6"
   },
   "outputs": [
    {
     "name": "stdout",
     "output_type": "stream",
     "text": [
      "            Colorado     Texas  New York      Ohio\n",
      "2000-01-05 -0.441085  1.287963 -0.060799  0.109101\n",
      "2000-01-12 -0.298944 -0.874732 -0.625747 -0.549979\n",
      "2000-01-19  0.675000  1.330668 -0.681337  1.098610\n",
      "2000-01-26  0.452010  0.024461 -1.038523  0.571128\n",
      "2000-02-02  1.286345 -0.768212 -0.953816 -0.353519\n",
      "...              ...       ...       ...       ...\n",
      "2001-10-31 -0.006981  1.291081 -0.696848 -0.400194\n",
      "2001-11-07  1.316462 -0.515380  0.480864  1.325687\n",
      "2001-11-14 -0.214950  0.188236  0.788619  0.368392\n",
      "2001-11-21  1.345041  0.039718  0.682622  0.906851\n",
      "2001-11-28 -0.898369 -0.227789 -0.923387 -1.028037\n",
      "\n",
      "[100 rows x 4 columns] \n",
      "\n"
     ]
    },
    {
     "data": {
      "text/html": [
       "<div>\n",
       "<style scoped>\n",
       "    .dataframe tbody tr th:only-of-type {\n",
       "        vertical-align: middle;\n",
       "    }\n",
       "\n",
       "    .dataframe tbody tr th {\n",
       "        vertical-align: top;\n",
       "    }\n",
       "\n",
       "    .dataframe thead th {\n",
       "        text-align: right;\n",
       "    }\n",
       "</style>\n",
       "<table border=\"1\" class=\"dataframe\">\n",
       "  <thead>\n",
       "    <tr style=\"text-align: right;\">\n",
       "      <th></th>\n",
       "      <th>Colorado</th>\n",
       "      <th>Texas</th>\n",
       "      <th>New York</th>\n",
       "      <th>Ohio</th>\n",
       "    </tr>\n",
       "  </thead>\n",
       "  <tbody>\n",
       "    <tr>\n",
       "      <th>2001-06-06</th>\n",
       "      <td>0.473579</td>\n",
       "      <td>-0.443727</td>\n",
       "      <td>0.040771</td>\n",
       "      <td>-0.355599</td>\n",
       "    </tr>\n",
       "    <tr>\n",
       "      <th>2001-06-13</th>\n",
       "      <td>-0.038756</td>\n",
       "      <td>-1.221942</td>\n",
       "      <td>-1.098992</td>\n",
       "      <td>-0.815568</td>\n",
       "    </tr>\n",
       "    <tr>\n",
       "      <th>2001-06-20</th>\n",
       "      <td>0.637949</td>\n",
       "      <td>-1.487480</td>\n",
       "      <td>-0.288095</td>\n",
       "      <td>-1.192054</td>\n",
       "    </tr>\n",
       "    <tr>\n",
       "      <th>2001-06-27</th>\n",
       "      <td>0.828341</td>\n",
       "      <td>-0.117620</td>\n",
       "      <td>2.210951</td>\n",
       "      <td>0.524021</td>\n",
       "    </tr>\n",
       "  </tbody>\n",
       "</table>\n",
       "</div>"
      ],
      "text/plain": [
       "            Colorado     Texas  New York      Ohio\n",
       "2001-06-06  0.473579 -0.443727  0.040771 -0.355599\n",
       "2001-06-13 -0.038756 -1.221942 -1.098992 -0.815568\n",
       "2001-06-20  0.637949 -1.487480 -0.288095 -1.192054\n",
       "2001-06-27  0.828341 -0.117620  2.210951  0.524021"
      ]
     },
     "execution_count": 67,
     "metadata": {},
     "output_type": "execute_result"
    }
   ],
   "source": [
    "long_df = pd.DataFrame(np.random.randn(100,4),\n",
    "                      index=dates,\n",
    "                      columns = ['Colorado','Texas','New York','Ohio'])\n",
    "print(long_df,'\\n')\n",
    "long_df.loc['2001-06']"
   ]
  },
  {
   "cell_type": "code",
   "execution_count": null,
   "id": "e60a92f8",
   "metadata": {
    "id": "e60a92f8",
    "outputId": "942b67bd-f05d-4f38-e273-b5ee10302612"
   },
   "outputs": [
    {
     "data": {
      "text/plain": [
       "2000-01-01    0\n",
       "2000-01-02    1\n",
       "2000-01-02    2\n",
       "2000-01-02    3\n",
       "2000-01-03    4\n",
       "dtype: int32"
      ]
     },
     "execution_count": 68,
     "metadata": {},
     "output_type": "execute_result"
    }
   ],
   "source": [
    "dates = pd.DatetimeIndex(['1/1/2000','1/2/2000','1/2/2000','1/2/2000',\n",
    "                         '1/3/2000'])\n",
    "dup_ts = pd.Series(np.arange(5),index=dates)\n",
    "dup_ts"
   ]
  },
  {
   "cell_type": "code",
   "execution_count": null,
   "id": "e9305539",
   "metadata": {
    "id": "e9305539",
    "outputId": "aa338188-9c5a-4c2d-b087-cce86bc96a66"
   },
   "outputs": [
    {
     "data": {
      "text/plain": [
       "False"
      ]
     },
     "execution_count": 69,
     "metadata": {},
     "output_type": "execute_result"
    }
   ],
   "source": [
    "dup_ts.index.is_unique"
   ]
  },
  {
   "cell_type": "code",
   "execution_count": null,
   "id": "b8d74b45",
   "metadata": {
    "id": "b8d74b45",
    "outputId": "177b8916-e63d-4877-c61b-79994d8aff11"
   },
   "outputs": [
    {
     "data": {
      "text/plain": [
       "4"
      ]
     },
     "execution_count": 70,
     "metadata": {},
     "output_type": "execute_result"
    }
   ],
   "source": [
    "dup_ts['1/3/2000'] # not duplicated의 경우 스칼라 값"
   ]
  },
  {
   "cell_type": "code",
   "execution_count": null,
   "id": "c7ba1b4d",
   "metadata": {
    "id": "c7ba1b4d",
    "outputId": "65dacac1-78f2-402b-95c3-295d4decc6c1"
   },
   "outputs": [
    {
     "data": {
      "text/plain": [
       "2000-01-02    1\n",
       "2000-01-02    2\n",
       "2000-01-02    3\n",
       "dtype: int32"
      ]
     },
     "execution_count": 71,
     "metadata": {},
     "output_type": "execute_result"
    }
   ],
   "source": [
    "dup_ts['1/2/2000'] # duplicated의 경우 슬라이스 출력"
   ]
  },
  {
   "cell_type": "code",
   "execution_count": null,
   "id": "8f4fda76",
   "metadata": {
    "id": "8f4fda76",
    "outputId": "ae3843ae-5823-4cbe-c8ee-46575b3c6ce2"
   },
   "outputs": [
    {
     "name": "stdout",
     "output_type": "stream",
     "text": [
      "2000-01-01    0\n",
      "2000-01-02    2\n",
      "2000-01-03    4\n",
      "dtype: int32\n"
     ]
    },
    {
     "data": {
      "text/plain": [
       "2000-01-01    1\n",
       "2000-01-02    3\n",
       "2000-01-03    1\n",
       "dtype: int64"
      ]
     },
     "execution_count": 72,
     "metadata": {},
     "output_type": "execute_result"
    }
   ],
   "source": [
    "grouped = dup_ts.groupby(level=0)\n",
    "print(grouped.mean())\n",
    "grouped.count()"
   ]
  },
  {
   "cell_type": "code",
   "execution_count": null,
   "id": "d650ccf2",
   "metadata": {
    "id": "d650ccf2",
    "outputId": "1f84da08-cace-499c-a1d8-a5ecaa881bce"
   },
   "outputs": [
    {
     "data": {
      "text/plain": [
       "DatetimeIndex(['2000-01-01 00:00:00', '2000-01-01 04:00:00',\n",
       "               '2000-01-01 08:00:00', '2000-01-01 12:00:00',\n",
       "               '2000-01-01 16:00:00', '2000-01-01 20:00:00',\n",
       "               '2000-01-02 00:00:00', '2000-01-02 04:00:00',\n",
       "               '2000-01-02 08:00:00', '2000-01-02 12:00:00',\n",
       "               '2000-01-02 16:00:00', '2000-01-02 20:00:00',\n",
       "               '2000-01-03 00:00:00', '2000-01-03 04:00:00',\n",
       "               '2000-01-03 08:00:00', '2000-01-03 12:00:00',\n",
       "               '2000-01-03 16:00:00', '2000-01-03 20:00:00'],\n",
       "              dtype='datetime64[ns]', freq='4H')"
      ]
     },
     "execution_count": 73,
     "metadata": {},
     "output_type": "execute_result"
    }
   ],
   "source": [
    "pd.date_range('2000-01-01','2000-01-03 23:59',freq='4h')"
   ]
  },
  {
   "cell_type": "code",
   "execution_count": null,
   "id": "63a635ad",
   "metadata": {
    "id": "63a635ad",
    "outputId": "7102970f-b86b-4fe7-e002-278ff6b98e98"
   },
   "outputs": [
    {
     "data": {
      "text/plain": [
       "<150 * Minutes>"
      ]
     },
     "execution_count": 74,
     "metadata": {},
     "output_type": "execute_result"
    }
   ],
   "source": [
    "from pandas.tseries.offsets import Hour, Minute\n",
    "Hour(2) + Minute(30)"
   ]
  },
  {
   "cell_type": "code",
   "execution_count": null,
   "id": "2a6dc8b3",
   "metadata": {
    "id": "2a6dc8b3",
    "outputId": "b013b152-a59e-43b4-815f-d996bfc2a7e3"
   },
   "outputs": [
    {
     "data": {
      "text/plain": [
       "DatetimeIndex(['2000-01-01 00:00:00', '2000-01-01 01:30:00',\n",
       "               '2000-01-01 03:00:00', '2000-01-01 04:30:00',\n",
       "               '2000-01-01 06:00:00', '2000-01-01 07:30:00',\n",
       "               '2000-01-01 09:00:00', '2000-01-01 10:30:00',\n",
       "               '2000-01-01 12:00:00', '2000-01-01 13:30:00'],\n",
       "              dtype='datetime64[ns]', freq='90T')"
      ]
     },
     "execution_count": 76,
     "metadata": {},
     "output_type": "execute_result"
    }
   ],
   "source": [
    "pd.date_range('2000-01-01', periods=10, freq='1h30min')"
   ]
  },
  {
   "cell_type": "code",
   "execution_count": null,
   "id": "ed919edf",
   "metadata": {
    "id": "ed919edf",
    "outputId": "10920ceb-32a8-4c93-fb57-482d711c070f"
   },
   "outputs": [
    {
     "name": "stdout",
     "output_type": "stream",
     "text": [
      "DatetimeIndex(['2000-01-21', '2000-02-18', '2000-03-17', '2000-04-21',\n",
      "               '2000-05-19', '2000-06-16', '2000-07-21', '2000-08-18',\n",
      "               '2000-09-15', '2000-10-20',\n",
      "               ...\n",
      "               '2011-11-18', '2011-12-16', '2012-01-20', '2012-02-17',\n",
      "               '2012-03-16', '2012-04-20', '2012-05-18', '2012-06-15',\n",
      "               '2012-07-20', '2012-08-17'],\n",
      "              dtype='datetime64[ns]', length=152, freq='WOM-3FRI')\n"
     ]
    }
   ],
   "source": [
    "rng = pd.date_range('2000-01-01','2012-09-01',freq='WOM-3FRI')\n",
    "print(rng)"
   ]
  },
  {
   "cell_type": "code",
   "execution_count": null,
   "id": "31405675",
   "metadata": {
    "id": "31405675",
    "outputId": "ec0bb67d-7fa3-48a8-ef46-5c71b9c6e993"
   },
   "outputs": [
    {
     "data": {
      "text/plain": [
       "Timestamp('2011-11-20 00:00:00')"
      ]
     },
     "execution_count": 81,
     "metadata": {},
     "output_type": "execute_result"
    }
   ],
   "source": [
    "from pandas.tseries.offsets import Day, MonthEnd\n",
    "now = datetime(2011, 11, 17)\n",
    "now + 3 * Day()"
   ]
  },
  {
   "cell_type": "code",
   "execution_count": null,
   "id": "7c91e3a3",
   "metadata": {
    "id": "7c91e3a3",
    "outputId": "7266ef1f-05c1-411d-8c37-936a0e1df572"
   },
   "outputs": [
    {
     "name": "stdout",
     "output_type": "stream",
     "text": [
      "2011-11-30 00:00:00\n"
     ]
    },
    {
     "data": {
      "text/plain": [
       "Timestamp('2011-10-31 00:00:00')"
      ]
     },
     "execution_count": 82,
     "metadata": {},
     "output_type": "execute_result"
    }
   ],
   "source": [
    "offset = MonthEnd()\n",
    "print(offset.rollforward(now))\n",
    "offset.rollback(now)"
   ]
  },
  {
   "cell_type": "code",
   "execution_count": null,
   "id": "b02cfc0f",
   "metadata": {
    "id": "b02cfc0f"
   },
   "outputs": [],
   "source": [
    "ts = pd.Series(np.random.randn(20),\n",
    "               index=pd.date_range('1/15/2000', periods=20, freq='4d'))\n",
    "print(ts)"
   ]
  },
  {
   "cell_type": "code",
   "execution_count": null,
   "id": "b4f3914f",
   "metadata": {
    "id": "b4f3914f"
   },
   "outputs": [],
   "source": [
    "# 과제\n",
    "# Q. offset.rollforward 기준으로 그룹화를 진행 후 그룹별 평균값을 출력하세요."
   ]
  },
  {
   "cell_type": "code",
   "execution_count": null,
   "id": "0ac1fc93",
   "metadata": {
    "id": "0ac1fc93"
   },
   "outputs": [],
   "source": [
    "# 과제\n",
    "# Q. 상기 문제를 resample을 사용하여 수행하세요."
   ]
  },
  {
   "cell_type": "code",
   "execution_count": null,
   "id": "f4222c30",
   "metadata": {
    "id": "f4222c30"
   },
   "outputs": [],
   "source": [
    "# 과제\n",
    "# Q. 날짜 데이터를 인덱스로 하는 5가지 이상의 컬럼을 포함하고 있는 데이터 셋을 \n",
    "# 생성하세요.단 각 컬럼은 인덱스별 의미있는 값을 갖도록 만든 후 다음을 수행하세요\n",
    "# - 특정 연별, 월별, 일별 특정 컬럼 값 집계\n",
    "# - 인덱스를 실수형으로 변환 후 다시 datetiem으로 변환\n",
    "# - 인덱스의 포멧을 변환"
   ]
  },
  {
   "cell_type": "code",
   "execution_count": null,
   "id": "1ef90543",
   "metadata": {
    "id": "1ef90543",
    "outputId": "f2e299d3-8c7d-488f-edc7-6de5dd0df75b"
   },
   "outputs": [
    {
     "data": {
      "text/plain": [
       "Period('2007', 'A-DEC')"
      ]
     },
     "execution_count": 1,
     "metadata": {},
     "output_type": "execute_result"
    }
   ],
   "source": [
    "# Periods and Period Arithmetic\n",
    "import pandas as pd\n",
    "p = pd.Period(2007,freq='A-DEC')\n",
    "p "
   ]
  },
  {
   "cell_type": "code",
   "execution_count": null,
   "id": "249cbbea",
   "metadata": {
    "id": "249cbbea",
    "outputId": "16be535d-feaf-4891-828e-f73581ed8871"
   },
   "outputs": [
    {
     "name": "stdout",
     "output_type": "stream",
     "text": [
      "2012\n"
     ]
    }
   ],
   "source": [
    "print(p+5)"
   ]
  },
  {
   "cell_type": "code",
   "execution_count": null,
   "id": "2505dd51",
   "metadata": {
    "id": "2505dd51",
    "outputId": "3d5acc9f-73e3-478b-d814-7b2c1e94f94d"
   },
   "outputs": [
    {
     "data": {
      "text/plain": [
       "Period('2005', 'A-DEC')"
      ]
     },
     "execution_count": 3,
     "metadata": {},
     "output_type": "execute_result"
    }
   ],
   "source": [
    "p-2"
   ]
  },
  {
   "cell_type": "code",
   "execution_count": null,
   "id": "85652619",
   "metadata": {
    "id": "85652619",
    "outputId": "cda477ba-ca7c-4a9a-f1c1-4d409c8072f0"
   },
   "outputs": [
    {
     "name": "stdout",
     "output_type": "stream",
     "text": [
      "2000-01   -0.009327\n",
      "2000-02    1.503705\n",
      "2000-03   -0.646172\n",
      "Freq: M, dtype: float64 \n",
      "\n"
     ]
    },
    {
     "data": {
      "text/plain": [
       "2000-01-31 23:59:59.999999999   -0.009327\n",
       "2000-02-29 23:59:59.999999999    1.503705\n",
       "2000-03-31 23:59:59.999999999   -0.646172\n",
       "dtype: float64"
      ]
     },
     "execution_count": 11,
     "metadata": {},
     "output_type": "execute_result"
    }
   ],
   "source": [
    "# 기간을 타임스탬프로 변환\n",
    "import numpy as np\n",
    "rng = pd.period_range('2000-01-01',periods=3, freq='M')\n",
    "ts = pd.Series(np.random.randn(3),index=rng)\n",
    "print(ts,'\\n')\n",
    "ts.to_timestamp(how='end')"
   ]
  },
  {
   "cell_type": "code",
   "execution_count": null,
   "id": "c4960685",
   "metadata": {
    "id": "c4960685",
    "outputId": "57c8f36f-1e47-48c0-f77f-a34d09751f44"
   },
   "outputs": [
    {
     "data": {
      "text/plain": [
       "2001-01-01 00:00:00     0\n",
       "2001-01-01 00:01:00     1\n",
       "2001-01-01 00:02:00     2\n",
       "2001-01-01 00:03:00     3\n",
       "2001-01-01 00:04:00     4\n",
       "2001-01-01 00:05:00     5\n",
       "2001-01-01 00:06:00     6\n",
       "2001-01-01 00:07:00     7\n",
       "2001-01-01 00:08:00     8\n",
       "2001-01-01 00:09:00     9\n",
       "2001-01-01 00:10:00    10\n",
       "2001-01-01 00:11:00    11\n",
       "Freq: T, dtype: int32"
      ]
     },
     "execution_count": 12,
     "metadata": {},
     "output_type": "execute_result"
    }
   ],
   "source": [
    "# Downsampling\n",
    "rng = pd.date_range('2001-01-01',periods=12,freq='T')\n",
    "ts = pd.Series(np.arange(12),index=rng)\n",
    "ts"
   ]
  },
  {
   "cell_type": "code",
   "execution_count": null,
   "id": "29ff54be",
   "metadata": {
    "id": "29ff54be",
    "outputId": "0f537c02-8d46-4c86-b7a7-761e80d559a9"
   },
   "outputs": [
    {
     "data": {
      "text/plain": [
       "2000-12-31 23:55:00     0\n",
       "2001-01-01 00:00:00    15\n",
       "2001-01-01 00:05:00    40\n",
       "2001-01-01 00:10:00    11\n",
       "Freq: 5T, dtype: int32"
      ]
     },
     "execution_count": 13,
     "metadata": {},
     "output_type": "execute_result"
    }
   ],
   "source": [
    "ts.resample('5min', closed='right').sum()"
   ]
  },
  {
   "cell_type": "code",
   "execution_count": null,
   "id": "bedea422",
   "metadata": {
    "id": "bedea422",
    "outputId": "d49ab8da-3cb4-4f51-fbf1-baff179f9854"
   },
   "outputs": [
    {
     "data": {
      "text/html": [
       "<div>\n",
       "<style scoped>\n",
       "    .dataframe tbody tr th:only-of-type {\n",
       "        vertical-align: middle;\n",
       "    }\n",
       "\n",
       "    .dataframe tbody tr th {\n",
       "        vertical-align: top;\n",
       "    }\n",
       "\n",
       "    .dataframe thead th {\n",
       "        text-align: right;\n",
       "    }\n",
       "</style>\n",
       "<table border=\"1\" class=\"dataframe\">\n",
       "  <thead>\n",
       "    <tr style=\"text-align: right;\">\n",
       "      <th></th>\n",
       "      <th>open</th>\n",
       "      <th>high</th>\n",
       "      <th>low</th>\n",
       "      <th>close</th>\n",
       "    </tr>\n",
       "  </thead>\n",
       "  <tbody>\n",
       "    <tr>\n",
       "      <th>2001-01-01 00:00:00</th>\n",
       "      <td>0</td>\n",
       "      <td>4</td>\n",
       "      <td>0</td>\n",
       "      <td>4</td>\n",
       "    </tr>\n",
       "    <tr>\n",
       "      <th>2001-01-01 00:05:00</th>\n",
       "      <td>5</td>\n",
       "      <td>9</td>\n",
       "      <td>5</td>\n",
       "      <td>9</td>\n",
       "    </tr>\n",
       "    <tr>\n",
       "      <th>2001-01-01 00:10:00</th>\n",
       "      <td>10</td>\n",
       "      <td>11</td>\n",
       "      <td>10</td>\n",
       "      <td>11</td>\n",
       "    </tr>\n",
       "  </tbody>\n",
       "</table>\n",
       "</div>"
      ],
      "text/plain": [
       "                     open  high  low  close\n",
       "2001-01-01 00:00:00     0     4    0      4\n",
       "2001-01-01 00:05:00     5     9    5      9\n",
       "2001-01-01 00:10:00    10    11   10     11"
      ]
     },
     "execution_count": 14,
     "metadata": {},
     "output_type": "execute_result"
    }
   ],
   "source": [
    "ts.resample('5min').ohlc()"
   ]
  },
  {
   "cell_type": "code",
   "execution_count": null,
   "id": "ebe7e200",
   "metadata": {
    "id": "ebe7e200",
    "outputId": "b857b8b2-ec67-4583-888c-5a8cb1e015de"
   },
   "outputs": [
    {
     "data": {
      "text/html": [
       "<div>\n",
       "<style scoped>\n",
       "    .dataframe tbody tr th:only-of-type {\n",
       "        vertical-align: middle;\n",
       "    }\n",
       "\n",
       "    .dataframe tbody tr th {\n",
       "        vertical-align: top;\n",
       "    }\n",
       "\n",
       "    .dataframe thead th {\n",
       "        text-align: right;\n",
       "    }\n",
       "</style>\n",
       "<table border=\"1\" class=\"dataframe\">\n",
       "  <thead>\n",
       "    <tr style=\"text-align: right;\">\n",
       "      <th></th>\n",
       "      <th>Colorado</th>\n",
       "      <th>Texas</th>\n",
       "      <th>New York</th>\n",
       "      <th>Ohio</th>\n",
       "    </tr>\n",
       "  </thead>\n",
       "  <tbody>\n",
       "    <tr>\n",
       "      <th>2000-01-05</th>\n",
       "      <td>-1.047179</td>\n",
       "      <td>2.017577</td>\n",
       "      <td>-0.334957</td>\n",
       "      <td>-0.149904</td>\n",
       "    </tr>\n",
       "    <tr>\n",
       "      <th>2000-01-12</th>\n",
       "      <td>0.337033</td>\n",
       "      <td>-1.041140</td>\n",
       "      <td>-1.719794</td>\n",
       "      <td>-1.763963</td>\n",
       "    </tr>\n",
       "  </tbody>\n",
       "</table>\n",
       "</div>"
      ],
      "text/plain": [
       "            Colorado     Texas  New York      Ohio\n",
       "2000-01-05 -1.047179  2.017577 -0.334957 -0.149904\n",
       "2000-01-12  0.337033 -1.041140 -1.719794 -1.763963"
      ]
     },
     "execution_count": 15,
     "metadata": {},
     "output_type": "execute_result"
    }
   ],
   "source": [
    "frame = pd.DataFrame(np.random.randn(2,4),\n",
    "                    index=pd.date_range('1/1/2000',periods=2,\n",
    "                                       freq='W-WED'),\n",
    "                    columns=['Colorado','Texas','New York','Ohio'])\n",
    "frame"
   ]
  },
  {
   "cell_type": "code",
   "execution_count": null,
   "id": "7c630149",
   "metadata": {
    "id": "7c630149",
    "outputId": "9ade3c70-ef60-4f7e-99cb-b8d52c07838c"
   },
   "outputs": [
    {
     "data": {
      "text/html": [
       "<div>\n",
       "<style scoped>\n",
       "    .dataframe tbody tr th:only-of-type {\n",
       "        vertical-align: middle;\n",
       "    }\n",
       "\n",
       "    .dataframe tbody tr th {\n",
       "        vertical-align: top;\n",
       "    }\n",
       "\n",
       "    .dataframe thead th {\n",
       "        text-align: right;\n",
       "    }\n",
       "</style>\n",
       "<table border=\"1\" class=\"dataframe\">\n",
       "  <thead>\n",
       "    <tr style=\"text-align: right;\">\n",
       "      <th></th>\n",
       "      <th>Colorado</th>\n",
       "      <th>Texas</th>\n",
       "      <th>New York</th>\n",
       "      <th>Ohio</th>\n",
       "    </tr>\n",
       "  </thead>\n",
       "  <tbody>\n",
       "    <tr>\n",
       "      <th>2000-01-05</th>\n",
       "      <td>-1.047179</td>\n",
       "      <td>2.017577</td>\n",
       "      <td>-0.334957</td>\n",
       "      <td>-0.149904</td>\n",
       "    </tr>\n",
       "    <tr>\n",
       "      <th>2000-01-06</th>\n",
       "      <td>NaN</td>\n",
       "      <td>NaN</td>\n",
       "      <td>NaN</td>\n",
       "      <td>NaN</td>\n",
       "    </tr>\n",
       "    <tr>\n",
       "      <th>2000-01-07</th>\n",
       "      <td>NaN</td>\n",
       "      <td>NaN</td>\n",
       "      <td>NaN</td>\n",
       "      <td>NaN</td>\n",
       "    </tr>\n",
       "    <tr>\n",
       "      <th>2000-01-08</th>\n",
       "      <td>NaN</td>\n",
       "      <td>NaN</td>\n",
       "      <td>NaN</td>\n",
       "      <td>NaN</td>\n",
       "    </tr>\n",
       "    <tr>\n",
       "      <th>2000-01-09</th>\n",
       "      <td>NaN</td>\n",
       "      <td>NaN</td>\n",
       "      <td>NaN</td>\n",
       "      <td>NaN</td>\n",
       "    </tr>\n",
       "    <tr>\n",
       "      <th>2000-01-10</th>\n",
       "      <td>NaN</td>\n",
       "      <td>NaN</td>\n",
       "      <td>NaN</td>\n",
       "      <td>NaN</td>\n",
       "    </tr>\n",
       "    <tr>\n",
       "      <th>2000-01-11</th>\n",
       "      <td>NaN</td>\n",
       "      <td>NaN</td>\n",
       "      <td>NaN</td>\n",
       "      <td>NaN</td>\n",
       "    </tr>\n",
       "    <tr>\n",
       "      <th>2000-01-12</th>\n",
       "      <td>0.337033</td>\n",
       "      <td>-1.041140</td>\n",
       "      <td>-1.719794</td>\n",
       "      <td>-1.763963</td>\n",
       "    </tr>\n",
       "  </tbody>\n",
       "</table>\n",
       "</div>"
      ],
      "text/plain": [
       "            Colorado     Texas  New York      Ohio\n",
       "2000-01-05 -1.047179  2.017577 -0.334957 -0.149904\n",
       "2000-01-06       NaN       NaN       NaN       NaN\n",
       "2000-01-07       NaN       NaN       NaN       NaN\n",
       "2000-01-08       NaN       NaN       NaN       NaN\n",
       "2000-01-09       NaN       NaN       NaN       NaN\n",
       "2000-01-10       NaN       NaN       NaN       NaN\n",
       "2000-01-11       NaN       NaN       NaN       NaN\n",
       "2000-01-12  0.337033 -1.041140 -1.719794 -1.763963"
      ]
     },
     "execution_count": 16,
     "metadata": {},
     "output_type": "execute_result"
    }
   ],
   "source": [
    "df_daily = frame.resample('D').asfreq()\n",
    "df_daily"
   ]
  },
  {
   "cell_type": "code",
   "execution_count": null,
   "id": "8a3fd60c",
   "metadata": {
    "id": "8a3fd60c",
    "outputId": "1a649c2c-69f9-48d0-eb7e-6a604786538b"
   },
   "outputs": [
    {
     "data": {
      "text/html": [
       "<div>\n",
       "<style scoped>\n",
       "    .dataframe tbody tr th:only-of-type {\n",
       "        vertical-align: middle;\n",
       "    }\n",
       "\n",
       "    .dataframe tbody tr th {\n",
       "        vertical-align: top;\n",
       "    }\n",
       "\n",
       "    .dataframe thead th {\n",
       "        text-align: right;\n",
       "    }\n",
       "</style>\n",
       "<table border=\"1\" class=\"dataframe\">\n",
       "  <thead>\n",
       "    <tr style=\"text-align: right;\">\n",
       "      <th></th>\n",
       "      <th>Colorado</th>\n",
       "      <th>Texas</th>\n",
       "      <th>New York</th>\n",
       "      <th>Ohio</th>\n",
       "    </tr>\n",
       "  </thead>\n",
       "  <tbody>\n",
       "    <tr>\n",
       "      <th>2000-01-05</th>\n",
       "      <td>-1.047179</td>\n",
       "      <td>2.017577</td>\n",
       "      <td>-0.334957</td>\n",
       "      <td>-0.149904</td>\n",
       "    </tr>\n",
       "    <tr>\n",
       "      <th>2000-01-06</th>\n",
       "      <td>-1.047179</td>\n",
       "      <td>2.017577</td>\n",
       "      <td>-0.334957</td>\n",
       "      <td>-0.149904</td>\n",
       "    </tr>\n",
       "    <tr>\n",
       "      <th>2000-01-07</th>\n",
       "      <td>-1.047179</td>\n",
       "      <td>2.017577</td>\n",
       "      <td>-0.334957</td>\n",
       "      <td>-0.149904</td>\n",
       "    </tr>\n",
       "    <tr>\n",
       "      <th>2000-01-08</th>\n",
       "      <td>-1.047179</td>\n",
       "      <td>2.017577</td>\n",
       "      <td>-0.334957</td>\n",
       "      <td>-0.149904</td>\n",
       "    </tr>\n",
       "    <tr>\n",
       "      <th>2000-01-09</th>\n",
       "      <td>-1.047179</td>\n",
       "      <td>2.017577</td>\n",
       "      <td>-0.334957</td>\n",
       "      <td>-0.149904</td>\n",
       "    </tr>\n",
       "    <tr>\n",
       "      <th>2000-01-10</th>\n",
       "      <td>-1.047179</td>\n",
       "      <td>2.017577</td>\n",
       "      <td>-0.334957</td>\n",
       "      <td>-0.149904</td>\n",
       "    </tr>\n",
       "    <tr>\n",
       "      <th>2000-01-11</th>\n",
       "      <td>-1.047179</td>\n",
       "      <td>2.017577</td>\n",
       "      <td>-0.334957</td>\n",
       "      <td>-0.149904</td>\n",
       "    </tr>\n",
       "    <tr>\n",
       "      <th>2000-01-12</th>\n",
       "      <td>0.337033</td>\n",
       "      <td>-1.041140</td>\n",
       "      <td>-1.719794</td>\n",
       "      <td>-1.763963</td>\n",
       "    </tr>\n",
       "  </tbody>\n",
       "</table>\n",
       "</div>"
      ],
      "text/plain": [
       "            Colorado     Texas  New York      Ohio\n",
       "2000-01-05 -1.047179  2.017577 -0.334957 -0.149904\n",
       "2000-01-06 -1.047179  2.017577 -0.334957 -0.149904\n",
       "2000-01-07 -1.047179  2.017577 -0.334957 -0.149904\n",
       "2000-01-08 -1.047179  2.017577 -0.334957 -0.149904\n",
       "2000-01-09 -1.047179  2.017577 -0.334957 -0.149904\n",
       "2000-01-10 -1.047179  2.017577 -0.334957 -0.149904\n",
       "2000-01-11 -1.047179  2.017577 -0.334957 -0.149904\n",
       "2000-01-12  0.337033 -1.041140 -1.719794 -1.763963"
      ]
     },
     "execution_count": 17,
     "metadata": {},
     "output_type": "execute_result"
    }
   ],
   "source": [
    "frame.resample('D').ffill()"
   ]
  },
  {
   "cell_type": "code",
   "execution_count": null,
   "id": "521f9b59",
   "metadata": {
    "id": "521f9b59",
    "outputId": "c8121dce-2b11-4f68-e38b-e8771d88327d"
   },
   "outputs": [
    {
     "data": {
      "text/html": [
       "<div>\n",
       "<style scoped>\n",
       "    .dataframe tbody tr th:only-of-type {\n",
       "        vertical-align: middle;\n",
       "    }\n",
       "\n",
       "    .dataframe tbody tr th {\n",
       "        vertical-align: top;\n",
       "    }\n",
       "\n",
       "    .dataframe thead th {\n",
       "        text-align: right;\n",
       "    }\n",
       "</style>\n",
       "<table border=\"1\" class=\"dataframe\">\n",
       "  <thead>\n",
       "    <tr style=\"text-align: right;\">\n",
       "      <th></th>\n",
       "      <th>Colorado</th>\n",
       "      <th>Texas</th>\n",
       "      <th>New York</th>\n",
       "      <th>Ohio</th>\n",
       "    </tr>\n",
       "  </thead>\n",
       "  <tbody>\n",
       "    <tr>\n",
       "      <th>2000-01-05</th>\n",
       "      <td>-1.047179</td>\n",
       "      <td>2.017577</td>\n",
       "      <td>-0.334957</td>\n",
       "      <td>-0.149904</td>\n",
       "    </tr>\n",
       "    <tr>\n",
       "      <th>2000-01-06</th>\n",
       "      <td>-1.047179</td>\n",
       "      <td>2.017577</td>\n",
       "      <td>-0.334957</td>\n",
       "      <td>-0.149904</td>\n",
       "    </tr>\n",
       "    <tr>\n",
       "      <th>2000-01-07</th>\n",
       "      <td>-1.047179</td>\n",
       "      <td>2.017577</td>\n",
       "      <td>-0.334957</td>\n",
       "      <td>-0.149904</td>\n",
       "    </tr>\n",
       "    <tr>\n",
       "      <th>2000-01-08</th>\n",
       "      <td>NaN</td>\n",
       "      <td>NaN</td>\n",
       "      <td>NaN</td>\n",
       "      <td>NaN</td>\n",
       "    </tr>\n",
       "    <tr>\n",
       "      <th>2000-01-09</th>\n",
       "      <td>NaN</td>\n",
       "      <td>NaN</td>\n",
       "      <td>NaN</td>\n",
       "      <td>NaN</td>\n",
       "    </tr>\n",
       "    <tr>\n",
       "      <th>2000-01-10</th>\n",
       "      <td>NaN</td>\n",
       "      <td>NaN</td>\n",
       "      <td>NaN</td>\n",
       "      <td>NaN</td>\n",
       "    </tr>\n",
       "    <tr>\n",
       "      <th>2000-01-11</th>\n",
       "      <td>NaN</td>\n",
       "      <td>NaN</td>\n",
       "      <td>NaN</td>\n",
       "      <td>NaN</td>\n",
       "    </tr>\n",
       "    <tr>\n",
       "      <th>2000-01-12</th>\n",
       "      <td>0.337033</td>\n",
       "      <td>-1.041140</td>\n",
       "      <td>-1.719794</td>\n",
       "      <td>-1.763963</td>\n",
       "    </tr>\n",
       "  </tbody>\n",
       "</table>\n",
       "</div>"
      ],
      "text/plain": [
       "            Colorado     Texas  New York      Ohio\n",
       "2000-01-05 -1.047179  2.017577 -0.334957 -0.149904\n",
       "2000-01-06 -1.047179  2.017577 -0.334957 -0.149904\n",
       "2000-01-07 -1.047179  2.017577 -0.334957 -0.149904\n",
       "2000-01-08       NaN       NaN       NaN       NaN\n",
       "2000-01-09       NaN       NaN       NaN       NaN\n",
       "2000-01-10       NaN       NaN       NaN       NaN\n",
       "2000-01-11       NaN       NaN       NaN       NaN\n",
       "2000-01-12  0.337033 -1.041140 -1.719794 -1.763963"
      ]
     },
     "execution_count": 18,
     "metadata": {},
     "output_type": "execute_result"
    }
   ],
   "source": [
    "frame.resample('D').ffill(limit=2)"
   ]
  }
 ],
 "metadata": {
  "colab": {
   "provenance": []
  },
  "kernelspec": {
   "display_name": "Python 3 (ipykernel)",
   "language": "python",
   "name": "python3"
  },
  "language_info": {
   "codemirror_mode": {
    "name": "ipython",
    "version": 3
   },
   "file_extension": ".py",
   "mimetype": "text/x-python",
   "name": "python",
   "nbconvert_exporter": "python",
   "pygments_lexer": "ipython3",
   "version": "3.10.13"
  }
 },
 "nbformat": 4,
 "nbformat_minor": 5
}
