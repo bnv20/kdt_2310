{
 "cells": [
  {
   "cell_type": "markdown",
   "metadata": {},
   "source": [
    "행렬곱을 지원하는 numpy 함수에는 dot과 matmul이 있고, 둘의 행렬곱 결과는 항상 동일하나\n",
    "3차원 이상의 행렬끼리 곱할 때는 서로 다른 결과를 보여줌\n",
    "- numpy.dot은 두 배열의 내적곱(dot product)인 반면 numpy matmul은 두 배열의 행렬곱(matrix product)\n",
    "- a가 N차원 배열이고 b가 2이상의 M차원 배열이라면, dot(a,b)는 a의 마지막 축과 b의 뒤에서 두번째 축과의 내적으로 계산"
   ]
  },
  {
   "cell_type": "markdown",
   "metadata": {},
   "source": [
    "dot과 matmul 계산방식\n",
    "\n",
    "<img src = '행렬곱함수.jpg' STYLE = 'width:500px;'>"
   ]
  },
  {
   "cell_type": "code",
   "execution_count": 7,
   "metadata": {},
   "outputs": [
    {
     "data": {
      "text/plain": [
       "array([[[ 0,  1,  2,  3],\n",
       "        [ 4,  5,  6,  7],\n",
       "        [ 8,  9, 10, 11]],\n",
       "\n",
       "       [[12, 13, 14, 15],\n",
       "        [16, 17, 18, 19],\n",
       "        [20, 21, 22, 23]]])"
      ]
     },
     "execution_count": 7,
     "metadata": {},
     "output_type": "execute_result"
    }
   ],
   "source": [
    "import numpy as np\n",
    "a = np.arange(2*3*4).reshape((2,3,4))\n",
    "a"
   ]
  },
  {
   "cell_type": "code",
   "execution_count": 10,
   "metadata": {},
   "outputs": [
    {
     "data": {
      "text/plain": [
       "array([[[ 0,  1,  2],\n",
       "        [ 3,  4,  5],\n",
       "        [ 6,  7,  8],\n",
       "        [ 9, 10, 11]],\n",
       "\n",
       "       [[12, 13, 14],\n",
       "        [15, 16, 17],\n",
       "        [18, 19, 20],\n",
       "        [21, 22, 23]]])"
      ]
     },
     "execution_count": 10,
     "metadata": {},
     "output_type": "execute_result"
    }
   ],
   "source": [
    "b2 = np.arange(2*3*4).reshape((2,4,3))\n",
    "b4 = np.arange(2*3*4).reshape((3,4,2))\n",
    "b2"
   ]
  },
  {
   "cell_type": "code",
   "execution_count": 14,
   "metadata": {},
   "outputs": [
    {
     "data": {
      "text/plain": [
       "array([[[[  42,   48,   54],\n",
       "         [ 114,  120,  126]],\n",
       "\n",
       "        [[ 114,  136,  158],\n",
       "         [ 378,  400,  422]],\n",
       "\n",
       "        [[ 186,  224,  262],\n",
       "         [ 642,  680,  718]]],\n",
       "\n",
       "\n",
       "       [[[ 258,  312,  366],\n",
       "         [ 906,  960, 1014]],\n",
       "\n",
       "        [[ 330,  400,  470],\n",
       "         [1170, 1240, 1310]],\n",
       "\n",
       "        [[ 402,  488,  574],\n",
       "         [1434, 1520, 1606]]]])"
      ]
     },
     "execution_count": 14,
     "metadata": {},
     "output_type": "execute_result"
    }
   ],
   "source": [
    "# a의 마지막 축과 b의 뒤에서 두번째 축과의 내적으로 계산\n",
    "np.dot(a,b2)\n",
    "# np.dot(a,b4)"
   ]
  },
  {
   "cell_type": "code",
   "execution_count": 12,
   "metadata": {},
   "outputs": [
    {
     "data": {
      "text/plain": [
       "array([[[  42,   48,   54],\n",
       "        [ 114,  136,  158],\n",
       "        [ 186,  224,  262]],\n",
       "\n",
       "       [[ 906,  960, 1014],\n",
       "        [1170, 1240, 1310],\n",
       "        [1434, 1520, 1606]]])"
      ]
     },
     "execution_count": 12,
     "metadata": {},
     "output_type": "execute_result"
    }
   ],
   "source": [
    "# 각 텐서의 끝에서 2개의 축이 서로 행렬곱 가능한 경우만 matmul이 계산\n",
    "# 배열 B의 차원이 (5,2,4,3)인 경우, (4x3)행렬을 (5x2)개수만큼 갖는다고 간주\n",
    "# 배열 C의 차원이 (1,5,3,2,4,6)이라고 한다면, (4x6)행렬을 (1x5x3x2)만큼 갖고 있다는 의미\n",
    "np.matmul(a,b2)\n"
   ]
  },
  {
   "cell_type": "code",
   "execution_count": 13,
   "metadata": {},
   "outputs": [
    {
     "ename": "ValueError",
     "evalue": "operands could not be broadcast together with remapped shapes [original->remapped]: (2,3,4)->(2,newaxis,newaxis) (3,4,2)->(3,newaxis,newaxis) and requested shape (3,2)",
     "output_type": "error",
     "traceback": [
      "\u001b[1;31m---------------------------------------------------------------------------\u001b[0m",
      "\u001b[1;31mValueError\u001b[0m                                Traceback (most recent call last)",
      "\u001b[1;32m<ipython-input-13-3027602ecd45>\u001b[0m in \u001b[0;36m<module>\u001b[1;34m\u001b[0m\n\u001b[1;32m----> 1\u001b[1;33m \u001b[0mnp\u001b[0m\u001b[1;33m.\u001b[0m\u001b[0mmatmul\u001b[0m\u001b[1;33m(\u001b[0m\u001b[0ma\u001b[0m\u001b[1;33m,\u001b[0m\u001b[0mb4\u001b[0m\u001b[1;33m)\u001b[0m\u001b[1;33m\u001b[0m\u001b[1;33m\u001b[0m\u001b[0m\n\u001b[0m",
      "\u001b[1;31mValueError\u001b[0m: operands could not be broadcast together with remapped shapes [original->remapped]: (2,3,4)->(2,newaxis,newaxis) (3,4,2)->(3,newaxis,newaxis) and requested shape (3,2)"
     ]
    }
   ],
   "source": [
    "np.matmul(a,b4)"
   ]
  }
 ],
 "metadata": {
  "kernelspec": {
   "display_name": "Python 3 (ipykernel)",
   "language": "python",
   "name": "python3"
  },
  "language_info": {
   "codemirror_mode": {
    "name": "ipython",
    "version": 3
   },
   "file_extension": ".py",
   "mimetype": "text/x-python",
   "name": "python",
   "nbconvert_exporter": "python",
   "pygments_lexer": "ipython3",
   "version": "3.8.13"
  }
 },
 "nbformat": 4,
 "nbformat_minor": 4
}
