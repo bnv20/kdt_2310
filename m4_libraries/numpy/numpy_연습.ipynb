{
 "cells": [
  {
   "cell_type": "code",
   "execution_count": 2,
   "metadata": {},
   "outputs": [
    {
     "name": "stdout",
     "output_type": "stream",
     "text": [
      "[0 1 2 3 4 5 6 7 8 9]\n",
      "[[0 1 2 3 4]\n",
      " [5 6 7 8 9]]\n",
      "[[[0 1 2 3 4]\n",
      "  [5 6 7 8 9]]]\n"
     ]
    }
   ],
   "source": [
    "# Q1. arange(), reshape() 이용 1차원 2차원 3차원 배열 생성\n",
    "# A.\n",
    "import numpy as np\n",
    "ar = np.arange(10)\n",
    "ar1 = ar.reshape(-1,)\n",
    "ar2 = ar.reshape(2,-1)\n",
    "ar3 = ar.reshape(-1,2,5)\n",
    "print(ar1)\n",
    "print(ar2)\n",
    "print(ar3)"
   ]
  },
  {
   "cell_type": "code",
   "execution_count": 3,
   "metadata": {},
   "outputs": [
    {
     "name": "stdout",
     "output_type": "stream",
     "text": [
      "[[0 1 2 3 4]\n",
      " [5 6 7 8 9]]\n",
      "[[[0 1 2 3 4]\n",
      "  [5 6 7 8 9]]]\n",
      "\n",
      "[0 1 2 3 4 5 6 7 8 9]\n",
      "[[[0 1 2 3 4]\n",
      "  [5 6 7 8 9]]]\n",
      "\n",
      "[0 1 2 3 4 5 6 7 8 9]\n",
      "[[0 1 2 3 4]\n",
      " [5 6 7 8 9]]\n"
     ]
    }
   ],
   "source": [
    "# 리스트와 모습은 거의 비슷하지만 튜플에서는 리스트와 다른 2가지 차이점을 찾아볼 수 있다. \n",
    "# t2 = (1,)처럼 단지 1개의 요소만을 가질 때는 요소 뒤에 콤마(,)를 반드시 붙여야 한다는 것과 \n",
    "# t4 = 1, 2, 3처럼 괄호( )를 생략해도 무방하다는 점이다.\n",
    "# Q2. reshape(-1,-1)을 이용 1차원을 2차원, 3차원으로 2차원을 1차원 3차원으로 3차원을 1차원 2차원으로 변환\n",
    "# 1 -> 2,3 차원\n",
    "# A.\n",
    "ar12 = ar1.reshape(2,-1)\n",
    "ar13 = ar1.reshape(-1,2,5)\n",
    "print(ar12)\n",
    "print(ar13)\n",
    "print()\n",
    "ar21 = ar2.reshape(-1,)\n",
    "ar23 = ar2.reshape(-1,2,5)\n",
    "print(ar21)\n",
    "print(ar23)\n",
    "print()\n",
    "ar31 = ar3.reshape(-1,)\n",
    "ar32 = ar3.reshape(2,-1)\n",
    "print(ar31)\n",
    "print(ar32)"
   ]
  },
  {
   "cell_type": "code",
   "execution_count": 3,
   "metadata": {},
   "outputs": [
    {
     "name": "stdout",
     "output_type": "stream",
     "text": [
      "[0. 1. 2. 3. 4. 5. 6. 7. 8. 9.] float64\n"
     ]
    }
   ],
   "source": [
    "# Q3. 1차원 배열을 실수형으로 변환\n",
    "# Q4. 1차원 배열의 dtype을 확인\n",
    "# A.\n",
    "ar1_float = ar1.astype('float64')\n",
    "print(ar1_float, ar1_float.dtype)"
   ]
  },
  {
   "cell_type": "code",
   "execution_count": 4,
   "metadata": {},
   "outputs": [
    {
     "name": "stdout",
     "output_type": "stream",
     "text": [
      "array1 : 1차원, array2 : 2차원, array3 : 3차원\n"
     ]
    }
   ],
   "source": [
    "# Q5. str.format을 사용하여 출력\n",
    "# A.\n",
    "print(\"array1 : {}차원, array2 : {}차원, array3 : {}차원\".format(ar1.ndim,ar2.ndim,ar3.ndim))"
   ]
  },
  {
   "cell_type": "code",
   "execution_count": 5,
   "metadata": {},
   "outputs": [],
   "source": [
    "# Q. array2d에서 슬라이싱을 사용해서 아래와 같이 출력하세요.\n",
    "array1d = np.arange(1,10)\n",
    "array2d = array1d.reshape(3,3)"
   ]
  },
  {
   "cell_type": "code",
   "execution_count": 6,
   "metadata": {},
   "outputs": [
    {
     "name": "stdout",
     "output_type": "stream",
     "text": [
      "array2d[0:2, 0:2] \n",
      " [[1 2]\n",
      " [4 5]]\n",
      "\n",
      "array2d[1:3, 0:3] \n",
      " [[4 5 6]\n",
      " [7 8 9]]\n",
      "array2d[1:3, :] \n",
      " [[4 5 6]\n",
      " [7 8 9]]\n",
      "\n",
      "array2d[:, :] \n",
      " [[1 2 3]\n",
      " [4 5 6]\n",
      " [7 8 9]]\n",
      "\n",
      "array2d[:2, 1:] \n",
      " [[2 3]\n",
      " [5 6]]\n",
      "\n",
      "array2d[:2, 0] \n",
      " [1 4]\n"
     ]
    }
   ],
   "source": [
    "# A.\n",
    "print('array2d[0:2, 0:2] \\n', array2d[0:2, 0:2])\n",
    "print()\n",
    "print('array2d[1:3, 0:3] \\n', array2d[1:3, 0:3])\n",
    "print('array2d[1:3, :] \\n', array2d[1:3, :])\n",
    "print()\n",
    "print('array2d[:, :] \\n', array2d[:, :])\n",
    "print()\n",
    "print('array2d[:2, 1:] \\n', array2d[:2, 1:])\n",
    "print()\n",
    "print('array2d[:2, 0] \\n', array2d[:2, 0])"
   ]
  },
  {
   "cell_type": "code",
   "execution_count": 7,
   "metadata": {},
   "outputs": [
    {
     "data": {
      "text/plain": [
       "array([ 0,  3,  6,  9, 12, 15, 18, 21, 24, 27, 30, 33, 36, 39, 42, 45, 48,\n",
       "       51, 54, 57, 60, 63, 66, 69, 72, 75, 78, 81, 84, 87, 90, 93, 96, 99])"
      ]
     },
     "execution_count": 7,
     "metadata": {},
     "output_type": "execute_result"
    }
   ],
   "source": [
    "# Q. 1 ~ 100 까지 배열에서 3의 배수인 것만을 출력\n",
    "# A.\n",
    "a1 = np.arange(100)\n",
    "a2 = a1[a1 % 3 ==0]\n",
    "a2"
   ]
  },
  {
   "cell_type": "code",
   "execution_count": 11,
   "metadata": {},
   "outputs": [
    {
     "data": {
      "text/plain": [
       "array([ 0, 10, 20, 30, 40, 50, 60, 70, 80, 90])"
      ]
     },
     "execution_count": 11,
     "metadata": {},
     "output_type": "execute_result"
    }
   ],
   "source": [
    "# Q. 1 ~ 100 까지 배열에서 5의 배수이면서 2의 배수인 것만을 출력\n",
    "# A.\n",
    "import numpy as np\n",
    "a1 = np.arange(100)\n",
    "a1 = a1[(a1 % 5 ==0) & (a1 % 2==0)]\n",
    "a1"
   ]
  },
  {
   "cell_type": "code",
   "execution_count": 2,
   "metadata": {},
   "outputs": [
    {
     "data": {
      "text/plain": [
       "array([ 0,  3,  5,  6,  9, 10, 12, 15, 18, 20, 21, 24, 25, 27, 30, 33, 35,\n",
       "       36, 39, 40, 42, 45, 48, 50, 51, 54, 55, 57, 60, 63, 65, 66, 69, 70,\n",
       "       72, 75, 78, 80, 81, 84, 85, 87, 90, 93, 95, 96, 99])"
      ]
     },
     "execution_count": 2,
     "metadata": {},
     "output_type": "execute_result"
    }
   ],
   "source": [
    "# Q. 1 ~ 100 까지 배열에서 3의 배수이거나 5의 배수인 것만을 출력\n",
    "# A.\n",
    "import numpy as np\n",
    "a1 = np.arange(100)\n",
    "# print(a1)\n",
    "        \n",
    "a1 = a1[(a1 % 3 ==0) | (a1 % 5==0)]\n",
    "a1"
   ]
  },
  {
   "cell_type": "code",
   "execution_count": 17,
   "metadata": {},
   "outputs": [
    {
     "name": "stdout",
     "output_type": "stream",
     "text": [
      "[[46 45 36]\n",
      " [49 45 48]\n",
      " [40 30 32]]\n"
     ]
    }
   ],
   "source": [
    "# Q. (3,3) 25 ~ 50 정수\n",
    "# A. \n",
    "a1 = np.random.randint(25,51, size=(3,3))\n",
    "print(a1)"
   ]
  },
  {
   "cell_type": "code",
   "execution_count": 18,
   "metadata": {},
   "outputs": [
    {
     "name": "stdout",
     "output_type": "stream",
     "text": [
      "[[103 133 105 112 150]\n",
      " [102 149 148 139 105]]\n",
      "[[103 102]\n",
      " [133 149]\n",
      " [105 148]\n",
      " [112 139]\n",
      " [150 105]]\n"
     ]
    }
   ],
   "source": [
    "# Q. (2,5) 101 ~ 150 정수, 전치\n",
    "# A. \n",
    "a1 = np.random.randint(101,151, size=(2,5))\n",
    "print(a1)\n",
    "print()\n",
    "a1_t=np.transpose(a1)\n",
    "print(a1_t)"
   ]
  },
  {
   "cell_type": "code",
   "execution_count": 22,
   "metadata": {},
   "outputs": [
    {
     "name": "stdout",
     "output_type": "stream",
     "text": [
      "[[ 4  3  4  1 10]\n",
      " [ 6  2  3  0  4]\n",
      " [ 2  0  5 10  7]\n",
      " [ 8  0  1  0 10]\n",
      " [ 1 10  4  7  1]]\n",
      "역행렬\n",
      "[[-0.15148862  0.14404553  0.00350263  0.08975482  0.01663748]\n",
      " [ 0.02864648 -0.06398549 -0.07580686  0.03959219  0.10420315]\n",
      " [ 0.14110583  0.27870903  0.05454091 -0.28096072 -0.09807356]\n",
      " [-0.11521141 -0.06798849  0.07780836  0.08312484  0.04816112]\n",
      " [ 0.10708031 -0.14310733 -0.00825619  0.05629222 -0.00350263]]\n",
      "행렬곱\n",
      "[[ 1.00000000e+00 -5.55111512e-17  8.32667268e-17 -8.32667268e-17\n",
      "  -2.86229374e-17]\n",
      " [ 5.55111512e-17  1.00000000e+00  6.93889390e-17 -5.55111512e-17\n",
      "  -8.67361738e-18]\n",
      " [ 0.00000000e+00 -1.94289029e-16  1.00000000e+00  4.16333634e-17\n",
      "   1.25767452e-17]\n",
      " [ 0.00000000e+00 -5.55111512e-17  0.00000000e+00  1.00000000e+00\n",
      "   6.07153217e-18]\n",
      " [ 0.00000000e+00  2.77555756e-17  2.77555756e-17 -5.55111512e-17\n",
      "   1.00000000e+00]]\n"
     ]
    }
   ],
   "source": [
    "# Q. (5,5) 0 ~ 10 정수, 역행렬\n",
    "# A. \n",
    "a1 = np.random.randint(11, size=(5,5))\n",
    "print(a1)\n",
    "print(\"역행렬\")\n",
    "a1_r=np.linalg.inv(a1)\n",
    "print(a1_r)\n",
    "print(\"행렬곱\")\n",
    "a2 = np.dot(a1,a1_r)\n",
    "print(a2)"
   ]
  },
  {
   "cell_type": "code",
   "execution_count": 23,
   "metadata": {},
   "outputs": [
    {
     "name": "stdout",
     "output_type": "stream",
     "text": [
      "[ 6  0 10  1 10]\n"
     ]
    }
   ],
   "source": [
    "# Q. 1차원(원소 5개) 배열 0 ~ 10 정수\n",
    "# A. \n",
    "a1 = np.random.randint(11, size=5)\n",
    "print(a1)"
   ]
  },
  {
   "cell_type": "code",
   "execution_count": 43,
   "metadata": {},
   "outputs": [
    {
     "data": {
      "text/plain": [
       "24"
      ]
     },
     "execution_count": 43,
     "metadata": {},
     "output_type": "execute_result"
    }
   ],
   "source": [
    "# Q. 숫자 1개 21 ~ 30 정수\n",
    "# A. \n",
    "a1 = np.random.randint(21,31)\n",
    "a1"
   ]
  },
  {
   "cell_type": "code",
   "execution_count": 24,
   "metadata": {},
   "outputs": [
    {
     "data": {
      "text/plain": [
       "array([[0.38983835, 0.25604378, 0.9809063 , 0.01059412, 0.91351844],\n",
       "       [0.12829813, 0.51142517, 0.90952071, 0.6508317 , 0.86937023],\n",
       "       [0.07855542, 0.53135805, 0.64167161, 0.65361591, 0.78147322],\n",
       "       [0.45467658, 0.5127654 , 0.81074851, 0.1592577 , 0.56160498],\n",
       "       [0.51692401, 0.84829973, 0.3112478 , 0.85201577, 0.0062655 ]])"
      ]
     },
     "execution_count": 24,
     "metadata": {},
     "output_type": "execute_result"
    }
   ],
   "source": [
    "# Q. 0~1사이의 균일분포 (5,5)\n",
    "# A.\n",
    "np.random.rand(5,5)"
   ]
  },
  {
   "cell_type": "code",
   "execution_count": 25,
   "metadata": {},
   "outputs": [
    {
     "data": {
      "text/plain": [
       "array([[-0.67438951, -0.76790889,  0.60799196, -1.30982941, -0.10489588],\n",
       "       [-0.72727038, -0.13315122,  0.72299444,  0.6969418 ,  0.7078546 ],\n",
       "       [ 0.30958247, -1.69086529, -1.57674654,  0.03943237,  0.9291706 ],\n",
       "       [-0.1928844 , -0.729683  , -0.59722681,  0.46095317,  0.74749329],\n",
       "       [-1.00720995,  0.42918588,  0.49333145,  0.81548307,  1.17492998]])"
      ]
     },
     "execution_count": 25,
     "metadata": {},
     "output_type": "execute_result"
    }
   ],
   "source": [
    "# Q. 표준정규분포 (5,5)\n",
    "# A.\n",
    "np.random.randn(5,5)"
   ]
  },
  {
   "cell_type": "code",
   "execution_count": null,
   "metadata": {},
   "outputs": [],
   "source": [
    "# Q. 1 ~ 100 까지 배열에서 3의 배수인 것만을 출력"
   ]
  },
  {
   "cell_type": "code",
   "execution_count": 6,
   "metadata": {},
   "outputs": [
    {
     "data": {
      "text/plain": [
       "array([ 3,  6,  9, 12, 15, 18, 21, 24, 27, 30, 33, 36, 39, 42, 45, 48, 51,\n",
       "       54, 57, 60, 63, 66, 69, 72, 75, 78, 81, 84, 87, 90, 93, 96, 99])"
      ]
     },
     "execution_count": 6,
     "metadata": {},
     "output_type": "execute_result"
    }
   ],
   "source": [
    "ar = np.arange(1,101)\n",
    "ar3 = ar[ar % 3 == 0]\n",
    "ar3"
   ]
  },
  {
   "cell_type": "code",
   "execution_count": null,
   "metadata": {},
   "outputs": [],
   "source": [
    "# Q. 1 ~ 100 까지 배열에서 3의 배수이거나 5의 배수인 것만을 출력"
   ]
  },
  {
   "cell_type": "code",
   "execution_count": 8,
   "metadata": {},
   "outputs": [
    {
     "data": {
      "text/plain": [
       "array([  3,   5,   6,   9,  10,  12,  15,  18,  20,  21,  24,  25,  27,\n",
       "        30,  33,  35,  36,  39,  40,  42,  45,  48,  50,  51,  54,  55,\n",
       "        57,  60,  63,  65,  66,  69,  70,  72,  75,  78,  80,  81,  84,\n",
       "        85,  87,  90,  93,  95,  96,  99, 100])"
      ]
     },
     "execution_count": 8,
     "metadata": {},
     "output_type": "execute_result"
    }
   ],
   "source": [
    "ar35 = ar[(ar % 3==0)|(ar%5==0)]\n",
    "ar35"
   ]
  },
  {
   "cell_type": "code",
   "execution_count": null,
   "metadata": {},
   "outputs": [],
   "source": [
    "# Q. 배열 a를 아래와 같이 생성하세요\n",
    "array([[[ 0,  1,  2,  3],\n",
    "        [ 4,  5,  6,  7],\n",
    "        [ 8,  9, 10, 11]],\n",
    "\n",
    "       [[12, 13, 14, 15],\n",
    "        [16, 17, 18, 19],\n",
    "        [20, 21, 22, 23]]])"
   ]
  },
  {
   "cell_type": "code",
   "execution_count": 9,
   "metadata": {},
   "outputs": [
    {
     "data": {
      "text/plain": [
       "array([[[ 0,  1,  2,  3],\n",
       "        [ 4,  5,  6,  7],\n",
       "        [ 8,  9, 10, 11]],\n",
       "\n",
       "       [[12, 13, 14, 15],\n",
       "        [16, 17, 18, 19],\n",
       "        [20, 21, 22, 23]]])"
      ]
     },
     "execution_count": 9,
     "metadata": {},
     "output_type": "execute_result"
    }
   ],
   "source": [
    "np.arange(24).reshape(2,3,4)"
   ]
  },
  {
   "cell_type": "code",
   "execution_count": null,
   "metadata": {},
   "outputs": [],
   "source": [
    "# Q. 101 ~ 150 사이의 정수를 랜덤하게 추출, 2행 5열 다차원 배열을 생성 후 전치하세요"
   ]
  },
  {
   "cell_type": "code",
   "execution_count": 11,
   "metadata": {},
   "outputs": [
    {
     "data": {
      "text/plain": [
       "array([[119, 147],\n",
       "       [113, 138],\n",
       "       [122, 136],\n",
       "       [124, 132],\n",
       "       [127, 124]])"
      ]
     },
     "execution_count": 11,
     "metadata": {},
     "output_type": "execute_result"
    }
   ],
   "source": [
    "a = np.random.randint(101,150,size=(2,5))\n",
    "a.T"
   ]
  },
  {
   "cell_type": "code",
   "execution_count": null,
   "metadata": {},
   "outputs": [],
   "source": [
    "# Q. 표준정규분포로 구성된 5행 5열 다차원 배열을 생성하세요."
   ]
  },
  {
   "cell_type": "code",
   "execution_count": 12,
   "metadata": {},
   "outputs": [
    {
     "data": {
      "text/plain": [
       "array([[ 0.32785633,  0.27749804,  0.15834877, -0.28587712,  0.93372636],\n",
       "       [ 1.44292084, -0.95943154,  0.9752299 , -0.56722888,  1.56207088],\n",
       "       [-1.48271023, -0.4584417 , -0.81152504, -1.27758423, -0.97172465],\n",
       "       [ 1.80132015,  0.65404691,  0.61579908, -0.0574461 , -0.16835022],\n",
       "       [-0.5702344 ,  0.62892388,  1.57414859,  1.53375544, -0.09736572]])"
      ]
     },
     "execution_count": 12,
     "metadata": {},
     "output_type": "execute_result"
    }
   ],
   "source": [
    "np.random.randn(5,5)"
   ]
  }
 ],
 "metadata": {
  "kernelspec": {
   "display_name": "Python 3 (ipykernel)",
   "language": "python",
   "name": "python3"
  },
  "language_info": {
   "codemirror_mode": {
    "name": "ipython",
    "version": 3
   },
   "file_extension": ".py",
   "mimetype": "text/x-python",
   "name": "python",
   "nbconvert_exporter": "python",
   "pygments_lexer": "ipython3",
   "version": "3.8.13"
  }
 },
 "nbformat": 4,
 "nbformat_minor": 4
}
